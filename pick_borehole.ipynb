{
 "cells": [
  {
   "cell_type": "markdown",
   "metadata": {
    "id": "2C2Ea8e39oRo",
    "toc": true
   },
   "source": [
    "<h1>Содержание<span class=\"tocSkip\"></span></h1>\n",
    "<div class=\"toc\"><ul class=\"toc-item\"><li><ul class=\"toc-item\"><li><span><a href=\"#-Комментарий-ревьюера-v2\" data-toc-modified-id=\"-Комментарий-ревьюера-v2-0.1\"><span class=\"toc-item-num\">0.1&nbsp;&nbsp;</span> Комментарий ревьюера v2</a></span></li></ul></li><li><span><a href=\"#Описание-данных\" data-toc-modified-id=\"Описание-данных-1\"><span class=\"toc-item-num\">1&nbsp;&nbsp;</span>Описание данных</a></span></li><li><span><a href=\"#Подготовка-данных\" data-toc-modified-id=\"Подготовка-данных-2\"><span class=\"toc-item-num\">2&nbsp;&nbsp;</span>Подготовка данных</a></span><ul class=\"toc-item\"><li><span><a href=\"#-Комментарий-ревьюера-v1\" data-toc-modified-id=\"-Комментарий-ревьюера-v1-2.1\"><span class=\"toc-item-num\">2.1&nbsp;&nbsp;</span> Комментарий ревьюера v1</a></span></li><li><span><a href=\"#-Комментарий-ревьюера-v1\" data-toc-modified-id=\"-Комментарий-ревьюера-v1-2.2\"><span class=\"toc-item-num\">2.2&nbsp;&nbsp;</span> Комментарий ревьюера v1</a></span></li></ul></li><li><span><a href=\"#Анализ-данных\" data-toc-modified-id=\"Анализ-данных-3\"><span class=\"toc-item-num\">3&nbsp;&nbsp;</span>Анализ данных</a></span><ul class=\"toc-item\"><li><span><a href=\"#-Комментарий-ревьюера-v1\" data-toc-modified-id=\"-Комментарий-ревьюера-v1-3.1\"><span class=\"toc-item-num\">3.1&nbsp;&nbsp;</span> Комментарий ревьюера v1</a></span></li><li><span><a href=\"#-Комментарий-ревьюера-v1\" data-toc-modified-id=\"-Комментарий-ревьюера-v1-3.2\"><span class=\"toc-item-num\">3.2&nbsp;&nbsp;</span> Комментарий ревьюера v1</a></span></li><li><span><a href=\"#-Комментарий-ревьюера-v1\" data-toc-modified-id=\"-Комментарий-ревьюера-v1-3.3\"><span class=\"toc-item-num\">3.3&nbsp;&nbsp;</span> Комментарий ревьюера v1</a></span></li></ul></li><li><span><a href=\"#Модель\" data-toc-modified-id=\"Модель-4\"><span class=\"toc-item-num\">4&nbsp;&nbsp;</span>Модель</a></span><ul class=\"toc-item\"><li><span><a href=\"#-Комментарий-ревьюера-v1\" data-toc-modified-id=\"-Комментарий-ревьюера-v1-4.1\"><span class=\"toc-item-num\">4.1&nbsp;&nbsp;</span> Комментарий ревьюера v1</a></span></li><li><span><a href=\"#-Комментарий-ревьюера-v1\" data-toc-modified-id=\"-Комментарий-ревьюера-v1-4.2\"><span class=\"toc-item-num\">4.2&nbsp;&nbsp;</span> Комментарий ревьюера v1</a></span></li><li><span><a href=\"#-Комментарий-ревьюера-v1\" data-toc-modified-id=\"-Комментарий-ревьюера-v1-4.3\"><span class=\"toc-item-num\">4.3&nbsp;&nbsp;</span> Комментарий ревьюера v1</a></span></li><li><span><a href=\"#-Комментарий-ревьюера-v1\" data-toc-modified-id=\"-Комментарий-ревьюера-v1-4.4\"><span class=\"toc-item-num\">4.4&nbsp;&nbsp;</span> Комментарий ревьюера v1</a></span></li><li><span><a href=\"#-Комментарий-ревьюера-v1\" data-toc-modified-id=\"-Комментарий-ревьюера-v1-4.5\"><span class=\"toc-item-num\">4.5&nbsp;&nbsp;</span> Комментарий ревьюера v1</a></span></li><li><span><a href=\"#-Комментарий-ревьюера-v1\" data-toc-modified-id=\"-Комментарий-ревьюера-v1-4.6\"><span class=\"toc-item-num\">4.6&nbsp;&nbsp;</span> Комментарий ревьюера v1</a></span></li></ul></li><li><span><a href=\"#Чек-лист-готовности-проекта\" data-toc-modified-id=\"Чек-лист-готовности-проекта-5\"><span class=\"toc-item-num\">5&nbsp;&nbsp;</span>Чек-лист готовности проекта</a></span><ul class=\"toc-item\"><li><span><a href=\"#-Итоговый-комментарий\" data-toc-modified-id=\"-Итоговый-комментарий-5.1\"><span class=\"toc-item-num\">5.1&nbsp;&nbsp;</span> Итоговый комментарий</a></span></li></ul></li></ul></div>"
   ]
  },
  {
   "cell_type": "markdown",
   "metadata": {
    "id": "kOAnEi489oRp"
   },
   "source": [
    "# Восстановление золота из руды"
   ]
  },
  {
   "cell_type": "markdown",
   "metadata": {
    "id": "tqn12qvG9oRp"
   },
   "source": [
    "Подготовьте прототип модели машинного обучения для «Цифры». Компания разрабатывает решения для эффективной работы промышленных предприятий.\n",
    "\n",
    "Модель должна предсказать коэффициент восстановления золота из золотосодержащей руды. Используйте данные с параметрами добычи и очистки. \n",
    "\n",
    "Модель поможет оптимизировать производство, чтобы не запускать предприятие с убыточными характеристиками.\n",
    "\n",
    "**План работы:**\n",
    "\n",
    "1. Подготовить данные;\n",
    "2. Провести исследовательский анализ данных;\n",
    "3. Построить и обучить модель.\n",
    "\n"
   ]
  },
  {
   "cell_type": "markdown",
   "metadata": {
    "id": "rEXplow29oRq"
   },
   "source": [
    "**Метрика качества**\n",
    "\n",
    "Для решения задачи введём новую метрику качества — sMAPE (англ. Symmetric Mean Absolute Percentage Error, «симметричное среднее абсолютное процентное отклонение»).\n",
    "\n",
    "Метрика sMAPE вычисляется так:"
   ]
  },
  {
   "cell_type": "markdown",
   "metadata": {},
   "source": [
    "$$ sMAPE = \\frac{1}{N} \\sum^{n}_{i=1}\\frac{|y_i-\\hat{y_i}|}{(|y_i|-|\\hat{y_i}|)/2} *100$$"
   ]
  },
  {
   "cell_type": "markdown",
   "metadata": {
    "id": "rqoKp8xH9oRr"
   },
   "source": [
    "Нужно спрогнозировать сразу две величины:\n",
    "    \n",
    "* эффективность обогащения чернового концентрата `rougher.output.recovery`\n",
    "* эффективность обогащения финального концентрата `final.output.recovery`\n",
    "\n",
    "Итоговая метрика складывается из двух величин:"
   ]
  },
  {
   "cell_type": "markdown",
   "metadata": {},
   "source": [
    "$$ Итоговое\\ sMAPE = \\text{25% * sMAPE(roughter) + 75% * sMAPE(final)} $$"
   ]
  },
  {
   "cell_type": "markdown",
   "metadata": {
    "id": "pyBxSESr9oRs"
   },
   "source": [
    "## Описание данных\n",
    "\n",
    "\n",
    "**Технологический процесс**\n",
    "\n",
    "* Rougher feed — исходное сырье\n",
    "* Rougher additions (или reagent additions) — флотационные реагенты: Xanthate, Sulphate, Depressant\n",
    "* Xanthate **— ксантогенат (промотер, или активатор флотации);\n",
    "* Sulphate — сульфат (на данном производстве сульфид натрия);\n",
    "* Depressant — депрессант (силикат натрия).\n",
    "* Rougher process (англ. «грубый процесс») — флотация\n",
    "* Rougher tails — отвальные хвосты\n",
    "* Float banks — флотационная установка\n",
    "* Cleaner process — очистка\n",
    "* Rougher Au — черновой концентрат золота\n",
    "* Final Au — финальный концентрат золота\n",
    "\n",
    "\n",
    "**Параметры этапов**\n",
    "\n",
    "* air amount — объём воздуха\n",
    "* fluid levels — уровень жидкости\n",
    "* feed size — размер гранул сырья\n",
    "* feed rate — скорость подачи\n",
    "\n",
    "\n",
    "**Наименование признаков**\n",
    "\n",
    "Наименование признаков должно быть такое:`[этап].[тип_параметра].[название_параметра]`\n",
    "Возможные значения для блока `[этап]`:\n",
    "* rougher — флотация\n",
    "* primary_cleaner — первичная очистка\n",
    "* secondary_cleaner — вторичная очистка\n",
    "* final — финальные характеристики\n",
    "\n",
    "Возможные значения для блока `[тип_параметра]`\n",
    "* input — параметры сырья\n",
    "* output — параметры продукта\n",
    "* state — параметры, характеризующие текущее состояние этапа\n",
    "* calculation — расчётные характеристики"
   ]
  },
  {
   "cell_type": "code",
   "execution_count": 56,
   "metadata": {
    "id": "Kaw9P_9_DFbk"
   },
   "outputs": [],
   "source": [
    "# pip install catboost "
   ]
  },
  {
   "cell_type": "code",
   "execution_count": 57,
   "metadata": {
    "id": "Z6oj-Zz09oRt"
   },
   "outputs": [],
   "source": [
    "import pandas as pd\n",
    "pd.options.mode.chained_assignment = None\n",
    "import numpy as np\n",
    "import matplotlib.pyplot as plt\n",
    "import seaborn as sns\n",
    "from sklearn.metrics import mean_absolute_error, accuracy_score\n",
    "from sklearn.preprocessing import StandardScaler\n",
    "from sklearn.model_selection import train_test_split, cross_val_score\n",
    "from sklearn.linear_model import LinearRegression\n",
    "from sklearn.ensemble import RandomForestRegressor\n",
    "from sklearn.tree import DecisionTreeRegressor\n",
    "from catboost import CatBoostRegressor\n",
    "from sklearn.dummy import DummyRegressor\n"
   ]
  },
  {
   "cell_type": "code",
   "execution_count": 58,
   "metadata": {
    "id": "jxxPgoba9oRu"
   },
   "outputs": [],
   "source": [
    "# train = pd.read_csv('/datasets/gold_recovery_train_new.csv')\n",
    "# test = pd.read_csv('/datasets/gold_recovery_test_new.csv')\n",
    "# full = pd.read_csv('/datasets/gold_recovery_full_new.csv')\n",
    "\n",
    "train = pd.read_csv('/content/gold_recovery_train_new.csv')\n",
    "test = pd.read_csv('/content/gold_recovery_test_new.csv')\n",
    "full = pd.read_csv('/content/gold_recovery_full_new.csv')\n",
    "\n",
    "\n"
   ]
  },
  {
   "cell_type": "code",
   "execution_count": 59,
   "metadata": {
    "colab": {
     "base_uri": "https://localhost:8080/"
    },
    "id": "tOhDwZYM9oRu",
    "outputId": "d5a42f13-8ad3-4d24-d37a-fb58fb00503b"
   },
   "outputs": [
    {
     "name": "stdout",
     "output_type": "stream",
     "text": [
      "<class 'pandas.core.frame.DataFrame'>\n",
      "RangeIndex: 19439 entries, 0 to 19438\n",
      "Data columns (total 87 columns):\n",
      " #   Column                                              Non-Null Count  Dtype  \n",
      "---  ------                                              --------------  -----  \n",
      " 0   date                                                19439 non-null  object \n",
      " 1   final.output.concentrate_ag                         19438 non-null  float64\n",
      " 2   final.output.concentrate_pb                         19438 non-null  float64\n",
      " 3   final.output.concentrate_sol                        19228 non-null  float64\n",
      " 4   final.output.concentrate_au                         19439 non-null  float64\n",
      " 5   final.output.recovery                               19439 non-null  float64\n",
      " 6   final.output.tail_ag                                19438 non-null  float64\n",
      " 7   final.output.tail_pb                                19338 non-null  float64\n",
      " 8   final.output.tail_sol                               19433 non-null  float64\n",
      " 9   final.output.tail_au                                19439 non-null  float64\n",
      " 10  primary_cleaner.input.sulfate                       19415 non-null  float64\n",
      " 11  primary_cleaner.input.depressant                    19402 non-null  float64\n",
      " 12  primary_cleaner.input.feed_size                     19439 non-null  float64\n",
      " 13  primary_cleaner.input.xanthate                      19335 non-null  float64\n",
      " 14  primary_cleaner.output.concentrate_ag               19439 non-null  float64\n",
      " 15  primary_cleaner.output.concentrate_pb               19323 non-null  float64\n",
      " 16  primary_cleaner.output.concentrate_sol              19069 non-null  float64\n",
      " 17  primary_cleaner.output.concentrate_au               19439 non-null  float64\n",
      " 18  primary_cleaner.output.tail_ag                      19435 non-null  float64\n",
      " 19  primary_cleaner.output.tail_pb                      19418 non-null  float64\n",
      " 20  primary_cleaner.output.tail_sol                     19377 non-null  float64\n",
      " 21  primary_cleaner.output.tail_au                      19439 non-null  float64\n",
      " 22  primary_cleaner.state.floatbank8_a_air              19435 non-null  float64\n",
      " 23  primary_cleaner.state.floatbank8_a_level            19438 non-null  float64\n",
      " 24  primary_cleaner.state.floatbank8_b_air              19435 non-null  float64\n",
      " 25  primary_cleaner.state.floatbank8_b_level            19438 non-null  float64\n",
      " 26  primary_cleaner.state.floatbank8_c_air              19437 non-null  float64\n",
      " 27  primary_cleaner.state.floatbank8_c_level            19438 non-null  float64\n",
      " 28  primary_cleaner.state.floatbank8_d_air              19436 non-null  float64\n",
      " 29  primary_cleaner.state.floatbank8_d_level            19438 non-null  float64\n",
      " 30  rougher.calculation.sulfate_to_au_concentrate       19437 non-null  float64\n",
      " 31  rougher.calculation.floatbank10_sulfate_to_au_feed  19437 non-null  float64\n",
      " 32  rougher.calculation.floatbank11_sulfate_to_au_feed  19437 non-null  float64\n",
      " 33  rougher.calculation.au_pb_ratio                     19439 non-null  float64\n",
      " 34  rougher.input.feed_ag                               19439 non-null  float64\n",
      " 35  rougher.input.feed_pb                               19339 non-null  float64\n",
      " 36  rougher.input.feed_rate                             19428 non-null  float64\n",
      " 37  rougher.input.feed_size                             19294 non-null  float64\n",
      " 38  rougher.input.feed_sol                              19340 non-null  float64\n",
      " 39  rougher.input.feed_au                               19439 non-null  float64\n",
      " 40  rougher.input.floatbank10_sulfate                   19405 non-null  float64\n",
      " 41  rougher.input.floatbank10_xanthate                  19431 non-null  float64\n",
      " 42  rougher.input.floatbank11_sulfate                   19395 non-null  float64\n",
      " 43  rougher.input.floatbank11_xanthate                  18986 non-null  float64\n",
      " 44  rougher.output.concentrate_ag                       19439 non-null  float64\n",
      " 45  rougher.output.concentrate_pb                       19439 non-null  float64\n",
      " 46  rougher.output.concentrate_sol                      19416 non-null  float64\n",
      " 47  rougher.output.concentrate_au                       19439 non-null  float64\n",
      " 48  rougher.output.recovery                             19439 non-null  float64\n",
      " 49  rougher.output.tail_ag                              19438 non-null  float64\n",
      " 50  rougher.output.tail_pb                              19439 non-null  float64\n",
      " 51  rougher.output.tail_sol                             19439 non-null  float64\n",
      " 52  rougher.output.tail_au                              19439 non-null  float64\n",
      " 53  rougher.state.floatbank10_a_air                     19438 non-null  float64\n",
      " 54  rougher.state.floatbank10_a_level                   19438 non-null  float64\n",
      " 55  rougher.state.floatbank10_b_air                     19438 non-null  float64\n",
      " 56  rougher.state.floatbank10_b_level                   19438 non-null  float64\n",
      " 57  rougher.state.floatbank10_c_air                     19438 non-null  float64\n",
      " 58  rougher.state.floatbank10_c_level                   19438 non-null  float64\n",
      " 59  rougher.state.floatbank10_d_air                     19439 non-null  float64\n",
      " 60  rougher.state.floatbank10_d_level                   19439 non-null  float64\n",
      " 61  rougher.state.floatbank10_e_air                     19003 non-null  float64\n",
      " 62  rougher.state.floatbank10_e_level                   19439 non-null  float64\n",
      " 63  rougher.state.floatbank10_f_air                     19439 non-null  float64\n",
      " 64  rougher.state.floatbank10_f_level                   19439 non-null  float64\n",
      " 65  secondary_cleaner.output.tail_ag                    19437 non-null  float64\n",
      " 66  secondary_cleaner.output.tail_pb                    19427 non-null  float64\n",
      " 67  secondary_cleaner.output.tail_sol                   17691 non-null  float64\n",
      " 68  secondary_cleaner.output.tail_au                    19439 non-null  float64\n",
      " 69  secondary_cleaner.state.floatbank2_a_air            19219 non-null  float64\n",
      " 70  secondary_cleaner.state.floatbank2_a_level          19438 non-null  float64\n",
      " 71  secondary_cleaner.state.floatbank2_b_air            19416 non-null  float64\n",
      " 72  secondary_cleaner.state.floatbank2_b_level          19438 non-null  float64\n",
      " 73  secondary_cleaner.state.floatbank3_a_air            19426 non-null  float64\n",
      " 74  secondary_cleaner.state.floatbank3_a_level          19438 non-null  float64\n",
      " 75  secondary_cleaner.state.floatbank3_b_air            19438 non-null  float64\n",
      " 76  secondary_cleaner.state.floatbank3_b_level          19438 non-null  float64\n",
      " 77  secondary_cleaner.state.floatbank4_a_air            19433 non-null  float64\n",
      " 78  secondary_cleaner.state.floatbank4_a_level          19438 non-null  float64\n",
      " 79  secondary_cleaner.state.floatbank4_b_air            19438 non-null  float64\n",
      " 80  secondary_cleaner.state.floatbank4_b_level          19438 non-null  float64\n",
      " 81  secondary_cleaner.state.floatbank5_a_air            19438 non-null  float64\n",
      " 82  secondary_cleaner.state.floatbank5_a_level          19438 non-null  float64\n",
      " 83  secondary_cleaner.state.floatbank5_b_air            19438 non-null  float64\n",
      " 84  secondary_cleaner.state.floatbank5_b_level          19438 non-null  float64\n",
      " 85  secondary_cleaner.state.floatbank6_a_air            19437 non-null  float64\n",
      " 86  secondary_cleaner.state.floatbank6_a_level          19438 non-null  float64\n",
      "dtypes: float64(86), object(1)\n",
      "memory usage: 12.9+ MB\n"
     ]
    }
   ],
   "source": [
    "full.info()"
   ]
  },
  {
   "cell_type": "markdown",
   "metadata": {
    "id": "qf7TzUOY9oRv"
   },
   "source": [
    "В рамках подготовки данных нам необходимо проверить формулу вычисления эффективности обогащения. Формула выглядит так:\n",
    "\n",
    "`recovery = ((C * (F - T)) / (F * (C - T))) * 100%`\n",
    "\n",
    "где:\n",
    "\n",
    "* C — доля золота в концентрате после флотации/очистки;\n",
    "* F — доля золота в сырье/концентрате до флотации/очистки;\n",
    "* T — доля золота в отвальных хвостах после флотации/очистки.\n",
    "\n",
    "Основываясь на полученных от компании данных, необходимые нам признаки для проверки формулы это:\n",
    "\n",
    "* rougher.output.concentrate_au (С)\n",
    "* rougher.input.feed_au (F)\n",
    "* rougher.output.tail_au (T)\n",
    "\n",
    "А сам результат работы формулы находится здесь:\n",
    "\n",
    "* rougher.output.recovery\n",
    "\n",
    "Проверим, что эффективность обогащения рассчитана правильно. Вычислим её на обучающей выборке для признака `rougher.output.recovery`. Найдем MAE между нашими расчётами и значением признака.\n",
    "\n",
    "Создадим новый столбец с результатом вычисления эффективности обогащения по формуле."
   ]
  },
  {
   "cell_type": "markdown",
   "metadata": {
    "id": "gxaAeSIF9oRv"
   },
   "source": [
    "## Подготовка данных"
   ]
  },
  {
   "cell_type": "code",
   "execution_count": 60,
   "metadata": {
    "id": "ezOM5OM-9oRv"
   },
   "outputs": [],
   "source": [
    "# Избавимся от пропусков в столбце rougher.output.recovery\n",
    "train.dropna(subset = ['rougher.output.recovery'], inplace = True)"
   ]
  },
  {
   "cell_type": "code",
   "execution_count": 61,
   "metadata": {
    "id": "lGcEVjbF9oRw"
   },
   "outputs": [],
   "source": [
    "C = train['rougher.output.concentrate_au']\n",
    "F = train['rougher.input.feed_au']\n",
    "T = train['rougher.output.tail_au']"
   ]
  },
  {
   "cell_type": "code",
   "execution_count": 62,
   "metadata": {
    "id": "q7EmIu1F9oRw"
   },
   "outputs": [],
   "source": [
    "calculation = ((C * (F - T)) / (F * (C - T))) * 100"
   ]
  },
  {
   "cell_type": "markdown",
   "metadata": {
    "id": "dcbhaX4X9oRw"
   },
   "source": [
    "Построим гистограмму для сравнения рассчетов"
   ]
  },
  {
   "cell_type": "code",
   "execution_count": 63,
   "metadata": {
    "colab": {
     "base_uri": "https://localhost:8080/",
     "height": 286
    },
    "id": "PALv-c8j9oRw",
    "outputId": "ad4dfbec-7650-41b6-924d-3c1ec653207a"
   },
   "outputs": [
    {
     "data": {
      "text/plain": [
       "<matplotlib.axes._subplots.AxesSubplot at 0x7fd29921cf50>"
      ]
     },
     "execution_count": 63,
     "metadata": {},
     "output_type": "execute_result"
    },
    {
     "data": {
      "image/png": "[encoded data removed]",
      "text/plain": [
       "<Figure size 432x288 with 1 Axes>"
      ]
     },
     "metadata": {
      "needs_background": "light"
     },
     "output_type": "display_data"
    }
   ],
   "source": [
    "calculation.hist(bins=100, alpha=1)"
   ]
  },
  {
   "cell_type": "code",
   "execution_count": 64,
   "metadata": {
    "colab": {
     "base_uri": "https://localhost:8080/",
     "height": 286
    },
    "id": "iuE-ep-j9oRx",
    "outputId": "ccd17e21-0439-4653-df4f-c3bbcddcedbe"
   },
   "outputs": [
    {
     "data": {
      "text/plain": [
       "<matplotlib.axes._subplots.AxesSubplot at 0x7fd299011110>"
      ]
     },
     "execution_count": 64,
     "metadata": {},
     "output_type": "execute_result"
    },
    {
     "data": {
      "image/png": "[encoded data removed]",
      "text/plain": [
       "<Figure size 432x288 with 1 Axes>"
      ]
     },
     "metadata": {
      "needs_background": "light"
     },
     "output_type": "display_data"
    }
   ],
   "source": [
    "train['rougher.output.recovery'].hist(bins=100)"
   ]
  },
  {
   "cell_type": "markdown",
   "metadata": {
    "id": "TNboY8_49oRx"
   },
   "source": [
    "Графики идентичные, что говорить о том что рассчеты верны.\n",
    "\n",
    "Произведем рассчеты MAE "
   ]
  },
  {
   "cell_type": "code",
   "execution_count": 65,
   "metadata": {
    "colab": {
     "base_uri": "https://localhost:8080/"
    },
    "id": "_33rTR7t9oRx",
    "outputId": "2aea0c35-46ca-4ffd-fd9f-f2df79769488"
   },
   "outputs": [
    {
     "name": "stdout",
     "output_type": "stream",
     "text": [
      "MAE 9.73512347450521e-15\n"
     ]
    }
   ],
   "source": [
    "print('MAE', mean_absolute_error(calculation, train['rougher.output.recovery']))"
   ]
  },
  {
   "cell_type": "markdown",
   "metadata": {
    "id": "zoJM3Bxb9oR0"
   },
   "source": [
    "Среднее обсалютное отклонеие очень мало, данные действительно почти не различаются, рассчеты верны."
   ]
  },
  {
   "cell_type": "code",
   "execution_count": 66,
   "metadata": {
    "colab": {
     "base_uri": "https://localhost:8080/"
    },
    "id": "Mk4vQCRY9oR1",
    "outputId": "9ff84bae-9ca4-4f32-d38d-19791567a328"
   },
   "outputs": [
    {
     "name": "stdout",
     "output_type": "stream",
     "text": [
      "(14149, 87)\n",
      "(5290, 53)\n"
     ]
    }
   ],
   "source": [
    "# Сравним выборки.\n",
    "print(train.shape)\n",
    "print(test.shape)"
   ]
  },
  {
   "cell_type": "markdown",
   "metadata": {
    "id": "e9lK3BJ-9oR2"
   },
   "source": [
    "В обучающей выборке больше признаков чем в тестовой, изучим недостающие признаки."
   ]
  },
  {
   "cell_type": "code",
   "execution_count": 67,
   "metadata": {
    "colab": {
     "base_uri": "https://localhost:8080/"
    },
    "id": "10VpUnvL9oR2",
    "outputId": "b9490e19-cdc4-4e6f-9ced-b0c9fda75872"
   },
   "outputs": [
    {
     "data": {
      "text/plain": [
       "Index(['final.output.concentrate_ag', 'final.output.concentrate_pb',\n",
       "       'final.output.concentrate_sol', 'final.output.concentrate_au',\n",
       "       'final.output.recovery', 'final.output.tail_ag', 'final.output.tail_pb',\n",
       "       'final.output.tail_sol', 'final.output.tail_au',\n",
       "       'primary_cleaner.output.concentrate_ag',\n",
       "       'primary_cleaner.output.concentrate_pb',\n",
       "       'primary_cleaner.output.concentrate_sol',\n",
       "       'primary_cleaner.output.concentrate_au',\n",
       "       'primary_cleaner.output.tail_ag', 'primary_cleaner.output.tail_pb',\n",
       "       'primary_cleaner.output.tail_sol', 'primary_cleaner.output.tail_au',\n",
       "       'rougher.calculation.sulfate_to_au_concentrate',\n",
       "       'rougher.calculation.floatbank10_sulfate_to_au_feed',\n",
       "       'rougher.calculation.floatbank11_sulfate_to_au_feed',\n",
       "       'rougher.calculation.au_pb_ratio', 'rougher.output.concentrate_ag',\n",
       "       'rougher.output.concentrate_pb', 'rougher.output.concentrate_sol',\n",
       "       'rougher.output.concentrate_au', 'rougher.output.recovery',\n",
       "       'rougher.output.tail_ag', 'rougher.output.tail_pb',\n",
       "       'rougher.output.tail_sol', 'rougher.output.tail_au',\n",
       "       'secondary_cleaner.output.tail_ag', 'secondary_cleaner.output.tail_pb',\n",
       "       'secondary_cleaner.output.tail_sol',\n",
       "       'secondary_cleaner.output.tail_au'],\n",
       "      dtype='object')"
      ]
     },
     "execution_count": 67,
     "metadata": {},
     "output_type": "execute_result"
    }
   ],
   "source": [
    "missing_column = train.columns.drop(test.columns)\n",
    "missing_column"
   ]
  },
  {
   "cell_type": "markdown",
   "metadata": {
    "id": "TmLM_lhl9oR2"
   },
   "source": [
    "По сути это целвые признаки. Это концентрация различных веществ на выходе после отчистки, а также доля веществ в отвальных хвостах."
   ]
  },
  {
   "cell_type": "markdown",
   "metadata": {
    "id": "t5tR67Rn9oR2"
   },
   "source": [
    "Получается что у нас есть 53 признака ( те что в `test`) и нам нужны 2 целевых признака `rougher.output.recovery`, `final.output.recovery`\n",
    "\n",
    "Далее уберем целевые признаки из обучающей выборки и добавим их в тестовую."
   ]
  },
  {
   "cell_type": "code",
   "execution_count": 68,
   "metadata": {
    "id": "XGmA7JeW9oR3"
   },
   "outputs": [],
   "source": [
    "col_missing_column = missing_column.drop(['rougher.output.recovery', 'final.output.recovery'])\n",
    "right_cols = train.columns.drop(col_missing_column)\n",
    "train = train[right_cols]"
   ]
  },
  {
   "cell_type": "markdown",
   "metadata": {
    "id": "cnB5txsr9oR3"
   },
   "source": [
    "Тепер подготовим тестовую выборку. Будем использовать столбец `date` как индекс."
   ]
  },
  {
   "cell_type": "code",
   "execution_count": 69,
   "metadata": {
    "id": "SYB9YeV29oR3"
   },
   "outputs": [],
   "source": [
    "target_to_join = full[['date', 'final.output.recovery', 'rougher.output.recovery']].copy()"
   ]
  },
  {
   "cell_type": "code",
   "execution_count": 70,
   "metadata": {
    "id": "mnqKW--A9oR3"
   },
   "outputs": [],
   "source": [
    "test = test.join(target_to_join.set_index('date'), on='date')"
   ]
  },
  {
   "cell_type": "markdown",
   "metadata": {
    "id": "fcxui2td9oR3"
   },
   "source": [
    "Проверим на пропуски в целевых признаках."
   ]
  },
  {
   "cell_type": "code",
   "execution_count": 71,
   "metadata": {
    "colab": {
     "base_uri": "https://localhost:8080/"
    },
    "id": "mx_M29kv9oR4",
    "outputId": "3de8a58f-60e6-4bd4-db8f-7b6af7a9764f"
   },
   "outputs": [
    {
     "data": {
      "text/plain": [
       "False    5290\n",
       "Name: final.output.recovery, dtype: int64"
      ]
     },
     "execution_count": 71,
     "metadata": {},
     "output_type": "execute_result"
    }
   ],
   "source": [
    "test['final.output.recovery'].isna().value_counts()"
   ]
  },
  {
   "cell_type": "code",
   "execution_count": 72,
   "metadata": {
    "colab": {
     "base_uri": "https://localhost:8080/"
    },
    "id": "hm0rtCup9oR4",
    "outputId": "30813d1e-3cc5-41c6-8094-9ae8771cc5eb"
   },
   "outputs": [
    {
     "data": {
      "text/plain": [
       "False    14149\n",
       "Name: final.output.recovery, dtype: int64"
      ]
     },
     "execution_count": 72,
     "metadata": {},
     "output_type": "execute_result"
    }
   ],
   "source": [
    "train['final.output.recovery'].isna().value_counts()"
   ]
  },
  {
   "cell_type": "code",
   "execution_count": 73,
   "metadata": {
    "colab": {
     "base_uri": "https://localhost:8080/"
    },
    "id": "rBhPW4Vn9oR4",
    "outputId": "c1e9d799-18eb-4813-87f0-1e838d60e2dc"
   },
   "outputs": [
    {
     "data": {
      "text/plain": [
       "False    14149\n",
       "Name: rougher.output.recovery, dtype: int64"
      ]
     },
     "execution_count": 73,
     "metadata": {},
     "output_type": "execute_result"
    }
   ],
   "source": [
    "train['rougher.output.recovery'].isna().value_counts()"
   ]
  },
  {
   "cell_type": "code",
   "execution_count": 74,
   "metadata": {
    "colab": {
     "base_uri": "https://localhost:8080/"
    },
    "id": "es1PepS69oR4",
    "outputId": "cb55a8d6-07fd-45a8-b7b6-d862e5ea2c59"
   },
   "outputs": [
    {
     "data": {
      "text/plain": [
       "False    5290\n",
       "Name: rougher.output.recovery, dtype: int64"
      ]
     },
     "execution_count": 74,
     "metadata": {},
     "output_type": "execute_result"
    }
   ],
   "source": [
    "test['rougher.output.recovery'].isna().value_counts()"
   ]
  },
  {
   "cell_type": "markdown",
   "metadata": {
    "id": "Y6SOsiVe9oR5"
   },
   "source": [
    "Пропуски в целевых признаках отсутсвуют."
   ]
  },
  {
   "cell_type": "code",
   "execution_count": 75,
   "metadata": {
    "id": "vUR9FFHP9oR5"
   },
   "outputs": [],
   "source": [
    "test.reset_index(drop=True, inplace=True)\n",
    "train.reset_index(drop=True, inplace=True)"
   ]
  },
  {
   "cell_type": "code",
   "execution_count": 76,
   "metadata": {
    "colab": {
     "base_uri": "https://localhost:8080/"
    },
    "id": "hTZhsePh9oR5",
    "outputId": "a158c062-f533-4af2-f0e8-b9dc4d5ebaa8"
   },
   "outputs": [
    {
     "name": "stdout",
     "output_type": "stream",
     "text": [
      "(5290, 55)\n",
      "(14149, 55)\n"
     ]
    }
   ],
   "source": [
    "print(test.shape)\n",
    "print(train.shape)"
   ]
  },
  {
   "cell_type": "markdown",
   "metadata": {
    "id": "7rxoWkAs9oR5"
   },
   "source": [
    "## Анализ данных"
   ]
  },
  {
   "cell_type": "markdown",
   "metadata": {
    "id": "quRA8TAy9oR5"
   },
   "source": [
    "Посмотрим, как меняется концентрация металлов (Au, Ag, Pb) на различных этапах очистки."
   ]
  },
  {
   "cell_type": "code",
   "execution_count": 77,
   "metadata": {
    "id": "goRlewbe9oR5"
   },
   "outputs": [],
   "source": [
    "#Золото\n",
    "au_data = (full[[\n",
    "    'rougher.input.feed_au', \n",
    "    'rougher.output.concentrate_au', \n",
    "    'primary_cleaner.output.concentrate_au', \n",
    "    'final.output.concentrate_au']].copy())"
   ]
  },
  {
   "cell_type": "code",
   "execution_count": 78,
   "metadata": {
    "id": "In7uRG809oR5"
   },
   "outputs": [],
   "source": [
    "# Серебро \n",
    "\n",
    "ag_data = (full[[\n",
    "    'rougher.input.feed_ag', \n",
    "    'rougher.output.concentrate_ag', \n",
    "    'primary_cleaner.output.concentrate_ag', \n",
    "    'final.output.concentrate_ag']].copy())"
   ]
  },
  {
   "cell_type": "code",
   "execution_count": 79,
   "metadata": {
    "id": "i17oPPLb9oR6"
   },
   "outputs": [],
   "source": [
    "#Cвинeц\n",
    "pb_data = (full[[\n",
    "    'rougher.input.feed_pb', \n",
    "    'rougher.output.concentrate_pb', \n",
    "    'primary_cleaner.output.concentrate_pb', \n",
    "    'final.output.concentrate_pb']].copy())"
   ]
  },
  {
   "cell_type": "code",
   "execution_count": 80,
   "metadata": {
    "id": "FA-oyd2c9oR6"
   },
   "outputs": [],
   "source": [
    "# Напишем функцию которая будет строить графики всех четырех столбцов на одном графике\n",
    "def draw_graph(data, title):\n",
    "    fig, ax = plt.subplots(figsize=(12,6))\n",
    "    ax.set_ylabel('Кол-во наблюдений')\n",
    "    ax.set_xlabel('Концентрация металла')\n",
    "    ax.set_title(title)\n",
    "    for col in data:\n",
    "        data[col].hist(alpha=.3) \n",
    "        ax.legend(['Исходное сырье','Флотация','Первичная очистка', 'Вторичная очистка'])"
   ]
  },
  {
   "cell_type": "code",
   "execution_count": 81,
   "metadata": {
    "colab": {
     "base_uri": "https://localhost:8080/",
     "height": 404
    },
    "id": "G3Mf-bzi9oR6",
    "outputId": "61e1f64e-fd76-459d-bf90-2bb809359047",
    "scrolled": false
   },
   "outputs": [
    {
     "data": {
      "image/png": "[encoded data removed]",
      "text/plain": [
       "<Figure size 864x432 with 1 Axes>"
      ]
     },
     "metadata": {
      "needs_background": "light"
     },
     "output_type": "display_data"
    }
   ],
   "source": [
    "draw_graph(au_data, 'Золото')"
   ]
  },
  {
   "cell_type": "code",
   "execution_count": 82,
   "metadata": {
    "colab": {
     "base_uri": "https://localhost:8080/",
     "height": 404
    },
    "id": "_yzpO72a9oR6",
    "outputId": "790e3dd0-0ff3-4716-8ce3-eccea66b2ef2",
    "scrolled": true
   },
   "outputs": [
    {
     "data": {
      "image/png": "[encoded data removed]",
      "text/plain": [
       "<Figure size 864x432 with 1 Axes>"
      ]
     },
     "metadata": {
      "needs_background": "light"
     },
     "output_type": "display_data"
    }
   ],
   "source": [
    "draw_graph(ag_data, 'Серебро')"
   ]
  },
  {
   "cell_type": "code",
   "execution_count": 83,
   "metadata": {
    "colab": {
     "base_uri": "https://localhost:8080/",
     "height": 404
    },
    "id": "PFcd4lzA9oR6",
    "outputId": "a7ef725a-2cfa-4e08-ddbc-c07456e1a7d3",
    "scrolled": true
   },
   "outputs": [
    {
     "data": {
      "image/png": "[encoded data removed]",
      "text/plain": [
       "<Figure size 864x432 with 1 Axes>"
      ]
     },
     "metadata": {
      "needs_background": "light"
     },
     "output_type": "display_data"
    }
   ],
   "source": [
    "draw_graph(pb_data, 'Свинец')"
   ]
  },
  {
   "cell_type": "markdown",
   "metadata": {
    "id": "2ADMUyc19oR6"
   },
   "source": [
    "На графиках становиться видно что содержания металла разное на различных этапах, так например видно как с каждым новым этапом ростёт содержание золота, серебра становитсья меньше после вторичной очистки, а для свинца концентрация после первичной и вторичной очиски практически одинаковое."
   ]
  },
  {
   "cell_type": "markdown",
   "metadata": {
    "id": "FUhaGWDy9oR6"
   },
   "source": [
    "В датасете есть 2 параметра `feed_size` это `rougher.input.feed_size` и `primary_cleaner.input.feed_size` сравним их распределения в обучающей и тестовой выборках."
   ]
  },
  {
   "cell_type": "code",
   "execution_count": 84,
   "metadata": {
    "colab": {
     "base_uri": "https://localhost:8080/",
     "height": 265
    },
    "id": "u93oiCCe9oR7",
    "outputId": "5e97394d-ab35-46a7-f3a4-62e8d26c5621"
   },
   "outputs": [
    {
     "data": {
      "image/png": "[encoded data removed]",
      "text/plain": [
       "<Figure size 432x288 with 1 Axes>"
      ]
     },
     "metadata": {
      "needs_background": "light"
     },
     "output_type": "display_data"
    }
   ],
   "source": [
    "train['rougher.input.feed_size'].hist(bins=20)\n",
    "test['rougher.input.feed_size'].hist(bins=20)\n",
    "plt.show()"
   ]
  },
  {
   "cell_type": "code",
   "execution_count": 85,
   "metadata": {
    "colab": {
     "base_uri": "https://localhost:8080/",
     "height": 265
    },
    "id": "lJt92HUR9oR7",
    "outputId": "d172c867-68a9-4227-cd5c-241945a098c5"
   },
   "outputs": [
    {
     "data": {
      "image/png": "[encoded data removed]",
      "text/plain": [
       "<Figure size 432x288 with 1 Axes>"
      ]
     },
     "metadata": {
      "needs_background": "light"
     },
     "output_type": "display_data"
    }
   ],
   "source": [
    "train['primary_cleaner.input.feed_size'].hist()\n",
    "test['primary_cleaner.input.feed_size'].hist()\n",
    "plt.show()"
   ]
  },
  {
   "cell_type": "markdown",
   "metadata": {
    "id": "Y1zD1GUB9oR7"
   },
   "source": [
    "У обоих параметров не сильно различатся параметры, эти различия не должны сильно повлиять на модель.\n",
    "\n",
    "Исследуем суммарную концентрацию всех веществ на разных стадиях: в сырье, в черновом и финальном концентратах."
   ]
  },
  {
   "cell_type": "code",
   "execution_count": 86,
   "metadata": {
    "id": "NEB2IGLl9oR7"
   },
   "outputs": [],
   "source": [
    "#создадим новый датасет с данныим о концентрации веществ и просуммируем их концентрацию на разных стадиях\n",
    "concentrate_data = full[['date','rougher.input.feed_ag', 'rougher.input.feed_pb', 'rougher.input.feed_sol', 'rougher.input.feed_au', 'primary_cleaner.output.concentrate_ag', 'primary_cleaner.output.concentrate_pb', 'primary_cleaner.output.concentrate_sol', 'primary_cleaner.output.concentrate_au', 'final.output.concentrate_ag', 'final.output.concentrate_pb', 'final.output.concentrate_sol', 'final.output.concentrate_au']].copy()\n",
    "concentrate_data['conc_sum_rougher'] = concentrate_data['rougher.input.feed_ag'] + concentrate_data['rougher.input.feed_pb'] + concentrate_data['rougher.input.feed_sol'] + concentrate_data['rougher.input.feed_au']\n",
    "concentrate_data['conc_sum_primary'] = concentrate_data['primary_cleaner.output.concentrate_ag'] + concentrate_data['primary_cleaner.output.concentrate_pb'] + concentrate_data['primary_cleaner.output.concentrate_sol'] + concentrate_data['primary_cleaner.output.concentrate_au']\n",
    "concentrate_data['conc_sum_final'] = concentrate_data['final.output.concentrate_ag'] + concentrate_data['final.output.concentrate_pb'] + concentrate_data['final.output.concentrate_sol'] + concentrate_data['final.output.concentrate_au']"
   ]
  },
  {
   "cell_type": "code",
   "execution_count": 87,
   "metadata": {
    "colab": {
     "base_uri": "https://localhost:8080/",
     "height": 282
    },
    "id": "LbrSVgrJ9oR8",
    "outputId": "887f57f6-ce65-4ab7-ecb8-859bbe5bba04"
   },
   "outputs": [
    {
     "data": {
      "text/plain": [
       "<matplotlib.axes._subplots.AxesSubplot at 0x7fd299496b90>"
      ]
     },
     "execution_count": 87,
     "metadata": {},
     "output_type": "execute_result"
    },
    {
     "data": {
      "image/png": "[encoded data removed]",
      "text/plain": [
       "<Figure size 432x288 with 1 Axes>"
      ]
     },
     "metadata": {
      "needs_background": "light"
     },
     "output_type": "display_data"
    }
   ],
   "source": [
    "#построим гистограммы для суммарных концентраций веществ\n",
    "concentrate_data['conc_sum_rougher'].hist(alpha=.3)\n",
    "concentrate_data['conc_sum_primary'].hist(alpha=.3)\n",
    "concentrate_data['conc_sum_final'].hist(alpha=.3)"
   ]
  },
  {
   "cell_type": "markdown",
   "metadata": {
    "id": "mu_GruHH9oR8"
   },
   "source": [
    "По графикам видим, что в суммарных данных присутсвуют нулевые или близких к нулю значений. Нужно избавиться от наблюдений с такими аномалиями, чтобы они не повлияли на качество модели."
   ]
  },
  {
   "cell_type": "code",
   "execution_count": 88,
   "metadata": {
    "id": "pgwaQiYS9oR8"
   },
   "outputs": [],
   "source": [
    "#создадим датасет с аномальными наблюдениями\n",
    "anomaly = (concentrate_data[['date', 'conc_sum_rougher', 'conc_sum_primary', 'conc_sum_final']]\n",
    "           .copy()\n",
    "           .query('conc_sum_rougher == 0 or conc_sum_primary == 0 or conc_sum_final == 0')\n",
    "           .fillna(0))"
   ]
  },
  {
   "cell_type": "code",
   "execution_count": 89,
   "metadata": {
    "colab": {
     "base_uri": "https://localhost:8080/",
     "height": 363
    },
    "id": "oPqMJl8O9oR8",
    "outputId": "eebc7bd8-c723-4f37-fff9-efbf44a734d0"
   },
   "outputs": [
    {
     "data": {
      "text/html": [
       "\n",
       "  <div id=\"df-375b29c7-04e9-482c-9f33-5a5cd9270481\">\n",
       "    <div class=\"colab-df-container\">\n",
       "      <div>\n",
       "<style scoped>\n",
       "    .dataframe tbody tr th:only-of-type {\n",
       "        vertical-align: middle;\n",
       "    }\n",
       "\n",
       "    .dataframe tbody tr th {\n",
       "        vertical-align: top;\n",
       "    }\n",
       "\n",
       "    .dataframe thead th {\n",
       "        text-align: right;\n",
       "    }\n",
       "</style>\n",
       "<table border=\"1\" class=\"dataframe\">\n",
       "  <thead>\n",
       "    <tr style=\"text-align: right;\">\n",
       "      <th></th>\n",
       "      <th>date</th>\n",
       "      <th>conc_sum_rougher</th>\n",
       "      <th>conc_sum_primary</th>\n",
       "      <th>conc_sum_final</th>\n",
       "    </tr>\n",
       "  </thead>\n",
       "  <tbody>\n",
       "    <tr>\n",
       "      <th>6530</th>\n",
       "      <td>2016-11-28 18:59:59</td>\n",
       "      <td>52.527442</td>\n",
       "      <td>0.000000</td>\n",
       "      <td>36.446271</td>\n",
       "    </tr>\n",
       "    <tr>\n",
       "      <th>12090</th>\n",
       "      <td>2017-08-18 18:59:59</td>\n",
       "      <td>55.232705</td>\n",
       "      <td>0.000000</td>\n",
       "      <td>71.821823</td>\n",
       "    </tr>\n",
       "    <tr>\n",
       "      <th>5151</th>\n",
       "      <td>2016-09-29 14:59:59</td>\n",
       "      <td>56.941127</td>\n",
       "      <td>53.273765</td>\n",
       "      <td>0.000000</td>\n",
       "    </tr>\n",
       "    <tr>\n",
       "      <th>14379</th>\n",
       "      <td>2017-11-30 21:59:59</td>\n",
       "      <td>67.846040</td>\n",
       "      <td>0.000000</td>\n",
       "      <td>71.817136</td>\n",
       "    </tr>\n",
       "    <tr>\n",
       "      <th>748</th>\n",
       "      <td>2016-02-18 08:00:00</td>\n",
       "      <td>50.699535</td>\n",
       "      <td>0.000000</td>\n",
       "      <td>0.000000</td>\n",
       "    </tr>\n",
       "    <tr>\n",
       "      <th>89</th>\n",
       "      <td>2016-01-18 19:00:00</td>\n",
       "      <td>56.608520</td>\n",
       "      <td>0.000000</td>\n",
       "      <td>65.991353</td>\n",
       "    </tr>\n",
       "    <tr>\n",
       "      <th>7343</th>\n",
       "      <td>2017-01-02 17:59:59</td>\n",
       "      <td>54.416755</td>\n",
       "      <td>60.261782</td>\n",
       "      <td>0.000000</td>\n",
       "    </tr>\n",
       "    <tr>\n",
       "      <th>4314</th>\n",
       "      <td>2016-08-15 23:59:59</td>\n",
       "      <td>64.180280</td>\n",
       "      <td>67.692343</td>\n",
       "      <td>0.000000</td>\n",
       "    </tr>\n",
       "    <tr>\n",
       "      <th>14071</th>\n",
       "      <td>2017-11-17 20:59:59</td>\n",
       "      <td>68.235928</td>\n",
       "      <td>0.000000</td>\n",
       "      <td>70.090466</td>\n",
       "    </tr>\n",
       "    <tr>\n",
       "      <th>13438</th>\n",
       "      <td>2017-10-21 02:59:59</td>\n",
       "      <td>68.539454</td>\n",
       "      <td>63.776885</td>\n",
       "      <td>0.000000</td>\n",
       "    </tr>\n",
       "  </tbody>\n",
       "</table>\n",
       "</div>\n",
       "      <button class=\"colab-df-convert\" onclick=\"convertToInteractive('df-375b29c7-04e9-482c-9f33-5a5cd9270481')\"\n",
       "              title=\"Convert this dataframe to an interactive table.\"\n",
       "              style=\"display:none;\">\n",
       "        \n",
       "  <svg xmlns=\"http://www.w3.org/2000/svg\" height=\"24px\"viewBox=\"0 0 24 24\"\n",
       "       width=\"24px\">\n",
       "    <path d=\"M0 0h24v24H0V0z\" fill=\"none\"/>\n",
       "    <path d=\"M18.56 5.44l.94 2.06.94-2.06 2.06-.94-2.06-.94-.94-2.06-.94 2.06-2.06.94zm-11 1L8.5 8.5l.94-2.06 2.06-.94-2.06-.94L8.5 2.5l-.94 2.06-2.06.94zm10 10l.94 2.06.94-2.06 2.06-.94-2.06-.94-.94-2.06-.94 2.06-2.06.94z\"/><path d=\"M17.41 7.96l-1.37-1.37c-.4-.4-.92-.59-1.43-.59-.52 0-1.04.2-1.43.59L10.3 9.45l-7.72 7.72c-.78.78-.78 2.05 0 2.83L4 21.41c.39.39.9.59 1.41.59.51 0 1.02-.2 1.41-.59l7.78-7.78 2.81-2.81c.8-.78.8-2.07 0-2.86zM5.41 20L4 18.59l7.72-7.72 1.47 1.35L5.41 20z\"/>\n",
       "  </svg>\n",
       "      </button>\n",
       "      \n",
       "  <style>\n",
       "    .colab-df-container {\n",
       "      display:flex;\n",
       "      flex-wrap:wrap;\n",
       "      gap: 12px;\n",
       "    }\n",
       "\n",
       "    .colab-df-convert {\n",
       "      background-color: #E8F0FE;\n",
       "      border: none;\n",
       "      border-radius: 50%;\n",
       "      cursor: pointer;\n",
       "      display: none;\n",
       "      fill: #1967D2;\n",
       "      height: 32px;\n",
       "      padding: 0 0 0 0;\n",
       "      width: 32px;\n",
       "    }\n",
       "\n",
       "    .colab-df-convert:hover {\n",
       "      background-color: #E2EBFA;\n",
       "      box-shadow: 0px 1px 2px rgba(60, 64, 67, 0.3), 0px 1px 3px 1px rgba(60, 64, 67, 0.15);\n",
       "      fill: #174EA6;\n",
       "    }\n",
       "\n",
       "    [theme=dark] .colab-df-convert {\n",
       "      background-color: #3B4455;\n",
       "      fill: #D2E3FC;\n",
       "    }\n",
       "\n",
       "    [theme=dark] .colab-df-convert:hover {\n",
       "      background-color: #434B5C;\n",
       "      box-shadow: 0px 1px 3px 1px rgba(0, 0, 0, 0.15);\n",
       "      filter: drop-shadow(0px 1px 2px rgba(0, 0, 0, 0.3));\n",
       "      fill: #FFFFFF;\n",
       "    }\n",
       "  </style>\n",
       "\n",
       "      <script>\n",
       "        const buttonEl =\n",
       "          document.querySelector('#df-375b29c7-04e9-482c-9f33-5a5cd9270481 button.colab-df-convert');\n",
       "        buttonEl.style.display =\n",
       "          google.colab.kernel.accessAllowed ? 'block' : 'none';\n",
       "\n",
       "        async function convertToInteractive(key) {\n",
       "          const element = document.querySelector('#df-375b29c7-04e9-482c-9f33-5a5cd9270481');\n",
       "          const dataTable =\n",
       "            await google.colab.kernel.invokeFunction('convertToInteractive',\n",
       "                                                     [key], {});\n",
       "          if (!dataTable) return;\n",
       "\n",
       "          const docLinkHtml = 'Like what you see? Visit the ' +\n",
       "            '<a target=\"_blank\" href=https://colab.research.google.com/notebooks/data_table.ipynb>data table notebook</a>'\n",
       "            + ' to learn more about interactive tables.';\n",
       "          element.innerHTML = '';\n",
       "          dataTable['output_type'] = 'display_data';\n",
       "          await google.colab.output.renderOutput(dataTable, element);\n",
       "          const docLink = document.createElement('div');\n",
       "          docLink.innerHTML = docLinkHtml;\n",
       "          element.appendChild(docLink);\n",
       "        }\n",
       "      </script>\n",
       "    </div>\n",
       "  </div>\n",
       "  "
      ],
      "text/plain": [
       "                      date  conc_sum_rougher  conc_sum_primary  conc_sum_final\n",
       "6530   2016-11-28 18:59:59         52.527442          0.000000       36.446271\n",
       "12090  2017-08-18 18:59:59         55.232705          0.000000       71.821823\n",
       "5151   2016-09-29 14:59:59         56.941127         53.273765        0.000000\n",
       "14379  2017-11-30 21:59:59         67.846040          0.000000       71.817136\n",
       "748    2016-02-18 08:00:00         50.699535          0.000000        0.000000\n",
       "89     2016-01-18 19:00:00         56.608520          0.000000       65.991353\n",
       "7343   2017-01-02 17:59:59         54.416755         60.261782        0.000000\n",
       "4314   2016-08-15 23:59:59         64.180280         67.692343        0.000000\n",
       "14071  2017-11-17 20:59:59         68.235928          0.000000       70.090466\n",
       "13438  2017-10-21 02:59:59         68.539454         63.776885        0.000000"
      ]
     },
     "execution_count": 89,
     "metadata": {},
     "output_type": "execute_result"
    }
   ],
   "source": [
    "anomaly.sample(10)"
   ]
  },
  {
   "cell_type": "markdown",
   "metadata": {
    "id": "qO7DZxI29oR8"
   },
   "source": [
    "Избавимся от аномальных значений в тестовой выборке."
   ]
  },
  {
   "cell_type": "code",
   "execution_count": 90,
   "metadata": {
    "id": "EqMjkt2g9oR8"
   },
   "outputs": [],
   "source": [
    "test = test.join(anomaly.set_index('date'), on='date')"
   ]
  },
  {
   "cell_type": "code",
   "execution_count": 91,
   "metadata": {
    "id": "sgcE2_ZY9oR9"
   },
   "outputs": [],
   "source": [
    "test[['conc_sum_rougher', 'conc_sum_primary', 'conc_sum_final']] = test[['conc_sum_rougher', 'conc_sum_primary', 'conc_sum_final']].fillna(-1)"
   ]
  },
  {
   "cell_type": "code",
   "execution_count": 92,
   "metadata": {
    "id": "ZgTw2wzz9oR9"
   },
   "outputs": [],
   "source": [
    "test = test.query('conc_sum_rougher == -1 and conc_sum_primary == -1 and conc_sum_final == -1')"
   ]
  },
  {
   "cell_type": "code",
   "execution_count": 93,
   "metadata": {
    "colab": {
     "base_uri": "https://localhost:8080/",
     "height": 282
    },
    "id": "2ZJ3u5mf9oR9",
    "outputId": "1c2c906b-7a44-4778-87bf-00e64dc46cae"
   },
   "outputs": [
    {
     "data": {
      "text/plain": [
       "<matplotlib.axes._subplots.AxesSubplot at 0x7fd29a13e550>"
      ]
     },
     "execution_count": 93,
     "metadata": {},
     "output_type": "execute_result"
    },
    {
     "data": {
      "image/png": "[encoded data removed]",
      "text/plain": [
       "<Figure size 432x288 with 1 Axes>"
      ]
     },
     "metadata": {
      "needs_background": "light"
     },
     "output_type": "display_data"
    }
   ],
   "source": [
    "#проверим, что все выполнилось правильно - значением всех признаков должно быть -1\n",
    "test['conc_sum_rougher'].hist(alpha=.2)\n",
    "test['conc_sum_primary'].hist(alpha=.2)\n",
    "test['conc_sum_final'].hist(alpha=.2)"
   ]
  },
  {
   "cell_type": "code",
   "execution_count": 94,
   "metadata": {
    "id": "SIgNErEC9oR9"
   },
   "outputs": [],
   "source": [
    "#избавимся от ненужных столбцов\n",
    "test.drop(['conc_sum_rougher', 'conc_sum_primary', 'conc_sum_final'], axis='columns', inplace=True)"
   ]
  },
  {
   "cell_type": "markdown",
   "metadata": {
    "id": "oiiFV1xv9oR9"
   },
   "source": [
    "Теперь удалим аномальные значения из обучающей выборки."
   ]
  },
  {
   "cell_type": "code",
   "execution_count": 95,
   "metadata": {
    "id": "zJBYscJx9oR9"
   },
   "outputs": [],
   "source": [
    "train = train.join(anomaly.set_index('date'), on='date')\n",
    "train[['conc_sum_rougher', 'conc_sum_primary', 'conc_sum_final']] = (train[['conc_sum_rougher', 'conc_sum_primary', 'conc_sum_final']]\n",
    "                                                                    .fillna(-1))\n",
    "train = train.query('conc_sum_rougher == -1 and conc_sum_primary == -1 and conc_sum_final == -1')\n",
    "train.drop(['conc_sum_rougher', 'conc_sum_primary', 'conc_sum_final'], axis='columns', inplace=True)"
   ]
  },
  {
   "cell_type": "code",
   "execution_count": 96,
   "metadata": {
    "id": "ZmDGgktv9oR9"
   },
   "outputs": [],
   "source": [
    "#удалим из выборок оставшиеся NaN-значения\n",
    "test.dropna(inplace=True)\n",
    "train.dropna(inplace=True)"
   ]
  },
  {
   "cell_type": "code",
   "execution_count": 97,
   "metadata": {
    "colab": {
     "base_uri": "https://localhost:8080/"
    },
    "id": "iineCoK_9oR-",
    "outputId": "b46c9db4-7ef8-44cc-bf56-a28e7f4f6571"
   },
   "outputs": [
    {
     "name": "stdout",
     "output_type": "stream",
     "text": [
      "(12593, 55)\n",
      "(5169, 55)\n"
     ]
    }
   ],
   "source": [
    "print(train.shape)\n",
    "print(test.shape)"
   ]
  },
  {
   "cell_type": "markdown",
   "metadata": {
    "id": "q8eM4kPy9oR-"
   },
   "source": [
    "Все готово, можно построить модель."
   ]
  },
  {
   "cell_type": "markdown",
   "metadata": {
    "id": "VX2k8VvH9oR-"
   },
   "source": [
    "## Модель"
   ]
  },
  {
   "cell_type": "markdown",
   "metadata": {
    "id": "PscP9kOB9oR-"
   },
   "source": [
    "Создадим функцию для рассчета метрики качества модели - sMAPE (Symmetric Mean Absolute Percentage Error)."
   ]
  },
  {
   "cell_type": "code",
   "execution_count": 98,
   "metadata": {
    "id": "dLftuxS29oR-"
   },
   "outputs": [],
   "source": [
    "def smape (target, predictions):\n",
    "    return 100/len(target) * np.sum(2 * np.abs(predictions - target) / (np.abs(target) + np.abs(predictions)))"
   ]
  },
  {
   "cell_type": "markdown",
   "metadata": {
    "id": "mEGfmN_g9oR-"
   },
   "source": [
    "А также функцию для рассчета итогового sMAPE"
   ]
  },
  {
   "cell_type": "code",
   "execution_count": 99,
   "metadata": {
    "id": "MiRuoEej9oR-"
   },
   "outputs": [],
   "source": [
    "def final_smape (rougher, final):\n",
    "    return 0.25 * rougher + 0.75 * final"
   ]
  },
  {
   "cell_type": "markdown",
   "metadata": {
    "id": "KLm6B2uZ9oR_"
   },
   "source": [
    "Подготовим features и target для обучающей выборки."
   ]
  },
  {
   "cell_type": "code",
   "execution_count": 100,
   "metadata": {
    "id": "TgMMyjpx9oR_"
   },
   "outputs": [],
   "source": [
    "target_rougher = train['rougher.output.recovery']\n",
    "target_final = train['final.output.recovery']\n",
    "\n",
    "features_train = train.drop(['date', 'final.output.recovery', 'rougher.output.recovery'], axis='columns')"
   ]
  },
  {
   "cell_type": "code",
   "execution_count": 101,
   "metadata": {
    "id": "llCFXk1u9oR_"
   },
   "outputs": [],
   "source": [
    "# Маштабируем признаки\n",
    "scaler = StandardScaler()\n",
    "scaler.fit(features_train)\n",
    "features_train = scaler.transform(features_train)"
   ]
  },
  {
   "cell_type": "markdown",
   "metadata": {
    "id": "tjAmiDLp9oR_"
   },
   "source": [
    "Проверим несколько моделей методом кросс-валидации и выберем лучший результат."
   ]
  },
  {
   "cell_type": "code",
   "execution_count": 102,
   "metadata": {
    "colab": {
     "base_uri": "https://localhost:8080/"
    },
    "id": "dFVzzvSb9oR_",
    "outputId": "c8c80544-7462-434e-fba0-1f80a8439080"
   },
   "outputs": [
    {
     "data": {
      "text/plain": [
       "-2.525235956511884"
      ]
     },
     "execution_count": 102,
     "metadata": {},
     "output_type": "execute_result"
    }
   ],
   "source": [
    "model_dtr = DecisionTreeRegressor(random_state=666)\n",
    "cross_val_score(model_dtr, features_train, target_rougher, cv=3).mean()"
   ]
  },
  {
   "cell_type": "code",
   "execution_count": 103,
   "metadata": {
    "colab": {
     "base_uri": "https://localhost:8080/"
    },
    "id": "pH2eq-qs9oR_",
    "outputId": "a9566e83-4d4d-4aa4-c665-baf8382e50b3"
   },
   "outputs": [
    {
     "data": {
      "text/plain": [
       "-0.3487050264428387"
      ]
     },
     "execution_count": 103,
     "metadata": {},
     "output_type": "execute_result"
    }
   ],
   "source": [
    "model_lr = LinearRegression()\n",
    "cross_val_score(model_lr, features_train, target_rougher, cv=3).mean()"
   ]
  },
  {
   "cell_type": "code",
   "execution_count": 104,
   "metadata": {
    "colab": {
     "base_uri": "https://localhost:8080/"
    },
    "id": "0frCAjI79oSA",
    "outputId": "71c8d482-e01a-4756-b703-b119303988f6"
   },
   "outputs": [
    {
     "name": "stdout",
     "output_type": "stream",
     "text": [
      "0:\tlearn: 11.1329495\ttotal: 51.6ms\tremaining: 51.6ms\n",
      "1:\tlearn: 10.4365891\ttotal: 56.9ms\tremaining: 0us\n",
      "0:\tlearn: 10.1677055\ttotal: 5.54ms\tremaining: 5.54ms\n",
      "1:\tlearn: 9.3328311\ttotal: 11.5ms\tremaining: 0us\n",
      "0:\tlearn: 10.4213532\ttotal: 17.1ms\tremaining: 17.1ms\n",
      "1:\tlearn: 10.1904997\ttotal: 22.5ms\tremaining: 0us\n"
     ]
    },
    {
     "data": {
      "text/plain": [
       "-0.2997732001069671"
      ]
     },
     "execution_count": 104,
     "metadata": {},
     "output_type": "execute_result"
    }
   ],
   "source": [
    "model_cb = CatBoostRegressor(iterations=2, learning_rate=1, depth=3)\n",
    "cross_val_score(model_cb, features_train, target_rougher, cv=3).mean()"
   ]
  },
  {
   "cell_type": "code",
   "execution_count": 105,
   "metadata": {
    "colab": {
     "base_uri": "https://localhost:8080/"
    },
    "id": "QkhIh6hV9oSA",
    "outputId": "9e4c6b73-fea4-4403-dc0d-9f9b7860ab16"
   },
   "outputs": [
    {
     "name": "stdout",
     "output_type": "stream",
     "text": [
      "-0.8805563767671151\n",
      "-0.8515611015646636\n",
      "-0.7211983122318765\n",
      "-0.6863910570262116\n",
      "-0.6612122436306137\n"
     ]
    }
   ],
   "source": [
    "for i in range(5,10,1): \n",
    "  model_rf = RandomForestRegressor(random_state=666, n_estimators=i)\n",
    "  print(cross_val_score(model_rf, features_train, target_rougher, cv=3).mean())"
   ]
  },
  {
   "cell_type": "markdown",
   "metadata": {
    "id": "32iuNNfE9oSA"
   },
   "source": [
    "Лучший результат показывает модель CatBoost. Обучим её.\n",
    "\n",
    "Подготовим features и target для тестовой выборки и масштабируем признаки."
   ]
  },
  {
   "cell_type": "code",
   "execution_count": 106,
   "metadata": {
    "id": "owxX14AG9oSA"
   },
   "outputs": [],
   "source": [
    "target_rougher_test = test['rougher.output.recovery']\n",
    "target_final_test = test['final.output.recovery']\n",
    "\n",
    "features_test = test.drop(['date', 'final.output.recovery', 'rougher.output.recovery'], axis='columns')"
   ]
  },
  {
   "cell_type": "code",
   "execution_count": 107,
   "metadata": {
    "id": "o1Itik6R9oSA"
   },
   "outputs": [],
   "source": [
    "scaler = StandardScaler()\n",
    "scaler.fit(features_test)\n",
    "features_test = scaler.transform(features_test)"
   ]
  },
  {
   "cell_type": "markdown",
   "metadata": {
    "id": "NGftPHUp9oSA"
   },
   "source": [
    "Обучим модель и получим предсказания."
   ]
  },
  {
   "cell_type": "code",
   "execution_count": 108,
   "metadata": {
    "colab": {
     "base_uri": "https://localhost:8080/"
    },
    "id": "i2QSujnu9oSB",
    "outputId": "4277b10a-bb4f-4d3f-b4db-23cba4717cb7"
   },
   "outputs": [
    {
     "name": "stdout",
     "output_type": "stream",
     "text": [
      "0:\tlearn: 11.0825737\ttotal: 5.77ms\tremaining: 5.77ms\n",
      "1:\tlearn: 10.5202296\ttotal: 11.6ms\tremaining: 0us\n",
      "0:\tlearn: 7.4506003\ttotal: 6ms\tremaining: 6ms\n",
      "1:\tlearn: 7.1932438\ttotal: 11.7ms\tremaining: 0us\n"
     ]
    }
   ],
   "source": [
    "model_cb = CatBoostRegressor(iterations=2, learning_rate=1, depth=3)\n",
    "model_cb_1 = CatBoostRegressor(iterations=2, learning_rate=1, depth=3)\n",
    "\n",
    "cb_rougher = model_cb.fit(features_train, target_rougher)\n",
    "cb_final = model_cb_1.fit(features_train, target_final)\n",
    "\n",
    "cb_predictions_rougher = cb_rougher.predict(features_test)\n",
    "cb_predictions_final = cb_final.predict(features_test)"
   ]
  },
  {
   "cell_type": "markdown",
   "metadata": {
    "id": "tp_FLUjk9oSB"
   },
   "source": [
    "Посчитаем sMAPE для обоих признаков и итоговый."
   ]
  },
  {
   "cell_type": "code",
   "execution_count": 109,
   "metadata": {
    "id": "4OfZUazN9oSB"
   },
   "outputs": [],
   "source": [
    "smape_rougher = smape(target_rougher_test, cb_predictions_rougher)"
   ]
  },
  {
   "cell_type": "code",
   "execution_count": 110,
   "metadata": {
    "id": "gDJ12bvu9oSB"
   },
   "outputs": [],
   "source": [
    "smape_final = smape(target_final_test, cb_predictions_final)"
   ]
  },
  {
   "cell_type": "code",
   "execution_count": 111,
   "metadata": {
    "colab": {
     "base_uri": "https://localhost:8080/"
    },
    "id": "I6bpDMTc9oSB",
    "outputId": "ef267ca8-7d76-4b56-a84a-918fd332a03d"
   },
   "outputs": [
    {
     "data": {
      "text/plain": [
       "8.94895448969088"
      ]
     },
     "execution_count": 111,
     "metadata": {},
     "output_type": "execute_result"
    }
   ],
   "source": [
    "final_smape(smape_rougher, smape_final)"
   ]
  },
  {
   "cell_type": "markdown",
   "metadata": {
    "id": "j4zZhX739oSB"
   },
   "source": [
    "Проверим качество модели, сравнив с константной. Для этого будем использовать модель DummyRegressor."
   ]
  },
  {
   "cell_type": "code",
   "execution_count": 112,
   "metadata": {
    "id": "noypK3g39oSB"
   },
   "outputs": [],
   "source": [
    "dummy = DummyRegressor(strategy = 'mean')\n",
    "dummy_1 = DummyRegressor(strategy = 'mean')\n",
    "\n",
    "dummy_rougher = dummy.fit(features_train, target_rougher)\n",
    "dummy_predictions_rougher = dummy_rougher.predict(features_test)\n",
    "\n",
    "dummy_final = dummy_1.fit(features_train, target_final)\n",
    "dummy_predictions_final = dummy_final.predict(features_test)"
   ]
  },
  {
   "cell_type": "code",
   "execution_count": 113,
   "metadata": {
    "id": "f0lpF1Jc9oSB"
   },
   "outputs": [],
   "source": [
    "smape_rougher_dummy = smape(target_rougher_test, dummy_predictions_rougher)"
   ]
  },
  {
   "cell_type": "code",
   "execution_count": 114,
   "metadata": {
    "id": "rFVPuF8k9oSC"
   },
   "outputs": [],
   "source": [
    "smape_final_dummy = smape(target_final_test, dummy_predictions_final)"
   ]
  },
  {
   "cell_type": "code",
   "execution_count": 115,
   "metadata": {
    "colab": {
     "base_uri": "https://localhost:8080/"
    },
    "id": "uBiO_nuU9oSC",
    "outputId": "1006fcf4-8cb5-44b8-e208-36c057c55475"
   },
   "outputs": [
    {
     "data": {
      "text/plain": [
       "8.873662390741785"
      ]
     },
     "execution_count": 115,
     "metadata": {},
     "output_type": "execute_result"
    }
   ],
   "source": [
    "final_smape(smape_rougher_dummy, smape_final_dummy)"
   ]
  },
  {
   "cell_type": "markdown",
   "metadata": {
    "id": "Xv9Q7wkQ9oSC"
   },
   "source": [
    "Обученная модель предсказывает результат точнее константной. Это говорит о том, что построенная модель адекватна."
   ]
  },
  {
   "cell_type": "markdown",
   "metadata": {
    "id": "GpfjpdF09oSC"
   },
   "source": [
    "Вывод:\n",
    "\n",
    "* Написали функции для рассчета sMAPE и итогового sMAPE.\n",
    "* Проверили несколько формул кросс-валидацией.\n",
    "* Проверили работу модели на тестовой выборке с помощью метрики качества sMAPE и сравнения с константной моделью.\n",
    "* Подготовили прототип модели машинного обучения для «Цифры»"
   ]
  }
 ],
 "metadata": {
  "ExecuteTimeLog": [
   {
    "duration": 1623,
    "start_time": "2022-05-12T18:56:06.047Z"
   },
   {
    "duration": 99,
    "start_time": "2022-05-12T19:15:38.949Z"
   },
   {
    "duration": 4,
    "start_time": "2022-05-12T19:15:45.786Z"
   },
   {
    "duration": 10,
    "start_time": "2022-05-12T19:15:46.299Z"
   },
   {
    "duration": 664,
    "start_time": "2022-05-12T19:16:24.319Z"
   },
   {
    "duration": 33,
    "start_time": "2022-05-12T19:16:34.114Z"
   },
   {
    "duration": 13,
    "start_time": "2022-05-12T19:17:59.333Z"
   },
   {
    "duration": 9,
    "start_time": "2022-05-12T19:18:02.461Z"
   },
   {
    "duration": 9,
    "start_time": "2022-05-12T19:18:07.458Z"
   },
   {
    "duration": 24,
    "start_time": "2022-05-12T19:18:10.921Z"
   },
   {
    "duration": 19,
    "start_time": "2022-05-12T19:18:15.965Z"
   },
   {
    "duration": 29,
    "start_time": "2022-05-12T19:18:22.491Z"
   },
   {
    "duration": 19,
    "start_time": "2022-05-12T19:18:43.647Z"
   },
   {
    "duration": 17,
    "start_time": "2022-05-12T19:39:11.968Z"
   },
   {
    "duration": 27,
    "start_time": "2022-05-12T19:39:56.598Z"
   },
   {
    "duration": 10,
    "start_time": "2022-05-12T19:42:34.364Z"
   },
   {
    "duration": 6,
    "start_time": "2022-05-12T19:42:49.314Z"
   },
   {
    "duration": 20,
    "start_time": "2022-05-12T19:42:50.289Z"
   },
   {
    "duration": 20,
    "start_time": "2022-05-12T19:43:01.256Z"
   },
   {
    "duration": 9,
    "start_time": "2022-05-12T19:49:37.337Z"
   },
   {
    "duration": 13,
    "start_time": "2022-05-12T19:51:05.842Z"
   },
   {
    "duration": 4,
    "start_time": "2022-05-12T19:51:22.981Z"
   },
   {
    "duration": 5,
    "start_time": "2022-05-12T19:51:42.412Z"
   },
   {
    "duration": 5,
    "start_time": "2022-05-12T19:51:49.407Z"
   },
   {
    "duration": 121,
    "start_time": "2022-05-12T19:54:43.629Z"
   },
   {
    "duration": 142,
    "start_time": "2022-05-12T19:54:51.457Z"
   },
   {
    "duration": 260,
    "start_time": "2022-05-12T19:54:57.575Z"
   },
   {
    "duration": 207,
    "start_time": "2022-05-12T19:55:29.319Z"
   },
   {
    "duration": 324,
    "start_time": "2022-05-12T19:55:44.445Z"
   },
   {
    "duration": 297,
    "start_time": "2022-05-12T19:56:01.659Z"
   },
   {
    "duration": 227,
    "start_time": "2022-05-12T19:56:29.390Z"
   },
   {
    "duration": 286,
    "start_time": "2022-05-12T19:56:34.008Z"
   },
   {
    "duration": 306,
    "start_time": "2022-05-12T19:56:54.941Z"
   },
   {
    "duration": 98,
    "start_time": "2022-05-12T19:58:26.974Z"
   },
   {
    "duration": 92,
    "start_time": "2022-05-12T19:58:50.930Z"
   },
   {
    "duration": 94,
    "start_time": "2022-05-12T19:58:57.721Z"
   },
   {
    "duration": 158,
    "start_time": "2022-05-12T19:59:08.352Z"
   },
   {
    "duration": 12,
    "start_time": "2022-05-12T19:59:38.591Z"
   },
   {
    "duration": 100,
    "start_time": "2022-05-12T19:59:45.384Z"
   },
   {
    "duration": 268,
    "start_time": "2022-05-12T20:00:05.661Z"
   },
   {
    "duration": 100,
    "start_time": "2022-05-12T20:00:39.534Z"
   },
   {
    "duration": 313,
    "start_time": "2022-05-12T20:01:03.830Z"
   },
   {
    "duration": 290,
    "start_time": "2022-05-12T20:01:33.259Z"
   },
   {
    "duration": 385,
    "start_time": "2022-05-12T20:02:14.781Z"
   },
   {
    "duration": 386,
    "start_time": "2022-05-12T20:02:23.205Z"
   },
   {
    "duration": 465,
    "start_time": "2022-05-12T20:03:30.622Z"
   },
   {
    "duration": 354,
    "start_time": "2022-05-12T20:03:40.227Z"
   },
   {
    "duration": 421,
    "start_time": "2022-05-12T20:03:55.132Z"
   },
   {
    "duration": 294,
    "start_time": "2022-05-12T20:04:00.882Z"
   },
   {
    "duration": 497,
    "start_time": "2022-05-12T20:04:10.163Z"
   },
   {
    "duration": 295,
    "start_time": "2022-05-12T20:04:17.383Z"
   },
   {
    "duration": 195,
    "start_time": "2022-05-12T20:04:23.672Z"
   },
   {
    "duration": 213,
    "start_time": "2022-05-12T20:04:49.903Z"
   },
   {
    "duration": 341,
    "start_time": "2022-05-12T20:04:54.409Z"
   },
   {
    "duration": 412,
    "start_time": "2022-05-12T20:04:55.795Z"
   },
   {
    "duration": 44,
    "start_time": "2022-05-14T09:50:00.211Z"
   },
   {
    "duration": 1633,
    "start_time": "2022-05-14T09:50:07.081Z"
   },
   {
    "duration": 649,
    "start_time": "2022-05-14T09:50:08.716Z"
   },
   {
    "duration": 20,
    "start_time": "2022-05-14T09:50:09.367Z"
   },
   {
    "duration": 12,
    "start_time": "2022-05-14T09:50:09.389Z"
   },
   {
    "duration": 3,
    "start_time": "2022-05-14T09:50:09.404Z"
   },
   {
    "duration": 15,
    "start_time": "2022-05-14T09:50:09.408Z"
   },
   {
    "duration": 247,
    "start_time": "2022-05-14T09:50:09.425Z"
   },
   {
    "duration": 294,
    "start_time": "2022-05-14T09:50:09.674Z"
   },
   {
    "duration": 111,
    "start_time": "2022-05-14T09:50:09.970Z"
   },
   {
    "duration": 4,
    "start_time": "2022-05-14T09:50:44.132Z"
   },
   {
    "duration": 4,
    "start_time": "2022-05-14T09:51:17.745Z"
   },
   {
    "duration": 11,
    "start_time": "2022-05-14T09:51:27.352Z"
   },
   {
    "duration": 4,
    "start_time": "2022-05-14T09:51:31.446Z"
   },
   {
    "duration": 5,
    "start_time": "2022-05-14T09:51:47.572Z"
   },
   {
    "duration": 4,
    "start_time": "2022-05-14T09:52:05.815Z"
   },
   {
    "duration": 2,
    "start_time": "2022-05-14T09:57:29.727Z"
   },
   {
    "duration": 15,
    "start_time": "2022-05-14T09:57:33.286Z"
   },
   {
    "duration": 4,
    "start_time": "2022-05-14T10:22:16.943Z"
   },
   {
    "duration": 3,
    "start_time": "2022-05-14T10:25:31.567Z"
   },
   {
    "duration": 9,
    "start_time": "2022-05-14T10:27:09.572Z"
   },
   {
    "duration": 10,
    "start_time": "2022-05-14T10:27:54.605Z"
   },
   {
    "duration": 3,
    "start_time": "2022-05-14T10:27:58.556Z"
   },
   {
    "duration": 10,
    "start_time": "2022-05-14T10:29:09.149Z"
   },
   {
    "duration": 505,
    "start_time": "2022-05-14T10:29:16.303Z"
   },
   {
    "duration": 499,
    "start_time": "2022-05-14T10:30:19.819Z"
   },
   {
    "duration": 3,
    "start_time": "2022-05-14T10:31:05.857Z"
   },
   {
    "duration": 4,
    "start_time": "2022-05-14T10:31:13.582Z"
   },
   {
    "duration": 3,
    "start_time": "2022-05-14T10:31:38.402Z"
   },
   {
    "duration": 5,
    "start_time": "2022-05-14T10:31:58.131Z"
   },
   {
    "duration": 5,
    "start_time": "2022-05-14T10:46:14.993Z"
   },
   {
    "duration": 4,
    "start_time": "2022-05-14T10:48:04.810Z"
   },
   {
    "duration": 7,
    "start_time": "2022-05-14T10:48:33.262Z"
   },
   {
    "duration": 1398,
    "start_time": "2022-05-14T10:59:25.746Z"
   },
   {
    "duration": 616,
    "start_time": "2022-05-14T10:59:27.147Z"
   },
   {
    "duration": 18,
    "start_time": "2022-05-14T10:59:27.765Z"
   },
   {
    "duration": 12,
    "start_time": "2022-05-14T10:59:27.785Z"
   },
   {
    "duration": 4,
    "start_time": "2022-05-14T10:59:27.798Z"
   },
   {
    "duration": 5,
    "start_time": "2022-05-14T10:59:27.804Z"
   },
   {
    "duration": 249,
    "start_time": "2022-05-14T10:59:27.811Z"
   },
   {
    "duration": 289,
    "start_time": "2022-05-14T10:59:28.062Z"
   },
   {
    "duration": 4,
    "start_time": "2022-05-14T10:59:28.353Z"
   },
   {
    "duration": 12,
    "start_time": "2022-05-14T10:59:28.359Z"
   },
   {
    "duration": 7,
    "start_time": "2022-05-14T10:59:28.372Z"
   },
   {
    "duration": 8,
    "start_time": "2022-05-14T10:59:28.381Z"
   },
   {
    "duration": 104,
    "start_time": "2022-05-14T11:01:39.961Z"
   },
   {
    "duration": 4,
    "start_time": "2022-05-14T11:01:56.507Z"
   },
   {
    "duration": 11,
    "start_time": "2022-05-14T11:04:17.272Z"
   },
   {
    "duration": 6,
    "start_time": "2022-05-14T11:04:26.006Z"
   },
   {
    "duration": 8,
    "start_time": "2022-05-14T11:04:59.686Z"
   },
   {
    "duration": 1638,
    "start_time": "2022-05-14T11:05:35.183Z"
   },
   {
    "duration": 614,
    "start_time": "2022-05-14T11:05:36.823Z"
   },
   {
    "duration": 18,
    "start_time": "2022-05-14T11:05:37.438Z"
   },
   {
    "duration": 23,
    "start_time": "2022-05-14T11:05:37.458Z"
   },
   {
    "duration": 4,
    "start_time": "2022-05-14T11:05:37.482Z"
   },
   {
    "duration": 6,
    "start_time": "2022-05-14T11:05:37.487Z"
   },
   {
    "duration": 240,
    "start_time": "2022-05-14T11:05:37.495Z"
   },
   {
    "duration": 293,
    "start_time": "2022-05-14T11:05:37.737Z"
   },
   {
    "duration": 4,
    "start_time": "2022-05-14T11:05:38.032Z"
   },
   {
    "duration": 4,
    "start_time": "2022-05-14T11:05:38.038Z"
   },
   {
    "duration": 6,
    "start_time": "2022-05-14T11:05:38.043Z"
   },
   {
    "duration": 26,
    "start_time": "2022-05-14T11:05:38.051Z"
   },
   {
    "duration": 7,
    "start_time": "2022-05-14T11:05:38.078Z"
   },
   {
    "duration": 14,
    "start_time": "2022-05-14T11:05:38.086Z"
   },
   {
    "duration": 6,
    "start_time": "2022-05-14T11:05:38.101Z"
   },
   {
    "duration": 6,
    "start_time": "2022-05-14T11:05:38.109Z"
   },
   {
    "duration": 5,
    "start_time": "2022-05-14T11:07:07.123Z"
   },
   {
    "duration": 1487,
    "start_time": "2022-05-14T11:07:13.863Z"
   },
   {
    "duration": 602,
    "start_time": "2022-05-14T11:07:15.352Z"
   },
   {
    "duration": 25,
    "start_time": "2022-05-14T11:07:15.956Z"
   },
   {
    "duration": 8,
    "start_time": "2022-05-14T11:07:15.983Z"
   },
   {
    "duration": 12,
    "start_time": "2022-05-14T11:07:15.992Z"
   },
   {
    "duration": 3,
    "start_time": "2022-05-14T11:07:16.006Z"
   },
   {
    "duration": 6,
    "start_time": "2022-05-14T11:07:16.011Z"
   },
   {
    "duration": 246,
    "start_time": "2022-05-14T11:07:16.019Z"
   },
   {
    "duration": 288,
    "start_time": "2022-05-14T11:07:16.267Z"
   },
   {
    "duration": 4,
    "start_time": "2022-05-14T11:07:16.558Z"
   },
   {
    "duration": 3,
    "start_time": "2022-05-14T11:07:16.570Z"
   },
   {
    "duration": 9,
    "start_time": "2022-05-14T11:07:16.574Z"
   },
   {
    "duration": 8,
    "start_time": "2022-05-14T11:07:16.585Z"
   },
   {
    "duration": 6,
    "start_time": "2022-05-14T11:07:16.594Z"
   },
   {
    "duration": 13,
    "start_time": "2022-05-14T11:07:16.601Z"
   },
   {
    "duration": 5,
    "start_time": "2022-05-14T11:07:16.616Z"
   },
   {
    "duration": 6,
    "start_time": "2022-05-14T11:07:16.623Z"
   },
   {
    "duration": 4,
    "start_time": "2022-05-14T11:08:25.611Z"
   },
   {
    "duration": 105,
    "start_time": "2022-05-14T11:09:11.965Z"
   },
   {
    "duration": 5,
    "start_time": "2022-05-14T11:09:17.294Z"
   },
   {
    "duration": 633,
    "start_time": "2022-05-14T11:11:13.136Z"
   },
   {
    "duration": 5,
    "start_time": "2022-05-14T11:11:45.373Z"
   },
   {
    "duration": 5,
    "start_time": "2022-05-14T11:11:56.432Z"
   },
   {
    "duration": 626,
    "start_time": "2022-05-14T11:12:08.745Z"
   },
   {
    "duration": 6,
    "start_time": "2022-05-14T11:12:47.740Z"
   },
   {
    "duration": 587,
    "start_time": "2022-05-14T11:12:50.596Z"
   },
   {
    "duration": 6,
    "start_time": "2022-05-14T11:12:51.185Z"
   },
   {
    "duration": 1836,
    "start_time": "2022-05-14T11:13:22.690Z"
   },
   {
    "duration": 1351,
    "start_time": "2022-05-14T11:13:32.392Z"
   },
   {
    "duration": 610,
    "start_time": "2022-05-14T11:13:33.744Z"
   },
   {
    "duration": 21,
    "start_time": "2022-05-14T11:13:34.356Z"
   },
   {
    "duration": 11,
    "start_time": "2022-05-14T11:13:34.379Z"
   },
   {
    "duration": 3,
    "start_time": "2022-05-14T11:13:34.392Z"
   },
   {
    "duration": 13,
    "start_time": "2022-05-14T11:13:34.396Z"
   },
   {
    "duration": 223,
    "start_time": "2022-05-14T11:13:34.410Z"
   },
   {
    "duration": 283,
    "start_time": "2022-05-14T11:13:34.635Z"
   },
   {
    "duration": 4,
    "start_time": "2022-05-14T11:13:34.920Z"
   },
   {
    "duration": 6,
    "start_time": "2022-05-14T11:13:34.926Z"
   },
   {
    "duration": 6,
    "start_time": "2022-05-14T11:13:34.933Z"
   },
   {
    "duration": 8,
    "start_time": "2022-05-14T11:13:34.941Z"
   },
   {
    "duration": 21,
    "start_time": "2022-05-14T11:13:34.950Z"
   },
   {
    "duration": 14,
    "start_time": "2022-05-14T11:13:34.974Z"
   },
   {
    "duration": 6,
    "start_time": "2022-05-14T11:13:34.989Z"
   },
   {
    "duration": 7,
    "start_time": "2022-05-14T11:15:41.444Z"
   },
   {
    "duration": 114,
    "start_time": "2022-05-14T11:16:04.685Z"
   },
   {
    "duration": 6,
    "start_time": "2022-05-14T11:16:49.451Z"
   },
   {
    "duration": 7,
    "start_time": "2022-05-14T11:17:17.637Z"
   },
   {
    "duration": 6,
    "start_time": "2022-05-14T11:17:17.788Z"
   },
   {
    "duration": 6,
    "start_time": "2022-05-14T11:18:10.783Z"
   },
   {
    "duration": 6,
    "start_time": "2022-05-14T11:18:10.933Z"
   },
   {
    "duration": 2,
    "start_time": "2022-05-14T11:18:57.479Z"
   },
   {
    "duration": 3,
    "start_time": "2022-05-14T11:19:11.006Z"
   },
   {
    "duration": 4,
    "start_time": "2022-05-14T11:19:22.732Z"
   },
   {
    "duration": 9,
    "start_time": "2022-05-14T11:27:02.398Z"
   },
   {
    "duration": 5,
    "start_time": "2022-05-14T11:27:07.368Z"
   },
   {
    "duration": 4,
    "start_time": "2022-05-14T11:28:37.763Z"
   },
   {
    "duration": 3,
    "start_time": "2022-05-14T11:28:57.114Z"
   },
   {
    "duration": 2,
    "start_time": "2022-05-14T11:29:56.621Z"
   },
   {
    "duration": 3,
    "start_time": "2022-05-14T11:31:15.739Z"
   },
   {
    "duration": 4,
    "start_time": "2022-05-14T11:31:21.063Z"
   },
   {
    "duration": 105,
    "start_time": "2022-05-14T11:31:57.005Z"
   },
   {
    "duration": 116,
    "start_time": "2022-05-14T11:32:14.571Z"
   },
   {
    "duration": 4,
    "start_time": "2022-05-14T11:32:23.264Z"
   },
   {
    "duration": 215,
    "start_time": "2022-05-14T11:32:29.805Z"
   },
   {
    "duration": 5,
    "start_time": "2022-05-14T11:32:50.620Z"
   },
   {
    "duration": 109,
    "start_time": "2022-05-14T11:32:51.790Z"
   },
   {
    "duration": 1651,
    "start_time": "2022-05-14T22:03:43.117Z"
   },
   {
    "duration": 648,
    "start_time": "2022-05-14T22:03:44.771Z"
   },
   {
    "duration": 19,
    "start_time": "2022-05-14T22:03:45.421Z"
   },
   {
    "duration": 28,
    "start_time": "2022-05-14T22:03:45.443Z"
   },
   {
    "duration": 4,
    "start_time": "2022-05-14T22:03:45.473Z"
   },
   {
    "duration": 7,
    "start_time": "2022-05-14T22:03:45.478Z"
   },
   {
    "duration": 239,
    "start_time": "2022-05-14T22:03:45.487Z"
   },
   {
    "duration": 285,
    "start_time": "2022-05-14T22:03:45.728Z"
   },
   {
    "duration": 5,
    "start_time": "2022-05-14T22:03:46.014Z"
   },
   {
    "duration": 5,
    "start_time": "2022-05-14T22:03:46.021Z"
   },
   {
    "duration": 7,
    "start_time": "2022-05-14T22:03:46.028Z"
   },
   {
    "duration": 26,
    "start_time": "2022-05-14T22:03:46.036Z"
   },
   {
    "duration": 7,
    "start_time": "2022-05-14T22:03:46.063Z"
   },
   {
    "duration": 12,
    "start_time": "2022-05-14T22:03:46.072Z"
   },
   {
    "duration": 5,
    "start_time": "2022-05-14T22:03:46.086Z"
   },
   {
    "duration": 7,
    "start_time": "2022-05-14T22:03:46.092Z"
   },
   {
    "duration": 5,
    "start_time": "2022-05-14T22:03:46.100Z"
   },
   {
    "duration": 6,
    "start_time": "2022-05-14T22:03:46.107Z"
   },
   {
    "duration": 4,
    "start_time": "2022-05-14T22:03:46.114Z"
   },
   {
    "duration": 9,
    "start_time": "2022-05-14T22:03:46.120Z"
   },
   {
    "duration": 32,
    "start_time": "2022-05-14T22:03:46.131Z"
   },
   {
    "duration": 5,
    "start_time": "2022-05-14T22:03:46.165Z"
   },
   {
    "duration": 6,
    "start_time": "2022-05-14T22:03:46.171Z"
   },
   {
    "duration": 5,
    "start_time": "2022-05-14T22:03:46.178Z"
   },
   {
    "duration": 223,
    "start_time": "2022-05-14T22:03:46.185Z"
   },
   {
    "duration": 4,
    "start_time": "2022-05-14T22:08:57.434Z"
   },
   {
    "duration": 100,
    "start_time": "2022-05-14T22:08:59.074Z"
   },
   {
    "duration": 5,
    "start_time": "2022-05-14T22:09:22.130Z"
   },
   {
    "duration": 157,
    "start_time": "2022-05-14T22:10:41.590Z"
   },
   {
    "duration": 162,
    "start_time": "2022-05-14T22:10:55.574Z"
   },
   {
    "duration": 228,
    "start_time": "2022-05-14T22:11:20.271Z"
   },
   {
    "duration": 237,
    "start_time": "2022-05-14T22:11:31.912Z"
   },
   {
    "duration": 4,
    "start_time": "2022-05-14T22:13:49.485Z"
   },
   {
    "duration": 162,
    "start_time": "2022-05-14T22:13:50.746Z"
   },
   {
    "duration": 343,
    "start_time": "2022-05-14T22:14:17.049Z"
   },
   {
    "duration": 252,
    "start_time": "2022-05-14T22:14:56.061Z"
   },
   {
    "duration": 4,
    "start_time": "2022-05-14T22:15:24.167Z"
   },
   {
    "duration": 228,
    "start_time": "2022-05-14T22:15:24.502Z"
   },
   {
    "duration": 314,
    "start_time": "2022-05-14T22:16:36.210Z"
   },
   {
    "duration": 367,
    "start_time": "2022-05-14T22:16:36.527Z"
   },
   {
    "duration": 1691,
    "start_time": "2022-05-15T05:16:16.945Z"
   },
   {
    "duration": 732,
    "start_time": "2022-05-15T05:16:18.638Z"
   },
   {
    "duration": 20,
    "start_time": "2022-05-15T05:16:19.372Z"
   },
   {
    "duration": 23,
    "start_time": "2022-05-15T05:16:19.394Z"
   },
   {
    "duration": 4,
    "start_time": "2022-05-15T05:16:19.419Z"
   },
   {
    "duration": 6,
    "start_time": "2022-05-15T05:16:19.425Z"
   },
   {
    "duration": 293,
    "start_time": "2022-05-15T05:16:19.432Z"
   },
   {
    "duration": 346,
    "start_time": "2022-05-15T05:16:19.727Z"
   },
   {
    "duration": 5,
    "start_time": "2022-05-15T05:16:20.074Z"
   },
   {
    "duration": 4,
    "start_time": "2022-05-15T05:16:20.082Z"
   },
   {
    "duration": 21,
    "start_time": "2022-05-15T05:16:20.087Z"
   },
   {
    "duration": 9,
    "start_time": "2022-05-15T05:16:20.112Z"
   },
   {
    "duration": 7,
    "start_time": "2022-05-15T05:16:20.124Z"
   },
   {
    "duration": 13,
    "start_time": "2022-05-15T05:16:20.134Z"
   },
   {
    "duration": 8,
    "start_time": "2022-05-15T05:16:20.148Z"
   },
   {
    "duration": 7,
    "start_time": "2022-05-15T05:16:20.158Z"
   },
   {
    "duration": 44,
    "start_time": "2022-05-15T05:16:20.167Z"
   },
   {
    "duration": 12,
    "start_time": "2022-05-15T05:16:20.212Z"
   },
   {
    "duration": 2,
    "start_time": "2022-05-15T05:16:20.226Z"
   },
   {
    "duration": 8,
    "start_time": "2022-05-15T05:16:20.230Z"
   },
   {
    "duration": 6,
    "start_time": "2022-05-15T05:16:20.240Z"
   },
   {
    "duration": 6,
    "start_time": "2022-05-15T05:16:20.247Z"
   },
   {
    "duration": 5,
    "start_time": "2022-05-15T05:16:20.254Z"
   },
   {
    "duration": 4,
    "start_time": "2022-05-15T05:16:20.261Z"
   },
   {
    "duration": 307,
    "start_time": "2022-05-15T05:16:20.267Z"
   },
   {
    "duration": 291,
    "start_time": "2022-05-15T05:16:20.575Z"
   },
   {
    "duration": 293,
    "start_time": "2022-05-15T05:16:20.868Z"
   },
   {
    "duration": 244,
    "start_time": "2022-05-15T05:37:22.953Z"
   },
   {
    "duration": 254,
    "start_time": "2022-05-15T05:37:45.638Z"
   },
   {
    "duration": 370,
    "start_time": "2022-05-15T05:38:06.517Z"
   },
   {
    "duration": 119,
    "start_time": "2022-05-15T05:39:35.096Z"
   },
   {
    "duration": 17,
    "start_time": "2022-05-15T05:40:04.211Z"
   },
   {
    "duration": 14,
    "start_time": "2022-05-15T05:40:19.341Z"
   },
   {
    "duration": 12,
    "start_time": "2022-05-15T05:40:44.491Z"
   },
   {
    "duration": 168,
    "start_time": "2022-05-15T05:41:31.006Z"
   },
   {
    "duration": 154,
    "start_time": "2022-05-15T05:41:31.238Z"
   },
   {
    "duration": 138,
    "start_time": "2022-05-15T05:42:23.939Z"
   },
   {
    "duration": 144,
    "start_time": "2022-05-15T05:42:33.251Z"
   },
   {
    "duration": 141,
    "start_time": "2022-05-15T05:43:13.235Z"
   },
   {
    "duration": 122,
    "start_time": "2022-05-15T05:43:28.331Z"
   },
   {
    "duration": 155,
    "start_time": "2022-05-15T05:50:04.299Z"
   },
   {
    "duration": 162,
    "start_time": "2022-05-15T05:50:12.335Z"
   },
   {
    "duration": 2530,
    "start_time": "2022-05-17T18:03:33.041Z"
   },
   {
    "duration": 834,
    "start_time": "2022-05-17T18:03:35.575Z"
   },
   {
    "duration": 28,
    "start_time": "2022-05-17T18:03:36.411Z"
   },
   {
    "duration": 18,
    "start_time": "2022-05-17T18:03:36.458Z"
   },
   {
    "duration": 5,
    "start_time": "2022-05-17T18:03:36.478Z"
   },
   {
    "duration": 22,
    "start_time": "2022-05-17T18:03:36.486Z"
   },
   {
    "duration": 407,
    "start_time": "2022-05-17T18:03:36.511Z"
   },
   {
    "duration": 453,
    "start_time": "2022-05-17T18:03:36.921Z"
   },
   {
    "duration": 5,
    "start_time": "2022-05-17T18:03:37.377Z"
   },
   {
    "duration": 27,
    "start_time": "2022-05-17T18:03:37.386Z"
   },
   {
    "duration": 33,
    "start_time": "2022-05-17T18:03:37.415Z"
   },
   {
    "duration": 25,
    "start_time": "2022-05-17T18:03:37.450Z"
   },
   {
    "duration": 28,
    "start_time": "2022-05-17T18:03:37.477Z"
   },
   {
    "duration": 26,
    "start_time": "2022-05-17T18:03:37.507Z"
   },
   {
    "duration": 22,
    "start_time": "2022-05-17T18:03:37.535Z"
   },
   {
    "duration": 8,
    "start_time": "2022-05-17T18:03:37.559Z"
   },
   {
    "duration": 28,
    "start_time": "2022-05-17T18:03:37.569Z"
   },
   {
    "duration": 8,
    "start_time": "2022-05-17T18:03:37.599Z"
   },
   {
    "duration": 16,
    "start_time": "2022-05-17T18:03:37.609Z"
   },
   {
    "duration": 28,
    "start_time": "2022-05-17T18:03:37.627Z"
   },
   {
    "duration": 13,
    "start_time": "2022-05-17T18:03:37.657Z"
   },
   {
    "duration": 29,
    "start_time": "2022-05-17T18:03:37.672Z"
   },
   {
    "duration": 13,
    "start_time": "2022-05-17T18:03:37.703Z"
   },
   {
    "duration": 20,
    "start_time": "2022-05-17T18:03:37.719Z"
   },
   {
    "duration": 415,
    "start_time": "2022-05-17T18:03:37.741Z"
   },
   {
    "duration": 419,
    "start_time": "2022-05-17T18:03:38.158Z"
   },
   {
    "duration": 444,
    "start_time": "2022-05-17T18:03:38.579Z"
   },
   {
    "duration": 251,
    "start_time": "2022-05-17T18:03:39.028Z"
   },
   {
    "duration": 261,
    "start_time": "2022-05-17T18:03:39.281Z"
   },
   {
    "duration": 223,
    "start_time": "2022-05-17T18:03:39.545Z"
   },
   {
    "duration": 206,
    "start_time": "2022-05-17T18:03:39.770Z"
   },
   {
    "duration": 16,
    "start_time": "2022-05-17T18:14:03.896Z"
   },
   {
    "duration": 147,
    "start_time": "2022-05-17T18:14:16.083Z"
   },
   {
    "duration": 17,
    "start_time": "2022-05-17T18:14:22.312Z"
   },
   {
    "duration": 201,
    "start_time": "2022-05-17T18:14:30.467Z"
   },
   {
    "duration": 284,
    "start_time": "2022-05-17T18:14:55.160Z"
   },
   {
    "duration": 13,
    "start_time": "2022-05-17T18:16:11.824Z"
   },
   {
    "duration": 18,
    "start_time": "2022-05-17T18:16:18.948Z"
   },
   {
    "duration": 10,
    "start_time": "2022-05-17T18:18:56.023Z"
   },
   {
    "duration": 9,
    "start_time": "2022-05-17T18:19:27.320Z"
   },
   {
    "duration": 17,
    "start_time": "2022-05-17T18:19:35.298Z"
   },
   {
    "duration": 220,
    "start_time": "2022-05-17T18:19:42.003Z"
   },
   {
    "duration": 6,
    "start_time": "2022-05-17T18:21:32.784Z"
   },
   {
    "duration": 44,
    "start_time": "2022-05-17T18:21:52.854Z"
   },
   {
    "duration": 18,
    "start_time": "2022-05-17T18:21:58.597Z"
   },
   {
    "duration": 5,
    "start_time": "2022-05-17T18:22:06.944Z"
   },
   {
    "duration": 5,
    "start_time": "2022-05-17T18:22:58.360Z"
   },
   {
    "duration": 3,
    "start_time": "2022-05-17T18:23:19.778Z"
   },
   {
    "duration": 8,
    "start_time": "2022-05-17T18:25:03.263Z"
   },
   {
    "duration": 20,
    "start_time": "2022-05-17T18:25:10.682Z"
   },
   {
    "duration": 14,
    "start_time": "2022-05-17T18:25:31.261Z"
   },
   {
    "duration": 2421,
    "start_time": "2022-05-17T18:25:41.897Z"
   },
   {
    "duration": 958,
    "start_time": "2022-05-17T18:25:50.200Z"
   },
   {
    "duration": 266,
    "start_time": "2022-05-17T18:28:15.752Z"
   },
   {
    "duration": 5124,
    "start_time": "2022-05-17T18:29:38.615Z"
   },
   {
    "duration": 15233,
    "start_time": "2022-05-17T18:29:55.769Z"
   },
   {
    "duration": 7,
    "start_time": "2022-05-17T18:30:18.075Z"
   },
   {
    "duration": 13,
    "start_time": "2022-05-17T18:30:23.524Z"
   },
   {
    "duration": 2461,
    "start_time": "2022-05-17T18:30:38.851Z"
   },
   {
    "duration": 143,
    "start_time": "2022-05-17T18:30:51.270Z"
   },
   {
    "duration": 6,
    "start_time": "2022-05-17T18:31:01.470Z"
   },
   {
    "duration": 6,
    "start_time": "2022-05-17T18:31:06.470Z"
   },
   {
    "duration": 5,
    "start_time": "2022-05-17T18:31:11.688Z"
   },
   {
    "duration": 7,
    "start_time": "2022-05-17T18:31:27.012Z"
   },
   {
    "duration": 6,
    "start_time": "2022-05-17T18:31:35.036Z"
   },
   {
    "duration": 6,
    "start_time": "2022-05-17T18:31:51.173Z"
   },
   {
    "duration": 6,
    "start_time": "2022-05-17T18:31:55.770Z"
   },
   {
    "duration": 8,
    "start_time": "2022-05-17T18:32:07.001Z"
   },
   {
    "duration": 5,
    "start_time": "2022-05-17T18:32:16.048Z"
   },
   {
    "duration": 6,
    "start_time": "2022-05-17T18:32:21.289Z"
   },
   {
    "duration": 1521,
    "start_time": "2022-05-19T04:58:09.129Z"
   },
   {
    "duration": 1606,
    "start_time": "2022-05-19T04:58:10.652Z"
   },
   {
    "duration": 20,
    "start_time": "2022-05-19T04:58:12.259Z"
   },
   {
    "duration": 12,
    "start_time": "2022-05-19T04:58:12.281Z"
   },
   {
    "duration": 3,
    "start_time": "2022-05-19T04:58:12.295Z"
   },
   {
    "duration": 8,
    "start_time": "2022-05-19T04:58:12.299Z"
   },
   {
    "duration": 289,
    "start_time": "2022-05-19T04:58:12.308Z"
   },
   {
    "duration": 260,
    "start_time": "2022-05-19T04:58:12.598Z"
   },
   {
    "duration": 5,
    "start_time": "2022-05-19T04:58:12.859Z"
   },
   {
    "duration": 11,
    "start_time": "2022-05-19T04:58:12.866Z"
   },
   {
    "duration": 8,
    "start_time": "2022-05-19T04:58:12.879Z"
   },
   {
    "duration": 12,
    "start_time": "2022-05-19T04:58:12.888Z"
   },
   {
    "duration": 6,
    "start_time": "2022-05-19T04:58:12.901Z"
   },
   {
    "duration": 31,
    "start_time": "2022-05-19T04:58:12.909Z"
   },
   {
    "duration": 13,
    "start_time": "2022-05-19T04:58:12.941Z"
   },
   {
    "duration": 10,
    "start_time": "2022-05-19T04:58:12.955Z"
   },
   {
    "duration": 12,
    "start_time": "2022-05-19T04:58:12.967Z"
   },
   {
    "duration": 6,
    "start_time": "2022-05-19T04:58:12.980Z"
   },
   {
    "duration": 5,
    "start_time": "2022-05-19T04:58:12.987Z"
   },
   {
    "duration": 7,
    "start_time": "2022-05-19T04:58:12.994Z"
   },
   {
    "duration": 8,
    "start_time": "2022-05-19T04:58:13.002Z"
   },
   {
    "duration": 30,
    "start_time": "2022-05-19T04:58:13.012Z"
   },
   {
    "duration": 9,
    "start_time": "2022-05-19T04:58:13.044Z"
   },
   {
    "duration": 9,
    "start_time": "2022-05-19T04:58:13.054Z"
   },
   {
    "duration": 278,
    "start_time": "2022-05-19T04:58:13.064Z"
   },
   {
    "duration": 266,
    "start_time": "2022-05-19T04:58:13.344Z"
   },
   {
    "duration": 382,
    "start_time": "2022-05-19T04:58:13.612Z"
   },
   {
    "duration": 161,
    "start_time": "2022-05-19T04:58:13.999Z"
   },
   {
    "duration": 158,
    "start_time": "2022-05-19T04:58:14.162Z"
   },
   {
    "duration": 128,
    "start_time": "2022-05-19T04:58:14.327Z"
   },
   {
    "duration": 142,
    "start_time": "2022-05-19T04:58:14.457Z"
   },
   {
    "duration": 12,
    "start_time": "2022-05-19T04:58:14.601Z"
   },
   {
    "duration": 210,
    "start_time": "2022-05-19T04:58:14.614Z"
   },
   {
    "duration": 19,
    "start_time": "2022-05-19T04:58:14.828Z"
   },
   {
    "duration": 21,
    "start_time": "2022-05-19T04:58:14.848Z"
   },
   {
    "duration": 10,
    "start_time": "2022-05-19T04:58:14.870Z"
   },
   {
    "duration": 13,
    "start_time": "2022-05-19T04:58:14.882Z"
   },
   {
    "duration": 16,
    "start_time": "2022-05-19T04:58:14.896Z"
   },
   {
    "duration": 182,
    "start_time": "2022-05-19T04:58:14.914Z"
   },
   {
    "duration": 4,
    "start_time": "2022-05-19T04:58:15.098Z"
   },
   {
    "duration": 44,
    "start_time": "2022-05-19T04:58:15.104Z"
   },
   {
    "duration": 13,
    "start_time": "2022-05-19T04:58:15.149Z"
   },
   {
    "duration": 4,
    "start_time": "2022-05-19T04:58:15.163Z"
   },
   {
    "duration": 10,
    "start_time": "2022-05-19T04:58:15.168Z"
   },
   {
    "duration": 6,
    "start_time": "2022-05-19T04:58:15.180Z"
   },
   {
    "duration": 11,
    "start_time": "2022-05-19T04:58:15.188Z"
   },
   {
    "duration": 36,
    "start_time": "2022-05-19T04:58:15.201Z"
   },
   {
    "duration": 2069,
    "start_time": "2022-05-19T04:58:15.238Z"
   },
   {
    "duration": 1422,
    "start_time": "2022-05-19T04:58:17.308Z"
   },
   {
    "duration": 1228,
    "start_time": "2022-05-19T04:58:18.734Z"
   },
   {
    "duration": 1386,
    "start_time": "2022-05-19T15:32:06.787Z"
   },
   {
    "duration": 1395,
    "start_time": "2022-05-19T15:32:08.176Z"
   },
   {
    "duration": 20,
    "start_time": "2022-05-19T15:32:09.572Z"
   },
   {
    "duration": 12,
    "start_time": "2022-05-19T15:32:09.593Z"
   },
   {
    "duration": 4,
    "start_time": "2022-05-19T15:32:09.607Z"
   },
   {
    "duration": 8,
    "start_time": "2022-05-19T15:32:09.613Z"
   },
   {
    "duration": 271,
    "start_time": "2022-05-19T15:32:09.622Z"
   },
   {
    "duration": 266,
    "start_time": "2022-05-19T15:32:09.896Z"
   },
   {
    "duration": 5,
    "start_time": "2022-05-19T15:32:10.163Z"
   },
   {
    "duration": 8,
    "start_time": "2022-05-19T15:32:10.170Z"
   },
   {
    "duration": 7,
    "start_time": "2022-05-19T15:32:10.179Z"
   },
   {
    "duration": 9,
    "start_time": "2022-05-19T15:32:10.187Z"
   },
   {
    "duration": 7,
    "start_time": "2022-05-19T15:32:10.197Z"
   },
   {
    "duration": 13,
    "start_time": "2022-05-19T15:32:10.207Z"
   },
   {
    "duration": 31,
    "start_time": "2022-05-19T15:32:10.222Z"
   },
   {
    "duration": 6,
    "start_time": "2022-05-19T15:32:10.255Z"
   },
   {
    "duration": 11,
    "start_time": "2022-05-19T15:32:10.263Z"
   },
   {
    "duration": 5,
    "start_time": "2022-05-19T15:32:10.275Z"
   },
   {
    "duration": 15,
    "start_time": "2022-05-19T15:32:10.282Z"
   },
   {
    "duration": 12,
    "start_time": "2022-05-19T15:32:10.298Z"
   },
   {
    "duration": 12,
    "start_time": "2022-05-19T15:32:10.311Z"
   },
   {
    "duration": 5,
    "start_time": "2022-05-19T15:32:10.325Z"
   },
   {
    "duration": 6,
    "start_time": "2022-05-19T15:32:10.332Z"
   },
   {
    "duration": 13,
    "start_time": "2022-05-19T15:32:10.339Z"
   },
   {
    "duration": 258,
    "start_time": "2022-05-19T15:32:10.353Z"
   },
   {
    "duration": 262,
    "start_time": "2022-05-19T15:32:10.613Z"
   },
   {
    "duration": 343,
    "start_time": "2022-05-19T15:32:10.877Z"
   },
   {
    "duration": 153,
    "start_time": "2022-05-19T15:32:11.222Z"
   },
   {
    "duration": 158,
    "start_time": "2022-05-19T15:32:11.377Z"
   },
   {
    "duration": 148,
    "start_time": "2022-05-19T15:32:11.537Z"
   },
   {
    "duration": 127,
    "start_time": "2022-05-19T15:32:11.686Z"
   },
   {
    "duration": 10,
    "start_time": "2022-05-19T15:32:11.815Z"
   },
   {
    "duration": 186,
    "start_time": "2022-05-19T15:32:11.827Z"
   },
   {
    "duration": 11,
    "start_time": "2022-05-19T15:32:12.014Z"
   },
   {
    "duration": 25,
    "start_time": "2022-05-19T15:32:12.027Z"
   },
   {
    "duration": 7,
    "start_time": "2022-05-19T15:32:12.053Z"
   },
   {
    "duration": 8,
    "start_time": "2022-05-19T15:32:12.062Z"
   },
   {
    "duration": 11,
    "start_time": "2022-05-19T15:32:12.072Z"
   },
   {
    "duration": 170,
    "start_time": "2022-05-19T15:32:12.084Z"
   },
   {
    "duration": 5,
    "start_time": "2022-05-19T15:32:12.255Z"
   },
   {
    "duration": 34,
    "start_time": "2022-05-19T15:32:12.265Z"
   },
   {
    "duration": 11,
    "start_time": "2022-05-19T15:32:12.301Z"
   },
   {
    "duration": 3,
    "start_time": "2022-05-19T15:32:12.314Z"
   },
   {
    "duration": 22,
    "start_time": "2022-05-19T15:32:12.318Z"
   },
   {
    "duration": 10,
    "start_time": "2022-05-19T15:32:12.342Z"
   },
   {
    "duration": 8,
    "start_time": "2022-05-19T15:32:12.353Z"
   },
   {
    "duration": 19,
    "start_time": "2022-05-19T15:32:12.362Z"
   },
   {
    "duration": 1914,
    "start_time": "2022-05-19T15:32:12.383Z"
   },
   {
    "duration": 462,
    "start_time": "2022-05-19T15:32:14.299Z"
   },
   {
    "duration": 1611,
    "start_time": "2022-05-19T15:32:14.762Z"
   },
   {
    "duration": 11148,
    "start_time": "2022-05-19T15:32:16.374Z"
   },
   {
    "duration": 5,
    "start_time": "2022-05-19T15:32:27.523Z"
   },
   {
    "duration": 16,
    "start_time": "2022-05-19T15:32:27.529Z"
   },
   {
    "duration": 582,
    "start_time": "2022-05-19T15:32:27.552Z"
   },
   {
    "duration": 4,
    "start_time": "2022-05-19T15:32:28.136Z"
   },
   {
    "duration": 11,
    "start_time": "2022-05-19T15:32:28.142Z"
   },
   {
    "duration": 5,
    "start_time": "2022-05-19T15:32:28.155Z"
   },
   {
    "duration": 5,
    "start_time": "2022-05-19T15:32:28.162Z"
   },
   {
    "duration": 8,
    "start_time": "2022-05-19T15:32:28.168Z"
   },
   {
    "duration": 7,
    "start_time": "2022-05-19T15:32:28.178Z"
   },
   {
    "duration": 6,
    "start_time": "2022-05-19T15:32:28.186Z"
   }
  ],
  "colab": {
   "collapsed_sections": [
    "Ov3g8Rwd9oSC"
   ],
   "name": "notebook.ipynb",
   "provenance": []
  },
  "kernelspec": {
   "display_name": "Python 3 (ipykernel)",
   "language": "python",
   "name": "python3"
  },
  "language_info": {
   "codemirror_mode": {
    "name": "ipython",
    "version": 3
   },
   "file_extension": ".py",
   "mimetype": "text/x-python",
   "name": "python",
   "nbconvert_exporter": "python",
   "pygments_lexer": "ipython3",
   "version": "3.10.1"
  },
  "toc": {
   "base_numbering": 1,
   "nav_menu": {},
   "number_sections": true,
   "sideBar": true,
   "skip_h1_title": true,
   "title_cell": "Содержание",
   "title_sidebar": "Contents",
   "toc_cell": true,
   "toc_position": {},
   "toc_section_display": true,
   "toc_window_display": false
  }
 },
 "nbformat": 4,
 "nbformat_minor": 1
}
