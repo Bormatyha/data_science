{
 "cells": [
  {
   "cell_type": "markdown",
   "id": "2ae4c8a6",
   "metadata": {},
   "source": [
    "# Исследование надежности заемщиков."
   ]
  },
  {
   "cell_type": "markdown",
   "id": "fc4a3987",
   "metadata": {},
   "source": [
    "Нужно разобраться, влияет ли семейное положение и количество детей клиента на факт погашения кредита в срок.\n",
    "\n",
    "Необходимо ответить на вопросы:\n",
    "* 1 Есть ли зависимость между количеством детей и возвратом кредита в срок?\n",
    "* 2 Есть ли зависимость между семейным положением и возвратом кредита в срок?\n",
    "* 3 Есть ли зависимость между уровнем дохода и возвратом кредита в срок?\n",
    "* 4 Как разные цели кредита влияют на его возврат в срок?"
   ]
  },
  {
   "cell_type": "markdown",
   "id": "1f1cea41",
   "metadata": {},
   "source": [
    "### Шаг 1. Обзор данных"
   ]
  },
  {
   "cell_type": "code",
   "execution_count": 1,
   "id": "0729ba97",
   "metadata": {},
   "outputs": [],
   "source": [
    "import pandas as pd"
   ]
  },
  {
   "cell_type": "code",
   "execution_count": 2,
   "id": "6b04b3e6",
   "metadata": {},
   "outputs": [
    {
     "name": "stdout",
     "output_type": "stream",
     "text": [
      "<class 'pandas.core.frame.DataFrame'>\n",
      "RangeIndex: 21525 entries, 0 to 21524\n",
      "Data columns (total 12 columns):\n",
      "children            21525 non-null int64\n",
      "days_employed       19351 non-null float64\n",
      "dob_years           21525 non-null int64\n",
      "education           21525 non-null object\n",
      "education_id        21525 non-null int64\n",
      "family_status       21525 non-null object\n",
      "family_status_id    21525 non-null int64\n",
      "gender              21525 non-null object\n",
      "income_type         21525 non-null object\n",
      "debt                21525 non-null int64\n",
      "total_income        19351 non-null float64\n",
      "purpose             21525 non-null object\n",
      "dtypes: float64(2), int64(5), object(5)\n",
      "memory usage: 2.0+ MB\n"
     ]
    },
    {
     "data": {
      "text/html": [
       "<div>\n",
       "<style scoped>\n",
       "    .dataframe tbody tr th:only-of-type {\n",
       "        vertical-align: middle;\n",
       "    }\n",
       "\n",
       "    .dataframe tbody tr th {\n",
       "        vertical-align: top;\n",
       "    }\n",
       "\n",
       "    .dataframe thead th {\n",
       "        text-align: right;\n",
       "    }\n",
       "</style>\n",
       "<table border=\"1\" class=\"dataframe\">\n",
       "  <thead>\n",
       "    <tr style=\"text-align: right;\">\n",
       "      <th></th>\n",
       "      <th>children</th>\n",
       "      <th>days_employed</th>\n",
       "      <th>dob_years</th>\n",
       "      <th>education</th>\n",
       "      <th>education_id</th>\n",
       "      <th>family_status</th>\n",
       "      <th>family_status_id</th>\n",
       "      <th>gender</th>\n",
       "      <th>income_type</th>\n",
       "      <th>debt</th>\n",
       "      <th>total_income</th>\n",
       "      <th>purpose</th>\n",
       "    </tr>\n",
       "  </thead>\n",
       "  <tbody>\n",
       "    <tr>\n",
       "      <td>0</td>\n",
       "      <td>1</td>\n",
       "      <td>-8437.673028</td>\n",
       "      <td>42</td>\n",
       "      <td>высшее</td>\n",
       "      <td>0</td>\n",
       "      <td>женат / замужем</td>\n",
       "      <td>0</td>\n",
       "      <td>F</td>\n",
       "      <td>сотрудник</td>\n",
       "      <td>0</td>\n",
       "      <td>253875.639453</td>\n",
       "      <td>покупка жилья</td>\n",
       "    </tr>\n",
       "    <tr>\n",
       "      <td>1</td>\n",
       "      <td>1</td>\n",
       "      <td>-4024.803754</td>\n",
       "      <td>36</td>\n",
       "      <td>среднее</td>\n",
       "      <td>1</td>\n",
       "      <td>женат / замужем</td>\n",
       "      <td>0</td>\n",
       "      <td>F</td>\n",
       "      <td>сотрудник</td>\n",
       "      <td>0</td>\n",
       "      <td>112080.014102</td>\n",
       "      <td>приобретение автомобиля</td>\n",
       "    </tr>\n",
       "    <tr>\n",
       "      <td>2</td>\n",
       "      <td>0</td>\n",
       "      <td>-5623.422610</td>\n",
       "      <td>33</td>\n",
       "      <td>Среднее</td>\n",
       "      <td>1</td>\n",
       "      <td>женат / замужем</td>\n",
       "      <td>0</td>\n",
       "      <td>M</td>\n",
       "      <td>сотрудник</td>\n",
       "      <td>0</td>\n",
       "      <td>145885.952297</td>\n",
       "      <td>покупка жилья</td>\n",
       "    </tr>\n",
       "    <tr>\n",
       "      <td>3</td>\n",
       "      <td>3</td>\n",
       "      <td>-4124.747207</td>\n",
       "      <td>32</td>\n",
       "      <td>среднее</td>\n",
       "      <td>1</td>\n",
       "      <td>женат / замужем</td>\n",
       "      <td>0</td>\n",
       "      <td>M</td>\n",
       "      <td>сотрудник</td>\n",
       "      <td>0</td>\n",
       "      <td>267628.550329</td>\n",
       "      <td>дополнительное образование</td>\n",
       "    </tr>\n",
       "    <tr>\n",
       "      <td>4</td>\n",
       "      <td>0</td>\n",
       "      <td>340266.072047</td>\n",
       "      <td>53</td>\n",
       "      <td>среднее</td>\n",
       "      <td>1</td>\n",
       "      <td>гражданский брак</td>\n",
       "      <td>1</td>\n",
       "      <td>F</td>\n",
       "      <td>пенсионер</td>\n",
       "      <td>0</td>\n",
       "      <td>158616.077870</td>\n",
       "      <td>сыграть свадьбу</td>\n",
       "    </tr>\n",
       "    <tr>\n",
       "      <td>5</td>\n",
       "      <td>0</td>\n",
       "      <td>-926.185831</td>\n",
       "      <td>27</td>\n",
       "      <td>высшее</td>\n",
       "      <td>0</td>\n",
       "      <td>гражданский брак</td>\n",
       "      <td>1</td>\n",
       "      <td>M</td>\n",
       "      <td>компаньон</td>\n",
       "      <td>0</td>\n",
       "      <td>255763.565419</td>\n",
       "      <td>покупка жилья</td>\n",
       "    </tr>\n",
       "    <tr>\n",
       "      <td>6</td>\n",
       "      <td>0</td>\n",
       "      <td>-2879.202052</td>\n",
       "      <td>43</td>\n",
       "      <td>высшее</td>\n",
       "      <td>0</td>\n",
       "      <td>женат / замужем</td>\n",
       "      <td>0</td>\n",
       "      <td>F</td>\n",
       "      <td>компаньон</td>\n",
       "      <td>0</td>\n",
       "      <td>240525.971920</td>\n",
       "      <td>операции с жильем</td>\n",
       "    </tr>\n",
       "    <tr>\n",
       "      <td>7</td>\n",
       "      <td>0</td>\n",
       "      <td>-152.779569</td>\n",
       "      <td>50</td>\n",
       "      <td>СРЕДНЕЕ</td>\n",
       "      <td>1</td>\n",
       "      <td>женат / замужем</td>\n",
       "      <td>0</td>\n",
       "      <td>M</td>\n",
       "      <td>сотрудник</td>\n",
       "      <td>0</td>\n",
       "      <td>135823.934197</td>\n",
       "      <td>образование</td>\n",
       "    </tr>\n",
       "    <tr>\n",
       "      <td>8</td>\n",
       "      <td>2</td>\n",
       "      <td>-6929.865299</td>\n",
       "      <td>35</td>\n",
       "      <td>ВЫСШЕЕ</td>\n",
       "      <td>0</td>\n",
       "      <td>гражданский брак</td>\n",
       "      <td>1</td>\n",
       "      <td>F</td>\n",
       "      <td>сотрудник</td>\n",
       "      <td>0</td>\n",
       "      <td>95856.832424</td>\n",
       "      <td>на проведение свадьбы</td>\n",
       "    </tr>\n",
       "    <tr>\n",
       "      <td>9</td>\n",
       "      <td>0</td>\n",
       "      <td>-2188.756445</td>\n",
       "      <td>41</td>\n",
       "      <td>среднее</td>\n",
       "      <td>1</td>\n",
       "      <td>женат / замужем</td>\n",
       "      <td>0</td>\n",
       "      <td>M</td>\n",
       "      <td>сотрудник</td>\n",
       "      <td>0</td>\n",
       "      <td>144425.938277</td>\n",
       "      <td>покупка жилья для семьи</td>\n",
       "    </tr>\n",
       "    <tr>\n",
       "      <td>10</td>\n",
       "      <td>2</td>\n",
       "      <td>-4171.483647</td>\n",
       "      <td>36</td>\n",
       "      <td>высшее</td>\n",
       "      <td>0</td>\n",
       "      <td>женат / замужем</td>\n",
       "      <td>0</td>\n",
       "      <td>M</td>\n",
       "      <td>компаньон</td>\n",
       "      <td>0</td>\n",
       "      <td>113943.491460</td>\n",
       "      <td>покупка недвижимости</td>\n",
       "    </tr>\n",
       "    <tr>\n",
       "      <td>11</td>\n",
       "      <td>0</td>\n",
       "      <td>-792.701887</td>\n",
       "      <td>40</td>\n",
       "      <td>среднее</td>\n",
       "      <td>1</td>\n",
       "      <td>женат / замужем</td>\n",
       "      <td>0</td>\n",
       "      <td>F</td>\n",
       "      <td>сотрудник</td>\n",
       "      <td>0</td>\n",
       "      <td>77069.234271</td>\n",
       "      <td>покупка коммерческой недвижимости</td>\n",
       "    </tr>\n",
       "    <tr>\n",
       "      <td>12</td>\n",
       "      <td>0</td>\n",
       "      <td>NaN</td>\n",
       "      <td>65</td>\n",
       "      <td>среднее</td>\n",
       "      <td>1</td>\n",
       "      <td>гражданский брак</td>\n",
       "      <td>1</td>\n",
       "      <td>M</td>\n",
       "      <td>пенсионер</td>\n",
       "      <td>0</td>\n",
       "      <td>NaN</td>\n",
       "      <td>сыграть свадьбу</td>\n",
       "    </tr>\n",
       "    <tr>\n",
       "      <td>13</td>\n",
       "      <td>0</td>\n",
       "      <td>-1846.641941</td>\n",
       "      <td>54</td>\n",
       "      <td>неоконченное высшее</td>\n",
       "      <td>2</td>\n",
       "      <td>женат / замужем</td>\n",
       "      <td>0</td>\n",
       "      <td>F</td>\n",
       "      <td>сотрудник</td>\n",
       "      <td>0</td>\n",
       "      <td>130458.228857</td>\n",
       "      <td>приобретение автомобиля</td>\n",
       "    </tr>\n",
       "    <tr>\n",
       "      <td>14</td>\n",
       "      <td>0</td>\n",
       "      <td>-1844.956182</td>\n",
       "      <td>56</td>\n",
       "      <td>высшее</td>\n",
       "      <td>0</td>\n",
       "      <td>гражданский брак</td>\n",
       "      <td>1</td>\n",
       "      <td>F</td>\n",
       "      <td>компаньон</td>\n",
       "      <td>1</td>\n",
       "      <td>165127.911772</td>\n",
       "      <td>покупка жилой недвижимости</td>\n",
       "    </tr>\n",
       "  </tbody>\n",
       "</table>\n",
       "</div>"
      ],
      "text/plain": [
       "    children  days_employed  dob_years            education  education_id  \\\n",
       "0          1   -8437.673028         42               высшее             0   \n",
       "1          1   -4024.803754         36              среднее             1   \n",
       "2          0   -5623.422610         33              Среднее             1   \n",
       "3          3   -4124.747207         32              среднее             1   \n",
       "4          0  340266.072047         53              среднее             1   \n",
       "5          0    -926.185831         27               высшее             0   \n",
       "6          0   -2879.202052         43               высшее             0   \n",
       "7          0    -152.779569         50              СРЕДНЕЕ             1   \n",
       "8          2   -6929.865299         35               ВЫСШЕЕ             0   \n",
       "9          0   -2188.756445         41              среднее             1   \n",
       "10         2   -4171.483647         36               высшее             0   \n",
       "11         0    -792.701887         40              среднее             1   \n",
       "12         0            NaN         65              среднее             1   \n",
       "13         0   -1846.641941         54  неоконченное высшее             2   \n",
       "14         0   -1844.956182         56               высшее             0   \n",
       "\n",
       "       family_status  family_status_id gender income_type  debt  \\\n",
       "0    женат / замужем                 0      F   сотрудник     0   \n",
       "1    женат / замужем                 0      F   сотрудник     0   \n",
       "2    женат / замужем                 0      M   сотрудник     0   \n",
       "3    женат / замужем                 0      M   сотрудник     0   \n",
       "4   гражданский брак                 1      F   пенсионер     0   \n",
       "5   гражданский брак                 1      M   компаньон     0   \n",
       "6    женат / замужем                 0      F   компаньон     0   \n",
       "7    женат / замужем                 0      M   сотрудник     0   \n",
       "8   гражданский брак                 1      F   сотрудник     0   \n",
       "9    женат / замужем                 0      M   сотрудник     0   \n",
       "10   женат / замужем                 0      M   компаньон     0   \n",
       "11   женат / замужем                 0      F   сотрудник     0   \n",
       "12  гражданский брак                 1      M   пенсионер     0   \n",
       "13   женат / замужем                 0      F   сотрудник     0   \n",
       "14  гражданский брак                 1      F   компаньон     1   \n",
       "\n",
       "     total_income                            purpose  \n",
       "0   253875.639453                      покупка жилья  \n",
       "1   112080.014102            приобретение автомобиля  \n",
       "2   145885.952297                      покупка жилья  \n",
       "3   267628.550329         дополнительное образование  \n",
       "4   158616.077870                    сыграть свадьбу  \n",
       "5   255763.565419                      покупка жилья  \n",
       "6   240525.971920                  операции с жильем  \n",
       "7   135823.934197                        образование  \n",
       "8    95856.832424              на проведение свадьбы  \n",
       "9   144425.938277            покупка жилья для семьи  \n",
       "10  113943.491460               покупка недвижимости  \n",
       "11   77069.234271  покупка коммерческой недвижимости  \n",
       "12            NaN                    сыграть свадьбу  \n",
       "13  130458.228857            приобретение автомобиля  \n",
       "14  165127.911772         покупка жилой недвижимости  "
      ]
     },
     "metadata": {},
     "output_type": "display_data"
    }
   ],
   "source": [
    "df = pd.read_csv('/datasets/data.csv')\n",
    "\n",
    "df.info()\n",
    "\n",
    "display(df.head(15))"
   ]
  },
  {
   "cell_type": "markdown",
   "id": "d4d56e7c",
   "metadata": {},
   "source": [
    "### Шаг 2.1 Заполнение пропусков"
   ]
  },
  {
   "cell_type": "markdown",
   "id": "7ebb5f21",
   "metadata": {},
   "source": [
    "Перед заполнением пропусков я считаю что нужно привести значение в колонке 'days_employed' к одной размерноасти так как, медианна будет браться с отрицательными числами и она окажеться не верной."
   ]
  },
  {
   "cell_type": "code",
   "execution_count": 3,
   "id": "72acd770",
   "metadata": {},
   "outputs": [],
   "source": [
    "df['days_employed'] = abs(df['days_employed']) #Делаю числа положительными"
   ]
  },
  {
   "cell_type": "code",
   "execution_count": 4,
   "id": "a8575259",
   "metadata": {},
   "outputs": [
    {
     "name": "stdout",
     "output_type": "stream",
     "text": [
      "children               0\n",
      "days_employed       2174\n",
      "dob_years              0\n",
      "education              0\n",
      "education_id           0\n",
      "family_status          0\n",
      "family_status_id       0\n",
      "gender                 0\n",
      "income_type            0\n",
      "debt                   0\n",
      "total_income        2174\n",
      "purpose                0\n",
      "dtype: int64\n"
     ]
    }
   ],
   "source": [
    "print(df.isna().sum()) "
   ]
  },
  {
   "cell_type": "markdown",
   "id": "64f9165a",
   "metadata": {},
   "source": [
    "Я вижу пропуски в количественных переменных \"days_employed\" и \"total_income\" \n",
    "Доля пропусков состовляет ~ 10% от общего датасета\n",
    "Буду заполнять их медианой, так как среднее может не отражать действительности из-за большой разности в числах.\n",
    "Возможные причины пропусков этих категорий могут быть связаны с тем что пенсионеры могут не указать свой стаж или доход так как фактически уже не работают.\n"
   ]
  },
  {
   "cell_type": "code",
   "execution_count": 5,
   "id": "e493bc06",
   "metadata": {},
   "outputs": [],
   "source": [
    "# Заполняью пропуски медианным значением \n",
    "df['days_employed'] = df['days_employed'].fillna(df['days_employed'].median())\n",
    "df['total_income'] = df['total_income'].fillna(df['total_income'].median()) "
   ]
  },
  {
   "cell_type": "markdown",
   "id": "e4fd670f",
   "metadata": {},
   "source": [
    "### Шаг 2.2 Проверка данных на аномалии и исправления."
   ]
  },
  {
   "cell_type": "code",
   "execution_count": 6,
   "id": "e90dd8d8",
   "metadata": {
    "scrolled": true
   },
   "outputs": [
    {
     "data": {
      "text/plain": [
       "children\n",
       "-1        47\n",
       " 0     14149\n",
       " 1      4818\n",
       " 2      2055\n",
       " 3       330\n",
       " 4        41\n",
       " 5         9\n",
       " 20       76\n",
       "Name: children, dtype: int64"
      ]
     },
     "metadata": {},
     "output_type": "display_data"
    }
   ],
   "source": [
    "display(df.groupby('children')['children'].count()) "
   ]
  },
  {
   "cell_type": "markdown",
   "id": "a426a426",
   "metadata": {
    "scrolled": true
   },
   "source": [
    "Я вижу аномальные значение -1 и 20, по моему мнению они не отрожат действительность и я считаю это опечаткой.\n",
    "Так как я считаю что это опечаткой то думаю что -1 это 1 а 20 это 2, заменю эти значения "
   ]
  },
  {
   "cell_type": "code",
   "execution_count": 7,
   "id": "74741eda",
   "metadata": {},
   "outputs": [
    {
     "data": {
      "text/plain": [
       "children\n",
       "0    14149\n",
       "1     4865\n",
       "2     2131\n",
       "3      330\n",
       "4       41\n",
       "5        9\n",
       "Name: children, dtype: int64"
      ]
     },
     "metadata": {},
     "output_type": "display_data"
    }
   ],
   "source": [
    "df.loc[df['children'] == -1, 'children'] = 1\n",
    "df.loc[df['children'] == 20, 'children'] = 2\n",
    "display(df.groupby('children')['children'].count()) "
   ]
  },
  {
   "cell_type": "markdown",
   "id": "9029d428",
   "metadata": {},
   "source": [
    "### Шаг 2.3. Изменение типов данных."
   ]
  },
  {
   "cell_type": "markdown",
   "id": "13289fbb",
   "metadata": {},
   "source": [
    "Так как по моему предположению цифры до точки в столбце \"days_employed\" это дни, а после точки идут часы, я просто оставляю цифры до точки."
   ]
  },
  {
   "cell_type": "code",
   "execution_count": 8,
   "id": "6743ef90",
   "metadata": {},
   "outputs": [
    {
     "name": "stdout",
     "output_type": "stream",
     "text": [
      "<class 'pandas.core.frame.DataFrame'>\n",
      "RangeIndex: 21525 entries, 0 to 21524\n",
      "Data columns (total 12 columns):\n",
      "children            21525 non-null int64\n",
      "days_employed       21525 non-null float64\n",
      "dob_years           21525 non-null int64\n",
      "education           21525 non-null object\n",
      "education_id        21525 non-null int64\n",
      "family_status       21525 non-null object\n",
      "family_status_id    21525 non-null int64\n",
      "gender              21525 non-null object\n",
      "income_type         21525 non-null object\n",
      "debt                21525 non-null int64\n",
      "total_income        21525 non-null float64\n",
      "purpose             21525 non-null object\n",
      "dtypes: float64(2), int64(5), object(5)\n",
      "memory usage: 2.0+ MB\n"
     ]
    }
   ],
   "source": [
    "df.info()"
   ]
  },
  {
   "cell_type": "code",
   "execution_count": 9,
   "id": "ea33e640",
   "metadata": {},
   "outputs": [],
   "source": [
    "df['days_employed'] = df['days_employed'].astype('int') "
   ]
  },
  {
   "cell_type": "code",
   "execution_count": 10,
   "id": "6f1c231f",
   "metadata": {},
   "outputs": [],
   "source": [
    "df['total_income'] = df['total_income'].astype('int') "
   ]
  },
  {
   "cell_type": "code",
   "execution_count": 11,
   "id": "428a5dec",
   "metadata": {},
   "outputs": [
    {
     "name": "stdout",
     "output_type": "stream",
     "text": [
      "<class 'pandas.core.frame.DataFrame'>\n",
      "RangeIndex: 21525 entries, 0 to 21524\n",
      "Data columns (total 12 columns):\n",
      "children            21525 non-null int64\n",
      "days_employed       21525 non-null int64\n",
      "dob_years           21525 non-null int64\n",
      "education           21525 non-null object\n",
      "education_id        21525 non-null int64\n",
      "family_status       21525 non-null object\n",
      "family_status_id    21525 non-null int64\n",
      "gender              21525 non-null object\n",
      "income_type         21525 non-null object\n",
      "debt                21525 non-null int64\n",
      "total_income        21525 non-null int64\n",
      "purpose             21525 non-null object\n",
      "dtypes: int64(7), object(5)\n",
      "memory usage: 2.0+ MB\n"
     ]
    }
   ],
   "source": [
    "df.info()"
   ]
  },
  {
   "cell_type": "markdown",
   "id": "c335c04a",
   "metadata": {},
   "source": [
    "### Шаг 2.4. Удаление дубликатов."
   ]
  },
  {
   "cell_type": "code",
   "execution_count": 12,
   "id": "933f0678",
   "metadata": {},
   "outputs": [
    {
     "data": {
      "text/plain": [
       "54"
      ]
     },
     "execution_count": 12,
     "metadata": {},
     "output_type": "execute_result"
    }
   ],
   "source": [
    "df.duplicated().sum() # считаю явные дубликаты"
   ]
  },
  {
   "cell_type": "code",
   "execution_count": 13,
   "id": "9947543b",
   "metadata": {},
   "outputs": [],
   "source": [
    "df = df.drop_duplicates().reset_index(drop=True) # Удаляю их "
   ]
  },
  {
   "cell_type": "code",
   "execution_count": 14,
   "id": "90c5c178",
   "metadata": {},
   "outputs": [
    {
     "name": "stdout",
     "output_type": "stream",
     "text": [
      "0\n"
     ]
    }
   ],
   "source": [
    "print(df.duplicated().sum())  # Проверяю "
   ]
  },
  {
   "cell_type": "code",
   "execution_count": 15,
   "id": "290f3b73",
   "metadata": {},
   "outputs": [
    {
     "name": "stdout",
     "output_type": "stream",
     "text": [
      "['ВЫСШЕЕ' 'Высшее' 'НАЧАЛЬНОЕ' 'НЕОКОНЧЕННОЕ ВЫСШЕЕ' 'Начальное'\n",
      " 'Неоконченное высшее' 'СРЕДНЕЕ' 'Среднее' 'УЧЕНАЯ СТЕПЕНЬ'\n",
      " 'Ученая степень' 'высшее' 'начальное' 'неоконченное высшее' 'среднее'\n",
      " 'ученая степень']\n"
     ]
    }
   ],
   "source": [
    "df = df.sort_values('education') # Просмотр уникальных значений в столбце 'education'\n",
    "print(df['education'].unique())"
   ]
  },
  {
   "cell_type": "code",
   "execution_count": 16,
   "id": "99059e39",
   "metadata": {},
   "outputs": [
    {
     "name": "stdout",
     "output_type": "stream",
     "text": [
      "['высшее' 'начальное' 'неоконченное высшее' 'среднее' 'ученая степень']\n"
     ]
    }
   ],
   "source": [
    "df['education'] = df.education.str.lower() # приведения их к одному регистру\n",
    "print(df['education'].unique())"
   ]
  },
  {
   "cell_type": "markdown",
   "id": "a8dddc02",
   "metadata": {},
   "source": [
    "Я выбрал стандартный метод поиск и удаления дубликатов, с начало я посчитал явные и удалил их, потом проверил важные для моего анализа категоральные столбцы и проверил их на уникальные значения, в столбце 'education' были обнаружены дубликаты, одни и теже категории но написанны разным регистром , появлением таких дубликатов является человеческий фактор, про анализировав что опечатка связанна только с регистром, я привел все значения данного столбца к нижнему регистру тем самым убрав неявные дубликаты."
   ]
  },
  {
   "cell_type": "markdown",
   "id": "b1abc262",
   "metadata": {},
   "source": [
    "# Шаг 2.5. Формирование дополнительных датафреймов словарей, декомпозиция исходного датафрейма."
   ]
  },
  {
   "cell_type": "markdown",
   "id": "7193c72c",
   "metadata": {},
   "source": [
    "Создаю сводную таблицу 'education' и  'education_id' для того что бы в дата фрейме оставить только id этих значений "
   ]
  },
  {
   "cell_type": "code",
   "execution_count": 17,
   "id": "e45a15f7",
   "metadata": {},
   "outputs": [
    {
     "data": {
      "text/html": [
       "<div>\n",
       "<style scoped>\n",
       "    .dataframe tbody tr th:only-of-type {\n",
       "        vertical-align: middle;\n",
       "    }\n",
       "\n",
       "    .dataframe tbody tr th {\n",
       "        vertical-align: top;\n",
       "    }\n",
       "\n",
       "    .dataframe thead th {\n",
       "        text-align: right;\n",
       "    }\n",
       "</style>\n",
       "<table border=\"1\" class=\"dataframe\">\n",
       "  <thead>\n",
       "    <tr style=\"text-align: right;\">\n",
       "      <th></th>\n",
       "      <th>education_id</th>\n",
       "    </tr>\n",
       "    <tr>\n",
       "      <th>education</th>\n",
       "      <th></th>\n",
       "    </tr>\n",
       "  </thead>\n",
       "  <tbody>\n",
       "    <tr>\n",
       "      <td>высшее</td>\n",
       "      <td>0</td>\n",
       "    </tr>\n",
       "    <tr>\n",
       "      <td>среднее</td>\n",
       "      <td>1</td>\n",
       "    </tr>\n",
       "    <tr>\n",
       "      <td>неоконченное высшее</td>\n",
       "      <td>2</td>\n",
       "    </tr>\n",
       "    <tr>\n",
       "      <td>начальное</td>\n",
       "      <td>3</td>\n",
       "    </tr>\n",
       "    <tr>\n",
       "      <td>ученая степень</td>\n",
       "      <td>4</td>\n",
       "    </tr>\n",
       "  </tbody>\n",
       "</table>\n",
       "</div>"
      ],
      "text/plain": [
       "                     education_id\n",
       "education                        \n",
       "высшее                          0\n",
       "среднее                         1\n",
       "неоконченное высшее             2\n",
       "начальное                       3\n",
       "ученая степень                  4"
      ]
     },
     "metadata": {},
     "output_type": "display_data"
    }
   ],
   "source": [
    "data_education = df.pivot_table(index=['education'], values = 'education_id'  ).sort_values(by='education_id')\n",
    "display(data_education)"
   ]
  },
  {
   "cell_type": "markdown",
   "id": "4f0519d0",
   "metadata": {},
   "source": [
    "Тоже проделываю для столбцов 'family_status',  'family_status_id'"
   ]
  },
  {
   "cell_type": "code",
   "execution_count": 18,
   "id": "fb77324c",
   "metadata": {},
   "outputs": [
    {
     "data": {
      "text/html": [
       "<div>\n",
       "<style scoped>\n",
       "    .dataframe tbody tr th:only-of-type {\n",
       "        vertical-align: middle;\n",
       "    }\n",
       "\n",
       "    .dataframe tbody tr th {\n",
       "        vertical-align: top;\n",
       "    }\n",
       "\n",
       "    .dataframe thead th {\n",
       "        text-align: right;\n",
       "    }\n",
       "</style>\n",
       "<table border=\"1\" class=\"dataframe\">\n",
       "  <thead>\n",
       "    <tr style=\"text-align: right;\">\n",
       "      <th></th>\n",
       "      <th>family_status_id</th>\n",
       "    </tr>\n",
       "    <tr>\n",
       "      <th>family_status</th>\n",
       "      <th></th>\n",
       "    </tr>\n",
       "  </thead>\n",
       "  <tbody>\n",
       "    <tr>\n",
       "      <td>женат / замужем</td>\n",
       "      <td>0</td>\n",
       "    </tr>\n",
       "    <tr>\n",
       "      <td>гражданский брак</td>\n",
       "      <td>1</td>\n",
       "    </tr>\n",
       "    <tr>\n",
       "      <td>вдовец / вдова</td>\n",
       "      <td>2</td>\n",
       "    </tr>\n",
       "    <tr>\n",
       "      <td>в разводе</td>\n",
       "      <td>3</td>\n",
       "    </tr>\n",
       "    <tr>\n",
       "      <td>Не женат / не замужем</td>\n",
       "      <td>4</td>\n",
       "    </tr>\n",
       "  </tbody>\n",
       "</table>\n",
       "</div>"
      ],
      "text/plain": [
       "                       family_status_id\n",
       "family_status                          \n",
       "женат / замужем                       0\n",
       "гражданский брак                      1\n",
       "вдовец / вдова                        2\n",
       "в разводе                             3\n",
       "Не женат / не замужем                 4"
      ]
     },
     "metadata": {},
     "output_type": "display_data"
    }
   ],
   "source": [
    "data_family_status = df.pivot_table(index=['family_status'], values = 'family_status_id' ).sort_values(by='family_status_id')\n",
    "display(data_family_status)"
   ]
  },
  {
   "cell_type": "markdown",
   "id": "3369831e",
   "metadata": {},
   "source": [
    "Удаляю ненужные столбцы из основного датафрейма"
   ]
  },
  {
   "cell_type": "code",
   "execution_count": 19,
   "id": "bf60435b",
   "metadata": {},
   "outputs": [
    {
     "data": {
      "text/html": [
       "<div>\n",
       "<style scoped>\n",
       "    .dataframe tbody tr th:only-of-type {\n",
       "        vertical-align: middle;\n",
       "    }\n",
       "\n",
       "    .dataframe tbody tr th {\n",
       "        vertical-align: top;\n",
       "    }\n",
       "\n",
       "    .dataframe thead th {\n",
       "        text-align: right;\n",
       "    }\n",
       "</style>\n",
       "<table border=\"1\" class=\"dataframe\">\n",
       "  <thead>\n",
       "    <tr style=\"text-align: right;\">\n",
       "      <th></th>\n",
       "      <th>children</th>\n",
       "      <th>days_employed</th>\n",
       "      <th>dob_years</th>\n",
       "      <th>education_id</th>\n",
       "      <th>family_status_id</th>\n",
       "      <th>gender</th>\n",
       "      <th>income_type</th>\n",
       "      <th>debt</th>\n",
       "      <th>total_income</th>\n",
       "      <th>purpose</th>\n",
       "    </tr>\n",
       "  </thead>\n",
       "  <tbody>\n",
       "    <tr>\n",
       "      <td>20846</td>\n",
       "      <td>0</td>\n",
       "      <td>5301</td>\n",
       "      <td>47</td>\n",
       "      <td>0</td>\n",
       "      <td>4</td>\n",
       "      <td>F</td>\n",
       "      <td>компаньон</td>\n",
       "      <td>0</td>\n",
       "      <td>253236</td>\n",
       "      <td>строительство недвижимости</td>\n",
       "    </tr>\n",
       "    <tr>\n",
       "      <td>20755</td>\n",
       "      <td>3</td>\n",
       "      <td>2082</td>\n",
       "      <td>40</td>\n",
       "      <td>0</td>\n",
       "      <td>0</td>\n",
       "      <td>F</td>\n",
       "      <td>компаньон</td>\n",
       "      <td>0</td>\n",
       "      <td>401253</td>\n",
       "      <td>автомобили</td>\n",
       "    </tr>\n",
       "    <tr>\n",
       "      <td>19462</td>\n",
       "      <td>1</td>\n",
       "      <td>329699</td>\n",
       "      <td>63</td>\n",
       "      <td>0</td>\n",
       "      <td>0</td>\n",
       "      <td>F</td>\n",
       "      <td>пенсионер</td>\n",
       "      <td>0</td>\n",
       "      <td>180400</td>\n",
       "      <td>операции с недвижимостью</td>\n",
       "    </tr>\n",
       "    <tr>\n",
       "      <td>16897</td>\n",
       "      <td>0</td>\n",
       "      <td>3521</td>\n",
       "      <td>48</td>\n",
       "      <td>0</td>\n",
       "      <td>3</td>\n",
       "      <td>M</td>\n",
       "      <td>компаньон</td>\n",
       "      <td>0</td>\n",
       "      <td>212497</td>\n",
       "      <td>на покупку автомобиля</td>\n",
       "    </tr>\n",
       "    <tr>\n",
       "      <td>3849</td>\n",
       "      <td>0</td>\n",
       "      <td>5038</td>\n",
       "      <td>59</td>\n",
       "      <td>0</td>\n",
       "      <td>0</td>\n",
       "      <td>M</td>\n",
       "      <td>компаньон</td>\n",
       "      <td>0</td>\n",
       "      <td>165097</td>\n",
       "      <td>покупка недвижимости</td>\n",
       "    </tr>\n",
       "    <tr>\n",
       "      <td>...</td>\n",
       "      <td>...</td>\n",
       "      <td>...</td>\n",
       "      <td>...</td>\n",
       "      <td>...</td>\n",
       "      <td>...</td>\n",
       "      <td>...</td>\n",
       "      <td>...</td>\n",
       "      <td>...</td>\n",
       "      <td>...</td>\n",
       "      <td>...</td>\n",
       "    </tr>\n",
       "    <tr>\n",
       "      <td>21470</td>\n",
       "      <td>2</td>\n",
       "      <td>1984</td>\n",
       "      <td>40</td>\n",
       "      <td>1</td>\n",
       "      <td>0</td>\n",
       "      <td>F</td>\n",
       "      <td>сотрудник</td>\n",
       "      <td>0</td>\n",
       "      <td>82047</td>\n",
       "      <td>на покупку автомобиля</td>\n",
       "    </tr>\n",
       "    <tr>\n",
       "      <td>6547</td>\n",
       "      <td>0</td>\n",
       "      <td>5352</td>\n",
       "      <td>58</td>\n",
       "      <td>4</td>\n",
       "      <td>0</td>\n",
       "      <td>M</td>\n",
       "      <td>сотрудник</td>\n",
       "      <td>0</td>\n",
       "      <td>268411</td>\n",
       "      <td>заняться высшим образованием</td>\n",
       "    </tr>\n",
       "    <tr>\n",
       "      <td>21465</td>\n",
       "      <td>1</td>\n",
       "      <td>2351</td>\n",
       "      <td>37</td>\n",
       "      <td>4</td>\n",
       "      <td>3</td>\n",
       "      <td>M</td>\n",
       "      <td>сотрудник</td>\n",
       "      <td>0</td>\n",
       "      <td>115949</td>\n",
       "      <td>покупка коммерческой недвижимости</td>\n",
       "    </tr>\n",
       "    <tr>\n",
       "      <td>12769</td>\n",
       "      <td>0</td>\n",
       "      <td>376276</td>\n",
       "      <td>62</td>\n",
       "      <td>4</td>\n",
       "      <td>0</td>\n",
       "      <td>F</td>\n",
       "      <td>пенсионер</td>\n",
       "      <td>0</td>\n",
       "      <td>255425</td>\n",
       "      <td>покупка жилой недвижимости</td>\n",
       "    </tr>\n",
       "    <tr>\n",
       "      <td>12007</td>\n",
       "      <td>3</td>\n",
       "      <td>5968</td>\n",
       "      <td>36</td>\n",
       "      <td>4</td>\n",
       "      <td>0</td>\n",
       "      <td>F</td>\n",
       "      <td>госслужащий</td>\n",
       "      <td>0</td>\n",
       "      <td>111392</td>\n",
       "      <td>покупка жилья</td>\n",
       "    </tr>\n",
       "  </tbody>\n",
       "</table>\n",
       "<p>21471 rows × 10 columns</p>\n",
       "</div>"
      ],
      "text/plain": [
       "       children  days_employed  dob_years  education_id  family_status_id  \\\n",
       "20846         0           5301         47             0                 4   \n",
       "20755         3           2082         40             0                 0   \n",
       "19462         1         329699         63             0                 0   \n",
       "16897         0           3521         48             0                 3   \n",
       "3849          0           5038         59             0                 0   \n",
       "...         ...            ...        ...           ...               ...   \n",
       "21470         2           1984         40             1                 0   \n",
       "6547          0           5352         58             4                 0   \n",
       "21465         1           2351         37             4                 3   \n",
       "12769         0         376276         62             4                 0   \n",
       "12007         3           5968         36             4                 0   \n",
       "\n",
       "      gender  income_type  debt  total_income  \\\n",
       "20846      F    компаньон     0        253236   \n",
       "20755      F    компаньон     0        401253   \n",
       "19462      F    пенсионер     0        180400   \n",
       "16897      M    компаньон     0        212497   \n",
       "3849       M    компаньон     0        165097   \n",
       "...      ...          ...   ...           ...   \n",
       "21470      F    сотрудник     0         82047   \n",
       "6547       M    сотрудник     0        268411   \n",
       "21465      M    сотрудник     0        115949   \n",
       "12769      F    пенсионер     0        255425   \n",
       "12007      F  госслужащий     0        111392   \n",
       "\n",
       "                                 purpose  \n",
       "20846         строительство недвижимости  \n",
       "20755                         автомобили  \n",
       "19462           операции с недвижимостью  \n",
       "16897              на покупку автомобиля  \n",
       "3849                покупка недвижимости  \n",
       "...                                  ...  \n",
       "21470              на покупку автомобиля  \n",
       "6547        заняться высшим образованием  \n",
       "21465  покупка коммерческой недвижимости  \n",
       "12769         покупка жилой недвижимости  \n",
       "12007                      покупка жилья  \n",
       "\n",
       "[21471 rows x 10 columns]"
      ]
     },
     "metadata": {},
     "output_type": "display_data"
    }
   ],
   "source": [
    "df = df.drop(['family_status', 'education' ], axis = 1)\n",
    "display(df)"
   ]
  },
  {
   "cell_type": "markdown",
   "id": "07d9bd7b",
   "metadata": {},
   "source": [
    "# Шаг 2.6. Категоризация дохода."
   ]
  },
  {
   "cell_type": "markdown",
   "id": "9816f92f",
   "metadata": {},
   "source": [
    "Далее необходимо написать функйцию которая назвначит категории разным уровням доходам. условия указываем согласно описания."
   ]
  },
  {
   "cell_type": "code",
   "execution_count": 20,
   "id": "99af361c",
   "metadata": {},
   "outputs": [],
   "source": [
    "def category_income(income):\n",
    "    \n",
    "    total_income = income['total_income']\n",
    "    \n",
    "    if total_income <= 30000:\n",
    "        return 'E'\n",
    "    if total_income >= 30001 and total_income <= 50000:\n",
    "        return 'D'\n",
    "    if total_income >= 50001 and total_income <= 200000:\n",
    "        return 'C'\n",
    "    if total_income >= 200001 and total_income <= 1000000:\n",
    "        return 'B'\n",
    "    if total_income >= 1000001:\n",
    "        return 'A'\n",
    "\n"
   ]
  },
  {
   "cell_type": "markdown",
   "id": "2ce1cfc6",
   "metadata": {},
   "source": [
    "Вызываем фукцию и результат ее выполнения добавляем в новую колонку 'total_income_category'."
   ]
  },
  {
   "cell_type": "code",
   "execution_count": 21,
   "id": "caab118d",
   "metadata": {},
   "outputs": [
    {
     "data": {
      "text/html": [
       "<div>\n",
       "<style scoped>\n",
       "    .dataframe tbody tr th:only-of-type {\n",
       "        vertical-align: middle;\n",
       "    }\n",
       "\n",
       "    .dataframe tbody tr th {\n",
       "        vertical-align: top;\n",
       "    }\n",
       "\n",
       "    .dataframe thead th {\n",
       "        text-align: right;\n",
       "    }\n",
       "</style>\n",
       "<table border=\"1\" class=\"dataframe\">\n",
       "  <thead>\n",
       "    <tr style=\"text-align: right;\">\n",
       "      <th></th>\n",
       "      <th>children</th>\n",
       "      <th>days_employed</th>\n",
       "      <th>dob_years</th>\n",
       "      <th>education_id</th>\n",
       "      <th>family_status_id</th>\n",
       "      <th>gender</th>\n",
       "      <th>income_type</th>\n",
       "      <th>debt</th>\n",
       "      <th>total_income</th>\n",
       "      <th>purpose</th>\n",
       "      <th>total_income_category</th>\n",
       "    </tr>\n",
       "  </thead>\n",
       "  <tbody>\n",
       "    <tr>\n",
       "      <td>20846</td>\n",
       "      <td>0</td>\n",
       "      <td>5301</td>\n",
       "      <td>47</td>\n",
       "      <td>0</td>\n",
       "      <td>4</td>\n",
       "      <td>F</td>\n",
       "      <td>компаньон</td>\n",
       "      <td>0</td>\n",
       "      <td>253236</td>\n",
       "      <td>строительство недвижимости</td>\n",
       "      <td>B</td>\n",
       "    </tr>\n",
       "    <tr>\n",
       "      <td>20755</td>\n",
       "      <td>3</td>\n",
       "      <td>2082</td>\n",
       "      <td>40</td>\n",
       "      <td>0</td>\n",
       "      <td>0</td>\n",
       "      <td>F</td>\n",
       "      <td>компаньон</td>\n",
       "      <td>0</td>\n",
       "      <td>401253</td>\n",
       "      <td>автомобили</td>\n",
       "      <td>B</td>\n",
       "    </tr>\n",
       "    <tr>\n",
       "      <td>19462</td>\n",
       "      <td>1</td>\n",
       "      <td>329699</td>\n",
       "      <td>63</td>\n",
       "      <td>0</td>\n",
       "      <td>0</td>\n",
       "      <td>F</td>\n",
       "      <td>пенсионер</td>\n",
       "      <td>0</td>\n",
       "      <td>180400</td>\n",
       "      <td>операции с недвижимостью</td>\n",
       "      <td>C</td>\n",
       "    </tr>\n",
       "    <tr>\n",
       "      <td>16897</td>\n",
       "      <td>0</td>\n",
       "      <td>3521</td>\n",
       "      <td>48</td>\n",
       "      <td>0</td>\n",
       "      <td>3</td>\n",
       "      <td>M</td>\n",
       "      <td>компаньон</td>\n",
       "      <td>0</td>\n",
       "      <td>212497</td>\n",
       "      <td>на покупку автомобиля</td>\n",
       "      <td>B</td>\n",
       "    </tr>\n",
       "    <tr>\n",
       "      <td>3849</td>\n",
       "      <td>0</td>\n",
       "      <td>5038</td>\n",
       "      <td>59</td>\n",
       "      <td>0</td>\n",
       "      <td>0</td>\n",
       "      <td>M</td>\n",
       "      <td>компаньон</td>\n",
       "      <td>0</td>\n",
       "      <td>165097</td>\n",
       "      <td>покупка недвижимости</td>\n",
       "      <td>C</td>\n",
       "    </tr>\n",
       "    <tr>\n",
       "      <td>...</td>\n",
       "      <td>...</td>\n",
       "      <td>...</td>\n",
       "      <td>...</td>\n",
       "      <td>...</td>\n",
       "      <td>...</td>\n",
       "      <td>...</td>\n",
       "      <td>...</td>\n",
       "      <td>...</td>\n",
       "      <td>...</td>\n",
       "      <td>...</td>\n",
       "      <td>...</td>\n",
       "    </tr>\n",
       "    <tr>\n",
       "      <td>21470</td>\n",
       "      <td>2</td>\n",
       "      <td>1984</td>\n",
       "      <td>40</td>\n",
       "      <td>1</td>\n",
       "      <td>0</td>\n",
       "      <td>F</td>\n",
       "      <td>сотрудник</td>\n",
       "      <td>0</td>\n",
       "      <td>82047</td>\n",
       "      <td>на покупку автомобиля</td>\n",
       "      <td>C</td>\n",
       "    </tr>\n",
       "    <tr>\n",
       "      <td>6547</td>\n",
       "      <td>0</td>\n",
       "      <td>5352</td>\n",
       "      <td>58</td>\n",
       "      <td>4</td>\n",
       "      <td>0</td>\n",
       "      <td>M</td>\n",
       "      <td>сотрудник</td>\n",
       "      <td>0</td>\n",
       "      <td>268411</td>\n",
       "      <td>заняться высшим образованием</td>\n",
       "      <td>B</td>\n",
       "    </tr>\n",
       "    <tr>\n",
       "      <td>21465</td>\n",
       "      <td>1</td>\n",
       "      <td>2351</td>\n",
       "      <td>37</td>\n",
       "      <td>4</td>\n",
       "      <td>3</td>\n",
       "      <td>M</td>\n",
       "      <td>сотрудник</td>\n",
       "      <td>0</td>\n",
       "      <td>115949</td>\n",
       "      <td>покупка коммерческой недвижимости</td>\n",
       "      <td>C</td>\n",
       "    </tr>\n",
       "    <tr>\n",
       "      <td>12769</td>\n",
       "      <td>0</td>\n",
       "      <td>376276</td>\n",
       "      <td>62</td>\n",
       "      <td>4</td>\n",
       "      <td>0</td>\n",
       "      <td>F</td>\n",
       "      <td>пенсионер</td>\n",
       "      <td>0</td>\n",
       "      <td>255425</td>\n",
       "      <td>покупка жилой недвижимости</td>\n",
       "      <td>B</td>\n",
       "    </tr>\n",
       "    <tr>\n",
       "      <td>12007</td>\n",
       "      <td>3</td>\n",
       "      <td>5968</td>\n",
       "      <td>36</td>\n",
       "      <td>4</td>\n",
       "      <td>0</td>\n",
       "      <td>F</td>\n",
       "      <td>госслужащий</td>\n",
       "      <td>0</td>\n",
       "      <td>111392</td>\n",
       "      <td>покупка жилья</td>\n",
       "      <td>C</td>\n",
       "    </tr>\n",
       "  </tbody>\n",
       "</table>\n",
       "<p>21471 rows × 11 columns</p>\n",
       "</div>"
      ],
      "text/plain": [
       "       children  days_employed  dob_years  education_id  family_status_id  \\\n",
       "20846         0           5301         47             0                 4   \n",
       "20755         3           2082         40             0                 0   \n",
       "19462         1         329699         63             0                 0   \n",
       "16897         0           3521         48             0                 3   \n",
       "3849          0           5038         59             0                 0   \n",
       "...         ...            ...        ...           ...               ...   \n",
       "21470         2           1984         40             1                 0   \n",
       "6547          0           5352         58             4                 0   \n",
       "21465         1           2351         37             4                 3   \n",
       "12769         0         376276         62             4                 0   \n",
       "12007         3           5968         36             4                 0   \n",
       "\n",
       "      gender  income_type  debt  total_income  \\\n",
       "20846      F    компаньон     0        253236   \n",
       "20755      F    компаньон     0        401253   \n",
       "19462      F    пенсионер     0        180400   \n",
       "16897      M    компаньон     0        212497   \n",
       "3849       M    компаньон     0        165097   \n",
       "...      ...          ...   ...           ...   \n",
       "21470      F    сотрудник     0         82047   \n",
       "6547       M    сотрудник     0        268411   \n",
       "21465      M    сотрудник     0        115949   \n",
       "12769      F    пенсионер     0        255425   \n",
       "12007      F  госслужащий     0        111392   \n",
       "\n",
       "                                 purpose total_income_category  \n",
       "20846         строительство недвижимости                     B  \n",
       "20755                         автомобили                     B  \n",
       "19462           операции с недвижимостью                     C  \n",
       "16897              на покупку автомобиля                     B  \n",
       "3849                покупка недвижимости                     C  \n",
       "...                                  ...                   ...  \n",
       "21470              на покупку автомобиля                     C  \n",
       "6547        заняться высшим образованием                     B  \n",
       "21465  покупка коммерческой недвижимости                     C  \n",
       "12769         покупка жилой недвижимости                     B  \n",
       "12007                      покупка жилья                     C  \n",
       "\n",
       "[21471 rows x 11 columns]"
      ]
     },
     "metadata": {},
     "output_type": "display_data"
    }
   ],
   "source": [
    "df['total_income_category'] =  df.apply(category_income, axis=1) \n",
    "display(df)"
   ]
  },
  {
   "cell_type": "markdown",
   "id": "58a24758",
   "metadata": {},
   "source": [
    "### Шаг 2.7. Категоризация целей кредита."
   ]
  },
  {
   "cell_type": "markdown",
   "id": "a42c71fc",
   "metadata": {},
   "source": [
    "Перед тем как написать функцию которая будет формировать категории из целей кредита, выведем все уникальные значение столбца 'purpose' для того что бы видеть какие уникальные цели указаны в датасете."
   ]
  },
  {
   "cell_type": "code",
   "execution_count": 22,
   "id": "03ac9e29",
   "metadata": {},
   "outputs": [
    {
     "name": "stdout",
     "output_type": "stream",
     "text": [
      "свадьба                                   793\n",
      "на проведение свадьбы                     773\n",
      "сыграть свадьбу                           769\n",
      "операции с недвижимостью                  675\n",
      "покупка коммерческой недвижимости         662\n",
      "покупка жилья для сдачи                   652\n",
      "операции с жильем                         652\n",
      "операции с коммерческой недвижимостью     650\n",
      "покупка жилья                             646\n",
      "жилье                                     646\n",
      "покупка жилья для семьи                   638\n",
      "строительство собственной недвижимости    635\n",
      "недвижимость                              633\n",
      "операции со своей недвижимостью           627\n",
      "строительство жилой недвижимости          625\n",
      "покупка недвижимости                      621\n",
      "покупка своего жилья                      620\n",
      "строительство недвижимости                619\n",
      "ремонт жилью                              607\n",
      "покупка жилой недвижимости                606\n",
      "на покупку своего автомобиля              505\n",
      "заняться высшим образованием              496\n",
      "автомобиль                                494\n",
      "сделка с подержанным автомобилем          486\n",
      "свой автомобиль                           479\n",
      "на покупку подержанного автомобиля        478\n",
      "автомобили                                478\n",
      "на покупку автомобиля                     472\n",
      "приобретение автомобиля                   461\n",
      "дополнительное образование                460\n",
      "сделка с автомобилем                      455\n",
      "высшее образование                        452\n",
      "образование                               447\n",
      "получение дополнительного образования     447\n",
      "получение образования                     442\n",
      "профильное образование                    436\n",
      "получение высшего образования             426\n",
      "заняться образованием                     408\n",
      "Name: purpose, dtype: int64\n"
     ]
    }
   ],
   "source": [
    "\n",
    "purpose_group_category = df['purpose'].value_counts()\n",
    "print(purpose_group_category)"
   ]
  },
  {
   "cell_type": "markdown",
   "id": "e0fe19cd",
   "metadata": {},
   "source": [
    "Создаем функцию которая более конкретно категоризирует цели. "
   ]
  },
  {
   "cell_type": "code",
   "execution_count": 3,
   "id": "4da83360",
   "metadata": {},
   "outputs": [],
   "source": [
    "def category(row):\n",
    "    category = row['purpose']\n",
    "    if  'авто' in purpose:\n",
    "        return 'операции с автомобилем'\n",
    "    elif 'недвиж' in purpose or 'жиль' in purpose:\n",
    "        return 'операции с недвижимостью'\n",
    "    elif 'свадьб' in purpose:\n",
    "        return 'проведение свадьбы'\n",
    "    elif 'образо' in purpose:\n",
    "        return 'получение образования'\n",
    "    "
   ]
  },
  {
   "cell_type": "markdown",
   "id": "9ecfd8a8",
   "metadata": {},
   "source": [
    "Выглядит конечно не читабельно, но я не смог придумать как еще указать условия более корректно."
   ]
  },
  {
   "cell_type": "markdown",
   "id": "8a05b88c",
   "metadata": {},
   "source": [
    "Результат функции добавляем в таблицу в новую колонку 'purpose_category'"
   ]
  },
  {
   "cell_type": "code",
   "execution_count": 24,
   "id": "2b01184f",
   "metadata": {},
   "outputs": [
    {
     "data": {
      "text/html": [
       "<div>\n",
       "<style scoped>\n",
       "    .dataframe tbody tr th:only-of-type {\n",
       "        vertical-align: middle;\n",
       "    }\n",
       "\n",
       "    .dataframe tbody tr th {\n",
       "        vertical-align: top;\n",
       "    }\n",
       "\n",
       "    .dataframe thead th {\n",
       "        text-align: right;\n",
       "    }\n",
       "</style>\n",
       "<table border=\"1\" class=\"dataframe\">\n",
       "  <thead>\n",
       "    <tr style=\"text-align: right;\">\n",
       "      <th></th>\n",
       "      <th>children</th>\n",
       "      <th>days_employed</th>\n",
       "      <th>dob_years</th>\n",
       "      <th>education_id</th>\n",
       "      <th>family_status_id</th>\n",
       "      <th>gender</th>\n",
       "      <th>income_type</th>\n",
       "      <th>debt</th>\n",
       "      <th>total_income</th>\n",
       "      <th>purpose</th>\n",
       "      <th>total_income_category</th>\n",
       "      <th>purpose_category</th>\n",
       "    </tr>\n",
       "  </thead>\n",
       "  <tbody>\n",
       "    <tr>\n",
       "      <td>20846</td>\n",
       "      <td>0</td>\n",
       "      <td>5301</td>\n",
       "      <td>47</td>\n",
       "      <td>0</td>\n",
       "      <td>4</td>\n",
       "      <td>F</td>\n",
       "      <td>компаньон</td>\n",
       "      <td>0</td>\n",
       "      <td>253236</td>\n",
       "      <td>строительство недвижимости</td>\n",
       "      <td>B</td>\n",
       "      <td>операции с недвижимостью</td>\n",
       "    </tr>\n",
       "    <tr>\n",
       "      <td>20755</td>\n",
       "      <td>3</td>\n",
       "      <td>2082</td>\n",
       "      <td>40</td>\n",
       "      <td>0</td>\n",
       "      <td>0</td>\n",
       "      <td>F</td>\n",
       "      <td>компаньон</td>\n",
       "      <td>0</td>\n",
       "      <td>401253</td>\n",
       "      <td>автомобили</td>\n",
       "      <td>B</td>\n",
       "      <td>операции с автомобилем</td>\n",
       "    </tr>\n",
       "    <tr>\n",
       "      <td>19462</td>\n",
       "      <td>1</td>\n",
       "      <td>329699</td>\n",
       "      <td>63</td>\n",
       "      <td>0</td>\n",
       "      <td>0</td>\n",
       "      <td>F</td>\n",
       "      <td>пенсионер</td>\n",
       "      <td>0</td>\n",
       "      <td>180400</td>\n",
       "      <td>операции с недвижимостью</td>\n",
       "      <td>C</td>\n",
       "      <td>операции с недвижимостью</td>\n",
       "    </tr>\n",
       "    <tr>\n",
       "      <td>16897</td>\n",
       "      <td>0</td>\n",
       "      <td>3521</td>\n",
       "      <td>48</td>\n",
       "      <td>0</td>\n",
       "      <td>3</td>\n",
       "      <td>M</td>\n",
       "      <td>компаньон</td>\n",
       "      <td>0</td>\n",
       "      <td>212497</td>\n",
       "      <td>на покупку автомобиля</td>\n",
       "      <td>B</td>\n",
       "      <td>операции с автомобилем</td>\n",
       "    </tr>\n",
       "    <tr>\n",
       "      <td>3849</td>\n",
       "      <td>0</td>\n",
       "      <td>5038</td>\n",
       "      <td>59</td>\n",
       "      <td>0</td>\n",
       "      <td>0</td>\n",
       "      <td>M</td>\n",
       "      <td>компаньон</td>\n",
       "      <td>0</td>\n",
       "      <td>165097</td>\n",
       "      <td>покупка недвижимости</td>\n",
       "      <td>C</td>\n",
       "      <td>операции с недвижимостью</td>\n",
       "    </tr>\n",
       "    <tr>\n",
       "      <td>4799</td>\n",
       "      <td>0</td>\n",
       "      <td>2111</td>\n",
       "      <td>29</td>\n",
       "      <td>0</td>\n",
       "      <td>4</td>\n",
       "      <td>F</td>\n",
       "      <td>сотрудник</td>\n",
       "      <td>0</td>\n",
       "      <td>270468</td>\n",
       "      <td>профильное образование</td>\n",
       "      <td>B</td>\n",
       "      <td>получение образования</td>\n",
       "    </tr>\n",
       "    <tr>\n",
       "      <td>2775</td>\n",
       "      <td>0</td>\n",
       "      <td>1453</td>\n",
       "      <td>32</td>\n",
       "      <td>0</td>\n",
       "      <td>0</td>\n",
       "      <td>F</td>\n",
       "      <td>сотрудник</td>\n",
       "      <td>0</td>\n",
       "      <td>87599</td>\n",
       "      <td>жилье</td>\n",
       "      <td>C</td>\n",
       "      <td>операции с недвижимостью</td>\n",
       "    </tr>\n",
       "    <tr>\n",
       "      <td>8555</td>\n",
       "      <td>0</td>\n",
       "      <td>1136</td>\n",
       "      <td>28</td>\n",
       "      <td>0</td>\n",
       "      <td>1</td>\n",
       "      <td>M</td>\n",
       "      <td>компаньон</td>\n",
       "      <td>0</td>\n",
       "      <td>466041</td>\n",
       "      <td>на проведение свадьбы</td>\n",
       "      <td>B</td>\n",
       "      <td>проведение свадьбы</td>\n",
       "    </tr>\n",
       "    <tr>\n",
       "      <td>11314</td>\n",
       "      <td>1</td>\n",
       "      <td>575</td>\n",
       "      <td>41</td>\n",
       "      <td>0</td>\n",
       "      <td>3</td>\n",
       "      <td>F</td>\n",
       "      <td>сотрудник</td>\n",
       "      <td>0</td>\n",
       "      <td>127656</td>\n",
       "      <td>дополнительное образование</td>\n",
       "      <td>C</td>\n",
       "      <td>получение образования</td>\n",
       "    </tr>\n",
       "    <tr>\n",
       "      <td>6864</td>\n",
       "      <td>0</td>\n",
       "      <td>1773</td>\n",
       "      <td>33</td>\n",
       "      <td>0</td>\n",
       "      <td>4</td>\n",
       "      <td>M</td>\n",
       "      <td>сотрудник</td>\n",
       "      <td>0</td>\n",
       "      <td>241419</td>\n",
       "      <td>покупка жилой недвижимости</td>\n",
       "      <td>B</td>\n",
       "      <td>операции с недвижимостью</td>\n",
       "    </tr>\n",
       "    <tr>\n",
       "      <td>1193</td>\n",
       "      <td>0</td>\n",
       "      <td>385376</td>\n",
       "      <td>61</td>\n",
       "      <td>0</td>\n",
       "      <td>0</td>\n",
       "      <td>F</td>\n",
       "      <td>пенсионер</td>\n",
       "      <td>0</td>\n",
       "      <td>128936</td>\n",
       "      <td>строительство собственной недвижимости</td>\n",
       "      <td>C</td>\n",
       "      <td>операции с недвижимостью</td>\n",
       "    </tr>\n",
       "    <tr>\n",
       "      <td>20800</td>\n",
       "      <td>0</td>\n",
       "      <td>5135</td>\n",
       "      <td>42</td>\n",
       "      <td>0</td>\n",
       "      <td>1</td>\n",
       "      <td>F</td>\n",
       "      <td>сотрудник</td>\n",
       "      <td>0</td>\n",
       "      <td>482940</td>\n",
       "      <td>на покупку своего автомобиля</td>\n",
       "      <td>B</td>\n",
       "      <td>операции с автомобилем</td>\n",
       "    </tr>\n",
       "    <tr>\n",
       "      <td>13553</td>\n",
       "      <td>0</td>\n",
       "      <td>760</td>\n",
       "      <td>32</td>\n",
       "      <td>0</td>\n",
       "      <td>1</td>\n",
       "      <td>M</td>\n",
       "      <td>госслужащий</td>\n",
       "      <td>0</td>\n",
       "      <td>212093</td>\n",
       "      <td>получение образования</td>\n",
       "      <td>B</td>\n",
       "      <td>получение образования</td>\n",
       "    </tr>\n",
       "    <tr>\n",
       "      <td>9279</td>\n",
       "      <td>0</td>\n",
       "      <td>251</td>\n",
       "      <td>48</td>\n",
       "      <td>0</td>\n",
       "      <td>0</td>\n",
       "      <td>M</td>\n",
       "      <td>сотрудник</td>\n",
       "      <td>0</td>\n",
       "      <td>122019</td>\n",
       "      <td>автомобиль</td>\n",
       "      <td>C</td>\n",
       "      <td>операции с автомобилем</td>\n",
       "    </tr>\n",
       "    <tr>\n",
       "      <td>7819</td>\n",
       "      <td>0</td>\n",
       "      <td>365934</td>\n",
       "      <td>49</td>\n",
       "      <td>0</td>\n",
       "      <td>0</td>\n",
       "      <td>F</td>\n",
       "      <td>пенсионер</td>\n",
       "      <td>0</td>\n",
       "      <td>232925</td>\n",
       "      <td>операции с коммерческой недвижимостью</td>\n",
       "      <td>B</td>\n",
       "      <td>операции с недвижимостью</td>\n",
       "    </tr>\n",
       "    <tr>\n",
       "      <td>6912</td>\n",
       "      <td>0</td>\n",
       "      <td>367607</td>\n",
       "      <td>54</td>\n",
       "      <td>0</td>\n",
       "      <td>0</td>\n",
       "      <td>F</td>\n",
       "      <td>пенсионер</td>\n",
       "      <td>0</td>\n",
       "      <td>150388</td>\n",
       "      <td>приобретение автомобиля</td>\n",
       "      <td>C</td>\n",
       "      <td>операции с автомобилем</td>\n",
       "    </tr>\n",
       "    <tr>\n",
       "      <td>14801</td>\n",
       "      <td>1</td>\n",
       "      <td>120</td>\n",
       "      <td>29</td>\n",
       "      <td>0</td>\n",
       "      <td>0</td>\n",
       "      <td>F</td>\n",
       "      <td>компаньон</td>\n",
       "      <td>0</td>\n",
       "      <td>143176</td>\n",
       "      <td>автомобиль</td>\n",
       "      <td>C</td>\n",
       "      <td>операции с автомобилем</td>\n",
       "    </tr>\n",
       "    <tr>\n",
       "      <td>10576</td>\n",
       "      <td>0</td>\n",
       "      <td>1795</td>\n",
       "      <td>43</td>\n",
       "      <td>0</td>\n",
       "      <td>0</td>\n",
       "      <td>M</td>\n",
       "      <td>сотрудник</td>\n",
       "      <td>0</td>\n",
       "      <td>241015</td>\n",
       "      <td>высшее образование</td>\n",
       "      <td>B</td>\n",
       "      <td>получение образования</td>\n",
       "    </tr>\n",
       "    <tr>\n",
       "      <td>9323</td>\n",
       "      <td>0</td>\n",
       "      <td>2931</td>\n",
       "      <td>32</td>\n",
       "      <td>0</td>\n",
       "      <td>0</td>\n",
       "      <td>M</td>\n",
       "      <td>сотрудник</td>\n",
       "      <td>0</td>\n",
       "      <td>170788</td>\n",
       "      <td>покупка жилья</td>\n",
       "      <td>C</td>\n",
       "      <td>операции с недвижимостью</td>\n",
       "    </tr>\n",
       "    <tr>\n",
       "      <td>254</td>\n",
       "      <td>2</td>\n",
       "      <td>940</td>\n",
       "      <td>44</td>\n",
       "      <td>0</td>\n",
       "      <td>0</td>\n",
       "      <td>F</td>\n",
       "      <td>компаньон</td>\n",
       "      <td>0</td>\n",
       "      <td>327126</td>\n",
       "      <td>жилье</td>\n",
       "      <td>B</td>\n",
       "      <td>операции с недвижимостью</td>\n",
       "    </tr>\n",
       "  </tbody>\n",
       "</table>\n",
       "</div>"
      ],
      "text/plain": [
       "       children  days_employed  dob_years  education_id  family_status_id  \\\n",
       "20846         0           5301         47             0                 4   \n",
       "20755         3           2082         40             0                 0   \n",
       "19462         1         329699         63             0                 0   \n",
       "16897         0           3521         48             0                 3   \n",
       "3849          0           5038         59             0                 0   \n",
       "4799          0           2111         29             0                 4   \n",
       "2775          0           1453         32             0                 0   \n",
       "8555          0           1136         28             0                 1   \n",
       "11314         1            575         41             0                 3   \n",
       "6864          0           1773         33             0                 4   \n",
       "1193          0         385376         61             0                 0   \n",
       "20800         0           5135         42             0                 1   \n",
       "13553         0            760         32             0                 1   \n",
       "9279          0            251         48             0                 0   \n",
       "7819          0         365934         49             0                 0   \n",
       "6912          0         367607         54             0                 0   \n",
       "14801         1            120         29             0                 0   \n",
       "10576         0           1795         43             0                 0   \n",
       "9323          0           2931         32             0                 0   \n",
       "254           2            940         44             0                 0   \n",
       "\n",
       "      gender  income_type  debt  total_income  \\\n",
       "20846      F    компаньон     0        253236   \n",
       "20755      F    компаньон     0        401253   \n",
       "19462      F    пенсионер     0        180400   \n",
       "16897      M    компаньон     0        212497   \n",
       "3849       M    компаньон     0        165097   \n",
       "4799       F    сотрудник     0        270468   \n",
       "2775       F    сотрудник     0         87599   \n",
       "8555       M    компаньон     0        466041   \n",
       "11314      F    сотрудник     0        127656   \n",
       "6864       M    сотрудник     0        241419   \n",
       "1193       F    пенсионер     0        128936   \n",
       "20800      F    сотрудник     0        482940   \n",
       "13553      M  госслужащий     0        212093   \n",
       "9279       M    сотрудник     0        122019   \n",
       "7819       F    пенсионер     0        232925   \n",
       "6912       F    пенсионер     0        150388   \n",
       "14801      F    компаньон     0        143176   \n",
       "10576      M    сотрудник     0        241015   \n",
       "9323       M    сотрудник     0        170788   \n",
       "254        F    компаньон     0        327126   \n",
       "\n",
       "                                      purpose total_income_category  \\\n",
       "20846              строительство недвижимости                     B   \n",
       "20755                              автомобили                     B   \n",
       "19462                операции с недвижимостью                     C   \n",
       "16897                   на покупку автомобиля                     B   \n",
       "3849                     покупка недвижимости                     C   \n",
       "4799                   профильное образование                     B   \n",
       "2775                                    жилье                     C   \n",
       "8555                    на проведение свадьбы                     B   \n",
       "11314              дополнительное образование                     C   \n",
       "6864               покупка жилой недвижимости                     B   \n",
       "1193   строительство собственной недвижимости                     C   \n",
       "20800            на покупку своего автомобиля                     B   \n",
       "13553                   получение образования                     B   \n",
       "9279                               автомобиль                     C   \n",
       "7819    операции с коммерческой недвижимостью                     B   \n",
       "6912                  приобретение автомобиля                     C   \n",
       "14801                              автомобиль                     C   \n",
       "10576                      высшее образование                     B   \n",
       "9323                            покупка жилья                     C   \n",
       "254                                     жилье                     B   \n",
       "\n",
       "               purpose_category  \n",
       "20846  операции с недвижимостью  \n",
       "20755    операции с автомобилем  \n",
       "19462  операции с недвижимостью  \n",
       "16897    операции с автомобилем  \n",
       "3849   операции с недвижимостью  \n",
       "4799      получение образования  \n",
       "2775   операции с недвижимостью  \n",
       "8555         проведение свадьбы  \n",
       "11314     получение образования  \n",
       "6864   операции с недвижимостью  \n",
       "1193   операции с недвижимостью  \n",
       "20800    операции с автомобилем  \n",
       "13553     получение образования  \n",
       "9279     операции с автомобилем  \n",
       "7819   операции с недвижимостью  \n",
       "6912     операции с автомобилем  \n",
       "14801    операции с автомобилем  \n",
       "10576     получение образования  \n",
       "9323   операции с недвижимостью  \n",
       "254    операции с недвижимостью  "
      ]
     },
     "metadata": {},
     "output_type": "display_data"
    }
   ],
   "source": [
    "df['purpose_category'] = df.apply(category, axis=1 )\n",
    "display(df.head(20))\n"
   ]
  },
  {
   "cell_type": "markdown",
   "id": "c47f5e8e",
   "metadata": {},
   "source": [
    "### Ответы на вопросы."
   ]
  },
  {
   "cell_type": "markdown",
   "id": "dd4d34c7",
   "metadata": {},
   "source": [
    "Что бы наглядно продемонстрировать зависимости, составим таблицу согласно поставленому вопросу, зависимость я буду вырожать в процентах проссрочки от общего числа долгов по каждой категории. "
   ]
  },
  {
   "cell_type": "markdown",
   "id": "0d42dde9",
   "metadata": {},
   "source": [
    "Описание таблицы\n",
    "'0' - часть людей у которых нет просрочки.\n",
    "'1' - часть людей у которых есть просрочка.\n",
    "'all_debts' - общее число кредитов.\n",
    "'procent'- зависимость выраженная в процентах от общего числа кридитов."
   ]
  },
  {
   "cell_type": "markdown",
   "id": "bf5d3489",
   "metadata": {},
   "source": [
    "# 1 Отвечаем на впорос: есть ли зависимость между количеством детей и возвратом кредита в срок?"
   ]
  },
  {
   "cell_type": "code",
   "execution_count": 25,
   "id": "6fee6050",
   "metadata": {},
   "outputs": [
    {
     "data": {
      "text/html": [
       "<div>\n",
       "<style scoped>\n",
       "    .dataframe tbody tr th:only-of-type {\n",
       "        vertical-align: middle;\n",
       "    }\n",
       "\n",
       "    .dataframe tbody tr th {\n",
       "        vertical-align: top;\n",
       "    }\n",
       "\n",
       "    .dataframe thead th {\n",
       "        text-align: right;\n",
       "    }\n",
       "</style>\n",
       "<table border=\"1\" class=\"dataframe\">\n",
       "  <thead>\n",
       "    <tr style=\"text-align: right;\">\n",
       "      <th>debt</th>\n",
       "      <th>0</th>\n",
       "      <th>1</th>\n",
       "      <th>all_debts</th>\n",
       "      <th>procent</th>\n",
       "    </tr>\n",
       "    <tr>\n",
       "      <th>children</th>\n",
       "      <th></th>\n",
       "      <th></th>\n",
       "      <th></th>\n",
       "      <th></th>\n",
       "    </tr>\n",
       "  </thead>\n",
       "  <tbody>\n",
       "    <tr>\n",
       "      <td>0</td>\n",
       "      <td>13044.0</td>\n",
       "      <td>1063.0</td>\n",
       "      <td>14107.0</td>\n",
       "      <td>7.54</td>\n",
       "    </tr>\n",
       "    <tr>\n",
       "      <td>1</td>\n",
       "      <td>4411.0</td>\n",
       "      <td>445.0</td>\n",
       "      <td>4856.0</td>\n",
       "      <td>9.16</td>\n",
       "    </tr>\n",
       "    <tr>\n",
       "      <td>2</td>\n",
       "      <td>1926.0</td>\n",
       "      <td>202.0</td>\n",
       "      <td>2128.0</td>\n",
       "      <td>9.49</td>\n",
       "    </tr>\n",
       "    <tr>\n",
       "      <td>3</td>\n",
       "      <td>303.0</td>\n",
       "      <td>27.0</td>\n",
       "      <td>330.0</td>\n",
       "      <td>8.18</td>\n",
       "    </tr>\n",
       "    <tr>\n",
       "      <td>4</td>\n",
       "      <td>37.0</td>\n",
       "      <td>4.0</td>\n",
       "      <td>41.0</td>\n",
       "      <td>9.76</td>\n",
       "    </tr>\n",
       "    <tr>\n",
       "      <td>5</td>\n",
       "      <td>9.0</td>\n",
       "      <td>NaN</td>\n",
       "      <td>NaN</td>\n",
       "      <td>NaN</td>\n",
       "    </tr>\n",
       "  </tbody>\n",
       "</table>\n",
       "</div>"
      ],
      "text/plain": [
       "debt            0       1  all_debts  procent\n",
       "children                                     \n",
       "0         13044.0  1063.0    14107.0     7.54\n",
       "1          4411.0   445.0     4856.0     9.16\n",
       "2          1926.0   202.0     2128.0     9.49\n",
       "3           303.0    27.0      330.0     8.18\n",
       "4            37.0     4.0       41.0     9.76\n",
       "5             9.0     NaN        NaN      NaN"
      ]
     },
     "metadata": {},
     "output_type": "display_data"
    }
   ],
   "source": [
    "debt_children = df.pivot_table(index = ['children'], columns = 'debt', values= 'total_income_category',  aggfunc='count' )\n",
    "debt_children['all_debts'] = debt_children[1]+debt_children[0]\n",
    "debt_children['procent'] = round(debt_children[1] / debt_children['all_debts']*100,2)\n",
    "display(debt_children)"
   ]
  },
  {
   "cell_type": "markdown",
   "id": "6fe9a4ca",
   "metadata": {},
   "source": [
    "Как можно увидить по данной таблице люди не имеющие детей гораздо реже просрачивают выплату, немного лучше себя показывает группа людей у которых 3 ребенка, а у много детных людей просрочеки и вовсе отсутсвуют, самая рисковая группа людей являются те у которых 2 ребенка в семье."
   ]
  },
  {
   "cell_type": "markdown",
   "id": "ac375932",
   "metadata": {},
   "source": [
    "# 2 Отвечаем на впорос: есть ли зависимость между семейным положением и возвратом кредита в срок?"
   ]
  },
  {
   "cell_type": "code",
   "execution_count": 26,
   "id": "798ab26b",
   "metadata": {},
   "outputs": [
    {
     "data": {
      "text/html": [
       "<div>\n",
       "<style scoped>\n",
       "    .dataframe tbody tr th:only-of-type {\n",
       "        vertical-align: middle;\n",
       "    }\n",
       "\n",
       "    .dataframe tbody tr th {\n",
       "        vertical-align: top;\n",
       "    }\n",
       "\n",
       "    .dataframe thead th {\n",
       "        text-align: right;\n",
       "    }\n",
       "</style>\n",
       "<table border=\"1\" class=\"dataframe\">\n",
       "  <thead>\n",
       "    <tr style=\"text-align: right;\">\n",
       "      <th>debt</th>\n",
       "      <th>0</th>\n",
       "      <th>1</th>\n",
       "      <th>all_debts</th>\n",
       "      <th>procent</th>\n",
       "    </tr>\n",
       "    <tr>\n",
       "      <th>family_status_id</th>\n",
       "      <th></th>\n",
       "      <th></th>\n",
       "      <th></th>\n",
       "      <th></th>\n",
       "    </tr>\n",
       "  </thead>\n",
       "  <tbody>\n",
       "    <tr>\n",
       "      <td>0</td>\n",
       "      <td>11413</td>\n",
       "      <td>931</td>\n",
       "      <td>12344</td>\n",
       "      <td>7.542126</td>\n",
       "    </tr>\n",
       "    <tr>\n",
       "      <td>1</td>\n",
       "      <td>3775</td>\n",
       "      <td>388</td>\n",
       "      <td>4163</td>\n",
       "      <td>9.320202</td>\n",
       "    </tr>\n",
       "    <tr>\n",
       "      <td>2</td>\n",
       "      <td>896</td>\n",
       "      <td>63</td>\n",
       "      <td>959</td>\n",
       "      <td>6.569343</td>\n",
       "    </tr>\n",
       "    <tr>\n",
       "      <td>3</td>\n",
       "      <td>1110</td>\n",
       "      <td>85</td>\n",
       "      <td>1195</td>\n",
       "      <td>7.112971</td>\n",
       "    </tr>\n",
       "    <tr>\n",
       "      <td>4</td>\n",
       "      <td>2536</td>\n",
       "      <td>274</td>\n",
       "      <td>2810</td>\n",
       "      <td>9.750890</td>\n",
       "    </tr>\n",
       "  </tbody>\n",
       "</table>\n",
       "</div>"
      ],
      "text/plain": [
       "debt                  0    1  all_debts   procent\n",
       "family_status_id                                 \n",
       "0                 11413  931      12344  7.542126\n",
       "1                  3775  388       4163  9.320202\n",
       "2                   896   63        959  6.569343\n",
       "3                  1110   85       1195  7.112971\n",
       "4                  2536  274       2810  9.750890"
      ]
     },
     "metadata": {},
     "output_type": "display_data"
    }
   ],
   "source": [
    "debt_children = df.pivot_table(index = ['family_status_id'], columns = 'debt', values= 'total_income_category',  aggfunc='count' )\n",
    "debt_children['all_debts'] = debt_children[1]+debt_children[0]\n",
    "debt_children['procent'] = debt_children[1] / debt_children['all_debts']*100\n",
    "display(debt_children)"
   ]
  },
  {
   "cell_type": "code",
   "execution_count": 27,
   "id": "e983b1a2",
   "metadata": {},
   "outputs": [
    {
     "data": {
      "text/html": [
       "<div>\n",
       "<style scoped>\n",
       "    .dataframe tbody tr th:only-of-type {\n",
       "        vertical-align: middle;\n",
       "    }\n",
       "\n",
       "    .dataframe tbody tr th {\n",
       "        vertical-align: top;\n",
       "    }\n",
       "\n",
       "    .dataframe thead th {\n",
       "        text-align: right;\n",
       "    }\n",
       "</style>\n",
       "<table border=\"1\" class=\"dataframe\">\n",
       "  <thead>\n",
       "    <tr style=\"text-align: right;\">\n",
       "      <th></th>\n",
       "      <th>family_status_id</th>\n",
       "    </tr>\n",
       "    <tr>\n",
       "      <th>family_status</th>\n",
       "      <th></th>\n",
       "    </tr>\n",
       "  </thead>\n",
       "  <tbody>\n",
       "    <tr>\n",
       "      <td>женат / замужем</td>\n",
       "      <td>0</td>\n",
       "    </tr>\n",
       "    <tr>\n",
       "      <td>гражданский брак</td>\n",
       "      <td>1</td>\n",
       "    </tr>\n",
       "    <tr>\n",
       "      <td>вдовец / вдова</td>\n",
       "      <td>2</td>\n",
       "    </tr>\n",
       "    <tr>\n",
       "      <td>в разводе</td>\n",
       "      <td>3</td>\n",
       "    </tr>\n",
       "    <tr>\n",
       "      <td>Не женат / не замужем</td>\n",
       "      <td>4</td>\n",
       "    </tr>\n",
       "  </tbody>\n",
       "</table>\n",
       "</div>"
      ],
      "text/plain": [
       "                       family_status_id\n",
       "family_status                          \n",
       "женат / замужем                       0\n",
       "гражданский брак                      1\n",
       "вдовец / вдова                        2\n",
       "в разводе                             3\n",
       "Не женат / не замужем                 4"
      ]
     },
     "execution_count": 27,
     "metadata": {},
     "output_type": "execute_result"
    }
   ],
   "source": [
    "data_family_status # Выведем отдельно таблицу с рассшифровкой значений семейного статуса."
   ]
  },
  {
   "cell_type": "markdown",
   "id": "1bca19c8",
   "metadata": {},
   "source": [
    "Тут мы можем наблюдать что самыми надежными клиентами банка являются люди имеющие семейный статус \"вдовец / вдова\", далее неплохую статистику показывают 2 группы людей \"женат / замужем\" и \"в разводе\", самымы рисковыми клиентами являются люди находящиеся в группе \"Не женат / не замужем\"."
   ]
  },
  {
   "cell_type": "markdown",
   "id": "b1c3f183",
   "metadata": {},
   "source": [
    "# 3 Отвечаем на впорос: есть ли зависимость между уровнем дохода и возвратом кредита в срок?"
   ]
  },
  {
   "cell_type": "code",
   "execution_count": 28,
   "id": "82f8dfba",
   "metadata": {},
   "outputs": [
    {
     "data": {
      "text/html": [
       "<div>\n",
       "<style scoped>\n",
       "    .dataframe tbody tr th:only-of-type {\n",
       "        vertical-align: middle;\n",
       "    }\n",
       "\n",
       "    .dataframe tbody tr th {\n",
       "        vertical-align: top;\n",
       "    }\n",
       "\n",
       "    .dataframe thead th {\n",
       "        text-align: right;\n",
       "    }\n",
       "</style>\n",
       "<table border=\"1\" class=\"dataframe\">\n",
       "  <thead>\n",
       "    <tr style=\"text-align: right;\">\n",
       "      <th>debt</th>\n",
       "      <th>0</th>\n",
       "      <th>1</th>\n",
       "      <th>all_debts</th>\n",
       "      <th>procent</th>\n",
       "    </tr>\n",
       "    <tr>\n",
       "      <th>total_income_category</th>\n",
       "      <th></th>\n",
       "      <th></th>\n",
       "      <th></th>\n",
       "      <th></th>\n",
       "    </tr>\n",
       "  </thead>\n",
       "  <tbody>\n",
       "    <tr>\n",
       "      <td>A</td>\n",
       "      <td>23</td>\n",
       "      <td>2</td>\n",
       "      <td>25</td>\n",
       "      <td>8.00</td>\n",
       "    </tr>\n",
       "    <tr>\n",
       "      <td>B</td>\n",
       "      <td>4685</td>\n",
       "      <td>356</td>\n",
       "      <td>5041</td>\n",
       "      <td>7.06</td>\n",
       "    </tr>\n",
       "    <tr>\n",
       "      <td>C</td>\n",
       "      <td>14673</td>\n",
       "      <td>1360</td>\n",
       "      <td>16033</td>\n",
       "      <td>8.48</td>\n",
       "    </tr>\n",
       "    <tr>\n",
       "      <td>D</td>\n",
       "      <td>329</td>\n",
       "      <td>21</td>\n",
       "      <td>350</td>\n",
       "      <td>6.00</td>\n",
       "    </tr>\n",
       "    <tr>\n",
       "      <td>E</td>\n",
       "      <td>20</td>\n",
       "      <td>2</td>\n",
       "      <td>22</td>\n",
       "      <td>9.09</td>\n",
       "    </tr>\n",
       "  </tbody>\n",
       "</table>\n",
       "</div>"
      ],
      "text/plain": [
       "debt                       0     1  all_debts  procent\n",
       "total_income_category                                 \n",
       "A                         23     2         25     8.00\n",
       "B                       4685   356       5041     7.06\n",
       "C                      14673  1360      16033     8.48\n",
       "D                        329    21        350     6.00\n",
       "E                         20     2         22     9.09"
      ]
     },
     "metadata": {},
     "output_type": "display_data"
    }
   ],
   "source": [
    "debt_children = df.pivot_table(index = ['total_income_category'], columns = 'debt', values= 'income_type',  aggfunc='count' )\n",
    "debt_children['all_debts'] = debt_children[1]+debt_children[0]\n",
    "debt_children['procent'] = round(debt_children[1] / debt_children['all_debts']*100,2)\n",
    "display(debt_children)"
   ]
  },
  {
   "cell_type": "markdown",
   "id": "ae86cfcd",
   "metadata": {},
   "source": [
    "Расшифровка категорий дохода.\n",
    "1000001 и выше — 'A'\n",
    "200001–1000000 — 'B'\n",
    "50001–200000 — 'C'\n",
    "30001–50000 — 'D'\n",
    "0–30000 — 'E'"
   ]
  },
  {
   "cell_type": "markdown",
   "id": "6fd65ba1",
   "metadata": {},
   "source": [
    "По данной таблице можно увидеть что люди с категорией дохода \"D\" являются самыми надежными клиентами, а люди с самой низжей категорией являются самыми рискованными и то что люди имеющие самый большой доход по категориям, не сильно отличаются от людей со среднем доходом по категориям. "
   ]
  },
  {
   "cell_type": "markdown",
   "id": "9a0ad60d",
   "metadata": {},
   "source": [
    "# 4 Отвечаем на впорос: как разные цели кредита влияют на его возврат в срок?"
   ]
  },
  {
   "cell_type": "code",
   "execution_count": 29,
   "id": "4cdf21be",
   "metadata": {},
   "outputs": [
    {
     "data": {
      "text/html": [
       "<div>\n",
       "<style scoped>\n",
       "    .dataframe tbody tr th:only-of-type {\n",
       "        vertical-align: middle;\n",
       "    }\n",
       "\n",
       "    .dataframe tbody tr th {\n",
       "        vertical-align: top;\n",
       "    }\n",
       "\n",
       "    .dataframe thead th {\n",
       "        text-align: right;\n",
       "    }\n",
       "</style>\n",
       "<table border=\"1\" class=\"dataframe\">\n",
       "  <thead>\n",
       "    <tr style=\"text-align: right;\">\n",
       "      <th>debt</th>\n",
       "      <th>0</th>\n",
       "      <th>1</th>\n",
       "      <th>all_debts</th>\n",
       "      <th>procent</th>\n",
       "    </tr>\n",
       "    <tr>\n",
       "      <th>purpose_category</th>\n",
       "      <th></th>\n",
       "      <th></th>\n",
       "      <th></th>\n",
       "      <th></th>\n",
       "    </tr>\n",
       "  </thead>\n",
       "  <tbody>\n",
       "    <tr>\n",
       "      <td>операции с автомобилем</td>\n",
       "      <td>3905</td>\n",
       "      <td>403</td>\n",
       "      <td>4308</td>\n",
       "      <td>9.35</td>\n",
       "    </tr>\n",
       "    <tr>\n",
       "      <td>операции с недвижимостью</td>\n",
       "      <td>10032</td>\n",
       "      <td>782</td>\n",
       "      <td>10814</td>\n",
       "      <td>7.23</td>\n",
       "    </tr>\n",
       "    <tr>\n",
       "      <td>получение образования</td>\n",
       "      <td>3644</td>\n",
       "      <td>370</td>\n",
       "      <td>4014</td>\n",
       "      <td>9.22</td>\n",
       "    </tr>\n",
       "    <tr>\n",
       "      <td>проведение свадьбы</td>\n",
       "      <td>2149</td>\n",
       "      <td>186</td>\n",
       "      <td>2335</td>\n",
       "      <td>7.97</td>\n",
       "    </tr>\n",
       "  </tbody>\n",
       "</table>\n",
       "</div>"
      ],
      "text/plain": [
       "debt                          0    1  all_debts  procent\n",
       "purpose_category                                        \n",
       "операции с автомобилем     3905  403       4308     9.35\n",
       "операции с недвижимостью  10032  782      10814     7.23\n",
       "получение образования      3644  370       4014     9.22\n",
       "проведение свадьбы         2149  186       2335     7.97"
      ]
     },
     "metadata": {},
     "output_type": "display_data"
    }
   ],
   "source": [
    "debt_children = df.pivot_table(index = ['purpose_category'], columns = 'debt', values= 'income_type',  aggfunc='count' )\n",
    "debt_children['all_debts'] = debt_children[1]+debt_children[0]\n",
    "debt_children['procent'] = round(debt_children[1] / debt_children['all_debts']*100,2)\n",
    "display(debt_children)"
   ]
  },
  {
   "cell_type": "markdown",
   "id": "dd78779a",
   "metadata": {},
   "source": [
    "Тут на мой взгляд таблица поделилась пополам так как отличие состаляют десятые процента, люди берущие кредит на жилье и свадьбу самые ответсвенны, а получение образование и операции с авто самые рисковые категории кридитования"
   ]
  },
  {
   "cell_type": "markdown",
   "id": "a9e5efee",
   "metadata": {},
   "source": [
    "ИМХО: считаю последнюю таблицу самой не объективной, так как нет конкретных сумм и нельзя объективно судить, к примеру покупка жилья может стоить в 10ки раз больше каких либо операций с автомобилем или получения образования, но ущерб банку сложно оценить, так как вероятнее при просрочке оплаты долга за жилье, банк скорее всего станет собственником этого жилья что может принести ему доход нежеле чем убытки (изхожу из своего дилетантский мнения). В то же время свадьба вероятнее будет стоить больше получения образования. По этому я бы исключил эту таблицу из анализа."
   ]
  },
  {
   "cell_type": "markdown",
   "id": "a7e36527",
   "metadata": {},
   "source": [
    "##### Вывод 1:"
   ]
  },
  {
   "cell_type": "markdown",
   "id": "32ce676b",
   "metadata": {},
   "source": [
    "## Общий вывод:"
   ]
  },
  {
   "cell_type": "markdown",
   "id": "e037c739",
   "metadata": {},
   "source": [
    "В задании был проведен анализ групп заемщиков с разынми целями кредитования и разными условиями существования, в ответах на вопросы наглядно показанно при каких зависимостях какие группы заемщиков являются более благонадежными, а какие на оборот. Изходя из низ банк может делать выводы о своем клиенте стоит ему выдавать кредит или нет или же предоставлять своим клиентам разного плана специальные условия кредитования."
   ]
  },
  {
   "cell_type": "markdown",
   "id": "8a44c904",
   "metadata": {},
   "source": [
    "Из ходя из анализа базы данных можно сделать представление о самом не надежном клиенте банка.\n",
    "* Cемейное положение : Не женат / не замужем или гражданский брак \n",
    "* Наличие детей: 2 или 4 \n",
    "* Уровень дохода: от 0 до 30к р\n",
    "* Цель кредитования: опереции с автомобилем или же на образование."
   ]
  }
 ],
 "metadata": {
  "ExecuteTimeLog": [
   {
    "duration": 588,
    "start_time": "2022-02-07T10:18:59.756Z"
   },
   {
    "duration": 59,
    "start_time": "2022-02-07T10:20:13.235Z"
   },
   {
    "duration": 78,
    "start_time": "2022-02-07T10:20:44.625Z"
   },
   {
    "duration": 10,
    "start_time": "2022-02-07T10:27:23.842Z"
   },
   {
    "duration": 41,
    "start_time": "2022-02-07T11:00:33.003Z"
   },
   {
    "duration": 3,
    "start_time": "2022-02-07T11:00:57.387Z"
   },
   {
    "duration": 6,
    "start_time": "2022-02-07T11:07:33.944Z"
   },
   {
    "duration": 14,
    "start_time": "2022-02-07T11:07:43.146Z"
   },
   {
    "duration": 13,
    "start_time": "2022-02-07T11:08:33.587Z"
   },
   {
    "duration": 8,
    "start_time": "2022-02-07T11:10:03.052Z"
   },
   {
    "duration": 11,
    "start_time": "2022-02-07T11:10:51.550Z"
   },
   {
    "duration": 78,
    "start_time": "2022-02-07T11:11:05.413Z"
   },
   {
    "duration": 10,
    "start_time": "2022-02-07T11:11:08.834Z"
   },
   {
    "duration": 75,
    "start_time": "2022-02-07T11:18:48.957Z"
   },
   {
    "duration": 12,
    "start_time": "2022-02-07T11:30:40.822Z"
   },
   {
    "duration": 7,
    "start_time": "2022-02-07T11:30:57.078Z"
   },
   {
    "duration": 5,
    "start_time": "2022-02-07T11:31:21.724Z"
   },
   {
    "duration": 7,
    "start_time": "2022-02-07T11:31:29.074Z"
   },
   {
    "duration": 7,
    "start_time": "2022-02-07T11:31:42.946Z"
   },
   {
    "duration": 6,
    "start_time": "2022-02-07T11:32:02.488Z"
   },
   {
    "duration": 19,
    "start_time": "2022-02-07T11:33:57.542Z"
   },
   {
    "duration": 16,
    "start_time": "2022-02-07T11:34:05.094Z"
   },
   {
    "duration": 368,
    "start_time": "2022-02-07T11:34:16.069Z"
   },
   {
    "duration": 14,
    "start_time": "2022-02-07T11:34:23.930Z"
   },
   {
    "duration": 25,
    "start_time": "2022-02-07T11:35:59.012Z"
   },
   {
    "duration": 15,
    "start_time": "2022-02-07T11:36:15.096Z"
   },
   {
    "duration": 13,
    "start_time": "2022-02-07T11:38:10.771Z"
   },
   {
    "duration": 4,
    "start_time": "2022-02-07T11:39:17.560Z"
   },
   {
    "duration": 5,
    "start_time": "2022-02-07T11:39:39.874Z"
   },
   {
    "duration": 6,
    "start_time": "2022-02-07T11:40:06.629Z"
   },
   {
    "duration": 5,
    "start_time": "2022-02-07T11:40:16.174Z"
   },
   {
    "duration": 7,
    "start_time": "2022-02-07T11:40:42.734Z"
   },
   {
    "duration": 10,
    "start_time": "2022-02-07T11:48:45.633Z"
   },
   {
    "duration": 11,
    "start_time": "2022-02-07T11:50:16.233Z"
   },
   {
    "duration": 7,
    "start_time": "2022-02-07T11:50:33.524Z"
   },
   {
    "duration": 9,
    "start_time": "2022-02-07T11:51:09.933Z"
   },
   {
    "duration": 9,
    "start_time": "2022-02-07T11:51:22.774Z"
   },
   {
    "duration": 5,
    "start_time": "2022-02-07T11:51:39.536Z"
   },
   {
    "duration": 16,
    "start_time": "2022-02-07T11:52:55.342Z"
   },
   {
    "duration": 28,
    "start_time": "2022-02-07T11:53:05.066Z"
   },
   {
    "duration": 272,
    "start_time": "2022-02-07T11:55:11.299Z"
   },
   {
    "duration": 11,
    "start_time": "2022-02-07T11:56:12.131Z"
   },
   {
    "duration": 9,
    "start_time": "2022-02-07T11:58:00.721Z"
   },
   {
    "duration": 6,
    "start_time": "2022-02-07T11:58:09.472Z"
   },
   {
    "duration": 6,
    "start_time": "2022-02-07T11:59:06.502Z"
   },
   {
    "duration": 5,
    "start_time": "2022-02-07T11:59:17.159Z"
   },
   {
    "duration": 6,
    "start_time": "2022-02-07T11:59:19.869Z"
   },
   {
    "duration": 13,
    "start_time": "2022-02-07T12:00:51.714Z"
   },
   {
    "duration": 4,
    "start_time": "2022-02-07T12:02:23.084Z"
   },
   {
    "duration": 5,
    "start_time": "2022-02-07T12:02:42.235Z"
   },
   {
    "duration": 18,
    "start_time": "2022-02-07T12:03:01.515Z"
   },
   {
    "duration": 7,
    "start_time": "2022-02-07T12:03:31.051Z"
   },
   {
    "duration": 6,
    "start_time": "2022-02-07T12:03:54.853Z"
   },
   {
    "duration": 9,
    "start_time": "2022-02-07T12:08:09.531Z"
   },
   {
    "duration": 85,
    "start_time": "2022-02-07T12:09:41.487Z"
   },
   {
    "duration": 11,
    "start_time": "2022-02-07T12:09:59.060Z"
   },
   {
    "duration": 8,
    "start_time": "2022-02-07T12:10:11.030Z"
   },
   {
    "duration": 11,
    "start_time": "2022-02-07T12:12:50.402Z"
   },
   {
    "duration": 9,
    "start_time": "2022-02-07T12:13:16.272Z"
   },
   {
    "duration": 7,
    "start_time": "2022-02-07T12:51:04.555Z"
   },
   {
    "duration": 269,
    "start_time": "2022-02-07T12:59:07.722Z"
   },
   {
    "duration": 366,
    "start_time": "2022-02-07T12:59:17.613Z"
   },
   {
    "duration": 10,
    "start_time": "2022-02-07T12:59:34.284Z"
   },
   {
    "duration": 14,
    "start_time": "2022-02-07T12:59:43.527Z"
   },
   {
    "duration": -546,
    "start_time": "2022-02-07T12:59:57.763Z"
   },
   {
    "duration": 15,
    "start_time": "2022-02-07T13:00:16.020Z"
   },
   {
    "duration": 15,
    "start_time": "2022-02-07T13:06:24.653Z"
   },
   {
    "duration": 11,
    "start_time": "2022-02-07T13:07:30.460Z"
   },
   {
    "duration": 12,
    "start_time": "2022-02-07T13:08:06.790Z"
   },
   {
    "duration": 16,
    "start_time": "2022-02-07T13:08:25.181Z"
   },
   {
    "duration": 6,
    "start_time": "2022-02-07T13:08:49.701Z"
   },
   {
    "duration": 12,
    "start_time": "2022-02-07T13:08:51.512Z"
   },
   {
    "duration": 6,
    "start_time": "2022-02-07T13:10:17.489Z"
   },
   {
    "duration": 74,
    "start_time": "2022-02-07T13:10:20.932Z"
   },
   {
    "duration": 4,
    "start_time": "2022-02-07T13:10:22.320Z"
   },
   {
    "duration": 9,
    "start_time": "2022-02-07T13:10:23.656Z"
   },
   {
    "duration": 6,
    "start_time": "2022-02-07T13:10:24.838Z"
   },
   {
    "duration": 6,
    "start_time": "2022-02-07T13:10:26.937Z"
   },
   {
    "duration": 22,
    "start_time": "2022-02-07T13:23:14.260Z"
   },
   {
    "duration": 286,
    "start_time": "2022-02-07T13:29:48.991Z"
   },
   {
    "duration": 87,
    "start_time": "2022-02-07T13:29:52.362Z"
   },
   {
    "duration": 249,
    "start_time": "2022-02-07T13:29:56.912Z"
   },
   {
    "duration": 5,
    "start_time": "2022-02-07T13:30:12.340Z"
   },
   {
    "duration": 259,
    "start_time": "2022-02-07T13:30:21.303Z"
   },
   {
    "duration": 5,
    "start_time": "2022-02-07T13:30:32.548Z"
   },
   {
    "duration": 5,
    "start_time": "2022-02-07T13:30:37.367Z"
   },
   {
    "duration": 16,
    "start_time": "2022-02-07T13:31:42.204Z"
   },
   {
    "duration": 15,
    "start_time": "2022-02-07T13:31:53.393Z"
   },
   {
    "duration": 16,
    "start_time": "2022-02-07T13:33:09.021Z"
   },
   {
    "duration": 27,
    "start_time": "2022-02-07T13:33:30.553Z"
   },
   {
    "duration": 28,
    "start_time": "2022-02-07T13:35:00.115Z"
   },
   {
    "duration": 28,
    "start_time": "2022-02-07T13:35:07.734Z"
   },
   {
    "duration": 27,
    "start_time": "2022-02-07T13:35:14.696Z"
   },
   {
    "duration": 7,
    "start_time": "2022-02-07T13:35:19.067Z"
   },
   {
    "duration": 12,
    "start_time": "2022-02-07T13:35:20.080Z"
   },
   {
    "duration": 22,
    "start_time": "2022-02-07T13:35:21.022Z"
   },
   {
    "duration": 25,
    "start_time": "2022-02-07T13:35:22.108Z"
   },
   {
    "duration": 16,
    "start_time": "2022-02-07T13:36:02.251Z"
   },
   {
    "duration": 16,
    "start_time": "2022-02-07T13:36:37.042Z"
   },
   {
    "duration": 17,
    "start_time": "2022-02-07T13:36:37.646Z"
   },
   {
    "duration": 16,
    "start_time": "2022-02-07T13:36:38.125Z"
   },
   {
    "duration": 20,
    "start_time": "2022-02-07T13:37:22.617Z"
   },
   {
    "duration": 18,
    "start_time": "2022-02-07T13:43:27.831Z"
   },
   {
    "duration": 266,
    "start_time": "2022-02-07T13:43:28.552Z"
   },
   {
    "duration": 249,
    "start_time": "2022-02-07T13:43:48.276Z"
   },
   {
    "duration": 17,
    "start_time": "2022-02-07T13:45:01.935Z"
   },
   {
    "duration": 5,
    "start_time": "2022-02-07T13:48:38.135Z"
   },
   {
    "duration": 5,
    "start_time": "2022-02-07T13:49:10.367Z"
   },
   {
    "duration": 4,
    "start_time": "2022-02-07T13:52:23.225Z"
   },
   {
    "duration": 25,
    "start_time": "2022-02-07T14:12:18.209Z"
   },
   {
    "duration": 87,
    "start_time": "2022-02-07T14:12:54.472Z"
   },
   {
    "duration": 46,
    "start_time": "2022-02-07T14:13:14.985Z"
   },
   {
    "duration": 24,
    "start_time": "2022-02-07T14:13:31.295Z"
   },
   {
    "duration": 279,
    "start_time": "2022-02-07T14:13:53.680Z"
   },
   {
    "duration": 26,
    "start_time": "2022-02-07T14:14:08.198Z"
   },
   {
    "duration": 284,
    "start_time": "2022-02-07T14:15:00.646Z"
   },
   {
    "duration": 305,
    "start_time": "2022-02-07T14:15:11.026Z"
   },
   {
    "duration": 264,
    "start_time": "2022-02-07T14:16:47.769Z"
   },
   {
    "duration": 279,
    "start_time": "2022-02-07T14:16:57.567Z"
   },
   {
    "duration": 257,
    "start_time": "2022-02-07T14:17:24.270Z"
   },
   {
    "duration": 282,
    "start_time": "2022-02-07T14:17:54.166Z"
   },
   {
    "duration": 258,
    "start_time": "2022-02-07T14:19:01.609Z"
   },
   {
    "duration": 11,
    "start_time": "2022-02-07T14:20:16.606Z"
   },
   {
    "duration": 4,
    "start_time": "2022-02-07T14:20:18.607Z"
   },
   {
    "duration": 17,
    "start_time": "2022-02-07T14:20:21.204Z"
   },
   {
    "duration": 20,
    "start_time": "2022-02-07T14:20:21.555Z"
   },
   {
    "duration": 16,
    "start_time": "2022-02-07T14:20:21.990Z"
   },
   {
    "duration": 26,
    "start_time": "2022-02-07T14:20:22.458Z"
   },
   {
    "duration": 17,
    "start_time": "2022-02-07T14:20:25.519Z"
   },
   {
    "duration": 282,
    "start_time": "2022-02-07T14:20:32.328Z"
   },
   {
    "duration": 13,
    "start_time": "2022-02-07T14:20:47.106Z"
   },
   {
    "duration": 3,
    "start_time": "2022-02-07T14:21:37.378Z"
   },
   {
    "duration": 4,
    "start_time": "2022-02-07T14:21:51.836Z"
   },
   {
    "duration": 5,
    "start_time": "2022-02-07T14:21:58.667Z"
   },
   {
    "duration": 4,
    "start_time": "2022-02-07T14:22:10.410Z"
   },
   {
    "duration": 283,
    "start_time": "2022-02-07T14:26:59.811Z"
   },
   {
    "duration": 262,
    "start_time": "2022-02-07T16:04:27.989Z"
   },
   {
    "duration": 257,
    "start_time": "2022-02-07T16:04:39.922Z"
   },
   {
    "duration": 10,
    "start_time": "2022-02-07T16:11:07.941Z"
   },
   {
    "duration": 9,
    "start_time": "2022-02-07T16:11:31.422Z"
   },
   {
    "duration": 82,
    "start_time": "2022-02-07T16:13:53.750Z"
   },
   {
    "duration": 12,
    "start_time": "2022-02-07T16:13:58.636Z"
   },
   {
    "duration": 26,
    "start_time": "2022-02-07T16:15:21.261Z"
   },
   {
    "duration": 29,
    "start_time": "2022-02-07T16:19:26.942Z"
   },
   {
    "duration": 25,
    "start_time": "2022-02-07T16:19:52.033Z"
   },
   {
    "duration": 272,
    "start_time": "2022-02-07T16:21:49.365Z"
   },
   {
    "duration": 16,
    "start_time": "2022-02-07T16:22:01.264Z"
   },
   {
    "duration": 268,
    "start_time": "2022-02-07T16:26:29.288Z"
   },
   {
    "duration": 272,
    "start_time": "2022-02-07T16:26:41.445Z"
   },
   {
    "duration": 276,
    "start_time": "2022-02-07T16:26:47.505Z"
   },
   {
    "duration": 295,
    "start_time": "2022-02-07T16:27:05.384Z"
   },
   {
    "duration": 15,
    "start_time": "2022-02-07T16:27:45.435Z"
   },
   {
    "duration": 317,
    "start_time": "2022-02-07T16:29:48.054Z"
   },
   {
    "duration": 331,
    "start_time": "2022-02-07T16:30:04.321Z"
   },
   {
    "duration": 14,
    "start_time": "2022-02-07T16:30:10.322Z"
   },
   {
    "duration": 15,
    "start_time": "2022-02-07T16:31:59.699Z"
   },
   {
    "duration": 16,
    "start_time": "2022-02-07T16:34:00.999Z"
   },
   {
    "duration": 15,
    "start_time": "2022-02-07T16:34:01.825Z"
   },
   {
    "duration": 17,
    "start_time": "2022-02-07T16:40:19.207Z"
   },
   {
    "duration": 279,
    "start_time": "2022-02-07T16:40:52.745Z"
   },
   {
    "duration": 820,
    "start_time": "2022-02-07T21:11:16.290Z"
   },
   {
    "duration": 5,
    "start_time": "2022-02-07T21:11:17.792Z"
   },
   {
    "duration": 12,
    "start_time": "2022-02-07T21:11:18.154Z"
   },
   {
    "duration": 8,
    "start_time": "2022-02-07T21:11:18.862Z"
   },
   {
    "duration": 11,
    "start_time": "2022-02-07T21:11:19.517Z"
   },
   {
    "duration": 19,
    "start_time": "2022-02-07T21:11:20.097Z"
   },
   {
    "duration": 5,
    "start_time": "2022-02-07T21:11:20.614Z"
   },
   {
    "duration": 24,
    "start_time": "2022-02-07T21:11:21.059Z"
   },
   {
    "duration": 27,
    "start_time": "2022-02-07T21:11:21.318Z"
   },
   {
    "duration": 29,
    "start_time": "2022-02-07T21:11:21.539Z"
   },
   {
    "duration": 33,
    "start_time": "2022-02-07T21:11:21.828Z"
   },
   {
    "duration": 47,
    "start_time": "2022-02-07T21:11:22.348Z"
   },
   {
    "duration": 31,
    "start_time": "2022-02-07T21:11:23.569Z"
   },
   {
    "duration": 30,
    "start_time": "2022-02-07T21:11:23.999Z"
   },
   {
    "duration": 20,
    "start_time": "2022-02-07T21:11:24.853Z"
   },
   {
    "duration": 390,
    "start_time": "2022-02-07T21:12:03.708Z"
   },
   {
    "duration": 279,
    "start_time": "2022-02-07T21:12:05.183Z"
   },
   {
    "duration": 329,
    "start_time": "2022-02-07T21:12:05.687Z"
   },
   {
    "duration": 273,
    "start_time": "2022-02-07T21:12:06.297Z"
   },
   {
    "duration": 97,
    "start_time": "2022-02-07T21:12:11.998Z"
   },
   {
    "duration": 5,
    "start_time": "2022-02-07T21:12:13.703Z"
   },
   {
    "duration": 14,
    "start_time": "2022-02-07T21:12:13.932Z"
   },
   {
    "duration": 8,
    "start_time": "2022-02-07T21:12:14.391Z"
   },
   {
    "duration": 9,
    "start_time": "2022-02-07T21:12:14.824Z"
   },
   {
    "duration": 16,
    "start_time": "2022-02-07T21:12:15.241Z"
   },
   {
    "duration": 6,
    "start_time": "2022-02-07T21:12:15.627Z"
   },
   {
    "duration": 23,
    "start_time": "2022-02-07T21:12:16.026Z"
   },
   {
    "duration": 26,
    "start_time": "2022-02-07T21:12:16.231Z"
   },
   {
    "duration": 21,
    "start_time": "2022-02-07T21:12:16.435Z"
   },
   {
    "duration": 26,
    "start_time": "2022-02-07T21:12:16.648Z"
   },
   {
    "duration": 20,
    "start_time": "2022-02-07T21:12:16.870Z"
   },
   {
    "duration": 22,
    "start_time": "2022-02-07T21:12:17.925Z"
   },
   {
    "duration": 22,
    "start_time": "2022-02-07T21:12:18.674Z"
   },
   {
    "duration": 24,
    "start_time": "2022-02-07T21:12:19.364Z"
   },
   {
    "duration": 17,
    "start_time": "2022-02-07T21:13:42.204Z"
   },
   {
    "duration": 11,
    "start_time": "2022-02-07T21:14:03.766Z"
   },
   {
    "duration": 16,
    "start_time": "2022-02-07T21:14:36.266Z"
   },
   {
    "duration": 23,
    "start_time": "2022-02-07T21:15:54.008Z"
   },
   {
    "duration": 24,
    "start_time": "2022-02-07T21:15:54.611Z"
   },
   {
    "duration": 25,
    "start_time": "2022-02-07T21:15:57.411Z"
   },
   {
    "duration": 33,
    "start_time": "2022-02-07T21:16:10.836Z"
   },
   {
    "duration": 34,
    "start_time": "2022-02-07T21:17:27.684Z"
   },
   {
    "duration": 4,
    "start_time": "2022-02-08T12:28:19.867Z"
   },
   {
    "duration": 302,
    "start_time": "2022-02-08T12:28:20.702Z"
   },
   {
    "duration": 748,
    "start_time": "2022-02-08T12:28:27.342Z"
   },
   {
    "duration": 4,
    "start_time": "2022-02-08T12:28:28.826Z"
   },
   {
    "duration": 10,
    "start_time": "2022-02-08T12:28:29.251Z"
   },
   {
    "duration": 7,
    "start_time": "2022-02-08T12:28:30.008Z"
   },
   {
    "duration": 7,
    "start_time": "2022-02-08T12:28:30.690Z"
   },
   {
    "duration": 17,
    "start_time": "2022-02-08T12:28:31.440Z"
   },
   {
    "duration": 4,
    "start_time": "2022-02-08T12:28:32.022Z"
   },
   {
    "duration": 17,
    "start_time": "2022-02-08T12:28:32.630Z"
   },
   {
    "duration": 20,
    "start_time": "2022-02-08T12:28:32.927Z"
   },
   {
    "duration": 17,
    "start_time": "2022-02-08T12:28:33.233Z"
   },
   {
    "duration": 19,
    "start_time": "2022-02-08T12:28:33.537Z"
   },
   {
    "duration": 16,
    "start_time": "2022-02-08T12:28:33.932Z"
   },
   {
    "duration": 17,
    "start_time": "2022-02-08T12:28:35.044Z"
   },
   {
    "duration": 16,
    "start_time": "2022-02-08T12:28:35.440Z"
   },
   {
    "duration": 27,
    "start_time": "2022-02-08T12:28:35.794Z"
   },
   {
    "duration": 3,
    "start_time": "2022-02-08T12:28:37.577Z"
   },
   {
    "duration": 263,
    "start_time": "2022-02-08T12:28:38.302Z"
   },
   {
    "duration": 26,
    "start_time": "2022-02-08T12:33:21.197Z"
   },
   {
    "duration": 18,
    "start_time": "2022-02-08T12:33:47.267Z"
   },
   {
    "duration": 21,
    "start_time": "2022-02-08T12:33:52.535Z"
   },
   {
    "duration": 291,
    "start_time": "2022-02-08T12:34:00.594Z"
   },
   {
    "duration": 22,
    "start_time": "2022-02-08T12:34:09.611Z"
   },
   {
    "duration": 5,
    "start_time": "2022-02-08T12:35:26.196Z"
   },
   {
    "duration": 260,
    "start_time": "2022-02-08T12:35:38.965Z"
   },
   {
    "duration": 7,
    "start_time": "2022-02-08T12:36:03.480Z"
   },
   {
    "duration": 3,
    "start_time": "2022-02-08T12:42:12.457Z"
   },
   {
    "duration": 483,
    "start_time": "2022-02-08T12:42:13.072Z"
   },
   {
    "duration": 258,
    "start_time": "2022-02-08T12:42:21.840Z"
   },
   {
    "duration": 3,
    "start_time": "2022-02-08T12:43:59.640Z"
   },
   {
    "duration": 248,
    "start_time": "2022-02-08T12:44:00.197Z"
   },
   {
    "duration": 4,
    "start_time": "2022-02-08T12:45:09.134Z"
   },
   {
    "duration": 598,
    "start_time": "2022-02-08T12:45:09.749Z"
   },
   {
    "duration": 85,
    "start_time": "2022-02-08T12:45:22.399Z"
   },
   {
    "duration": 582,
    "start_time": "2022-02-08T12:45:22.885Z"
   },
   {
    "duration": 3,
    "start_time": "2022-02-08T12:45:32.074Z"
   },
   {
    "duration": 248,
    "start_time": "2022-02-08T12:45:32.482Z"
   },
   {
    "duration": 4,
    "start_time": "2022-02-08T12:46:50.704Z"
   },
   {
    "duration": 240,
    "start_time": "2022-02-08T12:46:53.668Z"
   },
   {
    "duration": 4,
    "start_time": "2022-02-08T12:47:24.075Z"
   },
   {
    "duration": 238,
    "start_time": "2022-02-08T12:47:24.695Z"
   },
   {
    "duration": 249,
    "start_time": "2022-02-08T12:47:51.857Z"
   },
   {
    "duration": 95,
    "start_time": "2022-02-08T12:57:54.592Z"
   },
   {
    "duration": 242,
    "start_time": "2022-02-08T12:57:55.456Z"
   },
   {
    "duration": 5,
    "start_time": "2022-02-08T12:59:36.318Z"
   },
   {
    "duration": 251,
    "start_time": "2022-02-08T12:59:37.769Z"
   },
   {
    "duration": 5,
    "start_time": "2022-02-08T13:03:00.389Z"
   },
   {
    "duration": 259,
    "start_time": "2022-02-08T13:03:00.944Z"
   },
   {
    "duration": 71,
    "start_time": "2022-02-08T13:03:11.648Z"
   },
   {
    "duration": 4,
    "start_time": "2022-02-08T13:03:12.685Z"
   },
   {
    "duration": 10,
    "start_time": "2022-02-08T13:03:12.996Z"
   },
   {
    "duration": 7,
    "start_time": "2022-02-08T13:03:13.634Z"
   },
   {
    "duration": 7,
    "start_time": "2022-02-08T13:03:14.233Z"
   },
   {
    "duration": 12,
    "start_time": "2022-02-08T13:03:14.827Z"
   },
   {
    "duration": 4,
    "start_time": "2022-02-08T13:03:15.489Z"
   },
   {
    "duration": 18,
    "start_time": "2022-02-08T13:03:16.205Z"
   },
   {
    "duration": 18,
    "start_time": "2022-02-08T13:03:16.524Z"
   },
   {
    "duration": 16,
    "start_time": "2022-02-08T13:03:16.853Z"
   },
   {
    "duration": 18,
    "start_time": "2022-02-08T13:03:17.205Z"
   },
   {
    "duration": 15,
    "start_time": "2022-02-08T13:03:17.539Z"
   },
   {
    "duration": 16,
    "start_time": "2022-02-08T13:03:18.644Z"
   },
   {
    "duration": 15,
    "start_time": "2022-02-08T13:03:19.031Z"
   },
   {
    "duration": 25,
    "start_time": "2022-02-08T13:03:19.429Z"
   },
   {
    "duration": 4,
    "start_time": "2022-02-08T13:03:20.550Z"
   },
   {
    "duration": 262,
    "start_time": "2022-02-08T13:03:21.224Z"
   },
   {
    "duration": 7,
    "start_time": "2022-02-08T13:03:24.709Z"
   },
   {
    "duration": 4,
    "start_time": "2022-02-08T13:03:25.503Z"
   },
   {
    "duration": 248,
    "start_time": "2022-02-08T13:03:27.214Z"
   },
   {
    "duration": 74,
    "start_time": "2022-02-08T13:04:06.301Z"
   },
   {
    "duration": 4,
    "start_time": "2022-02-08T13:04:06.889Z"
   },
   {
    "duration": 9,
    "start_time": "2022-02-08T13:04:07.057Z"
   },
   {
    "duration": 7,
    "start_time": "2022-02-08T13:04:07.413Z"
   },
   {
    "duration": 6,
    "start_time": "2022-02-08T13:04:07.785Z"
   },
   {
    "duration": 12,
    "start_time": "2022-02-08T13:04:08.159Z"
   },
   {
    "duration": 4,
    "start_time": "2022-02-08T13:04:08.533Z"
   },
   {
    "duration": 17,
    "start_time": "2022-02-08T13:04:08.889Z"
   },
   {
    "duration": 19,
    "start_time": "2022-02-08T13:04:09.098Z"
   },
   {
    "duration": 15,
    "start_time": "2022-02-08T13:04:09.307Z"
   },
   {
    "duration": 18,
    "start_time": "2022-02-08T13:04:09.598Z"
   },
   {
    "duration": 14,
    "start_time": "2022-02-08T13:04:09.861Z"
   },
   {
    "duration": 16,
    "start_time": "2022-02-08T13:04:10.641Z"
   },
   {
    "duration": 15,
    "start_time": "2022-02-08T13:04:10.921Z"
   },
   {
    "duration": 24,
    "start_time": "2022-02-08T13:04:11.222Z"
   },
   {
    "duration": 4,
    "start_time": "2022-02-08T13:04:12.576Z"
   },
   {
    "duration": 241,
    "start_time": "2022-02-08T13:04:13.655Z"
   },
   {
    "duration": 8,
    "start_time": "2022-02-08T13:04:15.702Z"
   },
   {
    "duration": 4,
    "start_time": "2022-02-08T13:04:16.221Z"
   },
   {
    "duration": 412,
    "start_time": "2022-02-08T13:04:16.969Z"
   },
   {
    "duration": 83,
    "start_time": "2022-02-08T13:05:12.395Z"
   },
   {
    "duration": 5,
    "start_time": "2022-02-08T14:20:48.119Z"
   },
   {
    "duration": 5,
    "start_time": "2022-02-08T14:21:00.415Z"
   },
   {
    "duration": 7,
    "start_time": "2022-02-08T14:21:06.018Z"
   },
   {
    "duration": 7,
    "start_time": "2022-02-08T14:21:39.567Z"
   },
   {
    "duration": 7,
    "start_time": "2022-02-08T14:21:56.509Z"
   },
   {
    "duration": 7,
    "start_time": "2022-02-08T14:22:12.236Z"
   },
   {
    "duration": 9,
    "start_time": "2022-02-08T14:23:04.068Z"
   },
   {
    "duration": 7,
    "start_time": "2022-02-08T14:24:57.715Z"
   },
   {
    "duration": 12,
    "start_time": "2022-02-08T14:25:05.065Z"
   },
   {
    "duration": 10,
    "start_time": "2022-02-08T14:37:49.271Z"
   },
   {
    "duration": 9,
    "start_time": "2022-02-08T14:39:43.621Z"
   },
   {
    "duration": 9,
    "start_time": "2022-02-08T14:40:54.473Z"
   },
   {
    "duration": 13,
    "start_time": "2022-02-08T14:41:08.898Z"
   },
   {
    "duration": 246,
    "start_time": "2022-02-08T14:43:24.765Z"
   },
   {
    "duration": 9,
    "start_time": "2022-02-08T14:43:26.547Z"
   },
   {
    "duration": 9,
    "start_time": "2022-02-08T14:43:28.333Z"
   },
   {
    "duration": 9,
    "start_time": "2022-02-08T14:43:29.509Z"
   },
   {
    "duration": 10,
    "start_time": "2022-02-08T14:43:30.953Z"
   },
   {
    "duration": 9,
    "start_time": "2022-02-08T14:55:41.880Z"
   },
   {
    "duration": 72,
    "start_time": "2022-02-08T15:29:13.871Z"
   },
   {
    "duration": 3,
    "start_time": "2022-02-08T15:29:15.249Z"
   },
   {
    "duration": 9,
    "start_time": "2022-02-08T15:29:15.592Z"
   },
   {
    "duration": 6,
    "start_time": "2022-02-08T15:29:16.210Z"
   },
   {
    "duration": 6,
    "start_time": "2022-02-08T15:29:16.708Z"
   },
   {
    "duration": 12,
    "start_time": "2022-02-08T15:29:17.198Z"
   },
   {
    "duration": 4,
    "start_time": "2022-02-08T15:29:17.597Z"
   },
   {
    "duration": 19,
    "start_time": "2022-02-08T15:29:18.002Z"
   },
   {
    "duration": 20,
    "start_time": "2022-02-08T15:29:18.184Z"
   },
   {
    "duration": 15,
    "start_time": "2022-02-08T15:29:18.374Z"
   },
   {
    "duration": 18,
    "start_time": "2022-02-08T15:29:18.568Z"
   },
   {
    "duration": 14,
    "start_time": "2022-02-08T15:29:18.735Z"
   },
   {
    "duration": 15,
    "start_time": "2022-02-08T15:29:19.279Z"
   },
   {
    "duration": 17,
    "start_time": "2022-02-08T15:29:19.458Z"
   },
   {
    "duration": 21,
    "start_time": "2022-02-08T15:29:19.634Z"
   },
   {
    "duration": 4,
    "start_time": "2022-02-08T15:29:20.006Z"
   },
   {
    "duration": 238,
    "start_time": "2022-02-08T15:29:21.210Z"
   },
   {
    "duration": 7,
    "start_time": "2022-02-08T15:29:21.887Z"
   },
   {
    "duration": 5,
    "start_time": "2022-02-08T15:29:22.073Z"
   },
   {
    "duration": 247,
    "start_time": "2022-02-08T15:29:22.495Z"
   },
   {
    "duration": 11,
    "start_time": "2022-02-08T15:29:23.302Z"
   },
   {
    "duration": 9,
    "start_time": "2022-02-08T15:29:23.935Z"
   },
   {
    "duration": 9,
    "start_time": "2022-02-08T15:29:24.604Z"
   },
   {
    "duration": 10,
    "start_time": "2022-02-08T15:29:25.249Z"
   },
   {
    "duration": 51,
    "start_time": "2022-02-08T15:31:01.960Z"
   },
   {
    "duration": 594,
    "start_time": "2022-02-08T15:31:09.866Z"
   },
   {
    "duration": 361,
    "start_time": "2022-02-08T15:31:22.522Z"
   },
   {
    "duration": 28,
    "start_time": "2022-02-08T15:31:33.278Z"
   },
   {
    "duration": 21,
    "start_time": "2022-02-08T15:33:33.435Z"
   },
   {
    "duration": 24,
    "start_time": "2022-02-08T15:33:51.478Z"
   },
   {
    "duration": 20,
    "start_time": "2022-02-08T15:33:57.842Z"
   },
   {
    "duration": 4,
    "start_time": "2022-02-08T15:34:02.497Z"
   },
   {
    "duration": 247,
    "start_time": "2022-02-08T15:34:03.012Z"
   },
   {
    "duration": 8,
    "start_time": "2022-02-08T15:34:05.328Z"
   },
   {
    "duration": 5,
    "start_time": "2022-02-08T15:34:06.572Z"
   },
   {
    "duration": 243,
    "start_time": "2022-02-08T15:34:07.865Z"
   },
   {
    "duration": 9,
    "start_time": "2022-02-08T15:34:10.897Z"
   },
   {
    "duration": 268,
    "start_time": "2022-02-08T15:34:12.235Z"
   },
   {
    "duration": 9,
    "start_time": "2022-02-08T15:34:14.813Z"
   },
   {
    "duration": 11,
    "start_time": "2022-02-08T15:34:18.112Z"
   },
   {
    "duration": 9,
    "start_time": "2022-02-08T15:34:45.391Z"
   },
   {
    "duration": 256,
    "start_time": "2022-02-08T15:35:35.468Z"
   },
   {
    "duration": 92,
    "start_time": "2022-02-08T15:35:41.527Z"
   },
   {
    "duration": 7,
    "start_time": "2022-02-08T15:35:46.459Z"
   },
   {
    "duration": 853,
    "start_time": "2022-02-09T16:24:27.487Z"
   },
   {
    "duration": 87,
    "start_time": "2022-02-09T16:49:10.390Z"
   },
   {
    "duration": 5,
    "start_time": "2022-02-09T16:49:11.595Z"
   },
   {
    "duration": 11,
    "start_time": "2022-02-09T16:49:11.963Z"
   },
   {
    "duration": 7,
    "start_time": "2022-02-09T16:49:12.644Z"
   },
   {
    "duration": 8,
    "start_time": "2022-02-09T16:49:13.278Z"
   },
   {
    "duration": 16,
    "start_time": "2022-02-09T16:49:13.869Z"
   },
   {
    "duration": 5,
    "start_time": "2022-02-09T16:49:14.631Z"
   },
   {
    "duration": 23,
    "start_time": "2022-02-09T16:49:15.152Z"
   },
   {
    "duration": 26,
    "start_time": "2022-02-09T16:49:15.396Z"
   },
   {
    "duration": 23,
    "start_time": "2022-02-09T16:49:15.652Z"
   },
   {
    "duration": 23,
    "start_time": "2022-02-09T16:49:15.897Z"
   },
   {
    "duration": 20,
    "start_time": "2022-02-09T16:49:16.180Z"
   },
   {
    "duration": 22,
    "start_time": "2022-02-09T16:49:17.781Z"
   },
   {
    "duration": 21,
    "start_time": "2022-02-09T16:49:18.405Z"
   },
   {
    "duration": 33,
    "start_time": "2022-02-09T16:49:18.937Z"
   },
   {
    "duration": 5,
    "start_time": "2022-02-09T16:49:19.730Z"
   },
   {
    "duration": 398,
    "start_time": "2022-02-09T16:49:20.430Z"
   },
   {
    "duration": 9,
    "start_time": "2022-02-09T16:49:21.504Z"
   },
   {
    "duration": 6,
    "start_time": "2022-02-09T16:49:22.322Z"
   },
   {
    "duration": 475,
    "start_time": "2022-02-09T16:49:23.409Z"
   },
   {
    "duration": 14,
    "start_time": "2022-02-09T16:49:24.912Z"
   },
   {
    "duration": 14,
    "start_time": "2022-02-09T16:49:26.205Z"
   },
   {
    "duration": 8,
    "start_time": "2022-02-09T16:49:26.529Z"
   },
   {
    "duration": 12,
    "start_time": "2022-02-09T16:49:27.757Z"
   },
   {
    "duration": 461,
    "start_time": "2022-02-09T16:49:29.164Z"
   },
   {
    "duration": 478,
    "start_time": "2022-02-09T16:50:02.915Z"
   },
   {
    "duration": 14,
    "start_time": "2022-02-09T16:50:35.200Z"
   },
   {
    "duration": 9,
    "start_time": "2022-02-09T16:51:02.411Z"
   },
   {
    "duration": 13,
    "start_time": "2022-02-09T16:51:09.242Z"
   },
   {
    "duration": 14,
    "start_time": "2022-02-09T16:51:21.822Z"
   },
   {
    "duration": 7,
    "start_time": "2022-02-09T16:56:06.859Z"
   },
   {
    "duration": 6,
    "start_time": "2022-02-09T16:56:18.579Z"
   },
   {
    "duration": 47,
    "start_time": "2022-02-09T16:59:40.978Z"
   },
   {
    "duration": 62,
    "start_time": "2022-02-09T17:00:01.484Z"
   },
   {
    "duration": 363,
    "start_time": "2022-02-09T17:00:35.192Z"
   },
   {
    "duration": 53,
    "start_time": "2022-02-09T17:00:48.388Z"
   },
   {
    "duration": 41,
    "start_time": "2022-02-09T17:01:30.946Z"
   },
   {
    "duration": 380,
    "start_time": "2022-02-09T17:01:49.450Z"
   },
   {
    "duration": 142,
    "start_time": "2022-02-09T17:02:29.837Z"
   },
   {
    "duration": 347,
    "start_time": "2022-02-09T17:02:38.327Z"
   },
   {
    "duration": 374,
    "start_time": "2022-02-09T17:03:02.399Z"
   },
   {
    "duration": 430,
    "start_time": "2022-02-09T17:05:00.924Z"
   },
   {
    "duration": 56,
    "start_time": "2022-02-09T17:05:06.596Z"
   },
   {
    "duration": 10,
    "start_time": "2022-02-09T17:08:14.563Z"
   },
   {
    "duration": 10,
    "start_time": "2022-02-09T17:08:22.789Z"
   },
   {
    "duration": 12,
    "start_time": "2022-02-09T17:08:29.121Z"
   },
   {
    "duration": 53,
    "start_time": "2022-02-09T17:10:17.615Z"
   },
   {
    "duration": 30,
    "start_time": "2022-02-09T17:10:39.149Z"
   },
   {
    "duration": 973,
    "start_time": "2022-02-09T17:12:08.788Z"
   },
   {
    "duration": 116,
    "start_time": "2022-02-09T17:12:17.758Z"
   },
   {
    "duration": 982,
    "start_time": "2022-02-09T17:12:25.368Z"
   },
   {
    "duration": 925,
    "start_time": "2022-02-09T17:15:19.763Z"
   },
   {
    "duration": 40,
    "start_time": "2022-02-09T17:15:46.040Z"
   },
   {
    "duration": 59,
    "start_time": "2022-02-09T17:16:50.049Z"
   },
   {
    "duration": 119,
    "start_time": "2022-02-09T17:17:53.301Z"
   },
   {
    "duration": 362,
    "start_time": "2022-02-09T17:18:02.758Z"
   },
   {
    "duration": 398,
    "start_time": "2022-02-09T17:18:36.965Z"
   },
   {
    "duration": 516,
    "start_time": "2022-02-09T17:19:40.914Z"
   },
   {
    "duration": 465,
    "start_time": "2022-02-09T17:19:50.243Z"
   },
   {
    "duration": 124,
    "start_time": "2022-02-09T17:20:59.198Z"
   },
   {
    "duration": 37,
    "start_time": "2022-02-09T17:21:06.079Z"
   },
   {
    "duration": 91,
    "start_time": "2022-02-09T17:22:02.951Z"
   },
   {
    "duration": 394,
    "start_time": "2022-02-09T17:23:12.670Z"
   },
   {
    "duration": 477,
    "start_time": "2022-02-09T17:23:38.207Z"
   },
   {
    "duration": 1145,
    "start_time": "2022-02-09T17:24:14.263Z"
   },
   {
    "duration": 5,
    "start_time": "2022-02-09T17:24:15.412Z"
   },
   {
    "duration": 39,
    "start_time": "2022-02-09T17:24:15.420Z"
   },
   {
    "duration": 8,
    "start_time": "2022-02-09T17:24:15.462Z"
   },
   {
    "duration": 8,
    "start_time": "2022-02-09T17:24:15.472Z"
   },
   {
    "duration": 15,
    "start_time": "2022-02-09T17:24:15.483Z"
   },
   {
    "duration": 61,
    "start_time": "2022-02-09T17:24:15.501Z"
   },
   {
    "duration": 27,
    "start_time": "2022-02-09T17:24:15.566Z"
   },
   {
    "duration": 75,
    "start_time": "2022-02-09T17:24:15.596Z"
   },
   {
    "duration": 21,
    "start_time": "2022-02-09T17:24:15.674Z"
   },
   {
    "duration": 24,
    "start_time": "2022-02-09T17:24:15.698Z"
   },
   {
    "duration": 20,
    "start_time": "2022-02-09T17:24:15.760Z"
   },
   {
    "duration": 38,
    "start_time": "2022-02-09T17:24:15.783Z"
   },
   {
    "duration": 21,
    "start_time": "2022-02-09T17:24:15.860Z"
   },
   {
    "duration": 27,
    "start_time": "2022-02-09T17:24:15.883Z"
   },
   {
    "duration": 5,
    "start_time": "2022-02-09T17:24:15.913Z"
   },
   {
    "duration": 635,
    "start_time": "2022-02-09T17:24:15.920Z"
   },
   {
    "duration": 12,
    "start_time": "2022-02-09T17:24:16.560Z"
   },
   {
    "duration": 7,
    "start_time": "2022-02-09T17:24:16.575Z"
   },
   {
    "duration": 465,
    "start_time": "2022-02-09T17:24:16.585Z"
   },
   {
    "duration": 128,
    "start_time": "2022-02-09T17:24:17.059Z"
   },
   {
    "duration": 1031,
    "start_time": "2022-02-09T17:24:16.159Z"
   },
   {
    "duration": 1027,
    "start_time": "2022-02-09T17:24:16.164Z"
   },
   {
    "duration": 1024,
    "start_time": "2022-02-09T17:24:16.168Z"
   },
   {
    "duration": 1022,
    "start_time": "2022-02-09T17:24:16.171Z"
   },
   {
    "duration": 1016,
    "start_time": "2022-02-09T17:24:16.178Z"
   },
   {
    "duration": 515,
    "start_time": "2022-02-09T17:24:39.135Z"
   },
   {
    "duration": 851,
    "start_time": "2022-02-09T17:24:46.699Z"
   },
   {
    "duration": 5,
    "start_time": "2022-02-09T17:24:47.559Z"
   },
   {
    "duration": 13,
    "start_time": "2022-02-09T17:24:47.567Z"
   },
   {
    "duration": 8,
    "start_time": "2022-02-09T17:24:47.583Z"
   },
   {
    "duration": 9,
    "start_time": "2022-02-09T17:24:47.593Z"
   },
   {
    "duration": 68,
    "start_time": "2022-02-09T17:24:47.605Z"
   },
   {
    "duration": 5,
    "start_time": "2022-02-09T17:24:47.676Z"
   },
   {
    "duration": 24,
    "start_time": "2022-02-09T17:24:47.685Z"
   },
   {
    "duration": 67,
    "start_time": "2022-02-09T17:24:47.712Z"
   },
   {
    "duration": 24,
    "start_time": "2022-02-09T17:24:47.781Z"
   },
   {
    "duration": 64,
    "start_time": "2022-02-09T17:24:47.808Z"
   },
   {
    "duration": 19,
    "start_time": "2022-02-09T17:24:47.875Z"
   },
   {
    "duration": 21,
    "start_time": "2022-02-09T17:24:47.897Z"
   },
   {
    "duration": 58,
    "start_time": "2022-02-09T17:24:47.921Z"
   },
   {
    "duration": 28,
    "start_time": "2022-02-09T17:24:47.981Z"
   },
   {
    "duration": 7,
    "start_time": "2022-02-09T17:24:48.012Z"
   },
   {
    "duration": 411,
    "start_time": "2022-02-09T17:24:48.059Z"
   },
   {
    "duration": 8,
    "start_time": "2022-02-09T17:24:48.472Z"
   },
   {
    "duration": 6,
    "start_time": "2022-02-09T17:24:48.482Z"
   },
   {
    "duration": 451,
    "start_time": "2022-02-09T17:24:48.490Z"
   },
   {
    "duration": 126,
    "start_time": "2022-02-09T17:24:48.943Z"
   },
   {
    "duration": 998,
    "start_time": "2022-02-09T17:24:48.073Z"
   },
   {
    "duration": 998,
    "start_time": "2022-02-09T17:24:48.075Z"
   },
   {
    "duration": 997,
    "start_time": "2022-02-09T17:24:48.077Z"
   },
   {
    "duration": 995,
    "start_time": "2022-02-09T17:24:48.080Z"
   },
   {
    "duration": 994,
    "start_time": "2022-02-09T17:24:48.082Z"
   },
   {
    "duration": 432,
    "start_time": "2022-02-09T17:25:37.005Z"
   },
   {
    "duration": 36,
    "start_time": "2022-02-09T17:30:22.475Z"
   },
   {
    "duration": 219,
    "start_time": "2022-02-09T17:30:52.026Z"
   },
   {
    "duration": 370,
    "start_time": "2022-02-09T17:30:57.849Z"
   },
   {
    "duration": 25,
    "start_time": "2022-02-09T17:31:55.616Z"
   },
   {
    "duration": 817,
    "start_time": "2022-02-09T17:32:14.714Z"
   },
   {
    "duration": 16,
    "start_time": "2022-02-09T17:32:21.728Z"
   },
   {
    "duration": 17,
    "start_time": "2022-02-09T17:33:05.269Z"
   },
   {
    "duration": 24,
    "start_time": "2022-02-09T17:34:05.056Z"
   },
   {
    "duration": 23,
    "start_time": "2022-02-09T17:34:44.799Z"
   },
   {
    "duration": 160,
    "start_time": "2022-02-09T17:36:03.041Z"
   },
   {
    "duration": 27,
    "start_time": "2022-02-09T17:36:08.080Z"
   },
   {
    "duration": 7305,
    "start_time": "2022-02-09T17:37:35.951Z"
   },
   {
    "duration": 7415,
    "start_time": "2022-02-09T17:37:48.424Z"
   },
   {
    "duration": 28,
    "start_time": "2022-02-09T17:38:18.004Z"
   },
   {
    "duration": 8671,
    "start_time": "2022-02-09T17:38:38.897Z"
   },
   {
    "duration": 42,
    "start_time": "2022-02-09T17:39:46.441Z"
   },
   {
    "duration": 121,
    "start_time": "2022-02-09T17:39:57.417Z"
   },
   {
    "duration": 35512,
    "start_time": "2022-02-09T17:40:05.009Z"
   },
   {
    "duration": 7481,
    "start_time": "2022-02-09T17:40:57.266Z"
   },
   {
    "duration": 26,
    "start_time": "2022-02-09T17:41:23.784Z"
   },
   {
    "duration": 30,
    "start_time": "2022-02-09T17:41:50.999Z"
   },
   {
    "duration": 865,
    "start_time": "2022-02-10T16:10:28.380Z"
   },
   {
    "duration": 5,
    "start_time": "2022-02-10T16:10:29.249Z"
   },
   {
    "duration": 11,
    "start_time": "2022-02-10T16:10:29.269Z"
   },
   {
    "duration": 8,
    "start_time": "2022-02-10T16:10:29.283Z"
   },
   {
    "duration": 9,
    "start_time": "2022-02-10T16:10:29.294Z"
   },
   {
    "duration": 17,
    "start_time": "2022-02-10T16:10:29.311Z"
   },
   {
    "duration": 39,
    "start_time": "2022-02-10T16:10:29.330Z"
   },
   {
    "duration": 26,
    "start_time": "2022-02-10T16:10:29.373Z"
   },
   {
    "duration": 32,
    "start_time": "2022-02-10T16:10:29.402Z"
   },
   {
    "duration": 59,
    "start_time": "2022-02-10T16:10:29.437Z"
   },
   {
    "duration": 28,
    "start_time": "2022-02-10T16:10:29.499Z"
   },
   {
    "duration": 51,
    "start_time": "2022-02-10T16:10:29.530Z"
   },
   {
    "duration": 24,
    "start_time": "2022-02-10T16:10:29.584Z"
   },
   {
    "duration": 29,
    "start_time": "2022-02-10T16:10:29.611Z"
   },
   {
    "duration": 64,
    "start_time": "2022-02-10T16:10:29.643Z"
   },
   {
    "duration": 9,
    "start_time": "2022-02-10T16:10:29.709Z"
   },
   {
    "duration": 440,
    "start_time": "2022-02-10T16:10:29.720Z"
   },
   {
    "duration": 9,
    "start_time": "2022-02-10T16:10:30.170Z"
   },
   {
    "duration": 22,
    "start_time": "2022-02-10T16:10:30.181Z"
   },
   {
    "duration": 439,
    "start_time": "2022-02-10T16:10:30.206Z"
   },
   {
    "duration": 37,
    "start_time": "2022-02-10T16:10:30.647Z"
   },
   {
    "duration": 7,
    "start_time": "2022-02-10T16:10:30.686Z"
   },
   {
    "duration": 38,
    "start_time": "2022-02-10T16:10:30.699Z"
   },
   {
    "duration": 29,
    "start_time": "2022-02-10T16:10:30.741Z"
   },
   {
    "duration": 30,
    "start_time": "2022-02-10T16:10:30.772Z"
   },
   {
    "duration": 21,
    "start_time": "2022-02-10T16:10:30.805Z"
   },
   {
    "duration": 24,
    "start_time": "2022-02-10T16:10:43.759Z"
   },
   {
    "duration": 24,
    "start_time": "2022-02-10T16:10:50.901Z"
   },
   {
    "duration": 6446,
    "start_time": "2022-02-10T16:10:54.691Z"
   },
   {
    "duration": 25,
    "start_time": "2022-02-10T16:11:22.715Z"
   },
   {
    "duration": 23,
    "start_time": "2022-02-10T16:11:26.764Z"
   },
   {
    "duration": 34,
    "start_time": "2022-02-10T16:12:22.926Z"
   },
   {
    "duration": 32,
    "start_time": "2022-02-10T16:14:39.164Z"
   },
   {
    "duration": 97,
    "start_time": "2022-02-10T16:17:20.753Z"
   },
   {
    "duration": 78,
    "start_time": "2022-02-10T16:19:57.277Z"
   },
   {
    "duration": 33,
    "start_time": "2022-02-10T16:20:04.744Z"
   },
   {
    "duration": 32,
    "start_time": "2022-02-10T16:20:20.414Z"
   },
   {
    "duration": 34,
    "start_time": "2022-02-10T16:21:10.422Z"
   },
   {
    "duration": 32,
    "start_time": "2022-02-10T17:21:04.507Z"
   },
   {
    "duration": 292,
    "start_time": "2022-02-10T17:21:44.325Z"
   },
   {
    "duration": 33,
    "start_time": "2022-02-10T17:22:22.689Z"
   },
   {
    "duration": 35,
    "start_time": "2022-02-10T17:22:53.285Z"
   },
   {
    "duration": 34,
    "start_time": "2022-02-10T17:30:54.211Z"
   },
   {
    "duration": 35,
    "start_time": "2022-02-10T17:31:09.485Z"
   },
   {
    "duration": 6241,
    "start_time": "2022-02-10T17:33:09.524Z"
   },
   {
    "duration": 33,
    "start_time": "2022-02-10T17:33:32.965Z"
   },
   {
    "duration": 35,
    "start_time": "2022-02-10T17:34:05.157Z"
   },
   {
    "duration": 32,
    "start_time": "2022-02-10T17:34:43.744Z"
   },
   {
    "duration": 6540,
    "start_time": "2022-02-10T17:35:37.703Z"
   },
   {
    "duration": 41,
    "start_time": "2022-02-10T17:35:50.730Z"
   },
   {
    "duration": 32,
    "start_time": "2022-02-10T17:36:10.313Z"
   },
   {
    "duration": 7,
    "start_time": "2022-02-10T17:37:55.511Z"
   },
   {
    "duration": 342,
    "start_time": "2022-02-16T17:48:12.479Z"
   },
   {
    "duration": 606,
    "start_time": "2022-02-16T17:48:27.885Z"
   },
   {
    "duration": 4,
    "start_time": "2022-02-16T17:48:28.492Z"
   },
   {
    "duration": 10,
    "start_time": "2022-02-16T17:48:28.498Z"
   },
   {
    "duration": 5,
    "start_time": "2022-02-16T17:48:28.510Z"
   },
   {
    "duration": 18,
    "start_time": "2022-02-16T17:48:28.516Z"
   },
   {
    "duration": 9,
    "start_time": "2022-02-16T17:48:28.536Z"
   },
   {
    "duration": 3,
    "start_time": "2022-02-16T17:48:28.547Z"
   },
   {
    "duration": 18,
    "start_time": "2022-02-16T17:48:28.553Z"
   },
   {
    "duration": 16,
    "start_time": "2022-02-16T17:48:28.573Z"
   },
   {
    "duration": 42,
    "start_time": "2022-02-16T17:48:28.590Z"
   },
   {
    "duration": 16,
    "start_time": "2022-02-16T17:48:28.633Z"
   },
   {
    "duration": 13,
    "start_time": "2022-02-16T17:48:28.650Z"
   },
   {
    "duration": 14,
    "start_time": "2022-02-16T17:48:28.665Z"
   },
   {
    "duration": 12,
    "start_time": "2022-02-16T17:48:28.680Z"
   },
   {
    "duration": 45,
    "start_time": "2022-02-16T17:48:28.694Z"
   },
   {
    "duration": 3,
    "start_time": "2022-02-16T17:48:28.741Z"
   },
   {
    "duration": 243,
    "start_time": "2022-02-16T17:48:28.746Z"
   },
   {
    "duration": 6,
    "start_time": "2022-02-16T17:48:28.991Z"
   },
   {
    "duration": 8,
    "start_time": "2022-02-16T17:48:28.999Z"
   },
   {
    "duration": 4,
    "start_time": "2022-02-16T17:48:29.009Z"
   },
   {
    "duration": 246,
    "start_time": "2022-02-16T17:48:29.014Z"
   },
   {
    "duration": 25,
    "start_time": "2022-02-16T17:48:29.261Z"
   },
   {
    "duration": 18,
    "start_time": "2022-02-16T17:48:29.288Z"
   },
   {
    "duration": 25,
    "start_time": "2022-02-16T17:48:29.308Z"
   },
   {
    "duration": 19,
    "start_time": "2022-02-16T17:48:29.335Z"
   },
   {
    "duration": 44,
    "start_time": "2022-02-16T17:48:29.356Z"
   },
   {
    "duration": 8,
    "start_time": "2022-02-16T17:49:02.648Z"
   },
   {
    "duration": 109,
    "start_time": "2022-02-17T11:42:58.314Z"
   },
   {
    "duration": 231,
    "start_time": "2022-02-17T11:43:05.154Z"
   },
   {
    "duration": 156,
    "start_time": "2022-02-17T11:44:05.842Z"
   },
   {
    "duration": 898,
    "start_time": "2022-02-17T11:47:16.440Z"
   },
   {
    "duration": 103,
    "start_time": "2022-02-17T11:47:17.556Z"
   },
   {
    "duration": 14,
    "start_time": "2022-02-17T11:53:57.178Z"
   },
   {
    "duration": 603,
    "start_time": "2022-02-17T11:54:10.648Z"
   },
   {
    "duration": 4,
    "start_time": "2022-02-17T11:54:22.280Z"
   },
   {
    "duration": 106,
    "start_time": "2022-02-17T11:54:22.492Z"
   },
   {
    "duration": 5,
    "start_time": "2022-02-17T11:54:23.607Z"
   },
   {
    "duration": 13,
    "start_time": "2022-02-17T11:54:23.866Z"
   },
   {
    "duration": 9,
    "start_time": "2022-02-17T11:54:26.880Z"
   },
   {
    "duration": 12,
    "start_time": "2022-02-17T11:54:28.121Z"
   },
   {
    "duration": 22,
    "start_time": "2022-02-17T11:54:29.022Z"
   },
   {
    "duration": 15,
    "start_time": "2022-02-17T11:54:31.225Z"
   },
   {
    "duration": 6,
    "start_time": "2022-02-17T11:54:35.406Z"
   },
   {
    "duration": 20,
    "start_time": "2022-02-17T11:54:43.224Z"
   },
   {
    "duration": 3,
    "start_time": "2022-02-17T11:55:31.624Z"
   },
   {
    "duration": 32,
    "start_time": "2022-02-17T11:55:36.792Z"
   },
   {
    "duration": 697,
    "start_time": "2022-02-18T10:41:31.737Z"
   },
   {
    "duration": 102,
    "start_time": "2022-02-18T10:41:32.436Z"
   },
   {
    "duration": 4,
    "start_time": "2022-02-18T10:41:32.541Z"
   },
   {
    "duration": 14,
    "start_time": "2022-02-18T10:41:32.548Z"
   },
   {
    "duration": 28,
    "start_time": "2022-02-18T10:41:32.565Z"
   },
   {
    "duration": 8,
    "start_time": "2022-02-18T10:41:32.596Z"
   },
   {
    "duration": 17,
    "start_time": "2022-02-18T10:41:32.606Z"
   },
   {
    "duration": 15,
    "start_time": "2022-02-18T10:41:32.627Z"
   },
   {
    "duration": 5,
    "start_time": "2022-02-18T10:41:32.645Z"
   },
   {
    "duration": 17,
    "start_time": "2022-02-18T10:41:32.694Z"
   },
   {
    "duration": 22,
    "start_time": "2022-02-18T10:41:32.714Z"
   },
   {
    "duration": 67,
    "start_time": "2022-02-18T10:41:32.739Z"
   },
   {
    "duration": 23,
    "start_time": "2022-02-18T10:41:32.809Z"
   },
   {
    "duration": 24,
    "start_time": "2022-02-18T10:41:32.834Z"
   },
   {
    "duration": 48,
    "start_time": "2022-02-18T10:41:32.861Z"
   },
   {
    "duration": 21,
    "start_time": "2022-02-18T10:41:32.912Z"
   },
   {
    "duration": 22,
    "start_time": "2022-02-18T10:41:32.936Z"
   },
   {
    "duration": 60,
    "start_time": "2022-02-18T10:41:32.960Z"
   },
   {
    "duration": 9,
    "start_time": "2022-02-18T10:41:33.022Z"
   },
   {
    "duration": 432,
    "start_time": "2022-02-18T10:41:33.033Z"
   },
   {
    "duration": 9,
    "start_time": "2022-02-18T10:41:33.467Z"
   },
   {
    "duration": 8,
    "start_time": "2022-02-18T10:41:33.494Z"
   },
   {
    "duration": 441,
    "start_time": "2022-02-18T10:41:33.506Z"
   },
   {
    "duration": 47,
    "start_time": "2022-02-18T10:41:33.950Z"
   },
   {
    "duration": 31,
    "start_time": "2022-02-18T10:41:34.000Z"
   },
   {
    "duration": 8,
    "start_time": "2022-02-18T10:41:34.034Z"
   },
   {
    "duration": 70,
    "start_time": "2022-02-18T10:41:34.045Z"
   },
   {
    "duration": 43,
    "start_time": "2022-02-18T10:41:34.117Z"
   },
   {
    "duration": 848,
    "start_time": "2022-02-18T10:45:41.070Z"
   },
   {
    "duration": 120,
    "start_time": "2022-02-18T10:45:41.921Z"
   },
   {
    "duration": 5,
    "start_time": "2022-02-18T10:45:42.045Z"
   },
   {
    "duration": 22,
    "start_time": "2022-02-18T10:45:42.053Z"
   },
   {
    "duration": 25,
    "start_time": "2022-02-18T10:45:42.078Z"
   },
   {
    "duration": 11,
    "start_time": "2022-02-18T10:45:42.106Z"
   },
   {
    "duration": 29,
    "start_time": "2022-02-18T10:45:42.120Z"
   },
   {
    "duration": 50,
    "start_time": "2022-02-18T10:45:42.152Z"
   },
   {
    "duration": 6,
    "start_time": "2022-02-18T10:45:42.209Z"
   },
   {
    "duration": 23,
    "start_time": "2022-02-18T10:45:42.219Z"
   },
   {
    "duration": 61,
    "start_time": "2022-02-18T10:45:42.245Z"
   },
   {
    "duration": 30,
    "start_time": "2022-02-18T10:45:42.308Z"
   },
   {
    "duration": 54,
    "start_time": "2022-02-18T10:45:42.342Z"
   },
   {
    "duration": 34,
    "start_time": "2022-02-18T10:45:42.400Z"
   },
   {
    "duration": 38,
    "start_time": "2022-02-18T10:45:42.442Z"
   },
   {
    "duration": 24,
    "start_time": "2022-02-18T10:45:42.494Z"
   },
   {
    "duration": 22,
    "start_time": "2022-02-18T10:45:42.521Z"
   },
   {
    "duration": 67,
    "start_time": "2022-02-18T10:45:42.547Z"
   },
   {
    "duration": 10,
    "start_time": "2022-02-18T10:45:42.617Z"
   },
   {
    "duration": 520,
    "start_time": "2022-02-18T10:45:42.630Z"
   },
   {
    "duration": 10,
    "start_time": "2022-02-18T10:45:43.152Z"
   },
   {
    "duration": 30,
    "start_time": "2022-02-18T10:45:43.166Z"
   },
   {
    "duration": 456,
    "start_time": "2022-02-18T10:45:43.199Z"
   },
   {
    "duration": 54,
    "start_time": "2022-02-18T10:45:43.657Z"
   },
   {
    "duration": 31,
    "start_time": "2022-02-18T10:45:43.714Z"
   },
   {
    "duration": 9,
    "start_time": "2022-02-18T10:45:43.747Z"
   },
   {
    "duration": 64,
    "start_time": "2022-02-18T10:45:43.762Z"
   },
   {
    "duration": 34,
    "start_time": "2022-02-18T10:45:43.828Z"
   },
   {
    "duration": 654,
    "start_time": "2022-02-18T10:53:12.358Z"
   },
   {
    "duration": 83,
    "start_time": "2022-02-18T10:53:13.014Z"
   },
   {
    "duration": 9,
    "start_time": "2022-02-18T10:53:13.099Z"
   },
   {
    "duration": 24,
    "start_time": "2022-02-18T10:53:13.110Z"
   },
   {
    "duration": 17,
    "start_time": "2022-02-18T10:53:13.136Z"
   },
   {
    "duration": 22,
    "start_time": "2022-02-18T10:53:13.155Z"
   },
   {
    "duration": 25,
    "start_time": "2022-02-18T10:53:13.178Z"
   },
   {
    "duration": 20,
    "start_time": "2022-02-18T10:53:13.205Z"
   },
   {
    "duration": 11,
    "start_time": "2022-02-18T10:53:13.227Z"
   },
   {
    "duration": 24,
    "start_time": "2022-02-18T10:53:13.240Z"
   },
   {
    "duration": 20,
    "start_time": "2022-02-18T10:53:13.266Z"
   },
   {
    "duration": 29,
    "start_time": "2022-02-18T10:53:13.288Z"
   },
   {
    "duration": 23,
    "start_time": "2022-02-18T10:53:13.320Z"
   },
   {
    "duration": 29,
    "start_time": "2022-02-18T10:53:13.346Z"
   },
   {
    "duration": 47,
    "start_time": "2022-02-18T10:53:13.377Z"
   },
   {
    "duration": 36,
    "start_time": "2022-02-18T10:53:13.426Z"
   },
   {
    "duration": 23,
    "start_time": "2022-02-18T10:53:13.464Z"
   },
   {
    "duration": 32,
    "start_time": "2022-02-18T10:53:13.489Z"
   },
   {
    "duration": 17,
    "start_time": "2022-02-18T10:53:13.523Z"
   },
   {
    "duration": 304,
    "start_time": "2022-02-18T10:53:13.542Z"
   },
   {
    "duration": 8,
    "start_time": "2022-02-18T10:53:13.848Z"
   },
   {
    "duration": 23,
    "start_time": "2022-02-18T10:53:13.858Z"
   },
   {
    "duration": 308,
    "start_time": "2022-02-18T10:53:13.884Z"
   },
   {
    "duration": 35,
    "start_time": "2022-02-18T10:53:14.194Z"
   },
   {
    "duration": 24,
    "start_time": "2022-02-18T10:53:14.231Z"
   },
   {
    "duration": 7,
    "start_time": "2022-02-18T10:53:14.257Z"
   },
   {
    "duration": 56,
    "start_time": "2022-02-18T10:53:14.266Z"
   },
   {
    "duration": 35,
    "start_time": "2022-02-18T10:53:14.324Z"
   },
   {
    "duration": 677,
    "start_time": "2022-02-18T10:57:05.302Z"
   },
   {
    "duration": 82,
    "start_time": "2022-02-18T10:57:05.981Z"
   },
   {
    "duration": 4,
    "start_time": "2022-02-18T10:57:06.065Z"
   },
   {
    "duration": 19,
    "start_time": "2022-02-18T10:57:06.072Z"
   },
   {
    "duration": 9,
    "start_time": "2022-02-18T10:57:06.107Z"
   },
   {
    "duration": 25,
    "start_time": "2022-02-18T10:57:06.119Z"
   },
   {
    "duration": 13,
    "start_time": "2022-02-18T10:57:06.146Z"
   },
   {
    "duration": 12,
    "start_time": "2022-02-18T10:57:06.162Z"
   },
   {
    "duration": 5,
    "start_time": "2022-02-18T10:57:06.177Z"
   },
   {
    "duration": 25,
    "start_time": "2022-02-18T10:57:06.184Z"
   },
   {
    "duration": 21,
    "start_time": "2022-02-18T10:57:06.211Z"
   },
   {
    "duration": 19,
    "start_time": "2022-02-18T10:57:06.234Z"
   },
   {
    "duration": 18,
    "start_time": "2022-02-18T10:57:06.255Z"
   },
   {
    "duration": 41,
    "start_time": "2022-02-18T10:57:06.276Z"
   },
   {
    "duration": 19,
    "start_time": "2022-02-18T10:57:06.320Z"
   },
   {
    "duration": 24,
    "start_time": "2022-02-18T10:57:06.341Z"
   },
   {
    "duration": 21,
    "start_time": "2022-02-18T10:57:06.367Z"
   },
   {
    "duration": 18,
    "start_time": "2022-02-18T10:57:06.407Z"
   },
   {
    "duration": 20,
    "start_time": "2022-02-18T10:57:06.427Z"
   },
   {
    "duration": 6,
    "start_time": "2022-02-18T10:57:06.449Z"
   },
   {
    "duration": 296,
    "start_time": "2022-02-18T10:57:06.457Z"
   },
   {
    "duration": 8,
    "start_time": "2022-02-18T10:57:06.755Z"
   },
   {
    "duration": 6,
    "start_time": "2022-02-18T10:57:06.767Z"
   },
   {
    "duration": 298,
    "start_time": "2022-02-18T10:57:06.775Z"
   },
   {
    "duration": 44,
    "start_time": "2022-02-18T10:57:07.076Z"
   },
   {
    "duration": 23,
    "start_time": "2022-02-18T10:57:07.122Z"
   },
   {
    "duration": 8,
    "start_time": "2022-02-18T10:57:07.147Z"
   },
   {
    "duration": 52,
    "start_time": "2022-02-18T10:57:07.157Z"
   },
   {
    "duration": 23,
    "start_time": "2022-02-18T10:57:07.211Z"
   },
   {
    "duration": 10,
    "start_time": "2022-04-10T09:20:17.762Z"
   },
   {
    "duration": 136,
    "start_time": "2022-04-10T09:20:46.742Z"
   },
   {
    "duration": 4,
    "start_time": "2022-04-10T09:21:08.845Z"
   }
  ],
  "kernelspec": {
   "display_name": "Python 3 (ipykernel)",
   "language": "python",
   "name": "python3"
  },
  "language_info": {
   "codemirror_mode": {
    "name": "ipython",
    "version": 3
   },
   "file_extension": ".py",
   "mimetype": "text/x-python",
   "name": "python",
   "nbconvert_exporter": "python",
   "pygments_lexer": "ipython3",
   "version": "3.9.5"
  },
  "toc": {
   "base_numbering": 1,
   "nav_menu": {},
   "number_sections": true,
   "sideBar": true,
   "skip_h1_title": true,
   "title_cell": "Table of Contents",
   "title_sidebar": "Contents",
   "toc_cell": false,
   "toc_position": {},
   "toc_section_display": true,
   "toc_window_display": false
  }
 },
 "nbformat": 4,
 "nbformat_minor": 5
}
