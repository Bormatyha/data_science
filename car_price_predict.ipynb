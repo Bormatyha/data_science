{
 "cells": [
  {
   "cell_type": "markdown",
   "metadata": {},
   "source": [
    "# Определение стоимости автомобилей"
   ]
  },
  {
   "cell_type": "markdown",
   "metadata": {},
   "source": [
    "# Описание проекта:"
   ]
  },
  {
   "cell_type": "markdown",
   "metadata": {},
   "source": [
    "Сервис по продаже автомобилей с пробегом «Не бит, не крашен» разрабатывает приложение для привлечения новых клиентов. В нём можно быстро узнать рыночную стоимость своего автомобиля. В вашем распоряжении исторические данные: технические характеристики, комплектации и цены автомобилей. Вам нужно построить модель для определения стоимости. \n",
    "\n",
    "Заказчику важны:\n",
    "\n",
    "- качество предсказания;\n",
    "- скорость предсказания;\n",
    "- время обучения."
   ]
  },
  {
   "cell_type": "markdown",
   "metadata": {},
   "source": [
    "**Признаки**\n",
    "\n",
    "* DateCrawled — дата скачивания анкеты из базы\n",
    "* VehicleType — тип автомобильного кузова\n",
    "* RegistrationYear — год регистрации автомобиля\n",
    "* Gearbox — тип коробки передач\n",
    "* Power — мощность (л. с.)\n",
    "* Model — модель автомобиля\n",
    "* Kilometer — пробег (км)\n",
    "* RegistrationMonth — месяц регистрации автомобиля\n",
    "* FuelType — тип топлива\n",
    "* Brand — марка автомобиля\n",
    "* NotRepaired — была машина в ремонте или нет\n",
    "* DateCreated — дата создания анкеты\n",
    "* NumberOfPictures — количество фотографий автомобиля\n",
    "* PostalCode — почтовый индекс владельца анкеты (пользователя)\n",
    "* LastSeen — дата последней активности пользователя\n",
    "\n",
    "**Целевой признак**\n",
    "* Price — цена (евро)"
   ]
  },
  {
   "cell_type": "markdown",
   "metadata": {},
   "source": [
    "## Подготовка данных"
   ]
  },
  {
   "cell_type": "code",
   "execution_count": 1,
   "metadata": {},
   "outputs": [],
   "source": [
    "# ! pip install sklearn"
   ]
  },
  {
   "cell_type": "code",
   "execution_count": 2,
   "metadata": {},
   "outputs": [],
   "source": [
    "# ! pip install catboost"
   ]
  },
  {
   "cell_type": "code",
   "execution_count": 3,
   "metadata": {},
   "outputs": [],
   "source": [
    "# ! pip install lightgbm"
   ]
  },
  {
   "cell_type": "code",
   "execution_count": 73,
   "metadata": {},
   "outputs": [],
   "source": [
    "import pandas as pd\n",
    "pd.options.mode.chained_assignment = None\n",
    "import matplotlib.pyplot as plt\n",
    "import numpy as np\n",
    "from sklearn.metrics import mean_squared_error\n",
    "from sklearn.preprocessing import StandardScaler, OrdinalEncoder\n",
    "from sklearn.model_selection import train_test_split, cross_val_score\n",
    "from sklearn.linear_model import LinearRegression\n",
    "from catboost import CatBoostRegressor\n",
    "import lightgbm as lgb\n",
    "from lightgbm import LGBMRegressor\n",
    "from sklearn import preprocessing\n",
    "from sklearn.model_selection import RandomizedSearchCV\n",
    "import seaborn as sns\n",
    "import time"
   ]
  },
  {
   "cell_type": "code",
   "execution_count": 35,
   "metadata": {},
   "outputs": [],
   "source": [
    "df = pd.read_csv('/datasets/autos.csv')\n",
    "df_full = df.copy()"
   ]
  },
  {
   "cell_type": "code",
   "execution_count": 36,
   "metadata": {},
   "outputs": [
    {
     "data": {
      "text/html": [
       "<div>\n",
       "<style scoped>\n",
       "    .dataframe tbody tr th:only-of-type {\n",
       "        vertical-align: middle;\n",
       "    }\n",
       "\n",
       "    .dataframe tbody tr th {\n",
       "        vertical-align: top;\n",
       "    }\n",
       "\n",
       "    .dataframe thead th {\n",
       "        text-align: right;\n",
       "    }\n",
       "</style>\n",
       "<table border=\"1\" class=\"dataframe\">\n",
       "  <thead>\n",
       "    <tr style=\"text-align: right;\">\n",
       "      <th></th>\n",
       "      <th>DateCrawled</th>\n",
       "      <th>Price</th>\n",
       "      <th>VehicleType</th>\n",
       "      <th>RegistrationYear</th>\n",
       "      <th>Gearbox</th>\n",
       "      <th>Power</th>\n",
       "      <th>Model</th>\n",
       "      <th>Kilometer</th>\n",
       "      <th>RegistrationMonth</th>\n",
       "      <th>FuelType</th>\n",
       "      <th>Brand</th>\n",
       "      <th>NotRepaired</th>\n",
       "      <th>DateCreated</th>\n",
       "      <th>NumberOfPictures</th>\n",
       "      <th>PostalCode</th>\n",
       "      <th>LastSeen</th>\n",
       "    </tr>\n",
       "  </thead>\n",
       "  <tbody>\n",
       "    <tr>\n",
       "      <th>0</th>\n",
       "      <td>2016-03-24 11:52:17</td>\n",
       "      <td>480</td>\n",
       "      <td>NaN</td>\n",
       "      <td>1993</td>\n",
       "      <td>manual</td>\n",
       "      <td>0</td>\n",
       "      <td>golf</td>\n",
       "      <td>150000</td>\n",
       "      <td>0</td>\n",
       "      <td>petrol</td>\n",
       "      <td>volkswagen</td>\n",
       "      <td>NaN</td>\n",
       "      <td>2016-03-24 00:00:00</td>\n",
       "      <td>0</td>\n",
       "      <td>70435</td>\n",
       "      <td>2016-04-07 03:16:57</td>\n",
       "    </tr>\n",
       "    <tr>\n",
       "      <th>1</th>\n",
       "      <td>2016-03-24 10:58:45</td>\n",
       "      <td>18300</td>\n",
       "      <td>coupe</td>\n",
       "      <td>2011</td>\n",
       "      <td>manual</td>\n",
       "      <td>190</td>\n",
       "      <td>NaN</td>\n",
       "      <td>125000</td>\n",
       "      <td>5</td>\n",
       "      <td>gasoline</td>\n",
       "      <td>audi</td>\n",
       "      <td>yes</td>\n",
       "      <td>2016-03-24 00:00:00</td>\n",
       "      <td>0</td>\n",
       "      <td>66954</td>\n",
       "      <td>2016-04-07 01:46:50</td>\n",
       "    </tr>\n",
       "    <tr>\n",
       "      <th>2</th>\n",
       "      <td>2016-03-14 12:52:21</td>\n",
       "      <td>9800</td>\n",
       "      <td>suv</td>\n",
       "      <td>2004</td>\n",
       "      <td>auto</td>\n",
       "      <td>163</td>\n",
       "      <td>grand</td>\n",
       "      <td>125000</td>\n",
       "      <td>8</td>\n",
       "      <td>gasoline</td>\n",
       "      <td>jeep</td>\n",
       "      <td>NaN</td>\n",
       "      <td>2016-03-14 00:00:00</td>\n",
       "      <td>0</td>\n",
       "      <td>90480</td>\n",
       "      <td>2016-04-05 12:47:46</td>\n",
       "    </tr>\n",
       "    <tr>\n",
       "      <th>3</th>\n",
       "      <td>2016-03-17 16:54:04</td>\n",
       "      <td>1500</td>\n",
       "      <td>small</td>\n",
       "      <td>2001</td>\n",
       "      <td>manual</td>\n",
       "      <td>75</td>\n",
       "      <td>golf</td>\n",
       "      <td>150000</td>\n",
       "      <td>6</td>\n",
       "      <td>petrol</td>\n",
       "      <td>volkswagen</td>\n",
       "      <td>no</td>\n",
       "      <td>2016-03-17 00:00:00</td>\n",
       "      <td>0</td>\n",
       "      <td>91074</td>\n",
       "      <td>2016-03-17 17:40:17</td>\n",
       "    </tr>\n",
       "    <tr>\n",
       "      <th>4</th>\n",
       "      <td>2016-03-31 17:25:20</td>\n",
       "      <td>3600</td>\n",
       "      <td>small</td>\n",
       "      <td>2008</td>\n",
       "      <td>manual</td>\n",
       "      <td>69</td>\n",
       "      <td>fabia</td>\n",
       "      <td>90000</td>\n",
       "      <td>7</td>\n",
       "      <td>gasoline</td>\n",
       "      <td>skoda</td>\n",
       "      <td>no</td>\n",
       "      <td>2016-03-31 00:00:00</td>\n",
       "      <td>0</td>\n",
       "      <td>60437</td>\n",
       "      <td>2016-04-06 10:17:21</td>\n",
       "    </tr>\n",
       "  </tbody>\n",
       "</table>\n",
       "</div>"
      ],
      "text/plain": [
       "           DateCrawled  Price VehicleType  RegistrationYear Gearbox  Power  \\\n",
       "0  2016-03-24 11:52:17    480         NaN              1993  manual      0   \n",
       "1  2016-03-24 10:58:45  18300       coupe              2011  manual    190   \n",
       "2  2016-03-14 12:52:21   9800         suv              2004    auto    163   \n",
       "3  2016-03-17 16:54:04   1500       small              2001  manual     75   \n",
       "4  2016-03-31 17:25:20   3600       small              2008  manual     69   \n",
       "\n",
       "   Model  Kilometer  RegistrationMonth  FuelType       Brand NotRepaired  \\\n",
       "0   golf     150000                  0    petrol  volkswagen         NaN   \n",
       "1    NaN     125000                  5  gasoline        audi         yes   \n",
       "2  grand     125000                  8  gasoline        jeep         NaN   \n",
       "3   golf     150000                  6    petrol  volkswagen          no   \n",
       "4  fabia      90000                  7  gasoline       skoda          no   \n",
       "\n",
       "           DateCreated  NumberOfPictures  PostalCode             LastSeen  \n",
       "0  2016-03-24 00:00:00                 0       70435  2016-04-07 03:16:57  \n",
       "1  2016-03-24 00:00:00                 0       66954  2016-04-07 01:46:50  \n",
       "2  2016-03-14 00:00:00                 0       90480  2016-04-05 12:47:46  \n",
       "3  2016-03-17 00:00:00                 0       91074  2016-03-17 17:40:17  \n",
       "4  2016-03-31 00:00:00                 0       60437  2016-04-06 10:17:21  "
      ]
     },
     "execution_count": 36,
     "metadata": {},
     "output_type": "execute_result"
    }
   ],
   "source": [
    "df.head()"
   ]
  },
  {
   "cell_type": "markdown",
   "metadata": {},
   "source": [
    "Проведем первичный осмотр данных и выявим их проблемы."
   ]
  },
  {
   "cell_type": "code",
   "execution_count": 37,
   "metadata": {},
   "outputs": [
    {
     "name": "stdout",
     "output_type": "stream",
     "text": [
      "<class 'pandas.core.frame.DataFrame'>\n",
      "RangeIndex: 354369 entries, 0 to 354368\n",
      "Data columns (total 16 columns):\n",
      " #   Column             Non-Null Count   Dtype \n",
      "---  ------             --------------   ----- \n",
      " 0   DateCrawled        354369 non-null  object\n",
      " 1   Price              354369 non-null  int64 \n",
      " 2   VehicleType        316879 non-null  object\n",
      " 3   RegistrationYear   354369 non-null  int64 \n",
      " 4   Gearbox            334536 non-null  object\n",
      " 5   Power              354369 non-null  int64 \n",
      " 6   Model              334664 non-null  object\n",
      " 7   Kilometer          354369 non-null  int64 \n",
      " 8   RegistrationMonth  354369 non-null  int64 \n",
      " 9   FuelType           321474 non-null  object\n",
      " 10  Brand              354369 non-null  object\n",
      " 11  NotRepaired        283215 non-null  object\n",
      " 12  DateCreated        354369 non-null  object\n",
      " 13  NumberOfPictures   354369 non-null  int64 \n",
      " 14  PostalCode         354369 non-null  int64 \n",
      " 15  LastSeen           354369 non-null  object\n",
      "dtypes: int64(7), object(9)\n",
      "memory usage: 43.3+ MB\n"
     ]
    }
   ],
   "source": [
    "df.info()"
   ]
  },
  {
   "cell_type": "code",
   "execution_count": 38,
   "metadata": {},
   "outputs": [
    {
     "data": {
      "text/plain": [
       "4"
      ]
     },
     "execution_count": 38,
     "metadata": {},
     "output_type": "execute_result"
    }
   ],
   "source": [
    "# Проверим дубликаты \n",
    "df.duplicated().sum()"
   ]
  },
  {
   "cell_type": "code",
   "execution_count": 39,
   "metadata": {},
   "outputs": [],
   "source": [
    "df = df.drop_duplicates()"
   ]
  },
  {
   "cell_type": "code",
   "execution_count": 40,
   "metadata": {},
   "outputs": [
    {
     "data": {
      "text/html": [
       "<div>\n",
       "<style scoped>\n",
       "    .dataframe tbody tr th:only-of-type {\n",
       "        vertical-align: middle;\n",
       "    }\n",
       "\n",
       "    .dataframe tbody tr th {\n",
       "        vertical-align: top;\n",
       "    }\n",
       "\n",
       "    .dataframe thead th {\n",
       "        text-align: right;\n",
       "    }\n",
       "</style>\n",
       "<table border=\"1\" class=\"dataframe\">\n",
       "  <thead>\n",
       "    <tr style=\"text-align: right;\">\n",
       "      <th></th>\n",
       "      <th>Price</th>\n",
       "      <th>RegistrationYear</th>\n",
       "      <th>Power</th>\n",
       "      <th>Kilometer</th>\n",
       "      <th>RegistrationMonth</th>\n",
       "      <th>NumberOfPictures</th>\n",
       "      <th>PostalCode</th>\n",
       "    </tr>\n",
       "  </thead>\n",
       "  <tbody>\n",
       "    <tr>\n",
       "      <th>count</th>\n",
       "      <td>354365.000000</td>\n",
       "      <td>354365.000000</td>\n",
       "      <td>354365.000000</td>\n",
       "      <td>354365.000000</td>\n",
       "      <td>354365.000000</td>\n",
       "      <td>354365.0</td>\n",
       "      <td>354365.000000</td>\n",
       "    </tr>\n",
       "    <tr>\n",
       "      <th>mean</th>\n",
       "      <td>4416.679830</td>\n",
       "      <td>2004.234481</td>\n",
       "      <td>110.093816</td>\n",
       "      <td>128211.363989</td>\n",
       "      <td>5.714650</td>\n",
       "      <td>0.0</td>\n",
       "      <td>50508.503800</td>\n",
       "    </tr>\n",
       "    <tr>\n",
       "      <th>std</th>\n",
       "      <td>4514.176349</td>\n",
       "      <td>90.228466</td>\n",
       "      <td>189.851330</td>\n",
       "      <td>37905.083858</td>\n",
       "      <td>3.726432</td>\n",
       "      <td>0.0</td>\n",
       "      <td>25783.100078</td>\n",
       "    </tr>\n",
       "    <tr>\n",
       "      <th>min</th>\n",
       "      <td>0.000000</td>\n",
       "      <td>1000.000000</td>\n",
       "      <td>0.000000</td>\n",
       "      <td>5000.000000</td>\n",
       "      <td>0.000000</td>\n",
       "      <td>0.0</td>\n",
       "      <td>1067.000000</td>\n",
       "    </tr>\n",
       "    <tr>\n",
       "      <th>25%</th>\n",
       "      <td>1050.000000</td>\n",
       "      <td>1999.000000</td>\n",
       "      <td>69.000000</td>\n",
       "      <td>125000.000000</td>\n",
       "      <td>3.000000</td>\n",
       "      <td>0.0</td>\n",
       "      <td>30165.000000</td>\n",
       "    </tr>\n",
       "    <tr>\n",
       "      <th>50%</th>\n",
       "      <td>2700.000000</td>\n",
       "      <td>2003.000000</td>\n",
       "      <td>105.000000</td>\n",
       "      <td>150000.000000</td>\n",
       "      <td>6.000000</td>\n",
       "      <td>0.0</td>\n",
       "      <td>49413.000000</td>\n",
       "    </tr>\n",
       "    <tr>\n",
       "      <th>75%</th>\n",
       "      <td>6400.000000</td>\n",
       "      <td>2008.000000</td>\n",
       "      <td>143.000000</td>\n",
       "      <td>150000.000000</td>\n",
       "      <td>9.000000</td>\n",
       "      <td>0.0</td>\n",
       "      <td>71083.000000</td>\n",
       "    </tr>\n",
       "    <tr>\n",
       "      <th>max</th>\n",
       "      <td>20000.000000</td>\n",
       "      <td>9999.000000</td>\n",
       "      <td>20000.000000</td>\n",
       "      <td>150000.000000</td>\n",
       "      <td>12.000000</td>\n",
       "      <td>0.0</td>\n",
       "      <td>99998.000000</td>\n",
       "    </tr>\n",
       "  </tbody>\n",
       "</table>\n",
       "</div>"
      ],
      "text/plain": [
       "               Price  RegistrationYear          Power      Kilometer  \\\n",
       "count  354365.000000     354365.000000  354365.000000  354365.000000   \n",
       "mean     4416.679830       2004.234481     110.093816  128211.363989   \n",
       "std      4514.176349         90.228466     189.851330   37905.083858   \n",
       "min         0.000000       1000.000000       0.000000    5000.000000   \n",
       "25%      1050.000000       1999.000000      69.000000  125000.000000   \n",
       "50%      2700.000000       2003.000000     105.000000  150000.000000   \n",
       "75%      6400.000000       2008.000000     143.000000  150000.000000   \n",
       "max     20000.000000       9999.000000   20000.000000  150000.000000   \n",
       "\n",
       "       RegistrationMonth  NumberOfPictures     PostalCode  \n",
       "count      354365.000000          354365.0  354365.000000  \n",
       "mean            5.714650               0.0   50508.503800  \n",
       "std             3.726432               0.0   25783.100078  \n",
       "min             0.000000               0.0    1067.000000  \n",
       "25%             3.000000               0.0   30165.000000  \n",
       "50%             6.000000               0.0   49413.000000  \n",
       "75%             9.000000               0.0   71083.000000  \n",
       "max            12.000000               0.0   99998.000000  "
      ]
     },
     "execution_count": 40,
     "metadata": {},
     "output_type": "execute_result"
    }
   ],
   "source": [
    "df.describe()"
   ]
  },
  {
   "cell_type": "code",
   "execution_count": 41,
   "metadata": {},
   "outputs": [
    {
     "data": {
      "text/plain": [
       "DateCrawled          0.000000\n",
       "Price                0.000000\n",
       "VehicleType          0.105795\n",
       "RegistrationYear     0.000000\n",
       "Gearbox              0.055968\n",
       "Power                0.000000\n",
       "Model                0.055607\n",
       "Kilometer            0.000000\n",
       "RegistrationMonth    0.000000\n",
       "FuelType             0.092828\n",
       "Brand                0.000000\n",
       "NotRepaired          0.200793\n",
       "DateCreated          0.000000\n",
       "NumberOfPictures     0.000000\n",
       "PostalCode           0.000000\n",
       "LastSeen             0.000000\n",
       "dtype: float64"
      ]
     },
     "execution_count": 41,
     "metadata": {},
     "output_type": "execute_result"
    }
   ],
   "source": [
    "# посмотрим на пропуски \n",
    "df.isna().mean()"
   ]
  },
  {
   "cell_type": "markdown",
   "metadata": {},
   "source": [
    "**Вывод:**\n",
    " - В данных присутсвуют лишнии колонки \n",
    " - Были удалены дубликаты\n",
    " - Необходима обработка пропусков "
   ]
  },
  {
   "cell_type": "markdown",
   "metadata": {},
   "source": [
    "### Предобработка данных"
   ]
  },
  {
   "cell_type": "markdown",
   "metadata": {},
   "source": [
    "Удалим лишнии колонки"
   ]
  },
  {
   "cell_type": "code",
   "execution_count": 42,
   "metadata": {},
   "outputs": [],
   "source": [
    "df= df.drop(['DateCrawled', 'RegistrationMonth', 'DateCreated', 'NumberOfPictures', 'PostalCode', 'LastSeen'], axis='columns') "
   ]
  },
  {
   "cell_type": "code",
   "execution_count": 43,
   "metadata": {},
   "outputs": [],
   "source": [
    "# Переведем колонки в нижний регистр\n",
    "df.columns = df.columns.str.lower()"
   ]
  },
  {
   "cell_type": "code",
   "execution_count": 44,
   "metadata": {},
   "outputs": [
    {
     "data": {
      "text/plain": [
       "<AxesSubplot:>"
      ]
     },
     "execution_count": 44,
     "metadata": {},
     "output_type": "execute_result"
    },
    {
     "data": {
      "image/png": "[encoded data removed]",
      "text/plain": [
       "<Figure size 432x288 with 1 Axes>"
      ]
     },
     "metadata": {
      "needs_background": "light"
     },
     "output_type": "display_data"
    }
   ],
   "source": [
    "df.boxplot()"
   ]
  },
  {
   "cell_type": "markdown",
   "metadata": {},
   "source": [
    "Становитсья видно что в данных много выбросов, не обходимо рассмотреть по подробнее некоторые важные колонки."
   ]
  },
  {
   "cell_type": "code",
   "execution_count": 45,
   "metadata": {},
   "outputs": [
    {
     "data": {
      "text/plain": [
       "<AxesSubplot:>"
      ]
     },
     "execution_count": 45,
     "metadata": {},
     "output_type": "execute_result"
    },
    {
     "data": {
      "image/png": "[encoded data removed]",
      "text/plain": [
       "<Figure size 432x288 with 1 Axes>"
      ]
     },
     "metadata": {
      "needs_background": "light"
     },
     "output_type": "display_data"
    }
   ],
   "source": [
    "df.boxplot('price')"
   ]
  },
  {
   "cell_type": "markdown",
   "metadata": {},
   "source": [
    "Цена на автомобиль не может быть нулевая, очистим данные от них."
   ]
  },
  {
   "cell_type": "code",
   "execution_count": 46,
   "metadata": {},
   "outputs": [],
   "source": [
    "df = df.query('price > 500')"
   ]
  },
  {
   "cell_type": "markdown",
   "metadata": {},
   "source": [
    "Посмотрим на колонку `power`"
   ]
  },
  {
   "cell_type": "code",
   "execution_count": 47,
   "metadata": {},
   "outputs": [
    {
     "data": {
      "text/plain": [
       "<AxesSubplot:>"
      ]
     },
     "execution_count": 47,
     "metadata": {},
     "output_type": "execute_result"
    },
    {
     "data": {
      "image/png": "[encoded data removed]",
      "text/plain": [
       "<Figure size 432x288 with 1 Axes>"
      ]
     },
     "metadata": {
      "needs_background": "light"
     },
     "output_type": "display_data"
    }
   ],
   "source": [
    "df.boxplot('power')"
   ]
  },
  {
   "cell_type": "markdown",
   "metadata": {},
   "source": [
    "В данных очень сильные выбросы, проанализируем представленные бренды автомобилей и постараемся выявить границу реальных данных для мошности."
   ]
  },
  {
   "cell_type": "code",
   "execution_count": 48,
   "metadata": {},
   "outputs": [
    {
     "data": {
      "text/plain": [
       "<AxesSubplot:>"
      ]
     },
     "execution_count": 48,
     "metadata": {},
     "output_type": "execute_result"
    },
    {
     "data": {
      "image/png": "[encoded data removed]",
      "text/plain": [
       "<Figure size 432x288 with 1 Axes>"
      ]
     },
     "metadata": {
      "needs_background": "light"
     },
     "output_type": "display_data"
    }
   ],
   "source": [
    "ax = df['brand'].value_counts()\n",
    "ax.plot(kind='bar')"
   ]
  },
  {
   "cell_type": "markdown",
   "metadata": {},
   "source": [
    "В брендах отсутствуют громкие названия гиперкаров по типу Buggati имеющие более 1000л\\с а значит что значения мошности сильно завышены.\n",
    "\n",
    "Мощность серийных автомобилей очень редко превышает 600л\\с, возьмем эту цифру за верхнюю границу, ну и машин с 0 мошностью не бывает. "
   ]
  },
  {
   "cell_type": "code",
   "execution_count": 49,
   "metadata": {},
   "outputs": [],
   "source": [
    "df = df.query('power > 50 and power < 600')"
   ]
  },
  {
   "cell_type": "code",
   "execution_count": 50,
   "metadata": {},
   "outputs": [
    {
     "data": {
      "text/plain": [
       "<AxesSubplot:>"
      ]
     },
     "execution_count": 50,
     "metadata": {},
     "output_type": "execute_result"
    },
    {
     "data": {
      "image/png": "[encoded data removed]",
      "text/plain": [
       "<Figure size 432x288 with 1 Axes>"
      ]
     },
     "metadata": {
      "needs_background": "light"
     },
     "output_type": "display_data"
    }
   ],
   "source": [
    "df.boxplot('power')"
   ]
  },
  {
   "cell_type": "markdown",
   "metadata": {},
   "source": [
    "Взгляним на признак `registrationyear`"
   ]
  },
  {
   "cell_type": "code",
   "execution_count": 51,
   "metadata": {},
   "outputs": [
    {
     "data": {
      "text/plain": [
       "<AxesSubplot:>"
      ]
     },
     "execution_count": 51,
     "metadata": {},
     "output_type": "execute_result"
    },
    {
     "data": {
      "image/png": "[encoded data removed]",
      "text/plain": [
       "<Figure size 432x288 with 1 Axes>"
      ]
     },
     "metadata": {
      "needs_background": "light"
     },
     "output_type": "display_data"
    }
   ],
   "source": [
    "df.boxplot('registrationyear')"
   ]
  },
  {
   "cell_type": "markdown",
   "metadata": {},
   "source": [
    "Так же можем наблюдать не верные данные. 10000 год нас только ждет )"
   ]
  },
  {
   "cell_type": "code",
   "execution_count": 52,
   "metadata": {},
   "outputs": [],
   "source": [
    "df = df.query('registrationyear > 1980 and registrationyear < 2016')"
   ]
  },
  {
   "cell_type": "code",
   "execution_count": 53,
   "metadata": {},
   "outputs": [
    {
     "data": {
      "text/plain": [
       "<AxesSubplot:>"
      ]
     },
     "execution_count": 53,
     "metadata": {},
     "output_type": "execute_result"
    },
    {
     "data": {
      "image/png": "[encoded data removed]",
      "text/plain": [
       "<Figure size 432x288 with 1 Axes>"
      ]
     },
     "metadata": {
      "needs_background": "light"
     },
     "output_type": "display_data"
    }
   ],
   "source": [
    "# Посмотрим еще раз.\n",
    "df.boxplot('registrationyear')"
   ]
  },
  {
   "cell_type": "markdown",
   "metadata": {},
   "source": [
    "Заполним пропуски в колонке `notrepaired` нулем 0 так как скорее всего при заполнении данных этот пункт пропускался из-за отсутсвия ремонта."
   ]
  },
  {
   "cell_type": "code",
   "execution_count": 54,
   "metadata": {},
   "outputs": [],
   "source": [
    "df['notrepaired'] = df['notrepaired'].fillna(0)"
   ]
  },
  {
   "cell_type": "code",
   "execution_count": 55,
   "metadata": {},
   "outputs": [
    {
     "data": {
      "text/plain": [
       "price               0.000000\n",
       "vehicletype         0.012225\n",
       "registrationyear    0.000000\n",
       "gearbox             0.013931\n",
       "power               0.000000\n",
       "model               0.030654\n",
       "kilometer           0.000000\n",
       "fueltype            0.037440\n",
       "brand               0.000000\n",
       "notrepaired         0.000000\n",
       "dtype: float64"
      ]
     },
     "execution_count": 55,
     "metadata": {},
     "output_type": "execute_result"
    }
   ],
   "source": [
    "# Взгляним еще раз на пропуски.\n",
    "df.isna().mean()"
   ]
  },
  {
   "cell_type": "markdown",
   "metadata": {},
   "source": [
    "Пропусков ~ 5% считаю это не значительным числом и просто дропну оставшиеся пропуски."
   ]
  },
  {
   "cell_type": "code",
   "execution_count": 56,
   "metadata": {},
   "outputs": [],
   "source": [
    "df = df.dropna()"
   ]
  },
  {
   "cell_type": "code",
   "execution_count": 57,
   "metadata": {},
   "outputs": [
    {
     "name": "stdout",
     "output_type": "stream",
     "text": [
      "Из первоначальной базы данных понадобилась убрать 31.9% данных\n"
     ]
    }
   ],
   "source": [
    "print('Из первоначальной базы данных понадобилась убрать {0:.1f}% данных'.format((len(df_full) - len(df)) / (len(df_full)/100)))"
   ]
  },
  {
   "cell_type": "markdown",
   "metadata": {},
   "source": [
    "**Вывод:**\n",
    "- Удалили лишнии колонки в данных\n",
    "- Поменяли регистр колонок\n",
    "- Детально взглянули на колонки `registrationyear`, `  power`, `  price ` и убрали выбросы из них\n",
    "- Заполнили пропуски в колонке `notrepaired` а остальные просто удалили"
   ]
  },
  {
   "cell_type": "code",
   "execution_count": 58,
   "metadata": {},
   "outputs": [
    {
     "data": {
      "text/plain": [
       "<AxesSubplot:>"
      ]
     },
     "execution_count": 58,
     "metadata": {},
     "output_type": "execute_result"
    },
    {
     "data": {
      "image/png": "[encoded data removed]",
      "text/plain": [
       "<Figure size 432x288 with 2 Axes>"
      ]
     },
     "metadata": {
      "needs_background": "light"
     },
     "output_type": "display_data"
    }
   ],
   "source": [
    "sns.heatmap(df.corr(),annot = True)"
   ]
  },
  {
   "cell_type": "markdown",
   "metadata": {},
   "source": [
    "## Обучение и анализ моделей "
   ]
  },
  {
   "cell_type": "markdown",
   "metadata": {},
   "source": [
    "Задействуем технику прямого кодирования, чтобы преобразовать категориальные признаки в численные. "
   ]
  },
  {
   "cell_type": "code",
   "execution_count": 59,
   "metadata": {},
   "outputs": [],
   "source": [
    "#приведем категориальные признаки в номинальные с помощью LabelEncoder\n",
    "from sklearn.preprocessing import LabelEncoder\n",
    "\n",
    "label_encode = LabelEncoder()\n",
    "columns_for_convert = list(df.select_dtypes(include='object').columns)\n",
    "for column in columns_for_convert:\n",
    "    label_encode.fit(df[column].astype('str'))\n",
    "    df[column] = label_encode.transform(df[column].astype('str'))"
   ]
  },
  {
   "cell_type": "code",
   "execution_count": 61,
   "metadata": {},
   "outputs": [
    {
     "data": {
      "text/html": [
       "<div>\n",
       "<style scoped>\n",
       "    .dataframe tbody tr th:only-of-type {\n",
       "        vertical-align: middle;\n",
       "    }\n",
       "\n",
       "    .dataframe tbody tr th {\n",
       "        vertical-align: top;\n",
       "    }\n",
       "\n",
       "    .dataframe thead th {\n",
       "        text-align: right;\n",
       "    }\n",
       "</style>\n",
       "<table border=\"1\" class=\"dataframe\">\n",
       "  <thead>\n",
       "    <tr style=\"text-align: right;\">\n",
       "      <th></th>\n",
       "      <th>price</th>\n",
       "      <th>vehicletype</th>\n",
       "      <th>registrationyear</th>\n",
       "      <th>gearbox</th>\n",
       "      <th>power</th>\n",
       "      <th>model</th>\n",
       "      <th>kilometer</th>\n",
       "      <th>fueltype</th>\n",
       "      <th>brand</th>\n",
       "      <th>notrepaired</th>\n",
       "    </tr>\n",
       "  </thead>\n",
       "  <tbody>\n",
       "    <tr>\n",
       "      <th>2</th>\n",
       "      <td>9800</td>\n",
       "      <td>6</td>\n",
       "      <td>2004</td>\n",
       "      <td>0</td>\n",
       "      <td>163</td>\n",
       "      <td>116</td>\n",
       "      <td>125000</td>\n",
       "      <td>2</td>\n",
       "      <td>14</td>\n",
       "      <td>0</td>\n",
       "    </tr>\n",
       "    <tr>\n",
       "      <th>3</th>\n",
       "      <td>1500</td>\n",
       "      <td>5</td>\n",
       "      <td>2001</td>\n",
       "      <td>1</td>\n",
       "      <td>75</td>\n",
       "      <td>115</td>\n",
       "      <td>150000</td>\n",
       "      <td>6</td>\n",
       "      <td>37</td>\n",
       "      <td>1</td>\n",
       "    </tr>\n",
       "    <tr>\n",
       "      <th>4</th>\n",
       "      <td>3600</td>\n",
       "      <td>5</td>\n",
       "      <td>2008</td>\n",
       "      <td>1</td>\n",
       "      <td>69</td>\n",
       "      <td>100</td>\n",
       "      <td>90000</td>\n",
       "      <td>2</td>\n",
       "      <td>31</td>\n",
       "      <td>1</td>\n",
       "    </tr>\n",
       "    <tr>\n",
       "      <th>5</th>\n",
       "      <td>650</td>\n",
       "      <td>4</td>\n",
       "      <td>1995</td>\n",
       "      <td>1</td>\n",
       "      <td>102</td>\n",
       "      <td>11</td>\n",
       "      <td>150000</td>\n",
       "      <td>6</td>\n",
       "      <td>2</td>\n",
       "      <td>2</td>\n",
       "    </tr>\n",
       "    <tr>\n",
       "      <th>6</th>\n",
       "      <td>2200</td>\n",
       "      <td>1</td>\n",
       "      <td>2004</td>\n",
       "      <td>1</td>\n",
       "      <td>109</td>\n",
       "      <td>8</td>\n",
       "      <td>150000</td>\n",
       "      <td>6</td>\n",
       "      <td>25</td>\n",
       "      <td>1</td>\n",
       "    </tr>\n",
       "    <tr>\n",
       "      <th>...</th>\n",
       "      <td>...</td>\n",
       "      <td>...</td>\n",
       "      <td>...</td>\n",
       "      <td>...</td>\n",
       "      <td>...</td>\n",
       "      <td>...</td>\n",
       "      <td>...</td>\n",
       "      <td>...</td>\n",
       "      <td>...</td>\n",
       "      <td>...</td>\n",
       "    </tr>\n",
       "    <tr>\n",
       "      <th>354359</th>\n",
       "      <td>7900</td>\n",
       "      <td>4</td>\n",
       "      <td>2010</td>\n",
       "      <td>1</td>\n",
       "      <td>140</td>\n",
       "      <td>115</td>\n",
       "      <td>150000</td>\n",
       "      <td>2</td>\n",
       "      <td>37</td>\n",
       "      <td>1</td>\n",
       "    </tr>\n",
       "    <tr>\n",
       "      <th>354362</th>\n",
       "      <td>3200</td>\n",
       "      <td>4</td>\n",
       "      <td>2004</td>\n",
       "      <td>1</td>\n",
       "      <td>225</td>\n",
       "      <td>139</td>\n",
       "      <td>150000</td>\n",
       "      <td>6</td>\n",
       "      <td>30</td>\n",
       "      <td>2</td>\n",
       "    </tr>\n",
       "    <tr>\n",
       "      <th>354366</th>\n",
       "      <td>1199</td>\n",
       "      <td>1</td>\n",
       "      <td>2000</td>\n",
       "      <td>0</td>\n",
       "      <td>101</td>\n",
       "      <td>105</td>\n",
       "      <td>125000</td>\n",
       "      <td>6</td>\n",
       "      <td>32</td>\n",
       "      <td>1</td>\n",
       "    </tr>\n",
       "    <tr>\n",
       "      <th>354367</th>\n",
       "      <td>9200</td>\n",
       "      <td>0</td>\n",
       "      <td>1996</td>\n",
       "      <td>1</td>\n",
       "      <td>102</td>\n",
       "      <td>221</td>\n",
       "      <td>150000</td>\n",
       "      <td>2</td>\n",
       "      <td>37</td>\n",
       "      <td>1</td>\n",
       "    </tr>\n",
       "    <tr>\n",
       "      <th>354368</th>\n",
       "      <td>3400</td>\n",
       "      <td>7</td>\n",
       "      <td>2002</td>\n",
       "      <td>1</td>\n",
       "      <td>100</td>\n",
       "      <td>115</td>\n",
       "      <td>150000</td>\n",
       "      <td>2</td>\n",
       "      <td>37</td>\n",
       "      <td>0</td>\n",
       "    </tr>\n",
       "  </tbody>\n",
       "</table>\n",
       "<p>241177 rows × 10 columns</p>\n",
       "</div>"
      ],
      "text/plain": [
       "        price  vehicletype  registrationyear  gearbox  power  model  \\\n",
       "2        9800            6              2004        0    163    116   \n",
       "3        1500            5              2001        1     75    115   \n",
       "4        3600            5              2008        1     69    100   \n",
       "5         650            4              1995        1    102     11   \n",
       "6        2200            1              2004        1    109      8   \n",
       "...       ...          ...               ...      ...    ...    ...   \n",
       "354359   7900            4              2010        1    140    115   \n",
       "354362   3200            4              2004        1    225    139   \n",
       "354366   1199            1              2000        0    101    105   \n",
       "354367   9200            0              1996        1    102    221   \n",
       "354368   3400            7              2002        1    100    115   \n",
       "\n",
       "        kilometer  fueltype  brand  notrepaired  \n",
       "2          125000         2     14            0  \n",
       "3          150000         6     37            1  \n",
       "4           90000         2     31            1  \n",
       "5          150000         6      2            2  \n",
       "6          150000         6     25            1  \n",
       "...           ...       ...    ...          ...  \n",
       "354359     150000         2     37            1  \n",
       "354362     150000         6     30            2  \n",
       "354366     125000         6     32            1  \n",
       "354367     150000         2     37            1  \n",
       "354368     150000         2     37            0  \n",
       "\n",
       "[241177 rows x 10 columns]"
      ]
     },
     "execution_count": 61,
     "metadata": {},
     "output_type": "execute_result"
    }
   ],
   "source": [
    "df"
   ]
  },
  {
   "cell_type": "code",
   "execution_count": 62,
   "metadata": {},
   "outputs": [],
   "source": [
    "#Стандартизируем признаки с помощью StandardScaler\n",
    "scaler = StandardScaler()\n",
    "numeric = ['registrationyear','power','kilometer']\n",
    "scaler.fit(df[numeric])\n",
    "df[numeric] = scaler.transform(df[numeric])"
   ]
  },
  {
   "cell_type": "code",
   "execution_count": 63,
   "metadata": {},
   "outputs": [],
   "source": [
    "df_ohe = pd.get_dummies(df, drop_first=True)"
   ]
  },
  {
   "cell_type": "code",
   "execution_count": 64,
   "metadata": {},
   "outputs": [],
   "source": [
    "#тоже самое для линейной регрессии\n",
    "features_lr = df_ohe.drop(['price'], axis = 1)\n",
    "target_lr = df_ohe['price']"
   ]
  },
  {
   "cell_type": "code",
   "execution_count": 123,
   "metadata": {},
   "outputs": [
    {
     "data": {
      "text/plain": [
       "brand           39\n",
       "model          247\n",
       "vehicletype      8\n",
       "gearbox          2\n",
       "fueltype         7\n",
       "dtype: int64"
      ]
     },
     "execution_count": 123,
     "metadata": {},
     "output_type": "execute_result"
    }
   ],
   "source": [
    "#Посмотрим сколько уникальных значений мы имеем в categorical признаках\n",
    "categorical = ['brand','model','vehicletype','gearbox','fueltype']\n",
    "numerical_features_names = df.select_dtypes(include=['int64'])\n",
    "df[categorical].nunique()"
   ]
  },
  {
   "cell_type": "code",
   "execution_count": 143,
   "metadata": {},
   "outputs": [],
   "source": [
    "#Приведем категориальные признаки к формату category\n",
    "df[categorical] = df[categorical].astype('category')"
   ]
  },
  {
   "cell_type": "code",
   "execution_count": 144,
   "metadata": {},
   "outputs": [],
   "source": [
    "df['notrepaired'] = df['notrepaired'].astype('int64')"
   ]
  },
  {
   "cell_type": "code",
   "execution_count": 145,
   "metadata": {},
   "outputs": [],
   "source": [
    "df.columns = df.columns.astype('category')"
   ]
  },
  {
   "cell_type": "code",
   "execution_count": 147,
   "metadata": {},
   "outputs": [],
   "source": [
    "#признаки для обучения моделей CBR и LGBM\n",
    "features = df.drop(['price'], axis = 1)\n",
    "target = df['price']"
   ]
  },
  {
   "cell_type": "markdown",
   "metadata": {},
   "source": [
    "### Разобьем выборку на train и test"
   ]
  },
  {
   "cell_type": "code",
   "execution_count": 148,
   "metadata": {},
   "outputs": [],
   "source": [
    "features_train_lr, features_test_lr, target_train_lr, target_test_lr = train_test_split(features_lr, target_lr, random_state=0)"
   ]
  },
  {
   "cell_type": "code",
   "execution_count": 149,
   "metadata": {},
   "outputs": [],
   "source": [
    "features_train, features_test, target_train, target_test = train_test_split(features, target, random_state=0)"
   ]
  },
  {
   "cell_type": "markdown",
   "metadata": {},
   "source": [
    "Проверим разбиение, так как делили на 4 части, должно получитсья 25% в каждой переменной "
   ]
  },
  {
   "cell_type": "code",
   "execution_count": 151,
   "metadata": {},
   "outputs": [
    {
     "data": {
      "text/plain": [
       "25"
      ]
     },
     "execution_count": 151,
     "metadata": {},
     "output_type": "execute_result"
    }
   ],
   "source": [
    "round((len(df) - len(features_train)) / (len(df)/100))"
   ]
  },
  {
   "cell_type": "code",
   "execution_count": 83,
   "metadata": {},
   "outputs": [],
   "source": [
    "#напишем формулу для получения значения метрики RMSE\n",
    "def rmse(target, predictions):\n",
    "    mse = mean_squared_error(target, predictions)\n",
    "    rmse = mse ** 0.5\n",
    "    return rmse"
   ]
  },
  {
   "cell_type": "code",
   "execution_count": 38,
   "metadata": {},
   "outputs": [],
   "source": [
    "# object= StandardScaler()\n",
    "# scale = object.fit_transform(features_train_lr)"
   ]
  },
  {
   "cell_type": "markdown",
   "metadata": {},
   "source": [
    "Приступим к обучению и проанализируем время работы и качество моделей."
   ]
  },
  {
   "cell_type": "markdown",
   "metadata": {},
   "source": [
    "### CBR"
   ]
  },
  {
   "cell_type": "code",
   "execution_count": 89,
   "metadata": {},
   "outputs": [],
   "source": [
    "#вызовем CatBoost с нашими параметрами\n",
    "model_cbr = CatBoostRegressor(cat_features=categorical)"
   ]
  },
  {
   "cell_type": "code",
   "execution_count": 90,
   "metadata": {
    "scrolled": true
   },
   "outputs": [
    {
     "name": "stdout",
     "output_type": "stream",
     "text": [
      "Learning rate set to 0.115161\n",
      "0:\tlearn: 4285.3904837\ttest: 4281.2531220\tbest: 4281.2531220 (0)\ttotal: 242ms\tremaining: 4m 1s\n",
      "200:\tlearn: 1592.1256625\ttest: 1620.3124407\tbest: 1620.3124407 (200)\ttotal: 34.3s\tremaining: 2m 16s\n",
      "400:\tlearn: 1529.0475963\ttest: 1570.9846332\tbest: 1570.9846332 (400)\ttotal: 1m 6s\tremaining: 1m 39s\n",
      "600:\tlearn: 1495.9461287\ttest: 1549.9895329\tbest: 1549.9895329 (600)\ttotal: 1m 40s\tremaining: 1m 6s\n",
      "800:\tlearn: 1471.1770769\ttest: 1535.6169939\tbest: 1535.6169939 (800)\ttotal: 2m 14s\tremaining: 33.5s\n",
      "999:\tlearn: 1453.6662914\ttest: 1525.8760091\tbest: 1525.8760091 (999)\ttotal: 2m 49s\tremaining: 0us\n",
      "\n",
      "bestTest = 1525.876009\n",
      "bestIteration = 999\n",
      "\n",
      "CPU times: user 2min 49s, sys: 959 ms, total: 2min 50s\n",
      "Wall time: 2min 52s\n"
     ]
    }
   ],
   "source": [
    "%%time\n",
    "start = time.time()\n",
    "model_cbr.fit(features_train, target_train, eval_set=(features_test, target_test), verbose=200);\n",
    "end = time.time()\n",
    "catboost_time = end - start"
   ]
  },
  {
   "cell_type": "code",
   "execution_count": 91,
   "metadata": {},
   "outputs": [
    {
     "name": "stdout",
     "output_type": "stream",
     "text": [
      "RMSE= 1525.8760091237457\n"
     ]
    }
   ],
   "source": [
    "#Посмотрим какую среднюю квадратичную абсолютную ошибку мы получили в предсказаниях.\n",
    "start = time.time()\n",
    "predictions = model_cbr.predict(features_test)\n",
    "end = time.time()\n",
    "catboost_time_predicting = end - start\n",
    "print('RMSE=', rmse(predictions,target_test))\n",
    "rmse_list = []\n",
    "rmse_list.append(rmse(predictions,target_test))\n",
    "time_list = []\n",
    "predicting_time = []\n",
    "time_list.append(catboost_time)\n",
    "predicting_time.append(catboost_time_predicting)"
   ]
  },
  {
   "cell_type": "markdown",
   "metadata": {},
   "source": [
    "Можно отметить, что при увеличении iterations модель сначала дает намного бОльшую точность (в 2 раза), затем увеличение точности начинает снижаться, до тех пор, пока разница не становится совсем незначительной. Нужно помнить, что скорость обучения модели для нас важна так же, как и точность ее работы, поэтому не будем жертвовать скоростью и выберем оптимальный вариант с числом iterations 85.\n",
    "\n",
    "При изменении параметра depth прослеживается такая же тенденция, поэтому оптимальной глубиной будет число 13."
   ]
  },
  {
   "cell_type": "code",
   "execution_count": 95,
   "metadata": {},
   "outputs": [],
   "source": [
    "model_cbr = CatBoostRegressor(loss_function='RMSE', \n",
    "                              iterations=85, \n",
    "                              learning_rate=0.2, \n",
    "                              thread_count=-1, \n",
    "                              random_state=1, \n",
    "                              max_depth=13, \n",
    "                              l2_leaf_reg=3.5,\n",
    "                              cat_features=categorical\n",
    "                              )"
   ]
  },
  {
   "cell_type": "code",
   "execution_count": 96,
   "metadata": {
    "scrolled": true
   },
   "outputs": [
    {
     "name": "stdout",
     "output_type": "stream",
     "text": [
      "0:\tlearn: 3960.4204313\ttotal: 191ms\tremaining: 16s\n",
      "1:\tlearn: 3445.4229218\ttotal: 367ms\tremaining: 15.2s\n",
      "2:\tlearn: 3043.9876507\ttotal: 568ms\tremaining: 15.5s\n",
      "3:\tlearn: 2742.9113883\ttotal: 746ms\tremaining: 15.1s\n",
      "4:\tlearn: 2514.9697097\ttotal: 943ms\tremaining: 15.1s\n",
      "5:\tlearn: 2307.2282845\ttotal: 1.15s\tremaining: 15.2s\n",
      "6:\tlearn: 2153.8037445\ttotal: 1.34s\tremaining: 14.9s\n",
      "7:\tlearn: 2044.1711448\ttotal: 1.52s\tremaining: 14.6s\n",
      "8:\tlearn: 1959.3172479\ttotal: 1.7s\tremaining: 14.3s\n",
      "9:\tlearn: 1884.6800687\ttotal: 1.88s\tremaining: 14.1s\n",
      "10:\tlearn: 1830.7891018\ttotal: 2.08s\tremaining: 14s\n",
      "11:\tlearn: 1792.0225942\ttotal: 2.3s\tremaining: 14s\n",
      "12:\tlearn: 1763.6908367\ttotal: 2.5s\tremaining: 13.9s\n",
      "13:\tlearn: 1739.1340340\ttotal: 2.68s\tremaining: 13.6s\n",
      "14:\tlearn: 1720.5258075\ttotal: 2.86s\tremaining: 13.3s\n",
      "15:\tlearn: 1693.1966310\ttotal: 3.04s\tremaining: 13.1s\n",
      "16:\tlearn: 1670.0672159\ttotal: 3.23s\tremaining: 12.9s\n",
      "17:\tlearn: 1650.8990974\ttotal: 3.43s\tremaining: 12.8s\n",
      "18:\tlearn: 1637.6359099\ttotal: 3.66s\tremaining: 12.7s\n",
      "19:\tlearn: 1626.6948179\ttotal: 3.85s\tremaining: 12.5s\n",
      "20:\tlearn: 1617.5413284\ttotal: 4.03s\tremaining: 12.3s\n",
      "21:\tlearn: 1606.6302285\ttotal: 4.22s\tremaining: 12.1s\n",
      "22:\tlearn: 1599.6204929\ttotal: 4.41s\tremaining: 11.9s\n",
      "23:\tlearn: 1592.0778462\ttotal: 4.63s\tremaining: 11.8s\n",
      "24:\tlearn: 1585.9346607\ttotal: 4.82s\tremaining: 11.6s\n",
      "25:\tlearn: 1573.3586414\ttotal: 5.02s\tremaining: 11.4s\n",
      "26:\tlearn: 1564.9502852\ttotal: 5.28s\tremaining: 11.3s\n",
      "27:\tlearn: 1560.1337105\ttotal: 5.46s\tremaining: 11.1s\n",
      "28:\tlearn: 1553.3864825\ttotal: 5.66s\tremaining: 10.9s\n",
      "29:\tlearn: 1548.0138361\ttotal: 5.85s\tremaining: 10.7s\n",
      "30:\tlearn: 1544.0725307\ttotal: 6.03s\tremaining: 10.5s\n",
      "31:\tlearn: 1542.0162147\ttotal: 6.21s\tremaining: 10.3s\n",
      "32:\tlearn: 1537.9433373\ttotal: 6.4s\tremaining: 10.1s\n",
      "33:\tlearn: 1534.4116991\ttotal: 6.59s\tremaining: 9.88s\n",
      "34:\tlearn: 1530.2136786\ttotal: 6.77s\tremaining: 9.67s\n",
      "35:\tlearn: 1526.7444063\ttotal: 6.96s\tremaining: 9.47s\n",
      "36:\tlearn: 1522.6307499\ttotal: 7.14s\tremaining: 9.26s\n",
      "37:\tlearn: 1518.4112536\ttotal: 7.32s\tremaining: 9.06s\n",
      "38:\tlearn: 1514.4313026\ttotal: 7.51s\tremaining: 8.86s\n",
      "39:\tlearn: 1509.6686755\ttotal: 7.7s\tremaining: 8.66s\n",
      "40:\tlearn: 1507.6919020\ttotal: 7.88s\tremaining: 8.46s\n",
      "41:\tlearn: 1505.1948019\ttotal: 8.07s\tremaining: 8.26s\n",
      "42:\tlearn: 1502.2345786\ttotal: 8.26s\tremaining: 8.06s\n",
      "43:\tlearn: 1499.1148179\ttotal: 8.45s\tremaining: 7.87s\n",
      "44:\tlearn: 1496.4661095\ttotal: 8.63s\tremaining: 7.67s\n",
      "45:\tlearn: 1492.7717643\ttotal: 8.82s\tremaining: 7.47s\n",
      "46:\tlearn: 1490.8092119\ttotal: 9s\tremaining: 7.28s\n",
      "47:\tlearn: 1485.8705277\ttotal: 9.18s\tremaining: 7.08s\n",
      "48:\tlearn: 1480.7585561\ttotal: 9.36s\tremaining: 6.88s\n",
      "49:\tlearn: 1478.0554790\ttotal: 9.55s\tremaining: 6.68s\n",
      "50:\tlearn: 1475.1474565\ttotal: 9.74s\tremaining: 6.49s\n",
      "51:\tlearn: 1472.7362730\ttotal: 9.92s\tremaining: 6.3s\n",
      "52:\tlearn: 1469.6152075\ttotal: 10.1s\tremaining: 6.11s\n",
      "53:\tlearn: 1467.3498294\ttotal: 10.3s\tremaining: 5.92s\n",
      "54:\tlearn: 1463.2817278\ttotal: 10.5s\tremaining: 5.73s\n",
      "55:\tlearn: 1459.9346868\ttotal: 10.7s\tremaining: 5.54s\n",
      "56:\tlearn: 1453.8054936\ttotal: 10.9s\tremaining: 5.35s\n",
      "57:\tlearn: 1450.9597811\ttotal: 11.1s\tremaining: 5.16s\n",
      "58:\tlearn: 1448.1606176\ttotal: 11.3s\tremaining: 4.96s\n",
      "59:\tlearn: 1444.9224341\ttotal: 11.5s\tremaining: 4.78s\n",
      "60:\tlearn: 1442.8093180\ttotal: 11.6s\tremaining: 4.58s\n",
      "61:\tlearn: 1439.9743561\ttotal: 11.8s\tremaining: 4.39s\n",
      "62:\tlearn: 1437.2399466\ttotal: 12s\tremaining: 4.2s\n",
      "63:\tlearn: 1435.8603531\ttotal: 12.2s\tremaining: 4s\n",
      "64:\tlearn: 1432.6189873\ttotal: 12.4s\tremaining: 3.81s\n",
      "65:\tlearn: 1430.1101907\ttotal: 12.6s\tremaining: 3.63s\n",
      "66:\tlearn: 1427.9567794\ttotal: 12.8s\tremaining: 3.44s\n",
      "67:\tlearn: 1426.3615693\ttotal: 13s\tremaining: 3.24s\n",
      "68:\tlearn: 1423.5828960\ttotal: 13.2s\tremaining: 3.05s\n",
      "69:\tlearn: 1420.8967446\ttotal: 13.4s\tremaining: 2.86s\n",
      "70:\tlearn: 1418.6831018\ttotal: 13.6s\tremaining: 2.68s\n",
      "71:\tlearn: 1417.3094664\ttotal: 13.8s\tremaining: 2.48s\n",
      "72:\tlearn: 1415.3261380\ttotal: 14s\tremaining: 2.29s\n",
      "73:\tlearn: 1412.6910208\ttotal: 14.1s\tremaining: 2.1s\n",
      "74:\tlearn: 1412.1365346\ttotal: 14.3s\tremaining: 1.91s\n",
      "75:\tlearn: 1408.9412699\ttotal: 14.5s\tremaining: 1.72s\n",
      "76:\tlearn: 1406.2872316\ttotal: 14.7s\tremaining: 1.53s\n",
      "77:\tlearn: 1404.8851222\ttotal: 14.9s\tremaining: 1.33s\n",
      "78:\tlearn: 1402.2633064\ttotal: 15.1s\tremaining: 1.14s\n",
      "79:\tlearn: 1400.8602527\ttotal: 15.2s\tremaining: 953ms\n",
      "80:\tlearn: 1398.7931486\ttotal: 15.4s\tremaining: 762ms\n",
      "81:\tlearn: 1397.5229936\ttotal: 15.6s\tremaining: 571ms\n",
      "82:\tlearn: 1395.2850839\ttotal: 15.8s\tremaining: 380ms\n",
      "83:\tlearn: 1393.5748810\ttotal: 16s\tremaining: 190ms\n",
      "84:\tlearn: 1392.4417983\ttotal: 16.2s\tremaining: 0us\n",
      "CPU times: user 16.3 s, sys: 107 ms, total: 16.4 s\n",
      "Wall time: 16.9 s\n"
     ]
    },
    {
     "data": {
      "text/plain": [
       "<catboost.core.CatBoostRegressor at 0x7fdb24766250>"
      ]
     },
     "execution_count": 96,
     "metadata": {},
     "output_type": "execute_result"
    }
   ],
   "source": [
    "%%time\n",
    "model_cbr.fit(features_train, target_train, cat_features=categorical)"
   ]
  },
  {
   "cell_type": "code",
   "execution_count": 98,
   "metadata": {},
   "outputs": [],
   "source": [
    "start_time = time.time()\n",
    "model_cbr = pd.Series(model_cbr.predict(features_test))"
   ]
  },
  {
   "cell_type": "code",
   "execution_count": 99,
   "metadata": {},
   "outputs": [
    {
     "data": {
      "text/plain": [
       "1523.243472219664"
      ]
     },
     "execution_count": 99,
     "metadata": {},
     "output_type": "execute_result"
    }
   ],
   "source": [
    "rmse(target_test, model_cbr)"
   ]
  },
  {
   "cell_type": "markdown",
   "metadata": {},
   "source": [
    "### LinearRegression"
   ]
  },
  {
   "cell_type": "code",
   "execution_count": 100,
   "metadata": {},
   "outputs": [],
   "source": [
    "lr_model = LinearRegression()"
   ]
  },
  {
   "cell_type": "code",
   "execution_count": 102,
   "metadata": {},
   "outputs": [
    {
     "name": "stdout",
     "output_type": "stream",
     "text": [
      "CPU times: user 36 ms, sys: 12 ms, total: 48 ms\n",
      "Wall time: 36.8 ms\n"
     ]
    }
   ],
   "source": [
    "%%time\n",
    "start = time.time()\n",
    "lr_model.fit(features_train_lr, target_train_lr)\n",
    "end = time.time()\n",
    "linear_time = end - start"
   ]
  },
  {
   "cell_type": "code",
   "execution_count": 103,
   "metadata": {},
   "outputs": [
    {
     "name": "stdout",
     "output_type": "stream",
     "text": [
      "2737.472552001798\n"
     ]
    }
   ],
   "source": [
    "start = time.time()\n",
    "predictions = lr_model.predict(features_train_lr)\n",
    "end = time.time()\n",
    "linear_time_predicting_ = end - start\n",
    "print(rmse(predictions,target_train_lr))\n",
    "rmse_list.append(rmse(predictions,target_train_lr))\n",
    "time_list.append(linear_time)\n",
    "predicting_time.append(linear_time_predicting_)"
   ]
  },
  {
   "cell_type": "markdown",
   "metadata": {},
   "source": [
    "### LightGBM"
   ]
  },
  {
   "cell_type": "code",
   "execution_count": 152,
   "metadata": {},
   "outputs": [],
   "source": [
    "gbm = lgb.LGBMRegressor(task='train', \n",
    "                        boosting_type='gbdt', \n",
    "                        objective='regression', \n",
    "                        metric='rmse', \n",
    "                        learning_rate=0.5, \n",
    "                        verbose=200, \n",
    "                        categorical_feature=categorical)"
   ]
  },
  {
   "cell_type": "code",
   "execution_count": 154,
   "metadata": {},
   "outputs": [
    {
     "name": "stderr",
     "output_type": "stream",
     "text": [
      "/opt/conda/lib/python3.9/site-packages/lightgbm/basic.py:1513: UserWarning: categorical_feature in param dict is overridden.\n",
      "  _log_warning(f'{cat_alias} in param dict is overridden.')\n"
     ]
    },
    {
     "name": "stdout",
     "output_type": "stream",
     "text": [
      "[LightGBM] [Warning] categorical_feature is set=brand,model,vehicletype,gearbox,fueltype, categorical_column=0,2,4,6,7 will be ignored. Current value: categorical_feature=brand,model,vehicletype,gearbox,fueltype\n",
      "[LightGBM] [Debug] Dataset::GetMultiBinFromSparseFeatures: sparse rate 0.801968\n",
      "[LightGBM] [Debug] Dataset::GetMultiBinFromAllFeatures: sparse rate 0.190453\n",
      "[LightGBM] [Debug] init for col-wise cost 0.202423 seconds, init for row-wise cost 0.199147 seconds\n",
      "[LightGBM] [Warning] Auto-choosing row-wise multi-threading, the overhead of testing was 0.306010 seconds.\n",
      "You can set `force_row_wise=true` to remove the overhead.\n",
      "And if memory is not enough, you can set `force_col_wise=true`.\n",
      "[LightGBM] [Debug] Using Dense Multi-Val Bin\n",
      "[LightGBM] [Info] Total Bins 590\n",
      "[LightGBM] [Info] Number of data points in the train set: 180882, number of used features: 9\n"
     ]
    },
    {
     "name": "stderr",
     "output_type": "stream",
     "text": [
      "/opt/conda/lib/python3.9/site-packages/lightgbm/basic.py:1780: UserWarning: Overriding the parameters from Reference Dataset.\n",
      "  _log_warning('Overriding the parameters from Reference Dataset.')\n",
      "/opt/conda/lib/python3.9/site-packages/lightgbm/basic.py:1513: UserWarning: categorical_column in param dict is overridden.\n",
      "  _log_warning(f'{cat_alias} in param dict is overridden.')\n"
     ]
    },
    {
     "name": "stdout",
     "output_type": "stream",
     "text": [
      "[LightGBM] [Info] Start training from score 5425.699008\n",
      "[LightGBM] [Debug] Trained a tree with leaves = 31 and depth = 6\n",
      "[1]\tvalid_0's rmse: 3022.91\n",
      "[LightGBM] [Debug] Trained a tree with leaves = 31 and depth = 7\n",
      "[2]\tvalid_0's rmse: 2309.84\n",
      "[LightGBM] [Debug] Trained a tree with leaves = 31 and depth = 9\n",
      "[3]\tvalid_0's rmse: 2005.28\n",
      "[LightGBM] [Debug] Trained a tree with leaves = 31 and depth = 10\n",
      "[4]\tvalid_0's rmse: 1848.28\n",
      "[LightGBM] [Debug] Trained a tree with leaves = 31 and depth = 9\n",
      "[5]\tvalid_0's rmse: 1775.06\n",
      "[LightGBM] [Debug] Trained a tree with leaves = 31 and depth = 9\n",
      "[6]\tvalid_0's rmse: 1737.2\n",
      "[LightGBM] [Debug] Trained a tree with leaves = 31 and depth = 10\n",
      "[7]\tvalid_0's rmse: 1711.75\n",
      "[LightGBM] [Debug] Trained a tree with leaves = 31 and depth = 10\n",
      "[8]\tvalid_0's rmse: 1694.07\n",
      "[LightGBM] [Debug] Trained a tree with leaves = 31 and depth = 10\n",
      "[9]\tvalid_0's rmse: 1680.42\n",
      "[LightGBM] [Debug] Trained a tree with leaves = 31 and depth = 9\n",
      "[10]\tvalid_0's rmse: 1665.09\n",
      "[LightGBM] [Debug] Trained a tree with leaves = 31 and depth = 12\n",
      "[11]\tvalid_0's rmse: 1654.85\n",
      "[LightGBM] [Debug] Trained a tree with leaves = 31 and depth = 12\n",
      "[12]\tvalid_0's rmse: 1646.98\n",
      "[LightGBM] [Debug] Trained a tree with leaves = 31 and depth = 11\n",
      "[13]\tvalid_0's rmse: 1642.01\n",
      "[LightGBM] [Debug] Trained a tree with leaves = 31 and depth = 10\n",
      "[14]\tvalid_0's rmse: 1631.7\n",
      "[LightGBM] [Debug] Trained a tree with leaves = 31 and depth = 9\n",
      "[15]\tvalid_0's rmse: 1623.6\n",
      "[LightGBM] [Debug] Trained a tree with leaves = 31 and depth = 9\n",
      "[16]\tvalid_0's rmse: 1618.94\n",
      "[LightGBM] [Debug] Trained a tree with leaves = 31 and depth = 11\n",
      "[17]\tvalid_0's rmse: 1616.01\n",
      "[LightGBM] [Debug] Trained a tree with leaves = 31 and depth = 10\n",
      "[18]\tvalid_0's rmse: 1613.05\n",
      "[LightGBM] [Debug] Trained a tree with leaves = 31 and depth = 8\n",
      "[19]\tvalid_0's rmse: 1609.82\n",
      "[LightGBM] [Debug] Trained a tree with leaves = 31 and depth = 12\n",
      "[20]\tvalid_0's rmse: 1607.82\n",
      "[LightGBM] [Debug] Trained a tree with leaves = 31 and depth = 10\n",
      "[21]\tvalid_0's rmse: 1605.75\n",
      "[LightGBM] [Debug] Trained a tree with leaves = 31 and depth = 12\n",
      "[22]\tvalid_0's rmse: 1603.17\n",
      "[LightGBM] [Debug] Trained a tree with leaves = 31 and depth = 8\n",
      "[23]\tvalid_0's rmse: 1601.32\n",
      "[LightGBM] [Debug] Trained a tree with leaves = 31 and depth = 10\n",
      "[24]\tvalid_0's rmse: 1597.97\n",
      "[LightGBM] [Debug] Trained a tree with leaves = 31 and depth = 13\n",
      "[25]\tvalid_0's rmse: 1595.36\n",
      "[LightGBM] [Debug] Trained a tree with leaves = 31 and depth = 11\n",
      "[26]\tvalid_0's rmse: 1589.96\n",
      "[LightGBM] [Debug] Trained a tree with leaves = 31 and depth = 12\n",
      "[27]\tvalid_0's rmse: 1588.04\n",
      "[LightGBM] [Debug] Trained a tree with leaves = 31 and depth = 11\n",
      "[28]\tvalid_0's rmse: 1587.4\n",
      "[LightGBM] [Debug] Trained a tree with leaves = 31 and depth = 9\n",
      "[29]\tvalid_0's rmse: 1586.27\n",
      "[LightGBM] [Debug] Trained a tree with leaves = 31 and depth = 14\n",
      "[30]\tvalid_0's rmse: 1584.76\n",
      "[LightGBM] [Debug] Trained a tree with leaves = 31 and depth = 8\n",
      "[31]\tvalid_0's rmse: 1583.89\n",
      "[LightGBM] [Debug] Trained a tree with leaves = 31 and depth = 9\n",
      "[32]\tvalid_0's rmse: 1582.15\n",
      "[LightGBM] [Debug] Trained a tree with leaves = 31 and depth = 11\n",
      "[33]\tvalid_0's rmse: 1577.03\n",
      "[LightGBM] [Debug] Trained a tree with leaves = 31 and depth = 11\n",
      "[34]\tvalid_0's rmse: 1572.65\n",
      "[LightGBM] [Debug] Trained a tree with leaves = 31 and depth = 11\n",
      "[35]\tvalid_0's rmse: 1571.37\n",
      "[LightGBM] [Debug] Trained a tree with leaves = 31 and depth = 10\n",
      "[36]\tvalid_0's rmse: 1570.37\n",
      "[LightGBM] [Debug] Trained a tree with leaves = 31 and depth = 10\n",
      "[37]\tvalid_0's rmse: 1569.42\n",
      "[LightGBM] [Debug] Trained a tree with leaves = 31 and depth = 10\n",
      "[38]\tvalid_0's rmse: 1567.86\n",
      "[LightGBM] [Debug] Trained a tree with leaves = 31 and depth = 10\n",
      "[39]\tvalid_0's rmse: 1566.76\n",
      "[LightGBM] [Debug] Trained a tree with leaves = 31 and depth = 9\n",
      "[40]\tvalid_0's rmse: 1565.46\n",
      "[LightGBM] [Debug] Trained a tree with leaves = 31 and depth = 12\n",
      "[41]\tvalid_0's rmse: 1564.98\n",
      "[LightGBM] [Debug] Trained a tree with leaves = 31 and depth = 11\n",
      "[42]\tvalid_0's rmse: 1563.95\n",
      "[LightGBM] [Debug] Trained a tree with leaves = 31 and depth = 11\n",
      "[43]\tvalid_0's rmse: 1562.92\n",
      "[LightGBM] [Debug] Trained a tree with leaves = 31 and depth = 10\n",
      "[44]\tvalid_0's rmse: 1561.51\n",
      "[LightGBM] [Debug] Trained a tree with leaves = 31 and depth = 10\n",
      "[45]\tvalid_0's rmse: 1560.03\n",
      "[LightGBM] [Debug] Trained a tree with leaves = 31 and depth = 9\n",
      "[46]\tvalid_0's rmse: 1559.67\n",
      "[LightGBM] [Debug] Trained a tree with leaves = 31 and depth = 14\n",
      "[47]\tvalid_0's rmse: 1558.8\n",
      "[LightGBM] [Debug] Trained a tree with leaves = 31 and depth = 12\n",
      "[48]\tvalid_0's rmse: 1556.4\n",
      "[LightGBM] [Debug] Trained a tree with leaves = 31 and depth = 9\n",
      "[49]\tvalid_0's rmse: 1555.49\n",
      "[LightGBM] [Debug] Trained a tree with leaves = 31 and depth = 10\n",
      "[50]\tvalid_0's rmse: 1553.59\n",
      "[LightGBM] [Debug] Trained a tree with leaves = 31 and depth = 10\n",
      "[51]\tvalid_0's rmse: 1553.4\n",
      "[LightGBM] [Debug] Trained a tree with leaves = 31 and depth = 14\n",
      "[52]\tvalid_0's rmse: 1551.51\n",
      "[LightGBM] [Debug] Trained a tree with leaves = 31 and depth = 10\n",
      "[53]\tvalid_0's rmse: 1550.68\n",
      "[LightGBM] [Debug] Trained a tree with leaves = 31 and depth = 9\n",
      "[54]\tvalid_0's rmse: 1550.21\n",
      "[LightGBM] [Debug] Trained a tree with leaves = 31 and depth = 13\n",
      "[55]\tvalid_0's rmse: 1549.49\n",
      "[LightGBM] [Debug] Trained a tree with leaves = 31 and depth = 11\n",
      "[56]\tvalid_0's rmse: 1548.52\n",
      "[LightGBM] [Debug] Trained a tree with leaves = 31 and depth = 12\n",
      "[57]\tvalid_0's rmse: 1546.93\n",
      "[LightGBM] [Debug] Trained a tree with leaves = 31 and depth = 9\n",
      "[58]\tvalid_0's rmse: 1546.56\n",
      "[LightGBM] [Debug] Trained a tree with leaves = 31 and depth = 13\n",
      "[59]\tvalid_0's rmse: 1546.21\n",
      "[LightGBM] [Debug] Trained a tree with leaves = 31 and depth = 9\n",
      "[60]\tvalid_0's rmse: 1545.92\n",
      "[LightGBM] [Debug] Trained a tree with leaves = 31 and depth = 10\n",
      "[61]\tvalid_0's rmse: 1545.74\n",
      "[LightGBM] [Debug] Trained a tree with leaves = 31 and depth = 11\n",
      "[62]\tvalid_0's rmse: 1545.56\n",
      "[LightGBM] [Debug] Trained a tree with leaves = 31 and depth = 12\n",
      "[63]\tvalid_0's rmse: 1545.09\n",
      "[LightGBM] [Debug] Trained a tree with leaves = 31 and depth = 12\n",
      "[64]\tvalid_0's rmse: 1543.87\n",
      "[LightGBM] [Debug] Trained a tree with leaves = 31 and depth = 8\n",
      "[65]\tvalid_0's rmse: 1542.82\n",
      "[LightGBM] [Debug] Trained a tree with leaves = 31 and depth = 10\n",
      "[66]\tvalid_0's rmse: 1542.54\n",
      "[LightGBM] [Debug] Trained a tree with leaves = 31 and depth = 11\n",
      "[67]\tvalid_0's rmse: 1541.95\n",
      "[LightGBM] [Debug] Trained a tree with leaves = 31 and depth = 9\n",
      "[68]\tvalid_0's rmse: 1541.72\n",
      "[LightGBM] [Debug] Trained a tree with leaves = 31 and depth = 12\n",
      "[69]\tvalid_0's rmse: 1541.64\n",
      "[LightGBM] [Debug] Trained a tree with leaves = 31 and depth = 13\n",
      "[70]\tvalid_0's rmse: 1541.63\n",
      "[LightGBM] [Debug] Trained a tree with leaves = 31 and depth = 12\n",
      "[71]\tvalid_0's rmse: 1540.42\n",
      "[LightGBM] [Debug] Trained a tree with leaves = 31 and depth = 13\n",
      "[72]\tvalid_0's rmse: 1539.83\n",
      "[LightGBM] [Debug] Trained a tree with leaves = 31 and depth = 11\n",
      "[73]\tvalid_0's rmse: 1539.41\n",
      "[LightGBM] [Debug] Trained a tree with leaves = 31 and depth = 12\n",
      "[74]\tvalid_0's rmse: 1538.39\n",
      "[LightGBM] [Debug] Trained a tree with leaves = 31 and depth = 9\n",
      "[75]\tvalid_0's rmse: 1537.53\n",
      "[LightGBM] [Debug] Trained a tree with leaves = 31 and depth = 11\n",
      "[76]\tvalid_0's rmse: 1537.83\n",
      "[LightGBM] [Debug] Trained a tree with leaves = 31 and depth = 10\n",
      "[77]\tvalid_0's rmse: 1537.25\n",
      "[LightGBM] [Debug] Trained a tree with leaves = 31 and depth = 10\n",
      "[78]\tvalid_0's rmse: 1536.67\n",
      "[LightGBM] [Debug] Trained a tree with leaves = 31 and depth = 15\n",
      "[79]\tvalid_0's rmse: 1536.7\n",
      "[LightGBM] [Debug] Trained a tree with leaves = 31 and depth = 13\n",
      "[80]\tvalid_0's rmse: 1537.06\n",
      "[LightGBM] [Debug] Trained a tree with leaves = 31 and depth = 12\n",
      "[81]\tvalid_0's rmse: 1537.05\n",
      "[LightGBM] [Debug] Trained a tree with leaves = 31 and depth = 11\n",
      "[82]\tvalid_0's rmse: 1536.92\n",
      "[LightGBM] [Debug] Trained a tree with leaves = 31 and depth = 12\n",
      "[83]\tvalid_0's rmse: 1536.05\n",
      "[LightGBM] [Debug] Trained a tree with leaves = 31 and depth = 11\n",
      "[84]\tvalid_0's rmse: 1535.36\n",
      "[LightGBM] [Debug] Trained a tree with leaves = 31 and depth = 10\n",
      "[85]\tvalid_0's rmse: 1534.92\n",
      "[LightGBM] [Debug] Trained a tree with leaves = 31 and depth = 10\n",
      "[86]\tvalid_0's rmse: 1535.05\n",
      "[LightGBM] [Debug] Trained a tree with leaves = 31 and depth = 10\n",
      "[87]\tvalid_0's rmse: 1534.93\n",
      "[LightGBM] [Debug] Trained a tree with leaves = 31 and depth = 11\n",
      "[88]\tvalid_0's rmse: 1534.76\n",
      "[LightGBM] [Debug] Trained a tree with leaves = 31 and depth = 9\n",
      "[89]\tvalid_0's rmse: 1534.67\n",
      "[LightGBM] [Debug] Trained a tree with leaves = 31 and depth = 10\n",
      "[90]\tvalid_0's rmse: 1533.55\n",
      "[LightGBM] [Debug] Trained a tree with leaves = 31 and depth = 11\n",
      "[91]\tvalid_0's rmse: 1533.12\n",
      "[LightGBM] [Debug] Trained a tree with leaves = 31 and depth = 10\n",
      "[92]\tvalid_0's rmse: 1532.9\n",
      "[LightGBM] [Debug] Trained a tree with leaves = 31 and depth = 10\n",
      "[93]\tvalid_0's rmse: 1532.95\n",
      "[LightGBM] [Debug] Trained a tree with leaves = 31 and depth = 9\n",
      "[94]\tvalid_0's rmse: 1532.57\n",
      "[LightGBM] [Debug] Trained a tree with leaves = 31 and depth = 12\n",
      "[95]\tvalid_0's rmse: 1532.32\n",
      "[LightGBM] [Debug] Trained a tree with leaves = 31 and depth = 11\n",
      "[96]\tvalid_0's rmse: 1532.44\n",
      "[LightGBM] [Debug] Trained a tree with leaves = 31 and depth = 13\n",
      "[97]\tvalid_0's rmse: 1532.23\n",
      "[LightGBM] [Debug] Trained a tree with leaves = 31 and depth = 9\n",
      "[98]\tvalid_0's rmse: 1531.91\n",
      "[LightGBM] [Debug] Trained a tree with leaves = 31 and depth = 10\n",
      "[99]\tvalid_0's rmse: 1531.71\n",
      "[LightGBM] [Debug] Trained a tree with leaves = 31 and depth = 9\n",
      "[100]\tvalid_0's rmse: 1531.64\n",
      "CPU times: user 6.85 s, sys: 70 ms, total: 6.92 s\n",
      "Wall time: 7.01 s\n"
     ]
    }
   ],
   "source": [
    "%%time\n",
    "start = time.time()\n",
    "gbm.fit(features_train, target_train, eval_set=[(features_test, target_test)], eval_metric='rmse', early_stopping_rounds=1000)\n",
    "end = time.time()\n",
    "lightgbm_time = end - start"
   ]
  },
  {
   "cell_type": "code",
   "execution_count": 157,
   "metadata": {},
   "outputs": [
    {
     "name": "stdout",
     "output_type": "stream",
     "text": [
      "RMSE =  1531.6384709860274\n"
     ]
    }
   ],
   "source": [
    "start = time.time()\n",
    "predictions = gbm.predict(features_test,num_iteration=gbm.best_iteration_)\n",
    "end = time.time()\n",
    "lightgbm_predicting_time = end - start\n",
    "print('RMSE = ', rmse(predictions, target_test))\n",
    "rmse_list.append(rmse(predictions,target_test))\n",
    "predicting_time.append(lightgbm_predicting_time)\n",
    "time_list.append(lightgbm_time)"
   ]
  },
  {
   "cell_type": "markdown",
   "metadata": {},
   "source": [
    "## Вывод."
   ]
  },
  {
   "cell_type": "code",
   "execution_count": 159,
   "metadata": {},
   "outputs": [],
   "source": [
    "results_df = pd.DataFrame(data=[rmse_list,time_list, predicting_time], columns=['CatBoost','LightGBM','LinearRegression'], \n",
    "                          index=['RMSE','Learning Time','Predicting Time'])"
   ]
  },
  {
   "cell_type": "code",
   "execution_count": 162,
   "metadata": {},
   "outputs": [
    {
     "data": {
      "text/html": [
       "<div>\n",
       "<style scoped>\n",
       "    .dataframe tbody tr th:only-of-type {\n",
       "        vertical-align: middle;\n",
       "    }\n",
       "\n",
       "    .dataframe tbody tr th {\n",
       "        vertical-align: top;\n",
       "    }\n",
       "\n",
       "    .dataframe thead th {\n",
       "        text-align: right;\n",
       "    }\n",
       "</style>\n",
       "<table border=\"1\" class=\"dataframe\">\n",
       "  <thead>\n",
       "    <tr style=\"text-align: right;\">\n",
       "      <th></th>\n",
       "      <th>CatBoost</th>\n",
       "      <th>LightGBM</th>\n",
       "      <th>LinearRegression</th>\n",
       "    </tr>\n",
       "  </thead>\n",
       "  <tbody>\n",
       "    <tr>\n",
       "      <th>RMSE</th>\n",
       "      <td>1525.876009</td>\n",
       "      <td>2737.472552</td>\n",
       "      <td>1531.638471</td>\n",
       "    </tr>\n",
       "    <tr>\n",
       "      <th>Learning Time</th>\n",
       "      <td>172.113188</td>\n",
       "      <td>0.036741</td>\n",
       "      <td>7.014367</td>\n",
       "    </tr>\n",
       "    <tr>\n",
       "      <th>Predicting Time</th>\n",
       "      <td>0.470150</td>\n",
       "      <td>0.007021</td>\n",
       "      <td>0.326337</td>\n",
       "    </tr>\n",
       "  </tbody>\n",
       "</table>\n",
       "</div>"
      ],
      "text/plain": [
       "                    CatBoost     LightGBM  LinearRegression\n",
       "RMSE             1525.876009  2737.472552       1531.638471\n",
       "Learning Time     172.113188     0.036741          7.014367\n",
       "Predicting Time     0.470150     0.007021          0.326337"
      ]
     },
     "execution_count": 162,
     "metadata": {},
     "output_type": "execute_result"
    }
   ],
   "source": [
    "results_df"
   ]
  },
  {
   "cell_type": "markdown",
   "metadata": {},
   "source": [
    "Время предсказания любой модели значительно меньше, чем её обучение. \n",
    "Важно, чтобы время предсказания было как можно меньше - обучаем модель мы только один раз, но предсказывать она может до бесконечности.\n",
    "\n",
    "\n",
    "Метрика RMSE лучше всего выглядит у модели CatBoost, но модель LinearRegression не сильно отстала по метрике RMSE от CatBoost но время обучение у нее в разы лучше, время предсказание так же несильно разниться у этих двух моделей, на мой взгляд CatBoost обладает гораздо большими перспективами в плане гиперпараметров и возможно CatBoost может показать лучший результат в метрике RMSE, я бы выбрал CatBoost"
   ]
  }
 ],
 "metadata": {
  "ExecuteTimeLog": [
   {
    "duration": 354,
    "start_time": "2022-06-14T22:19:33.306Z"
   },
   {
    "duration": 3,
    "start_time": "2022-06-14T22:19:48.686Z"
   },
   {
    "duration": 2944,
    "start_time": "2022-06-14T22:20:37.313Z"
   },
   {
    "duration": 18,
    "start_time": "2022-06-14T22:20:51.887Z"
   },
   {
    "duration": 410,
    "start_time": "2022-06-14T22:21:06.635Z"
   },
   {
    "duration": 416,
    "start_time": "2022-06-14T22:21:14.579Z"
   },
   {
    "duration": 58,
    "start_time": "2022-06-14T22:21:31.280Z"
   },
   {
    "duration": 479,
    "start_time": "2022-06-14T22:22:04.817Z"
   },
   {
    "duration": 479,
    "start_time": "2022-06-14T22:22:27.688Z"
   },
   {
    "duration": 93,
    "start_time": "2022-06-14T22:22:38.562Z"
   },
   {
    "duration": 6,
    "start_time": "2022-06-14T22:24:58.594Z"
   },
   {
    "duration": 19,
    "start_time": "2022-06-14T22:25:34.992Z"
   },
   {
    "duration": 740,
    "start_time": "2022-06-14T22:26:12.384Z"
   },
   {
    "duration": 140,
    "start_time": "2022-06-14T22:27:20.281Z"
   },
   {
    "duration": 143,
    "start_time": "2022-06-14T22:27:34.446Z"
   },
   {
    "duration": 145,
    "start_time": "2022-06-14T22:27:59.971Z"
   },
   {
    "duration": 28,
    "start_time": "2022-06-14T22:28:13.409Z"
   },
   {
    "duration": 32,
    "start_time": "2022-06-14T22:28:29.763Z"
   },
   {
    "duration": 239,
    "start_time": "2022-06-14T22:28:40.774Z"
   },
   {
    "duration": 131,
    "start_time": "2022-06-14T22:29:05.015Z"
   },
   {
    "duration": 32,
    "start_time": "2022-06-14T22:29:31.320Z"
   },
   {
    "duration": 454,
    "start_time": "2022-06-14T22:29:58.314Z"
   },
   {
    "duration": 48,
    "start_time": "2022-06-14T22:30:06.877Z"
   },
   {
    "duration": 40,
    "start_time": "2022-06-14T22:30:30.694Z"
   },
   {
    "duration": 30,
    "start_time": "2022-06-14T22:30:56.973Z"
   },
   {
    "duration": 8,
    "start_time": "2022-06-14T22:31:05.794Z"
   },
   {
    "duration": 2,
    "start_time": "2022-06-14T22:33:36.546Z"
   },
   {
    "duration": 136,
    "start_time": "2022-06-14T22:34:12.968Z"
   },
   {
    "duration": 8,
    "start_time": "2022-06-14T22:34:43.356Z"
   },
   {
    "duration": 17,
    "start_time": "2022-06-14T22:35:01.824Z"
   },
   {
    "duration": 153,
    "start_time": "2022-06-14T22:35:34.470Z"
   },
   {
    "duration": 145,
    "start_time": "2022-06-14T22:35:50.985Z"
   },
   {
    "duration": 3,
    "start_time": "2022-06-14T22:36:11.627Z"
   },
   {
    "duration": 42,
    "start_time": "2022-06-14T22:36:26.593Z"
   },
   {
    "duration": 5,
    "start_time": "2022-06-14T22:36:28.872Z"
   },
   {
    "duration": 116,
    "start_time": "2022-06-14T22:36:32.463Z"
   },
   {
    "duration": 138,
    "start_time": "2022-06-14T22:37:11.543Z"
   },
   {
    "duration": 141,
    "start_time": "2022-06-14T22:37:27.490Z"
   },
   {
    "duration": 122,
    "start_time": "2022-06-14T22:37:41.860Z"
   },
   {
    "duration": 283,
    "start_time": "2022-06-14T22:39:13.813Z"
   },
   {
    "duration": 447,
    "start_time": "2022-06-14T22:40:22.700Z"
   },
   {
    "duration": 765,
    "start_time": "2022-06-15T19:16:43.197Z"
   },
   {
    "duration": 973,
    "start_time": "2022-06-15T19:16:43.964Z"
   },
   {
    "duration": 17,
    "start_time": "2022-06-15T19:16:44.939Z"
   },
   {
    "duration": 442,
    "start_time": "2022-06-15T19:16:44.958Z"
   },
   {
    "duration": 437,
    "start_time": "2022-06-15T19:16:45.403Z"
   },
   {
    "duration": 112,
    "start_time": "2022-06-15T19:16:45.842Z"
   },
   {
    "duration": 78,
    "start_time": "2022-06-15T19:16:45.956Z"
   },
   {
    "duration": 0,
    "start_time": "2022-06-15T19:16:46.036Z"
   },
   {
    "duration": 0,
    "start_time": "2022-06-15T19:16:46.038Z"
   },
   {
    "duration": 0,
    "start_time": "2022-06-15T19:16:46.039Z"
   },
   {
    "duration": 0,
    "start_time": "2022-06-15T19:16:46.041Z"
   },
   {
    "duration": 0,
    "start_time": "2022-06-15T19:16:46.043Z"
   },
   {
    "duration": 0,
    "start_time": "2022-06-15T19:16:46.044Z"
   },
   {
    "duration": 417,
    "start_time": "2022-06-15T19:17:03.036Z"
   },
   {
    "duration": 52,
    "start_time": "2022-06-15T19:17:30.682Z"
   },
   {
    "duration": 13,
    "start_time": "2022-06-15T19:17:51.770Z"
   },
   {
    "duration": 21,
    "start_time": "2022-06-15T19:17:53.983Z"
   },
   {
    "duration": 410,
    "start_time": "2022-06-15T19:17:54.573Z"
   },
   {
    "duration": 32,
    "start_time": "2022-06-15T19:17:56.044Z"
   },
   {
    "duration": 5,
    "start_time": "2022-06-15T19:17:57.340Z"
   },
   {
    "duration": 308,
    "start_time": "2022-06-15T19:17:58.092Z"
   },
   {
    "duration": 1934,
    "start_time": "2022-06-15T19:18:12.144Z"
   },
   {
    "duration": 20,
    "start_time": "2022-06-15T19:19:40.655Z"
   },
   {
    "duration": 16,
    "start_time": "2022-06-15T19:19:42.684Z"
   },
   {
    "duration": 1246,
    "start_time": "2022-06-15T19:20:07.866Z"
   },
   {
    "duration": 141,
    "start_time": "2022-06-15T19:20:30.154Z"
   },
   {
    "duration": 9,
    "start_time": "2022-06-15T19:20:49.484Z"
   },
   {
    "duration": 41,
    "start_time": "2022-06-15T19:21:33.545Z"
   },
   {
    "duration": 18,
    "start_time": "2022-06-15T19:21:47.323Z"
   },
   {
    "duration": 18,
    "start_time": "2022-06-15T19:21:58.555Z"
   },
   {
    "duration": 23,
    "start_time": "2022-06-15T19:22:28.859Z"
   },
   {
    "duration": 125,
    "start_time": "2022-06-15T19:22:54.894Z"
   },
   {
    "duration": 43,
    "start_time": "2022-06-15T19:23:33.419Z"
   },
   {
    "duration": 37,
    "start_time": "2022-06-15T19:23:48.030Z"
   },
   {
    "duration": 4,
    "start_time": "2022-06-15T19:23:57.364Z"
   },
   {
    "duration": 7,
    "start_time": "2022-06-15T19:27:39.687Z"
   },
   {
    "duration": 6,
    "start_time": "2022-06-15T19:27:48.664Z"
   },
   {
    "duration": 6,
    "start_time": "2022-06-15T19:28:14.256Z"
   },
   {
    "duration": 15,
    "start_time": "2022-06-15T19:28:29.516Z"
   },
   {
    "duration": 6,
    "start_time": "2022-06-15T19:28:51.631Z"
   },
   {
    "duration": 6,
    "start_time": "2022-06-15T19:29:14.948Z"
   },
   {
    "duration": 6,
    "start_time": "2022-06-15T19:29:15.489Z"
   },
   {
    "duration": 6,
    "start_time": "2022-06-15T19:30:32.746Z"
   },
   {
    "duration": 15,
    "start_time": "2022-06-15T19:30:40.217Z"
   },
   {
    "duration": 30,
    "start_time": "2022-06-15T19:31:12.409Z"
   },
   {
    "duration": 285,
    "start_time": "2022-06-15T19:31:33.305Z"
   },
   {
    "duration": 36,
    "start_time": "2022-06-15T19:31:45.927Z"
   },
   {
    "duration": 296,
    "start_time": "2022-06-15T19:31:46.497Z"
   },
   {
    "duration": 15,
    "start_time": "2022-06-15T19:32:01.310Z"
   },
   {
    "duration": 32,
    "start_time": "2022-06-15T19:32:23.793Z"
   },
   {
    "duration": 261,
    "start_time": "2022-06-15T19:32:24.345Z"
   },
   {
    "duration": 33,
    "start_time": "2022-06-15T19:32:49.137Z"
   },
   {
    "duration": 369,
    "start_time": "2022-06-15T19:32:49.399Z"
   },
   {
    "duration": 32,
    "start_time": "2022-06-15T19:32:59.335Z"
   },
   {
    "duration": 65,
    "start_time": "2022-06-15T19:33:27.861Z"
   },
   {
    "duration": 469,
    "start_time": "2022-06-15T19:34:10.427Z"
   },
   {
    "duration": 321,
    "start_time": "2022-06-15T19:34:36.402Z"
   },
   {
    "duration": 25,
    "start_time": "2022-06-15T19:34:45.437Z"
   },
   {
    "duration": 23,
    "start_time": "2022-06-15T19:35:18.018Z"
   },
   {
    "duration": 26,
    "start_time": "2022-06-15T19:35:57.435Z"
   },
   {
    "duration": 549,
    "start_time": "2022-06-15T19:36:08.240Z"
   },
   {
    "duration": 13,
    "start_time": "2022-06-15T19:36:27.882Z"
   },
   {
    "duration": 8,
    "start_time": "2022-06-15T19:36:47.361Z"
   },
   {
    "duration": 366,
    "start_time": "2022-06-15T19:37:17.654Z"
   },
   {
    "duration": 7,
    "start_time": "2022-06-15T19:37:37.125Z"
   },
   {
    "duration": 16,
    "start_time": "2022-06-15T19:37:53.683Z"
   },
   {
    "duration": 20,
    "start_time": "2022-06-15T19:40:17.412Z"
   },
   {
    "duration": 64,
    "start_time": "2022-06-15T19:40:21.013Z"
   },
   {
    "duration": 52,
    "start_time": "2022-06-22T16:46:57.048Z"
   },
   {
    "duration": 74,
    "start_time": "2022-06-22T16:48:46.417Z"
   },
   {
    "duration": 51,
    "start_time": "2022-06-22T16:50:42.342Z"
   },
   {
    "duration": 6,
    "start_time": "2022-06-22T16:51:01.520Z"
   },
   {
    "duration": 1210,
    "start_time": "2022-06-22T16:51:04.484Z"
   },
   {
    "duration": 1202,
    "start_time": "2022-06-22T16:51:05.696Z"
   },
   {
    "duration": 924,
    "start_time": "2022-06-22T16:51:12.625Z"
   },
   {
    "duration": 832,
    "start_time": "2022-06-22T16:51:25.169Z"
   },
   {
    "duration": 19,
    "start_time": "2022-06-22T16:51:26.098Z"
   },
   {
    "duration": 169,
    "start_time": "2022-06-22T16:51:27.142Z"
   },
   {
    "duration": 407,
    "start_time": "2022-06-22T16:51:27.558Z"
   },
   {
    "duration": 452,
    "start_time": "2022-06-22T16:51:27.968Z"
   },
   {
    "duration": 87,
    "start_time": "2022-06-22T16:51:28.930Z"
   },
   {
    "duration": 125,
    "start_time": "2022-06-22T16:51:29.523Z"
   },
   {
    "duration": 25,
    "start_time": "2022-06-22T16:51:32.303Z"
   },
   {
    "duration": 3,
    "start_time": "2022-06-22T16:51:33.443Z"
   },
   {
    "duration": 15,
    "start_time": "2022-06-22T16:51:38.190Z"
   },
   {
    "duration": 8,
    "start_time": "2022-06-22T16:52:14.123Z"
   },
   {
    "duration": 23,
    "start_time": "2022-06-22T16:54:39.963Z"
   },
   {
    "duration": 262,
    "start_time": "2022-06-22T16:56:20.500Z"
   },
   {
    "duration": 751,
    "start_time": "2022-06-22T16:56:45.325Z"
   },
   {
    "duration": 777,
    "start_time": "2022-06-22T16:56:48.464Z"
   },
   {
    "duration": 34,
    "start_time": "2022-06-22T16:59:37.861Z"
   },
   {
    "duration": 760,
    "start_time": "2022-06-22T17:00:03.636Z"
   },
   {
    "duration": 13,
    "start_time": "2022-06-22T17:00:04.445Z"
   },
   {
    "duration": 123,
    "start_time": "2022-06-22T17:00:04.710Z"
   },
   {
    "duration": 393,
    "start_time": "2022-06-22T17:00:04.865Z"
   },
   {
    "duration": 424,
    "start_time": "2022-06-22T17:00:05.260Z"
   },
   {
    "duration": 89,
    "start_time": "2022-06-22T17:00:05.686Z"
   },
   {
    "duration": 119,
    "start_time": "2022-06-22T17:00:05.777Z"
   },
   {
    "duration": 23,
    "start_time": "2022-06-22T17:00:06.421Z"
   },
   {
    "duration": 3,
    "start_time": "2022-06-22T17:00:06.773Z"
   },
   {
    "duration": 1755,
    "start_time": "2022-06-22T17:00:06.981Z"
   },
   {
    "duration": 426,
    "start_time": "2022-06-22T17:00:08.739Z"
   },
   {
    "duration": 29,
    "start_time": "2022-06-22T17:00:10.563Z"
   },
   {
    "duration": 314,
    "start_time": "2022-06-22T17:00:11.993Z"
   },
   {
    "duration": 427,
    "start_time": "2022-06-22T17:00:12.892Z"
   },
   {
    "duration": 28,
    "start_time": "2022-06-22T17:00:14.295Z"
   },
   {
    "duration": 252,
    "start_time": "2022-06-22T17:00:15.231Z"
   },
   {
    "duration": 281,
    "start_time": "2022-06-22T17:00:16.207Z"
   },
   {
    "duration": 22,
    "start_time": "2022-06-22T17:00:21.830Z"
   },
   {
    "duration": 17,
    "start_time": "2022-06-22T17:02:47.072Z"
   },
   {
    "duration": 3,
    "start_time": "2022-06-22T17:03:15.261Z"
   },
   {
    "duration": 157,
    "start_time": "2022-06-22T17:05:27.785Z"
   },
   {
    "duration": 10,
    "start_time": "2022-06-22T17:06:12.907Z"
   },
   {
    "duration": 10321,
    "start_time": "2022-06-22T17:06:40.306Z"
   },
   {
    "duration": 54,
    "start_time": "2022-06-22T17:08:15.246Z"
   },
   {
    "duration": 4,
    "start_time": "2022-06-22T17:08:36.793Z"
   },
   {
    "duration": 4,
    "start_time": "2022-06-22T17:08:53.881Z"
   },
   {
    "duration": 782,
    "start_time": "2022-06-22T17:09:40.177Z"
   },
   {
    "duration": 15,
    "start_time": "2022-06-22T17:09:40.961Z"
   },
   {
    "duration": 127,
    "start_time": "2022-06-22T17:09:41.066Z"
   },
   {
    "duration": 407,
    "start_time": "2022-06-22T17:09:41.195Z"
   },
   {
    "duration": 438,
    "start_time": "2022-06-22T17:09:41.604Z"
   },
   {
    "duration": 95,
    "start_time": "2022-06-22T17:09:42.044Z"
   },
   {
    "duration": 127,
    "start_time": "2022-06-22T17:09:42.141Z"
   },
   {
    "duration": 25,
    "start_time": "2022-06-22T17:09:42.525Z"
   },
   {
    "duration": 3,
    "start_time": "2022-06-22T17:09:42.760Z"
   },
   {
    "duration": 1290,
    "start_time": "2022-06-22T17:09:42.883Z"
   },
   {
    "duration": 408,
    "start_time": "2022-06-22T17:09:44.175Z"
   },
   {
    "duration": 28,
    "start_time": "2022-06-22T17:09:44.585Z"
   },
   {
    "duration": 292,
    "start_time": "2022-06-22T17:09:44.844Z"
   },
   {
    "duration": 321,
    "start_time": "2022-06-22T17:09:45.339Z"
   },
   {
    "duration": 22,
    "start_time": "2022-06-22T17:09:45.832Z"
   },
   {
    "duration": 265,
    "start_time": "2022-06-22T17:09:46.452Z"
   },
   {
    "duration": 538,
    "start_time": "2022-06-22T17:09:47.015Z"
   },
   {
    "duration": 20,
    "start_time": "2022-06-22T17:09:47.559Z"
   },
   {
    "duration": 306,
    "start_time": "2022-06-22T17:09:48.355Z"
   },
   {
    "duration": 16,
    "start_time": "2022-06-22T17:09:49.033Z"
   },
   {
    "duration": 58,
    "start_time": "2022-06-22T17:09:49.593Z"
   },
   {
    "duration": 71,
    "start_time": "2022-06-22T17:09:50.385Z"
   },
   {
    "duration": 4,
    "start_time": "2022-06-22T17:09:51.132Z"
   },
   {
    "duration": 3,
    "start_time": "2022-06-22T17:09:51.581Z"
   },
   {
    "duration": 5,
    "start_time": "2022-06-22T17:09:54.887Z"
   },
   {
    "duration": 4,
    "start_time": "2022-06-22T17:10:11.764Z"
   },
   {
    "duration": 10,
    "start_time": "2022-06-22T17:10:17.535Z"
   },
   {
    "duration": 4,
    "start_time": "2022-06-22T17:10:20.785Z"
   },
   {
    "duration": 48,
    "start_time": "2022-06-22T17:10:35.628Z"
   },
   {
    "duration": 4,
    "start_time": "2022-06-22T17:10:44.506Z"
   },
   {
    "duration": 12,
    "start_time": "2022-06-22T17:11:04.513Z"
   },
   {
    "duration": 4,
    "start_time": "2022-06-22T17:11:08.536Z"
   },
   {
    "duration": 4,
    "start_time": "2022-06-22T17:11:15.053Z"
   },
   {
    "duration": 4,
    "start_time": "2022-06-22T17:11:23.615Z"
   },
   {
    "duration": 9,
    "start_time": "2022-06-22T17:11:27.074Z"
   },
   {
    "duration": 4,
    "start_time": "2022-06-22T17:11:30.558Z"
   },
   {
    "duration": 4,
    "start_time": "2022-06-22T17:11:41.598Z"
   },
   {
    "duration": 9,
    "start_time": "2022-06-22T17:11:55.394Z"
   },
   {
    "duration": 4,
    "start_time": "2022-06-22T17:12:01.618Z"
   },
   {
    "duration": 11,
    "start_time": "2022-06-22T17:12:41.944Z"
   },
   {
    "duration": 11,
    "start_time": "2022-06-22T17:12:52.510Z"
   },
   {
    "duration": 4,
    "start_time": "2022-06-22T17:12:58.908Z"
   },
   {
    "duration": 4,
    "start_time": "2022-06-22T17:13:05.129Z"
   },
   {
    "duration": 4,
    "start_time": "2022-06-22T17:13:53.236Z"
   },
   {
    "duration": 4,
    "start_time": "2022-06-22T17:13:59.004Z"
   },
   {
    "duration": 4,
    "start_time": "2022-06-22T17:14:01.367Z"
   },
   {
    "duration": 4,
    "start_time": "2022-06-22T17:14:11.814Z"
   },
   {
    "duration": 4,
    "start_time": "2022-06-22T17:14:14.737Z"
   },
   {
    "duration": 4,
    "start_time": "2022-06-22T17:14:18.766Z"
   },
   {
    "duration": 5,
    "start_time": "2022-06-22T17:14:21.574Z"
   },
   {
    "duration": 5,
    "start_time": "2022-06-22T17:14:35.147Z"
   },
   {
    "duration": 5,
    "start_time": "2022-06-22T17:14:38.469Z"
   },
   {
    "duration": 426,
    "start_time": "2022-06-22T17:17:38.183Z"
   },
   {
    "duration": 141,
    "start_time": "2022-06-22T17:17:39.873Z"
   },
   {
    "duration": 3,
    "start_time": "2022-06-22T17:17:40.262Z"
   },
   {
    "duration": 9,
    "start_time": "2022-06-22T17:17:40.624Z"
   },
   {
    "duration": 3,
    "start_time": "2022-06-22T17:18:26.788Z"
   },
   {
    "duration": 12,
    "start_time": "2022-06-22T17:21:49.319Z"
   },
   {
    "duration": 14,
    "start_time": "2022-06-22T17:21:56.488Z"
   },
   {
    "duration": 244,
    "start_time": "2022-06-22T17:21:57.486Z"
   },
   {
    "duration": 46,
    "start_time": "2022-06-22T17:21:57.778Z"
   },
   {
    "duration": 4,
    "start_time": "2022-06-22T17:21:58.453Z"
   },
   {
    "duration": 4,
    "start_time": "2022-06-22T17:22:40.059Z"
   },
   {
    "duration": 4,
    "start_time": "2022-06-22T17:22:54.710Z"
   },
   {
    "duration": 6,
    "start_time": "2022-06-22T17:23:08.697Z"
   },
   {
    "duration": 4,
    "start_time": "2022-06-22T17:23:45.949Z"
   },
   {
    "duration": 5,
    "start_time": "2022-06-22T17:24:03.732Z"
   },
   {
    "duration": 3,
    "start_time": "2022-06-22T17:24:49.103Z"
   },
   {
    "duration": 3,
    "start_time": "2022-06-22T17:24:54.465Z"
   },
   {
    "duration": 3,
    "start_time": "2022-06-22T17:24:59.108Z"
   },
   {
    "duration": 4,
    "start_time": "2022-06-22T17:26:39.973Z"
   },
   {
    "duration": 5,
    "start_time": "2022-06-22T17:26:42.598Z"
   },
   {
    "duration": 4,
    "start_time": "2022-06-22T17:26:53.074Z"
   },
   {
    "duration": 52,
    "start_time": "2022-06-22T17:27:11.225Z"
   },
   {
    "duration": 56,
    "start_time": "2022-06-22T17:33:04.152Z"
   },
   {
    "duration": 5,
    "start_time": "2022-06-22T17:33:07.354Z"
   },
   {
    "duration": 3,
    "start_time": "2022-06-22T17:35:48.774Z"
   },
   {
    "duration": 43,
    "start_time": "2022-06-22T17:36:13.059Z"
   },
   {
    "duration": 418,
    "start_time": "2022-06-22T17:36:33.080Z"
   },
   {
    "duration": 144,
    "start_time": "2022-06-22T17:36:33.843Z"
   },
   {
    "duration": 3,
    "start_time": "2022-06-22T17:36:34.000Z"
   },
   {
    "duration": 3,
    "start_time": "2022-06-22T17:36:34.265Z"
   },
   {
    "duration": 16,
    "start_time": "2022-06-22T17:36:34.708Z"
   },
   {
    "duration": 201,
    "start_time": "2022-06-22T17:36:35.546Z"
   },
   {
    "duration": 43,
    "start_time": "2022-06-22T17:36:35.861Z"
   },
   {
    "duration": 4,
    "start_time": "2022-06-22T17:36:36.275Z"
   },
   {
    "duration": 4,
    "start_time": "2022-06-22T17:36:37.668Z"
   },
   {
    "duration": 35,
    "start_time": "2022-06-22T17:36:38.980Z"
   },
   {
    "duration": 21,
    "start_time": "2022-06-22T17:36:53.066Z"
   },
   {
    "duration": 23,
    "start_time": "2022-06-22T17:37:06.054Z"
   },
   {
    "duration": 410,
    "start_time": "2022-06-22T17:37:15.830Z"
   },
   {
    "duration": 1806,
    "start_time": "2022-06-22T17:37:47.307Z"
   },
   {
    "duration": 429,
    "start_time": "2022-06-22T17:38:09.006Z"
   },
   {
    "duration": 1772,
    "start_time": "2022-06-22T17:38:18.948Z"
   },
   {
    "duration": 17,
    "start_time": "2022-06-22T17:38:23.630Z"
   },
   {
    "duration": 24,
    "start_time": "2022-06-22T17:38:41.656Z"
   },
   {
    "duration": 1878,
    "start_time": "2022-06-22T17:39:15.671Z"
   },
   {
    "duration": 1808,
    "start_time": "2022-06-22T17:39:25.191Z"
   },
   {
    "duration": 3,
    "start_time": "2022-06-22T17:39:48.321Z"
   },
   {
    "duration": 10,
    "start_time": "2022-06-22T17:40:17.762Z"
   },
   {
    "duration": 27585,
    "start_time": "2022-06-22T17:40:17.776Z"
   },
   {
    "duration": 296,
    "start_time": "2022-06-22T17:40:45.363Z"
   },
   {
    "duration": 7,
    "start_time": "2022-06-22T17:40:45.661Z"
   },
   {
    "duration": 10,
    "start_time": "2022-06-22T17:41:59.140Z"
   },
   {
    "duration": 10,
    "start_time": "2022-06-22T17:42:57.845Z"
   },
   {
    "duration": 4,
    "start_time": "2022-06-22T17:53:22.710Z"
   },
   {
    "duration": 10,
    "start_time": "2022-06-22T17:56:55.559Z"
   },
   {
    "duration": 360336,
    "start_time": "2022-06-22T17:57:13.018Z"
   },
   {
    "duration": 1966,
    "start_time": "2022-06-22T18:09:35.194Z"
   },
   {
    "duration": 47,
    "start_time": "2022-06-22T18:10:10.587Z"
   },
   {
    "duration": 20,
    "start_time": "2022-06-22T18:10:25.493Z"
   },
   {
    "duration": 56,
    "start_time": "2022-06-23T19:08:17.093Z"
   },
   {
    "duration": 6,
    "start_time": "2022-06-24T21:43:43.925Z"
   },
   {
    "duration": 15,
    "start_time": "2022-06-24T21:43:43.933Z"
   },
   {
    "duration": 39,
    "start_time": "2022-06-24T21:43:43.952Z"
   },
   {
    "duration": 1923,
    "start_time": "2022-06-24T21:43:43.993Z"
   },
   {
    "duration": 1812,
    "start_time": "2022-06-24T21:43:45.918Z"
   },
   {
    "duration": 19,
    "start_time": "2022-06-24T21:43:47.732Z"
   },
   {
    "duration": 230,
    "start_time": "2022-06-24T21:43:47.753Z"
   },
   {
    "duration": 588,
    "start_time": "2022-06-24T21:43:47.985Z"
   },
   {
    "duration": 636,
    "start_time": "2022-06-24T21:43:48.577Z"
   },
   {
    "duration": 108,
    "start_time": "2022-06-24T21:43:49.215Z"
   },
   {
    "duration": 221,
    "start_time": "2022-06-24T21:43:49.326Z"
   },
   {
    "duration": 47,
    "start_time": "2022-06-24T21:43:49.549Z"
   },
   {
    "duration": 5,
    "start_time": "2022-06-24T21:43:49.598Z"
   },
   {
    "duration": 1918,
    "start_time": "2022-06-24T21:43:49.604Z"
   },
   {
    "duration": 653,
    "start_time": "2022-06-24T21:43:51.528Z"
   },
   {
    "duration": 62,
    "start_time": "2022-06-24T21:43:52.190Z"
   },
   {
    "duration": 566,
    "start_time": "2022-06-24T21:43:52.258Z"
   },
   {
    "duration": 561,
    "start_time": "2022-06-24T21:43:52.827Z"
   },
   {
    "duration": 26,
    "start_time": "2022-06-24T21:43:53.390Z"
   },
   {
    "duration": 388,
    "start_time": "2022-06-24T21:43:53.418Z"
   },
   {
    "duration": 478,
    "start_time": "2022-06-24T21:43:53.808Z"
   },
   {
    "duration": 24,
    "start_time": "2022-06-24T21:43:54.291Z"
   },
   {
    "duration": 492,
    "start_time": "2022-06-24T21:43:54.317Z"
   },
   {
    "duration": 33,
    "start_time": "2022-06-24T21:43:54.814Z"
   },
   {
    "duration": 151,
    "start_time": "2022-06-24T21:43:54.850Z"
   },
   {
    "duration": 137,
    "start_time": "2022-06-24T21:43:55.006Z"
   },
   {
    "duration": 12,
    "start_time": "2022-06-24T21:43:55.153Z"
   },
   {
    "duration": 14226,
    "start_time": "2022-06-24T21:43:55.167Z"
   },
   {
    "duration": 527,
    "start_time": "2022-06-24T21:44:09.396Z"
   },
   {
    "duration": 167,
    "start_time": "2022-06-24T21:44:09.925Z"
   },
   {
    "duration": 4,
    "start_time": "2022-06-24T21:44:10.095Z"
   },
   {
    "duration": 15,
    "start_time": "2022-06-24T21:44:10.101Z"
   },
   {
    "duration": 24,
    "start_time": "2022-06-24T21:44:10.118Z"
   },
   {
    "duration": 285,
    "start_time": "2022-06-24T21:44:10.144Z"
   },
   {
    "duration": 69,
    "start_time": "2022-06-24T21:44:10.431Z"
   },
   {
    "duration": 4,
    "start_time": "2022-06-24T21:44:10.502Z"
   },
   {
    "duration": 8,
    "start_time": "2022-06-24T21:44:10.508Z"
   },
   {
    "duration": 2057,
    "start_time": "2022-06-24T21:44:10.517Z"
   },
   {
    "duration": 3,
    "start_time": "2022-06-24T21:44:12.579Z"
   },
   {
    "duration": 58990,
    "start_time": "2022-06-24T21:44:12.584Z"
   },
   {
    "duration": 56303,
    "start_time": "2022-06-24T21:45:11.578Z"
   },
   {
    "duration": 1252159,
    "start_time": "2022-06-24T21:46:07.894Z"
   },
   {
    "duration": 0,
    "start_time": "2022-06-24T22:07:00.066Z"
   },
   {
    "duration": 0,
    "start_time": "2022-06-24T22:07:00.072Z"
   },
   {
    "duration": 0,
    "start_time": "2022-06-24T22:07:00.078Z"
   },
   {
    "duration": 0,
    "start_time": "2022-06-24T22:07:00.079Z"
   },
   {
    "duration": 1,
    "start_time": "2022-06-24T22:07:00.080Z"
   },
   {
    "duration": 0,
    "start_time": "2022-06-24T22:07:00.082Z"
   },
   {
    "duration": 0,
    "start_time": "2022-06-24T22:07:00.086Z"
   },
   {
    "duration": 0,
    "start_time": "2022-06-24T22:07:00.087Z"
   },
   {
    "duration": 0,
    "start_time": "2022-06-24T22:07:00.089Z"
   },
   {
    "duration": 0,
    "start_time": "2022-06-24T22:07:00.090Z"
   },
   {
    "duration": 0,
    "start_time": "2022-06-24T22:07:00.091Z"
   },
   {
    "duration": 0,
    "start_time": "2022-06-24T22:07:00.093Z"
   },
   {
    "duration": 0,
    "start_time": "2022-06-24T22:07:00.094Z"
   },
   {
    "duration": 0,
    "start_time": "2022-06-24T22:07:00.096Z"
   },
   {
    "duration": 0,
    "start_time": "2022-06-24T22:07:00.097Z"
   },
   {
    "duration": 4046,
    "start_time": "2022-06-24T22:07:03.957Z"
   },
   {
    "duration": 84,
    "start_time": "2022-06-25T09:21:23.503Z"
   },
   {
    "duration": 1506,
    "start_time": "2022-06-27T16:15:57.053Z"
   },
   {
    "duration": 1151,
    "start_time": "2022-06-27T16:16:00.557Z"
   },
   {
    "duration": 18,
    "start_time": "2022-06-27T16:16:01.709Z"
   },
   {
    "duration": 125,
    "start_time": "2022-06-27T16:16:01.904Z"
   },
   {
    "duration": 434,
    "start_time": "2022-06-27T16:16:02.067Z"
   },
   {
    "duration": 468,
    "start_time": "2022-06-27T16:16:02.503Z"
   },
   {
    "duration": 91,
    "start_time": "2022-06-27T16:16:02.973Z"
   },
   {
    "duration": 123,
    "start_time": "2022-06-27T16:16:03.066Z"
   },
   {
    "duration": 34,
    "start_time": "2022-06-27T16:16:03.676Z"
   },
   {
    "duration": 3,
    "start_time": "2022-06-27T16:16:04.051Z"
   },
   {
    "duration": 1320,
    "start_time": "2022-06-27T16:16:04.240Z"
   },
   {
    "duration": 426,
    "start_time": "2022-06-27T16:16:05.562Z"
   },
   {
    "duration": 38,
    "start_time": "2022-06-27T16:16:05.990Z"
   },
   {
    "duration": 307,
    "start_time": "2022-06-27T16:16:06.875Z"
   },
   {
    "duration": 393,
    "start_time": "2022-06-27T16:16:08.447Z"
   },
   {
    "duration": 23,
    "start_time": "2022-06-27T16:16:08.962Z"
   },
   {
    "duration": 275,
    "start_time": "2022-06-27T16:16:10.020Z"
   },
   {
    "duration": 309,
    "start_time": "2022-06-27T16:16:10.812Z"
   },
   {
    "duration": 21,
    "start_time": "2022-06-27T16:16:11.823Z"
   },
   {
    "duration": 298,
    "start_time": "2022-06-27T16:16:14.993Z"
   },
   {
    "duration": 18,
    "start_time": "2022-06-27T16:16:16.494Z"
   },
   {
    "duration": 62,
    "start_time": "2022-06-27T16:16:17.847Z"
   },
   {
    "duration": 75,
    "start_time": "2022-06-27T16:16:18.939Z"
   },
   {
    "duration": 3,
    "start_time": "2022-06-27T16:16:19.923Z"
   },
   {
    "duration": 9173,
    "start_time": "2022-06-27T16:16:23.402Z"
   },
   {
    "duration": 462,
    "start_time": "2022-06-27T16:16:36.411Z"
   },
   {
    "duration": 345,
    "start_time": "2022-06-27T16:17:27.674Z"
   },
   {
    "duration": 108,
    "start_time": "2022-06-27T16:18:26.719Z"
   },
   {
    "duration": 445,
    "start_time": "2022-06-27T16:19:01.034Z"
   },
   {
    "duration": 51,
    "start_time": "2022-06-27T16:21:10.592Z"
   },
   {
    "duration": 329,
    "start_time": "2022-06-27T16:22:30.356Z"
   },
   {
    "duration": 15,
    "start_time": "2022-06-27T16:22:39.158Z"
   },
   {
    "duration": 13,
    "start_time": "2022-06-27T16:23:21.497Z"
   },
   {
    "duration": 12,
    "start_time": "2022-06-27T16:23:22.417Z"
   },
   {
    "duration": 742,
    "start_time": "2022-06-27T16:23:39.280Z"
   },
   {
    "duration": 14,
    "start_time": "2022-06-27T16:23:40.024Z"
   },
   {
    "duration": 124,
    "start_time": "2022-06-27T16:23:40.266Z"
   },
   {
    "duration": 408,
    "start_time": "2022-06-27T16:23:40.411Z"
   },
   {
    "duration": 475,
    "start_time": "2022-06-27T16:23:40.821Z"
   },
   {
    "duration": 91,
    "start_time": "2022-06-27T16:23:41.299Z"
   },
   {
    "duration": 123,
    "start_time": "2022-06-27T16:23:41.392Z"
   },
   {
    "duration": 24,
    "start_time": "2022-06-27T16:23:42.113Z"
   },
   {
    "duration": 4,
    "start_time": "2022-06-27T16:23:42.479Z"
   },
   {
    "duration": 1315,
    "start_time": "2022-06-27T16:23:42.651Z"
   },
   {
    "duration": 399,
    "start_time": "2022-06-27T16:23:44.269Z"
   },
   {
    "duration": 22,
    "start_time": "2022-06-27T16:23:45.090Z"
   },
   {
    "duration": 298,
    "start_time": "2022-06-27T16:23:46.991Z"
   },
   {
    "duration": 330,
    "start_time": "2022-06-27T16:23:47.657Z"
   },
   {
    "duration": 22,
    "start_time": "2022-06-27T16:23:48.310Z"
   },
   {
    "duration": 269,
    "start_time": "2022-06-27T16:23:49.279Z"
   },
   {
    "duration": 300,
    "start_time": "2022-06-27T16:23:50.183Z"
   },
   {
    "duration": 20,
    "start_time": "2022-06-27T16:23:53.315Z"
   },
   {
    "duration": 385,
    "start_time": "2022-06-27T16:23:56.017Z"
   },
   {
    "duration": 29,
    "start_time": "2022-06-27T16:23:56.404Z"
   },
   {
    "duration": 60,
    "start_time": "2022-06-27T16:23:56.756Z"
   },
   {
    "duration": 71,
    "start_time": "2022-06-27T16:23:57.470Z"
   },
   {
    "duration": 4,
    "start_time": "2022-06-27T16:23:58.369Z"
   },
   {
    "duration": 358,
    "start_time": "2022-06-27T16:24:02.183Z"
   },
   {
    "duration": 337,
    "start_time": "2022-06-27T16:24:03.775Z"
   },
   {
    "duration": 12,
    "start_time": "2022-06-27T16:24:04.640Z"
   },
   {
    "duration": 14,
    "start_time": "2022-06-27T16:24:16.491Z"
   },
   {
    "duration": 128,
    "start_time": "2022-06-27T16:24:36.428Z"
   },
   {
    "duration": 18,
    "start_time": "2022-06-27T16:24:38.104Z"
   },
   {
    "duration": 16,
    "start_time": "2022-06-27T16:24:41.038Z"
   },
   {
    "duration": 2,
    "start_time": "2022-06-27T16:24:47.012Z"
   },
   {
    "duration": 4,
    "start_time": "2022-06-27T16:24:51.424Z"
   },
   {
    "duration": 11,
    "start_time": "2022-06-27T16:24:55.219Z"
   },
   {
    "duration": 31,
    "start_time": "2022-06-27T16:24:57.810Z"
   },
   {
    "duration": 40,
    "start_time": "2022-06-27T16:24:58.101Z"
   },
   {
    "duration": 5,
    "start_time": "2022-06-27T16:24:58.845Z"
   },
   {
    "duration": 3,
    "start_time": "2022-06-27T16:25:46.694Z"
   },
   {
    "duration": 11,
    "start_time": "2022-06-27T16:28:41.157Z"
   },
   {
    "duration": 4,
    "start_time": "2022-06-27T16:29:04.318Z"
   },
   {
    "duration": 39958,
    "start_time": "2022-06-27T16:29:14.905Z"
   },
   {
    "duration": 3,
    "start_time": "2022-06-27T16:30:34.477Z"
   },
   {
    "duration": 3,
    "start_time": "2022-06-27T16:32:40.122Z"
   },
   {
    "duration": 52,
    "start_time": "2022-06-27T16:32:40.630Z"
   },
   {
    "duration": 3,
    "start_time": "2022-06-27T16:32:54.179Z"
   },
   {
    "duration": 65,
    "start_time": "2022-06-27T16:32:54.349Z"
   },
   {
    "duration": 171988,
    "start_time": "2022-06-27T16:34:54.481Z"
   },
   {
    "duration": 468,
    "start_time": "2022-06-27T16:37:46.472Z"
   },
   {
    "duration": 426,
    "start_time": "2022-06-27T16:38:58.183Z"
   },
   {
    "duration": 3,
    "start_time": "2022-06-27T16:39:07.102Z"
   },
   {
    "duration": 453,
    "start_time": "2022-06-27T16:39:11.409Z"
   },
   {
    "duration": 4,
    "start_time": "2022-06-27T16:41:55.714Z"
   },
   {
    "duration": 56,
    "start_time": "2022-06-27T16:42:27.431Z"
   },
   {
    "duration": 186140,
    "start_time": "2022-06-27T16:42:33.322Z"
   },
   {
    "duration": 513,
    "start_time": "2022-06-27T16:45:39.464Z"
   },
   {
    "duration": 4,
    "start_time": "2022-06-27T16:46:42.897Z"
   },
   {
    "duration": 172117,
    "start_time": "2022-06-27T16:46:44.765Z"
   },
   {
    "duration": 476,
    "start_time": "2022-06-27T16:49:36.884Z"
   },
   {
    "duration": 3,
    "start_time": "2022-06-27T16:49:37.362Z"
   },
   {
    "duration": 56,
    "start_time": "2022-06-27T16:49:37.367Z"
   },
   {
    "duration": 9,
    "start_time": "2022-06-27T16:49:37.426Z"
   },
   {
    "duration": 0,
    "start_time": "2022-06-27T16:49:37.437Z"
   },
   {
    "duration": 3,
    "start_time": "2022-06-27T16:54:01.966Z"
   },
   {
    "duration": 16943,
    "start_time": "2022-06-27T16:54:02.320Z"
   },
   {
    "duration": 11,
    "start_time": "2022-06-27T16:54:19.265Z"
   },
   {
    "duration": 0,
    "start_time": "2022-06-27T16:54:19.278Z"
   },
   {
    "duration": 103,
    "start_time": "2022-06-27T17:51:04.111Z"
   },
   {
    "duration": 5,
    "start_time": "2022-06-27T17:51:11.486Z"
   },
   {
    "duration": 2,
    "start_time": "2022-06-27T17:52:33.004Z"
   },
   {
    "duration": 52,
    "start_time": "2022-06-27T17:52:34.382Z"
   },
   {
    "duration": 41,
    "start_time": "2022-06-27T17:52:52.242Z"
   },
   {
    "duration": 17,
    "start_time": "2022-06-27T17:54:04.496Z"
   },
   {
    "duration": 11,
    "start_time": "2022-06-27T17:54:06.402Z"
   },
   {
    "duration": 9,
    "start_time": "2022-06-27T17:54:28.763Z"
   },
   {
    "duration": 17,
    "start_time": "2022-06-27T17:54:38.949Z"
   },
   {
    "duration": 3,
    "start_time": "2022-06-27T17:55:27.651Z"
   },
   {
    "duration": 113,
    "start_time": "2022-06-27T17:56:13.312Z"
   },
   {
    "duration": 3,
    "start_time": "2022-06-27T17:56:40.741Z"
   },
   {
    "duration": 98,
    "start_time": "2022-06-27T17:56:41.065Z"
   },
   {
    "duration": 3,
    "start_time": "2022-06-27T17:58:37.208Z"
   },
   {
    "duration": 93,
    "start_time": "2022-06-27T17:58:39.283Z"
   },
   {
    "duration": 18,
    "start_time": "2022-06-27T17:58:51.142Z"
   },
   {
    "duration": 11,
    "start_time": "2022-06-27T17:58:58.743Z"
   },
   {
    "duration": 5,
    "start_time": "2022-06-27T17:59:22.661Z"
   },
   {
    "duration": 4,
    "start_time": "2022-06-27T18:00:33.867Z"
   },
   {
    "duration": 19,
    "start_time": "2022-06-27T18:00:53.691Z"
   },
   {
    "duration": 11,
    "start_time": "2022-06-27T18:00:57.787Z"
   },
   {
    "duration": 2,
    "start_time": "2022-06-27T18:02:43.905Z"
   },
   {
    "duration": 3,
    "start_time": "2022-06-27T18:02:51.344Z"
   },
   {
    "duration": 113,
    "start_time": "2022-06-27T18:02:51.543Z"
   },
   {
    "duration": 22,
    "start_time": "2022-06-27T18:20:43.384Z"
   },
   {
    "duration": 34,
    "start_time": "2022-06-27T18:21:07.638Z"
   },
   {
    "duration": 3,
    "start_time": "2022-06-27T18:21:13.899Z"
   },
   {
    "duration": 2,
    "start_time": "2022-06-27T18:21:24.408Z"
   },
   {
    "duration": 113,
    "start_time": "2022-06-27T18:21:25.142Z"
   },
   {
    "duration": 3,
    "start_time": "2022-06-27T18:24:56.472Z"
   },
   {
    "duration": 100,
    "start_time": "2022-06-27T18:24:57.082Z"
   },
   {
    "duration": 3,
    "start_time": "2022-06-27T18:27:46.790Z"
   },
   {
    "duration": 15,
    "start_time": "2022-06-27T18:28:00.100Z"
   },
   {
    "duration": 3,
    "start_time": "2022-06-27T18:28:29.979Z"
   },
   {
    "duration": 123,
    "start_time": "2022-06-27T18:28:32.906Z"
   },
   {
    "duration": 14,
    "start_time": "2022-06-27T18:29:44.779Z"
   },
   {
    "duration": 15,
    "start_time": "2022-06-27T18:31:07.355Z"
   },
   {
    "duration": 36,
    "start_time": "2022-06-27T18:33:20.239Z"
   },
   {
    "duration": 34,
    "start_time": "2022-06-27T18:34:04.050Z"
   },
   {
    "duration": 10,
    "start_time": "2022-06-27T18:34:09.543Z"
   },
   {
    "duration": 27,
    "start_time": "2022-06-27T18:34:12.248Z"
   },
   {
    "duration": 36,
    "start_time": "2022-06-27T18:34:17.999Z"
   },
   {
    "duration": 4,
    "start_time": "2022-06-27T18:34:21.295Z"
   },
   {
    "duration": 3,
    "start_time": "2022-06-27T18:34:30.166Z"
   },
   {
    "duration": 104,
    "start_time": "2022-06-27T18:34:32.672Z"
   },
   {
    "duration": 11,
    "start_time": "2022-06-27T18:35:01.139Z"
   },
   {
    "duration": 5,
    "start_time": "2022-06-27T18:35:03.468Z"
   },
   {
    "duration": 3,
    "start_time": "2022-06-27T18:35:07.154Z"
   },
   {
    "duration": 27,
    "start_time": "2022-06-27T18:35:13.912Z"
   },
   {
    "duration": 8,
    "start_time": "2022-06-27T18:35:24.464Z"
   },
   {
    "duration": 29,
    "start_time": "2022-06-27T18:35:25.757Z"
   },
   {
    "duration": 34,
    "start_time": "2022-06-27T18:35:26.222Z"
   },
   {
    "duration": 50,
    "start_time": "2022-06-27T18:35:27.016Z"
   },
   {
    "duration": 3,
    "start_time": "2022-06-27T18:35:35.613Z"
   },
   {
    "duration": 3,
    "start_time": "2022-06-27T18:35:45.937Z"
   },
   {
    "duration": 21,
    "start_time": "2022-06-27T18:35:46.402Z"
   },
   {
    "duration": 7019,
    "start_time": "2022-06-27T18:35:46.812Z"
   },
   {
    "duration": 12,
    "start_time": "2022-06-27T18:38:28.247Z"
   },
   {
    "duration": 381,
    "start_time": "2022-06-27T18:38:46.257Z"
   },
   {
    "duration": 416,
    "start_time": "2022-06-27T18:38:55.511Z"
   },
   {
    "duration": 14,
    "start_time": "2022-06-27T18:39:35.276Z"
   },
   {
    "duration": 5,
    "start_time": "2022-06-27T18:40:00.493Z"
   },
   {
    "duration": 7,
    "start_time": "2022-06-27T18:40:06.862Z"
   },
   {
    "duration": 11,
    "start_time": "2022-06-27T18:40:16.202Z"
   },
   {
    "duration": 8,
    "start_time": "2022-06-27T18:40:21.185Z"
   }
  ],
  "interpreter": {
   "hash": "fb4569285eef3a3450cb62085a5b1e0da4bce0af555edc33dcf29baf3acc1368"
  },
  "kernelspec": {
   "display_name": "Python 3 (ipykernel)",
   "language": "python",
   "name": "python3"
  },
  "language_info": {
   "codemirror_mode": {
    "name": "ipython",
    "version": 3
   },
   "file_extension": ".py",
   "mimetype": "text/x-python",
   "name": "python",
   "nbconvert_exporter": "python",
   "pygments_lexer": "ipython3",
   "version": "3.10.1"
  },
  "toc": {
   "base_numbering": 1,
   "nav_menu": {},
   "number_sections": true,
   "sideBar": true,
   "skip_h1_title": true,
   "title_cell": "Table of Contents",
   "title_sidebar": "Contents",
   "toc_cell": false,
   "toc_position": {
    "height": "calc(100% - 180px)",
    "left": "10px",
    "top": "150px",
    "width": "319.145px"
   },
   "toc_section_display": true,
   "toc_window_display": false
  }
 },
 "nbformat": 4,
 "nbformat_minor": 2
}
