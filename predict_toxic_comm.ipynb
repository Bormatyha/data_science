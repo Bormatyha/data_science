{
 "cells": [
  {
   "cell_type": "markdown",
   "metadata": {
    "toc": true
   },
   "source": [
    "<h1>Содержание<span class=\"tocSkip\"></span></h1>\n",
    "<div class=\"toc\"><ul class=\"toc-item\"><li><span><a href=\"#Подготовка\" data-toc-modified-id=\"Подготовка-1\"><span class=\"toc-item-num\">1&nbsp;&nbsp;</span>Подготовка</a></span><ul class=\"toc-item\"><li><span><a href=\"#Предобработка\" data-toc-modified-id=\"Предобработка-1.1\"><span class=\"toc-item-num\">1.1&nbsp;&nbsp;</span>Предобработка</a></span></li></ul></li><li><span><a href=\"#Обучение\" data-toc-modified-id=\"Обучение-2\"><span class=\"toc-item-num\">2&nbsp;&nbsp;</span>Обучение</a></span><ul class=\"toc-item\"><li><span><a href=\"#Tf-idf-и-логистическая-регрессия\" data-toc-modified-id=\"Tf-idf-и-логистическая-регрессия-2.1\"><span class=\"toc-item-num\">2.1&nbsp;&nbsp;</span>Tf-idf и логистическая регрессия</a></span></li></ul></li><li><span><a href=\"#Выводы\" data-toc-modified-id=\"Выводы-3\"><span class=\"toc-item-num\">3&nbsp;&nbsp;</span>Выводы</a></span></li><li><span><a href=\"#Чек-лист-проверки\" data-toc-modified-id=\"Чек-лист-проверки-4\"><span class=\"toc-item-num\">4&nbsp;&nbsp;</span>Чек-лист проверки</a></span></li></ul></div>"
   ]
  },
  {
   "cell_type": "markdown",
   "metadata": {},
   "source": [
    "# Проект для «Викишоп»"
   ]
  },
  {
   "cell_type": "markdown",
   "metadata": {},
   "source": [
    "Интернет-магазин «Викишоп» запускает новый сервис. Теперь пользователи могут редактировать и дополнять описания товаров, как в вики-сообществах. То есть клиенты предлагают свои правки и комментируют изменения других. Магазину нужен инструмент, который будет искать токсичные комментарии и отправлять их на модерацию. \n",
    "\n",
    "Обучите модель классифицировать комментарии на позитивные и негативные. В вашем распоряжении набор данных с разметкой о токсичности правок.\n",
    "\n",
    "Постройте модель со значением метрики качества *F1* не меньше 0.75. \n",
    "\n",
    "**Инструкция по выполнению проекта**\n",
    "\n",
    "1. Загрузите и подготовьте данные.\n",
    "2. Обучите разные модели. \n",
    "3. Сделайте выводы.\n",
    "\n",
    "Для выполнения проекта применять *BERT* необязательно, но вы можете попробовать.\n",
    "\n",
    "**Описание данных**\n",
    "\n",
    "Данные находятся в файле `toxic_comments.csv`. Столбец *text* в нём содержит текст комментария, а *toxic* — целевой признак."
   ]
  },
  {
   "cell_type": "code",
   "execution_count": 27,
   "metadata": {},
   "outputs": [
    {
     "name": "stdout",
     "output_type": "stream",
     "text": [
      "Collecting eli5\n",
      "  Downloading eli5-0.13.0.tar.gz (216 kB)\n",
      "\u001b[K     |████████████████████████████████| 216 kB 1.4 MB/s eta 0:00:01\n",
      "\u001b[?25hRequirement already satisfied: attrs>17.1.0 in /opt/conda/lib/python3.9/site-packages (from eli5) (21.2.0)\n",
      "Requirement already satisfied: jinja2>=3.0.0 in /opt/conda/lib/python3.9/site-packages (from eli5) (3.0.1)\n",
      "Requirement already satisfied: numpy>=1.9.0 in /opt/conda/lib/python3.9/site-packages (from eli5) (1.21.1)\n",
      "Requirement already satisfied: scipy in /opt/conda/lib/python3.9/site-packages (from eli5) (1.8.0)\n",
      "Requirement already satisfied: six in /opt/conda/lib/python3.9/site-packages (from eli5) (1.16.0)\n",
      "Requirement already satisfied: scikit-learn>=0.20 in /opt/conda/lib/python3.9/site-packages (from eli5) (0.24.1)\n",
      "Requirement already satisfied: graphviz in /opt/conda/lib/python3.9/site-packages (from eli5) (0.20)\n",
      "Collecting tabulate>=0.7.7\n",
      "  Downloading tabulate-0.8.10-py3-none-any.whl (29 kB)\n",
      "Requirement already satisfied: MarkupSafe>=2.0 in /opt/conda/lib/python3.9/site-packages (from jinja2>=3.0.0->eli5) (2.0.1)\n",
      "Requirement already satisfied: threadpoolctl>=2.0.0 in /opt/conda/lib/python3.9/site-packages (from scikit-learn>=0.20->eli5) (3.1.0)\n",
      "Requirement already satisfied: joblib>=0.11 in /opt/conda/lib/python3.9/site-packages (from scikit-learn>=0.20->eli5) (1.1.0)\n",
      "Building wheels for collected packages: eli5\n",
      "  Building wheel for eli5 (setup.py) ... \u001b[?25ldone\n",
      "\u001b[?25h  Created wheel for eli5: filename=eli5-0.13.0-py2.py3-none-any.whl size=107729 sha256=c749ad946514c0494dc1b29de30eabc13612857c9331df3fb9560483c717ccc1\n",
      "  Stored in directory: /home/jovyan/.cache/pip/wheels/7b/26/a5/8460416695a992a2966b41caa5338e5e7fcea98c9d032d055c\n",
      "Successfully built eli5\n",
      "Installing collected packages: tabulate, eli5\n",
      "Successfully installed eli5-0.13.0 tabulate-0.8.10\n",
      "Note: you may need to restart the kernel to use updated packages.\n"
     ]
    }
   ],
   "source": [
    "#pip install eli5"
   ]
  },
  {
   "cell_type": "code",
   "execution_count": 28,
   "metadata": {},
   "outputs": [],
   "source": [
    "import pandas as pd\n",
    "import numpy as np\n",
    "import re\n",
    "\n",
    "from sklearn.model_selection import train_test_split, GridSearchCV, StratifiedKFold\n",
    "from sklearn.metrics import f1_score\n",
    "from sklearn.linear_model import LogisticRegression\n",
    "from sklearn.svm import SVC\n",
    "from sklearn.feature_extraction.text import TfidfVectorizer\n",
    "from sklearn.pipeline import Pipeline\n",
    "from sklearn.ensemble import RandomForestClassifier\n",
    "from sklearn.preprocessing import StandardScaler\n",
    "from sklearn.base import BaseEstimator, TransformerMixin\n",
    "\n",
    "from scipy.sparse import hstack\n",
    "\n",
    "#import nltk\n",
    "#nltk.download('stopwords')\n",
    "#from nltk.corpus import stopwords\n",
    "\n",
    "import string\n",
    "\n",
    "import spacy\n",
    "from spacy.lang.en.stop_words import STOP_WORDS\n",
    "import en_core_web_sm\n",
    "\n",
    "import catboost\n",
    "from catboost import Pool, CatBoostClassifier\n",
    "\n",
    "from tqdm import tqdm, tqdm_notebook, notebook\n",
    "\n",
    "from joblib import dump, load\n",
    "\n",
    "import eli5\n",
    "\n",
    "import matplotlib.pyplot as plt\n",
    "import seaborn as sns\n",
    "\n",
    "#import torch\n",
    "#from transformers import BertTokenizer, BertModel, BertForMaskedLM\n",
    "\n",
    "import gc\n",
    "\n",
    "DATA_PREPARED_FILE = \"toxic_comments_ready\"\n",
    "GRID_FILE = \"grid_nlp\"\n",
    "MODEL_FILE = \"toxic_comments_model\"\n",
    "\n",
    "\n",
    "PATH = '/datasets/'\n",
    "SEED = 21"
   ]
  },
  {
   "cell_type": "markdown",
   "metadata": {},
   "source": [
    "## Подготовка"
   ]
  },
  {
   "cell_type": "code",
   "execution_count": 2,
   "metadata": {},
   "outputs": [],
   "source": [
    "# Загружаем данные \n",
    "df = pd.read_csv('/datasets/toxic_comments.csv')"
   ]
  },
  {
   "cell_type": "code",
   "execution_count": 3,
   "metadata": {},
   "outputs": [
    {
     "data": {
      "text/html": [
       "<div>\n",
       "<style scoped>\n",
       "    .dataframe tbody tr th:only-of-type {\n",
       "        vertical-align: middle;\n",
       "    }\n",
       "\n",
       "    .dataframe tbody tr th {\n",
       "        vertical-align: top;\n",
       "    }\n",
       "\n",
       "    .dataframe thead th {\n",
       "        text-align: right;\n",
       "    }\n",
       "</style>\n",
       "<table border=\"1\" class=\"dataframe\">\n",
       "  <thead>\n",
       "    <tr style=\"text-align: right;\">\n",
       "      <th></th>\n",
       "      <th>text</th>\n",
       "      <th>toxic</th>\n",
       "    </tr>\n",
       "  </thead>\n",
       "  <tbody>\n",
       "    <tr>\n",
       "      <th>61882</th>\n",
       "      <td>\"\\n\\n Hello Alun, thank you for your contribut...</td>\n",
       "      <td>0</td>\n",
       "    </tr>\n",
       "    <tr>\n",
       "      <th>156949</th>\n",
       "      <td>Glad you had a good time. I chickened out I'm ...</td>\n",
       "      <td>0</td>\n",
       "    </tr>\n",
       "    <tr>\n",
       "      <th>151761</th>\n",
       "      <td>\"\\nKingpin, thank you, I think that would be a...</td>\n",
       "      <td>0</td>\n",
       "    </tr>\n",
       "    <tr>\n",
       "      <th>123575</th>\n",
       "      <td>So WP:NPA and WP:CIV apply with considerably a...</td>\n",
       "      <td>0</td>\n",
       "    </tr>\n",
       "    <tr>\n",
       "      <th>95342</th>\n",
       "      <td>You would think with all that cash he could af...</td>\n",
       "      <td>0</td>\n",
       "    </tr>\n",
       "  </tbody>\n",
       "</table>\n",
       "</div>"
      ],
      "text/plain": [
       "                                                     text  toxic\n",
       "61882   \"\\n\\n Hello Alun, thank you for your contribut...      0\n",
       "156949  Glad you had a good time. I chickened out I'm ...      0\n",
       "151761  \"\\nKingpin, thank you, I think that would be a...      0\n",
       "123575  So WP:NPA and WP:CIV apply with considerably a...      0\n",
       "95342   You would think with all that cash he could af...      0"
      ]
     },
     "execution_count": 3,
     "metadata": {},
     "output_type": "execute_result"
    }
   ],
   "source": [
    "df.sample(5)"
   ]
  },
  {
   "cell_type": "code",
   "execution_count": 4,
   "metadata": {},
   "outputs": [
    {
     "name": "stdout",
     "output_type": "stream",
     "text": [
      "<class 'pandas.core.frame.DataFrame'>\n",
      "RangeIndex: 159571 entries, 0 to 159570\n",
      "Data columns (total 2 columns):\n",
      " #   Column  Non-Null Count   Dtype \n",
      "---  ------  --------------   ----- \n",
      " 0   text    159571 non-null  object\n",
      " 1   toxic   159571 non-null  int64 \n",
      "dtypes: int64(1), object(1)\n",
      "memory usage: 2.4+ MB\n"
     ]
    }
   ],
   "source": [
    "df.info()"
   ]
  },
  {
   "cell_type": "code",
   "execution_count": 5,
   "metadata": {},
   "outputs": [
    {
     "data": {
      "text/plain": [
       "0"
      ]
     },
     "execution_count": 5,
     "metadata": {},
     "output_type": "execute_result"
    }
   ],
   "source": [
    "#Проверим наличе дубликатов.\n",
    "df.duplicated().sum()"
   ]
  },
  {
   "cell_type": "code",
   "execution_count": 6,
   "metadata": {},
   "outputs": [
    {
     "data": {
      "text/plain": [
       "<AxesSubplot:>"
      ]
     },
     "execution_count": 6,
     "metadata": {},
     "output_type": "execute_result"
    },
    {
     "data": {
      "image/png": "[encoded data removed]",
      "text/plain": [
       "<Figure size 432x288 with 1 Axes>"
      ]
     },
     "metadata": {
      "needs_background": "light"
     },
     "output_type": "display_data"
    }
   ],
   "source": [
    "# Взгляним на ,баланс целевого признака.\n",
    "df['toxic'].hist()"
   ]
  },
  {
   "cell_type": "markdown",
   "metadata": {},
   "source": [
    "Присутсвует сильный дизбаланс классов."
   ]
  },
  {
   "cell_type": "markdown",
   "metadata": {},
   "source": [
    "### Предобработка "
   ]
  },
  {
   "cell_type": "markdown",
   "metadata": {},
   "source": [
    "**Очистка**"
   ]
  },
  {
   "cell_type": "markdown",
   "metadata": {},
   "source": [
    "Очистим тексты с помощию регулярных выражений:\n",
    "\n",
    " - Приведем все к нижнему регистру\n",
    " - Удалим спец символы \\n \\r\n",
    " - Выберем только слова"
   ]
  },
  {
   "cell_type": "code",
   "execution_count": 15,
   "metadata": {},
   "outputs": [],
   "source": [
    "def clean(text):\n",
    "    text = text.lower()\n",
    "    text = re.sub(r\"(?:\\n|\\r)\", \" \", text)\n",
    "    text = re.sub(r\"[^a-zA-Z ]+\", \"\", text).strip()\n",
    "    \n",
    "    return text "
   ]
  },
  {
   "cell_type": "code",
   "execution_count": 22,
   "metadata": {},
   "outputs": [],
   "source": [
    "df['clean_text'] = df['text'].apply(clean)"
   ]
  },
  {
   "cell_type": "code",
   "execution_count": 24,
   "metadata": {},
   "outputs": [
    {
     "data": {
      "text/html": [
       "<div>\n",
       "<style scoped>\n",
       "    .dataframe tbody tr th:only-of-type {\n",
       "        vertical-align: middle;\n",
       "    }\n",
       "\n",
       "    .dataframe tbody tr th {\n",
       "        vertical-align: top;\n",
       "    }\n",
       "\n",
       "    .dataframe thead th {\n",
       "        text-align: right;\n",
       "    }\n",
       "</style>\n",
       "<table border=\"1\" class=\"dataframe\">\n",
       "  <thead>\n",
       "    <tr style=\"text-align: right;\">\n",
       "      <th></th>\n",
       "      <th>text</th>\n",
       "      <th>toxic</th>\n",
       "      <th>clean_text</th>\n",
       "    </tr>\n",
       "  </thead>\n",
       "  <tbody>\n",
       "    <tr>\n",
       "      <th>50671</th>\n",
       "      <td>\"\\n Yes, and rap singers refer to themselves w...</td>\n",
       "      <td>0</td>\n",
       "      <td>yes and rap singers refer to themselves with t...</td>\n",
       "    </tr>\n",
       "    <tr>\n",
       "      <th>94107</th>\n",
       "      <td>Oppose clearly the stats are not clear on prim...</td>\n",
       "      <td>0</td>\n",
       "      <td>oppose clearly the stats are not clear on prim...</td>\n",
       "    </tr>\n",
       "    <tr>\n",
       "      <th>67881</th>\n",
       "      <td>Help with Veronica Mars, please \\n\\nHaving bat...</td>\n",
       "      <td>0</td>\n",
       "      <td>help with veronica mars please   having battle...</td>\n",
       "    </tr>\n",
       "    <tr>\n",
       "      <th>146107</th>\n",
       "      <td>Statement has been reinserted, but I shall fin...</td>\n",
       "      <td>0</td>\n",
       "      <td>statement has been reinserted but i shall find...</td>\n",
       "    </tr>\n",
       "    <tr>\n",
       "      <th>56880</th>\n",
       "      <td>\"\\n\\n Why ref to AP arch. inscriptions and val...</td>\n",
       "      <td>0</td>\n",
       "      <td>why ref to ap arch inscriptions and valuable h...</td>\n",
       "    </tr>\n",
       "  </tbody>\n",
       "</table>\n",
       "</div>"
      ],
      "text/plain": [
       "                                                     text  toxic  \\\n",
       "50671   \"\\n Yes, and rap singers refer to themselves w...      0   \n",
       "94107   Oppose clearly the stats are not clear on prim...      0   \n",
       "67881   Help with Veronica Mars, please \\n\\nHaving bat...      0   \n",
       "146107  Statement has been reinserted, but I shall fin...      0   \n",
       "56880   \"\\n\\n Why ref to AP arch. inscriptions and val...      0   \n",
       "\n",
       "                                               clean_text  \n",
       "50671   yes and rap singers refer to themselves with t...  \n",
       "94107   oppose clearly the stats are not clear on prim...  \n",
       "67881   help with veronica mars please   having battle...  \n",
       "146107  statement has been reinserted but i shall find...  \n",
       "56880   why ref to ap arch inscriptions and valuable h...  "
      ]
     },
     "execution_count": 24,
     "metadata": {},
     "output_type": "execute_result"
    }
   ],
   "source": [
    "df.sample(5)"
   ]
  },
  {
   "cell_type": "markdown",
   "metadata": {},
   "source": [
    "**Лемантизация**"
   ]
  },
  {
   "cell_type": "markdown",
   "metadata": {},
   "source": [
    "Для лемантизации будем использовать spacy"
   ]
  },
  {
   "cell_type": "code",
   "execution_count": 29,
   "metadata": {},
   "outputs": [],
   "source": [
    "nlp = en_core_web_sm.load()"
   ]
  },
  {
   "cell_type": "code",
   "execution_count": 30,
   "metadata": {},
   "outputs": [],
   "source": [
    "def lemmatize(text):\n",
    "    temp = []\n",
    "    for token in nlp(text):\n",
    "        if token.is_stop == False:\n",
    "            temp.append(token.lemma_)\n",
    "    return \" \".join(temp)"
   ]
  },
  {
   "cell_type": "code",
   "execution_count": 33,
   "metadata": {},
   "outputs": [
    {
     "name": "stderr",
     "output_type": "stream",
     "text": [
      "100%|██████████| 159571/159571 [42:52<00:00, 62.03it/s] \n"
     ]
    }
   ],
   "source": [
    "tqdm.pandas()\n",
    "df['text_lemma'] = df['clean_text'].progress_apply(lemmatize) "
   ]
  },
  {
   "cell_type": "code",
   "execution_count": 36,
   "metadata": {},
   "outputs": [
    {
     "data": {
      "text/plain": [
       "['toxic_comments_ready']"
      ]
     },
     "execution_count": 36,
     "metadata": {},
     "output_type": "execute_result"
    }
   ],
   "source": [
    "# Сохраним результат\n",
    "dump(df, DATA_PREPARED_FILE)"
   ]
  },
  {
   "cell_type": "code",
   "execution_count": 37,
   "metadata": {},
   "outputs": [
    {
     "data": {
      "text/html": [
       "<div>\n",
       "<style scoped>\n",
       "    .dataframe tbody tr th:only-of-type {\n",
       "        vertical-align: middle;\n",
       "    }\n",
       "\n",
       "    .dataframe tbody tr th {\n",
       "        vertical-align: top;\n",
       "    }\n",
       "\n",
       "    .dataframe thead th {\n",
       "        text-align: right;\n",
       "    }\n",
       "</style>\n",
       "<table border=\"1\" class=\"dataframe\">\n",
       "  <thead>\n",
       "    <tr style=\"text-align: right;\">\n",
       "      <th></th>\n",
       "      <th>text</th>\n",
       "      <th>toxic</th>\n",
       "      <th>clean_text</th>\n",
       "      <th>text_lemma</th>\n",
       "    </tr>\n",
       "  </thead>\n",
       "  <tbody>\n",
       "    <tr>\n",
       "      <th>13064</th>\n",
       "      <td>\"Notice: If you are here because I speedy dele...</td>\n",
       "      <td>0</td>\n",
       "      <td>notice if you are here because i speedy delete...</td>\n",
       "      <td>notice speedy delete article sure link article...</td>\n",
       "    </tr>\n",
       "    <tr>\n",
       "      <th>30403</th>\n",
       "      <td>NO PS3  \\n\\nhttp://sdtekken.com/2008/10/07/tek...</td>\n",
       "      <td>0</td>\n",
       "      <td>no ps    httpsdtekkencomtekkennotcomingtopsbut...</td>\n",
       "      <td>ps     httpsdtekkencomtekkennotcomingtopsbutbl...</td>\n",
       "    </tr>\n",
       "    <tr>\n",
       "      <th>60445</th>\n",
       "      <td>\"\\n\\nI don't buy those arguments.\\n\\nFirst, th...</td>\n",
       "      <td>0</td>\n",
       "      <td>i dont buy those arguments  first there has al...</td>\n",
       "      <td>not buy argument   recent trend create season ...</td>\n",
       "    </tr>\n",
       "    <tr>\n",
       "      <th>32320</th>\n",
       "      <td>Typical yank \\n\\nRockstar is BRITISH, you can ...</td>\n",
       "      <td>1</td>\n",
       "      <td>typical yank   rockstar is british you can fuc...</td>\n",
       "      <td>typical yank    rockstar british fuck think ya...</td>\n",
       "    </tr>\n",
       "    <tr>\n",
       "      <th>88958</th>\n",
       "      <td>\"\\n\\nI do get your point but I am loosing pati...</td>\n",
       "      <td>0</td>\n",
       "      <td>i do get your point but i am loosing patience ...</td>\n",
       "      <td>point loose patience admin excel run passionat...</td>\n",
       "    </tr>\n",
       "  </tbody>\n",
       "</table>\n",
       "</div>"
      ],
      "text/plain": [
       "                                                    text  toxic  \\\n",
       "13064  \"Notice: If you are here because I speedy dele...      0   \n",
       "30403  NO PS3  \\n\\nhttp://sdtekken.com/2008/10/07/tek...      0   \n",
       "60445  \"\\n\\nI don't buy those arguments.\\n\\nFirst, th...      0   \n",
       "32320  Typical yank \\n\\nRockstar is BRITISH, you can ...      1   \n",
       "88958  \"\\n\\nI do get your point but I am loosing pati...      0   \n",
       "\n",
       "                                              clean_text  \\\n",
       "13064  notice if you are here because i speedy delete...   \n",
       "30403  no ps    httpsdtekkencomtekkennotcomingtopsbut...   \n",
       "60445  i dont buy those arguments  first there has al...   \n",
       "32320  typical yank   rockstar is british you can fuc...   \n",
       "88958  i do get your point but i am loosing patience ...   \n",
       "\n",
       "                                              text_lemma  \n",
       "13064  notice speedy delete article sure link article...  \n",
       "30403  ps     httpsdtekkencomtekkennotcomingtopsbutbl...  \n",
       "60445  not buy argument   recent trend create season ...  \n",
       "32320  typical yank    rockstar british fuck think ya...  \n",
       "88958  point loose patience admin excel run passionat...  "
      ]
     },
     "execution_count": 37,
     "metadata": {},
     "output_type": "execute_result"
    }
   ],
   "source": [
    "df.sample(5)"
   ]
  },
  {
   "cell_type": "markdown",
   "metadata": {},
   "source": [
    "Разделим выборки на тестовую, валидационную и обучающую выборки."
   ]
  },
  {
   "cell_type": "code",
   "execution_count": 82,
   "metadata": {},
   "outputs": [
    {
     "name": "stdout",
     "output_type": "stream",
     "text": [
      "Train_valid shapes:\n",
      "(102124, 3) (102124,)\n",
      "Valid shapes:\n",
      "(25532, 3) (25532,)\n",
      "Test shapes:\n",
      "(31915, 3) (31915,)\n"
     ]
    }
   ],
   "source": [
    "X = df.drop(columns=['toxic'])\n",
    "y = df['toxic']\n",
    "\n",
    "X_train, X_test, y_train, y_test = train_test_split(X, y,\n",
    "                                                    shuffle=True,\n",
    "                                                    test_size=0.2,\n",
    "                                                    random_state=0)\n",
    "X_train_valid, X_valid, y_train_valid, y_valid = train_test_split(X_train, y_train,\n",
    "                                                                 shuffle=True,\n",
    "                                                                 test_size=0.2,\n",
    "                                                                 random_state=0)\n",
    "print('Train_valid shapes:')\n",
    "print(X_train_valid.shape, y_train_valid.shape)\n",
    "print('Valid shapes:')\n",
    "print(X_valid.shape, y_valid.shape)\n",
    "print('Test shapes:')\n",
    "print(X_test.shape, y_test.shape)"
   ]
  },
  {
   "cell_type": "markdown",
   "metadata": {},
   "source": [
    "## Обучение"
   ]
  },
  {
   "cell_type": "markdown",
   "metadata": {},
   "source": [
    "### Tf-idf и логистическая регрессия"
   ]
  },
  {
   "cell_type": "markdown",
   "metadata": {},
   "source": [
    "* 1 Составим пайплайн: Tf-idf -> Classifier\n",
    "* 2 В качестве Classifier попробуем LogisticRegression, так как остальные не отрабатывают за приемлемое время на таком количестве признаков\n",
    "* 3 Проверим результат на валидационной выборке для очищенного текста и лемматизированного"
   ]
  },
  {
   "cell_type": "code",
   "execution_count": 52,
   "metadata": {},
   "outputs": [],
   "source": [
    "pipe = Pipeline([\n",
    "    ('vectorizer', TfidfVectorizer(ngram_range=(1, 1))),\n",
    "    ('model', LogisticRegression(random_state=SEED, solver='liblinear')) #lbfgs\n",
    "    ])"
   ]
  },
  {
   "cell_type": "code",
   "execution_count": 84,
   "metadata": {},
   "outputs": [
    {
     "name": "stdout",
     "output_type": "stream",
     "text": [
      "F1 for clean_text is 0.7179487179487178\n",
      "F1 for text_lemma is 0.7253248233416915\n"
     ]
    }
   ],
   "source": [
    "for col in ['clean_text', 'text_lemma']:\n",
    "    pipe.fit(X_train_valid[col], y_train_valid);\n",
    "    y_valid_pred = pipe.predict(X_valid[col])\n",
    "    f1 = f1_score(y_valid, y_valid_pred)\n",
    "    print('F1 for', col, 'is', f1)"
   ]
  },
  {
   "cell_type": "markdown",
   "metadata": {},
   "source": [
    "Лемантизированный текст дает метрику лучше чем просто очищенный текс."
   ]
  },
  {
   "cell_type": "markdown",
   "metadata": {},
   "source": [
    "Посмотрим на самые важные слова"
   ]
  },
  {
   "cell_type": "code",
   "execution_count": 56,
   "metadata": {},
   "outputs": [
    {
     "data": {
      "text/html": [
       "\n",
       "    <style>\n",
       "    table.eli5-weights tr:hover {\n",
       "        filter: brightness(85%);\n",
       "    }\n",
       "</style>\n",
       "\n",
       "\n",
       "\n",
       "    \n",
       "\n",
       "    \n",
       "\n",
       "    \n",
       "\n",
       "    \n",
       "\n",
       "    \n",
       "\n",
       "    \n",
       "\n",
       "\n",
       "    \n",
       "\n",
       "    \n",
       "\n",
       "    \n",
       "\n",
       "    \n",
       "        \n",
       "\n",
       "    \n",
       "\n",
       "        \n",
       "            \n",
       "                \n",
       "                \n",
       "    \n",
       "        <p style=\"margin-bottom: 0.5em; margin-top: 0em\">\n",
       "            <b>\n",
       "    \n",
       "        y=1\n",
       "    \n",
       "</b>\n",
       "\n",
       "top features\n",
       "        </p>\n",
       "    \n",
       "    <table class=\"eli5-weights\"\n",
       "           style=\"border-collapse: collapse; border: none; margin-top: 0em; table-layout: auto; margin-bottom: 2em;\">\n",
       "        <thead>\n",
       "        <tr style=\"border: none;\">\n",
       "            \n",
       "                <th style=\"padding: 0 1em 0 0.5em; text-align: right; border: none;\" title=\"Feature weights. Note that weights do not account for feature value scales, so if feature values have different scales, features with highest weights might not be the most important.\">\n",
       "                    Weight<sup>?</sup>\n",
       "                </th>\n",
       "            \n",
       "            <th style=\"padding: 0 0.5em 0 0.5em; text-align: left; border: none;\">Feature</th>\n",
       "            \n",
       "        </tr>\n",
       "        </thead>\n",
       "        <tbody>\n",
       "        \n",
       "            <tr style=\"background-color: hsl(120, 100.00%, 80.00%); border: none;\">\n",
       "    <td style=\"padding: 0 1em 0 0.5em; text-align: right; border: none;\">\n",
       "        +17.957\n",
       "    </td>\n",
       "    <td style=\"padding: 0 0.5em 0 0.5em; text-align: left; border: none;\">\n",
       "        fuck\n",
       "    </td>\n",
       "    \n",
       "</tr>\n",
       "        \n",
       "            <tr style=\"background-color: hsl(120, 100.00%, 83.91%); border: none;\">\n",
       "    <td style=\"padding: 0 1em 0 0.5em; text-align: right; border: none;\">\n",
       "        +13.155\n",
       "    </td>\n",
       "    <td style=\"padding: 0 0.5em 0 0.5em; text-align: left; border: none;\">\n",
       "        idiot\n",
       "    </td>\n",
       "    \n",
       "</tr>\n",
       "        \n",
       "            <tr style=\"background-color: hsl(120, 100.00%, 84.07%); border: none;\">\n",
       "    <td style=\"padding: 0 1em 0 0.5em; text-align: right; border: none;\">\n",
       "        +12.979\n",
       "    </td>\n",
       "    <td style=\"padding: 0 0.5em 0 0.5em; text-align: left; border: none;\">\n",
       "        shit\n",
       "    </td>\n",
       "    \n",
       "</tr>\n",
       "        \n",
       "            <tr style=\"background-color: hsl(120, 100.00%, 84.41%); border: none;\">\n",
       "    <td style=\"padding: 0 1em 0 0.5em; text-align: right; border: none;\">\n",
       "        +12.575\n",
       "    </td>\n",
       "    <td style=\"padding: 0 0.5em 0 0.5em; text-align: left; border: none;\">\n",
       "        fucking\n",
       "    </td>\n",
       "    \n",
       "</tr>\n",
       "        \n",
       "            <tr style=\"background-color: hsl(120, 100.00%, 84.85%); border: none;\">\n",
       "    <td style=\"padding: 0 1em 0 0.5em; text-align: right; border: none;\">\n",
       "        +12.075\n",
       "    </td>\n",
       "    <td style=\"padding: 0 0.5em 0 0.5em; text-align: left; border: none;\">\n",
       "        stupid\n",
       "    </td>\n",
       "    \n",
       "</tr>\n",
       "        \n",
       "            <tr style=\"background-color: hsl(120, 100.00%, 85.96%); border: none;\">\n",
       "    <td style=\"padding: 0 1em 0 0.5em; text-align: right; border: none;\">\n",
       "        +10.836\n",
       "    </td>\n",
       "    <td style=\"padding: 0 0.5em 0 0.5em; text-align: left; border: none;\">\n",
       "        suck\n",
       "    </td>\n",
       "    \n",
       "</tr>\n",
       "        \n",
       "            <tr style=\"background-color: hsl(120, 100.00%, 86.17%); border: none;\">\n",
       "    <td style=\"padding: 0 1em 0 0.5em; text-align: right; border: none;\">\n",
       "        +10.603\n",
       "    </td>\n",
       "    <td style=\"padding: 0 0.5em 0 0.5em; text-align: left; border: none;\">\n",
       "        ass\n",
       "    </td>\n",
       "    \n",
       "</tr>\n",
       "        \n",
       "            <tr style=\"background-color: hsl(120, 100.00%, 87.13%); border: none;\">\n",
       "    <td style=\"padding: 0 1em 0 0.5em; text-align: right; border: none;\">\n",
       "        +9.571\n",
       "    </td>\n",
       "    <td style=\"padding: 0 0.5em 0 0.5em; text-align: left; border: none;\">\n",
       "        asshole\n",
       "    </td>\n",
       "    \n",
       "</tr>\n",
       "        \n",
       "            <tr style=\"background-color: hsl(120, 100.00%, 87.30%); border: none;\">\n",
       "    <td style=\"padding: 0 1em 0 0.5em; text-align: right; border: none;\">\n",
       "        +9.382\n",
       "    </td>\n",
       "    <td style=\"padding: 0 0.5em 0 0.5em; text-align: left; border: none;\">\n",
       "        bitch\n",
       "    </td>\n",
       "    \n",
       "</tr>\n",
       "        \n",
       "            <tr style=\"background-color: hsl(120, 100.00%, 87.31%); border: none;\">\n",
       "    <td style=\"padding: 0 1em 0 0.5em; text-align: right; border: none;\">\n",
       "        +9.370\n",
       "    </td>\n",
       "    <td style=\"padding: 0 0.5em 0 0.5em; text-align: left; border: none;\">\n",
       "        bullshit\n",
       "    </td>\n",
       "    \n",
       "</tr>\n",
       "        \n",
       "            <tr style=\"background-color: hsl(120, 100.00%, 88.06%); border: none;\">\n",
       "    <td style=\"padding: 0 1em 0 0.5em; text-align: right; border: none;\">\n",
       "        +8.592\n",
       "    </td>\n",
       "    <td style=\"padding: 0 0.5em 0 0.5em; text-align: left; border: none;\">\n",
       "        dick\n",
       "    </td>\n",
       "    \n",
       "</tr>\n",
       "        \n",
       "            <tr style=\"background-color: hsl(120, 100.00%, 88.32%); border: none;\">\n",
       "    <td style=\"padding: 0 1em 0 0.5em; text-align: right; border: none;\">\n",
       "        +8.328\n",
       "    </td>\n",
       "    <td style=\"padding: 0 0.5em 0 0.5em; text-align: left; border: none;\">\n",
       "        faggot\n",
       "    </td>\n",
       "    \n",
       "</tr>\n",
       "        \n",
       "            <tr style=\"background-color: hsl(120, 100.00%, 88.60%); border: none;\">\n",
       "    <td style=\"padding: 0 1em 0 0.5em; text-align: right; border: none;\">\n",
       "        +8.040\n",
       "    </td>\n",
       "    <td style=\"padding: 0 0.5em 0 0.5em; text-align: left; border: none;\">\n",
       "        moron\n",
       "    </td>\n",
       "    \n",
       "</tr>\n",
       "        \n",
       "            <tr style=\"background-color: hsl(120, 100.00%, 88.66%); border: none;\">\n",
       "    <td style=\"padding: 0 1em 0 0.5em; text-align: right; border: none;\">\n",
       "        +7.982\n",
       "    </td>\n",
       "    <td style=\"padding: 0 0.5em 0 0.5em; text-align: left; border: none;\">\n",
       "        crap\n",
       "    </td>\n",
       "    \n",
       "</tr>\n",
       "        \n",
       "            <tr style=\"background-color: hsl(120, 100.00%, 88.71%); border: none;\">\n",
       "    <td style=\"padding: 0 1em 0 0.5em; text-align: right; border: none;\">\n",
       "        +7.932\n",
       "    </td>\n",
       "    <td style=\"padding: 0 0.5em 0 0.5em; text-align: left; border: none;\">\n",
       "        cunt\n",
       "    </td>\n",
       "    \n",
       "</tr>\n",
       "        \n",
       "            <tr style=\"background-color: hsl(120, 100.00%, 89.53%); border: none;\">\n",
       "    <td style=\"padding: 0 1em 0 0.5em; text-align: right; border: none;\">\n",
       "        +7.120\n",
       "    </td>\n",
       "    <td style=\"padding: 0 0.5em 0 0.5em; text-align: left; border: none;\">\n",
       "        bastard\n",
       "    </td>\n",
       "    \n",
       "</tr>\n",
       "        \n",
       "            <tr style=\"background-color: hsl(120, 100.00%, 89.94%); border: none;\">\n",
       "    <td style=\"padding: 0 1em 0 0.5em; text-align: right; border: none;\">\n",
       "        +6.724\n",
       "    </td>\n",
       "    <td style=\"padding: 0 0.5em 0 0.5em; text-align: left; border: none;\">\n",
       "        pathetic\n",
       "    </td>\n",
       "    \n",
       "</tr>\n",
       "        \n",
       "            <tr style=\"background-color: hsl(120, 100.00%, 90.13%); border: none;\">\n",
       "    <td style=\"padding: 0 1em 0 0.5em; text-align: right; border: none;\">\n",
       "        +6.548\n",
       "    </td>\n",
       "    <td style=\"padding: 0 0.5em 0 0.5em; text-align: left; border: none;\">\n",
       "        penis\n",
       "    </td>\n",
       "    \n",
       "</tr>\n",
       "        \n",
       "            <tr style=\"background-color: hsl(120, 100.00%, 90.22%); border: none;\">\n",
       "    <td style=\"padding: 0 1em 0 0.5em; text-align: right; border: none;\">\n",
       "        +6.466\n",
       "    </td>\n",
       "    <td style=\"padding: 0 0.5em 0 0.5em; text-align: left; border: none;\">\n",
       "        hell\n",
       "    </td>\n",
       "    \n",
       "</tr>\n",
       "        \n",
       "            <tr style=\"background-color: hsl(120, 100.00%, 90.34%); border: none;\">\n",
       "    <td style=\"padding: 0 1em 0 0.5em; text-align: right; border: none;\">\n",
       "        +6.347\n",
       "    </td>\n",
       "    <td style=\"padding: 0 0.5em 0 0.5em; text-align: left; border: none;\">\n",
       "        dumb\n",
       "    </td>\n",
       "    \n",
       "</tr>\n",
       "        \n",
       "            <tr style=\"background-color: hsl(120, 100.00%, 90.39%); border: none;\">\n",
       "    <td style=\"padding: 0 1em 0 0.5em; text-align: right; border: none;\">\n",
       "        +6.307\n",
       "    </td>\n",
       "    <td style=\"padding: 0 0.5em 0 0.5em; text-align: left; border: none;\">\n",
       "        jerk\n",
       "    </td>\n",
       "    \n",
       "</tr>\n",
       "        \n",
       "            <tr style=\"background-color: hsl(120, 100.00%, 90.58%); border: none;\">\n",
       "    <td style=\"padding: 0 1em 0 0.5em; text-align: right; border: none;\">\n",
       "        +6.127\n",
       "    </td>\n",
       "    <td style=\"padding: 0 0.5em 0 0.5em; text-align: left; border: none;\">\n",
       "        loser\n",
       "    </td>\n",
       "    \n",
       "</tr>\n",
       "        \n",
       "            <tr style=\"background-color: hsl(120, 100.00%, 90.65%); border: none;\">\n",
       "    <td style=\"padding: 0 1em 0 0.5em; text-align: right; border: none;\">\n",
       "        +6.063\n",
       "    </td>\n",
       "    <td style=\"padding: 0 0.5em 0 0.5em; text-align: left; border: none;\">\n",
       "        nigger\n",
       "    </td>\n",
       "    \n",
       "</tr>\n",
       "        \n",
       "            <tr style=\"background-color: hsl(120, 100.00%, 90.82%); border: none;\">\n",
       "    <td style=\"padding: 0 1em 0 0.5em; text-align: right; border: none;\">\n",
       "        +5.901\n",
       "    </td>\n",
       "    <td style=\"padding: 0 0.5em 0 0.5em; text-align: left; border: none;\">\n",
       "        idiotic\n",
       "    </td>\n",
       "    \n",
       "</tr>\n",
       "        \n",
       "            <tr style=\"background-color: hsl(120, 100.00%, 90.90%); border: none;\">\n",
       "    <td style=\"padding: 0 1em 0 0.5em; text-align: right; border: none;\">\n",
       "        +5.832\n",
       "    </td>\n",
       "    <td style=\"padding: 0 0.5em 0 0.5em; text-align: left; border: none;\">\n",
       "        gay\n",
       "    </td>\n",
       "    \n",
       "</tr>\n",
       "        \n",
       "            <tr style=\"background-color: hsl(120, 100.00%, 90.90%); border: none;\">\n",
       "    <td style=\"padding: 0 1em 0 0.5em; text-align: right; border: none;\">\n",
       "        +5.827\n",
       "    </td>\n",
       "    <td style=\"padding: 0 0.5em 0 0.5em; text-align: left; border: none;\">\n",
       "        fucker\n",
       "    </td>\n",
       "    \n",
       "</tr>\n",
       "        \n",
       "            <tr style=\"background-color: hsl(120, 100.00%, 90.99%); border: none;\">\n",
       "    <td style=\"padding: 0 1em 0 0.5em; text-align: right; border: none;\">\n",
       "        +5.749\n",
       "    </td>\n",
       "    <td style=\"padding: 0 0.5em 0 0.5em; text-align: left; border: none;\">\n",
       "        retard\n",
       "    </td>\n",
       "    \n",
       "</tr>\n",
       "        \n",
       "            <tr style=\"background-color: hsl(120, 100.00%, 91.11%); border: none;\">\n",
       "    <td style=\"padding: 0 1em 0 0.5em; text-align: right; border: none;\">\n",
       "        +5.639\n",
       "    </td>\n",
       "    <td style=\"padding: 0 0.5em 0 0.5em; text-align: left; border: none;\">\n",
       "        shut\n",
       "    </td>\n",
       "    \n",
       "</tr>\n",
       "        \n",
       "            <tr style=\"background-color: hsl(120, 100.00%, 91.26%); border: none;\">\n",
       "    <td style=\"padding: 0 1em 0 0.5em; text-align: right; border: none;\">\n",
       "        +5.501\n",
       "    </td>\n",
       "    <td style=\"padding: 0 0.5em 0 0.5em; text-align: left; border: none;\">\n",
       "        fag\n",
       "    </td>\n",
       "    \n",
       "</tr>\n",
       "        \n",
       "            <tr style=\"background-color: hsl(120, 100.00%, 91.31%); border: none;\">\n",
       "    <td style=\"padding: 0 1em 0 0.5em; text-align: right; border: none;\">\n",
       "        +5.457\n",
       "    </td>\n",
       "    <td style=\"padding: 0 0.5em 0 0.5em; text-align: left; border: none;\">\n",
       "        cock\n",
       "    </td>\n",
       "    \n",
       "</tr>\n",
       "        \n",
       "            <tr style=\"background-color: hsl(120, 100.00%, 91.52%); border: none;\">\n",
       "    <td style=\"padding: 0 1em 0 0.5em; text-align: right; border: none;\">\n",
       "        +5.274\n",
       "    </td>\n",
       "    <td style=\"padding: 0 0.5em 0 0.5em; text-align: left; border: none;\">\n",
       "        ignorant\n",
       "    </td>\n",
       "    \n",
       "</tr>\n",
       "        \n",
       "            <tr style=\"background-color: hsl(120, 100.00%, 91.71%); border: none;\">\n",
       "    <td style=\"padding: 0 1em 0 0.5em; text-align: right; border: none;\">\n",
       "        +5.102\n",
       "    </td>\n",
       "    <td style=\"padding: 0 0.5em 0 0.5em; text-align: left; border: none;\">\n",
       "        piss\n",
       "    </td>\n",
       "    \n",
       "</tr>\n",
       "        \n",
       "            <tr style=\"background-color: hsl(120, 100.00%, 91.78%); border: none;\">\n",
       "    <td style=\"padding: 0 1em 0 0.5em; text-align: right; border: none;\">\n",
       "        +5.038\n",
       "    </td>\n",
       "    <td style=\"padding: 0 0.5em 0 0.5em; text-align: left; border: none;\">\n",
       "        liar\n",
       "    </td>\n",
       "    \n",
       "</tr>\n",
       "        \n",
       "            <tr style=\"background-color: hsl(120, 100.00%, 91.83%); border: none;\">\n",
       "    <td style=\"padding: 0 1em 0 0.5em; text-align: right; border: none;\">\n",
       "        +5.001\n",
       "    </td>\n",
       "    <td style=\"padding: 0 0.5em 0 0.5em; text-align: left; border: none;\">\n",
       "        dumbass\n",
       "    </td>\n",
       "    \n",
       "</tr>\n",
       "        \n",
       "            <tr style=\"background-color: hsl(120, 100.00%, 91.83%); border: none;\">\n",
       "    <td style=\"padding: 0 1em 0 0.5em; text-align: right; border: none;\">\n",
       "        +4.994\n",
       "    </td>\n",
       "    <td style=\"padding: 0 0.5em 0 0.5em; text-align: left; border: none;\">\n",
       "        wtf\n",
       "    </td>\n",
       "    \n",
       "</tr>\n",
       "        \n",
       "            <tr style=\"background-color: hsl(120, 100.00%, 91.92%); border: none;\">\n",
       "    <td style=\"padding: 0 1em 0 0.5em; text-align: right; border: none;\">\n",
       "        +4.922\n",
       "    </td>\n",
       "    <td style=\"padding: 0 0.5em 0 0.5em; text-align: left; border: none;\">\n",
       "        damn\n",
       "    </td>\n",
       "    \n",
       "</tr>\n",
       "        \n",
       "            <tr style=\"background-color: hsl(120, 100.00%, 91.95%); border: none;\">\n",
       "    <td style=\"padding: 0 1em 0 0.5em; text-align: right; border: none;\">\n",
       "        +4.894\n",
       "    </td>\n",
       "    <td style=\"padding: 0 0.5em 0 0.5em; text-align: left; border: none;\">\n",
       "        motherfucker\n",
       "    </td>\n",
       "    \n",
       "</tr>\n",
       "        \n",
       "            <tr style=\"background-color: hsl(120, 100.00%, 92.11%); border: none;\">\n",
       "    <td style=\"padding: 0 1em 0 0.5em; text-align: right; border: none;\">\n",
       "        +4.754\n",
       "    </td>\n",
       "    <td style=\"padding: 0 0.5em 0 0.5em; text-align: left; border: none;\">\n",
       "        pussy\n",
       "    </td>\n",
       "    \n",
       "</tr>\n",
       "        \n",
       "            <tr style=\"background-color: hsl(120, 100.00%, 92.23%); border: none;\">\n",
       "    <td style=\"padding: 0 1em 0 0.5em; text-align: right; border: none;\">\n",
       "        +4.648\n",
       "    </td>\n",
       "    <td style=\"padding: 0 0.5em 0 0.5em; text-align: left; border: none;\">\n",
       "        dickhead\n",
       "    </td>\n",
       "    \n",
       "</tr>\n",
       "        \n",
       "            <tr style=\"background-color: hsl(120, 100.00%, 92.25%); border: none;\">\n",
       "    <td style=\"padding: 0 1em 0 0.5em; text-align: right; border: none;\">\n",
       "        +4.632\n",
       "    </td>\n",
       "    <td style=\"padding: 0 0.5em 0 0.5em; text-align: left; border: none;\">\n",
       "        hate\n",
       "    </td>\n",
       "    \n",
       "</tr>\n",
       "        \n",
       "            <tr style=\"background-color: hsl(120, 100.00%, 92.30%); border: none;\">\n",
       "    <td style=\"padding: 0 1em 0 0.5em; text-align: right; border: none;\">\n",
       "        +4.596\n",
       "    </td>\n",
       "    <td style=\"padding: 0 0.5em 0 0.5em; text-align: left; border: none;\">\n",
       "        fool\n",
       "    </td>\n",
       "    \n",
       "</tr>\n",
       "        \n",
       "            <tr style=\"background-color: hsl(120, 100.00%, 92.31%); border: none;\">\n",
       "    <td style=\"padding: 0 1em 0 0.5em; text-align: right; border: none;\">\n",
       "        +4.580\n",
       "    </td>\n",
       "    <td style=\"padding: 0 0.5em 0 0.5em; text-align: left; border: none;\">\n",
       "        racist\n",
       "    </td>\n",
       "    \n",
       "</tr>\n",
       "        \n",
       "            <tr style=\"background-color: hsl(120, 100.00%, 92.32%); border: none;\">\n",
       "    <td style=\"padding: 0 1em 0 0.5em; text-align: right; border: none;\">\n",
       "        +4.578\n",
       "    </td>\n",
       "    <td style=\"padding: 0 0.5em 0 0.5em; text-align: left; border: none;\">\n",
       "        kill\n",
       "    </td>\n",
       "    \n",
       "</tr>\n",
       "        \n",
       "            <tr style=\"background-color: hsl(120, 100.00%, 92.39%); border: none;\">\n",
       "    <td style=\"padding: 0 1em 0 0.5em; text-align: right; border: none;\">\n",
       "        +4.518\n",
       "    </td>\n",
       "    <td style=\"padding: 0 0.5em 0 0.5em; text-align: left; border: none;\">\n",
       "        nazi\n",
       "    </td>\n",
       "    \n",
       "</tr>\n",
       "        \n",
       "            <tr style=\"background-color: hsl(120, 100.00%, 92.40%); border: none;\">\n",
       "    <td style=\"padding: 0 1em 0 0.5em; text-align: right; border: none;\">\n",
       "        +4.507\n",
       "    </td>\n",
       "    <td style=\"padding: 0 0.5em 0 0.5em; text-align: left; border: none;\">\n",
       "        sex\n",
       "    </td>\n",
       "    \n",
       "</tr>\n",
       "        \n",
       "            <tr style=\"background-color: hsl(120, 100.00%, 92.42%); border: none;\">\n",
       "    <td style=\"padding: 0 1em 0 0.5em; text-align: right; border: none;\">\n",
       "        +4.488\n",
       "    </td>\n",
       "    <td style=\"padding: 0 0.5em 0 0.5em; text-align: left; border: none;\">\n",
       "        fat\n",
       "    </td>\n",
       "    \n",
       "</tr>\n",
       "        \n",
       "            <tr style=\"background-color: hsl(120, 100.00%, 92.55%); border: none;\">\n",
       "    <td style=\"padding: 0 1em 0 0.5em; text-align: right; border: none;\">\n",
       "        +4.382\n",
       "    </td>\n",
       "    <td style=\"padding: 0 0.5em 0 0.5em; text-align: left; border: none;\">\n",
       "        homosexual\n",
       "    </td>\n",
       "    \n",
       "</tr>\n",
       "        \n",
       "            <tr style=\"background-color: hsl(120, 100.00%, 92.58%); border: none;\">\n",
       "    <td style=\"padding: 0 1em 0 0.5em; text-align: right; border: none;\">\n",
       "        +4.357\n",
       "    </td>\n",
       "    <td style=\"padding: 0 0.5em 0 0.5em; text-align: left; border: none;\">\n",
       "        die\n",
       "    </td>\n",
       "    \n",
       "</tr>\n",
       "        \n",
       "            <tr style=\"background-color: hsl(120, 100.00%, 92.65%); border: none;\">\n",
       "    <td style=\"padding: 0 1em 0 0.5em; text-align: right; border: none;\">\n",
       "        +4.298\n",
       "    </td>\n",
       "    <td style=\"padding: 0 0.5em 0 0.5em; text-align: left; border: none;\">\n",
       "        ridiculous\n",
       "    </td>\n",
       "    \n",
       "</tr>\n",
       "        \n",
       "        \n",
       "            <tr style=\"background-color: hsl(120, 100.00%, 92.65%); border: none;\">\n",
       "                <td colspan=\"2\" style=\"padding: 0 0.5em 0 0.5em; text-align: center; border: none; white-space: nowrap;\">\n",
       "                    <i>&hellip; 19554 more positive &hellip;</i>\n",
       "                </td>\n",
       "            </tr>\n",
       "        \n",
       "\n",
       "        \n",
       "            <tr style=\"background-color: hsl(0, 100.00%, 91.36%); border: none;\">\n",
       "                <td colspan=\"2\" style=\"padding: 0 0.5em 0 0.5em; text-align: center; border: none; white-space: nowrap;\">\n",
       "                    <i>&hellip; 149202 more negative &hellip;</i>\n",
       "                </td>\n",
       "            </tr>\n",
       "        \n",
       "        \n",
       "            <tr style=\"background-color: hsl(0, 100.00%, 91.36%); border: none;\">\n",
       "    <td style=\"padding: 0 1em 0 0.5em; text-align: right; border: none;\">\n",
       "        -5.417\n",
       "    </td>\n",
       "    <td style=\"padding: 0 0.5em 0 0.5em; text-align: left; border: none;\">\n",
       "        thank\n",
       "    </td>\n",
       "    \n",
       "</tr>\n",
       "        \n",
       "\n",
       "        </tbody>\n",
       "    </table>\n",
       "\n",
       "            \n",
       "        \n",
       "\n",
       "        \n",
       "\n",
       "\n",
       "\n",
       "    \n",
       "\n",
       "    \n",
       "\n",
       "    \n",
       "\n",
       "    \n",
       "\n",
       "\n",
       "    \n",
       "\n",
       "    \n",
       "\n",
       "    \n",
       "\n",
       "    \n",
       "\n",
       "    \n",
       "\n",
       "    \n",
       "\n",
       "\n",
       "    \n",
       "\n",
       "    \n",
       "\n",
       "    \n",
       "\n",
       "    \n",
       "\n",
       "    \n",
       "\n",
       "    \n",
       "\n",
       "\n",
       "\n"
      ],
      "text/plain": [
       "<IPython.core.display.HTML object>"
      ]
     },
     "execution_count": 56,
     "metadata": {},
     "output_type": "execute_result"
    }
   ],
   "source": [
    "eli5.show_weights(pipe, top=50)"
   ]
  },
  {
   "cell_type": "markdown",
   "metadata": {},
   "source": [
    "Попробуем улучшить результат настраивая гиперпараметр поиском по сетке."
   ]
  },
  {
   "cell_type": "code",
   "execution_count": 85,
   "metadata": {},
   "outputs": [],
   "source": [
    "pipe = Pipeline([\n",
    "    ('vectorizer', TfidfVectorizer(ngram_range=(1, 1))),\n",
    "    ('model', LogisticRegression(random_state=0, solver='liblinear', max_iter=500)) #lbfgs\n",
    "    ])\n",
    "\n",
    "params = [\n",
    "        {\n",
    "            'vectorizer__ngram_range': [(1, 1), (1, 2), (2, 2)],\n",
    "            'model': [LogisticRegression(random_state=0, solver='liblinear')],\n",
    "            'model__C': [1, 10, 50, 100, 200]\n",
    "        }\n",
    "]"
   ]
  },
  {
   "cell_type": "code",
   "execution_count": 86,
   "metadata": {},
   "outputs": [],
   "source": [
    "cv = StratifiedKFold(n_splits=3, shuffle=True, random_state=0)\n",
    "\n",
    "grid = GridSearchCV(pipe, param_grid=params, scoring='f1', cv=cv, verbose=False)"
   ]
  },
  {
   "cell_type": "code",
   "execution_count": 87,
   "metadata": {
    "scrolled": true
   },
   "outputs": [
    {
     "name": "stdout",
     "output_type": "stream",
     "text": [
      "CPU times: user 13min 39s, sys: 5min 16s, total: 18min 55s\n",
      "Wall time: 19min\n"
     ]
    },
    {
     "data": {
      "text/plain": [
       "['grid_nlp']"
      ]
     },
     "execution_count": 87,
     "metadata": {},
     "output_type": "execute_result"
    }
   ],
   "source": [
    "%%time\n",
    "grid.fit(X_train_valid['text_lemma'], y_train_valid)\n",
    "dump(grid, GRID_FILE);"
   ]
  },
  {
   "cell_type": "code",
   "execution_count": 88,
   "metadata": {
    "scrolled": true
   },
   "outputs": [
    {
     "data": {
      "text/plain": [
       "({'model': LogisticRegression(C=200, random_state=21, solver='liblinear'),\n",
       "  'model__C': 200,\n",
       "  'vectorizer__ngram_range': (1, 2)},\n",
       " 0.7687022754211812)"
      ]
     },
     "execution_count": 88,
     "metadata": {},
     "output_type": "execute_result"
    }
   ],
   "source": [
    "grid = load(GRID_FILE)\n",
    "grid.best_params_, grid.best_score_"
   ]
  },
  {
   "cell_type": "code",
   "execution_count": 90,
   "metadata": {
    "scrolled": true
   },
   "outputs": [
    {
     "data": {
      "text/plain": [
       "0.7729468599033816"
      ]
     },
     "execution_count": 90,
     "metadata": {},
     "output_type": "execute_result"
    }
   ],
   "source": [
    "model = grid.best_estimator_\n",
    "\n",
    "model.fit(X_train_valid['clean_text'], y_train_valid)\n",
    "\n",
    "y_valid_pred = model.predict(X_valid['clean_text'])\n",
    "\n",
    "f1_score(y_valid, y_valid_pred)"
   ]
  },
  {
   "cell_type": "markdown",
   "metadata": {},
   "source": [
    "## Выводы"
   ]
  },
  {
   "cell_type": "markdown",
   "metadata": {},
   "source": [
    "Tf-idf и логистическая регрессия, с подбором гиперпараметров через GridSearchCV справились с поставленной задачей показав F1 метрику **0.772**"
   ]
  }
 ],
 "metadata": {
  "ExecuteTimeLog": [
   {
    "duration": 394,
    "start_time": "2022-07-05T15:36:30.660Z"
   },
   {
    "duration": 2690,
    "start_time": "2022-07-05T15:36:59.744Z"
   },
   {
    "duration": 15,
    "start_time": "2022-07-05T15:37:04.253Z"
   },
   {
    "duration": 720,
    "start_time": "2022-07-05T15:37:18.971Z"
   },
   {
    "duration": 130,
    "start_time": "2022-07-05T15:37:34.319Z"
   },
   {
    "duration": 130,
    "start_time": "2022-07-05T15:37:41.049Z"
   },
   {
    "duration": 5,
    "start_time": "2022-07-05T15:37:58.907Z"
   },
   {
    "duration": 143,
    "start_time": "2022-07-05T15:38:04.332Z"
   },
   {
    "duration": 50353,
    "start_time": "2022-07-05T15:39:12.326Z"
   },
   {
    "duration": 799,
    "start_time": "2022-07-05T15:40:04.244Z"
   },
   {
    "duration": 34,
    "start_time": "2022-07-05T15:40:15.893Z"
   },
   {
    "duration": 299,
    "start_time": "2022-07-05T15:40:33.155Z"
   },
   {
    "duration": 215,
    "start_time": "2022-07-05T15:40:38.070Z"
   },
   {
    "duration": 225,
    "start_time": "2022-07-05T15:40:57.210Z"
   },
   {
    "duration": 140,
    "start_time": "2022-07-05T15:41:45.589Z"
   },
   {
    "duration": 190,
    "start_time": "2022-07-05T15:41:52.842Z"
   },
   {
    "duration": 149,
    "start_time": "2022-07-05T15:41:53.036Z"
   },
   {
    "duration": 20,
    "start_time": "2022-07-05T15:42:14.098Z"
   },
   {
    "duration": 16,
    "start_time": "2022-07-05T15:42:16.957Z"
   },
   {
    "duration": 14,
    "start_time": "2022-07-05T15:42:21.185Z"
   },
   {
    "duration": 160,
    "start_time": "2022-07-05T15:42:54.743Z"
   },
   {
    "duration": 58091,
    "start_time": "2022-07-06T10:07:38.161Z"
   },
   {
    "duration": 0,
    "start_time": "2022-07-06T10:08:36.254Z"
   },
   {
    "duration": 0,
    "start_time": "2022-07-06T10:08:36.256Z"
   },
   {
    "duration": 0,
    "start_time": "2022-07-06T10:08:36.257Z"
   },
   {
    "duration": 0,
    "start_time": "2022-07-06T10:08:36.258Z"
   },
   {
    "duration": 0,
    "start_time": "2022-07-06T10:08:36.259Z"
   },
   {
    "duration": 63512,
    "start_time": "2022-07-06T10:08:45.698Z"
   },
   {
    "duration": 2698,
    "start_time": "2022-07-06T10:09:49.212Z"
   },
   {
    "duration": 35,
    "start_time": "2022-07-06T10:09:51.915Z"
   },
   {
    "duration": 54,
    "start_time": "2022-07-06T10:09:51.955Z"
   },
   {
    "duration": 264,
    "start_time": "2022-07-06T10:09:52.012Z"
   },
   {
    "duration": 266,
    "start_time": "2022-07-06T10:09:52.278Z"
   },
   {
    "duration": 346,
    "start_time": "2022-07-06T10:19:28.564Z"
   },
   {
    "duration": 69,
    "start_time": "2022-07-06T10:19:36.072Z"
   },
   {
    "duration": 96,
    "start_time": "2022-07-06T10:22:44.857Z"
   },
   {
    "duration": 3,
    "start_time": "2022-07-06T10:22:49.993Z"
   },
   {
    "duration": 33,
    "start_time": "2022-07-06T10:23:56.810Z"
   },
   {
    "duration": 10,
    "start_time": "2022-07-06T10:23:59.801Z"
   },
   {
    "duration": 7,
    "start_time": "2022-07-06T10:24:04.993Z"
   },
   {
    "duration": 291,
    "start_time": "2022-07-06T10:25:22.054Z"
   },
   {
    "duration": 5,
    "start_time": "2022-07-06T10:42:10.919Z"
   },
   {
    "duration": 35,
    "start_time": "2022-07-06T10:42:41.249Z"
   },
   {
    "duration": 36,
    "start_time": "2022-07-06T10:42:56.075Z"
   },
   {
    "duration": 17,
    "start_time": "2022-07-06T10:42:59.916Z"
   },
   {
    "duration": 6,
    "start_time": "2022-07-06T10:43:09.355Z"
   },
   {
    "duration": 11,
    "start_time": "2022-07-06T10:43:28.293Z"
   },
   {
    "duration": 28,
    "start_time": "2022-07-06T10:43:34.028Z"
   },
   {
    "duration": 3067,
    "start_time": "2022-07-06T10:44:06.752Z"
   },
   {
    "duration": 39,
    "start_time": "2022-07-06T10:44:22.245Z"
   },
   {
    "duration": 17,
    "start_time": "2022-07-06T10:44:27.743Z"
   },
   {
    "duration": 22,
    "start_time": "2022-07-06T10:46:01.341Z"
   },
   {
    "duration": 765,
    "start_time": "2022-07-06T10:46:28.893Z"
   },
   {
    "duration": 4700,
    "start_time": "2022-07-06T10:46:45.185Z"
   },
   {
    "duration": 213,
    "start_time": "2022-07-06T10:46:56.383Z"
   },
   {
    "duration": 587,
    "start_time": "2022-07-06T10:47:03.144Z"
   },
   {
    "duration": 6,
    "start_time": "2022-07-06T10:47:24.248Z"
   },
   {
    "duration": 40,
    "start_time": "2022-07-06T10:47:32.642Z"
   },
   {
    "duration": 985,
    "start_time": "2022-07-06T10:47:37.713Z"
   },
   {
    "duration": 2572400,
    "start_time": "2022-07-06T10:47:49.151Z"
   },
   {
    "duration": 7824,
    "start_time": "2022-07-06T11:30:41.553Z"
   },
   {
    "duration": 67,
    "start_time": "2022-07-06T11:36:23.496Z"
   },
   {
    "duration": 7282,
    "start_time": "2022-07-06T11:37:12.796Z"
   },
   {
    "duration": 17,
    "start_time": "2022-07-06T11:37:24.692Z"
   },
   {
    "duration": 13,
    "start_time": "2022-07-06T11:41:12.360Z"
   },
   {
    "duration": 13,
    "start_time": "2022-07-06T11:41:16.156Z"
   },
   {
    "duration": 10,
    "start_time": "2022-07-06T11:41:32.707Z"
   },
   {
    "duration": 82,
    "start_time": "2022-07-06T11:41:45.203Z"
   },
   {
    "duration": 3,
    "start_time": "2022-07-06T11:41:56.636Z"
   },
   {
    "duration": 17,
    "start_time": "2022-07-06T11:41:57.191Z"
   },
   {
    "duration": 250,
    "start_time": "2022-07-06T11:41:58.097Z"
   },
   {
    "duration": 12,
    "start_time": "2022-07-06T11:42:05.259Z"
   },
   {
    "duration": 7,
    "start_time": "2022-07-06T11:42:17.373Z"
   },
   {
    "duration": 101,
    "start_time": "2022-07-06T11:44:02.875Z"
   },
   {
    "duration": 3,
    "start_time": "2022-07-06T11:44:03.585Z"
   },
   {
    "duration": 26,
    "start_time": "2022-07-06T11:44:04.031Z"
   },
   {
    "duration": 337,
    "start_time": "2022-07-06T11:44:04.532Z"
   },
   {
    "duration": 14,
    "start_time": "2022-07-06T11:44:09.992Z"
   },
   {
    "duration": 4,
    "start_time": "2022-07-06T11:48:44.013Z"
   },
   {
    "duration": 992,
    "start_time": "2022-07-06T11:49:44.234Z"
   },
   {
    "duration": 12,
    "start_time": "2022-07-06T11:49:55.544Z"
   },
   {
    "duration": 36739,
    "start_time": "2022-07-06T11:50:00.298Z"
   },
   {
    "duration": 252,
    "start_time": "2022-07-06T11:50:37.039Z"
   },
   {
    "duration": 22,
    "start_time": "2022-07-06T11:53:18.296Z"
   },
   {
    "duration": 4,
    "start_time": "2022-07-06T11:53:29.973Z"
   },
   {
    "duration": 244327,
    "start_time": "2022-07-06T11:53:57.075Z"
   },
   {
    "duration": 247,
    "start_time": "2022-07-06T11:58:01.404Z"
   },
   {
    "duration": 0,
    "start_time": "2022-07-06T11:58:01.653Z"
   },
   {
    "duration": 105552,
    "start_time": "2022-07-06T11:58:04.332Z"
   },
   {
    "duration": 244,
    "start_time": "2022-07-06T11:59:51.238Z"
   },
   {
    "duration": 71,
    "start_time": "2022-07-06T12:01:51.873Z"
   },
   {
    "duration": 13947,
    "start_time": "2022-07-06T12:01:59.128Z"
   },
   {
    "duration": 83,
    "start_time": "2022-07-06T12:02:25.438Z"
   },
   {
    "duration": 113458,
    "start_time": "2022-07-06T12:03:47.864Z"
   },
   {
    "duration": 3,
    "start_time": "2022-07-06T12:05:41.324Z"
   },
   {
    "duration": 10935,
    "start_time": "2022-07-06T12:05:43.332Z"
   },
   {
    "duration": 22313,
    "start_time": "2022-07-06T12:05:55.830Z"
   },
   {
    "duration": 216686,
    "start_time": "2022-07-06T12:06:20.616Z"
   },
   {
    "duration": 88,
    "start_time": "2022-07-06T12:09:57.304Z"
   },
   {
    "duration": 0,
    "start_time": "2022-07-06T12:09:57.396Z"
   },
   {
    "duration": 62,
    "start_time": "2022-07-06T12:09:58.609Z"
   },
   {
    "duration": 124,
    "start_time": "2022-07-06T12:10:02.190Z"
   },
   {
    "duration": 1358359,
    "start_time": "2022-07-06T12:10:35.227Z"
   },
   {
    "duration": 7995,
    "start_time": "2022-07-06T12:33:13.588Z"
   },
   {
    "duration": 1005,
    "start_time": "2022-07-06T12:33:21.584Z"
   },
   {
    "duration": 6776,
    "start_time": "2022-07-06T12:52:48.194Z"
   },
   {
    "duration": 1023,
    "start_time": "2022-07-06T12:52:54.972Z"
   },
   {
    "duration": 69645,
    "start_time": "2022-07-06T12:53:04.799Z"
   },
   {
    "duration": 12,
    "start_time": "2022-07-06T12:54:27.082Z"
   },
   {
    "duration": 88649,
    "start_time": "2022-07-06T12:54:36.356Z"
   },
   {
    "duration": 107,
    "start_time": "2022-07-06T13:15:25.574Z"
   },
   {
    "duration": 1165,
    "start_time": "2022-07-06T13:16:23.035Z"
   },
   {
    "duration": 28352,
    "start_time": "2022-07-06T13:16:32.964Z"
   },
   {
    "duration": 22,
    "start_time": "2022-07-06T13:17:53.461Z"
   },
   {
    "duration": 3,
    "start_time": "2022-07-06T13:17:54.196Z"
   },
   {
    "duration": 1140541,
    "start_time": "2022-07-06T13:18:32.875Z"
   },
   {
    "duration": 6848,
    "start_time": "2022-07-06T13:37:33.419Z"
   },
   {
    "duration": 1113,
    "start_time": "2022-07-06T13:37:40.269Z"
   },
   {
    "duration": 67079,
    "start_time": "2022-07-06T13:37:53.681Z"
   },
   {
    "duration": 91,
    "start_time": "2022-07-06T16:04:49.457Z"
   }
  ],
  "kernelspec": {
   "display_name": "Python 3 (ipykernel)",
   "language": "python",
   "name": "python3"
  },
  "language_info": {
   "codemirror_mode": {
    "name": "ipython",
    "version": 3
   },
   "file_extension": ".py",
   "mimetype": "text/x-python",
   "name": "python",
   "nbconvert_exporter": "python",
   "pygments_lexer": "ipython3",
   "version": "3.10.1"
  },
  "toc": {
   "base_numbering": 1,
   "nav_menu": {},
   "number_sections": true,
   "sideBar": true,
   "skip_h1_title": true,
   "title_cell": "Содержание",
   "title_sidebar": "Contents",
   "toc_cell": true,
   "toc_position": {
    "height": "calc(100% - 180px)",
    "left": "10px",
    "top": "150px",
    "width": "302.391px"
   },
   "toc_section_display": true,
   "toc_window_display": true
  }
 },
 "nbformat": 4,
 "nbformat_minor": 2
}
