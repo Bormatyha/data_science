{
 "cells": [
  {
   "cell_type": "markdown",
   "metadata": {
    "id": "1AR3cHEhQI_e"
   },
   "source": [
    "# Определение перспективного тарифа для телеком-компании"
   ]
  },
  {
   "cell_type": "markdown",
   "metadata": {
    "id": "0snnJAwRQI_m"
   },
   "source": [
    "## Описание проекта: \n",
    "\n",
    "Вы аналитик компании «Мегалайн» — федерального оператора сотовой связи. Клиентам предлагают два тарифных плана: «Смарт» и «Ультра». Чтобы скорректировать рекламный бюджет, коммерческий департамент хочет понять, какой тариф приносит больше денег.\n",
    "Вам предстоит сделать предварительный анализ тарифов на небольшой выборке клиентов. В вашем распоряжении данные 500 пользователей «Мегалайна»: кто они, откуда, каким тарифом пользуются, сколько звонков и сообщений каждый отправил за 2018 год. Нужно проанализировать поведение клиентов и сделать вывод — какой тариф лучше."
   ]
  },
  {
   "cell_type": "markdown",
   "metadata": {
    "id": "v7VHFEmiQI_o"
   },
   "source": [
    "<font size=\"4\"><b>Описание тарифов</b></font><br/><br/>\n",
    "<b>Тариф <font color=#0F74F1><b>Смарт</b></font></b>:\n",
    "* 1. Ежемесячная плата: 550 рублей\n",
    "* 2. Включено 500 минут разговора, 50 сообщений и 15 Гб интернет-трафика\n",
    "* 3. Стоимость услуг сверх тарифного пакета:\n",
    "    - минута разговора: 3 рубля\n",
    "    - сообщение: 3 рубля\n",
    "    - 1 Гб интернет-трафика: 200 рублей\n",
    "\n",
    "<b>Тариф <font color=#20B605><b>Ультра</b></font></b>:\n",
    "* 1. Ежемесячная плата: 1950 рублей\n",
    "* 2. Включено 3000 минут разговора, 1000 сообщений и 30 Гб интернет-трафика\n",
    "* 3. Стоимость услуг сверх тарифного пакета:\n",
    "    - минута разговора: 1 рубль\n",
    "    - сообщение: 1 рубль\n",
    "    - 1 Гб интернет-трафика: 150 рублей\n",
    "<br/>\n",
    "\n",
    "\n",
    "<font size=\"2\">  \n",
    "Примечание:\n",
    "«Мегалайн» всегда округляет секунды до минут, а мегабайты — до гигабайт. Каждый звонок округляется отдельно: даже если он длился всего 1 секунду, будет засчитан как 1 минута.\n",
    "Для веб-трафика отдельные сессии не считаются. Вместо этого общая сумма за месяц округляется в бо́льшую сторону. Если абонент использует 1025 мегабайт в этом месяце, с него возьмут плату за 2 гигабайта.\n",
    "</font>"
   ]
  },
  {
   "cell_type": "markdown",
   "metadata": {
    "id": "hdsrS1HnQI_p"
   },
   "source": [
    "<font size=\"4\"><b>Описание данных</b></font><br/>\n",
    "\n",
    "Таблица <font size=\"3\"><b>users</b></font> (информация о пользователях):\n",
    "* <b>user_id</b> — уникальный идентификатор пользователя\n",
    "* <b>first_name</b> — имя пользователя\n",
    "* <b>last_name</b> — фамилия пользователя\n",
    "* <b>age</b> — возраст пользователя (годы)\n",
    "* <b>reg_date</b> — дата подключения тарифа (день, месяц, год)\n",
    "* <b>churn_date</b> — дата прекращения пользования тарифом (если значение пропущено, то тариф ещё действовал на момент выгрузки данных)\n",
    "* <b>city</b> — город проживания пользователя\n",
    "* <b>tariff</b> — название тарифного плана\n",
    "\n",
    "Таблица <font size=\"3\"><b>calls</b></font> (информация о звонках):\n",
    "* <b>id</b> — уникальный номер звонка\n",
    "* <b>call_date</b> — дата звонка\n",
    "* <b>duration</b> — длительность звонка в минутах\n",
    "* <b>user_id</b> — идентификатор пользователя, сделавшего звонок\n",
    "\n",
    "Таблица <font size=\"3\"><b>messages</b></font> (информация о сообщениях):\n",
    "* <b>id</b> — уникальный номер сообщения\n",
    "* <b>message_date</b> — дата сообщения\n",
    "* <b>user_id</b> — идентификатор пользователя, отправившего сообщение\n",
    "\n",
    "Таблица <font size=\"3\"><b>internet</b></font> (информация об интернет-сессиях):\n",
    "* <b>id</b> — уникальный номер сессии\n",
    "* <b>mb_used</b> — объём потраченного за сессию интернет-трафика (в мегабайтах)\n",
    "* <b>session_date</b> — дата интернет-сессии\n",
    "* <b>user_id</b> — идентификатор пользователя\n",
    "\n",
    "Таблица <font size=\"3\"><b>tariffs</b></font> (информация о тарифах):\n",
    "* <b>tariff_name</b> — название тарифа\n",
    "* <b>rub_monthly_fee</b> — ежемесячная абонентская плата в рублях\n",
    "* <b>minutes_included</b> — количество минут разговора в месяц, включённых в абонентскую плату\n",
    "* <b>messages_included</b> — количество сообщений в месяц, включённых в абонентскую плату\n",
    "* <b>mb_per_month_included</b> — объём интернет-трафика, включённого в абонентскую плату (в мегабайтах)\n",
    "* <b>rub_per_minute</b> — стоимость минуты разговора сверх тарифного пакета (например, если в тарифе 100 минут разговора в месяц, то со 101 минуты будет взиматься плата)\n",
    "* <b>rub_per_message</b> — стоимость отправки сообщения сверх тарифного пакета\n",
    "* <b>rub_per_gb</b> — стоимость дополнительного гигабайта интернет-трафика сверх тарифного пакета (1 гигабайт = 1024 мегабайта)"
   ]
  },
  {
   "cell_type": "markdown",
   "metadata": {
    "id": "L6p7DzWjCCkM"
   },
   "source": [
    "# Новый раздел"
   ]
  },
  {
   "cell_type": "code",
   "execution_count": 1,
   "metadata": {
    "id": "NCvGEFKuQI_s"
   },
   "outputs": [],
   "source": [
    "import pandas as pd \n",
    "import numpy as np \n",
    "import matplotlib.pyplot as plt \n",
    "from scipy import stats as st"
   ]
  },
  {
   "cell_type": "markdown",
   "metadata": {
    "id": "XoM6e5nuQI_v"
   },
   "source": [
    " ## Ознакомление с данными:"
   ]
  },
  {
   "cell_type": "code",
   "execution_count": 2,
   "metadata": {
    "id": "zAC3zvYKQI_w"
   },
   "outputs": [],
   "source": [
    "users = pd.read_csv('/datasets/users.csv')\n",
    "calls = pd.read_csv('/datasets/calls.csv')\n",
    "messages = pd.read_csv('/datasets/messages.csv')\n",
    "internet = pd.read_csv('/datasets/internet.csv')\n",
    "tariffs = pd.read_csv('/datasets/tariffs.csv') "
   ]
  },
  {
   "cell_type": "markdown",
   "metadata": {
    "id": "oIgJlAiUQI_w"
   },
   "source": [
    "### Просмотрим общиую информацию в таблицах и почистим данные."
   ]
  },
  {
   "cell_type": "code",
   "execution_count": 3,
   "metadata": {
    "id": "bk_iaryWQI_x"
   },
   "outputs": [],
   "source": [
    "def info_df(i): # Напишу коротенькую функцию для вывода предварительной информации о данных.\n",
    "    return i.head(), i.info()"
   ]
  },
  {
   "cell_type": "markdown",
   "metadata": {
    "id": "8A2T8p6jQI_x"
   },
   "source": [
    "#### Users"
   ]
  },
  {
   "cell_type": "code",
   "execution_count": 4,
   "metadata": {
    "colab": {
     "base_uri": "https://localhost:8080/"
    },
    "id": "diSV9TiiQI_y",
    "outputId": "345b3abc-5db3-4068-c229-bbd8d0692f22"
   },
   "outputs": [
    {
     "name": "stdout",
     "output_type": "stream",
     "text": [
      "<class 'pandas.core.frame.DataFrame'>\n",
      "RangeIndex: 500 entries, 0 to 499\n",
      "Data columns (total 8 columns):\n",
      " #   Column      Non-Null Count  Dtype \n",
      "---  ------      --------------  ----- \n",
      " 0   user_id     500 non-null    int64 \n",
      " 1   age         500 non-null    int64 \n",
      " 2   churn_date  38 non-null     object\n",
      " 3   city        500 non-null    object\n",
      " 4   first_name  500 non-null    object\n",
      " 5   last_name   500 non-null    object\n",
      " 6   reg_date    500 non-null    object\n",
      " 7   tariff      500 non-null    object\n",
      "dtypes: int64(2), object(6)\n",
      "memory usage: 31.4+ KB\n"
     ]
    },
    {
     "data": {
      "text/plain": [
       "(   user_id  age churn_date         city first_name  last_name    reg_date  \\\n",
       " 0     1000   52        NaN    Краснодар     Рафаил  Верещагин  2018-05-25   \n",
       " 1     1001   41        NaN       Москва       Иван       Ежов  2018-11-01   \n",
       " 2     1002   59        NaN  Стерлитамак    Евгений  Абрамович  2018-06-17   \n",
       " 3     1003   23        NaN       Москва      Белла   Белякова  2018-08-17   \n",
       " 4     1004   68        NaN  Новокузнецк    Татьяна   Авдеенко  2018-05-14   \n",
       " \n",
       "   tariff  \n",
       " 0  ultra  \n",
       " 1  smart  \n",
       " 2  smart  \n",
       " 3  ultra  \n",
       " 4  ultra  ,\n",
       " None)"
      ]
     },
     "execution_count": 4,
     "metadata": {},
     "output_type": "execute_result"
    }
   ],
   "source": [
    "info_df(users)"
   ]
  },
  {
   "cell_type": "markdown",
   "metadata": {
    "id": "NHcm1N4ZQI_z"
   },
   "source": [
    "Проверим уникальность:"
   ]
  },
  {
   "cell_type": "code",
   "execution_count": 5,
   "metadata": {
    "colab": {
     "base_uri": "https://localhost:8080/"
    },
    "id": "jHRnfbRUQI_z",
    "outputId": "260a54c9-76a9-4b4c-ab14-191b5928c9ac"
   },
   "outputs": [
    {
     "name": "stdout",
     "output_type": "stream",
     "text": [
      "Количество уникальных строк:  500\n"
     ]
    }
   ],
   "source": [
    "print('Количество уникальных строк: ', users['user_id'].count())"
   ]
  },
  {
   "cell_type": "code",
   "execution_count": 6,
   "metadata": {
    "colab": {
     "base_uri": "https://localhost:8080/"
    },
    "id": "3W8TFQJ-QI_0",
    "outputId": "f2bc4ec8-1926-4192-d2fa-fe8a2040d13b"
   },
   "outputs": [
    {
     "data": {
      "text/plain": [
       "user_id         0\n",
       "age             0\n",
       "churn_date    462\n",
       "city            0\n",
       "first_name      0\n",
       "last_name       0\n",
       "reg_date        0\n",
       "tariff          0\n",
       "dtype: int64"
      ]
     },
     "execution_count": 6,
     "metadata": {},
     "output_type": "execute_result"
    }
   ],
   "source": [
    "users.isna().sum() "
   ]
  },
  {
   "cell_type": "markdown",
   "metadata": {
    "id": "BSPA_qn-QI_0"
   },
   "source": [
    "Значение уникальных строк совпадает с общем количеством строк в датафрейме, делаем вывод что каждый пользователь уникальный.\n",
    "\n",
    "Пропуски присутствуют только в столбце 'churn_date' в методичке есть описание этих пропусков. (если значение пропущено, то тариф ещё действовал на момент выгрузки данных). Оставим этот столбец как есть.\n",
    "\n",
    "В предобработке этой таблицы необходимо заменить столбец 'reg_date' на datetime. "
   ]
  },
  {
   "cell_type": "markdown",
   "metadata": {
    "id": "qF42TsCOQI_0"
   },
   "source": [
    "#### calls"
   ]
  },
  {
   "cell_type": "code",
   "execution_count": 7,
   "metadata": {
    "colab": {
     "base_uri": "https://localhost:8080/"
    },
    "id": "n_PMxP8lQI_1",
    "outputId": "95c01cbc-012b-47b9-9e0a-e53a30086edb"
   },
   "outputs": [
    {
     "name": "stdout",
     "output_type": "stream",
     "text": [
      "<class 'pandas.core.frame.DataFrame'>\n",
      "RangeIndex: 202607 entries, 0 to 202606\n",
      "Data columns (total 4 columns):\n",
      " #   Column     Non-Null Count   Dtype  \n",
      "---  ------     --------------   -----  \n",
      " 0   id         202607 non-null  object \n",
      " 1   call_date  202607 non-null  object \n",
      " 2   duration   202607 non-null  float64\n",
      " 3   user_id    202607 non-null  int64  \n",
      "dtypes: float64(1), int64(1), object(2)\n",
      "memory usage: 6.2+ MB\n"
     ]
    },
    {
     "data": {
      "text/plain": [
       "(       id   call_date  duration  user_id\n",
       " 0  1000_0  2018-07-25      0.00     1000\n",
       " 1  1000_1  2018-08-17      0.00     1000\n",
       " 2  1000_2  2018-06-11      2.85     1000\n",
       " 3  1000_3  2018-09-21     13.80     1000\n",
       " 4  1000_4  2018-12-15      5.18     1000,\n",
       " None)"
      ]
     },
     "execution_count": 7,
     "metadata": {},
     "output_type": "execute_result"
    }
   ],
   "source": [
    "info_df(calls)"
   ]
  },
  {
   "cell_type": "code",
   "execution_count": 8,
   "metadata": {
    "colab": {
     "base_uri": "https://localhost:8080/"
    },
    "id": "JH_LGfWdQI_3",
    "outputId": "675f0c33-b979-4cca-dac5-f74536b0ccfb"
   },
   "outputs": [
    {
     "data": {
      "text/plain": [
       "id           0\n",
       "call_date    0\n",
       "duration     0\n",
       "user_id      0\n",
       "dtype: int64"
      ]
     },
     "execution_count": 8,
     "metadata": {},
     "output_type": "execute_result"
    }
   ],
   "source": [
    "calls.isna().sum()"
   ]
  },
  {
   "cell_type": "code",
   "execution_count": 9,
   "metadata": {
    "colab": {
     "base_uri": "https://localhost:8080/"
    },
    "id": "PH-3L93QQI_3",
    "outputId": "69ab53c6-3ad7-418e-86d5-5bd2c50510de"
   },
   "outputs": [
    {
     "name": "stdout",
     "output_type": "stream",
     "text": [
      "Количество уникальных строк:  202607\n"
     ]
    }
   ],
   "source": [
    "print('Количество уникальных строк: ', calls['id'].count())"
   ]
  },
  {
   "cell_type": "markdown",
   "metadata": {
    "id": "lducXD7aQI_4"
   },
   "source": [
    "Все совпадает. Так же необходимо изменить тип колонки 'call_date' \n",
    "\n",
    "Посмотрим на распределение времени звонков."
   ]
  },
  {
   "cell_type": "code",
   "execution_count": 10,
   "metadata": {
    "colab": {
     "base_uri": "https://localhost:8080/",
     "height": 320
    },
    "id": "0ZwiIvYhQI_4",
    "outputId": "cd25d6bc-7e39-45de-b79a-c4cd35ff6b95"
   },
   "outputs": [
    {
     "data": {
      "image/png": "[encoded data removed]",
      "text/plain": [
       "<Figure size 648x360 with 1 Axes>"
      ]
     },
     "metadata": {
      "needs_background": "light"
     },
     "output_type": "display_data"
    }
   ],
   "source": [
    "calls['duration'].plot(kind='hist',bins =15 ,figsize=(9,5), grid=True);"
   ]
  },
  {
   "cell_type": "markdown",
   "metadata": {
    "id": "PT8jgZ6hQI_5"
   },
   "source": [
    "Очень много около нулевых значений, посмотрим на них, в описании написанно что мегалайн округляет значения звонков в большую сторону («Мегалайн» всегда округляет секунды до минут, а мегабайты — до гигабайт.) Проверим какие есть значения меньше еденицы."
   ]
  },
  {
   "cell_type": "code",
   "execution_count": 11,
   "metadata": {
    "colab": {
     "base_uri": "https://localhost:8080/",
     "height": 419
    },
    "id": "pM7VegqkQI_5",
    "outputId": "b23d281a-4fc3-4702-beb8-0823c9d02632"
   },
   "outputs": [
    {
     "data": {
      "text/html": [
       "<div>\n",
       "<style scoped>\n",
       "    .dataframe tbody tr th:only-of-type {\n",
       "        vertical-align: middle;\n",
       "    }\n",
       "\n",
       "    .dataframe tbody tr th {\n",
       "        vertical-align: top;\n",
       "    }\n",
       "\n",
       "    .dataframe thead th {\n",
       "        text-align: right;\n",
       "    }\n",
       "</style>\n",
       "<table border=\"1\" class=\"dataframe\">\n",
       "  <thead>\n",
       "    <tr style=\"text-align: right;\">\n",
       "      <th></th>\n",
       "      <th>id</th>\n",
       "      <th>call_date</th>\n",
       "      <th>duration</th>\n",
       "      <th>user_id</th>\n",
       "    </tr>\n",
       "  </thead>\n",
       "  <tbody>\n",
       "    <tr>\n",
       "      <th>55</th>\n",
       "      <td>1000_55</td>\n",
       "      <td>2018-09-19</td>\n",
       "      <td>0.31</td>\n",
       "      <td>1000</td>\n",
       "    </tr>\n",
       "    <tr>\n",
       "      <th>65</th>\n",
       "      <td>1000_65</td>\n",
       "      <td>2018-10-28</td>\n",
       "      <td>0.34</td>\n",
       "      <td>1000</td>\n",
       "    </tr>\n",
       "    <tr>\n",
       "      <th>97</th>\n",
       "      <td>1000_97</td>\n",
       "      <td>2018-10-26</td>\n",
       "      <td>0.33</td>\n",
       "      <td>1000</td>\n",
       "    </tr>\n",
       "    <tr>\n",
       "      <th>122</th>\n",
       "      <td>1000_122</td>\n",
       "      <td>2018-10-07</td>\n",
       "      <td>0.13</td>\n",
       "      <td>1000</td>\n",
       "    </tr>\n",
       "    <tr>\n",
       "      <th>135</th>\n",
       "      <td>1000_135</td>\n",
       "      <td>2018-10-25</td>\n",
       "      <td>0.02</td>\n",
       "      <td>1000</td>\n",
       "    </tr>\n",
       "    <tr>\n",
       "      <th>...</th>\n",
       "      <td>...</td>\n",
       "      <td>...</td>\n",
       "      <td>...</td>\n",
       "      <td>...</td>\n",
       "    </tr>\n",
       "    <tr>\n",
       "      <th>202484</th>\n",
       "      <td>1499_97</td>\n",
       "      <td>2018-12-22</td>\n",
       "      <td>0.07</td>\n",
       "      <td>1499</td>\n",
       "    </tr>\n",
       "    <tr>\n",
       "      <th>202537</th>\n",
       "      <td>1499_150</td>\n",
       "      <td>2018-12-09</td>\n",
       "      <td>0.56</td>\n",
       "      <td>1499</td>\n",
       "    </tr>\n",
       "    <tr>\n",
       "      <th>202545</th>\n",
       "      <td>1499_158</td>\n",
       "      <td>2018-11-16</td>\n",
       "      <td>0.64</td>\n",
       "      <td>1499</td>\n",
       "    </tr>\n",
       "    <tr>\n",
       "      <th>202579</th>\n",
       "      <td>1499_192</td>\n",
       "      <td>2018-12-07</td>\n",
       "      <td>0.76</td>\n",
       "      <td>1499</td>\n",
       "    </tr>\n",
       "    <tr>\n",
       "      <th>202602</th>\n",
       "      <td>1499_215</td>\n",
       "      <td>2018-12-26</td>\n",
       "      <td>0.76</td>\n",
       "      <td>1499</td>\n",
       "    </tr>\n",
       "  </tbody>\n",
       "</table>\n",
       "<p>8314 rows × 4 columns</p>\n",
       "</div>"
      ],
      "text/plain": [
       "              id   call_date  duration  user_id\n",
       "55       1000_55  2018-09-19      0.31     1000\n",
       "65       1000_65  2018-10-28      0.34     1000\n",
       "97       1000_97  2018-10-26      0.33     1000\n",
       "122     1000_122  2018-10-07      0.13     1000\n",
       "135     1000_135  2018-10-25      0.02     1000\n",
       "...          ...         ...       ...      ...\n",
       "202484   1499_97  2018-12-22      0.07     1499\n",
       "202537  1499_150  2018-12-09      0.56     1499\n",
       "202545  1499_158  2018-11-16      0.64     1499\n",
       "202579  1499_192  2018-12-07      0.76     1499\n",
       "202602  1499_215  2018-12-26      0.76     1499\n",
       "\n",
       "[8314 rows x 4 columns]"
      ]
     },
     "execution_count": 11,
     "metadata": {},
     "output_type": "execute_result"
    }
   ],
   "source": [
    "calls.query('0 < duration < 1')"
   ]
  },
  {
   "cell_type": "markdown",
   "metadata": {
    "id": "1hTiZZXgQI_5"
   },
   "source": [
    "Данные не округлены, округлим согласно правилу «Мегалайн»"
   ]
  },
  {
   "cell_type": "code",
   "execution_count": 12,
   "metadata": {
    "id": "zO33VruCQI_6"
   },
   "outputs": [],
   "source": [
    "calls['duration'] = calls['duration'].apply(np.ceil)"
   ]
  },
  {
   "cell_type": "code",
   "execution_count": 13,
   "metadata": {
    "colab": {
     "base_uri": "https://localhost:8080/",
     "height": 323
    },
    "id": "M9_IB0IGQI_6",
    "outputId": "a270d89e-a787-4f37-a426-4bac5e1056cd"
   },
   "outputs": [
    {
     "data": {
      "image/png": "[encoded data removed]",
      "text/plain": [
       "<Figure size 648x360 with 1 Axes>"
      ]
     },
     "metadata": {
      "needs_background": "light"
     },
     "output_type": "display_data"
    }
   ],
   "source": [
    "calls['duration'].plot(kind ='hist',bins =15 ,figsize=(9,5), grid=True); # Повторно посмотрим на данные"
   ]
  },
  {
   "cell_type": "code",
   "execution_count": 14,
   "metadata": {
    "colab": {
     "base_uri": "https://localhost:8080/",
     "height": 419
    },
    "id": "IU40DnyoQI_7",
    "outputId": "e9034c02-62e2-4d82-b969-18aeae7a0d4e"
   },
   "outputs": [
    {
     "data": {
      "text/html": [
       "<div>\n",
       "<style scoped>\n",
       "    .dataframe tbody tr th:only-of-type {\n",
       "        vertical-align: middle;\n",
       "    }\n",
       "\n",
       "    .dataframe tbody tr th {\n",
       "        vertical-align: top;\n",
       "    }\n",
       "\n",
       "    .dataframe thead th {\n",
       "        text-align: right;\n",
       "    }\n",
       "</style>\n",
       "<table border=\"1\" class=\"dataframe\">\n",
       "  <thead>\n",
       "    <tr style=\"text-align: right;\">\n",
       "      <th></th>\n",
       "      <th>id</th>\n",
       "      <th>call_date</th>\n",
       "      <th>duration</th>\n",
       "      <th>user_id</th>\n",
       "    </tr>\n",
       "  </thead>\n",
       "  <tbody>\n",
       "    <tr>\n",
       "      <th>0</th>\n",
       "      <td>1000_0</td>\n",
       "      <td>2018-07-25</td>\n",
       "      <td>0.0</td>\n",
       "      <td>1000</td>\n",
       "    </tr>\n",
       "    <tr>\n",
       "      <th>1</th>\n",
       "      <td>1000_1</td>\n",
       "      <td>2018-08-17</td>\n",
       "      <td>0.0</td>\n",
       "      <td>1000</td>\n",
       "    </tr>\n",
       "    <tr>\n",
       "      <th>5</th>\n",
       "      <td>1000_5</td>\n",
       "      <td>2018-11-02</td>\n",
       "      <td>0.0</td>\n",
       "      <td>1000</td>\n",
       "    </tr>\n",
       "    <tr>\n",
       "      <th>6</th>\n",
       "      <td>1000_6</td>\n",
       "      <td>2018-10-18</td>\n",
       "      <td>0.0</td>\n",
       "      <td>1000</td>\n",
       "    </tr>\n",
       "    <tr>\n",
       "      <th>9</th>\n",
       "      <td>1000_9</td>\n",
       "      <td>2018-08-15</td>\n",
       "      <td>0.0</td>\n",
       "      <td>1000</td>\n",
       "    </tr>\n",
       "    <tr>\n",
       "      <th>...</th>\n",
       "      <td>...</td>\n",
       "      <td>...</td>\n",
       "      <td>...</td>\n",
       "      <td>...</td>\n",
       "    </tr>\n",
       "    <tr>\n",
       "      <th>202590</th>\n",
       "      <td>1499_203</td>\n",
       "      <td>2018-12-03</td>\n",
       "      <td>0.0</td>\n",
       "      <td>1499</td>\n",
       "    </tr>\n",
       "    <tr>\n",
       "      <th>202592</th>\n",
       "      <td>1499_205</td>\n",
       "      <td>2018-10-13</td>\n",
       "      <td>0.0</td>\n",
       "      <td>1499</td>\n",
       "    </tr>\n",
       "    <tr>\n",
       "      <th>202593</th>\n",
       "      <td>1499_206</td>\n",
       "      <td>2018-12-26</td>\n",
       "      <td>0.0</td>\n",
       "      <td>1499</td>\n",
       "    </tr>\n",
       "    <tr>\n",
       "      <th>202594</th>\n",
       "      <td>1499_207</td>\n",
       "      <td>2018-10-28</td>\n",
       "      <td>0.0</td>\n",
       "      <td>1499</td>\n",
       "    </tr>\n",
       "    <tr>\n",
       "      <th>202596</th>\n",
       "      <td>1499_209</td>\n",
       "      <td>2018-12-16</td>\n",
       "      <td>0.0</td>\n",
       "      <td>1499</td>\n",
       "    </tr>\n",
       "  </tbody>\n",
       "</table>\n",
       "<p>39613 rows × 4 columns</p>\n",
       "</div>"
      ],
      "text/plain": [
       "              id   call_date  duration  user_id\n",
       "0         1000_0  2018-07-25       0.0     1000\n",
       "1         1000_1  2018-08-17       0.0     1000\n",
       "5         1000_5  2018-11-02       0.0     1000\n",
       "6         1000_6  2018-10-18       0.0     1000\n",
       "9         1000_9  2018-08-15       0.0     1000\n",
       "...          ...         ...       ...      ...\n",
       "202590  1499_203  2018-12-03       0.0     1499\n",
       "202592  1499_205  2018-10-13       0.0     1499\n",
       "202593  1499_206  2018-12-26       0.0     1499\n",
       "202594  1499_207  2018-10-28       0.0     1499\n",
       "202596  1499_209  2018-12-16       0.0     1499\n",
       "\n",
       "[39613 rows x 4 columns]"
      ]
     },
     "execution_count": 14,
     "metadata": {},
     "output_type": "execute_result"
    }
   ],
   "source": [
    "calls.query('duration == 0.0') # Посмотрим на нулевые значения в данных."
   ]
  },
  {
   "cell_type": "markdown",
   "metadata": {
    "id": "IoTw727cQI_7"
   },
   "source": [
    "Их 39613, не мало, но опять же в методичке есть примечание на этот случай   \" В данных вы найдёте звонки с нулевой продолжительностью. Это не ошибка: нулями обозначены пропущенные звонки, поэтому их не нужно удалять. \"    Так что и их тоже оставляем в покое."
   ]
  },
  {
   "cell_type": "markdown",
   "metadata": {
    "id": "DjE_g5nEQI_7"
   },
   "source": [
    "#### messages"
   ]
  },
  {
   "cell_type": "code",
   "execution_count": 15,
   "metadata": {
    "colab": {
     "base_uri": "https://localhost:8080/"
    },
    "id": "n_wdvZ_-QI_8",
    "outputId": "84f5c130-9ab4-41e0-d4ae-8abf89080231"
   },
   "outputs": [
    {
     "name": "stdout",
     "output_type": "stream",
     "text": [
      "<class 'pandas.core.frame.DataFrame'>\n",
      "RangeIndex: 123036 entries, 0 to 123035\n",
      "Data columns (total 3 columns):\n",
      " #   Column        Non-Null Count   Dtype \n",
      "---  ------        --------------   ----- \n",
      " 0   id            123036 non-null  object\n",
      " 1   message_date  123036 non-null  object\n",
      " 2   user_id       123036 non-null  int64 \n",
      "dtypes: int64(1), object(2)\n",
      "memory usage: 2.8+ MB\n"
     ]
    },
    {
     "data": {
      "text/plain": [
       "(       id message_date  user_id\n",
       " 0  1000_0   2018-06-27     1000\n",
       " 1  1000_1   2018-10-08     1000\n",
       " 2  1000_2   2018-08-04     1000\n",
       " 3  1000_3   2018-06-16     1000\n",
       " 4  1000_4   2018-12-05     1000,\n",
       " None)"
      ]
     },
     "execution_count": 15,
     "metadata": {},
     "output_type": "execute_result"
    }
   ],
   "source": [
    "info_df(messages)"
   ]
  },
  {
   "cell_type": "markdown",
   "metadata": {
    "id": "TeqHMfgnQI_8"
   },
   "source": [
    "Данные без пропусков. Заменить тип данных в столбце 'message_date'"
   ]
  },
  {
   "cell_type": "markdown",
   "metadata": {
    "id": "glZaeVayQI_8"
   },
   "source": [
    "#### internet"
   ]
  },
  {
   "cell_type": "code",
   "execution_count": 16,
   "metadata": {
    "colab": {
     "base_uri": "https://localhost:8080/"
    },
    "id": "ttcuH0FxQI_8",
    "outputId": "8ab7bf29-13c7-49f6-d659-a4f8f1a8ef2b"
   },
   "outputs": [
    {
     "name": "stdout",
     "output_type": "stream",
     "text": [
      "<class 'pandas.core.frame.DataFrame'>\n",
      "RangeIndex: 149396 entries, 0 to 149395\n",
      "Data columns (total 5 columns):\n",
      " #   Column        Non-Null Count   Dtype  \n",
      "---  ------        --------------   -----  \n",
      " 0   Unnamed: 0    149396 non-null  int64  \n",
      " 1   id            149396 non-null  object \n",
      " 2   mb_used       149396 non-null  float64\n",
      " 3   session_date  149396 non-null  object \n",
      " 4   user_id       149396 non-null  int64  \n",
      "dtypes: float64(1), int64(2), object(2)\n",
      "memory usage: 5.7+ MB\n"
     ]
    },
    {
     "data": {
      "text/plain": [
       "(   Unnamed: 0      id  mb_used session_date  user_id\n",
       " 0           0  1000_0   112.95   2018-11-25     1000\n",
       " 1           1  1000_1  1052.81   2018-09-07     1000\n",
       " 2           2  1000_2  1197.26   2018-06-25     1000\n",
       " 3           3  1000_3   550.27   2018-08-22     1000\n",
       " 4           4  1000_4   302.56   2018-09-24     1000,\n",
       " None)"
      ]
     },
     "execution_count": 16,
     "metadata": {},
     "output_type": "execute_result"
    }
   ],
   "source": [
    "info_df(internet)"
   ]
  },
  {
   "cell_type": "markdown",
   "metadata": {
    "id": "oYfvcrHNQI_9"
   },
   "source": [
    "Пропуски отсутствуют, также заменить тип данных в колонке с датой. "
   ]
  },
  {
   "cell_type": "markdown",
   "metadata": {
    "id": "ncclZjirQI_9"
   },
   "source": [
    "Посмотрим на гистограмму распределения интерент трафика в колонке 'mb_used'."
   ]
  },
  {
   "cell_type": "code",
   "execution_count": 17,
   "metadata": {
    "colab": {
     "base_uri": "https://localhost:8080/"
    },
    "id": "DMSZZ4RWQI_-",
    "outputId": "b87b3c31-d1e6-455c-d088-e220782956d8"
   },
   "outputs": [
    {
     "data": {
      "text/plain": [
       "<AxesSubplot:>"
      ]
     },
     "execution_count": 17,
     "metadata": {},
     "output_type": "execute_result"
    },
    {
     "data": {
      "image/png": "[encoded data removed]",
      "text/plain": [
       "<Figure size 648x360 with 1 Axes>"
      ]
     },
     "metadata": {
      "needs_background": "light"
     },
     "output_type": "display_data"
    }
   ],
   "source": [
    "internet['mb_used'].hist( bins =15 ,figsize=(9,5))"
   ]
  },
  {
   "cell_type": "markdown",
   "metadata": {
    "id": "5CUK-gt9QJAB"
   },
   "source": [
    "Условия таковы что при разгворе длиной 1 секунда занчения округляются до 1 минуты, тоже и с интенет трафиком, округлим."
   ]
  },
  {
   "cell_type": "code",
   "execution_count": 18,
   "metadata": {
    "id": "R1ybMarnQJAI"
   },
   "outputs": [],
   "source": [
    "internet['mb_used'] = internet['mb_used'].apply(np.ceil)"
   ]
  },
  {
   "cell_type": "code",
   "execution_count": 19,
   "metadata": {
    "colab": {
     "base_uri": "https://localhost:8080/"
    },
    "id": "UO7ZTVgpQJAI",
    "outputId": "5c2eaf95-e063-40fa-8da5-5af94b820911"
   },
   "outputs": [
    {
     "data": {
      "text/html": [
       "<div>\n",
       "<style scoped>\n",
       "    .dataframe tbody tr th:only-of-type {\n",
       "        vertical-align: middle;\n",
       "    }\n",
       "\n",
       "    .dataframe tbody tr th {\n",
       "        vertical-align: top;\n",
       "    }\n",
       "\n",
       "    .dataframe thead th {\n",
       "        text-align: right;\n",
       "    }\n",
       "</style>\n",
       "<table border=\"1\" class=\"dataframe\">\n",
       "  <thead>\n",
       "    <tr style=\"text-align: right;\">\n",
       "      <th></th>\n",
       "      <th>Unnamed: 0</th>\n",
       "      <th>id</th>\n",
       "      <th>mb_used</th>\n",
       "      <th>session_date</th>\n",
       "      <th>user_id</th>\n",
       "    </tr>\n",
       "  </thead>\n",
       "  <tbody>\n",
       "    <tr>\n",
       "      <th>11</th>\n",
       "      <td>11</td>\n",
       "      <td>1000_11</td>\n",
       "      <td>0.0</td>\n",
       "      <td>2018-08-28</td>\n",
       "      <td>1000</td>\n",
       "    </tr>\n",
       "    <tr>\n",
       "      <th>38</th>\n",
       "      <td>38</td>\n",
       "      <td>1000_38</td>\n",
       "      <td>0.0</td>\n",
       "      <td>2018-11-27</td>\n",
       "      <td>1000</td>\n",
       "    </tr>\n",
       "    <tr>\n",
       "      <th>46</th>\n",
       "      <td>46</td>\n",
       "      <td>1000_46</td>\n",
       "      <td>0.0</td>\n",
       "      <td>2018-06-30</td>\n",
       "      <td>1000</td>\n",
       "    </tr>\n",
       "    <tr>\n",
       "      <th>67</th>\n",
       "      <td>67</td>\n",
       "      <td>1000_67</td>\n",
       "      <td>0.0</td>\n",
       "      <td>2018-06-16</td>\n",
       "      <td>1000</td>\n",
       "    </tr>\n",
       "    <tr>\n",
       "      <th>72</th>\n",
       "      <td>72</td>\n",
       "      <td>1000_72</td>\n",
       "      <td>0.0</td>\n",
       "      <td>2018-06-15</td>\n",
       "      <td>1000</td>\n",
       "    </tr>\n",
       "    <tr>\n",
       "      <th>...</th>\n",
       "      <td>...</td>\n",
       "      <td>...</td>\n",
       "      <td>...</td>\n",
       "      <td>...</td>\n",
       "      <td>...</td>\n",
       "    </tr>\n",
       "    <tr>\n",
       "      <th>149380</th>\n",
       "      <td>149380</td>\n",
       "      <td>1499_141</td>\n",
       "      <td>0.0</td>\n",
       "      <td>2018-12-11</td>\n",
       "      <td>1499</td>\n",
       "    </tr>\n",
       "    <tr>\n",
       "      <th>149381</th>\n",
       "      <td>149381</td>\n",
       "      <td>1499_142</td>\n",
       "      <td>0.0</td>\n",
       "      <td>2018-11-01</td>\n",
       "      <td>1499</td>\n",
       "    </tr>\n",
       "    <tr>\n",
       "      <th>149383</th>\n",
       "      <td>149383</td>\n",
       "      <td>1499_144</td>\n",
       "      <td>0.0</td>\n",
       "      <td>2018-11-27</td>\n",
       "      <td>1499</td>\n",
       "    </tr>\n",
       "    <tr>\n",
       "      <th>149386</th>\n",
       "      <td>149386</td>\n",
       "      <td>1499_147</td>\n",
       "      <td>0.0</td>\n",
       "      <td>2018-10-21</td>\n",
       "      <td>1499</td>\n",
       "    </tr>\n",
       "    <tr>\n",
       "      <th>149393</th>\n",
       "      <td>149393</td>\n",
       "      <td>1499_154</td>\n",
       "      <td>0.0</td>\n",
       "      <td>2018-10-27</td>\n",
       "      <td>1499</td>\n",
       "    </tr>\n",
       "  </tbody>\n",
       "</table>\n",
       "<p>19598 rows × 5 columns</p>\n",
       "</div>"
      ],
      "text/plain": [
       "        Unnamed: 0        id  mb_used session_date  user_id\n",
       "11              11   1000_11      0.0   2018-08-28     1000\n",
       "38              38   1000_38      0.0   2018-11-27     1000\n",
       "46              46   1000_46      0.0   2018-06-30     1000\n",
       "67              67   1000_67      0.0   2018-06-16     1000\n",
       "72              72   1000_72      0.0   2018-06-15     1000\n",
       "...            ...       ...      ...          ...      ...\n",
       "149380      149380  1499_141      0.0   2018-12-11     1499\n",
       "149381      149381  1499_142      0.0   2018-11-01     1499\n",
       "149383      149383  1499_144      0.0   2018-11-27     1499\n",
       "149386      149386  1499_147      0.0   2018-10-21     1499\n",
       "149393      149393  1499_154      0.0   2018-10-27     1499\n",
       "\n",
       "[19598 rows x 5 columns]"
      ]
     },
     "execution_count": 19,
     "metadata": {},
     "output_type": "execute_result"
    }
   ],
   "source": [
    "internet.query('mb_used == 0.0') # Посмотрим на нулевые значения."
   ]
  },
  {
   "cell_type": "markdown",
   "metadata": {
    "id": "vDboISKyQJAJ"
   },
   "source": [
    "Строк с нулевыми значениями почти 20000 так как в услвиях ничего не сказанно про эти данные, как про звонки, я удалю эти строки из таблицы."
   ]
  },
  {
   "cell_type": "code",
   "execution_count": 20,
   "metadata": {
    "colab": {
     "base_uri": "https://localhost:8080/"
    },
    "id": "AvpkT-rFQJAJ",
    "outputId": "992811f3-3ef8-4867-f503-9ebd5befd89c"
   },
   "outputs": [
    {
     "data": {
      "image/png": "[encoded data removed]",
      "text/plain": [
       "<Figure size 648x360 with 1 Axes>"
      ]
     },
     "metadata": {
      "needs_background": "light"
     },
     "output_type": "display_data"
    }
   ],
   "source": [
    "internet = internet.query('mb_used != 0.0')\n",
    "internet['mb_used'].hist(bins =15 ,figsize=(9,5));"
   ]
  },
  {
   "cell_type": "markdown",
   "metadata": {
    "id": "hliMT0d0QJAJ"
   },
   "source": [
    "#### tariffs"
   ]
  },
  {
   "cell_type": "code",
   "execution_count": 21,
   "metadata": {
    "colab": {
     "base_uri": "https://localhost:8080/"
    },
    "id": "9eyTEDnSQJAK",
    "outputId": "27c2f746-8d76-4eae-c105-5c1cbb610b26"
   },
   "outputs": [
    {
     "name": "stdout",
     "output_type": "stream",
     "text": [
      "<class 'pandas.core.frame.DataFrame'>\n",
      "RangeIndex: 2 entries, 0 to 1\n",
      "Data columns (total 8 columns):\n",
      " #   Column                 Non-Null Count  Dtype \n",
      "---  ------                 --------------  ----- \n",
      " 0   messages_included      2 non-null      int64 \n",
      " 1   mb_per_month_included  2 non-null      int64 \n",
      " 2   minutes_included       2 non-null      int64 \n",
      " 3   rub_monthly_fee        2 non-null      int64 \n",
      " 4   rub_per_gb             2 non-null      int64 \n",
      " 5   rub_per_message        2 non-null      int64 \n",
      " 6   rub_per_minute         2 non-null      int64 \n",
      " 7   tariff_name            2 non-null      object\n",
      "dtypes: int64(7), object(1)\n",
      "memory usage: 256.0+ bytes\n"
     ]
    },
    {
     "data": {
      "text/plain": [
       "(   messages_included  mb_per_month_included  minutes_included  \\\n",
       " 0                 50                  15360               500   \n",
       " 1               1000                  30720              3000   \n",
       " \n",
       "    rub_monthly_fee  rub_per_gb  rub_per_message  rub_per_minute tariff_name  \n",
       " 0              550         200                3               3       smart  \n",
       " 1             1950         150                1               1       ultra  ,\n",
       " None)"
      ]
     },
     "execution_count": 21,
     "metadata": {},
     "output_type": "execute_result"
    }
   ],
   "source": [
    "info_df(tariffs)"
   ]
  },
  {
   "cell_type": "code",
   "execution_count": 22,
   "metadata": {
    "colab": {
     "base_uri": "https://localhost:8080/",
     "height": 111
    },
    "id": "36id26n9QJAK",
    "outputId": "9a2dbe7c-cab0-444e-8746-89771d84662b"
   },
   "outputs": [
    {
     "data": {
      "text/html": [
       "<div>\n",
       "<style scoped>\n",
       "    .dataframe tbody tr th:only-of-type {\n",
       "        vertical-align: middle;\n",
       "    }\n",
       "\n",
       "    .dataframe tbody tr th {\n",
       "        vertical-align: top;\n",
       "    }\n",
       "\n",
       "    .dataframe thead th {\n",
       "        text-align: right;\n",
       "    }\n",
       "</style>\n",
       "<table border=\"1\" class=\"dataframe\">\n",
       "  <thead>\n",
       "    <tr style=\"text-align: right;\">\n",
       "      <th></th>\n",
       "      <th>messages_included</th>\n",
       "      <th>mb_per_month_included</th>\n",
       "      <th>minutes_included</th>\n",
       "      <th>rub_monthly_fee</th>\n",
       "      <th>rub_per_gb</th>\n",
       "      <th>rub_per_message</th>\n",
       "      <th>rub_per_minute</th>\n",
       "      <th>tariff_name</th>\n",
       "    </tr>\n",
       "  </thead>\n",
       "  <tbody>\n",
       "    <tr>\n",
       "      <th>0</th>\n",
       "      <td>50</td>\n",
       "      <td>15360</td>\n",
       "      <td>500</td>\n",
       "      <td>550</td>\n",
       "      <td>200</td>\n",
       "      <td>3</td>\n",
       "      <td>3</td>\n",
       "      <td>smart</td>\n",
       "    </tr>\n",
       "    <tr>\n",
       "      <th>1</th>\n",
       "      <td>1000</td>\n",
       "      <td>30720</td>\n",
       "      <td>3000</td>\n",
       "      <td>1950</td>\n",
       "      <td>150</td>\n",
       "      <td>1</td>\n",
       "      <td>1</td>\n",
       "      <td>ultra</td>\n",
       "    </tr>\n",
       "  </tbody>\n",
       "</table>\n",
       "</div>"
      ],
      "text/plain": [
       "   messages_included  mb_per_month_included  minutes_included  \\\n",
       "0                 50                  15360               500   \n",
       "1               1000                  30720              3000   \n",
       "\n",
       "   rub_monthly_fee  rub_per_gb  rub_per_message  rub_per_minute tariff_name  \n",
       "0              550         200                3               3       smart  \n",
       "1             1950         150                1               1       ultra  "
      ]
     },
     "execution_count": 22,
     "metadata": {},
     "output_type": "execute_result"
    }
   ],
   "source": [
    "tariffs"
   ]
  },
  {
   "cell_type": "markdown",
   "metadata": {
    "id": "rY0PLOvGQJAO"
   },
   "source": [
    "Тут просто содержаться данные о тарифах."
   ]
  },
  {
   "cell_type": "markdown",
   "metadata": {
    "id": "wLbvtvdCQJAO"
   },
   "source": [
    "#### Изменим тип данных:"
   ]
  },
  {
   "cell_type": "code",
   "execution_count": 23,
   "metadata": {
    "id": "DPbYP4fPQJAP"
   },
   "outputs": [],
   "source": [
    "def date_to_dt_month_season(dataframes):\n",
    "    for df in dataframes:\n",
    "        for column in df.columns:\n",
    "            if 'date' in column and column != 'churn_date':\n",
    "                df[column] = pd.to_datetime(df[column], format='%Y-%m-%d')"
   ]
  },
  {
   "cell_type": "code",
   "execution_count": 24,
   "metadata": {
    "id": "iiFu_e8YQJAP"
   },
   "outputs": [],
   "source": [
    "date_to_dt_month_season([users, calls, messages, internet]) "
   ]
  },
  {
   "cell_type": "code",
   "execution_count": 25,
   "metadata": {
    "colab": {
     "base_uri": "https://localhost:8080/"
    },
    "id": "RlpAoh6xQJAP",
    "outputId": "db49e394-1f8b-4bd3-8d79-fe83122ca90e"
   },
   "outputs": [
    {
     "name": "stdout",
     "output_type": "stream",
     "text": [
      "<class 'pandas.core.frame.DataFrame'>\n",
      "RangeIndex: 500 entries, 0 to 499\n",
      "Data columns (total 8 columns):\n",
      " #   Column      Non-Null Count  Dtype         \n",
      "---  ------      --------------  -----         \n",
      " 0   user_id     500 non-null    int64         \n",
      " 1   age         500 non-null    int64         \n",
      " 2   churn_date  38 non-null     object        \n",
      " 3   city        500 non-null    object        \n",
      " 4   first_name  500 non-null    object        \n",
      " 5   last_name   500 non-null    object        \n",
      " 6   reg_date    500 non-null    datetime64[ns]\n",
      " 7   tariff      500 non-null    object        \n",
      "dtypes: datetime64[ns](1), int64(2), object(5)\n",
      "memory usage: 31.4+ KB\n"
     ]
    }
   ],
   "source": [
    "users.info() # Проверим"
   ]
  },
  {
   "cell_type": "code",
   "execution_count": 26,
   "metadata": {
    "colab": {
     "base_uri": "https://localhost:8080/"
    },
    "id": "yeY3Q4hlQJAQ",
    "outputId": "5fb14519-0c8e-4385-9273-fe2552eadb10"
   },
   "outputs": [
    {
     "name": "stdout",
     "output_type": "stream",
     "text": [
      "<class 'pandas.core.frame.DataFrame'>\n",
      "RangeIndex: 202607 entries, 0 to 202606\n",
      "Data columns (total 4 columns):\n",
      " #   Column     Non-Null Count   Dtype         \n",
      "---  ------     --------------   -----         \n",
      " 0   id         202607 non-null  object        \n",
      " 1   call_date  202607 non-null  datetime64[ns]\n",
      " 2   duration   202607 non-null  float64       \n",
      " 3   user_id    202607 non-null  int64         \n",
      "dtypes: datetime64[ns](1), float64(1), int64(1), object(1)\n",
      "memory usage: 6.2+ MB\n"
     ]
    }
   ],
   "source": [
    "calls.info()"
   ]
  },
  {
   "cell_type": "code",
   "execution_count": 27,
   "metadata": {
    "colab": {
     "base_uri": "https://localhost:8080/"
    },
    "id": "TvqVsd3FQJAQ",
    "outputId": "4f5e1482-088a-497c-97ff-8f5028203e53"
   },
   "outputs": [
    {
     "name": "stdout",
     "output_type": "stream",
     "text": [
      "<class 'pandas.core.frame.DataFrame'>\n",
      "RangeIndex: 123036 entries, 0 to 123035\n",
      "Data columns (total 3 columns):\n",
      " #   Column        Non-Null Count   Dtype         \n",
      "---  ------        --------------   -----         \n",
      " 0   id            123036 non-null  object        \n",
      " 1   message_date  123036 non-null  datetime64[ns]\n",
      " 2   user_id       123036 non-null  int64         \n",
      "dtypes: datetime64[ns](1), int64(1), object(1)\n",
      "memory usage: 2.8+ MB\n"
     ]
    }
   ],
   "source": [
    "messages.info()"
   ]
  },
  {
   "cell_type": "code",
   "execution_count": 28,
   "metadata": {
    "colab": {
     "base_uri": "https://localhost:8080/"
    },
    "id": "clnDZSEuQJAQ",
    "outputId": "f2b72feb-5548-4d68-d735-f84e2aff2437"
   },
   "outputs": [
    {
     "name": "stdout",
     "output_type": "stream",
     "text": [
      "<class 'pandas.core.frame.DataFrame'>\n",
      "Int64Index: 129798 entries, 0 to 149395\n",
      "Data columns (total 5 columns):\n",
      " #   Column        Non-Null Count   Dtype         \n",
      "---  ------        --------------   -----         \n",
      " 0   Unnamed: 0    129798 non-null  int64         \n",
      " 1   id            129798 non-null  object        \n",
      " 2   mb_used       129798 non-null  float64       \n",
      " 3   session_date  129798 non-null  datetime64[ns]\n",
      " 4   user_id       129798 non-null  int64         \n",
      "dtypes: datetime64[ns](1), float64(1), int64(2), object(1)\n",
      "memory usage: 5.9+ MB\n"
     ]
    }
   ],
   "source": [
    "internet.info()"
   ]
  },
  {
   "cell_type": "markdown",
   "metadata": {
    "id": "NSoKdflLQJAR"
   },
   "source": [
    "## Обеденим таблицы."
   ]
  },
  {
   "cell_type": "code",
   "execution_count": 29,
   "metadata": {
    "id": "rLcDQy23QJAR"
   },
   "outputs": [],
   "source": [
    "users_tariffs_data = users.merge(tariffs, left_on='tariff', right_on='tariff_name', how='outer')\n",
    "users_calls_data = users_tariffs_data.merge(calls, on='user_id', how='outer')\n",
    "users_messages_data = users_tariffs_data.merge(messages, on='user_id', how='outer')\n",
    "users_internet_data = users_tariffs_data.merge(internet, on='user_id', how='outer')\n",
    "df = users_calls_data.append([users_messages_data, users_internet_data], sort=True)"
   ]
  },
  {
   "cell_type": "code",
   "execution_count": 30,
   "metadata": {
    "id": "DQem-akDQJAR"
   },
   "outputs": [],
   "source": [
    "df.drop(['Unnamed: 0', 'tariff_name'], axis='columns', inplace=True) # Избавляемся от ненужных колонн"
   ]
  },
  {
   "cell_type": "code",
   "execution_count": 31,
   "metadata": {
    "colab": {
     "base_uri": "https://localhost:8080/",
     "height": 382
    },
    "id": "iVZ2byosQJAS",
    "outputId": "e9f34ded-7861-4e84-b8f6-a85ddd89e36c"
   },
   "outputs": [
    {
     "data": {
      "text/html": [
       "<div>\n",
       "<style scoped>\n",
       "    .dataframe tbody tr th:only-of-type {\n",
       "        vertical-align: middle;\n",
       "    }\n",
       "\n",
       "    .dataframe tbody tr th {\n",
       "        vertical-align: top;\n",
       "    }\n",
       "\n",
       "    .dataframe thead th {\n",
       "        text-align: right;\n",
       "    }\n",
       "</style>\n",
       "<table border=\"1\" class=\"dataframe\">\n",
       "  <thead>\n",
       "    <tr style=\"text-align: right;\">\n",
       "      <th></th>\n",
       "      <th>age</th>\n",
       "      <th>call_date</th>\n",
       "      <th>churn_date</th>\n",
       "      <th>city</th>\n",
       "      <th>duration</th>\n",
       "      <th>first_name</th>\n",
       "      <th>id</th>\n",
       "      <th>last_name</th>\n",
       "      <th>mb_per_month_included</th>\n",
       "      <th>mb_used</th>\n",
       "      <th>...</th>\n",
       "      <th>messages_included</th>\n",
       "      <th>minutes_included</th>\n",
       "      <th>reg_date</th>\n",
       "      <th>rub_monthly_fee</th>\n",
       "      <th>rub_per_gb</th>\n",
       "      <th>rub_per_message</th>\n",
       "      <th>rub_per_minute</th>\n",
       "      <th>session_date</th>\n",
       "      <th>tariff</th>\n",
       "      <th>user_id</th>\n",
       "    </tr>\n",
       "  </thead>\n",
       "  <tbody>\n",
       "    <tr>\n",
       "      <th>0</th>\n",
       "      <td>52</td>\n",
       "      <td>2018-07-25</td>\n",
       "      <td>NaN</td>\n",
       "      <td>Краснодар</td>\n",
       "      <td>0.0</td>\n",
       "      <td>Рафаил</td>\n",
       "      <td>1000_0</td>\n",
       "      <td>Верещагин</td>\n",
       "      <td>30720</td>\n",
       "      <td>NaN</td>\n",
       "      <td>...</td>\n",
       "      <td>1000</td>\n",
       "      <td>3000</td>\n",
       "      <td>2018-05-25</td>\n",
       "      <td>1950</td>\n",
       "      <td>150</td>\n",
       "      <td>1</td>\n",
       "      <td>1</td>\n",
       "      <td>NaT</td>\n",
       "      <td>ultra</td>\n",
       "      <td>1000</td>\n",
       "    </tr>\n",
       "    <tr>\n",
       "      <th>1</th>\n",
       "      <td>52</td>\n",
       "      <td>2018-08-17</td>\n",
       "      <td>NaN</td>\n",
       "      <td>Краснодар</td>\n",
       "      <td>0.0</td>\n",
       "      <td>Рафаил</td>\n",
       "      <td>1000_1</td>\n",
       "      <td>Верещагин</td>\n",
       "      <td>30720</td>\n",
       "      <td>NaN</td>\n",
       "      <td>...</td>\n",
       "      <td>1000</td>\n",
       "      <td>3000</td>\n",
       "      <td>2018-05-25</td>\n",
       "      <td>1950</td>\n",
       "      <td>150</td>\n",
       "      <td>1</td>\n",
       "      <td>1</td>\n",
       "      <td>NaT</td>\n",
       "      <td>ultra</td>\n",
       "      <td>1000</td>\n",
       "    </tr>\n",
       "    <tr>\n",
       "      <th>2</th>\n",
       "      <td>52</td>\n",
       "      <td>2018-06-11</td>\n",
       "      <td>NaN</td>\n",
       "      <td>Краснодар</td>\n",
       "      <td>3.0</td>\n",
       "      <td>Рафаил</td>\n",
       "      <td>1000_2</td>\n",
       "      <td>Верещагин</td>\n",
       "      <td>30720</td>\n",
       "      <td>NaN</td>\n",
       "      <td>...</td>\n",
       "      <td>1000</td>\n",
       "      <td>3000</td>\n",
       "      <td>2018-05-25</td>\n",
       "      <td>1950</td>\n",
       "      <td>150</td>\n",
       "      <td>1</td>\n",
       "      <td>1</td>\n",
       "      <td>NaT</td>\n",
       "      <td>ultra</td>\n",
       "      <td>1000</td>\n",
       "    </tr>\n",
       "    <tr>\n",
       "      <th>3</th>\n",
       "      <td>52</td>\n",
       "      <td>2018-09-21</td>\n",
       "      <td>NaN</td>\n",
       "      <td>Краснодар</td>\n",
       "      <td>14.0</td>\n",
       "      <td>Рафаил</td>\n",
       "      <td>1000_3</td>\n",
       "      <td>Верещагин</td>\n",
       "      <td>30720</td>\n",
       "      <td>NaN</td>\n",
       "      <td>...</td>\n",
       "      <td>1000</td>\n",
       "      <td>3000</td>\n",
       "      <td>2018-05-25</td>\n",
       "      <td>1950</td>\n",
       "      <td>150</td>\n",
       "      <td>1</td>\n",
       "      <td>1</td>\n",
       "      <td>NaT</td>\n",
       "      <td>ultra</td>\n",
       "      <td>1000</td>\n",
       "    </tr>\n",
       "    <tr>\n",
       "      <th>4</th>\n",
       "      <td>52</td>\n",
       "      <td>2018-12-15</td>\n",
       "      <td>NaN</td>\n",
       "      <td>Краснодар</td>\n",
       "      <td>6.0</td>\n",
       "      <td>Рафаил</td>\n",
       "      <td>1000_4</td>\n",
       "      <td>Верещагин</td>\n",
       "      <td>30720</td>\n",
       "      <td>NaN</td>\n",
       "      <td>...</td>\n",
       "      <td>1000</td>\n",
       "      <td>3000</td>\n",
       "      <td>2018-05-25</td>\n",
       "      <td>1950</td>\n",
       "      <td>150</td>\n",
       "      <td>1</td>\n",
       "      <td>1</td>\n",
       "      <td>NaT</td>\n",
       "      <td>ultra</td>\n",
       "      <td>1000</td>\n",
       "    </tr>\n",
       "  </tbody>\n",
       "</table>\n",
       "<p>5 rows × 21 columns</p>\n",
       "</div>"
      ],
      "text/plain": [
       "   age  call_date churn_date       city  duration first_name      id  \\\n",
       "0   52 2018-07-25        NaN  Краснодар       0.0     Рафаил  1000_0   \n",
       "1   52 2018-08-17        NaN  Краснодар       0.0     Рафаил  1000_1   \n",
       "2   52 2018-06-11        NaN  Краснодар       3.0     Рафаил  1000_2   \n",
       "3   52 2018-09-21        NaN  Краснодар      14.0     Рафаил  1000_3   \n",
       "4   52 2018-12-15        NaN  Краснодар       6.0     Рафаил  1000_4   \n",
       "\n",
       "   last_name  mb_per_month_included  mb_used  ... messages_included  \\\n",
       "0  Верещагин                  30720      NaN  ...              1000   \n",
       "1  Верещагин                  30720      NaN  ...              1000   \n",
       "2  Верещагин                  30720      NaN  ...              1000   \n",
       "3  Верещагин                  30720      NaN  ...              1000   \n",
       "4  Верещагин                  30720      NaN  ...              1000   \n",
       "\n",
       "   minutes_included   reg_date rub_monthly_fee  rub_per_gb  rub_per_message  \\\n",
       "0              3000 2018-05-25            1950         150                1   \n",
       "1              3000 2018-05-25            1950         150                1   \n",
       "2              3000 2018-05-25            1950         150                1   \n",
       "3              3000 2018-05-25            1950         150                1   \n",
       "4              3000 2018-05-25            1950         150                1   \n",
       "\n",
       "   rub_per_minute  session_date tariff user_id  \n",
       "0               1           NaT  ultra    1000  \n",
       "1               1           NaT  ultra    1000  \n",
       "2               1           NaT  ultra    1000  \n",
       "3               1           NaT  ultra    1000  \n",
       "4               1           NaT  ultra    1000  \n",
       "\n",
       "[5 rows x 21 columns]"
      ]
     },
     "execution_count": 31,
     "metadata": {},
     "output_type": "execute_result"
    }
   ],
   "source": [
    "df.head()"
   ]
  },
  {
   "cell_type": "markdown",
   "metadata": {
    "id": "8KAIDzrFQJAS"
   },
   "source": [
    "## Рассчеты для каждого пользователя."
   ]
  },
  {
   "cell_type": "markdown",
   "metadata": {
    "id": "MjlF01jbQJAT"
   },
   "source": [
    "<font size=\"4\"><b>Посчитаем для каждого пользователя:</b></font><br/>\n",
    "\n",
    "\n",
    "* <b>Количество сделанных звонков и израсходованных минут разговора по месяцам</b> \n",
    "* <b>Количество отправленных сообщений по месяцам;</b> \n",
    "* <b>Объем израсходованного интернет-трафика по месяцам</b> \n",
    "* <b>Помесячную выручку с каждого пользователя (вычтите бесплатный лимит из суммарного количества звонков, сообщений и интернет-трафика; остаток умножьте на значение из тарифного плана; прибавьте абонентскую плату, соответствующую тарифному плану).</b>"
   ]
  },
  {
   "cell_type": "markdown",
   "metadata": {
    "id": "L_5emzjXQJAT"
   },
   "source": [
    "### Звонки и минуты"
   ]
  },
  {
   "cell_type": "code",
   "execution_count": 32,
   "metadata": {
    "id": "PqM1-zR6QJAT"
   },
   "outputs": [],
   "source": [
    "df['call_in_mounth'] = df['call_date'].dt.month.fillna(0).astype(int) # Добавим в таблицу месяц совершения звонков."
   ]
  },
  {
   "cell_type": "markdown",
   "metadata": {
    "id": "D9jzBz4eQJAT"
   },
   "source": [
    "Посчитаем и добавми в таблицу колличество сделанных звонков и минут разговора по месяцам."
   ]
  },
  {
   "cell_type": "code",
   "execution_count": 33,
   "metadata": {
    "colab": {
     "base_uri": "https://localhost:8080/"
    },
    "id": "Er8JcG2pQJAU",
    "outputId": "1b0f2b74-d04a-4321-ed0c-abe585c83ce1"
   },
   "outputs": [
    {
     "data": {
      "text/html": [
       "<div>\n",
       "<style scoped>\n",
       "    .dataframe tbody tr th:only-of-type {\n",
       "        vertical-align: middle;\n",
       "    }\n",
       "\n",
       "    .dataframe tbody tr th {\n",
       "        vertical-align: top;\n",
       "    }\n",
       "\n",
       "    .dataframe thead th {\n",
       "        text-align: right;\n",
       "    }\n",
       "</style>\n",
       "<table border=\"1\" class=\"dataframe\">\n",
       "  <thead>\n",
       "    <tr style=\"text-align: right;\">\n",
       "      <th></th>\n",
       "      <th>tariff</th>\n",
       "      <th>user_id</th>\n",
       "      <th>minutes_included</th>\n",
       "      <th>rub_per_minute</th>\n",
       "      <th>rub_monthly_fee</th>\n",
       "      <th>call_in_mounth</th>\n",
       "      <th>city</th>\n",
       "      <th>count</th>\n",
       "      <th>sum</th>\n",
       "    </tr>\n",
       "  </thead>\n",
       "  <tbody>\n",
       "    <tr>\n",
       "      <th>1</th>\n",
       "      <td>smart</td>\n",
       "      <td>1001</td>\n",
       "      <td>500</td>\n",
       "      <td>3</td>\n",
       "      <td>550</td>\n",
       "      <td>11</td>\n",
       "      <td>Москва</td>\n",
       "      <td>59</td>\n",
       "      <td>430.0</td>\n",
       "    </tr>\n",
       "    <tr>\n",
       "      <th>2</th>\n",
       "      <td>smart</td>\n",
       "      <td>1001</td>\n",
       "      <td>500</td>\n",
       "      <td>3</td>\n",
       "      <td>550</td>\n",
       "      <td>12</td>\n",
       "      <td>Москва</td>\n",
       "      <td>63</td>\n",
       "      <td>414.0</td>\n",
       "    </tr>\n",
       "    <tr>\n",
       "      <th>4</th>\n",
       "      <td>smart</td>\n",
       "      <td>1002</td>\n",
       "      <td>500</td>\n",
       "      <td>3</td>\n",
       "      <td>550</td>\n",
       "      <td>6</td>\n",
       "      <td>Стерлитамак</td>\n",
       "      <td>15</td>\n",
       "      <td>117.0</td>\n",
       "    </tr>\n",
       "    <tr>\n",
       "      <th>5</th>\n",
       "      <td>smart</td>\n",
       "      <td>1002</td>\n",
       "      <td>500</td>\n",
       "      <td>3</td>\n",
       "      <td>550</td>\n",
       "      <td>7</td>\n",
       "      <td>Стерлитамак</td>\n",
       "      <td>26</td>\n",
       "      <td>214.0</td>\n",
       "    </tr>\n",
       "    <tr>\n",
       "      <th>6</th>\n",
       "      <td>smart</td>\n",
       "      <td>1002</td>\n",
       "      <td>500</td>\n",
       "      <td>3</td>\n",
       "      <td>550</td>\n",
       "      <td>8</td>\n",
       "      <td>Стерлитамак</td>\n",
       "      <td>42</td>\n",
       "      <td>289.0</td>\n",
       "    </tr>\n",
       "  </tbody>\n",
       "</table>\n",
       "</div>"
      ],
      "text/plain": [
       "  tariff  user_id  minutes_included  rub_per_minute  rub_monthly_fee  \\\n",
       "1  smart     1001               500               3              550   \n",
       "2  smart     1001               500               3              550   \n",
       "4  smart     1002               500               3              550   \n",
       "5  smart     1002               500               3              550   \n",
       "6  smart     1002               500               3              550   \n",
       "\n",
       "   call_in_mounth         city  count    sum  \n",
       "1              11       Москва     59  430.0  \n",
       "2              12       Москва     63  414.0  \n",
       "4               6  Стерлитамак     15  117.0  \n",
       "5               7  Стерлитамак     26  214.0  \n",
       "6               8  Стерлитамак     42  289.0  "
      ]
     },
     "execution_count": 33,
     "metadata": {},
     "output_type": "execute_result"
    }
   ],
   "source": [
    "call_stats = (df.groupby(['tariff', 'user_id', 'minutes_included', 'rub_per_minute', 'rub_monthly_fee',  'call_in_mounth', 'city'])['duration']\n",
    "              .agg(['count', 'sum'])\n",
    "              .reset_index()\n",
    "              .query('call_in_mounth != 0'))\n",
    "call_stats.head()"
   ]
  },
  {
   "cell_type": "markdown",
   "metadata": {
    "id": "IeBGZ8sdQJAU"
   },
   "source": [
    "### Сообщения"
   ]
  },
  {
   "cell_type": "markdown",
   "metadata": {
    "id": "ykD2nC-3QJAU"
   },
   "source": [
    "Посчитаем и добавим в таблицу колличество отправленных сообщений по месяцам."
   ]
  },
  {
   "cell_type": "code",
   "execution_count": 34,
   "metadata": {
    "id": "wFC9LOcrQJAV"
   },
   "outputs": [],
   "source": [
    "df['sms_in_month'] = df['message_date'].dt.month.fillna(0).astype(int)"
   ]
  },
  {
   "cell_type": "code",
   "execution_count": 35,
   "metadata": {
    "colab": {
     "base_uri": "https://localhost:8080/",
     "height": 204
    },
    "id": "nkcCif3_QJAY",
    "outputId": "7b7788e1-d3e2-4857-9b3e-987cea0dada9"
   },
   "outputs": [
    {
     "data": {
      "text/html": [
       "<div>\n",
       "<style scoped>\n",
       "    .dataframe tbody tr th:only-of-type {\n",
       "        vertical-align: middle;\n",
       "    }\n",
       "\n",
       "    .dataframe tbody tr th {\n",
       "        vertical-align: top;\n",
       "    }\n",
       "\n",
       "    .dataframe thead th {\n",
       "        text-align: right;\n",
       "    }\n",
       "</style>\n",
       "<table border=\"1\" class=\"dataframe\">\n",
       "  <thead>\n",
       "    <tr style=\"text-align: right;\">\n",
       "      <th></th>\n",
       "      <th>tariff</th>\n",
       "      <th>user_id</th>\n",
       "      <th>messages_included</th>\n",
       "      <th>rub_per_message</th>\n",
       "      <th>rub_monthly_fee</th>\n",
       "      <th>sms_in_month</th>\n",
       "      <th>city</th>\n",
       "      <th>mes_count</th>\n",
       "    </tr>\n",
       "  </thead>\n",
       "  <tbody>\n",
       "    <tr>\n",
       "      <th>2</th>\n",
       "      <td>smart</td>\n",
       "      <td>1002</td>\n",
       "      <td>50</td>\n",
       "      <td>3</td>\n",
       "      <td>550</td>\n",
       "      <td>6</td>\n",
       "      <td>Стерлитамак</td>\n",
       "      <td>4</td>\n",
       "    </tr>\n",
       "    <tr>\n",
       "      <th>3</th>\n",
       "      <td>smart</td>\n",
       "      <td>1002</td>\n",
       "      <td>50</td>\n",
       "      <td>3</td>\n",
       "      <td>550</td>\n",
       "      <td>7</td>\n",
       "      <td>Стерлитамак</td>\n",
       "      <td>11</td>\n",
       "    </tr>\n",
       "    <tr>\n",
       "      <th>4</th>\n",
       "      <td>smart</td>\n",
       "      <td>1002</td>\n",
       "      <td>50</td>\n",
       "      <td>3</td>\n",
       "      <td>550</td>\n",
       "      <td>8</td>\n",
       "      <td>Стерлитамак</td>\n",
       "      <td>13</td>\n",
       "    </tr>\n",
       "    <tr>\n",
       "      <th>5</th>\n",
       "      <td>smart</td>\n",
       "      <td>1002</td>\n",
       "      <td>50</td>\n",
       "      <td>3</td>\n",
       "      <td>550</td>\n",
       "      <td>9</td>\n",
       "      <td>Стерлитамак</td>\n",
       "      <td>4</td>\n",
       "    </tr>\n",
       "    <tr>\n",
       "      <th>6</th>\n",
       "      <td>smart</td>\n",
       "      <td>1002</td>\n",
       "      <td>50</td>\n",
       "      <td>3</td>\n",
       "      <td>550</td>\n",
       "      <td>10</td>\n",
       "      <td>Стерлитамак</td>\n",
       "      <td>10</td>\n",
       "    </tr>\n",
       "  </tbody>\n",
       "</table>\n",
       "</div>"
      ],
      "text/plain": [
       "  tariff  user_id  messages_included  rub_per_message  rub_monthly_fee  \\\n",
       "2  smart     1002                 50                3              550   \n",
       "3  smart     1002                 50                3              550   \n",
       "4  smart     1002                 50                3              550   \n",
       "5  smart     1002                 50                3              550   \n",
       "6  smart     1002                 50                3              550   \n",
       "\n",
       "   sms_in_month         city  mes_count  \n",
       "2             6  Стерлитамак          4  \n",
       "3             7  Стерлитамак         11  \n",
       "4             8  Стерлитамак         13  \n",
       "5             9  Стерлитамак          4  \n",
       "6            10  Стерлитамак         10  "
      ]
     },
     "execution_count": 35,
     "metadata": {},
     "output_type": "execute_result"
    }
   ],
   "source": [
    "messages_stats = (df\n",
    "             .groupby(['tariff', 'user_id', 'messages_included', 'rub_per_message', 'rub_monthly_fee', 'sms_in_month', 'city'])['first_name']\n",
    "             .agg('count')\n",
    "             .reset_index()\n",
    "             .query('sms_in_month != 0')\n",
    ")\n",
    "message_stat = messages_stats.rename(columns={\"first_name\": \"mes_count\"})\n",
    "message_stat.head()"
   ]
  },
  {
   "cell_type": "markdown",
   "metadata": {
    "id": "W-0dhCRJX9f_"
   },
   "source": [
    "### Интернет"
   ]
  },
  {
   "cell_type": "markdown",
   "metadata": {
    "id": "UZeljZNYYFes"
   },
   "source": [
    "Тоже проделаем для интернета"
   ]
  },
  {
   "cell_type": "code",
   "execution_count": 36,
   "metadata": {
    "id": "5IQKYXNXX73B"
   },
   "outputs": [],
   "source": [
    "df['internet_month'] = df['session_date'].dt.month.fillna(0).astype(int)"
   ]
  },
  {
   "cell_type": "code",
   "execution_count": 37,
   "metadata": {
    "colab": {
     "base_uri": "https://localhost:8080/",
     "height": 204
    },
    "id": "E8XzFGTnYgWF",
    "outputId": "ff652615-7482-4ecf-eb93-23d236d5a95d"
   },
   "outputs": [
    {
     "data": {
      "text/html": [
       "<div>\n",
       "<style scoped>\n",
       "    .dataframe tbody tr th:only-of-type {\n",
       "        vertical-align: middle;\n",
       "    }\n",
       "\n",
       "    .dataframe tbody tr th {\n",
       "        vertical-align: top;\n",
       "    }\n",
       "\n",
       "    .dataframe thead th {\n",
       "        text-align: right;\n",
       "    }\n",
       "</style>\n",
       "<table border=\"1\" class=\"dataframe\">\n",
       "  <thead>\n",
       "    <tr style=\"text-align: right;\">\n",
       "      <th></th>\n",
       "      <th>tariff</th>\n",
       "      <th>user_id</th>\n",
       "      <th>mb_per_month_included</th>\n",
       "      <th>rub_per_gb</th>\n",
       "      <th>rub_monthly_fee</th>\n",
       "      <th>internet_month</th>\n",
       "      <th>city</th>\n",
       "      <th>mb_used</th>\n",
       "    </tr>\n",
       "  </thead>\n",
       "  <tbody>\n",
       "    <tr>\n",
       "      <th>1</th>\n",
       "      <td>smart</td>\n",
       "      <td>1001</td>\n",
       "      <td>15360</td>\n",
       "      <td>200</td>\n",
       "      <td>550</td>\n",
       "      <td>11</td>\n",
       "      <td>Москва</td>\n",
       "      <td>18452.0</td>\n",
       "    </tr>\n",
       "    <tr>\n",
       "      <th>2</th>\n",
       "      <td>smart</td>\n",
       "      <td>1001</td>\n",
       "      <td>15360</td>\n",
       "      <td>200</td>\n",
       "      <td>550</td>\n",
       "      <td>12</td>\n",
       "      <td>Москва</td>\n",
       "      <td>14053.0</td>\n",
       "    </tr>\n",
       "    <tr>\n",
       "      <th>4</th>\n",
       "      <td>smart</td>\n",
       "      <td>1002</td>\n",
       "      <td>15360</td>\n",
       "      <td>200</td>\n",
       "      <td>550</td>\n",
       "      <td>6</td>\n",
       "      <td>Стерлитамак</td>\n",
       "      <td>10871.0</td>\n",
       "    </tr>\n",
       "    <tr>\n",
       "      <th>5</th>\n",
       "      <td>smart</td>\n",
       "      <td>1002</td>\n",
       "      <td>15360</td>\n",
       "      <td>200</td>\n",
       "      <td>550</td>\n",
       "      <td>7</td>\n",
       "      <td>Стерлитамак</td>\n",
       "      <td>17601.0</td>\n",
       "    </tr>\n",
       "    <tr>\n",
       "      <th>6</th>\n",
       "      <td>smart</td>\n",
       "      <td>1002</td>\n",
       "      <td>15360</td>\n",
       "      <td>200</td>\n",
       "      <td>550</td>\n",
       "      <td>8</td>\n",
       "      <td>Стерлитамак</td>\n",
       "      <td>20347.0</td>\n",
       "    </tr>\n",
       "  </tbody>\n",
       "</table>\n",
       "</div>"
      ],
      "text/plain": [
       "  tariff  user_id  mb_per_month_included  rub_per_gb  rub_monthly_fee  \\\n",
       "1  smart     1001                  15360         200              550   \n",
       "2  smart     1001                  15360         200              550   \n",
       "4  smart     1002                  15360         200              550   \n",
       "5  smart     1002                  15360         200              550   \n",
       "6  smart     1002                  15360         200              550   \n",
       "\n",
       "   internet_month         city  mb_used  \n",
       "1              11       Москва  18452.0  \n",
       "2              12       Москва  14053.0  \n",
       "4               6  Стерлитамак  10871.0  \n",
       "5               7  Стерлитамак  17601.0  \n",
       "6               8  Стерлитамак  20347.0  "
      ]
     },
     "execution_count": 37,
     "metadata": {},
     "output_type": "execute_result"
    }
   ],
   "source": [
    "internet_stats = (df.groupby(['tariff', 'user_id', 'mb_per_month_included', 'rub_per_gb', 'rub_monthly_fee', 'internet_month', 'city'])['mb_used']\n",
    "                  .agg('sum')\n",
    "                  .reset_index()\n",
    "                  .query('internet_month != 0')\n",
    ")\n",
    "\n",
    "internet_stats.head()"
   ]
  },
  {
   "cell_type": "markdown",
   "metadata": {
    "id": "Cpav0rPTb4UH"
   },
   "source": [
    "### Рассчет выручки с каждого пользователя."
   ]
  },
  {
   "cell_type": "markdown",
   "metadata": {
    "id": "YqHFaAfjcW4T"
   },
   "source": [
    "Посчитаем выручку с каждого пользователя. Вычтем бесплатный лимит из суммарного количества звонков, сообщений и интернет-трафика; остаток умножим на значение из тарифного плана и прибавим абонентскую плату, соответствующую тарифному плану."
   ]
  },
  {
   "cell_type": "markdown",
   "metadata": {
    "id": "tYG52NmvhVP_"
   },
   "source": [
    "#### Минуты"
   ]
  },
  {
   "cell_type": "code",
   "execution_count": 38,
   "metadata": {
    "colab": {
     "base_uri": "https://localhost:8080/",
     "height": 204
    },
    "id": "PbzwG1QkZL8O",
    "outputId": "9823412b-28d2-4b9a-d3ff-5ac455957f7f"
   },
   "outputs": [
    {
     "data": {
      "text/html": [
       "<div>\n",
       "<style scoped>\n",
       "    .dataframe tbody tr th:only-of-type {\n",
       "        vertical-align: middle;\n",
       "    }\n",
       "\n",
       "    .dataframe tbody tr th {\n",
       "        vertical-align: top;\n",
       "    }\n",
       "\n",
       "    .dataframe thead th {\n",
       "        text-align: right;\n",
       "    }\n",
       "</style>\n",
       "<table border=\"1\" class=\"dataframe\">\n",
       "  <thead>\n",
       "    <tr style=\"text-align: right;\">\n",
       "      <th></th>\n",
       "      <th>index</th>\n",
       "      <th>tariff</th>\n",
       "      <th>user_id</th>\n",
       "      <th>minutes_included</th>\n",
       "      <th>rub_per_minute</th>\n",
       "      <th>rub_monthly_fee</th>\n",
       "      <th>call_in_mounth</th>\n",
       "      <th>city</th>\n",
       "      <th>count</th>\n",
       "      <th>sum</th>\n",
       "      <th>over_minutes</th>\n",
       "      <th>revenue_rub</th>\n",
       "    </tr>\n",
       "  </thead>\n",
       "  <tbody>\n",
       "    <tr>\n",
       "      <th>0</th>\n",
       "      <td>14</td>\n",
       "      <td>smart</td>\n",
       "      <td>1005</td>\n",
       "      <td>500</td>\n",
       "      <td>3</td>\n",
       "      <td>550</td>\n",
       "      <td>3</td>\n",
       "      <td>Набережные Челны</td>\n",
       "      <td>77</td>\n",
       "      <td>606.0</td>\n",
       "      <td>106</td>\n",
       "      <td>318</td>\n",
       "    </tr>\n",
       "    <tr>\n",
       "      <th>1</th>\n",
       "      <td>15</td>\n",
       "      <td>smart</td>\n",
       "      <td>1005</td>\n",
       "      <td>500</td>\n",
       "      <td>3</td>\n",
       "      <td>550</td>\n",
       "      <td>4</td>\n",
       "      <td>Набережные Челны</td>\n",
       "      <td>101</td>\n",
       "      <td>712.0</td>\n",
       "      <td>212</td>\n",
       "      <td>636</td>\n",
       "    </tr>\n",
       "    <tr>\n",
       "      <th>2</th>\n",
       "      <td>16</td>\n",
       "      <td>smart</td>\n",
       "      <td>1005</td>\n",
       "      <td>500</td>\n",
       "      <td>3</td>\n",
       "      <td>550</td>\n",
       "      <td>5</td>\n",
       "      <td>Набережные Челны</td>\n",
       "      <td>73</td>\n",
       "      <td>595.0</td>\n",
       "      <td>95</td>\n",
       "      <td>285</td>\n",
       "    </tr>\n",
       "    <tr>\n",
       "      <th>3</th>\n",
       "      <td>17</td>\n",
       "      <td>smart</td>\n",
       "      <td>1005</td>\n",
       "      <td>500</td>\n",
       "      <td>3</td>\n",
       "      <td>550</td>\n",
       "      <td>6</td>\n",
       "      <td>Набережные Челны</td>\n",
       "      <td>80</td>\n",
       "      <td>612.0</td>\n",
       "      <td>112</td>\n",
       "      <td>336</td>\n",
       "    </tr>\n",
       "    <tr>\n",
       "      <th>4</th>\n",
       "      <td>18</td>\n",
       "      <td>smart</td>\n",
       "      <td>1005</td>\n",
       "      <td>500</td>\n",
       "      <td>3</td>\n",
       "      <td>550</td>\n",
       "      <td>7</td>\n",
       "      <td>Набережные Челны</td>\n",
       "      <td>77</td>\n",
       "      <td>569.0</td>\n",
       "      <td>69</td>\n",
       "      <td>207</td>\n",
       "    </tr>\n",
       "  </tbody>\n",
       "</table>\n",
       "</div>"
      ],
      "text/plain": [
       "   index tariff  user_id  minutes_included  rub_per_minute  rub_monthly_fee  \\\n",
       "0     14  smart     1005               500               3              550   \n",
       "1     15  smart     1005               500               3              550   \n",
       "2     16  smart     1005               500               3              550   \n",
       "3     17  smart     1005               500               3              550   \n",
       "4     18  smart     1005               500               3              550   \n",
       "\n",
       "   call_in_mounth              city  count    sum  over_minutes  revenue_rub  \n",
       "0               3  Набережные Челны     77  606.0           106          318  \n",
       "1               4  Набережные Челны    101  712.0           212          636  \n",
       "2               5  Набережные Челны     73  595.0            95          285  \n",
       "3               6  Набережные Челны     80  612.0           112          336  \n",
       "4               7  Набережные Челны     77  569.0            69          207  "
      ]
     },
     "execution_count": 38,
     "metadata": {},
     "output_type": "execute_result"
    }
   ],
   "source": [
    "call_stats['over_minutes'] = call_stats['sum'] - call_stats['minutes_included']\n",
    "call_stats_revenue =  call_stats.query('over_minutes > 0').reset_index()\n",
    "call_stats_revenue['over_minutes'] = np.ceil(call_stats_revenue['over_minutes']).astype(int)\n",
    "call_stats_revenue['revenue_rub'] = call_stats_revenue['over_minutes'] * call_stats_revenue['rub_per_minute']\n",
    "call_stats_revenue.head()"
   ]
  },
  {
   "cell_type": "markdown",
   "metadata": {
    "id": "iPk6fXpmhQpq"
   },
   "source": [
    "#### Сообщения"
   ]
  },
  {
   "cell_type": "code",
   "execution_count": 39,
   "metadata": {
    "colab": {
     "base_uri": "https://localhost:8080/",
     "height": 419
    },
    "id": "2U4k6EKqdfzV",
    "outputId": "4db9623e-5023-4f7b-ff2a-3c7187e2299e"
   },
   "outputs": [
    {
     "data": {
      "text/html": [
       "<div>\n",
       "<style scoped>\n",
       "    .dataframe tbody tr th:only-of-type {\n",
       "        vertical-align: middle;\n",
       "    }\n",
       "\n",
       "    .dataframe tbody tr th {\n",
       "        vertical-align: top;\n",
       "    }\n",
       "\n",
       "    .dataframe thead th {\n",
       "        text-align: right;\n",
       "    }\n",
       "</style>\n",
       "<table border=\"1\" class=\"dataframe\">\n",
       "  <thead>\n",
       "    <tr style=\"text-align: right;\">\n",
       "      <th></th>\n",
       "      <th>index</th>\n",
       "      <th>tariff</th>\n",
       "      <th>user_id</th>\n",
       "      <th>messages_included</th>\n",
       "      <th>rub_per_message</th>\n",
       "      <th>rub_monthly_fee</th>\n",
       "      <th>sms_in_month</th>\n",
       "      <th>city</th>\n",
       "      <th>mes_count</th>\n",
       "      <th>over_message</th>\n",
       "      <th>revenue_rub</th>\n",
       "    </tr>\n",
       "  </thead>\n",
       "  <tbody>\n",
       "    <tr>\n",
       "      <th>0</th>\n",
       "      <td>12</td>\n",
       "      <td>smart</td>\n",
       "      <td>1005</td>\n",
       "      <td>50</td>\n",
       "      <td>3</td>\n",
       "      <td>550</td>\n",
       "      <td>3</td>\n",
       "      <td>Набережные Челны</td>\n",
       "      <td>56</td>\n",
       "      <td>6</td>\n",
       "      <td>18</td>\n",
       "    </tr>\n",
       "    <tr>\n",
       "      <th>1</th>\n",
       "      <td>16</td>\n",
       "      <td>smart</td>\n",
       "      <td>1005</td>\n",
       "      <td>50</td>\n",
       "      <td>3</td>\n",
       "      <td>550</td>\n",
       "      <td>7</td>\n",
       "      <td>Набережные Челны</td>\n",
       "      <td>56</td>\n",
       "      <td>6</td>\n",
       "      <td>18</td>\n",
       "    </tr>\n",
       "    <tr>\n",
       "      <th>2</th>\n",
       "      <td>17</td>\n",
       "      <td>smart</td>\n",
       "      <td>1005</td>\n",
       "      <td>50</td>\n",
       "      <td>3</td>\n",
       "      <td>550</td>\n",
       "      <td>8</td>\n",
       "      <td>Набережные Челны</td>\n",
       "      <td>64</td>\n",
       "      <td>14</td>\n",
       "      <td>42</td>\n",
       "    </tr>\n",
       "    <tr>\n",
       "      <th>3</th>\n",
       "      <td>18</td>\n",
       "      <td>smart</td>\n",
       "      <td>1005</td>\n",
       "      <td>50</td>\n",
       "      <td>3</td>\n",
       "      <td>550</td>\n",
       "      <td>9</td>\n",
       "      <td>Набережные Челны</td>\n",
       "      <td>52</td>\n",
       "      <td>2</td>\n",
       "      <td>6</td>\n",
       "    </tr>\n",
       "    <tr>\n",
       "      <th>4</th>\n",
       "      <td>20</td>\n",
       "      <td>smart</td>\n",
       "      <td>1005</td>\n",
       "      <td>50</td>\n",
       "      <td>3</td>\n",
       "      <td>550</td>\n",
       "      <td>11</td>\n",
       "      <td>Набережные Челны</td>\n",
       "      <td>51</td>\n",
       "      <td>1</td>\n",
       "      <td>3</td>\n",
       "    </tr>\n",
       "    <tr>\n",
       "      <th>...</th>\n",
       "      <td>...</td>\n",
       "      <td>...</td>\n",
       "      <td>...</td>\n",
       "      <td>...</td>\n",
       "      <td>...</td>\n",
       "      <td>...</td>\n",
       "      <td>...</td>\n",
       "      <td>...</td>\n",
       "      <td>...</td>\n",
       "      <td>...</td>\n",
       "      <td>...</td>\n",
       "    </tr>\n",
       "    <tr>\n",
       "      <th>559</th>\n",
       "      <td>2231</td>\n",
       "      <td>smart</td>\n",
       "      <td>1490</td>\n",
       "      <td>50</td>\n",
       "      <td>3</td>\n",
       "      <td>550</td>\n",
       "      <td>7</td>\n",
       "      <td>Москва</td>\n",
       "      <td>62</td>\n",
       "      <td>12</td>\n",
       "      <td>36</td>\n",
       "    </tr>\n",
       "    <tr>\n",
       "      <th>560</th>\n",
       "      <td>2258</td>\n",
       "      <td>smart</td>\n",
       "      <td>1496</td>\n",
       "      <td>50</td>\n",
       "      <td>3</td>\n",
       "      <td>550</td>\n",
       "      <td>12</td>\n",
       "      <td>Вологда</td>\n",
       "      <td>51</td>\n",
       "      <td>1</td>\n",
       "      <td>3</td>\n",
       "    </tr>\n",
       "    <tr>\n",
       "      <th>561</th>\n",
       "      <td>2265</td>\n",
       "      <td>smart</td>\n",
       "      <td>1498</td>\n",
       "      <td>50</td>\n",
       "      <td>3</td>\n",
       "      <td>550</td>\n",
       "      <td>8</td>\n",
       "      <td>Владикавказ</td>\n",
       "      <td>62</td>\n",
       "      <td>12</td>\n",
       "      <td>36</td>\n",
       "    </tr>\n",
       "    <tr>\n",
       "      <th>562</th>\n",
       "      <td>2271</td>\n",
       "      <td>smart</td>\n",
       "      <td>1499</td>\n",
       "      <td>50</td>\n",
       "      <td>3</td>\n",
       "      <td>550</td>\n",
       "      <td>11</td>\n",
       "      <td>Пермь</td>\n",
       "      <td>59</td>\n",
       "      <td>9</td>\n",
       "      <td>27</td>\n",
       "    </tr>\n",
       "    <tr>\n",
       "      <th>563</th>\n",
       "      <td>2272</td>\n",
       "      <td>smart</td>\n",
       "      <td>1499</td>\n",
       "      <td>50</td>\n",
       "      <td>3</td>\n",
       "      <td>550</td>\n",
       "      <td>12</td>\n",
       "      <td>Пермь</td>\n",
       "      <td>66</td>\n",
       "      <td>16</td>\n",
       "      <td>48</td>\n",
       "    </tr>\n",
       "  </tbody>\n",
       "</table>\n",
       "<p>564 rows × 11 columns</p>\n",
       "</div>"
      ],
      "text/plain": [
       "     index tariff  user_id  messages_included  rub_per_message  \\\n",
       "0       12  smart     1005                 50                3   \n",
       "1       16  smart     1005                 50                3   \n",
       "2       17  smart     1005                 50                3   \n",
       "3       18  smart     1005                 50                3   \n",
       "4       20  smart     1005                 50                3   \n",
       "..     ...    ...      ...                ...              ...   \n",
       "559   2231  smart     1490                 50                3   \n",
       "560   2258  smart     1496                 50                3   \n",
       "561   2265  smart     1498                 50                3   \n",
       "562   2271  smart     1499                 50                3   \n",
       "563   2272  smart     1499                 50                3   \n",
       "\n",
       "     rub_monthly_fee  sms_in_month              city  mes_count  over_message  \\\n",
       "0                550             3  Набережные Челны         56             6   \n",
       "1                550             7  Набережные Челны         56             6   \n",
       "2                550             8  Набережные Челны         64            14   \n",
       "3                550             9  Набережные Челны         52             2   \n",
       "4                550            11  Набережные Челны         51             1   \n",
       "..               ...           ...               ...        ...           ...   \n",
       "559              550             7            Москва         62            12   \n",
       "560              550            12           Вологда         51             1   \n",
       "561              550             8       Владикавказ         62            12   \n",
       "562              550            11             Пермь         59             9   \n",
       "563              550            12             Пермь         66            16   \n",
       "\n",
       "     revenue_rub  \n",
       "0             18  \n",
       "1             18  \n",
       "2             42  \n",
       "3              6  \n",
       "4              3  \n",
       "..           ...  \n",
       "559           36  \n",
       "560            3  \n",
       "561           36  \n",
       "562           27  \n",
       "563           48  \n",
       "\n",
       "[564 rows x 11 columns]"
      ]
     },
     "execution_count": 39,
     "metadata": {},
     "output_type": "execute_result"
    }
   ],
   "source": [
    "message_stat['over_message'] = message_stat['mes_count'] - message_stat['messages_included']\n",
    "message_stat_revenue = message_stat.query('over_message > 0').reset_index()\n",
    "message_stat_revenue['revenue_rub'] = message_stat_revenue['over_message'] * message_stat_revenue['rub_per_message']\n",
    "message_stat_revenue"
   ]
  },
  {
   "cell_type": "markdown",
   "metadata": {
    "id": "d-z5ru7HhcQu"
   },
   "source": [
    "#### Интернет"
   ]
  },
  {
   "cell_type": "code",
   "execution_count": 40,
   "metadata": {
    "colab": {
     "base_uri": "https://localhost:8080/",
     "height": 419
    },
    "id": "NMG4lW6Ige1O",
    "outputId": "8b81fc9e-545a-4293-a11c-31eb806cf09c"
   },
   "outputs": [
    {
     "data": {
      "text/html": [
       "<div>\n",
       "<style scoped>\n",
       "    .dataframe tbody tr th:only-of-type {\n",
       "        vertical-align: middle;\n",
       "    }\n",
       "\n",
       "    .dataframe tbody tr th {\n",
       "        vertical-align: top;\n",
       "    }\n",
       "\n",
       "    .dataframe thead th {\n",
       "        text-align: right;\n",
       "    }\n",
       "</style>\n",
       "<table border=\"1\" class=\"dataframe\">\n",
       "  <thead>\n",
       "    <tr style=\"text-align: right;\">\n",
       "      <th></th>\n",
       "      <th>index</th>\n",
       "      <th>tariff</th>\n",
       "      <th>user_id</th>\n",
       "      <th>mb_per_month_included</th>\n",
       "      <th>rub_per_gb</th>\n",
       "      <th>rub_monthly_fee</th>\n",
       "      <th>internet_month</th>\n",
       "      <th>city</th>\n",
       "      <th>mb_used</th>\n",
       "      <th>over_gb</th>\n",
       "      <th>revenue_rub</th>\n",
       "    </tr>\n",
       "  </thead>\n",
       "  <tbody>\n",
       "    <tr>\n",
       "      <th>0</th>\n",
       "      <td>1</td>\n",
       "      <td>smart</td>\n",
       "      <td>1001</td>\n",
       "      <td>15360</td>\n",
       "      <td>200</td>\n",
       "      <td>550</td>\n",
       "      <td>11</td>\n",
       "      <td>Москва</td>\n",
       "      <td>18452.0</td>\n",
       "      <td>4</td>\n",
       "      <td>800</td>\n",
       "    </tr>\n",
       "    <tr>\n",
       "      <th>1</th>\n",
       "      <td>5</td>\n",
       "      <td>smart</td>\n",
       "      <td>1002</td>\n",
       "      <td>15360</td>\n",
       "      <td>200</td>\n",
       "      <td>550</td>\n",
       "      <td>7</td>\n",
       "      <td>Стерлитамак</td>\n",
       "      <td>17601.0</td>\n",
       "      <td>3</td>\n",
       "      <td>600</td>\n",
       "    </tr>\n",
       "    <tr>\n",
       "      <th>2</th>\n",
       "      <td>6</td>\n",
       "      <td>smart</td>\n",
       "      <td>1002</td>\n",
       "      <td>15360</td>\n",
       "      <td>200</td>\n",
       "      <td>550</td>\n",
       "      <td>8</td>\n",
       "      <td>Стерлитамак</td>\n",
       "      <td>20347.0</td>\n",
       "      <td>5</td>\n",
       "      <td>1000</td>\n",
       "    </tr>\n",
       "    <tr>\n",
       "      <th>3</th>\n",
       "      <td>7</td>\n",
       "      <td>smart</td>\n",
       "      <td>1002</td>\n",
       "      <td>15360</td>\n",
       "      <td>200</td>\n",
       "      <td>550</td>\n",
       "      <td>9</td>\n",
       "      <td>Стерлитамак</td>\n",
       "      <td>16712.0</td>\n",
       "      <td>2</td>\n",
       "      <td>400</td>\n",
       "    </tr>\n",
       "    <tr>\n",
       "      <th>4</th>\n",
       "      <td>9</td>\n",
       "      <td>smart</td>\n",
       "      <td>1002</td>\n",
       "      <td>15360</td>\n",
       "      <td>200</td>\n",
       "      <td>550</td>\n",
       "      <td>11</td>\n",
       "      <td>Стерлитамак</td>\n",
       "      <td>18610.0</td>\n",
       "      <td>4</td>\n",
       "      <td>800</td>\n",
       "    </tr>\n",
       "    <tr>\n",
       "      <th>...</th>\n",
       "      <td>...</td>\n",
       "      <td>...</td>\n",
       "      <td>...</td>\n",
       "      <td>...</td>\n",
       "      <td>...</td>\n",
       "      <td>...</td>\n",
       "      <td>...</td>\n",
       "      <td>...</td>\n",
       "      <td>...</td>\n",
       "      <td>...</td>\n",
       "      <td>...</td>\n",
       "    </tr>\n",
       "    <tr>\n",
       "      <th>1438</th>\n",
       "      <td>3647</td>\n",
       "      <td>ultra</td>\n",
       "      <td>1469</td>\n",
       "      <td>30720</td>\n",
       "      <td>150</td>\n",
       "      <td>1950</td>\n",
       "      <td>11</td>\n",
       "      <td>Сочи</td>\n",
       "      <td>35533.0</td>\n",
       "      <td>5</td>\n",
       "      <td>750</td>\n",
       "    </tr>\n",
       "    <tr>\n",
       "      <th>1439</th>\n",
       "      <td>3669</td>\n",
       "      <td>ultra</td>\n",
       "      <td>1474</td>\n",
       "      <td>30720</td>\n",
       "      <td>150</td>\n",
       "      <td>1950</td>\n",
       "      <td>12</td>\n",
       "      <td>Набережные Челны</td>\n",
       "      <td>42356.0</td>\n",
       "      <td>12</td>\n",
       "      <td>1800</td>\n",
       "    </tr>\n",
       "    <tr>\n",
       "      <th>1440</th>\n",
       "      <td>3694</td>\n",
       "      <td>ultra</td>\n",
       "      <td>1493</td>\n",
       "      <td>30720</td>\n",
       "      <td>150</td>\n",
       "      <td>1950</td>\n",
       "      <td>12</td>\n",
       "      <td>Красноярск</td>\n",
       "      <td>42776.0</td>\n",
       "      <td>12</td>\n",
       "      <td>1800</td>\n",
       "    </tr>\n",
       "    <tr>\n",
       "      <th>1441</th>\n",
       "      <td>3697</td>\n",
       "      <td>ultra</td>\n",
       "      <td>1495</td>\n",
       "      <td>30720</td>\n",
       "      <td>150</td>\n",
       "      <td>1950</td>\n",
       "      <td>9</td>\n",
       "      <td>Иркутск</td>\n",
       "      <td>33105.0</td>\n",
       "      <td>3</td>\n",
       "      <td>450</td>\n",
       "    </tr>\n",
       "    <tr>\n",
       "      <th>1442</th>\n",
       "      <td>3699</td>\n",
       "      <td>ultra</td>\n",
       "      <td>1495</td>\n",
       "      <td>30720</td>\n",
       "      <td>150</td>\n",
       "      <td>1950</td>\n",
       "      <td>11</td>\n",
       "      <td>Иркутск</td>\n",
       "      <td>38972.0</td>\n",
       "      <td>9</td>\n",
       "      <td>1350</td>\n",
       "    </tr>\n",
       "  </tbody>\n",
       "</table>\n",
       "<p>1443 rows × 11 columns</p>\n",
       "</div>"
      ],
      "text/plain": [
       "      index tariff  user_id  mb_per_month_included  rub_per_gb  \\\n",
       "0         1  smart     1001                  15360         200   \n",
       "1         5  smart     1002                  15360         200   \n",
       "2         6  smart     1002                  15360         200   \n",
       "3         7  smart     1002                  15360         200   \n",
       "4         9  smart     1002                  15360         200   \n",
       "...     ...    ...      ...                    ...         ...   \n",
       "1438   3647  ultra     1469                  30720         150   \n",
       "1439   3669  ultra     1474                  30720         150   \n",
       "1440   3694  ultra     1493                  30720         150   \n",
       "1441   3697  ultra     1495                  30720         150   \n",
       "1442   3699  ultra     1495                  30720         150   \n",
       "\n",
       "      rub_monthly_fee  internet_month              city  mb_used  over_gb  \\\n",
       "0                 550              11            Москва  18452.0        4   \n",
       "1                 550               7       Стерлитамак  17601.0        3   \n",
       "2                 550               8       Стерлитамак  20347.0        5   \n",
       "3                 550               9       Стерлитамак  16712.0        2   \n",
       "4                 550              11       Стерлитамак  18610.0        4   \n",
       "...               ...             ...               ...      ...      ...   \n",
       "1438             1950              11              Сочи  35533.0        5   \n",
       "1439             1950              12  Набережные Челны  42356.0       12   \n",
       "1440             1950              12        Красноярск  42776.0       12   \n",
       "1441             1950               9           Иркутск  33105.0        3   \n",
       "1442             1950              11           Иркутск  38972.0        9   \n",
       "\n",
       "      revenue_rub  \n",
       "0             800  \n",
       "1             600  \n",
       "2            1000  \n",
       "3             400  \n",
       "4             800  \n",
       "...           ...  \n",
       "1438          750  \n",
       "1439         1800  \n",
       "1440         1800  \n",
       "1441          450  \n",
       "1442         1350  \n",
       "\n",
       "[1443 rows x 11 columns]"
      ]
     },
     "execution_count": 40,
     "metadata": {},
     "output_type": "execute_result"
    }
   ],
   "source": [
    "gb = 1024 # Переведем мб в гб\n",
    "internet_stats['over_gb'] = (internet_stats['mb_used'] - internet_stats['mb_per_month_included']) / gb\n",
    "internet_stats_revenue = internet_stats.query('over_gb > 0').reset_index()\n",
    "internet_stats_revenue['over_gb'] = np.ceil(internet_stats_revenue['over_gb']).astype(int)\n",
    "internet_stats_revenue['revenue_rub'] = internet_stats_revenue['over_gb'] * internet_stats_revenue['rub_per_gb']\n",
    "internet_stats_revenue"
   ]
  },
  {
   "cell_type": "markdown",
   "metadata": {
    "id": "R7x17oQzEjoH"
   },
   "source": [
    "Объеденим три этих датасета и посчитаем выручку за месяц для тех кто привышает лимит."
   ]
  },
  {
   "cell_type": "code",
   "execution_count": 41,
   "metadata": {
    "id": "KTXcC8xJDclf"
   },
   "outputs": [],
   "source": [
    "full_revenue = call_stats_revenue.merge(message_stat_revenue, on='user_id', how='outer')\n",
    "full_revenue = full_revenue.merge(internet_stats_revenue, on='user_id', how='outer')"
   ]
  },
  {
   "cell_type": "code",
   "execution_count": 42,
   "metadata": {
    "colab": {
     "base_uri": "https://localhost:8080/",
     "height": 235
    },
    "id": "EKYQewH7D07j",
    "outputId": "c665eff1-0139-43b0-893e-4030533e6284"
   },
   "outputs": [
    {
     "data": {
      "text/html": [
       "<div>\n",
       "<style scoped>\n",
       "    .dataframe tbody tr th:only-of-type {\n",
       "        vertical-align: middle;\n",
       "    }\n",
       "\n",
       "    .dataframe tbody tr th {\n",
       "        vertical-align: top;\n",
       "    }\n",
       "\n",
       "    .dataframe thead th {\n",
       "        text-align: right;\n",
       "    }\n",
       "</style>\n",
       "<table border=\"1\" class=\"dataframe\">\n",
       "  <thead>\n",
       "    <tr style=\"text-align: right;\">\n",
       "      <th></th>\n",
       "      <th>revenue_rub</th>\n",
       "    </tr>\n",
       "    <tr>\n",
       "      <th>user_id</th>\n",
       "      <th></th>\n",
       "    </tr>\n",
       "  </thead>\n",
       "  <tbody>\n",
       "    <tr>\n",
       "      <th>1001</th>\n",
       "      <td>800.000000</td>\n",
       "    </tr>\n",
       "    <tr>\n",
       "      <th>1002</th>\n",
       "      <td>680.000000</td>\n",
       "    </tr>\n",
       "    <tr>\n",
       "      <th>1005</th>\n",
       "      <td>374.833333</td>\n",
       "    </tr>\n",
       "    <tr>\n",
       "      <th>1006</th>\n",
       "      <td>700.000000</td>\n",
       "    </tr>\n",
       "    <tr>\n",
       "      <th>1007</th>\n",
       "      <td>867.750000</td>\n",
       "    </tr>\n",
       "  </tbody>\n",
       "</table>\n",
       "</div>"
      ],
      "text/plain": [
       "         revenue_rub\n",
       "user_id             \n",
       "1001      800.000000\n",
       "1002      680.000000\n",
       "1005      374.833333\n",
       "1006      700.000000\n",
       "1007      867.750000"
      ]
     },
     "execution_count": 42,
     "metadata": {},
     "output_type": "execute_result"
    }
   ],
   "source": [
    "full_revenue = full_revenue.fillna(0)\n",
    "full_revenue['revenue_rub'] = full_revenue['revenue_rub'] + full_revenue['revenue_rub_x'] + full_revenue['revenue_rub_y']\n",
    "full_revenue_fixed = full_revenue.loc[:, ['user_id', 'revenue_rub']]\n",
    "full_revenue_fixed = full_revenue_fixed.groupby('user_id').agg('mean')\n",
    "full_revenue_fixed.head()"
   ]
  },
  {
   "cell_type": "markdown",
   "metadata": {
    "id": "39pAPzJHEFjF"
   },
   "source": [
    "Создадим еще один датасет с данными из общей таблицы - с информацией о тарифе, городе и абонентской плате."
   ]
  },
  {
   "cell_type": "code",
   "execution_count": 43,
   "metadata": {
    "id": "gcNC-ZwcEF8G"
   },
   "outputs": [],
   "source": [
    "additional_info = (df\n",
    "          .groupby(['user_id', 'tariff', 'city', 'rub_monthly_fee'])['first_name']\n",
    "          .agg('count')\n",
    "          .reset_index()\n",
    "         )"
   ]
  },
  {
   "cell_type": "markdown",
   "metadata": {
    "id": "5VBX_MDjELeS"
   },
   "source": [
    "Объединим два датасета и прибавим к перерасходу абонентскую плату. Получим данные о средней выручке с каждого абонента в месяц."
   ]
  },
  {
   "cell_type": "code",
   "execution_count": 44,
   "metadata": {
    "colab": {
     "base_uri": "https://localhost:8080/",
     "height": 419
    },
    "id": "ldP40MaGELPp",
    "outputId": "0c908e64-d944-4dec-ad6c-b15806bc51ca"
   },
   "outputs": [
    {
     "data": {
      "text/html": [
       "<div>\n",
       "<style scoped>\n",
       "    .dataframe tbody tr th:only-of-type {\n",
       "        vertical-align: middle;\n",
       "    }\n",
       "\n",
       "    .dataframe tbody tr th {\n",
       "        vertical-align: top;\n",
       "    }\n",
       "\n",
       "    .dataframe thead th {\n",
       "        text-align: right;\n",
       "    }\n",
       "</style>\n",
       "<table border=\"1\" class=\"dataframe\">\n",
       "  <thead>\n",
       "    <tr style=\"text-align: right;\">\n",
       "      <th></th>\n",
       "      <th>user_id</th>\n",
       "      <th>tariff</th>\n",
       "      <th>city</th>\n",
       "      <th>rub_monthly_fee</th>\n",
       "      <th>revenue_rub</th>\n",
       "    </tr>\n",
       "  </thead>\n",
       "  <tbody>\n",
       "    <tr>\n",
       "      <th>0</th>\n",
       "      <td>1000</td>\n",
       "      <td>ultra</td>\n",
       "      <td>Краснодар</td>\n",
       "      <td>1950</td>\n",
       "      <td>1950</td>\n",
       "    </tr>\n",
       "    <tr>\n",
       "      <th>1</th>\n",
       "      <td>1001</td>\n",
       "      <td>smart</td>\n",
       "      <td>Москва</td>\n",
       "      <td>550</td>\n",
       "      <td>1350</td>\n",
       "    </tr>\n",
       "    <tr>\n",
       "      <th>2</th>\n",
       "      <td>1002</td>\n",
       "      <td>smart</td>\n",
       "      <td>Стерлитамак</td>\n",
       "      <td>550</td>\n",
       "      <td>1230</td>\n",
       "    </tr>\n",
       "    <tr>\n",
       "      <th>3</th>\n",
       "      <td>1003</td>\n",
       "      <td>ultra</td>\n",
       "      <td>Москва</td>\n",
       "      <td>1950</td>\n",
       "      <td>1950</td>\n",
       "    </tr>\n",
       "    <tr>\n",
       "      <th>4</th>\n",
       "      <td>1004</td>\n",
       "      <td>ultra</td>\n",
       "      <td>Новокузнецк</td>\n",
       "      <td>1950</td>\n",
       "      <td>1950</td>\n",
       "    </tr>\n",
       "    <tr>\n",
       "      <th>...</th>\n",
       "      <td>...</td>\n",
       "      <td>...</td>\n",
       "      <td>...</td>\n",
       "      <td>...</td>\n",
       "      <td>...</td>\n",
       "    </tr>\n",
       "    <tr>\n",
       "      <th>495</th>\n",
       "      <td>1495</td>\n",
       "      <td>ultra</td>\n",
       "      <td>Иркутск</td>\n",
       "      <td>1950</td>\n",
       "      <td>2850</td>\n",
       "    </tr>\n",
       "    <tr>\n",
       "      <th>496</th>\n",
       "      <td>1496</td>\n",
       "      <td>smart</td>\n",
       "      <td>Вологда</td>\n",
       "      <td>550</td>\n",
       "      <td>2601</td>\n",
       "    </tr>\n",
       "    <tr>\n",
       "      <th>497</th>\n",
       "      <td>1497</td>\n",
       "      <td>smart</td>\n",
       "      <td>Челябинск</td>\n",
       "      <td>550</td>\n",
       "      <td>1685</td>\n",
       "    </tr>\n",
       "    <tr>\n",
       "      <th>498</th>\n",
       "      <td>1498</td>\n",
       "      <td>smart</td>\n",
       "      <td>Владикавказ</td>\n",
       "      <td>550</td>\n",
       "      <td>2052</td>\n",
       "    </tr>\n",
       "    <tr>\n",
       "      <th>499</th>\n",
       "      <td>1499</td>\n",
       "      <td>smart</td>\n",
       "      <td>Пермь</td>\n",
       "      <td>550</td>\n",
       "      <td>1523</td>\n",
       "    </tr>\n",
       "  </tbody>\n",
       "</table>\n",
       "<p>500 rows × 5 columns</p>\n",
       "</div>"
      ],
      "text/plain": [
       "     user_id tariff         city  rub_monthly_fee  revenue_rub\n",
       "0       1000  ultra    Краснодар             1950         1950\n",
       "1       1001  smart       Москва              550         1350\n",
       "2       1002  smart  Стерлитамак              550         1230\n",
       "3       1003  ultra       Москва             1950         1950\n",
       "4       1004  ultra  Новокузнецк             1950         1950\n",
       "..       ...    ...          ...              ...          ...\n",
       "495     1495  ultra      Иркутск             1950         2850\n",
       "496     1496  smart      Вологда              550         2601\n",
       "497     1497  smart    Челябинск              550         1685\n",
       "498     1498  smart  Владикавказ              550         2052\n",
       "499     1499  smart        Пермь              550         1523\n",
       "\n",
       "[500 rows x 5 columns]"
      ]
     },
     "execution_count": 44,
     "metadata": {},
     "output_type": "execute_result"
    }
   ],
   "source": [
    "final_revenue = additional_info.merge(full_revenue_fixed, on='user_id',how='outer')\n",
    "final_revenue = final_revenue.fillna(0)\n",
    "final_revenue['revenue_rub'] = final_revenue['revenue_rub'].astype(int) + final_revenue['rub_monthly_fee'].astype(int)\n",
    "final_revenue.drop('first_name', axis='columns', inplace=True)\n",
    "final_revenue"
   ]
  },
  {
   "cell_type": "markdown",
   "metadata": {
    "id": "M3xJuAfhCcHt"
   },
   "source": [
    "Сгруппируем для удобства"
   ]
  },
  {
   "cell_type": "code",
   "execution_count": 45,
   "metadata": {
    "id": "rbHf0e2KCf1-"
   },
   "outputs": [],
   "source": [
    "smart_revenue = final_revenue.query('tariff == \"smart\"')\n",
    "ultra_revenue = final_revenue.query('tariff == \"ultra\"')"
   ]
  },
  {
   "cell_type": "code",
   "execution_count": 46,
   "metadata": {},
   "outputs": [
    {
     "data": {
      "text/plain": [
       "500"
      ]
     },
     "execution_count": 46,
     "metadata": {},
     "output_type": "execute_result"
    }
   ],
   "source": [
    "len(users['user_id']) "
   ]
  },
  {
   "cell_type": "code",
   "execution_count": 47,
   "metadata": {},
   "outputs": [
    {
     "data": {
      "text/plain": [
       "500"
      ]
     },
     "execution_count": 47,
     "metadata": {},
     "output_type": "execute_result"
    }
   ],
   "source": [
    "len(final_revenue['user_id']) # В финальный датасет вошли все 500 пользователей, что были и даны изначально, ни кого не потеряли."
   ]
  },
  {
   "cell_type": "markdown",
   "metadata": {
    "id": "e0mU2OVOicM7"
   },
   "source": [
    "# Анализ данных:"
   ]
  },
  {
   "cell_type": "markdown",
   "metadata": {
    "id": "UOqmq5XiqgVn"
   },
   "source": [
    "Опишем поведение клиентов оператора, исходя из выборки. Сколько минут разговора, сколько сообщений и какой объём интернет-трафика требуется пользователям каждого тарифа в месяц. Посчитаем среднее количество, дисперсию и стандартное отклонение. Постройте гистограммы. Опишим распределения."
   ]
  },
  {
   "cell_type": "code",
   "execution_count": 48,
   "metadata": {
    "id": "tCxN7MYhxfNK"
   },
   "outputs": [],
   "source": [
    "def info(data):                                       # Напишу функцию для вывода информации о среднем, дисперсии и стандартном отклонении.\n",
    "  return (print('Среднее равно: ', data.mean()), \n",
    "  print('Дисперсия равна: ', np.var(data, ddof=1)),\n",
    "  print('Стандартное отклонение равно: ', np.std(data, ddof=1))\n",
    "  )"
   ]
  },
  {
   "cell_type": "code",
   "execution_count": 49,
   "metadata": {},
   "outputs": [],
   "source": [
    "def sigma(i):\n",
    "    return i.mean() - 3*np.std(i, ddof=1), i.mean() + 3*np.std(i, ddof=1)  # Функция для вывода правила 3х сигм\n",
    "    "
   ]
  },
  {
   "cell_type": "markdown",
   "metadata": {
    "id": "RpuEHuddqpeR"
   },
   "source": [
    "#### Звонки"
   ]
  },
  {
   "cell_type": "code",
   "execution_count": 50,
   "metadata": {
    "id": "EYbCrscLgO2m"
   },
   "outputs": [],
   "source": [
    "smart_call_stat = call_stats.query('tariff == \"smart\"')\n",
    "smart_call_stat_gp = smart_call_stat.groupby('call_in_mounth')['sum'].agg('mean')"
   ]
  },
  {
   "cell_type": "markdown",
   "metadata": {
    "id": "_a5xdXy_rxJI"
   },
   "source": [
    "Для рассчетов взял среднее из каждого месяца."
   ]
  },
  {
   "cell_type": "code",
   "execution_count": 51,
   "metadata": {
    "colab": {
     "base_uri": "https://localhost:8080/"
    },
    "id": "Tf8oTqHTxzjr",
    "outputId": "9426ab55-4a26-4b2e-edd6-c8105e07ba07"
   },
   "outputs": [
    {
     "name": "stdout",
     "output_type": "stream",
     "text": [
      "Среднее равно:  387.605809617519\n",
      "Дисперсия равна:  5296.8959771205455\n",
      "Стандартное отклонение равно:  72.7797772538536\n"
     ]
    }
   ],
   "source": [
    "info(smart_call_stat_gp);"
   ]
  },
  {
   "cell_type": "markdown",
   "metadata": {
    "id": "1C-M5-ONsnfY"
   },
   "source": [
    "Благодаря правилу 3х сигм узнаем в каком промежутке лежат интересующие данные"
   ]
  },
  {
   "cell_type": "code",
   "execution_count": 52,
   "metadata": {
    "colab": {
     "base_uri": "https://localhost:8080/"
    },
    "id": "w2n4CcYNsuAI",
    "outputId": "a963d476-c164-4d39-9709-80bf06323ab4"
   },
   "outputs": [
    {
     "data": {
      "text/plain": [
       "(169.26647785595821, 605.9451413790798)"
      ]
     },
     "execution_count": 52,
     "metadata": {},
     "output_type": "execute_result"
    }
   ],
   "source": [
    "sigma(smart_call_stat_gp)"
   ]
  },
  {
   "cell_type": "code",
   "execution_count": 53,
   "metadata": {
    "colab": {
     "base_uri": "https://localhost:8080/",
     "height": 336
    },
    "id": "xoEO43PCs7SN",
    "outputId": "05e57410-870b-46ce-a232-0d918b11319d"
   },
   "outputs": [
    {
     "data": {
      "image/png": "[encoded data removed]",
      "text/plain": [
       "<Figure size 648x360 with 1 Axes>"
      ]
     },
     "metadata": {
      "needs_background": "light"
     },
     "output_type": "display_data"
    }
   ],
   "source": [
    "smart_call_stat.hist('sum', figsize=(9,5), bins=20);"
   ]
  },
  {
   "cell_type": "markdown",
   "metadata": {
    "id": "5YaphmjUuYba"
   },
   "source": [
    "Распределение на гистограмме условно можно назвать нормальным, большая часть значений лежит в промежутке который был рассчитан выше.\n",
    "Большенство пользователей тарифа `Smart`  от 300 до 580 минут в месяц. "
   ]
  },
  {
   "cell_type": "code",
   "execution_count": 54,
   "metadata": {
    "id": "r6RrnFwzuX0i"
   },
   "outputs": [],
   "source": [
    "ultra_call_stat = call_stats.query('tariff == \"ultra\"')\n",
    "ultra_call_stat_gb = ultra_call_stat.groupby('call_in_mounth')['sum'].agg('mean')"
   ]
  },
  {
   "cell_type": "code",
   "execution_count": 55,
   "metadata": {
    "colab": {
     "base_uri": "https://localhost:8080/"
    },
    "id": "Zwf-3CjetMyd",
    "outputId": "01015e64-1ebd-4a0e-f38e-4274e5aebf3c"
   },
   "outputs": [
    {
     "name": "stdout",
     "output_type": "stream",
     "text": [
      "Среднее равно:  511.23471423122083\n",
      "Дисперсия равна:  7185.123007600402\n",
      "Стандартное отклонение равно:  84.76510489346664\n"
     ]
    }
   ],
   "source": [
    "info(ultra_call_stat_gb);"
   ]
  },
  {
   "cell_type": "code",
   "execution_count": 56,
   "metadata": {},
   "outputs": [
    {
     "data": {
      "text/plain": [
       "(256.9393995508209, 765.5300289116208)"
      ]
     },
     "execution_count": 56,
     "metadata": {},
     "output_type": "execute_result"
    }
   ],
   "source": [
    "sigma(ultra_call_stat_gb)"
   ]
  },
  {
   "cell_type": "code",
   "execution_count": 57,
   "metadata": {
    "colab": {
     "base_uri": "https://localhost:8080/",
     "height": 336
    },
    "id": "qySonjfOzBx4",
    "outputId": "1f75eb06-8efd-4924-e8af-1fc109ac9ded"
   },
   "outputs": [
    {
     "data": {
      "image/png": "[encoded data removed]",
      "text/plain": [
       "<Figure size 648x360 with 1 Axes>"
      ]
     },
     "metadata": {
      "needs_background": "light"
     },
     "output_type": "display_data"
    }
   ],
   "source": [
    "ultra_call_stat.hist('sum', figsize=(9,5));"
   ]
  },
  {
   "cell_type": "code",
   "execution_count": 58,
   "metadata": {
    "colab": {
     "base_uri": "https://localhost:8080/"
    },
    "id": "xx0kzaPW216z",
    "outputId": "09254397-122f-4ba6-a408-dbfc82cb51c7"
   },
   "outputs": [
    {
     "name": "stdout",
     "output_type": "stream",
     "text": [
      "Максимально значение израсходованных минут: 1673.0\n"
     ]
    }
   ],
   "source": [
    "print('Максимально значение израсходованных минут:', max(ultra_call_stat['sum']))"
   ]
  },
  {
   "cell_type": "markdown",
   "metadata": {
    "id": "iOzAtzIoz-zs"
   },
   "source": [
    "Распределение скошенно вправо. Это говорит о том, что среднее больше медианны, значит есть значения которые влияют на среднее. Основная масса пользователей используют от 500 до 650 минут в месяц."
   ]
  },
  {
   "cell_type": "markdown",
   "metadata": {
    "id": "8MutmPgt1EG0"
   },
   "source": [
    "**Пользователи `Smart` используют минут в месяц немного меньше чем пользователи `Ultra`, видимо `Ultra` выбирают не из-за колличества минут, так как подовляющие большенство пользователй не тратят 30к минут на разговоры, не смотря на то что небольшое количество пользователей проговаривают больше половины минут от тарифа, тех кто достигает лимита нету.**"
   ]
  },
  {
   "cell_type": "code",
   "execution_count": 59,
   "metadata": {},
   "outputs": [
    {
     "data": {
      "text/plain": [
       "<matplotlib.legend.Legend at 0x7ff8825bfd90>"
      ]
     },
     "execution_count": 59,
     "metadata": {},
     "output_type": "execute_result"
    },
    {
     "data": {
      "image/png": "[encoded data removed]",
      "text/plain": [
       "<Figure size 648x360 with 1 Axes>"
      ]
     },
     "metadata": {
      "needs_background": "light"
     },
     "output_type": "display_data"
    }
   ],
   "source": [
    "smart_call_stat['sum'].plot(kind='hist', figsize=(9,5),label='Smart');\n",
    "ultra_call_stat['sum'].plot(kind='hist', figsize=(9,5), alpha=0.5,label='Ultra');\n",
    "plt.legend()"
   ]
  },
  {
   "cell_type": "markdown",
   "metadata": {
    "id": "uTBFR04f2ohX"
   },
   "source": [
    "#### Сообщения"
   ]
  },
  {
   "cell_type": "code",
   "execution_count": 60,
   "metadata": {
    "id": "u1b7aoYJzSXA"
   },
   "outputs": [],
   "source": [
    "smart_message_stat = message_stat.query('tariff == \"smart\"')\n",
    "smart_message_stat_gp = smart_message_stat.groupby('sms_in_month')['mes_count'].agg('mean')"
   ]
  },
  {
   "cell_type": "code",
   "execution_count": 61,
   "metadata": {
    "colab": {
     "base_uri": "https://localhost:8080/"
    },
    "id": "9KLTPgV-4Wub",
    "outputId": "dcaad260-a25e-47d7-a7d6-b5bdb6193142"
   },
   "outputs": [
    {
     "name": "stdout",
     "output_type": "stream",
     "text": [
      "Среднее равно:  36.2627302785857\n",
      "Дисперсия равна:  38.80668503759196\n",
      "Стандартное отклонение равно:  6.229501186900277\n"
     ]
    }
   ],
   "source": [
    "info(smart_message_stat_gp);"
   ]
  },
  {
   "cell_type": "code",
   "execution_count": 62,
   "metadata": {},
   "outputs": [
    {
     "data": {
      "text/plain": [
       "(17.57422671788487, 54.95123383928653)"
      ]
     },
     "execution_count": 62,
     "metadata": {},
     "output_type": "execute_result"
    }
   ],
   "source": [
    "sigma(smart_message_stat_gp)"
   ]
  },
  {
   "cell_type": "code",
   "execution_count": 63,
   "metadata": {
    "colab": {
     "base_uri": "https://localhost:8080/",
     "height": 336
    },
    "id": "K_80BBYW340p",
    "outputId": "3a349136-1bc6-488e-e8ab-08056c07b81a"
   },
   "outputs": [
    {
     "data": {
      "image/png": "[encoded data removed]",
      "text/plain": [
       "<Figure size 648x360 with 1 Axes>"
      ]
     },
     "metadata": {
      "needs_background": "light"
     },
     "output_type": "display_data"
    }
   ],
   "source": [
    "smart_message_stat.hist('mes_count', figsize=(9,5));"
   ]
  },
  {
   "cell_type": "markdown",
   "metadata": {
    "id": "MYa7QBA45suE"
   },
   "source": [
    "Гистограмма скошена вправо, в основном пользователи тратят до 50 сообщений которые входят в тариф, но так же есть много тех которые превышают лимит, тем самым принося доход компании. "
   ]
  },
  {
   "cell_type": "code",
   "execution_count": 64,
   "metadata": {
    "id": "KRrlR24p5fj7"
   },
   "outputs": [],
   "source": [
    "ultra_message_stat = message_stat.query('tariff == \"ultra\"')\n",
    "ultra_message_stat_gp = ultra_message_stat.groupby('sms_in_month')['mes_count'].agg('mean')"
   ]
  },
  {
   "cell_type": "code",
   "execution_count": 65,
   "metadata": {
    "colab": {
     "base_uri": "https://localhost:8080/"
    },
    "id": "frWEn6PF6nTS",
    "outputId": "58d27bad-44b3-4301-a27b-932b5b4bc977"
   },
   "outputs": [
    {
     "name": "stdout",
     "output_type": "stream",
     "text": [
      "Среднее равно:  55.169628669643124\n",
      "Дисперсия равна:  145.0245868769887\n",
      "Стандартное отклонение равно:  12.042615450017022\n"
     ]
    }
   ],
   "source": [
    "info(ultra_message_stat_gp);"
   ]
  },
  {
   "cell_type": "code",
   "execution_count": 66,
   "metadata": {},
   "outputs": [
    {
     "data": {
      "text/plain": [
       "(19.04178231959206, 91.29747501969419)"
      ]
     },
     "execution_count": 66,
     "metadata": {},
     "output_type": "execute_result"
    }
   ],
   "source": [
    "sigma(ultra_message_stat_gp)"
   ]
  },
  {
   "cell_type": "code",
   "execution_count": 67,
   "metadata": {
    "colab": {
     "base_uri": "https://localhost:8080/",
     "height": 336
    },
    "id": "jkwEt2Nf6qUB",
    "outputId": "bd70f8aa-7479-4602-b4cd-d5604d1b512f"
   },
   "outputs": [
    {
     "data": {
      "image/png": "[encoded data removed]",
      "text/plain": [
       "<Figure size 648x360 with 1 Axes>"
      ]
     },
     "metadata": {
      "needs_background": "light"
     },
     "output_type": "display_data"
    }
   ],
   "source": [
    "ultra_message_stat.hist('mes_count', figsize=(9,5));"
   ]
  },
  {
   "cell_type": "code",
   "execution_count": 68,
   "metadata": {
    "colab": {
     "base_uri": "https://localhost:8080/"
    },
    "id": "cjUOHwgA7q-D",
    "outputId": "f76c26b5-bec9-41df-89bd-2680ad2feffb"
   },
   "outputs": [
    {
     "name": "stdout",
     "output_type": "stream",
     "text": [
      "Максимально колличество отправленных сообщений : 224\n"
     ]
    }
   ],
   "source": [
    "print('Максимально колличество отправленных сообщений :', max(ultra_message_stat['mes_count']))"
   ]
  },
  {
   "cell_type": "markdown",
   "metadata": {
    "id": "iKu-tPLx6_JH"
   },
   "source": [
    "**Подавляющие большенство пользователей `Ultra` тратят меньше смс чем пользователи `Smart`, есть пользователи которые тратят больше, но лимита в 1к смс ни кто**"
   ]
  },
  {
   "cell_type": "code",
   "execution_count": 69,
   "metadata": {},
   "outputs": [
    {
     "data": {
      "image/png": "[encoded data removed]",
      "text/plain": [
       "<Figure size 648x360 with 1 Axes>"
      ]
     },
     "metadata": {
      "needs_background": "light"
     },
     "output_type": "display_data"
    }
   ],
   "source": [
    "ultra_message_stat['mes_count'].plot(kind='hist', figsize=(9,5), label='Ultra')\n",
    "smart_message_stat['mes_count'].plot(kind='hist', figsize=(9,5), alpha=0.5, label='Smart')\n",
    "plt.legend();"
   ]
  },
  {
   "cell_type": "markdown",
   "metadata": {
    "id": "EjF3Xshw769F"
   },
   "source": [
    "#### Интернет"
   ]
  },
  {
   "cell_type": "code",
   "execution_count": 70,
   "metadata": {},
   "outputs": [],
   "source": [
    "internet_stats.rename(columns={'mb_used': 'gb_used'}, inplace=True) # Переименуем колонку так как у нас гб "
   ]
  },
  {
   "cell_type": "code",
   "execution_count": 71,
   "metadata": {
    "colab": {
     "base_uri": "https://localhost:8080/",
     "height": 204
    },
    "id": "ZxdZ3yxD62-z",
    "outputId": "a4bacbfa-b2e8-4dec-cf6b-adc90f496e1d"
   },
   "outputs": [
    {
     "data": {
      "text/html": [
       "<div>\n",
       "<style scoped>\n",
       "    .dataframe tbody tr th:only-of-type {\n",
       "        vertical-align: middle;\n",
       "    }\n",
       "\n",
       "    .dataframe tbody tr th {\n",
       "        vertical-align: top;\n",
       "    }\n",
       "\n",
       "    .dataframe thead th {\n",
       "        text-align: right;\n",
       "    }\n",
       "</style>\n",
       "<table border=\"1\" class=\"dataframe\">\n",
       "  <thead>\n",
       "    <tr style=\"text-align: right;\">\n",
       "      <th></th>\n",
       "      <th>tariff</th>\n",
       "      <th>user_id</th>\n",
       "      <th>mb_per_month_included</th>\n",
       "      <th>rub_per_gb</th>\n",
       "      <th>rub_monthly_fee</th>\n",
       "      <th>internet_month</th>\n",
       "      <th>city</th>\n",
       "      <th>gb_used</th>\n",
       "      <th>over_gb</th>\n",
       "    </tr>\n",
       "  </thead>\n",
       "  <tbody>\n",
       "    <tr>\n",
       "      <th>1</th>\n",
       "      <td>smart</td>\n",
       "      <td>1001</td>\n",
       "      <td>15360</td>\n",
       "      <td>200</td>\n",
       "      <td>550</td>\n",
       "      <td>11</td>\n",
       "      <td>Москва</td>\n",
       "      <td>18452.0</td>\n",
       "      <td>3.019531</td>\n",
       "    </tr>\n",
       "    <tr>\n",
       "      <th>2</th>\n",
       "      <td>smart</td>\n",
       "      <td>1001</td>\n",
       "      <td>15360</td>\n",
       "      <td>200</td>\n",
       "      <td>550</td>\n",
       "      <td>12</td>\n",
       "      <td>Москва</td>\n",
       "      <td>14053.0</td>\n",
       "      <td>-1.276367</td>\n",
       "    </tr>\n",
       "    <tr>\n",
       "      <th>4</th>\n",
       "      <td>smart</td>\n",
       "      <td>1002</td>\n",
       "      <td>15360</td>\n",
       "      <td>200</td>\n",
       "      <td>550</td>\n",
       "      <td>6</td>\n",
       "      <td>Стерлитамак</td>\n",
       "      <td>10871.0</td>\n",
       "      <td>-4.383789</td>\n",
       "    </tr>\n",
       "    <tr>\n",
       "      <th>5</th>\n",
       "      <td>smart</td>\n",
       "      <td>1002</td>\n",
       "      <td>15360</td>\n",
       "      <td>200</td>\n",
       "      <td>550</td>\n",
       "      <td>7</td>\n",
       "      <td>Стерлитамак</td>\n",
       "      <td>17601.0</td>\n",
       "      <td>2.188477</td>\n",
       "    </tr>\n",
       "    <tr>\n",
       "      <th>6</th>\n",
       "      <td>smart</td>\n",
       "      <td>1002</td>\n",
       "      <td>15360</td>\n",
       "      <td>200</td>\n",
       "      <td>550</td>\n",
       "      <td>8</td>\n",
       "      <td>Стерлитамак</td>\n",
       "      <td>20347.0</td>\n",
       "      <td>4.870117</td>\n",
       "    </tr>\n",
       "  </tbody>\n",
       "</table>\n",
       "</div>"
      ],
      "text/plain": [
       "  tariff  user_id  mb_per_month_included  rub_per_gb  rub_monthly_fee  \\\n",
       "1  smart     1001                  15360         200              550   \n",
       "2  smart     1001                  15360         200              550   \n",
       "4  smart     1002                  15360         200              550   \n",
       "5  smart     1002                  15360         200              550   \n",
       "6  smart     1002                  15360         200              550   \n",
       "\n",
       "   internet_month         city  gb_used   over_gb  \n",
       "1              11       Москва  18452.0  3.019531  \n",
       "2              12       Москва  14053.0 -1.276367  \n",
       "4               6  Стерлитамак  10871.0 -4.383789  \n",
       "5               7  Стерлитамак  17601.0  2.188477  \n",
       "6               8  Стерлитамак  20347.0  4.870117  "
      ]
     },
     "execution_count": 71,
     "metadata": {},
     "output_type": "execute_result"
    }
   ],
   "source": [
    "internet_stats.head()"
   ]
  },
  {
   "cell_type": "code",
   "execution_count": 72,
   "metadata": {
    "id": "5tSptgBn7_9q"
   },
   "outputs": [],
   "source": [
    "smart_internet_stats = internet_stats.query('tariff == \"smart\"')\n",
    "smart_internet_stats_gb = smart_internet_stats.groupby('internet_month')['gb_used'].agg('mean')"
   ]
  },
  {
   "cell_type": "code",
   "execution_count": 73,
   "metadata": {
    "colab": {
     "base_uri": "https://localhost:8080/"
    },
    "id": "B7pn7NYI8Mep",
    "outputId": "585bd099-3a81-4854-9b5b-ff4008e86abe"
   },
   "outputs": [
    {
     "name": "stdout",
     "output_type": "stream",
     "text": [
      "Среднее равно:  15088.385850899236\n",
      "Дисперсия равна:  7192652.732365346\n",
      "Стандартное отклонение равно:  2681.9121410600583\n"
     ]
    }
   ],
   "source": [
    "info(smart_internet_stats_gb);"
   ]
  },
  {
   "cell_type": "code",
   "execution_count": 74,
   "metadata": {},
   "outputs": [
    {
     "data": {
      "text/plain": [
       "(7042.649427719061, 23134.12227407941)"
      ]
     },
     "execution_count": 74,
     "metadata": {},
     "output_type": "execute_result"
    }
   ],
   "source": [
    "sigma(smart_internet_stats_gb)"
   ]
  },
  {
   "cell_type": "code",
   "execution_count": 75,
   "metadata": {
    "colab": {
     "base_uri": "https://localhost:8080/",
     "height": 336
    },
    "id": "3Om-n3dq8hiq",
    "outputId": "b233965d-ea43-44ac-e36f-11368ca113d6"
   },
   "outputs": [
    {
     "data": {
      "image/png": "[encoded data removed]",
      "text/plain": [
       "<Figure size 648x360 with 1 Axes>"
      ]
     },
     "metadata": {
      "needs_background": "light"
     },
     "output_type": "display_data"
    }
   ],
   "source": [
    "smart_internet_stats.hist('gb_used', figsize=(9,5));"
   ]
  },
  {
   "cell_type": "markdown",
   "metadata": {
    "id": "Q7dOPJgK82Jw"
   },
   "source": [
    "Видим нормальное расспределение, на граффике видно что примерно половина придерживается рамок тарифа, но вторая половина пользователей докупают трафик."
   ]
  },
  {
   "cell_type": "code",
   "execution_count": 76,
   "metadata": {
    "id": "hOrxB8fW8s_A"
   },
   "outputs": [],
   "source": [
    "ultra_internet_stats = internet_stats.query('tariff == \"ultra\"')\n",
    "ultra_internet_stats_gb = ultra_internet_stats.groupby('internet_month')['gb_used'].agg('mean')"
   ]
  },
  {
   "cell_type": "code",
   "execution_count": 77,
   "metadata": {
    "colab": {
     "base_uri": "https://localhost:8080/"
    },
    "id": "BYZzJmfF9gI7",
    "outputId": "138794a2-1c0c-455b-d483-f601254004c9"
   },
   "outputs": [
    {
     "name": "stdout",
     "output_type": "stream",
     "text": [
      "Среднее равно:  18468.530518256368\n",
      "Дисперсия равна:  8298745.389709667\n",
      "Стандартное отклонение равно:  2880.754309154057\n"
     ]
    }
   ],
   "source": [
    "info(ultra_internet_stats_gb);"
   ]
  },
  {
   "cell_type": "code",
   "execution_count": 78,
   "metadata": {},
   "outputs": [
    {
     "data": {
      "text/plain": [
       "(9826.267590794198, 27110.79344571854)"
      ]
     },
     "execution_count": 78,
     "metadata": {},
     "output_type": "execute_result"
    }
   ],
   "source": [
    "sigma(ultra_internet_stats_gb)"
   ]
  },
  {
   "cell_type": "code",
   "execution_count": 79,
   "metadata": {
    "colab": {
     "base_uri": "https://localhost:8080/",
     "height": 336
    },
    "id": "RgcPldUy9qnD",
    "outputId": "f1af9767-a73b-4110-ef9d-bec388584f23"
   },
   "outputs": [
    {
     "data": {
      "image/png": "[encoded data removed]",
      "text/plain": [
       "<Figure size 648x360 with 1 Axes>"
      ]
     },
     "metadata": {
      "needs_background": "light"
     },
     "output_type": "display_data"
    }
   ],
   "source": [
    "ultra_internet_stats.hist('gb_used', figsize=(9,5));"
   ]
  },
  {
   "cell_type": "code",
   "execution_count": 80,
   "metadata": {},
   "outputs": [
    {
     "data": {
      "text/plain": [
       "974"
      ]
     },
     "execution_count": 80,
     "metadata": {},
     "output_type": "execute_result"
    }
   ],
   "source": [
    "ultra_internet_stats['user_id'].count()"
   ]
  },
  {
   "cell_type": "code",
   "execution_count": 81,
   "metadata": {},
   "outputs": [
    {
     "data": {
      "text/plain": [
       "2227"
      ]
     },
     "execution_count": 81,
     "metadata": {},
     "output_type": "execute_result"
    }
   ],
   "source": [
    "smart_internet_stats['user_id'].count()"
   ]
  },
  {
   "cell_type": "markdown",
   "metadata": {
    "id": "B6h1TnhE938_"
   },
   "source": [
    "Вот и ответ за что люди покупают тариф `ultra`, резкая просадка на 30к показывает что подавляющие большенство пользователей это те кто покупают этот тариф ради большего трафика на интернет и только, так как по предыдушим анализам этого тарифа пользователи не достигали лимита. "
   ]
  },
  {
   "cell_type": "markdown",
   "metadata": {
    "id": "0YFsrudM_A5i"
   },
   "source": [
    "**Пользователи тарифа `smart` используют минуты и смс чуть меньше чем пользователи `ultra`, однако половина пользователей `smart` докупает себе трафик в интерент. Полльзователи тарифа `ultra` активнее используют интернет и из анализа становится что это основной параметр для пользователей**"
   ]
  },
  {
   "cell_type": "code",
   "execution_count": 82,
   "metadata": {},
   "outputs": [
    {
     "data": {
      "image/png": "[encoded data removed]",
      "text/plain": [
       "<Figure size 648x360 with 1 Axes>"
      ]
     },
     "metadata": {
      "needs_background": "light"
     },
     "output_type": "display_data"
    }
   ],
   "source": [
    "smart_internet_stats['gb_used'].plot(kind='hist', figsize=(9,5), label='Smart');\n",
    "ultra_internet_stats['gb_used'].plot(kind='hist', figsize=(9,5), alpha=0.5, label='Ultra');\n",
    "plt.legend()\n",
    "plt.title('ГБ использованно');"
   ]
  },
  {
   "cell_type": "markdown",
   "metadata": {
    "id": "IJMECAvxACI2"
   },
   "source": [
    "# Гипотезы"
   ]
  },
  {
   "cell_type": "markdown",
   "metadata": {
    "id": "GyAk5WlpAO5t"
   },
   "source": [
    "\n",
    "\n",
    "## 1.   Средняя выручка пользователей тарифов «Ультра» и «Смарт» различаются;\n",
    "\n"
   ]
  },
  {
   "cell_type": "markdown",
   "metadata": {
    "id": "InIRL3F1Arod"
   },
   "source": [
    "Сформулируем нулевую и альтернативную гипотезы\n",
    "\n",
    "* H₀ - средняя выручка пользователей тарифов «Ultra» и «Smart» равна\n",
    "* H₁ - средняя выручка пользователей тарифов «Ultra» и «Smart» не равна\n",
    "\n",
    "\n"
   ]
  },
  {
   "cell_type": "code",
   "execution_count": 83,
   "metadata": {
    "id": "_Xix57i-9zYb"
   },
   "outputs": [],
   "source": [
    "#Зададим критический уровень статистической значимости\n",
    "alpha = .05"
   ]
  },
  {
   "cell_type": "code",
   "execution_count": 84,
   "metadata": {},
   "outputs": [
    {
     "name": "stdout",
     "output_type": "stream",
     "text": [
      "p-значение: 3.0908544414858797e-12\n",
      "Отвергаем нулевую гипотезу\n",
      "\n",
      "Средняя выручка в месяц с пользователя тарифа smart:  1677.4\n",
      "Средняя выручка в месяц с пользователя тарифа ultra:  2196.6\n"
     ]
    }
   ],
   "source": [
    "results = st.ttest_ind(\n",
    "    smart_revenue['revenue_rub'],\n",
    "    ultra_revenue['revenue_rub']\n",
    ")\n",
    "\n",
    "print('p-значение:', results.pvalue)\n",
    "\n",
    "if results.pvalue < alpha:                  \n",
    "    print(\"Отвергаем нулевую гипотезу\")\n",
    "else:\n",
    "    print(\"Не получилось отвергнуть нулевую гипотезу\")\n",
    "    \n",
    "print()    \n",
    "print('Средняя выручка в месяц с пользователя тарифа smart: ', round(smart_revenue['revenue_rub'].mean(),1))\n",
    "print('Средняя выручка в месяц с пользователя тарифа ultra: ', round(ultra_revenue['revenue_rub'].mean(),1))"
   ]
  },
  {
   "cell_type": "markdown",
   "metadata": {
    "id": "xAFbhBu9F0Aa"
   },
   "source": [
    "**Отвергаем первую гипотезу так как разница есть между выручкой не смотря на то что тариф `Smart` берут в 2 раза реже.**"
   ]
  },
  {
   "cell_type": "markdown",
   "metadata": {
    "id": "oXoj7BNJGQLx"
   },
   "source": [
    "## 2. Cредняя выручка пользователей из Москвы отличается от выручки пользователей из других регионов."
   ]
  },
  {
   "cell_type": "markdown",
   "metadata": {
    "id": "Hu6zMspYGcXh"
   },
   "source": [
    "Формулируем нулевую и альтернативные гипотезы.\n",
    "\n",
    "* H₀ - средняя выручка пользователей из Москвы и остальных регионов равна\n",
    "* H₁ - средняя выручка пользователей из Москвы и остальных регионов не равна"
   ]
  },
  {
   "cell_type": "code",
   "execution_count": 86,
   "metadata": {
    "id": "9hJUR3FsBw0z"
   },
   "outputs": [],
   "source": [
    "from_Moscow = final_revenue.query('city == \"Москва\"')\n",
    "not_from_Moscow = final_revenue.query('city != \"Москва\"')"
   ]
  },
  {
   "cell_type": "code",
   "execution_count": 87,
   "metadata": {
    "colab": {
     "base_uri": "https://localhost:8080/"
    },
    "id": "5MPmoaLOEyGL",
    "outputId": "4321286d-65ac-4d71-af69-8a38e4941ffc"
   },
   "outputs": [
    {
     "name": "stdout",
     "output_type": "stream",
     "text": [
      "p-значение: 0.37398979581519365\n",
      "Не получилось отвергнуть нулевую гипотезу\n",
      "\n",
      "Средняя выручка в месяц с пользователя из Москвы 1769.7\n",
      "Средняя выручка в месяц с пользователя не из Москвы 1847.5\n"
     ]
    }
   ],
   "source": [
    "results = st.ttest_ind(\n",
    "    from_Moscow['revenue_rub'],\n",
    "    not_from_Moscow['revenue_rub']\n",
    ")\n",
    "\n",
    "print('p-значение:', results.pvalue)\n",
    "\n",
    "if (results.pvalue < alpha):\n",
    "    print(\"Отвергаем нулевую гипотезу\")\n",
    "else:\n",
    "    print(\"Не получилось отвергнуть нулевую гипотезу\")\n",
    "    \n",
    "print()    \n",
    "print('Средняя выручка в месяц с пользователя из Москвы', round(from_Moscow['revenue_rub'].mean(),1))\n",
    "print('Средняя выручка в месяц с пользователя не из Москвы', round(not_from_Moscow['revenue_rub'].mean(),1))"
   ]
  },
  {
   "cell_type": "markdown",
   "metadata": {
    "id": "tDMar-kkQcbh"
   },
   "source": [
    "**Вторую гипотезу отвергнуть не удалось - выручка с пользователей из москвы и пользователей из других регионов почти равна.**\n",
    "\n",
    "Вывод:\n",
    "\n",
    "Проверили 2 гипотезы:\n",
    "\n",
    "1. Средняя выручка пользователей тарифов «Ультра» и «Смарт» равна - отвергли\n",
    "2. Средняя выручка пользователей из Москвы равна выручке пользователей из других регионов - отвергнуть не удалось\n"
   ]
  },
  {
   "cell_type": "markdown",
   "metadata": {
    "id": "KnkmDjMkRMZl"
   },
   "source": [
    "# Общий вывод:"
   ]
  },
  {
   "cell_type": "markdown",
   "metadata": {
    "id": "f1zAp3vcRRjA"
   },
   "source": [
    "В ходе работы:\n",
    "\n",
    "1. Ознакомились с данными, очистили, изменили тип данных и объеденили таблицы.\n",
    "\n",
    "2. Произвели рассчеты выручки для каждого пользователя. \n",
    "\n",
    "3. Выяснили, что пользователи `smart` тарифа используют чуть меньшее количество минут звонков и сообщений в месяц, чем пользователи `ultra`. Лимита на звонки и минуты в `ultra` в среднем не достигает никто. При этом интернетом пользователи `ultra` пользуются гораздо активнее. Скорее всего, пользователи `ultra` выбирают этот тариф из-за большего интернет-трафика.\n",
    "\n",
    "4. Проверили 2 гипотезы:\n",
    "  - средняя выручка пользователей тарифов «Ультра» и «Смарт» различаются **Отвергли**\n",
    "  - средняя выручка пользователей из Москвы отличается от выручки пользователей из других регионов. **Отвергнуть не удалось**\n",
    "\n",
    "\n",
    "Отвечаем навопрос какой тариф лучший - лучший в глазах компании, это тот который принсоит больше прибыли таким является тариф **Ultra** так как средняя выручка от него ставила  **2196.6**, однако так же стало очевидно то что тариф **Smart** пользуеться популярностью среди абонентов его выбирают практически в 2 раза больше по сравнению с **Ultra**, однако 50% пользователей **Smart** докупает себе траффик интернета и даже при таких условиях он не приносит больше чем **Ultra**. \n",
    " Исходя из этой информации я бы рекомендовал компании пересмотреть свой тарифный план, так как их пользователи не эффективно используют свои тарифные планы, как выяснилось в ходе анализа, мало кто из пользователей обоих тарифов достигает своего лимита в чем-то кроме использования интернета.\n",
    " \n",
    " Я бы пересмотрел так:\n",
    " 1. Тариф в котором собранны все усредненые показатели тарифа (средние колличество минут, средне смс, средне интернет)\n",
    " 2. Тариф имеющий напрвленность на интернет ( средние колличество минут, минимум смс, максимум интернет)\n",
    " 3. Тариф с максимальным пакетом услуг. \n",
    "\n",
    "на 2й тариф сделать цену немного больше чем на 1й, так у пользователей будет больше выбора соответвенне услуги станут удобнее, что привлечет доп. клиентов и прибыль повыситься или оператор сможет сохранить прибыль которую он уже имеет.\n",
    "\n",
    "\n"
   ]
  }
 ],
 "metadata": {
  "ExecuteTimeLog": [
   {
    "duration": 710,
    "start_time": "2022-03-15T13:21:45.029Z"
   },
   {
    "duration": 113,
    "start_time": "2022-03-15T13:22:55.610Z"
   },
   {
    "duration": 468,
    "start_time": "2022-03-15T13:26:10.294Z"
   },
   {
    "duration": 16,
    "start_time": "2022-03-15T13:27:51.233Z"
   },
   {
    "duration": 25,
    "start_time": "2022-03-15T13:28:14.794Z"
   },
   {
    "duration": 296,
    "start_time": "2022-03-15T13:36:25.240Z"
   },
   {
    "duration": 5,
    "start_time": "2022-03-15T13:36:39.581Z"
   },
   {
    "duration": 71,
    "start_time": "2022-03-15T13:36:40.550Z"
   },
   {
    "duration": 29,
    "start_time": "2022-03-15T13:37:06.550Z"
   },
   {
    "duration": 5,
    "start_time": "2022-03-15T13:38:06.069Z"
   },
   {
    "duration": 53,
    "start_time": "2022-03-15T13:38:06.838Z"
   },
   {
    "duration": 5,
    "start_time": "2022-03-15T13:39:04.924Z"
   },
   {
    "duration": 206,
    "start_time": "2022-03-15T13:39:10.155Z"
   },
   {
    "duration": 5,
    "start_time": "2022-03-15T13:40:01.128Z"
   },
   {
    "duration": 54,
    "start_time": "2022-03-15T13:40:02.058Z"
   },
   {
    "duration": 5,
    "start_time": "2022-03-15T13:40:14.632Z"
   },
   {
    "duration": 49,
    "start_time": "2022-03-15T13:40:15.095Z"
   },
   {
    "duration": 43,
    "start_time": "2022-03-15T13:40:50.137Z"
   },
   {
    "duration": 6,
    "start_time": "2022-03-15T13:41:52.487Z"
   },
   {
    "duration": 17,
    "start_time": "2022-03-15T13:41:53.527Z"
   },
   {
    "duration": 54,
    "start_time": "2022-03-15T13:42:20.902Z"
   },
   {
    "duration": 4,
    "start_time": "2022-03-15T13:42:36.333Z"
   },
   {
    "duration": 50,
    "start_time": "2022-03-15T13:42:37.308Z"
   },
   {
    "duration": 5,
    "start_time": "2022-03-15T13:43:10.653Z"
   },
   {
    "duration": 71,
    "start_time": "2022-03-15T13:43:12.020Z"
   },
   {
    "duration": 5,
    "start_time": "2022-03-15T13:43:32.260Z"
   },
   {
    "duration": 51,
    "start_time": "2022-03-15T13:43:33.075Z"
   },
   {
    "duration": 5,
    "start_time": "2022-03-15T13:43:50.003Z"
   },
   {
    "duration": 51,
    "start_time": "2022-03-15T13:43:50.941Z"
   },
   {
    "duration": 4,
    "start_time": "2022-03-15T13:44:06.056Z"
   },
   {
    "duration": 320,
    "start_time": "2022-03-15T13:44:06.874Z"
   },
   {
    "duration": 4,
    "start_time": "2022-03-15T13:44:14.097Z"
   },
   {
    "duration": 29,
    "start_time": "2022-03-15T13:44:14.940Z"
   },
   {
    "duration": 4,
    "start_time": "2022-03-15T13:48:13.765Z"
   },
   {
    "duration": 4,
    "start_time": "2022-03-15T13:48:33.340Z"
   },
   {
    "duration": 11,
    "start_time": "2022-03-15T13:48:34.523Z"
   },
   {
    "duration": 4,
    "start_time": "2022-03-15T13:48:46.595Z"
   },
   {
    "duration": 32,
    "start_time": "2022-03-15T13:48:47.370Z"
   },
   {
    "duration": 27,
    "start_time": "2022-03-15T13:50:19.753Z"
   },
   {
    "duration": 26,
    "start_time": "2022-03-15T13:50:35.586Z"
   },
   {
    "duration": 4,
    "start_time": "2022-03-15T13:50:43.592Z"
   },
   {
    "duration": 77,
    "start_time": "2022-03-15T13:50:44.705Z"
   },
   {
    "duration": 5,
    "start_time": "2022-03-15T13:50:59.576Z"
   },
   {
    "duration": 55,
    "start_time": "2022-03-15T13:51:00.135Z"
   },
   {
    "duration": 4,
    "start_time": "2022-03-15T13:51:04.487Z"
   },
   {
    "duration": 50,
    "start_time": "2022-03-15T13:51:05.079Z"
   },
   {
    "duration": 484,
    "start_time": "2022-03-15T13:53:34.693Z"
   },
   {
    "duration": 4,
    "start_time": "2022-03-15T13:53:35.792Z"
   },
   {
    "duration": 18,
    "start_time": "2022-03-15T13:53:37.163Z"
   },
   {
    "duration": 9,
    "start_time": "2022-03-15T13:53:53.236Z"
   },
   {
    "duration": 4,
    "start_time": "2022-03-15T13:53:59.387Z"
   },
   {
    "duration": 4,
    "start_time": "2022-03-15T13:54:01.427Z"
   },
   {
    "duration": 24,
    "start_time": "2022-03-15T13:54:02.205Z"
   },
   {
    "duration": 4,
    "start_time": "2022-03-15T13:56:48.499Z"
   },
   {
    "duration": 16,
    "start_time": "2022-03-15T13:56:49.090Z"
   },
   {
    "duration": 4,
    "start_time": "2022-03-15T13:56:58.088Z"
   },
   {
    "duration": 19,
    "start_time": "2022-03-15T13:56:58.862Z"
   },
   {
    "duration": 52,
    "start_time": "2022-03-15T13:57:07.422Z"
   },
   {
    "duration": 48,
    "start_time": "2022-03-15T13:57:23.110Z"
   },
   {
    "duration": -172,
    "start_time": "2022-03-15T13:57:38.004Z"
   },
   {
    "duration": 6,
    "start_time": "2022-03-15T13:57:51.269Z"
   },
   {
    "duration": 161,
    "start_time": "2022-03-15T14:05:09.378Z"
   },
   {
    "duration": 464,
    "start_time": "2022-03-15T14:05:24.331Z"
   },
   {
    "duration": 50,
    "start_time": "2022-03-15T14:05:35.666Z"
   },
   {
    "duration": 14,
    "start_time": "2022-03-15T14:06:16.515Z"
   },
   {
    "duration": 550,
    "start_time": "2022-03-15T14:12:28.721Z"
   },
   {
    "duration": 533,
    "start_time": "2022-03-15T14:12:37.154Z"
   },
   {
    "duration": 379,
    "start_time": "2022-03-15T14:13:16.888Z"
   },
   {
    "duration": 329,
    "start_time": "2022-03-15T14:15:10.565Z"
   },
   {
    "duration": 155,
    "start_time": "2022-03-15T14:15:23.069Z"
   },
   {
    "duration": 420,
    "start_time": "2022-03-15T14:15:26.302Z"
   },
   {
    "duration": 157,
    "start_time": "2022-03-15T14:17:15.567Z"
   },
   {
    "duration": 27,
    "start_time": "2022-03-15T14:17:22.235Z"
   },
   {
    "duration": 23,
    "start_time": "2022-03-15T14:20:13.441Z"
   },
   {
    "duration": 15,
    "start_time": "2022-03-15T14:23:04.112Z"
   },
   {
    "duration": 6,
    "start_time": "2022-03-15T14:23:16.362Z"
   },
   {
    "duration": 21,
    "start_time": "2022-03-15T14:23:27.480Z"
   },
   {
    "duration": 16,
    "start_time": "2022-03-15T14:23:42.552Z"
   },
   {
    "duration": 211,
    "start_time": "2022-03-15T14:23:59.740Z"
   },
   {
    "duration": 14,
    "start_time": "2022-03-15T14:24:07.431Z"
   },
   {
    "duration": 4,
    "start_time": "2022-03-15T14:24:30.512Z"
   },
   {
    "duration": 433,
    "start_time": "2022-03-15T14:24:50.271Z"
   },
   {
    "duration": 377,
    "start_time": "2022-03-15T14:25:00.102Z"
   },
   {
    "duration": 488,
    "start_time": "2022-03-15T14:25:07.798Z"
   },
   {
    "duration": 322,
    "start_time": "2022-03-15T14:25:17.871Z"
   },
   {
    "duration": 341,
    "start_time": "2022-03-15T14:25:22.126Z"
   },
   {
    "duration": 350,
    "start_time": "2022-03-15T14:25:29.053Z"
   },
   {
    "duration": 342,
    "start_time": "2022-03-15T14:25:41.725Z"
   },
   {
    "duration": 378,
    "start_time": "2022-03-15T14:25:50.360Z"
   },
   {
    "duration": 34,
    "start_time": "2022-03-15T14:26:29.524Z"
   },
   {
    "duration": 20,
    "start_time": "2022-03-15T14:26:40.635Z"
   },
   {
    "duration": 160,
    "start_time": "2022-03-15T14:26:49.419Z"
   },
   {
    "duration": 16,
    "start_time": "2022-03-15T14:27:00.886Z"
   },
   {
    "duration": 13,
    "start_time": "2022-03-15T14:27:39.621Z"
   },
   {
    "duration": 15,
    "start_time": "2022-03-15T14:27:44.777Z"
   },
   {
    "duration": 23,
    "start_time": "2022-03-15T14:27:48.897Z"
   },
   {
    "duration": 33,
    "start_time": "2022-03-15T14:27:53.060Z"
   },
   {
    "duration": 27,
    "start_time": "2022-03-15T14:37:00.834Z"
   },
   {
    "duration": 20,
    "start_time": "2022-03-15T14:38:00.716Z"
   },
   {
    "duration": 6,
    "start_time": "2022-03-15T14:38:24.849Z"
   },
   {
    "duration": 110,
    "start_time": "2022-03-15T14:38:31.017Z"
   },
   {
    "duration": 9,
    "start_time": "2022-03-15T14:39:00.562Z"
   },
   {
    "duration": 36,
    "start_time": "2022-03-15T14:39:11.346Z"
   },
   {
    "duration": 27,
    "start_time": "2022-03-15T14:39:26.289Z"
   },
   {
    "duration": 28,
    "start_time": "2022-03-15T14:39:32.663Z"
   },
   {
    "duration": 28,
    "start_time": "2022-03-15T15:08:50.500Z"
   },
   {
    "duration": 785,
    "start_time": "2022-03-15T15:10:18.113Z"
   },
   {
    "duration": 3971,
    "start_time": "2022-03-15T15:11:06.120Z"
   },
   {
    "duration": 336,
    "start_time": "2022-03-15T15:11:34.921Z"
   },
   {
    "duration": 5,
    "start_time": "2022-03-15T16:00:03.096Z"
   },
   {
    "duration": 171,
    "start_time": "2022-03-15T16:01:25.550Z"
   },
   {
    "duration": 26,
    "start_time": "2022-03-15T16:01:33.328Z"
   },
   {
    "duration": 24,
    "start_time": "2022-03-15T16:04:54.057Z"
   },
   {
    "duration": 14,
    "start_time": "2022-03-15T16:04:56.566Z"
   },
   {
    "duration": 33,
    "start_time": "2022-03-15T16:05:02.448Z"
   },
   {
    "duration": 24,
    "start_time": "2022-03-15T16:05:44.327Z"
   },
   {
    "duration": 34,
    "start_time": "2022-03-15T16:05:49.357Z"
   },
   {
    "duration": 318,
    "start_time": "2022-03-15T16:06:08.902Z"
   },
   {
    "duration": 331,
    "start_time": "2022-03-15T16:06:29.565Z"
   },
   {
    "duration": 350,
    "start_time": "2022-03-15T16:06:57.948Z"
   },
   {
    "duration": 15,
    "start_time": "2022-03-15T16:07:49.269Z"
   },
   {
    "duration": 12,
    "start_time": "2022-03-15T16:08:24.074Z"
   },
   {
    "duration": 156,
    "start_time": "2022-03-15T16:20:52.639Z"
   },
   {
    "duration": 4,
    "start_time": "2022-03-15T16:21:00.990Z"
   },
   {
    "duration": 170,
    "start_time": "2022-03-15T16:21:05.466Z"
   },
   {
    "duration": 96,
    "start_time": "2022-03-15T16:21:17.912Z"
   },
   {
    "duration": 6,
    "start_time": "2022-03-15T16:22:21.797Z"
   },
   {
    "duration": 6,
    "start_time": "2022-03-15T16:22:46.231Z"
   },
   {
    "duration": 5,
    "start_time": "2022-03-15T16:22:58.172Z"
   },
   {
    "duration": 6,
    "start_time": "2022-03-15T16:23:00.560Z"
   },
   {
    "duration": 5,
    "start_time": "2022-03-15T16:23:43.619Z"
   },
   {
    "duration": 15,
    "start_time": "2022-03-15T16:23:56.407Z"
   },
   {
    "duration": 9,
    "start_time": "2022-03-15T16:24:03.236Z"
   },
   {
    "duration": 20,
    "start_time": "2022-03-15T16:24:47.532Z"
   },
   {
    "duration": 14,
    "start_time": "2022-03-15T16:24:57.524Z"
   },
   {
    "duration": 21,
    "start_time": "2022-03-15T16:25:05.945Z"
   },
   {
    "duration": 9,
    "start_time": "2022-03-15T16:25:30.867Z"
   },
   {
    "duration": 4,
    "start_time": "2022-03-15T16:26:02.463Z"
   },
   {
    "duration": 19,
    "start_time": "2022-03-15T16:26:04.087Z"
   },
   {
    "duration": 10,
    "start_time": "2022-03-15T16:26:04.738Z"
   },
   {
    "duration": 18,
    "start_time": "2022-03-15T16:26:05.200Z"
   },
   {
    "duration": 15,
    "start_time": "2022-03-15T16:26:05.477Z"
   },
   {
    "duration": 16,
    "start_time": "2022-03-15T16:26:05.992Z"
   },
   {
    "duration": 15,
    "start_time": "2022-03-15T16:26:15.119Z"
   },
   {
    "duration": 477,
    "start_time": "2022-03-15T16:29:28.915Z"
   },
   {
    "duration": 741,
    "start_time": "2022-03-15T16:29:38.942Z"
   },
   {
    "duration": 79,
    "start_time": "2022-03-15T16:31:09.872Z"
   },
   {
    "duration": 124,
    "start_time": "2022-03-15T16:31:18.249Z"
   },
   {
    "duration": 313,
    "start_time": "2022-03-15T16:35:07.864Z"
   },
   {
    "duration": 835,
    "start_time": "2022-03-15T16:35:16.886Z"
   },
   {
    "duration": 516,
    "start_time": "2022-03-15T16:35:17.724Z"
   },
   {
    "duration": 8,
    "start_time": "2022-03-15T16:35:18.243Z"
   },
   {
    "duration": 34,
    "start_time": "2022-03-15T16:35:18.254Z"
   },
   {
    "duration": 15,
    "start_time": "2022-03-15T16:35:18.292Z"
   },
   {
    "duration": 18,
    "start_time": "2022-03-15T16:35:18.310Z"
   },
   {
    "duration": 53,
    "start_time": "2022-03-15T16:35:18.331Z"
   },
   {
    "duration": 26,
    "start_time": "2022-03-15T16:35:18.390Z"
   },
   {
    "duration": 39,
    "start_time": "2022-03-15T16:35:18.420Z"
   },
   {
    "duration": 383,
    "start_time": "2022-03-15T16:35:18.462Z"
   },
   {
    "duration": 35,
    "start_time": "2022-03-15T16:35:18.847Z"
   },
   {
    "duration": 5,
    "start_time": "2022-03-15T16:35:18.884Z"
   },
   {
    "duration": 369,
    "start_time": "2022-03-15T16:35:18.892Z"
   },
   {
    "duration": 24,
    "start_time": "2022-03-15T16:35:19.264Z"
   },
   {
    "duration": 24,
    "start_time": "2022-03-15T16:35:19.290Z"
   },
   {
    "duration": 64,
    "start_time": "2022-03-15T16:35:19.316Z"
   },
   {
    "duration": 409,
    "start_time": "2022-03-15T16:35:19.382Z"
   },
   {
    "duration": 7,
    "start_time": "2022-03-15T16:35:19.794Z"
   },
   {
    "duration": 47,
    "start_time": "2022-03-15T16:35:19.804Z"
   },
   {
    "duration": 613,
    "start_time": "2022-03-15T16:35:19.854Z"
   },
   {
    "duration": 18,
    "start_time": "2022-03-15T16:35:20.470Z"
   },
   {
    "duration": 19,
    "start_time": "2022-03-15T16:35:20.491Z"
   },
   {
    "duration": 152,
    "start_time": "2022-03-15T16:35:20.518Z"
   },
   {
    "duration": 11,
    "start_time": "2022-03-15T16:35:20.673Z"
   },
   {
    "duration": 81,
    "start_time": "2022-03-15T16:35:20.687Z"
   },
   {
    "duration": 19,
    "start_time": "2022-03-15T16:35:20.771Z"
   },
   {
    "duration": 60,
    "start_time": "2022-03-15T16:35:20.792Z"
   },
   {
    "duration": 904,
    "start_time": "2022-03-15T16:35:20.855Z"
   },
   {
    "duration": 396,
    "start_time": "2022-03-15T16:35:38.133Z"
   },
   {
    "duration": 646,
    "start_time": "2022-03-15T16:35:40.429Z"
   },
   {
    "duration": 350,
    "start_time": "2022-03-15T16:35:54.006Z"
   },
   {
    "duration": 314,
    "start_time": "2022-03-15T16:39:01.664Z"
   },
   {
    "duration": 312,
    "start_time": "2022-03-15T16:39:02.154Z"
   },
   {
    "duration": 411,
    "start_time": "2022-03-15T16:39:12.068Z"
   },
   {
    "duration": 632,
    "start_time": "2022-03-15T16:39:12.632Z"
   },
   {
    "duration": 11,
    "start_time": "2022-03-15T16:40:34.996Z"
   },
   {
    "duration": 166,
    "start_time": "2022-03-15T16:41:06.033Z"
   },
   {
    "duration": 426,
    "start_time": "2022-03-15T16:41:12.685Z"
   },
   {
    "duration": 467,
    "start_time": "2022-03-15T16:41:22.641Z"
   },
   {
    "duration": 571,
    "start_time": "2022-03-15T16:41:23.115Z"
   },
   {
    "duration": 836,
    "start_time": "2022-03-15T16:41:34.971Z"
   },
   {
    "duration": 494,
    "start_time": "2022-03-15T16:41:35.810Z"
   },
   {
    "duration": 4,
    "start_time": "2022-03-15T16:41:36.306Z"
   },
   {
    "duration": 21,
    "start_time": "2022-03-15T16:41:36.313Z"
   },
   {
    "duration": 5,
    "start_time": "2022-03-15T16:41:36.351Z"
   },
   {
    "duration": 9,
    "start_time": "2022-03-15T16:41:36.358Z"
   },
   {
    "duration": 32,
    "start_time": "2022-03-15T16:41:36.369Z"
   },
   {
    "duration": 58,
    "start_time": "2022-03-15T16:41:36.405Z"
   },
   {
    "duration": 14,
    "start_time": "2022-03-15T16:41:36.466Z"
   },
   {
    "duration": 512,
    "start_time": "2022-03-15T16:41:36.483Z"
   },
   {
    "duration": 36,
    "start_time": "2022-03-15T16:41:36.998Z"
   },
   {
    "duration": 6,
    "start_time": "2022-03-15T16:41:37.052Z"
   },
   {
    "duration": 519,
    "start_time": "2022-03-15T16:41:37.061Z"
   },
   {
    "duration": 71,
    "start_time": "2022-03-15T16:41:37.582Z"
   },
   {
    "duration": 24,
    "start_time": "2022-03-15T16:41:37.655Z"
   },
   {
    "duration": 79,
    "start_time": "2022-03-15T16:41:37.681Z"
   },
   {
    "duration": 485,
    "start_time": "2022-03-15T16:41:37.762Z"
   },
   {
    "duration": 5,
    "start_time": "2022-03-15T16:41:38.251Z"
   },
   {
    "duration": 28,
    "start_time": "2022-03-15T16:41:38.259Z"
   },
   {
    "duration": 549,
    "start_time": "2022-03-15T16:41:38.290Z"
   },
   {
    "duration": 23,
    "start_time": "2022-03-15T16:41:38.842Z"
   },
   {
    "duration": 15,
    "start_time": "2022-03-15T16:41:38.868Z"
   },
   {
    "duration": 4,
    "start_time": "2022-03-15T16:41:38.889Z"
   },
   {
    "duration": 130,
    "start_time": "2022-03-15T16:41:38.897Z"
   },
   {
    "duration": 9,
    "start_time": "2022-03-15T16:41:39.030Z"
   },
   {
    "duration": 27,
    "start_time": "2022-03-15T16:41:39.041Z"
   },
   {
    "duration": 14,
    "start_time": "2022-03-15T16:41:39.071Z"
   },
   {
    "duration": 15,
    "start_time": "2022-03-15T16:41:39.088Z"
   },
   {
    "duration": 405,
    "start_time": "2022-03-15T16:41:39.106Z"
   },
   {
    "duration": -451,
    "start_time": "2022-03-15T16:41:39.965Z"
   },
   {
    "duration": -456,
    "start_time": "2022-03-15T16:41:39.971Z"
   },
   {
    "duration": 557,
    "start_time": "2022-03-15T16:42:36.676Z"
   },
   {
    "duration": 696,
    "start_time": "2022-03-15T16:43:04.681Z"
   },
   {
    "duration": 940,
    "start_time": "2022-03-15T16:43:05.380Z"
   },
   {
    "duration": 820,
    "start_time": "2022-03-15T16:43:14.058Z"
   },
   {
    "duration": 543,
    "start_time": "2022-03-15T16:43:14.881Z"
   },
   {
    "duration": 4,
    "start_time": "2022-03-15T16:43:15.427Z"
   },
   {
    "duration": 30,
    "start_time": "2022-03-15T16:43:15.433Z"
   },
   {
    "duration": 5,
    "start_time": "2022-03-15T16:43:15.466Z"
   },
   {
    "duration": 15,
    "start_time": "2022-03-15T16:43:15.473Z"
   },
   {
    "duration": 33,
    "start_time": "2022-03-15T16:43:15.490Z"
   },
   {
    "duration": 26,
    "start_time": "2022-03-15T16:43:15.553Z"
   },
   {
    "duration": 13,
    "start_time": "2022-03-15T16:43:15.582Z"
   },
   {
    "duration": 384,
    "start_time": "2022-03-15T16:43:15.598Z"
   },
   {
    "duration": 29,
    "start_time": "2022-03-15T16:43:15.985Z"
   },
   {
    "duration": 5,
    "start_time": "2022-03-15T16:43:16.016Z"
   },
   {
    "duration": 386,
    "start_time": "2022-03-15T16:43:16.023Z"
   },
   {
    "duration": 42,
    "start_time": "2022-03-15T16:43:16.411Z"
   },
   {
    "duration": 25,
    "start_time": "2022-03-15T16:43:16.455Z"
   },
   {
    "duration": 27,
    "start_time": "2022-03-15T16:43:16.482Z"
   },
   {
    "duration": 395,
    "start_time": "2022-03-15T16:43:16.511Z"
   },
   {
    "duration": 6,
    "start_time": "2022-03-15T16:43:16.909Z"
   },
   {
    "duration": 49,
    "start_time": "2022-03-15T16:43:16.917Z"
   },
   {
    "duration": 440,
    "start_time": "2022-03-15T16:43:16.968Z"
   },
   {
    "duration": 16,
    "start_time": "2022-03-15T16:43:17.412Z"
   },
   {
    "duration": 37,
    "start_time": "2022-03-15T16:43:17.430Z"
   },
   {
    "duration": 5,
    "start_time": "2022-03-15T16:43:17.471Z"
   },
   {
    "duration": 116,
    "start_time": "2022-03-15T16:43:17.479Z"
   },
   {
    "duration": 10,
    "start_time": "2022-03-15T16:43:17.598Z"
   },
   {
    "duration": 44,
    "start_time": "2022-03-15T16:43:17.611Z"
   },
   {
    "duration": 15,
    "start_time": "2022-03-15T16:43:17.660Z"
   },
   {
    "duration": 18,
    "start_time": "2022-03-15T16:43:17.678Z"
   },
   {
    "duration": 601,
    "start_time": "2022-03-15T16:43:17.700Z"
   },
   {
    "duration": -445,
    "start_time": "2022-03-15T16:43:18.749Z"
   },
   {
    "duration": -452,
    "start_time": "2022-03-15T16:43:18.758Z"
   },
   {
    "duration": 822,
    "start_time": "2022-03-15T16:44:26.516Z"
   },
   {
    "duration": 491,
    "start_time": "2022-03-15T16:44:27.341Z"
   },
   {
    "duration": 3,
    "start_time": "2022-03-15T16:44:27.836Z"
   },
   {
    "duration": 23,
    "start_time": "2022-03-15T16:44:27.843Z"
   },
   {
    "duration": 6,
    "start_time": "2022-03-15T16:44:27.869Z"
   },
   {
    "duration": 27,
    "start_time": "2022-03-15T16:44:27.877Z"
   },
   {
    "duration": 50,
    "start_time": "2022-03-15T16:44:27.907Z"
   },
   {
    "duration": 25,
    "start_time": "2022-03-15T16:44:27.961Z"
   },
   {
    "duration": 13,
    "start_time": "2022-03-15T16:44:27.989Z"
   },
   {
    "duration": 384,
    "start_time": "2022-03-15T16:44:28.004Z"
   },
   {
    "duration": 26,
    "start_time": "2022-03-15T16:44:28.391Z"
   },
   {
    "duration": 5,
    "start_time": "2022-03-15T16:44:28.420Z"
   },
   {
    "duration": 503,
    "start_time": "2022-03-15T16:44:28.451Z"
   },
   {
    "duration": 23,
    "start_time": "2022-03-15T16:44:28.956Z"
   },
   {
    "duration": 53,
    "start_time": "2022-03-15T16:44:28.982Z"
   },
   {
    "duration": 59,
    "start_time": "2022-03-15T16:44:29.038Z"
   },
   {
    "duration": 568,
    "start_time": "2022-03-15T16:44:29.099Z"
   },
   {
    "duration": 8,
    "start_time": "2022-03-15T16:44:29.670Z"
   },
   {
    "duration": 82,
    "start_time": "2022-03-15T16:44:29.680Z"
   },
   {
    "duration": 559,
    "start_time": "2022-03-15T16:44:29.765Z"
   },
   {
    "duration": 24,
    "start_time": "2022-03-15T16:44:30.327Z"
   },
   {
    "duration": 34,
    "start_time": "2022-03-15T16:44:30.353Z"
   },
   {
    "duration": 39,
    "start_time": "2022-03-15T16:44:30.392Z"
   },
   {
    "duration": 147,
    "start_time": "2022-03-15T16:44:30.434Z"
   },
   {
    "duration": 12,
    "start_time": "2022-03-15T16:44:30.584Z"
   },
   {
    "duration": 49,
    "start_time": "2022-03-15T16:44:30.599Z"
   },
   {
    "duration": 20,
    "start_time": "2022-03-15T16:44:30.650Z"
   },
   {
    "duration": 30,
    "start_time": "2022-03-15T16:44:30.673Z"
   },
   {
    "duration": 986,
    "start_time": "2022-03-15T16:44:30.706Z"
   },
   {
    "duration": 344,
    "start_time": "2022-03-15T16:44:31.695Z"
   },
   {
    "duration": -411,
    "start_time": "2022-03-15T16:44:32.452Z"
   },
   {
    "duration": 616,
    "start_time": "2022-03-15T16:44:36.595Z"
   },
   {
    "duration": 883,
    "start_time": "2022-03-15T16:44:59.443Z"
   },
   {
    "duration": 522,
    "start_time": "2022-03-15T16:45:00.329Z"
   },
   {
    "duration": 4,
    "start_time": "2022-03-15T16:45:00.855Z"
   },
   {
    "duration": 31,
    "start_time": "2022-03-15T16:45:00.863Z"
   },
   {
    "duration": 23,
    "start_time": "2022-03-15T16:45:00.896Z"
   },
   {
    "duration": 27,
    "start_time": "2022-03-15T16:45:00.923Z"
   },
   {
    "duration": 42,
    "start_time": "2022-03-15T16:45:00.953Z"
   },
   {
    "duration": 30,
    "start_time": "2022-03-15T16:45:00.999Z"
   },
   {
    "duration": 33,
    "start_time": "2022-03-15T16:45:01.032Z"
   },
   {
    "duration": 402,
    "start_time": "2022-03-15T16:45:01.068Z"
   },
   {
    "duration": 31,
    "start_time": "2022-03-15T16:45:01.473Z"
   },
   {
    "duration": 6,
    "start_time": "2022-03-15T16:45:01.507Z"
   },
   {
    "duration": 386,
    "start_time": "2022-03-15T16:45:01.516Z"
   },
   {
    "duration": 25,
    "start_time": "2022-03-15T16:45:01.905Z"
   },
   {
    "duration": 24,
    "start_time": "2022-03-15T16:45:01.952Z"
   },
   {
    "duration": 39,
    "start_time": "2022-03-15T16:45:01.979Z"
   },
   {
    "duration": 523,
    "start_time": "2022-03-15T16:45:02.021Z"
   },
   {
    "duration": 6,
    "start_time": "2022-03-15T16:45:02.551Z"
   },
   {
    "duration": 29,
    "start_time": "2022-03-15T16:45:02.560Z"
   },
   {
    "duration": 409,
    "start_time": "2022-03-15T16:45:02.592Z"
   },
   {
    "duration": 15,
    "start_time": "2022-03-15T16:45:03.004Z"
   },
   {
    "duration": 37,
    "start_time": "2022-03-15T16:45:03.021Z"
   },
   {
    "duration": 4,
    "start_time": "2022-03-15T16:45:03.063Z"
   },
   {
    "duration": 103,
    "start_time": "2022-03-15T16:45:03.070Z"
   },
   {
    "duration": 9,
    "start_time": "2022-03-15T16:45:03.175Z"
   },
   {
    "duration": 24,
    "start_time": "2022-03-15T16:45:03.187Z"
   },
   {
    "duration": 14,
    "start_time": "2022-03-15T16:45:03.213Z"
   },
   {
    "duration": 16,
    "start_time": "2022-03-15T16:45:03.252Z"
   },
   {
    "duration": 3,
    "start_time": "2022-03-15T16:45:03.270Z"
   },
   {
    "duration": 281,
    "start_time": "2022-03-15T16:45:03.276Z"
   },
   {
    "duration": -452,
    "start_time": "2022-03-15T16:45:04.012Z"
   },
   {
    "duration": 9,
    "start_time": "2022-03-15T16:45:16.279Z"
   },
   {
    "duration": 33,
    "start_time": "2022-03-15T16:45:18.326Z"
   },
   {
    "duration": 175,
    "start_time": "2022-03-15T16:45:34.565Z"
   },
   {
    "duration": 35,
    "start_time": "2022-03-15T16:45:35.239Z"
   },
   {
    "duration": 857,
    "start_time": "2022-03-15T16:45:52.729Z"
   },
   {
    "duration": 525,
    "start_time": "2022-03-15T16:45:53.589Z"
   },
   {
    "duration": 4,
    "start_time": "2022-03-15T16:45:54.117Z"
   },
   {
    "duration": 29,
    "start_time": "2022-03-15T16:45:54.124Z"
   },
   {
    "duration": 6,
    "start_time": "2022-03-15T16:45:54.157Z"
   },
   {
    "duration": 9,
    "start_time": "2022-03-15T16:45:54.165Z"
   },
   {
    "duration": 34,
    "start_time": "2022-03-15T16:45:54.178Z"
   },
   {
    "duration": 64,
    "start_time": "2022-03-15T16:45:54.218Z"
   },
   {
    "duration": 13,
    "start_time": "2022-03-15T16:45:54.287Z"
   },
   {
    "duration": 403,
    "start_time": "2022-03-15T16:45:54.303Z"
   },
   {
    "duration": 27,
    "start_time": "2022-03-15T16:45:54.708Z"
   },
   {
    "duration": 6,
    "start_time": "2022-03-15T16:45:54.752Z"
   },
   {
    "duration": 363,
    "start_time": "2022-03-15T16:45:54.761Z"
   },
   {
    "duration": 40,
    "start_time": "2022-03-15T16:45:55.127Z"
   },
   {
    "duration": 22,
    "start_time": "2022-03-15T16:45:55.170Z"
   },
   {
    "duration": 31,
    "start_time": "2022-03-15T16:45:55.195Z"
   },
   {
    "duration": 369,
    "start_time": "2022-03-15T16:45:55.253Z"
   },
   {
    "duration": 5,
    "start_time": "2022-03-15T16:45:55.624Z"
   },
   {
    "duration": 47,
    "start_time": "2022-03-15T16:45:55.632Z"
   },
   {
    "duration": 425,
    "start_time": "2022-03-15T16:45:55.681Z"
   },
   {
    "duration": 14,
    "start_time": "2022-03-15T16:45:56.109Z"
   },
   {
    "duration": 29,
    "start_time": "2022-03-15T16:45:56.125Z"
   },
   {
    "duration": 10,
    "start_time": "2022-03-15T16:45:56.160Z"
   },
   {
    "duration": 114,
    "start_time": "2022-03-15T16:45:56.173Z"
   },
   {
    "duration": 10,
    "start_time": "2022-03-15T16:45:56.290Z"
   },
   {
    "duration": 34,
    "start_time": "2022-03-15T16:45:56.302Z"
   },
   {
    "duration": 20,
    "start_time": "2022-03-15T16:45:56.351Z"
   },
   {
    "duration": 33,
    "start_time": "2022-03-15T16:45:56.374Z"
   },
   {
    "duration": 338,
    "start_time": "2022-03-15T16:45:56.409Z"
   },
   {
    "duration": -448,
    "start_time": "2022-03-15T16:45:57.198Z"
   },
   {
    "duration": -451,
    "start_time": "2022-03-15T16:45:57.203Z"
   },
   {
    "duration": 174,
    "start_time": "2022-03-15T16:46:59.109Z"
   },
   {
    "duration": 270,
    "start_time": "2022-03-15T17:12:59.812Z"
   },
   {
    "duration": 40,
    "start_time": "2022-03-15T17:13:04.017Z"
   },
   {
    "duration": 484,
    "start_time": "2022-03-15T17:14:04.941Z"
   },
   {
    "duration": 656,
    "start_time": "2022-03-15T17:14:12.564Z"
   },
   {
    "duration": 237,
    "start_time": "2022-03-15T17:15:12.409Z"
   },
   {
    "duration": 38,
    "start_time": "2022-03-15T17:15:20.153Z"
   },
   {
    "duration": 183,
    "start_time": "2022-03-15T17:15:59.116Z"
   },
   {
    "duration": 5,
    "start_time": "2022-03-15T17:20:29.378Z"
   },
   {
    "duration": 20,
    "start_time": "2022-03-15T17:20:35.601Z"
   },
   {
    "duration": 763,
    "start_time": "2022-03-15T17:23:49.396Z"
   },
   {
    "duration": 491,
    "start_time": "2022-03-15T17:23:50.162Z"
   },
   {
    "duration": 3,
    "start_time": "2022-03-15T17:23:50.656Z"
   },
   {
    "duration": 23,
    "start_time": "2022-03-15T17:23:50.662Z"
   },
   {
    "duration": 5,
    "start_time": "2022-03-15T17:23:50.687Z"
   },
   {
    "duration": 14,
    "start_time": "2022-03-15T17:23:50.695Z"
   },
   {
    "duration": 65,
    "start_time": "2022-03-15T17:23:50.712Z"
   },
   {
    "duration": 25,
    "start_time": "2022-03-15T17:23:50.781Z"
   },
   {
    "duration": 43,
    "start_time": "2022-03-15T17:23:50.808Z"
   },
   {
    "duration": 503,
    "start_time": "2022-03-15T17:23:50.854Z"
   },
   {
    "duration": 28,
    "start_time": "2022-03-15T17:23:51.360Z"
   },
   {
    "duration": 6,
    "start_time": "2022-03-15T17:23:51.391Z"
   },
   {
    "duration": 377,
    "start_time": "2022-03-15T17:23:51.400Z"
   },
   {
    "duration": 23,
    "start_time": "2022-03-15T17:23:51.780Z"
   },
   {
    "duration": 48,
    "start_time": "2022-03-15T17:23:51.805Z"
   },
   {
    "duration": 28,
    "start_time": "2022-03-15T17:23:51.855Z"
   },
   {
    "duration": 374,
    "start_time": "2022-03-15T17:23:51.885Z"
   },
   {
    "duration": 5,
    "start_time": "2022-03-15T17:23:52.261Z"
   },
   {
    "duration": 30,
    "start_time": "2022-03-15T17:23:52.269Z"
   },
   {
    "duration": 429,
    "start_time": "2022-03-15T17:23:52.302Z"
   },
   {
    "duration": 20,
    "start_time": "2022-03-15T17:23:52.733Z"
   },
   {
    "duration": 13,
    "start_time": "2022-03-15T17:23:52.755Z"
   },
   {
    "duration": 5,
    "start_time": "2022-03-15T17:23:52.772Z"
   },
   {
    "duration": 124,
    "start_time": "2022-03-15T17:23:52.779Z"
   },
   {
    "duration": 10,
    "start_time": "2022-03-15T17:23:52.905Z"
   },
   {
    "duration": 36,
    "start_time": "2022-03-15T17:23:52.918Z"
   },
   {
    "duration": 16,
    "start_time": "2022-03-15T17:23:52.957Z"
   },
   {
    "duration": 17,
    "start_time": "2022-03-15T17:23:52.976Z"
   },
   {
    "duration": 492,
    "start_time": "2022-03-15T17:23:52.995Z"
   },
   {
    "duration": 243,
    "start_time": "2022-03-15T17:23:53.489Z"
   },
   {
    "duration": 49,
    "start_time": "2022-03-15T17:23:53.735Z"
   },
   {
    "duration": 38,
    "start_time": "2022-03-15T17:29:29.652Z"
   },
   {
    "duration": 66,
    "start_time": "2022-03-15T17:29:41.333Z"
   },
   {
    "duration": 38,
    "start_time": "2022-03-15T17:30:17.205Z"
   },
   {
    "duration": 51,
    "start_time": "2022-03-15T17:33:26.412Z"
   },
   {
    "duration": 273,
    "start_time": "2022-03-15T17:33:30.137Z"
   },
   {
    "duration": 160,
    "start_time": "2022-03-15T17:33:45.350Z"
   },
   {
    "duration": 129,
    "start_time": "2022-03-15T17:33:53.119Z"
   },
   {
    "duration": 153,
    "start_time": "2022-03-15T17:33:59.679Z"
   },
   {
    "duration": 197,
    "start_time": "2022-03-15T21:58:31.938Z"
   },
   {
    "duration": 589,
    "start_time": "2022-03-15T21:58:44.771Z"
   },
   {
    "duration": 367,
    "start_time": "2022-03-15T21:58:45.362Z"
   },
   {
    "duration": 2,
    "start_time": "2022-03-15T21:58:45.731Z"
   },
   {
    "duration": 18,
    "start_time": "2022-03-15T21:58:45.735Z"
   },
   {
    "duration": 8,
    "start_time": "2022-03-15T21:58:45.754Z"
   },
   {
    "duration": 8,
    "start_time": "2022-03-15T21:58:45.763Z"
   },
   {
    "duration": 25,
    "start_time": "2022-03-15T21:58:45.772Z"
   },
   {
    "duration": 40,
    "start_time": "2022-03-15T21:58:45.799Z"
   },
   {
    "duration": 10,
    "start_time": "2022-03-15T21:58:45.841Z"
   },
   {
    "duration": 246,
    "start_time": "2022-03-15T21:58:45.853Z"
   },
   {
    "duration": 17,
    "start_time": "2022-03-15T21:58:46.101Z"
   },
   {
    "duration": 14,
    "start_time": "2022-03-15T21:58:46.120Z"
   },
   {
    "duration": 205,
    "start_time": "2022-03-15T21:58:46.136Z"
   },
   {
    "duration": 16,
    "start_time": "2022-03-15T21:58:46.342Z"
   },
   {
    "duration": 15,
    "start_time": "2022-03-15T21:58:46.360Z"
   },
   {
    "duration": 18,
    "start_time": "2022-03-15T21:58:46.376Z"
   },
   {
    "duration": 230,
    "start_time": "2022-03-15T21:58:46.395Z"
   },
   {
    "duration": 8,
    "start_time": "2022-03-15T21:58:46.627Z"
   },
   {
    "duration": 16,
    "start_time": "2022-03-15T21:58:46.637Z"
   },
   {
    "duration": 244,
    "start_time": "2022-03-15T21:58:46.655Z"
   },
   {
    "duration": 9,
    "start_time": "2022-03-15T21:58:46.900Z"
   },
   {
    "duration": 7,
    "start_time": "2022-03-15T21:58:46.911Z"
   },
   {
    "duration": 3,
    "start_time": "2022-03-15T21:58:46.934Z"
   },
   {
    "duration": 61,
    "start_time": "2022-03-15T21:58:46.939Z"
   },
   {
    "duration": 6,
    "start_time": "2022-03-15T21:58:47.001Z"
   },
   {
    "duration": 32,
    "start_time": "2022-03-15T21:58:47.009Z"
   },
   {
    "duration": 9,
    "start_time": "2022-03-15T21:58:47.042Z"
   },
   {
    "duration": 10,
    "start_time": "2022-03-15T21:58:47.053Z"
   },
   {
    "duration": 506,
    "start_time": "2022-03-15T21:58:47.064Z"
   },
   {
    "duration": 271,
    "start_time": "2022-03-15T21:58:47.572Z"
   },
   {
    "duration": 21,
    "start_time": "2022-03-15T21:58:47.845Z"
   },
   {
    "duration": 31,
    "start_time": "2022-03-15T21:58:47.867Z"
   },
   {
    "duration": 128,
    "start_time": "2022-03-15T21:58:47.899Z"
   },
   {
    "duration": 206,
    "start_time": "2022-03-15T21:58:57.485Z"
   },
   {
    "duration": 193,
    "start_time": "2022-03-15T21:59:02.445Z"
   },
   {
    "duration": 58,
    "start_time": "2022-03-15T21:59:15.501Z"
   },
   {
    "duration": 210,
    "start_time": "2022-03-15T21:59:32.763Z"
   },
   {
    "duration": 208,
    "start_time": "2022-03-15T21:59:55.261Z"
   },
   {
    "duration": 235,
    "start_time": "2022-03-15T22:04:35.555Z"
   },
   {
    "duration": 188,
    "start_time": "2022-03-15T22:04:59.820Z"
   },
   {
    "duration": 179,
    "start_time": "2022-03-15T22:05:32.608Z"
   },
   {
    "duration": 175,
    "start_time": "2022-03-15T22:05:46.506Z"
   },
   {
    "duration": 303,
    "start_time": "2022-03-15T22:06:25.801Z"
   },
   {
    "duration": 165,
    "start_time": "2022-03-15T22:07:10.863Z"
   },
   {
    "duration": 156,
    "start_time": "2022-03-15T22:07:36.472Z"
   },
   {
    "duration": 175,
    "start_time": "2022-03-15T22:07:52.887Z"
   },
   {
    "duration": 277,
    "start_time": "2022-03-15T22:08:51.422Z"
   },
   {
    "duration": 190,
    "start_time": "2022-03-15T22:09:10.892Z"
   },
   {
    "duration": 197,
    "start_time": "2022-03-15T22:09:36.293Z"
   },
   {
    "duration": 527,
    "start_time": "2022-03-15T22:15:39.973Z"
   },
   {
    "duration": 671,
    "start_time": "2022-03-15T22:16:02.596Z"
   },
   {
    "duration": 608,
    "start_time": "2022-03-15T22:18:26.636Z"
   },
   {
    "duration": 359,
    "start_time": "2022-03-15T22:18:27.246Z"
   },
   {
    "duration": 3,
    "start_time": "2022-03-15T22:18:27.606Z"
   },
   {
    "duration": 23,
    "start_time": "2022-03-15T22:18:27.611Z"
   },
   {
    "duration": 6,
    "start_time": "2022-03-15T22:18:27.636Z"
   },
   {
    "duration": 7,
    "start_time": "2022-03-15T22:18:27.643Z"
   },
   {
    "duration": 26,
    "start_time": "2022-03-15T22:18:27.652Z"
   },
   {
    "duration": 18,
    "start_time": "2022-03-15T22:18:27.681Z"
   },
   {
    "duration": 10,
    "start_time": "2022-03-15T22:18:27.701Z"
   },
   {
    "duration": 238,
    "start_time": "2022-03-15T22:18:27.712Z"
   },
   {
    "duration": 646,
    "start_time": "2022-03-15T22:19:14.903Z"
   },
   {
    "duration": 364,
    "start_time": "2022-03-15T22:19:15.551Z"
   },
   {
    "duration": 2,
    "start_time": "2022-03-15T22:19:15.917Z"
   },
   {
    "duration": 15,
    "start_time": "2022-03-15T22:19:15.920Z"
   },
   {
    "duration": 4,
    "start_time": "2022-03-15T22:19:15.937Z"
   },
   {
    "duration": 6,
    "start_time": "2022-03-15T22:19:15.943Z"
   },
   {
    "duration": 23,
    "start_time": "2022-03-15T22:19:15.950Z"
   },
   {
    "duration": 18,
    "start_time": "2022-03-15T22:19:15.974Z"
   },
   {
    "duration": 9,
    "start_time": "2022-03-15T22:19:15.993Z"
   },
   {
    "duration": 266,
    "start_time": "2022-03-15T22:19:16.004Z"
   },
   {
    "duration": 18,
    "start_time": "2022-03-15T22:19:16.272Z"
   },
   {
    "duration": 4,
    "start_time": "2022-03-15T22:19:16.292Z"
   },
   {
    "duration": 232,
    "start_time": "2022-03-15T22:19:16.298Z"
   },
   {
    "duration": -224,
    "start_time": "2022-03-15T22:19:16.757Z"
   },
   {
    "duration": -227,
    "start_time": "2022-03-15T22:19:16.762Z"
   },
   {
    "duration": -230,
    "start_time": "2022-03-15T22:19:16.766Z"
   },
   {
    "duration": -232,
    "start_time": "2022-03-15T22:19:16.770Z"
   },
   {
    "duration": -234,
    "start_time": "2022-03-15T22:19:16.773Z"
   },
   {
    "duration": -237,
    "start_time": "2022-03-15T22:19:16.777Z"
   },
   {
    "duration": -238,
    "start_time": "2022-03-15T22:19:16.780Z"
   },
   {
    "duration": -245,
    "start_time": "2022-03-15T22:19:16.788Z"
   },
   {
    "duration": -247,
    "start_time": "2022-03-15T22:19:16.791Z"
   },
   {
    "duration": -248,
    "start_time": "2022-03-15T22:19:16.794Z"
   },
   {
    "duration": -249,
    "start_time": "2022-03-15T22:19:16.796Z"
   },
   {
    "duration": -250,
    "start_time": "2022-03-15T22:19:16.798Z"
   },
   {
    "duration": -250,
    "start_time": "2022-03-15T22:19:16.800Z"
   },
   {
    "duration": -250,
    "start_time": "2022-03-15T22:19:16.801Z"
   },
   {
    "duration": -251,
    "start_time": "2022-03-15T22:19:16.803Z"
   },
   {
    "duration": -253,
    "start_time": "2022-03-15T22:19:16.806Z"
   },
   {
    "duration": -253,
    "start_time": "2022-03-15T22:19:16.808Z"
   },
   {
    "duration": -254,
    "start_time": "2022-03-15T22:19:16.810Z"
   },
   {
    "duration": -254,
    "start_time": "2022-03-15T22:19:16.811Z"
   },
   {
    "duration": -254,
    "start_time": "2022-03-15T22:19:16.813Z"
   },
   {
    "duration": -255,
    "start_time": "2022-03-15T22:19:16.815Z"
   },
   {
    "duration": 713,
    "start_time": "2022-03-15T22:19:20.702Z"
   },
   {
    "duration": 288,
    "start_time": "2022-03-15T22:20:05.103Z"
   },
   {
    "duration": 330,
    "start_time": "2022-03-15T22:20:41.310Z"
   },
   {
    "duration": 275,
    "start_time": "2022-03-15T22:20:55.437Z"
   },
   {
    "duration": 232,
    "start_time": "2022-03-15T22:21:54.194Z"
   },
   {
    "duration": 226,
    "start_time": "2022-03-15T22:22:32.594Z"
   },
   {
    "duration": 219,
    "start_time": "2022-03-15T22:22:52.930Z"
   },
   {
    "duration": 1754,
    "start_time": "2022-03-15T22:23:31.769Z"
   },
   {
    "duration": 712,
    "start_time": "2022-03-16T09:47:50.283Z"
   },
   {
    "duration": 421,
    "start_time": "2022-03-16T09:47:50.998Z"
   },
   {
    "duration": 2,
    "start_time": "2022-03-16T09:47:51.422Z"
   },
   {
    "duration": 16,
    "start_time": "2022-03-16T09:47:51.425Z"
   },
   {
    "duration": 3,
    "start_time": "2022-03-16T09:47:51.442Z"
   },
   {
    "duration": 7,
    "start_time": "2022-03-16T09:47:51.447Z"
   },
   {
    "duration": 27,
    "start_time": "2022-03-16T09:47:51.456Z"
   },
   {
    "duration": 29,
    "start_time": "2022-03-16T09:47:51.486Z"
   },
   {
    "duration": 9,
    "start_time": "2022-03-16T09:47:51.517Z"
   },
   {
    "duration": 277,
    "start_time": "2022-03-16T09:47:51.527Z"
   },
   {
    "duration": 20,
    "start_time": "2022-03-16T09:47:51.806Z"
   },
   {
    "duration": 4,
    "start_time": "2022-03-16T09:47:51.827Z"
   },
   {
    "duration": 992,
    "start_time": "2022-03-16T09:47:51.832Z"
   },
   {
    "duration": -769,
    "start_time": "2022-03-16T09:47:53.595Z"
   },
   {
    "duration": -770,
    "start_time": "2022-03-16T09:47:53.598Z"
   },
   {
    "duration": -772,
    "start_time": "2022-03-16T09:47:53.600Z"
   },
   {
    "duration": -772,
    "start_time": "2022-03-16T09:47:53.602Z"
   },
   {
    "duration": -773,
    "start_time": "2022-03-16T09:47:53.604Z"
   },
   {
    "duration": -788,
    "start_time": "2022-03-16T09:47:53.620Z"
   },
   {
    "duration": -789,
    "start_time": "2022-03-16T09:47:53.622Z"
   },
   {
    "duration": -792,
    "start_time": "2022-03-16T09:47:53.626Z"
   },
   {
    "duration": -794,
    "start_time": "2022-03-16T09:47:53.629Z"
   },
   {
    "duration": -796,
    "start_time": "2022-03-16T09:47:53.632Z"
   },
   {
    "duration": -797,
    "start_time": "2022-03-16T09:47:53.634Z"
   },
   {
    "duration": -799,
    "start_time": "2022-03-16T09:47:53.637Z"
   },
   {
    "duration": -800,
    "start_time": "2022-03-16T09:47:53.639Z"
   },
   {
    "duration": -801,
    "start_time": "2022-03-16T09:47:53.640Z"
   },
   {
    "duration": -802,
    "start_time": "2022-03-16T09:47:53.642Z"
   },
   {
    "duration": -803,
    "start_time": "2022-03-16T09:47:53.644Z"
   },
   {
    "duration": -804,
    "start_time": "2022-03-16T09:47:53.646Z"
   },
   {
    "duration": -805,
    "start_time": "2022-03-16T09:47:53.648Z"
   },
   {
    "duration": -805,
    "start_time": "2022-03-16T09:47:53.649Z"
   },
   {
    "duration": -806,
    "start_time": "2022-03-16T09:47:53.651Z"
   },
   {
    "duration": -807,
    "start_time": "2022-03-16T09:47:53.653Z"
   },
   {
    "duration": 328,
    "start_time": "2022-03-16T09:48:06.852Z"
   },
   {
    "duration": 313,
    "start_time": "2022-03-16T09:48:22.593Z"
   },
   {
    "duration": 225,
    "start_time": "2022-03-16T09:48:30.658Z"
   },
   {
    "duration": 216,
    "start_time": "2022-03-16T09:48:48.306Z"
   },
   {
    "duration": 299,
    "start_time": "2022-03-16T09:53:05.036Z"
   },
   {
    "duration": 319,
    "start_time": "2022-03-16T09:53:11.044Z"
   },
   {
    "duration": 299,
    "start_time": "2022-03-16T09:53:11.913Z"
   },
   {
    "duration": 708,
    "start_time": "2022-03-16T09:53:31.189Z"
   },
   {
    "duration": 406,
    "start_time": "2022-03-16T09:53:31.899Z"
   },
   {
    "duration": 2,
    "start_time": "2022-03-16T09:53:32.307Z"
   },
   {
    "duration": 22,
    "start_time": "2022-03-16T09:53:32.311Z"
   },
   {
    "duration": 8,
    "start_time": "2022-03-16T09:53:32.335Z"
   },
   {
    "duration": 24,
    "start_time": "2022-03-16T09:53:32.345Z"
   },
   {
    "duration": 32,
    "start_time": "2022-03-16T09:53:32.371Z"
   },
   {
    "duration": 18,
    "start_time": "2022-03-16T09:53:32.407Z"
   },
   {
    "duration": 11,
    "start_time": "2022-03-16T09:53:32.427Z"
   },
   {
    "duration": 266,
    "start_time": "2022-03-16T09:53:32.440Z"
   },
   {
    "duration": 18,
    "start_time": "2022-03-16T09:53:32.708Z"
   },
   {
    "duration": 4,
    "start_time": "2022-03-16T09:53:32.728Z"
   },
   {
    "duration": 260,
    "start_time": "2022-03-16T09:53:32.734Z"
   },
   {
    "duration": 16,
    "start_time": "2022-03-16T09:53:32.997Z"
   },
   {
    "duration": 16,
    "start_time": "2022-03-16T09:53:33.015Z"
   },
   {
    "duration": 18,
    "start_time": "2022-03-16T09:53:33.033Z"
   },
   {
    "duration": 400,
    "start_time": "2022-03-16T09:53:33.052Z"
   },
   {
    "duration": -196,
    "start_time": "2022-03-16T09:53:33.651Z"
   },
   {
    "duration": -199,
    "start_time": "2022-03-16T09:53:33.654Z"
   },
   {
    "duration": -210,
    "start_time": "2022-03-16T09:53:33.666Z"
   },
   {
    "duration": -213,
    "start_time": "2022-03-16T09:53:33.670Z"
   },
   {
    "duration": -215,
    "start_time": "2022-03-16T09:53:33.673Z"
   },
   {
    "duration": -217,
    "start_time": "2022-03-16T09:53:33.676Z"
   },
   {
    "duration": -219,
    "start_time": "2022-03-16T09:53:33.679Z"
   },
   {
    "duration": -220,
    "start_time": "2022-03-16T09:53:33.681Z"
   },
   {
    "duration": -222,
    "start_time": "2022-03-16T09:53:33.683Z"
   },
   {
    "duration": -225,
    "start_time": "2022-03-16T09:53:33.687Z"
   },
   {
    "duration": -227,
    "start_time": "2022-03-16T09:53:33.690Z"
   },
   {
    "duration": -228,
    "start_time": "2022-03-16T09:53:33.692Z"
   },
   {
    "duration": -229,
    "start_time": "2022-03-16T09:53:33.694Z"
   },
   {
    "duration": -231,
    "start_time": "2022-03-16T09:53:33.696Z"
   },
   {
    "duration": -233,
    "start_time": "2022-03-16T09:53:33.699Z"
   },
   {
    "duration": -234,
    "start_time": "2022-03-16T09:53:33.701Z"
   },
   {
    "duration": 292,
    "start_time": "2022-03-16T09:53:56.542Z"
   },
   {
    "duration": 354,
    "start_time": "2022-03-16T09:54:03.659Z"
   },
   {
    "duration": 369,
    "start_time": "2022-03-16T09:54:28.510Z"
   },
   {
    "duration": 470,
    "start_time": "2022-03-16T09:55:53.587Z"
   },
   {
    "duration": 639,
    "start_time": "2022-03-16T09:57:22.012Z"
   },
   {
    "duration": 405,
    "start_time": "2022-03-16T09:57:22.652Z"
   },
   {
    "duration": 3,
    "start_time": "2022-03-16T09:57:23.059Z"
   },
   {
    "duration": 15,
    "start_time": "2022-03-16T09:57:23.064Z"
   },
   {
    "duration": 5,
    "start_time": "2022-03-16T09:57:23.081Z"
   },
   {
    "duration": 14,
    "start_time": "2022-03-16T09:57:23.088Z"
   },
   {
    "duration": 25,
    "start_time": "2022-03-16T09:57:23.104Z"
   },
   {
    "duration": 17,
    "start_time": "2022-03-16T09:57:23.131Z"
   },
   {
    "duration": 31,
    "start_time": "2022-03-16T09:57:23.151Z"
   },
   {
    "duration": 341,
    "start_time": "2022-03-16T09:57:23.185Z"
   },
   {
    "duration": 18,
    "start_time": "2022-03-16T09:57:23.528Z"
   },
   {
    "duration": 3,
    "start_time": "2022-03-16T09:57:23.548Z"
   },
   {
    "duration": 249,
    "start_time": "2022-03-16T09:57:23.553Z"
   },
   {
    "duration": 15,
    "start_time": "2022-03-16T09:57:23.804Z"
   },
   {
    "duration": 15,
    "start_time": "2022-03-16T09:57:23.820Z"
   },
   {
    "duration": 18,
    "start_time": "2022-03-16T09:57:23.837Z"
   },
   {
    "duration": -316,
    "start_time": "2022-03-16T09:58:18.509Z"
   },
   {
    "duration": -317,
    "start_time": "2022-03-16T09:58:18.512Z"
   },
   {
    "duration": -320,
    "start_time": "2022-03-16T09:58:18.516Z"
   },
   {
    "duration": -323,
    "start_time": "2022-03-16T09:58:18.520Z"
   },
   {
    "duration": -325,
    "start_time": "2022-03-16T09:58:18.524Z"
   },
   {
    "duration": -327,
    "start_time": "2022-03-16T09:58:18.527Z"
   },
   {
    "duration": -328,
    "start_time": "2022-03-16T09:58:18.530Z"
   },
   {
    "duration": -331,
    "start_time": "2022-03-16T09:58:18.534Z"
   },
   {
    "duration": -334,
    "start_time": "2022-03-16T09:58:18.537Z"
   },
   {
    "duration": -336,
    "start_time": "2022-03-16T09:58:18.541Z"
   },
   {
    "duration": -339,
    "start_time": "2022-03-16T09:58:18.544Z"
   },
   {
    "duration": -342,
    "start_time": "2022-03-16T09:58:18.548Z"
   },
   {
    "duration": -344,
    "start_time": "2022-03-16T09:58:18.551Z"
   },
   {
    "duration": -346,
    "start_time": "2022-03-16T09:58:18.554Z"
   },
   {
    "duration": -349,
    "start_time": "2022-03-16T09:58:18.558Z"
   },
   {
    "duration": -351,
    "start_time": "2022-03-16T09:58:18.561Z"
   },
   {
    "duration": -353,
    "start_time": "2022-03-16T09:58:18.564Z"
   },
   {
    "duration": -357,
    "start_time": "2022-03-16T09:58:18.568Z"
   },
   {
    "duration": -359,
    "start_time": "2022-03-16T09:58:18.571Z"
   },
   {
    "duration": -361,
    "start_time": "2022-03-16T09:58:18.574Z"
   },
   {
    "duration": -364,
    "start_time": "2022-03-16T09:58:18.578Z"
   },
   {
    "duration": -366,
    "start_time": "2022-03-16T09:58:18.581Z"
   },
   {
    "duration": -368,
    "start_time": "2022-03-16T09:58:18.584Z"
   },
   {
    "duration": -370,
    "start_time": "2022-03-16T09:58:18.587Z"
   },
   {
    "duration": -371,
    "start_time": "2022-03-16T09:58:18.589Z"
   },
   {
    "duration": -374,
    "start_time": "2022-03-16T09:58:18.592Z"
   },
   {
    "duration": -375,
    "start_time": "2022-03-16T09:58:18.594Z"
   },
   {
    "duration": -316,
    "start_time": "2022-03-16T09:58:18.596Z"
   },
   {
    "duration": -316,
    "start_time": "2022-03-16T09:58:18.598Z"
   },
   {
    "duration": -317,
    "start_time": "2022-03-16T09:58:18.600Z"
   },
   {
    "duration": -319,
    "start_time": "2022-03-16T09:58:18.603Z"
   },
   {
    "duration": -328,
    "start_time": "2022-03-16T09:58:18.613Z"
   },
   {
    "duration": -330,
    "start_time": "2022-03-16T09:58:18.616Z"
   },
   {
    "duration": 217,
    "start_time": "2022-03-16T09:59:05.111Z"
   },
   {
    "duration": 2,
    "start_time": "2022-03-16T09:59:10.072Z"
   },
   {
    "duration": 402,
    "start_time": "2022-03-16T09:59:10.741Z"
   },
   {
    "duration": 2,
    "start_time": "2022-03-16T09:59:11.443Z"
   },
   {
    "duration": 11,
    "start_time": "2022-03-16T09:59:12.132Z"
   },
   {
    "duration": 4,
    "start_time": "2022-03-16T09:59:12.874Z"
   },
   {
    "duration": 5,
    "start_time": "2022-03-16T09:59:13.231Z"
   },
   {
    "duration": 40,
    "start_time": "2022-03-16T09:59:14.266Z"
   },
   {
    "duration": 20,
    "start_time": "2022-03-16T09:59:14.550Z"
   },
   {
    "duration": 10,
    "start_time": "2022-03-16T09:59:14.926Z"
   },
   {
    "duration": 233,
    "start_time": "2022-03-16T09:59:15.596Z"
   },
   {
    "duration": 22,
    "start_time": "2022-03-16T09:59:16.070Z"
   },
   {
    "duration": 6,
    "start_time": "2022-03-16T09:59:16.582Z"
   },
   {
    "duration": 218,
    "start_time": "2022-03-16T09:59:16.825Z"
   },
   {
    "duration": 18,
    "start_time": "2022-03-16T09:59:17.094Z"
   },
   {
    "duration": 19,
    "start_time": "2022-03-16T09:59:17.873Z"
   },
   {
    "duration": 31,
    "start_time": "2022-03-16T09:59:18.582Z"
   },
   {
    "duration": 219,
    "start_time": "2022-03-16T09:59:19.310Z"
   },
   {
    "duration": 5,
    "start_time": "2022-03-16T09:59:19.887Z"
   },
   {
    "duration": 23,
    "start_time": "2022-03-16T09:59:20.101Z"
   },
   {
    "duration": 196,
    "start_time": "2022-03-16T09:59:20.553Z"
   },
   {
    "duration": 10,
    "start_time": "2022-03-16T09:59:21.000Z"
   },
   {
    "duration": 7,
    "start_time": "2022-03-16T09:59:21.243Z"
   },
   {
    "duration": 3,
    "start_time": "2022-03-16T09:59:21.863Z"
   },
   {
    "duration": 64,
    "start_time": "2022-03-16T09:59:22.077Z"
   },
   {
    "duration": 8,
    "start_time": "2022-03-16T09:59:22.286Z"
   },
   {
    "duration": 13,
    "start_time": "2022-03-16T09:59:22.518Z"
   },
   {
    "duration": 16,
    "start_time": "2022-03-16T09:59:22.813Z"
   },
   {
    "duration": 13,
    "start_time": "2022-03-16T09:59:23.037Z"
   },
   {
    "duration": 357,
    "start_time": "2022-03-16T09:59:23.965Z"
   },
   {
    "duration": 191,
    "start_time": "2022-03-16T09:59:24.325Z"
   },
   {
    "duration": 24,
    "start_time": "2022-03-16T09:59:24.564Z"
   },
   {
    "duration": 30,
    "start_time": "2022-03-16T09:59:25.456Z"
   },
   {
    "duration": 107,
    "start_time": "2022-03-16T09:59:25.998Z"
   },
   {
    "duration": 98,
    "start_time": "2022-03-16T10:00:39.932Z"
   },
   {
    "duration": 473,
    "start_time": "2022-03-16T10:00:42.741Z"
   },
   {
    "duration": 221,
    "start_time": "2022-03-16T10:01:24.773Z"
   },
   {
    "duration": 899,
    "start_time": "2022-03-16T10:20:12.518Z"
   },
   {
    "duration": 570,
    "start_time": "2022-03-16T10:20:13.419Z"
   },
   {
    "duration": 4,
    "start_time": "2022-03-16T10:20:13.992Z"
   },
   {
    "duration": 18,
    "start_time": "2022-03-16T10:20:13.999Z"
   },
   {
    "duration": 5,
    "start_time": "2022-03-16T10:20:14.019Z"
   },
   {
    "duration": 6,
    "start_time": "2022-03-16T10:20:14.026Z"
   },
   {
    "duration": 75,
    "start_time": "2022-03-16T10:20:14.034Z"
   },
   {
    "duration": 33,
    "start_time": "2022-03-16T10:20:14.112Z"
   },
   {
    "duration": 37,
    "start_time": "2022-03-16T10:20:14.148Z"
   },
   {
    "duration": 328,
    "start_time": "2022-03-16T10:20:14.188Z"
   },
   {
    "duration": 22,
    "start_time": "2022-03-16T10:20:14.518Z"
   },
   {
    "duration": 13,
    "start_time": "2022-03-16T10:20:14.542Z"
   },
   {
    "duration": 361,
    "start_time": "2022-03-16T10:20:14.556Z"
   },
   {
    "duration": 15,
    "start_time": "2022-03-16T10:20:14.919Z"
   },
   {
    "duration": 27,
    "start_time": "2022-03-16T10:20:14.935Z"
   },
   {
    "duration": 61,
    "start_time": "2022-03-16T10:20:14.964Z"
   },
   {
    "duration": 250,
    "start_time": "2022-03-16T10:20:15.027Z"
   },
   {
    "duration": 5,
    "start_time": "2022-03-16T10:20:15.280Z"
   },
   {
    "duration": 37,
    "start_time": "2022-03-16T10:20:15.287Z"
   },
   {
    "duration": 285,
    "start_time": "2022-03-16T10:20:15.326Z"
   },
   {
    "duration": 11,
    "start_time": "2022-03-16T10:20:15.612Z"
   },
   {
    "duration": 10,
    "start_time": "2022-03-16T10:20:15.625Z"
   },
   {
    "duration": 3,
    "start_time": "2022-03-16T10:20:15.639Z"
   },
   {
    "duration": 88,
    "start_time": "2022-03-16T10:20:15.645Z"
   },
   {
    "duration": 8,
    "start_time": "2022-03-16T10:20:15.735Z"
   },
   {
    "duration": 17,
    "start_time": "2022-03-16T10:20:15.745Z"
   },
   {
    "duration": 29,
    "start_time": "2022-03-16T10:20:15.781Z"
   },
   {
    "duration": 14,
    "start_time": "2022-03-16T10:20:15.812Z"
   },
   {
    "duration": 434,
    "start_time": "2022-03-16T10:20:15.828Z"
   },
   {
    "duration": 192,
    "start_time": "2022-03-16T10:20:16.264Z"
   },
   {
    "duration": 36,
    "start_time": "2022-03-16T10:20:16.458Z"
   },
   {
    "duration": 34,
    "start_time": "2022-03-16T10:20:16.496Z"
   },
   {
    "duration": 189,
    "start_time": "2022-03-16T10:20:16.532Z"
   },
   {
    "duration": 4,
    "start_time": "2022-03-16T10:20:16.723Z"
   },
   {
    "duration": 30,
    "start_time": "2022-03-16T10:20:16.728Z"
   },
   {
    "duration": 35,
    "start_time": "2022-03-16T10:20:16.759Z"
   },
   {
    "duration": 14327,
    "start_time": "2022-03-16T10:20:16.796Z"
   },
   {
    "duration": 41,
    "start_time": "2022-03-28T12:27:58.077Z"
   },
   {
    "duration": 1385,
    "start_time": "2022-03-28T12:28:06.614Z"
   },
   {
    "duration": 101,
    "start_time": "2022-03-28T12:28:08.002Z"
   },
   {
    "duration": 0,
    "start_time": "2022-03-28T12:28:08.106Z"
   },
   {
    "duration": 0,
    "start_time": "2022-03-28T12:28:08.107Z"
   },
   {
    "duration": 0,
    "start_time": "2022-03-28T12:28:08.109Z"
   },
   {
    "duration": 0,
    "start_time": "2022-03-28T12:28:08.109Z"
   },
   {
    "duration": 0,
    "start_time": "2022-03-28T12:28:08.111Z"
   },
   {
    "duration": 0,
    "start_time": "2022-03-28T12:28:08.111Z"
   },
   {
    "duration": 0,
    "start_time": "2022-03-28T12:28:08.112Z"
   },
   {
    "duration": 0,
    "start_time": "2022-03-28T12:28:08.113Z"
   },
   {
    "duration": 0,
    "start_time": "2022-03-28T12:28:08.114Z"
   },
   {
    "duration": 0,
    "start_time": "2022-03-28T12:28:08.116Z"
   },
   {
    "duration": 0,
    "start_time": "2022-03-28T12:28:08.116Z"
   },
   {
    "duration": 0,
    "start_time": "2022-03-28T12:28:08.117Z"
   },
   {
    "duration": 0,
    "start_time": "2022-03-28T12:28:08.137Z"
   },
   {
    "duration": 0,
    "start_time": "2022-03-28T12:28:08.138Z"
   },
   {
    "duration": 0,
    "start_time": "2022-03-28T12:28:08.139Z"
   },
   {
    "duration": 0,
    "start_time": "2022-03-28T12:28:08.140Z"
   },
   {
    "duration": 0,
    "start_time": "2022-03-28T12:28:08.142Z"
   },
   {
    "duration": 0,
    "start_time": "2022-03-28T12:28:08.142Z"
   },
   {
    "duration": 0,
    "start_time": "2022-03-28T12:28:08.144Z"
   },
   {
    "duration": 0,
    "start_time": "2022-03-28T12:28:08.145Z"
   },
   {
    "duration": 0,
    "start_time": "2022-03-28T12:28:08.146Z"
   },
   {
    "duration": 0,
    "start_time": "2022-03-28T12:28:08.147Z"
   },
   {
    "duration": 0,
    "start_time": "2022-03-28T12:28:08.148Z"
   },
   {
    "duration": 0,
    "start_time": "2022-03-28T12:28:08.149Z"
   },
   {
    "duration": 0,
    "start_time": "2022-03-28T12:28:08.150Z"
   },
   {
    "duration": 0,
    "start_time": "2022-03-28T12:28:08.151Z"
   },
   {
    "duration": 0,
    "start_time": "2022-03-28T12:28:08.152Z"
   },
   {
    "duration": 0,
    "start_time": "2022-03-28T12:28:08.153Z"
   },
   {
    "duration": 0,
    "start_time": "2022-03-28T12:28:08.154Z"
   },
   {
    "duration": 0,
    "start_time": "2022-03-28T12:28:08.155Z"
   },
   {
    "duration": 0,
    "start_time": "2022-03-28T12:28:08.156Z"
   },
   {
    "duration": 0,
    "start_time": "2022-03-28T12:28:08.157Z"
   },
   {
    "duration": 0,
    "start_time": "2022-03-28T12:28:08.158Z"
   },
   {
    "duration": 0,
    "start_time": "2022-03-28T12:28:08.159Z"
   },
   {
    "duration": 0,
    "start_time": "2022-03-28T12:28:08.160Z"
   },
   {
    "duration": 0,
    "start_time": "2022-03-28T12:28:08.161Z"
   },
   {
    "duration": 0,
    "start_time": "2022-03-28T12:28:08.162Z"
   },
   {
    "duration": 0,
    "start_time": "2022-03-28T12:28:08.163Z"
   },
   {
    "duration": 0,
    "start_time": "2022-03-28T12:28:08.164Z"
   },
   {
    "duration": 0,
    "start_time": "2022-03-28T12:28:08.165Z"
   },
   {
    "duration": 0,
    "start_time": "2022-03-28T12:28:08.166Z"
   },
   {
    "duration": 0,
    "start_time": "2022-03-28T12:28:08.167Z"
   },
   {
    "duration": 0,
    "start_time": "2022-03-28T12:28:08.168Z"
   },
   {
    "duration": 0,
    "start_time": "2022-03-28T12:28:08.169Z"
   },
   {
    "duration": 0,
    "start_time": "2022-03-28T12:28:08.170Z"
   },
   {
    "duration": 0,
    "start_time": "2022-03-28T12:28:08.171Z"
   },
   {
    "duration": 0,
    "start_time": "2022-03-28T12:28:08.172Z"
   },
   {
    "duration": 0,
    "start_time": "2022-03-28T12:28:08.172Z"
   },
   {
    "duration": 0,
    "start_time": "2022-03-28T12:28:08.173Z"
   },
   {
    "duration": 0,
    "start_time": "2022-03-28T12:28:08.174Z"
   },
   {
    "duration": 0,
    "start_time": "2022-03-28T12:28:08.238Z"
   },
   {
    "duration": 0,
    "start_time": "2022-03-28T12:28:08.239Z"
   },
   {
    "duration": 0,
    "start_time": "2022-03-28T12:28:08.240Z"
   },
   {
    "duration": 0,
    "start_time": "2022-03-28T12:28:08.241Z"
   },
   {
    "duration": 0,
    "start_time": "2022-03-28T12:28:08.242Z"
   },
   {
    "duration": 0,
    "start_time": "2022-03-28T12:28:08.243Z"
   },
   {
    "duration": 0,
    "start_time": "2022-03-28T12:28:08.244Z"
   },
   {
    "duration": 0,
    "start_time": "2022-03-28T12:28:08.245Z"
   },
   {
    "duration": 0,
    "start_time": "2022-03-28T12:28:08.246Z"
   },
   {
    "duration": 0,
    "start_time": "2022-03-28T12:28:08.247Z"
   },
   {
    "duration": 0,
    "start_time": "2022-03-28T12:28:08.248Z"
   },
   {
    "duration": 0,
    "start_time": "2022-03-28T12:28:08.249Z"
   },
   {
    "duration": 0,
    "start_time": "2022-03-28T12:28:08.250Z"
   },
   {
    "duration": 0,
    "start_time": "2022-03-28T12:28:08.251Z"
   },
   {
    "duration": 0,
    "start_time": "2022-03-28T12:28:08.252Z"
   },
   {
    "duration": 0,
    "start_time": "2022-03-28T12:28:08.253Z"
   },
   {
    "duration": 0,
    "start_time": "2022-03-28T12:28:08.254Z"
   },
   {
    "duration": 0,
    "start_time": "2022-03-28T12:28:08.255Z"
   },
   {
    "duration": 0,
    "start_time": "2022-03-28T12:28:08.256Z"
   },
   {
    "duration": 0,
    "start_time": "2022-03-28T12:28:08.259Z"
   },
   {
    "duration": 0,
    "start_time": "2022-03-28T12:28:08.259Z"
   },
   {
    "duration": 0,
    "start_time": "2022-03-28T12:28:08.260Z"
   },
   {
    "duration": 8,
    "start_time": "2022-03-28T12:28:39.818Z"
   },
   {
    "duration": 9,
    "start_time": "2022-03-28T12:28:51.496Z"
   },
   {
    "duration": 3,
    "start_time": "2022-03-28T12:29:02.066Z"
   },
   {
    "duration": 15,
    "start_time": "2022-03-28T12:29:02.350Z"
   },
   {
    "duration": 3,
    "start_time": "2022-03-28T12:29:02.617Z"
   },
   {
    "duration": 8,
    "start_time": "2022-03-28T12:29:02.951Z"
   },
   {
    "duration": 8,
    "start_time": "2022-03-28T12:29:03.177Z"
   },
   {
    "duration": 9,
    "start_time": "2022-03-28T12:29:03.287Z"
   },
   {
    "duration": 1155,
    "start_time": "2022-03-28T12:29:52.034Z"
   },
   {
    "duration": 401,
    "start_time": "2022-03-28T12:29:53.191Z"
   },
   {
    "duration": 2,
    "start_time": "2022-03-28T12:29:53.594Z"
   },
   {
    "duration": 28,
    "start_time": "2022-03-28T12:29:53.598Z"
   },
   {
    "duration": 12,
    "start_time": "2022-03-28T12:29:53.629Z"
   },
   {
    "duration": 16,
    "start_time": "2022-03-28T12:29:53.642Z"
   },
   {
    "duration": 38,
    "start_time": "2022-03-28T12:29:53.660Z"
   },
   {
    "duration": 22,
    "start_time": "2022-03-28T12:29:53.699Z"
   },
   {
    "duration": 20,
    "start_time": "2022-03-28T12:29:53.722Z"
   },
   {
    "duration": 185,
    "start_time": "2022-03-28T12:29:53.744Z"
   },
   {
    "duration": 23,
    "start_time": "2022-03-28T12:29:53.931Z"
   },
   {
    "duration": 4,
    "start_time": "2022-03-28T12:29:53.955Z"
   },
   {
    "duration": 177,
    "start_time": "2022-03-28T12:29:53.960Z"
   },
   {
    "duration": 17,
    "start_time": "2022-03-28T12:29:54.140Z"
   },
   {
    "duration": 21,
    "start_time": "2022-03-28T12:29:54.159Z"
   },
   {
    "duration": 24,
    "start_time": "2022-03-28T12:29:54.182Z"
   },
   {
    "duration": 180,
    "start_time": "2022-03-28T12:29:54.208Z"
   },
   {
    "duration": 4,
    "start_time": "2022-03-28T12:29:54.390Z"
   },
   {
    "duration": 22,
    "start_time": "2022-03-28T12:29:54.395Z"
   },
   {
    "duration": 152,
    "start_time": "2022-03-28T12:29:54.418Z"
   },
   {
    "duration": 14,
    "start_time": "2022-03-28T12:29:54.571Z"
   },
   {
    "duration": 20,
    "start_time": "2022-03-28T12:29:54.588Z"
   },
   {
    "duration": 5,
    "start_time": "2022-03-28T12:29:54.611Z"
   },
   {
    "duration": 96,
    "start_time": "2022-03-28T12:29:54.618Z"
   },
   {
    "duration": 11,
    "start_time": "2022-03-28T12:29:54.716Z"
   },
   {
    "duration": 26,
    "start_time": "2022-03-28T12:29:54.729Z"
   },
   {
    "duration": 14,
    "start_time": "2022-03-28T12:29:54.757Z"
   },
   {
    "duration": 16,
    "start_time": "2022-03-28T12:29:54.773Z"
   },
   {
    "duration": 383,
    "start_time": "2022-03-28T12:29:54.791Z"
   },
   {
    "duration": 194,
    "start_time": "2022-03-28T12:29:55.175Z"
   },
   {
    "duration": 22,
    "start_time": "2022-03-28T12:29:55.370Z"
   },
   {
    "duration": 62,
    "start_time": "2022-03-28T12:29:55.394Z"
   },
   {
    "duration": 202,
    "start_time": "2022-03-28T12:29:55.458Z"
   },
   {
    "duration": 18,
    "start_time": "2022-03-28T12:29:55.661Z"
   },
   {
    "duration": 111,
    "start_time": "2022-03-28T12:29:55.681Z"
   },
   {
    "duration": 20,
    "start_time": "2022-03-28T12:29:55.793Z"
   },
   {
    "duration": 103,
    "start_time": "2022-03-28T12:29:55.814Z"
   },
   {
    "duration": 20,
    "start_time": "2022-03-28T12:29:55.919Z"
   },
   {
    "duration": 30,
    "start_time": "2022-03-28T12:29:55.940Z"
   },
   {
    "duration": 25,
    "start_time": "2022-03-28T12:29:55.972Z"
   },
   {
    "duration": 19,
    "start_time": "2022-03-28T12:29:56.001Z"
   },
   {
    "duration": 30,
    "start_time": "2022-03-28T12:29:56.022Z"
   },
   {
    "duration": 87,
    "start_time": "2022-03-28T12:29:56.054Z"
   },
   {
    "duration": 16,
    "start_time": "2022-03-28T12:29:56.143Z"
   },
   {
    "duration": 8,
    "start_time": "2022-03-28T12:29:56.161Z"
   },
   {
    "duration": 25,
    "start_time": "2022-03-28T12:29:56.170Z"
   },
   {
    "duration": 17,
    "start_time": "2022-03-28T12:29:56.197Z"
   },
   {
    "duration": 30,
    "start_time": "2022-03-28T12:29:56.215Z"
   },
   {
    "duration": 25,
    "start_time": "2022-03-28T12:29:56.247Z"
   },
   {
    "duration": 17,
    "start_time": "2022-03-28T12:29:56.273Z"
   },
   {
    "duration": 16,
    "start_time": "2022-03-28T12:29:56.291Z"
   },
   {
    "duration": 163,
    "start_time": "2022-03-28T12:29:56.309Z"
   },
   {
    "duration": 7,
    "start_time": "2022-03-28T12:29:56.473Z"
   },
   {
    "duration": 11,
    "start_time": "2022-03-28T12:29:56.481Z"
   },
   {
    "duration": 173,
    "start_time": "2022-03-28T12:29:56.493Z"
   },
   {
    "duration": 3,
    "start_time": "2022-03-28T12:29:56.668Z"
   },
   {
    "duration": 15,
    "start_time": "2022-03-28T12:29:56.673Z"
   },
   {
    "duration": 8,
    "start_time": "2022-03-28T12:29:56.690Z"
   },
   {
    "duration": 271,
    "start_time": "2022-03-28T12:29:56.700Z"
   },
   {
    "duration": 7,
    "start_time": "2022-03-28T12:29:56.973Z"
   },
   {
    "duration": 20,
    "start_time": "2022-03-28T12:29:56.981Z"
   },
   {
    "duration": 165,
    "start_time": "2022-03-28T12:29:57.002Z"
   },
   {
    "duration": 3,
    "start_time": "2022-03-28T12:29:57.169Z"
   },
   {
    "duration": 29,
    "start_time": "2022-03-28T12:29:57.174Z"
   },
   {
    "duration": 13,
    "start_time": "2022-03-28T12:29:57.206Z"
   },
   {
    "duration": 13,
    "start_time": "2022-03-28T12:29:57.220Z"
   },
   {
    "duration": 228,
    "start_time": "2022-03-28T12:29:57.235Z"
   },
   {
    "duration": 7,
    "start_time": "2022-03-28T12:29:57.465Z"
   },
   {
    "duration": 15,
    "start_time": "2022-03-28T12:29:57.473Z"
   },
   {
    "duration": 142,
    "start_time": "2022-03-28T12:29:57.490Z"
   },
   {
    "duration": 3,
    "start_time": "2022-03-28T12:29:57.637Z"
   },
   {
    "duration": 25,
    "start_time": "2022-03-28T12:29:57.641Z"
   },
   {
    "duration": 28,
    "start_time": "2022-03-28T12:29:57.667Z"
   },
   {
    "duration": 21,
    "start_time": "2022-03-28T12:29:57.696Z"
   },
   {
    "duration": 2388,
    "start_time": "2022-03-28T12:31:30.566Z"
   },
   {
    "duration": 4,
    "start_time": "2022-03-28T12:31:42.438Z"
   },
   {
    "duration": 5,
    "start_time": "2022-03-28T12:33:19.875Z"
   },
   {
    "duration": 308,
    "start_time": "2022-03-28T12:34:02.524Z"
   },
   {
    "duration": 311,
    "start_time": "2022-03-28T12:34:17.177Z"
   },
   {
    "duration": 128,
    "start_time": "2022-03-28T12:35:03.354Z"
   },
   {
    "duration": 123,
    "start_time": "2022-03-28T12:35:10.738Z"
   },
   {
    "duration": 447,
    "start_time": "2022-03-28T12:35:30.507Z"
   },
   {
    "duration": 449,
    "start_time": "2022-03-28T12:35:36.073Z"
   },
   {
    "duration": 152,
    "start_time": "2022-03-28T12:36:00.674Z"
   },
   {
    "duration": 192,
    "start_time": "2022-03-28T12:36:30.210Z"
   },
   {
    "duration": 156,
    "start_time": "2022-03-28T12:36:50.808Z"
   },
   {
    "duration": 150,
    "start_time": "2022-03-28T12:37:10.610Z"
   },
   {
    "duration": 157,
    "start_time": "2022-03-28T12:37:26.125Z"
   },
   {
    "duration": 151,
    "start_time": "2022-03-28T12:37:34.474Z"
   },
   {
    "duration": 159,
    "start_time": "2022-03-28T12:40:16.609Z"
   },
   {
    "duration": 152,
    "start_time": "2022-03-28T12:40:26.087Z"
   },
   {
    "duration": 244,
    "start_time": "2022-03-28T12:41:35.586Z"
   },
   {
    "duration": 145,
    "start_time": "2022-03-28T12:42:01.410Z"
   },
   {
    "duration": 132,
    "start_time": "2022-03-28T12:43:06.783Z"
   },
   {
    "duration": 166,
    "start_time": "2022-03-28T12:44:12.075Z"
   },
   {
    "duration": 118,
    "start_time": "2022-03-28T12:45:33.146Z"
   },
   {
    "duration": 162,
    "start_time": "2022-03-28T12:45:47.067Z"
   },
   {
    "duration": 163,
    "start_time": "2022-03-28T12:45:52.599Z"
   },
   {
    "duration": 149,
    "start_time": "2022-03-28T12:46:57.913Z"
   },
   {
    "duration": 154,
    "start_time": "2022-03-28T12:47:07.495Z"
   },
   {
    "duration": 146,
    "start_time": "2022-03-28T12:47:14.357Z"
   },
   {
    "duration": 149,
    "start_time": "2022-03-28T12:47:21.489Z"
   },
   {
    "duration": 149,
    "start_time": "2022-03-28T12:47:32.529Z"
   },
   {
    "duration": 261,
    "start_time": "2022-03-28T12:49:18.530Z"
   },
   {
    "duration": 152,
    "start_time": "2022-03-28T12:49:26.476Z"
   },
   {
    "duration": 160,
    "start_time": "2022-03-28T12:49:30.266Z"
   },
   {
    "duration": 164,
    "start_time": "2022-03-28T12:50:23.621Z"
   },
   {
    "duration": 155,
    "start_time": "2022-03-28T12:51:06.823Z"
   },
   {
    "duration": 156,
    "start_time": "2022-03-28T12:51:12.889Z"
   },
   {
    "duration": 3,
    "start_time": "2022-03-28T12:52:26.146Z"
   },
   {
    "duration": 10,
    "start_time": "2022-03-28T12:52:27.936Z"
   },
   {
    "duration": 3,
    "start_time": "2022-03-28T12:54:16.071Z"
   },
   {
    "duration": 4,
    "start_time": "2022-03-28T12:54:36.688Z"
   },
   {
    "duration": 3,
    "start_time": "2022-03-28T12:54:37.155Z"
   },
   {
    "duration": 15,
    "start_time": "2022-03-28T12:54:37.929Z"
   },
   {
    "duration": 5,
    "start_time": "2022-03-28T12:54:38.307Z"
   },
   {
    "duration": 3,
    "start_time": "2022-03-28T12:54:38.898Z"
   },
   {
    "duration": 8,
    "start_time": "2022-03-28T12:54:43.987Z"
   },
   {
    "duration": 8,
    "start_time": "2022-03-28T12:54:47.538Z"
   },
   {
    "duration": 7,
    "start_time": "2022-03-28T12:54:50.755Z"
   },
   {
    "duration": 7,
    "start_time": "2022-03-28T12:54:53.906Z"
   },
   {
    "duration": 3,
    "start_time": "2022-03-28T12:55:28.161Z"
   },
   {
    "duration": 4,
    "start_time": "2022-03-28T12:55:28.508Z"
   },
   {
    "duration": 9,
    "start_time": "2022-03-28T12:55:29.348Z"
   },
   {
    "duration": 6,
    "start_time": "2022-03-28T12:55:29.557Z"
   },
   {
    "duration": 3,
    "start_time": "2022-03-28T12:55:29.703Z"
   },
   {
    "duration": 165,
    "start_time": "2022-03-28T12:55:30.498Z"
   },
   {
    "duration": 6,
    "start_time": "2022-03-28T13:51:25.024Z"
   },
   {
    "duration": 5,
    "start_time": "2022-03-28T13:51:33.652Z"
   },
   {
    "duration": 4,
    "start_time": "2022-03-28T13:55:35.360Z"
   },
   {
    "duration": 5,
    "start_time": "2022-03-28T13:55:46.814Z"
   },
   {
    "duration": 4,
    "start_time": "2022-03-28T14:00:26.964Z"
   },
   {
    "duration": 4,
    "start_time": "2022-03-28T14:00:30.909Z"
   },
   {
    "duration": 199,
    "start_time": "2022-03-28T14:04:05.837Z"
   },
   {
    "duration": 167,
    "start_time": "2022-03-28T14:05:49.047Z"
   },
   {
    "duration": 163,
    "start_time": "2022-03-28T14:05:56.617Z"
   },
   {
    "duration": 140,
    "start_time": "2022-03-28T14:06:04.743Z"
   },
   {
    "duration": 167,
    "start_time": "2022-03-28T14:06:09.367Z"
   },
   {
    "duration": 287,
    "start_time": "2022-03-28T14:06:16.352Z"
   },
   {
    "duration": 175,
    "start_time": "2022-03-28T14:06:25.282Z"
   },
   {
    "duration": 179,
    "start_time": "2022-03-28T14:06:34.196Z"
   },
   {
    "duration": 179,
    "start_time": "2022-03-28T14:07:52.844Z"
   },
   {
    "duration": 189,
    "start_time": "2022-03-28T14:08:14.316Z"
   },
   {
    "duration": 197,
    "start_time": "2022-03-28T14:08:20.819Z"
   },
   {
    "duration": 159,
    "start_time": "2022-03-28T14:08:55.131Z"
   },
   {
    "duration": 165,
    "start_time": "2022-03-28T14:09:02.466Z"
   },
   {
    "duration": 193,
    "start_time": "2022-03-28T14:09:05.681Z"
   },
   {
    "duration": 180,
    "start_time": "2022-03-28T14:09:09.530Z"
   },
   {
    "duration": 170,
    "start_time": "2022-03-28T14:09:20.482Z"
   },
   {
    "duration": 325,
    "start_time": "2022-03-28T14:10:07.402Z"
   },
   {
    "duration": 163,
    "start_time": "2022-03-28T14:18:21.669Z"
   },
   {
    "duration": 143,
    "start_time": "2022-03-28T14:18:37.078Z"
   },
   {
    "duration": 159,
    "start_time": "2022-03-28T14:19:17.624Z"
   },
   {
    "duration": 20,
    "start_time": "2022-03-28T14:19:52.968Z"
   },
   {
    "duration": 161,
    "start_time": "2022-03-28T14:20:01.180Z"
   },
   {
    "duration": 19,
    "start_time": "2022-03-28T14:20:08.319Z"
   },
   {
    "duration": 165,
    "start_time": "2022-03-28T14:20:12.431Z"
   },
   {
    "duration": 4,
    "start_time": "2022-03-28T14:24:46.849Z"
   },
   {
    "duration": 3,
    "start_time": "2022-03-28T14:25:06.342Z"
   },
   {
    "duration": 3,
    "start_time": "2022-03-28T14:25:15.543Z"
   },
   {
    "duration": 3,
    "start_time": "2022-03-28T14:25:21.901Z"
   },
   {
    "duration": 16,
    "start_time": "2022-03-28T14:25:24.173Z"
   },
   {
    "duration": 5,
    "start_time": "2022-03-28T14:25:47.884Z"
   },
   {
    "duration": 4,
    "start_time": "2022-03-28T14:25:53.386Z"
   },
   {
    "duration": 3,
    "start_time": "2022-03-28T14:26:18.362Z"
   },
   {
    "duration": 5,
    "start_time": "2022-03-28T14:26:19.139Z"
   },
   {
    "duration": 3,
    "start_time": "2022-03-28T14:26:31.670Z"
   },
   {
    "duration": 6,
    "start_time": "2022-03-28T14:26:32.082Z"
   },
   {
    "duration": 3,
    "start_time": "2022-03-28T14:27:28.067Z"
   },
   {
    "duration": 5,
    "start_time": "2022-03-28T14:28:03.945Z"
   },
   {
    "duration": 5,
    "start_time": "2022-03-28T14:28:28.608Z"
   },
   {
    "duration": 5,
    "start_time": "2022-03-28T14:29:44.574Z"
   },
   {
    "duration": 6,
    "start_time": "2022-03-28T14:30:01.663Z"
   },
   {
    "duration": 5,
    "start_time": "2022-03-28T14:30:18.894Z"
   },
   {
    "duration": 47,
    "start_time": "2022-03-28T15:33:28.122Z"
   },
   {
    "duration": 6,
    "start_time": "2022-03-28T15:33:28.500Z"
   },
   {
    "duration": 1354,
    "start_time": "2022-03-28T15:33:38.508Z"
   },
   {
    "duration": 366,
    "start_time": "2022-03-28T15:33:39.864Z"
   },
   {
    "duration": 3,
    "start_time": "2022-03-28T15:33:40.232Z"
   },
   {
    "duration": 20,
    "start_time": "2022-03-28T15:33:40.238Z"
   },
   {
    "duration": 4,
    "start_time": "2022-03-28T15:33:40.260Z"
   },
   {
    "duration": 8,
    "start_time": "2022-03-28T15:33:40.266Z"
   },
   {
    "duration": 29,
    "start_time": "2022-03-28T15:33:40.308Z"
   },
   {
    "duration": 19,
    "start_time": "2022-03-28T15:33:40.339Z"
   },
   {
    "duration": 10,
    "start_time": "2022-03-28T15:33:40.360Z"
   },
   {
    "duration": 215,
    "start_time": "2022-03-28T15:33:40.372Z"
   },
   {
    "duration": 26,
    "start_time": "2022-03-28T15:33:40.589Z"
   },
   {
    "duration": 4,
    "start_time": "2022-03-28T15:33:40.617Z"
   },
   {
    "duration": 178,
    "start_time": "2022-03-28T15:33:40.622Z"
   },
   {
    "duration": 18,
    "start_time": "2022-03-28T15:33:40.801Z"
   },
   {
    "duration": 21,
    "start_time": "2022-03-28T15:33:40.820Z"
   },
   {
    "duration": 24,
    "start_time": "2022-03-28T15:33:40.843Z"
   },
   {
    "duration": 188,
    "start_time": "2022-03-28T15:33:40.868Z"
   },
   {
    "duration": 4,
    "start_time": "2022-03-28T15:33:41.057Z"
   },
   {
    "duration": 18,
    "start_time": "2022-03-28T15:33:41.063Z"
   },
   {
    "duration": 158,
    "start_time": "2022-03-28T15:33:41.083Z"
   },
   {
    "duration": 14,
    "start_time": "2022-03-28T15:33:41.243Z"
   },
   {
    "duration": 7,
    "start_time": "2022-03-28T15:33:41.259Z"
   },
   {
    "duration": 4,
    "start_time": "2022-03-28T15:33:41.267Z"
   },
   {
    "duration": 101,
    "start_time": "2022-03-28T15:33:41.272Z"
   },
   {
    "duration": 10,
    "start_time": "2022-03-28T15:33:41.374Z"
   },
   {
    "duration": 36,
    "start_time": "2022-03-28T15:33:41.386Z"
   },
   {
    "duration": 14,
    "start_time": "2022-03-28T15:33:41.424Z"
   },
   {
    "duration": 15,
    "start_time": "2022-03-28T15:33:41.443Z"
   },
   {
    "duration": 345,
    "start_time": "2022-03-28T15:33:41.459Z"
   },
   {
    "duration": 177,
    "start_time": "2022-03-28T15:33:41.805Z"
   },
   {
    "duration": 32,
    "start_time": "2022-03-28T15:33:41.984Z"
   },
   {
    "duration": 26,
    "start_time": "2022-03-28T15:33:42.017Z"
   },
   {
    "duration": 125,
    "start_time": "2022-03-28T15:33:42.045Z"
   },
   {
    "duration": 18,
    "start_time": "2022-03-28T15:33:42.172Z"
   },
   {
    "duration": 124,
    "start_time": "2022-03-28T15:33:42.192Z"
   },
   {
    "duration": 19,
    "start_time": "2022-03-28T15:33:42.318Z"
   },
   {
    "duration": 112,
    "start_time": "2022-03-28T15:33:42.339Z"
   },
   {
    "duration": 17,
    "start_time": "2022-03-28T15:33:42.452Z"
   },
   {
    "duration": 48,
    "start_time": "2022-03-28T15:33:42.471Z"
   },
   {
    "duration": 23,
    "start_time": "2022-03-28T15:33:42.521Z"
   },
   {
    "duration": 18,
    "start_time": "2022-03-28T15:33:42.546Z"
   },
   {
    "duration": 52,
    "start_time": "2022-03-28T15:33:42.566Z"
   },
   {
    "duration": 121,
    "start_time": "2022-03-28T15:33:42.620Z"
   },
   {
    "duration": 17,
    "start_time": "2022-03-28T15:33:42.742Z"
   },
   {
    "duration": 6,
    "start_time": "2022-03-28T15:33:42.761Z"
   },
   {
    "duration": 6,
    "start_time": "2022-03-28T15:33:42.768Z"
   },
   {
    "duration": 33,
    "start_time": "2022-03-28T15:33:42.775Z"
   },
   {
    "duration": 3,
    "start_time": "2022-03-28T15:33:42.810Z"
   },
   {
    "duration": 5,
    "start_time": "2022-03-28T15:33:42.814Z"
   },
   {
    "duration": 8,
    "start_time": "2022-03-28T15:33:42.821Z"
   },
   {
    "duration": 4,
    "start_time": "2022-03-28T15:33:42.830Z"
   },
   {
    "duration": 11,
    "start_time": "2022-03-28T15:33:42.835Z"
   },
   {
    "duration": 168,
    "start_time": "2022-03-28T15:33:42.847Z"
   },
   {
    "duration": 6,
    "start_time": "2022-03-28T15:33:43.017Z"
   },
   {
    "duration": 7,
    "start_time": "2022-03-28T15:33:43.024Z"
   },
   {
    "duration": 14,
    "start_time": "2022-03-28T15:33:43.032Z"
   },
   {
    "duration": 155,
    "start_time": "2022-03-28T15:33:43.047Z"
   },
   {
    "duration": 6,
    "start_time": "2022-03-28T15:33:43.204Z"
   },
   {
    "duration": 198,
    "start_time": "2022-03-28T15:33:43.211Z"
   },
   {
    "duration": 8,
    "start_time": "2022-03-28T15:33:43.410Z"
   },
   {
    "duration": 6,
    "start_time": "2022-03-28T15:33:43.420Z"
   },
   {
    "duration": 5,
    "start_time": "2022-03-28T15:33:43.428Z"
   },
   {
    "duration": 175,
    "start_time": "2022-03-28T15:33:43.434Z"
   },
   {
    "duration": 6,
    "start_time": "2022-03-28T15:33:43.611Z"
   },
   {
    "duration": 6,
    "start_time": "2022-03-28T15:33:43.619Z"
   },
   {
    "duration": 6,
    "start_time": "2022-03-28T15:33:43.627Z"
   },
   {
    "duration": 238,
    "start_time": "2022-03-28T15:33:43.634Z"
   },
   {
    "duration": 3,
    "start_time": "2022-03-28T15:33:43.874Z"
   },
   {
    "duration": 194,
    "start_time": "2022-03-28T15:33:43.879Z"
   },
   {
    "duration": 4,
    "start_time": "2022-03-28T15:33:44.074Z"
   },
   {
    "duration": 14,
    "start_time": "2022-03-28T15:33:44.080Z"
   },
   {
    "duration": 7,
    "start_time": "2022-03-28T15:33:44.109Z"
   },
   {
    "duration": 14,
    "start_time": "2022-03-28T15:33:44.118Z"
   },
   {
    "duration": 9,
    "start_time": "2022-03-28T15:33:44.134Z"
   },
   {
    "duration": 165,
    "start_time": "2022-03-28T15:33:44.144Z"
   },
   {
    "duration": 7,
    "start_time": "2022-03-28T15:33:44.310Z"
   },
   {
    "duration": 17,
    "start_time": "2022-03-28T15:33:44.319Z"
   },
   {
    "duration": 19,
    "start_time": "2022-03-28T15:33:44.338Z"
   },
   {
    "duration": 150,
    "start_time": "2022-03-28T15:33:44.358Z"
   },
   {
    "duration": 189,
    "start_time": "2022-03-28T15:33:44.510Z"
   },
   {
    "duration": 9,
    "start_time": "2022-03-28T15:33:44.700Z"
   },
   {
    "duration": 7,
    "start_time": "2022-03-28T15:33:44.714Z"
   },
   {
    "duration": 12,
    "start_time": "2022-03-28T15:33:44.723Z"
   },
   {
    "duration": 12,
    "start_time": "2022-03-28T15:33:44.736Z"
   },
   {
    "duration": 6,
    "start_time": "2022-03-28T15:33:44.750Z"
   },
   {
    "duration": 7,
    "start_time": "2022-03-28T15:33:44.758Z"
   },
   {
    "duration": 100,
    "start_time": "2022-03-28T15:43:10.345Z"
   },
   {
    "duration": 6,
    "start_time": "2022-03-28T15:43:22.803Z"
   },
   {
    "duration": 4,
    "start_time": "2022-03-28T15:43:23.468Z"
   },
   {
    "duration": 7,
    "start_time": "2022-03-28T15:44:14.411Z"
   },
   {
    "duration": 4,
    "start_time": "2022-03-28T15:44:14.939Z"
   },
   {
    "duration": 5,
    "start_time": "2022-03-28T15:44:40.809Z"
   },
   {
    "duration": 4,
    "start_time": "2022-03-28T15:44:53.217Z"
   },
   {
    "duration": 6,
    "start_time": "2022-03-28T15:45:07.530Z"
   },
   {
    "duration": 3,
    "start_time": "2022-03-28T15:45:14.625Z"
   },
   {
    "duration": 5,
    "start_time": "2022-03-28T15:49:05.820Z"
   },
   {
    "duration": 7,
    "start_time": "2022-03-28T15:49:12.426Z"
   },
   {
    "duration": 6,
    "start_time": "2022-03-28T15:49:22.404Z"
   },
   {
    "duration": 6,
    "start_time": "2022-03-28T15:49:25.738Z"
   },
   {
    "duration": 7,
    "start_time": "2022-03-28T15:49:34.158Z"
   },
   {
    "duration": 7,
    "start_time": "2022-03-28T15:50:01.202Z"
   },
   {
    "duration": 6,
    "start_time": "2022-03-28T15:50:18.426Z"
   },
   {
    "duration": 6,
    "start_time": "2022-03-28T15:51:33.219Z"
   },
   {
    "duration": 5,
    "start_time": "2022-03-28T15:51:44.539Z"
   },
   {
    "duration": 5,
    "start_time": "2022-03-28T15:51:44.991Z"
   },
   {
    "duration": 6,
    "start_time": "2022-03-28T15:53:14.232Z"
   },
   {
    "duration": 6,
    "start_time": "2022-03-28T15:53:41.574Z"
   },
   {
    "duration": 6,
    "start_time": "2022-03-28T15:53:50.603Z"
   },
   {
    "duration": 6,
    "start_time": "2022-03-28T15:54:56.681Z"
   },
   {
    "duration": 14,
    "start_time": "2022-03-28T16:16:36.388Z"
   },
   {
    "duration": 8,
    "start_time": "2022-03-28T16:16:59.296Z"
   },
   {
    "duration": 5,
    "start_time": "2022-03-28T16:17:17.855Z"
   },
   {
    "duration": 10,
    "start_time": "2022-03-28T16:17:25.325Z"
   },
   {
    "duration": 5,
    "start_time": "2022-03-28T16:17:37.439Z"
   },
   {
    "duration": 4,
    "start_time": "2022-03-28T16:17:46.727Z"
   },
   {
    "duration": 4,
    "start_time": "2022-03-28T16:18:02.149Z"
   },
   {
    "duration": 5,
    "start_time": "2022-03-28T16:18:06.243Z"
   },
   {
    "duration": 4,
    "start_time": "2022-03-28T16:23:29.386Z"
   },
   {
    "duration": 12,
    "start_time": "2022-04-08T10:16:23.588Z"
   },
   {
    "duration": 5,
    "start_time": "2022-04-08T10:16:31.292Z"
   },
   {
    "duration": 4,
    "start_time": "2022-04-08T10:16:42.441Z"
   },
   {
    "duration": 1971,
    "start_time": "2022-04-08T10:23:12.768Z"
   },
   {
    "duration": 610,
    "start_time": "2022-04-08T10:23:14.746Z"
   },
   {
    "duration": 4,
    "start_time": "2022-04-08T10:23:15.359Z"
   },
   {
    "duration": 35,
    "start_time": "2022-04-08T10:23:15.366Z"
   },
   {
    "duration": 5,
    "start_time": "2022-04-08T10:23:15.403Z"
   },
   {
    "duration": 16,
    "start_time": "2022-04-08T10:23:15.411Z"
   },
   {
    "duration": 48,
    "start_time": "2022-04-08T10:23:15.444Z"
   },
   {
    "duration": 51,
    "start_time": "2022-04-08T10:23:15.495Z"
   },
   {
    "duration": 40,
    "start_time": "2022-04-08T10:23:15.548Z"
   },
   {
    "duration": 333,
    "start_time": "2022-04-08T10:23:15.592Z"
   },
   {
    "duration": 34,
    "start_time": "2022-04-08T10:23:15.928Z"
   },
   {
    "duration": 10,
    "start_time": "2022-04-08T10:23:15.964Z"
   },
   {
    "duration": 327,
    "start_time": "2022-04-08T10:23:15.976Z"
   },
   {
    "duration": 22,
    "start_time": "2022-04-08T10:23:16.305Z"
   },
   {
    "duration": 40,
    "start_time": "2022-04-08T10:23:16.350Z"
   },
   {
    "duration": 57,
    "start_time": "2022-04-08T10:23:16.393Z"
   },
   {
    "duration": 363,
    "start_time": "2022-04-08T10:23:16.453Z"
   },
   {
    "duration": 6,
    "start_time": "2022-04-08T10:23:16.819Z"
   },
   {
    "duration": 44,
    "start_time": "2022-04-08T10:23:16.827Z"
   },
   {
    "duration": 296,
    "start_time": "2022-04-08T10:23:16.873Z"
   },
   {
    "duration": 22,
    "start_time": "2022-04-08T10:23:17.172Z"
   },
   {
    "duration": 15,
    "start_time": "2022-04-08T10:23:17.196Z"
   },
   {
    "duration": 39,
    "start_time": "2022-04-08T10:23:17.214Z"
   },
   {
    "duration": 139,
    "start_time": "2022-04-08T10:23:17.255Z"
   },
   {
    "duration": 16,
    "start_time": "2022-04-08T10:23:17.396Z"
   },
   {
    "duration": 59,
    "start_time": "2022-04-08T10:23:17.415Z"
   },
   {
    "duration": 22,
    "start_time": "2022-04-08T10:23:17.477Z"
   },
   {
    "duration": 60,
    "start_time": "2022-04-08T10:23:17.505Z"
   },
   {
    "duration": 505,
    "start_time": "2022-04-08T10:23:17.568Z"
   },
   {
    "duration": 248,
    "start_time": "2022-04-08T10:23:18.076Z"
   },
   {
    "duration": 44,
    "start_time": "2022-04-08T10:23:18.327Z"
   },
   {
    "duration": 38,
    "start_time": "2022-04-08T10:23:18.374Z"
   },
   {
    "duration": 219,
    "start_time": "2022-04-08T10:23:18.414Z"
   },
   {
    "duration": 36,
    "start_time": "2022-04-08T10:23:18.635Z"
   },
   {
    "duration": 201,
    "start_time": "2022-04-08T10:23:18.673Z"
   },
   {
    "duration": 28,
    "start_time": "2022-04-08T10:23:18.877Z"
   },
   {
    "duration": 190,
    "start_time": "2022-04-08T10:23:18.907Z"
   },
   {
    "duration": 25,
    "start_time": "2022-04-08T10:23:19.098Z"
   },
   {
    "duration": 60,
    "start_time": "2022-04-08T10:23:19.125Z"
   },
   {
    "duration": 33,
    "start_time": "2022-04-08T10:23:19.187Z"
   },
   {
    "duration": 54,
    "start_time": "2022-04-08T10:23:19.222Z"
   },
   {
    "duration": 26,
    "start_time": "2022-04-08T10:23:19.279Z"
   },
   {
    "duration": 180,
    "start_time": "2022-04-08T10:23:19.307Z"
   },
   {
    "duration": 31,
    "start_time": "2022-04-08T10:23:19.489Z"
   },
   {
    "duration": 29,
    "start_time": "2022-04-08T10:23:19.522Z"
   },
   {
    "duration": 27,
    "start_time": "2022-04-08T10:23:19.554Z"
   },
   {
    "duration": 7,
    "start_time": "2022-04-08T10:23:19.583Z"
   },
   {
    "duration": 4,
    "start_time": "2022-04-08T10:23:19.593Z"
   },
   {
    "duration": 5,
    "start_time": "2022-04-08T10:23:19.600Z"
   },
   {
    "duration": 11,
    "start_time": "2022-04-08T10:23:19.607Z"
   },
   {
    "duration": 24,
    "start_time": "2022-04-08T10:23:19.620Z"
   },
   {
    "duration": 33,
    "start_time": "2022-04-08T10:23:19.647Z"
   },
   {
    "duration": 278,
    "start_time": "2022-04-08T10:23:19.683Z"
   },
   {
    "duration": 9,
    "start_time": "2022-04-08T10:23:19.964Z"
   },
   {
    "duration": 12,
    "start_time": "2022-04-08T10:23:19.976Z"
   },
   {
    "duration": 11,
    "start_time": "2022-04-08T10:23:19.991Z"
   },
   {
    "duration": 302,
    "start_time": "2022-04-08T10:23:20.005Z"
   },
   {
    "duration": 5,
    "start_time": "2022-04-08T10:23:20.309Z"
   },
   {
    "duration": 358,
    "start_time": "2022-04-08T10:23:20.316Z"
   },
   {
    "duration": 12,
    "start_time": "2022-04-08T10:23:20.677Z"
   },
   {
    "duration": 19,
    "start_time": "2022-04-08T10:23:20.692Z"
   },
   {
    "duration": 13,
    "start_time": "2022-04-08T10:23:20.713Z"
   },
   {
    "duration": 366,
    "start_time": "2022-04-08T10:23:20.748Z"
   },
   {
    "duration": 10,
    "start_time": "2022-04-08T10:23:21.116Z"
   },
   {
    "duration": 28,
    "start_time": "2022-04-08T10:23:21.128Z"
   },
   {
    "duration": 7,
    "start_time": "2022-04-08T10:23:21.168Z"
   },
   {
    "duration": 257,
    "start_time": "2022-04-08T10:23:21.180Z"
   },
   {
    "duration": 5,
    "start_time": "2022-04-08T10:23:21.445Z"
   },
   {
    "duration": 336,
    "start_time": "2022-04-08T10:23:21.453Z"
   },
   {
    "duration": 6,
    "start_time": "2022-04-08T10:23:21.792Z"
   },
   {
    "duration": 27,
    "start_time": "2022-04-08T10:23:21.800Z"
   },
   {
    "duration": 38,
    "start_time": "2022-04-08T10:23:21.829Z"
   },
   {
    "duration": 8,
    "start_time": "2022-04-08T10:23:21.873Z"
   },
   {
    "duration": 16,
    "start_time": "2022-04-08T10:23:21.884Z"
   },
   {
    "duration": 335,
    "start_time": "2022-04-08T10:23:21.903Z"
   },
   {
    "duration": 21,
    "start_time": "2022-04-08T10:23:22.240Z"
   },
   {
    "duration": 25,
    "start_time": "2022-04-08T10:23:22.263Z"
   },
   {
    "duration": 11,
    "start_time": "2022-04-08T10:23:22.291Z"
   },
   {
    "duration": 285,
    "start_time": "2022-04-08T10:23:22.305Z"
   },
   {
    "duration": 6,
    "start_time": "2022-04-08T10:23:22.593Z"
   },
   {
    "duration": 10,
    "start_time": "2022-04-08T10:23:22.601Z"
   },
   {
    "duration": 340,
    "start_time": "2022-04-08T10:23:22.619Z"
   },
   {
    "duration": 4,
    "start_time": "2022-04-08T10:23:22.961Z"
   },
   {
    "duration": 22,
    "start_time": "2022-04-08T10:23:22.968Z"
   },
   {
    "duration": 4,
    "start_time": "2022-04-08T10:23:22.992Z"
   },
   {
    "duration": 14,
    "start_time": "2022-04-08T10:23:22.998Z"
   },
   {
    "duration": 46,
    "start_time": "2022-04-08T10:23:23.014Z"
   }
  ],
  "colab": {
   "collapsed_sections": [
    "DjE_g5nEQI_7",
    "glZaeVayQI_8",
    "L_5emzjXQJAT"
   ],
   "name": "telecom.ipynb",
   "provenance": [],
   "toc_visible": true
  },
  "kernelspec": {
   "display_name": "Python 3 (ipykernel)",
   "language": "python",
   "name": "python3"
  },
  "language_info": {
   "codemirror_mode": {
    "name": "ipython",
    "version": 3
   },
   "file_extension": ".py",
   "mimetype": "text/x-python",
   "name": "python",
   "nbconvert_exporter": "python",
   "pygments_lexer": "ipython3",
   "version": "3.10.1"
  },
  "toc": {
   "base_numbering": 1,
   "nav_menu": {},
   "number_sections": true,
   "sideBar": true,
   "skip_h1_title": true,
   "title_cell": "Table of Contents",
   "title_sidebar": "Contents",
   "toc_cell": false,
   "toc_position": {
    "height": "calc(100% - 180px)",
    "left": "10px",
    "top": "150px",
    "width": "366.391px"
   },
   "toc_section_display": true,
   "toc_window_display": false
  }
 },
 "nbformat": 4,
 "nbformat_minor": 1
}
