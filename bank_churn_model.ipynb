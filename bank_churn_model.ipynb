{
  "cells": [
    {
      "cell_type": "markdown",
      "metadata": {
        "toc": true,
        "id": "R5F4sv3wqc4G"
      },
      "source": [
        "<h1>Содержание<span class=\"tocSkip\"></span></h1>\n",
        "<div class=\"toc\"><ul class=\"toc-item\"><li><span><a href=\"#Подготовка-данных\" data-toc-modified-id=\"Подготовка-данных-1\"><span class=\"toc-item-num\">1&nbsp;&nbsp;</span>Подготовка данных</a></span><ul class=\"toc-item\"><li><span><a href=\"#Вывод:\" data-toc-modified-id=\"Вывод:-1.1\"><span class=\"toc-item-num\">1.1&nbsp;&nbsp;</span>Вывод:</a></span></li></ul></li><li><span><a href=\"#Исследование-задачи\" data-toc-modified-id=\"Исследование-задачи-2\"><span class=\"toc-item-num\">2&nbsp;&nbsp;</span>Исследование задачи</a></span><ul class=\"toc-item\"><li><span><a href=\"#RandomForestClassifier\" data-toc-modified-id=\"RandomForestClassifier-2.1\"><span class=\"toc-item-num\">2.1&nbsp;&nbsp;</span>RandomForestClassifier</a></span></li><li><span><a href=\"#LogisticRegression\" data-toc-modified-id=\"LogisticRegression-2.2\"><span class=\"toc-item-num\">2.2&nbsp;&nbsp;</span>LogisticRegression</a></span></li><li><span><a href=\"#Баланс-классов\" data-toc-modified-id=\"Баланс-классов-2.3\"><span class=\"toc-item-num\">2.3&nbsp;&nbsp;</span>Баланс классов</a></span></li><li><span><a href=\"#Вывод:\" data-toc-modified-id=\"Вывод:-2.4\"><span class=\"toc-item-num\">2.4&nbsp;&nbsp;</span>Вывод:</a></span></li></ul></li><li><span><a href=\"#Борьба-с-дисбалансом\" data-toc-modified-id=\"Борьба-с-дисбалансом-3\"><span class=\"toc-item-num\">3&nbsp;&nbsp;</span>Борьба с дисбалансом</a></span><ul class=\"toc-item\"><li><span><a href=\"#class_weigh\" data-toc-modified-id=\"class_weigh-3.1\"><span class=\"toc-item-num\">3.1&nbsp;&nbsp;</span>class_weigh</a></span></li><li><span><a href=\"#Увелечение-выборки\" data-toc-modified-id=\"Увелечение-выборки-3.2\"><span class=\"toc-item-num\">3.2&nbsp;&nbsp;</span>Увелечение выборки</a></span></li><li><span><a href=\"#Уменьшение-выборки\" data-toc-modified-id=\"Уменьшение-выборки-3.3\"><span class=\"toc-item-num\">3.3&nbsp;&nbsp;</span>Уменьшение выборки</a></span></li><li><span><a href=\"#Порог-классификации\" data-toc-modified-id=\"Порог-классификации-3.4\"><span class=\"toc-item-num\">3.4&nbsp;&nbsp;</span>Порог классификации</a></span></li><li><span><a href=\"#Подбор-гиперпараметров\" data-toc-modified-id=\"Подбор-гиперпараметров-3.5\"><span class=\"toc-item-num\">3.5&nbsp;&nbsp;</span>Подбор гиперпараметров</a></span></li></ul></li><li><span><a href=\"#Тестирование-модели\" data-toc-modified-id=\"Тестирование-модели-4\"><span class=\"toc-item-num\">4&nbsp;&nbsp;</span>Тестирование модели</a></span></li><li><span><a href=\"#Общий-вывод:\" data-toc-modified-id=\"Общий-вывод:-5\"><span class=\"toc-item-num\">5&nbsp;&nbsp;</span>Общий вывод:</a></span></li><li><span><a href=\"#Чек-лист-готовности-проекта\" data-toc-modified-id=\"Чек-лист-готовности-проекта-6\"><span class=\"toc-item-num\">6&nbsp;&nbsp;</span>Чек-лист готовности проекта</a></span></li></ul></div>"
      ]
    },
    {
      "cell_type": "markdown",
      "metadata": {
        "id": "k_DSPxvuqc4I"
      },
      "source": [
        "# Отток клиентов"
      ]
    },
    {
      "cell_type": "markdown",
      "metadata": {
        "id": "tIhkk38Sqc4I"
      },
      "source": [
        "Из «Бета-Банка» стали уходить клиенты. Каждый месяц. Немного, но заметно. Банковские маркетологи посчитали: сохранять текущих клиентов дешевле, чем привлекать новых.\n",
        "\n",
        "Нужно спрогнозировать, уйдёт клиент из банка в ближайшее время или нет. Вам предоставлены исторические данные о поведении клиентов и расторжении договоров с банком. \n",
        "\n",
        "Постройте модель с предельно большим значением *F1*-меры. Чтобы сдать проект успешно, нужно довести метрику до 0.59. Проверьте *F1*-меру на тестовой выборке самостоятельно.\n",
        "\n",
        "Дополнительно измеряйте *AUC-ROC*, сравнивайте её значение с *F1*-мерой.\n",
        "\n",
        "Источник данных: [https://www.kaggle.com/barelydedicated/bank-customer-churn-modeling](https://www.kaggle.com/barelydedicated/bank-customer-churn-modeling)"
      ]
    },
    {
      "cell_type": "markdown",
      "metadata": {
        "id": "RgCjYMP9qc4J"
      },
      "source": [
        "# Описание данных:\n",
        "\n",
        "**Признаки:**\n",
        "\n",
        "* RowNumber — индекс строки в данных\n",
        "* CustomerId — уникальный идентификатор клиента\n",
        "* Surname — фамилия\n",
        "* CreditScore — кредитный рейтинг\n",
        "* Geography — страна проживания\n",
        "* Gender — пол\n",
        "* Age — возраст\n",
        "* Tenure — сколько лет человек является клиентом банка\n",
        "* Balance — баланс на счёте\n",
        "* NumOfProducts — количество продуктов банка, используемых клиентом\n",
        "* HasCrCard — наличие кредитной карты\n",
        "* IsActiveMember — активность клиента\n",
        "* EstimatedSalary — предполагаемая зарплата\n",
        "\n",
        "**Целевой признак:**\n",
        "\n",
        "* Exited — факт ухода клиента"
      ]
    },
    {
      "cell_type": "code",
      "execution_count": null,
      "metadata": {
        "id": "qEuHmvy-qc4J"
      },
      "outputs": [],
      "source": [
        "import pandas as pd\n",
        "pd.options.mode.chained_assignment = None\n",
        "import numpy as np\n",
        "from sklearn.metrics import f1_score, mean_absolute_error, accuracy_score, roc_auc_score\n",
        "from sklearn.preprocessing import StandardScaler, OrdinalEncoder\n",
        "from sklearn.utils import shuffle\n",
        "from sklearn.model_selection import train_test_split\n",
        "from sklearn.linear_model import LogisticRegression\n",
        "from sklearn.ensemble import RandomForestClassifier\n",
        "import matplotlib.pyplot as plt\n",
        "from sklearn import metrics\n",
        "from sklearn.metrics import plot_roc_curve\n",
        "from sklearn.metrics import roc_curve, auc"
      ]
    },
    {
      "cell_type": "markdown",
      "metadata": {
        "id": "FHm9TUhrqc4M"
      },
      "source": [
        "## Подготовка данных"
      ]
    },
    {
      "cell_type": "code",
      "execution_count": null,
      "metadata": {
        "id": "q_iZ26J8qc4M",
        "outputId": "56633e08-169a-44c1-afab-751b07b2ad84"
      },
      "outputs": [
        {
          "data": {
            "text/html": [
              "<div>\n",
              "<style scoped>\n",
              "    .dataframe tbody tr th:only-of-type {\n",
              "        vertical-align: middle;\n",
              "    }\n",
              "\n",
              "    .dataframe tbody tr th {\n",
              "        vertical-align: top;\n",
              "    }\n",
              "\n",
              "    .dataframe thead th {\n",
              "        text-align: right;\n",
              "    }\n",
              "</style>\n",
              "<table border=\"1\" class=\"dataframe\">\n",
              "  <thead>\n",
              "    <tr style=\"text-align: right;\">\n",
              "      <th></th>\n",
              "      <th>RowNumber</th>\n",
              "      <th>CustomerId</th>\n",
              "      <th>Surname</th>\n",
              "      <th>CreditScore</th>\n",
              "      <th>Geography</th>\n",
              "      <th>Gender</th>\n",
              "      <th>Age</th>\n",
              "      <th>Tenure</th>\n",
              "      <th>Balance</th>\n",
              "      <th>NumOfProducts</th>\n",
              "      <th>HasCrCard</th>\n",
              "      <th>IsActiveMember</th>\n",
              "      <th>EstimatedSalary</th>\n",
              "      <th>Exited</th>\n",
              "    </tr>\n",
              "  </thead>\n",
              "  <tbody>\n",
              "    <tr>\n",
              "      <th>0</th>\n",
              "      <td>1</td>\n",
              "      <td>15634602</td>\n",
              "      <td>Hargrave</td>\n",
              "      <td>619</td>\n",
              "      <td>France</td>\n",
              "      <td>Female</td>\n",
              "      <td>42</td>\n",
              "      <td>2.0</td>\n",
              "      <td>0.00</td>\n",
              "      <td>1</td>\n",
              "      <td>1</td>\n",
              "      <td>1</td>\n",
              "      <td>101348.88</td>\n",
              "      <td>1</td>\n",
              "    </tr>\n",
              "    <tr>\n",
              "      <th>1</th>\n",
              "      <td>2</td>\n",
              "      <td>15647311</td>\n",
              "      <td>Hill</td>\n",
              "      <td>608</td>\n",
              "      <td>Spain</td>\n",
              "      <td>Female</td>\n",
              "      <td>41</td>\n",
              "      <td>1.0</td>\n",
              "      <td>83807.86</td>\n",
              "      <td>1</td>\n",
              "      <td>0</td>\n",
              "      <td>1</td>\n",
              "      <td>112542.58</td>\n",
              "      <td>0</td>\n",
              "    </tr>\n",
              "    <tr>\n",
              "      <th>2</th>\n",
              "      <td>3</td>\n",
              "      <td>15619304</td>\n",
              "      <td>Onio</td>\n",
              "      <td>502</td>\n",
              "      <td>France</td>\n",
              "      <td>Female</td>\n",
              "      <td>42</td>\n",
              "      <td>8.0</td>\n",
              "      <td>159660.80</td>\n",
              "      <td>3</td>\n",
              "      <td>1</td>\n",
              "      <td>0</td>\n",
              "      <td>113931.57</td>\n",
              "      <td>1</td>\n",
              "    </tr>\n",
              "    <tr>\n",
              "      <th>3</th>\n",
              "      <td>4</td>\n",
              "      <td>15701354</td>\n",
              "      <td>Boni</td>\n",
              "      <td>699</td>\n",
              "      <td>France</td>\n",
              "      <td>Female</td>\n",
              "      <td>39</td>\n",
              "      <td>1.0</td>\n",
              "      <td>0.00</td>\n",
              "      <td>2</td>\n",
              "      <td>0</td>\n",
              "      <td>0</td>\n",
              "      <td>93826.63</td>\n",
              "      <td>0</td>\n",
              "    </tr>\n",
              "    <tr>\n",
              "      <th>4</th>\n",
              "      <td>5</td>\n",
              "      <td>15737888</td>\n",
              "      <td>Mitchell</td>\n",
              "      <td>850</td>\n",
              "      <td>Spain</td>\n",
              "      <td>Female</td>\n",
              "      <td>43</td>\n",
              "      <td>2.0</td>\n",
              "      <td>125510.82</td>\n",
              "      <td>1</td>\n",
              "      <td>1</td>\n",
              "      <td>1</td>\n",
              "      <td>79084.10</td>\n",
              "      <td>0</td>\n",
              "    </tr>\n",
              "    <tr>\n",
              "      <th>5</th>\n",
              "      <td>6</td>\n",
              "      <td>15574012</td>\n",
              "      <td>Chu</td>\n",
              "      <td>645</td>\n",
              "      <td>Spain</td>\n",
              "      <td>Male</td>\n",
              "      <td>44</td>\n",
              "      <td>8.0</td>\n",
              "      <td>113755.78</td>\n",
              "      <td>2</td>\n",
              "      <td>1</td>\n",
              "      <td>0</td>\n",
              "      <td>149756.71</td>\n",
              "      <td>1</td>\n",
              "    </tr>\n",
              "    <tr>\n",
              "      <th>6</th>\n",
              "      <td>7</td>\n",
              "      <td>15592531</td>\n",
              "      <td>Bartlett</td>\n",
              "      <td>822</td>\n",
              "      <td>France</td>\n",
              "      <td>Male</td>\n",
              "      <td>50</td>\n",
              "      <td>7.0</td>\n",
              "      <td>0.00</td>\n",
              "      <td>2</td>\n",
              "      <td>1</td>\n",
              "      <td>1</td>\n",
              "      <td>10062.80</td>\n",
              "      <td>0</td>\n",
              "    </tr>\n",
              "    <tr>\n",
              "      <th>7</th>\n",
              "      <td>8</td>\n",
              "      <td>15656148</td>\n",
              "      <td>Obinna</td>\n",
              "      <td>376</td>\n",
              "      <td>Germany</td>\n",
              "      <td>Female</td>\n",
              "      <td>29</td>\n",
              "      <td>4.0</td>\n",
              "      <td>115046.74</td>\n",
              "      <td>4</td>\n",
              "      <td>1</td>\n",
              "      <td>0</td>\n",
              "      <td>119346.88</td>\n",
              "      <td>1</td>\n",
              "    </tr>\n",
              "    <tr>\n",
              "      <th>8</th>\n",
              "      <td>9</td>\n",
              "      <td>15792365</td>\n",
              "      <td>He</td>\n",
              "      <td>501</td>\n",
              "      <td>France</td>\n",
              "      <td>Male</td>\n",
              "      <td>44</td>\n",
              "      <td>4.0</td>\n",
              "      <td>142051.07</td>\n",
              "      <td>2</td>\n",
              "      <td>0</td>\n",
              "      <td>1</td>\n",
              "      <td>74940.50</td>\n",
              "      <td>0</td>\n",
              "    </tr>\n",
              "    <tr>\n",
              "      <th>9</th>\n",
              "      <td>10</td>\n",
              "      <td>15592389</td>\n",
              "      <td>H?</td>\n",
              "      <td>684</td>\n",
              "      <td>France</td>\n",
              "      <td>Male</td>\n",
              "      <td>27</td>\n",
              "      <td>2.0</td>\n",
              "      <td>134603.88</td>\n",
              "      <td>1</td>\n",
              "      <td>1</td>\n",
              "      <td>1</td>\n",
              "      <td>71725.73</td>\n",
              "      <td>0</td>\n",
              "    </tr>\n",
              "  </tbody>\n",
              "</table>\n",
              "</div>"
            ],
            "text/plain": [
              "   RowNumber  CustomerId   Surname  CreditScore Geography  Gender  Age  \\\n",
              "0          1    15634602  Hargrave          619    France  Female   42   \n",
              "1          2    15647311      Hill          608     Spain  Female   41   \n",
              "2          3    15619304      Onio          502    France  Female   42   \n",
              "3          4    15701354      Boni          699    France  Female   39   \n",
              "4          5    15737888  Mitchell          850     Spain  Female   43   \n",
              "5          6    15574012       Chu          645     Spain    Male   44   \n",
              "6          7    15592531  Bartlett          822    France    Male   50   \n",
              "7          8    15656148    Obinna          376   Germany  Female   29   \n",
              "8          9    15792365        He          501    France    Male   44   \n",
              "9         10    15592389        H?          684    France    Male   27   \n",
              "\n",
              "   Tenure    Balance  NumOfProducts  HasCrCard  IsActiveMember  \\\n",
              "0     2.0       0.00              1          1               1   \n",
              "1     1.0   83807.86              1          0               1   \n",
              "2     8.0  159660.80              3          1               0   \n",
              "3     1.0       0.00              2          0               0   \n",
              "4     2.0  125510.82              1          1               1   \n",
              "5     8.0  113755.78              2          1               0   \n",
              "6     7.0       0.00              2          1               1   \n",
              "7     4.0  115046.74              4          1               0   \n",
              "8     4.0  142051.07              2          0               1   \n",
              "9     2.0  134603.88              1          1               1   \n",
              "\n",
              "   EstimatedSalary  Exited  \n",
              "0        101348.88       1  \n",
              "1        112542.58       0  \n",
              "2        113931.57       1  \n",
              "3         93826.63       0  \n",
              "4         79084.10       0  \n",
              "5        149756.71       1  \n",
              "6         10062.80       0  \n",
              "7        119346.88       1  \n",
              "8         74940.50       0  \n",
              "9         71725.73       0  "
            ]
          },
          "execution_count": 2,
          "metadata": {},
          "output_type": "execute_result"
        }
      ],
      "source": [
        "df = pd.read_csv('/datasets/Churn.csv')\n",
        "df.head(10)"
      ]
    },
    {
      "cell_type": "code",
      "execution_count": null,
      "metadata": {
        "id": "NInKEgosqc4N",
        "outputId": "c82011d0-b34b-4ec8-8580-ba0dbd77fbf1"
      },
      "outputs": [
        {
          "data": {
            "text/plain": [
              "RowNumber          0.0000\n",
              "CustomerId         0.0000\n",
              "Surname            0.0000\n",
              "CreditScore        0.0000\n",
              "Geography          0.0000\n",
              "Gender             0.0000\n",
              "Age                0.0000\n",
              "Tenure             0.0909\n",
              "Balance            0.0000\n",
              "NumOfProducts      0.0000\n",
              "HasCrCard          0.0000\n",
              "IsActiveMember     0.0000\n",
              "EstimatedSalary    0.0000\n",
              "Exited             0.0000\n",
              "dtype: float64"
            ]
          },
          "execution_count": 3,
          "metadata": {},
          "output_type": "execute_result"
        }
      ],
      "source": [
        "df.isna().mean()"
      ]
    },
    {
      "cell_type": "code",
      "execution_count": null,
      "metadata": {
        "id": "2UH7v0hcqc4N",
        "outputId": "6ed8144f-3d86-497e-f47b-24f2017f1dad"
      },
      "outputs": [
        {
          "name": "stdout",
          "output_type": "stream",
          "text": [
            "<class 'pandas.core.frame.DataFrame'>\n",
            "RangeIndex: 10000 entries, 0 to 9999\n",
            "Data columns (total 14 columns):\n",
            " #   Column           Non-Null Count  Dtype  \n",
            "---  ------           --------------  -----  \n",
            " 0   RowNumber        10000 non-null  int64  \n",
            " 1   CustomerId       10000 non-null  int64  \n",
            " 2   Surname          10000 non-null  object \n",
            " 3   CreditScore      10000 non-null  int64  \n",
            " 4   Geography        10000 non-null  object \n",
            " 5   Gender           10000 non-null  object \n",
            " 6   Age              10000 non-null  int64  \n",
            " 7   Tenure           9091 non-null   float64\n",
            " 8   Balance          10000 non-null  float64\n",
            " 9   NumOfProducts    10000 non-null  int64  \n",
            " 10  HasCrCard        10000 non-null  int64  \n",
            " 11  IsActiveMember   10000 non-null  int64  \n",
            " 12  EstimatedSalary  10000 non-null  float64\n",
            " 13  Exited           10000 non-null  int64  \n",
            "dtypes: float64(3), int64(8), object(3)\n",
            "memory usage: 1.1+ MB\n"
          ]
        }
      ],
      "source": [
        "df.info()"
      ]
    },
    {
      "cell_type": "markdown",
      "metadata": {
        "id": "29pNBT2Iqc4O"
      },
      "source": [
        "После предварительного просмотра базы данный стали виды ее проблемы которые помешают в дальнейшей работе.\n",
        "\n",
        "* Пропуски в столбце `Tensure` \n",
        "* Излишнии столбцы  `RowNumber`, `CustomerId`, `Surname`\n",
        "* И столбцы с категоральными признаками `Geography` и `Gender`\n",
        "\n",
        "Займемся подготовкой датафрейма"
      ]
    },
    {
      "cell_type": "code",
      "execution_count": null,
      "metadata": {
        "id": "BK_d4LITqc4O"
      },
      "outputs": [],
      "source": [
        "# Удалим лишнии столбцы \n",
        "df.drop(['RowNumber', 'CustomerId', 'Surname'], axis='columns', inplace=True)"
      ]
    },
    {
      "cell_type": "code",
      "execution_count": null,
      "metadata": {
        "id": "9bASFSmKqc4P",
        "outputId": "a2deab5f-d7aa-4dd7-ef66-0f3aeeb0d382"
      },
      "outputs": [
        {
          "data": {
            "text/plain": [
              "1.0     0.104719\n",
              "2.0     0.104499\n",
              "8.0     0.102629\n",
              "3.0     0.102079\n",
              "5.0     0.101969\n",
              "7.0     0.101749\n",
              "4.0     0.097349\n",
              "9.0     0.097019\n",
              "6.0     0.096909\n",
              "10.0    0.049060\n",
              "0.0     0.042020\n",
              "Name: Tenure, dtype: float64"
            ]
          },
          "execution_count": 6,
          "metadata": {},
          "output_type": "execute_result"
        }
      ],
      "source": [
        "df['Tenure'].value_counts('mean', ascending=False)  # Посморим на пропуски"
      ]
    },
    {
      "cell_type": "markdown",
      "metadata": {
        "id": "KbjoFPvbqc4P"
      },
      "source": [
        "Пропуски в колонке `Tenure` я заполню 0 так как в талибце в самой меньшей доле уже присутсвуют значения 0\n",
        "(Предположу что это люди которые являются клиентами банка меньше года)"
      ]
    },
    {
      "cell_type": "code",
      "execution_count": null,
      "metadata": {
        "id": "1ZF7LSQ1qc4Q"
      },
      "outputs": [],
      "source": [
        "df['Tenure'].fillna(0, inplace=True)"
      ]
    },
    {
      "cell_type": "markdown",
      "metadata": {
        "id": "evdvpaeNqc4R"
      },
      "source": [
        "При помощи прямого кодирования, преобразуем категориальные признаки в численные."
      ]
    },
    {
      "cell_type": "code",
      "execution_count": null,
      "metadata": {
        "id": "9_CxRy4dqc4S"
      },
      "outputs": [],
      "source": [
        "df_ohe = pd.get_dummies(df, drop_first=True)"
      ]
    },
    {
      "cell_type": "code",
      "execution_count": null,
      "metadata": {
        "id": "DRlEHvleqc4S",
        "outputId": "f0f27c5a-0dac-489f-cf7a-997f904993c8"
      },
      "outputs": [
        {
          "data": {
            "text/html": [
              "<div>\n",
              "<style scoped>\n",
              "    .dataframe tbody tr th:only-of-type {\n",
              "        vertical-align: middle;\n",
              "    }\n",
              "\n",
              "    .dataframe tbody tr th {\n",
              "        vertical-align: top;\n",
              "    }\n",
              "\n",
              "    .dataframe thead th {\n",
              "        text-align: right;\n",
              "    }\n",
              "</style>\n",
              "<table border=\"1\" class=\"dataframe\">\n",
              "  <thead>\n",
              "    <tr style=\"text-align: right;\">\n",
              "      <th></th>\n",
              "      <th>CreditScore</th>\n",
              "      <th>Age</th>\n",
              "      <th>Tenure</th>\n",
              "      <th>Balance</th>\n",
              "      <th>NumOfProducts</th>\n",
              "      <th>HasCrCard</th>\n",
              "      <th>IsActiveMember</th>\n",
              "      <th>EstimatedSalary</th>\n",
              "      <th>Exited</th>\n",
              "      <th>Geography_Germany</th>\n",
              "      <th>Geography_Spain</th>\n",
              "      <th>Gender_Male</th>\n",
              "    </tr>\n",
              "  </thead>\n",
              "  <tbody>\n",
              "    <tr>\n",
              "      <th>0</th>\n",
              "      <td>619</td>\n",
              "      <td>42</td>\n",
              "      <td>2.0</td>\n",
              "      <td>0.00</td>\n",
              "      <td>1</td>\n",
              "      <td>1</td>\n",
              "      <td>1</td>\n",
              "      <td>101348.88</td>\n",
              "      <td>1</td>\n",
              "      <td>0</td>\n",
              "      <td>0</td>\n",
              "      <td>0</td>\n",
              "    </tr>\n",
              "    <tr>\n",
              "      <th>1</th>\n",
              "      <td>608</td>\n",
              "      <td>41</td>\n",
              "      <td>1.0</td>\n",
              "      <td>83807.86</td>\n",
              "      <td>1</td>\n",
              "      <td>0</td>\n",
              "      <td>1</td>\n",
              "      <td>112542.58</td>\n",
              "      <td>0</td>\n",
              "      <td>0</td>\n",
              "      <td>1</td>\n",
              "      <td>0</td>\n",
              "    </tr>\n",
              "    <tr>\n",
              "      <th>2</th>\n",
              "      <td>502</td>\n",
              "      <td>42</td>\n",
              "      <td>8.0</td>\n",
              "      <td>159660.80</td>\n",
              "      <td>3</td>\n",
              "      <td>1</td>\n",
              "      <td>0</td>\n",
              "      <td>113931.57</td>\n",
              "      <td>1</td>\n",
              "      <td>0</td>\n",
              "      <td>0</td>\n",
              "      <td>0</td>\n",
              "    </tr>\n",
              "    <tr>\n",
              "      <th>3</th>\n",
              "      <td>699</td>\n",
              "      <td>39</td>\n",
              "      <td>1.0</td>\n",
              "      <td>0.00</td>\n",
              "      <td>2</td>\n",
              "      <td>0</td>\n",
              "      <td>0</td>\n",
              "      <td>93826.63</td>\n",
              "      <td>0</td>\n",
              "      <td>0</td>\n",
              "      <td>0</td>\n",
              "      <td>0</td>\n",
              "    </tr>\n",
              "    <tr>\n",
              "      <th>4</th>\n",
              "      <td>850</td>\n",
              "      <td>43</td>\n",
              "      <td>2.0</td>\n",
              "      <td>125510.82</td>\n",
              "      <td>1</td>\n",
              "      <td>1</td>\n",
              "      <td>1</td>\n",
              "      <td>79084.10</td>\n",
              "      <td>0</td>\n",
              "      <td>0</td>\n",
              "      <td>1</td>\n",
              "      <td>0</td>\n",
              "    </tr>\n",
              "  </tbody>\n",
              "</table>\n",
              "</div>"
            ],
            "text/plain": [
              "   CreditScore  Age  Tenure    Balance  NumOfProducts  HasCrCard  \\\n",
              "0          619   42     2.0       0.00              1          1   \n",
              "1          608   41     1.0   83807.86              1          0   \n",
              "2          502   42     8.0  159660.80              3          1   \n",
              "3          699   39     1.0       0.00              2          0   \n",
              "4          850   43     2.0  125510.82              1          1   \n",
              "\n",
              "   IsActiveMember  EstimatedSalary  Exited  Geography_Germany  \\\n",
              "0               1        101348.88       1                  0   \n",
              "1               1        112542.58       0                  0   \n",
              "2               0        113931.57       1                  0   \n",
              "3               0         93826.63       0                  0   \n",
              "4               1         79084.10       0                  0   \n",
              "\n",
              "   Geography_Spain  Gender_Male  \n",
              "0                0            0  \n",
              "1                1            0  \n",
              "2                0            0  \n",
              "3                0            0  \n",
              "4                1            0  "
            ]
          },
          "execution_count": 9,
          "metadata": {},
          "output_type": "execute_result"
        }
      ],
      "source": [
        "df_ohe.head()"
      ]
    },
    {
      "cell_type": "markdown",
      "metadata": {
        "id": "yU9JwouTqc4T"
      },
      "source": [
        "Из общей даты выделим признаки и целевой признак."
      ]
    },
    {
      "cell_type": "code",
      "execution_count": null,
      "metadata": {
        "id": "DFGw_BDiqc4T"
      },
      "outputs": [],
      "source": [
        "target = df_ohe['Exited']\n",
        "features = df_ohe.drop(['Exited'], axis=1)"
      ]
    },
    {
      "cell_type": "markdown",
      "metadata": {
        "id": "K1G1GFe7qc4T"
      },
      "source": [
        "И далее разобьем на 3 выборки обучающую, валидационную и тестовую."
      ]
    },
    {
      "cell_type": "code",
      "execution_count": null,
      "metadata": {
        "id": "ClLI2xhkqc4U"
      },
      "outputs": [],
      "source": [
        "features_train, features_rest, target_train, target_rest = train_test_split(\n",
        "    features, target, test_size=0.4, random_state=1)\n",
        "\n",
        "features_test, features_valid, target_test, target_valid = train_test_split(\n",
        "    features_rest, target_rest, test_size=0.5, random_state=1)"
      ]
    },
    {
      "cell_type": "code",
      "execution_count": null,
      "metadata": {
        "id": "YZFl5FL-qc4U",
        "outputId": "8f868979-4f9a-4bb5-8026-45ce51afe384"
      },
      "outputs": [
        {
          "name": "stdout",
          "output_type": "stream",
          "text": [
            "(6000, 11)\n",
            "(2000, 11)\n",
            "(2000, 11)\n"
          ]
        }
      ],
      "source": [
        "print(features_train.shape)\n",
        "print(features_valid.shape)\n",
        "print(features_test.shape)"
      ]
    },
    {
      "cell_type": "markdown",
      "metadata": {
        "id": "MIuhGc8mqc4V"
      },
      "source": [
        "Масштабируем признаки методом стандартизации."
      ]
    },
    {
      "cell_type": "code",
      "execution_count": null,
      "metadata": {
        "id": "-eB1A0pdqc4V"
      },
      "outputs": [],
      "source": [
        "numeric = ['CreditScore', 'Age', 'Balance', 'EstimatedSalary', 'Tenure', 'NumOfProducts']"
      ]
    },
    {
      "cell_type": "code",
      "execution_count": null,
      "metadata": {
        "id": "S7yME7uzqc4V"
      },
      "outputs": [],
      "source": [
        "scaler = StandardScaler()\n",
        "scaler.fit(features_train[numeric])\n",
        "features_train[numeric] = scaler.transform(features_train[numeric])\n",
        "features_valid[numeric] = scaler.transform(features_valid[numeric])\n",
        "features_test[numeric] = scaler.transform(features_test[numeric])"
      ]
    },
    {
      "cell_type": "markdown",
      "metadata": {
        "id": "O_SB2i43qc4W"
      },
      "source": [
        "### Вывод: \n",
        "\n",
        "1. Ознакомились с данными, выявили их проблемы\n",
        "\n",
        "\n",
        "2. Обработали пропуски в столбце `Tenure `, удалили лишнии данные `RowNumber`, `CustomerId`, `Surname`\n",
        "\n",
        "\n",
        "3. Преобразовали категоральные данные в столбцах `Geography` и `Gender` при помощи прямого кодирования One-Hot Encoding\n",
        "\n",
        "\n",
        "4. Разбили данные на выборки \n",
        " - обучающую - 60%  \n",
        " - валидационную - 20% \n",
        " - тестовую - 20%\n",
        "\n",
        "\n",
        "5. Маштабировали признаки методом стандартизации."
      ]
    },
    {
      "cell_type": "markdown",
      "metadata": {
        "id": "A6fuwoxlqc4W"
      },
      "source": [
        "## Исследование задачи"
      ]
    },
    {
      "cell_type": "markdown",
      "metadata": {
        "id": "BPCt3dVTqc4X"
      },
      "source": [
        "Обучим 2 модели `RandomForestClassifier` и `LogisticRegression` и посмотрим на их результаты без предварительной оценки баланса классов."
      ]
    },
    {
      "cell_type": "markdown",
      "metadata": {
        "id": "05secIgeqc4X"
      },
      "source": [
        "###  RandomForestClassifier"
      ]
    },
    {
      "cell_type": "code",
      "execution_count": null,
      "metadata": {
        "id": "9Sb7pjfhqc4X",
        "outputId": "39c48729-aa0c-455d-b0f2-31a23fd5f27a"
      },
      "outputs": [
        {
          "data": {
            "text/plain": [
              "0.864"
            ]
          },
          "execution_count": 15,
          "metadata": {},
          "output_type": "execute_result"
        }
      ],
      "source": [
        "model = RandomForestClassifier(random_state=1, n_estimators=100, max_depth=12)\n",
        "model.fit(features_train, target_train)\n",
        "predicted_valid_forest = pd.Series(model.predict(features_valid))\n",
        "model.score(features_valid, target_valid)"
      ]
    },
    {
      "cell_type": "markdown",
      "metadata": {
        "id": "q-96iPrOqc4Y"
      },
      "source": [
        "### LogisticRegression"
      ]
    },
    {
      "cell_type": "code",
      "execution_count": null,
      "metadata": {
        "id": "4FuQPkpYqc4Y",
        "outputId": "7957f17a-5512-4961-8ed7-e523cfb9fae5"
      },
      "outputs": [
        {
          "data": {
            "text/plain": [
              "0.81"
            ]
          },
          "execution_count": 16,
          "metadata": {},
          "output_type": "execute_result"
        }
      ],
      "source": [
        "model = LogisticRegression(random_state=1, solver='liblinear')\n",
        "model.fit(features_train, target_train)\n",
        "predicted_valid_regression = pd.Series(model.predict(features_valid))\n",
        "model.score(features_valid, target_valid)"
      ]
    },
    {
      "cell_type": "markdown",
      "metadata": {
        "id": "WDWHRpjjqc4Y"
      },
      "source": [
        "Лучше всего себя показала модель RandomForestClassifier, доля правильных ответов - 86%.\n",
        "Нам необходимо понять хороший ли это результат.\n",
        "\n",
        "Исследуем целевой признак. Чтобы оценить адекватность модели, проверим, как часто в целевом признаке `Exited` встречается класс «1» или «0»."
      ]
    },
    {
      "cell_type": "markdown",
      "metadata": {
        "id": "tab9e0d7qc4Z"
      },
      "source": [
        "###  Баланс классов"
      ]
    },
    {
      "cell_type": "code",
      "execution_count": null,
      "metadata": {
        "id": "HZ-SSLdlqc4Z",
        "outputId": "6eb775ab-1e8e-422d-9c18-53b67b5290a5"
      },
      "outputs": [
        {
          "name": "stdout",
          "output_type": "stream",
          "text": [
            "0    0.7963\n",
            "1    0.2037\n",
            "Name: Exited, dtype: float64\n"
          ]
        },
        {
          "data": {
            "image/png": "[encoded data removed]",
            "text/plain": [
              "<Figure size 432x288 with 1 Axes>"
            ]
          },
          "metadata": {
            "needs_background": "light"
          },
          "output_type": "display_data"
        }
      ],
      "source": [
        "class_exited = df['Exited'].value_counts(normalize=True)\n",
        "class_exited.plot(kind='bar');\n",
        "print(class_exited)"
      ]
    },
    {
      "cell_type": "markdown",
      "metadata": {
        "id": "ruGVKNwDqc4Z"
      },
      "source": [
        "Видим что классы не сбалансированны. Клиенты уходят примерно в 20% случаев.\n",
        "\n",
        "Посмсотрим на частоты классов в результатах предсказаний обеих моделей.\n"
      ]
    },
    {
      "cell_type": "code",
      "execution_count": null,
      "metadata": {
        "id": "zsxOW4llqc4a",
        "outputId": "81791b7e-1089-4d43-f2ad-5331f60ce9d5"
      },
      "outputs": [
        {
          "name": "stdout",
          "output_type": "stream",
          "text": [
            "0    0.933\n",
            "1    0.067\n",
            "dtype: float64\n"
          ]
        },
        {
          "data": {
            "image/png": "[encoded data removed]",
            "text/plain": [
              "<Figure size 432x288 with 1 Axes>"
            ]
          },
          "metadata": {
            "needs_background": "light"
          },
          "output_type": "display_data"
        }
      ],
      "source": [
        "class_exited = predicted_valid_regression.value_counts(normalize=True)\n",
        "class_exited.plot(kind='bar');\n",
        "print(class_exited)"
      ]
    },
    {
      "cell_type": "code",
      "execution_count": null,
      "metadata": {
        "id": "nnpgcIbLqc4a",
        "outputId": "376ab0f3-e637-410e-f951-ac831af12cf6"
      },
      "outputs": [
        {
          "name": "stdout",
          "output_type": "stream",
          "text": [
            "0    0.886\n",
            "1    0.114\n",
            "dtype: float64\n"
          ]
        },
        {
          "data": {
            "image/png": "[encoded data removed]",
            "text/plain": [
              "<Figure size 432x288 with 1 Axes>"
            ]
          },
          "metadata": {
            "needs_background": "light"
          },
          "output_type": "display_data"
        }
      ],
      "source": [
        "class_exited = predicted_valid_forest.value_counts(normalize=True)\n",
        "class_exited.plot(kind='bar');\n",
        "print(class_exited)"
      ]
    },
    {
      "cell_type": "markdown",
      "metadata": {
        "id": "VCDzdMn0qc4b"
      },
      "source": [
        "Модели предсказывают более оптимистичный рассклад.\n",
        "\n",
        "Сравним их работу с константной моделью."
      ]
    },
    {
      "cell_type": "code",
      "execution_count": null,
      "metadata": {
        "id": "pjTd_xQtqc4b",
        "outputId": "eaabf135-2147-4af7-84a3-7781cb3705f3"
      },
      "outputs": [
        {
          "data": {
            "text/plain": [
              "0.7963"
            ]
          },
          "execution_count": 20,
          "metadata": {},
          "output_type": "execute_result"
        }
      ],
      "source": [
        "const = pd.Series(0, target.index)\n",
        "accuracy_score(target, const)"
      ]
    },
    {
      "cell_type": "markdown",
      "metadata": {
        "id": "JWW1a9uQqc4b"
      },
      "source": [
        "Построенные модели предсказывают уход клиентов лучше, чем константная модель, они адекватны. Но можно улучшить результат.\n",
        "\n",
        "Применим меру-F1, чтобы оценить качество прогноза положительного класса у моделей."
      ]
    },
    {
      "cell_type": "code",
      "execution_count": null,
      "metadata": {
        "id": "0t5AlqcNqc4c",
        "outputId": "8a7b2d25-0866-4885-9bbd-aadc20640cb5"
      },
      "outputs": [
        {
          "data": {
            "text/plain": [
              "0.31407942238267145"
            ]
          },
          "execution_count": 21,
          "metadata": {},
          "output_type": "execute_result"
        }
      ],
      "source": [
        "f1_score(target_valid, predicted_valid_regression)"
      ]
    },
    {
      "cell_type": "code",
      "execution_count": null,
      "metadata": {
        "id": "H4pXuhG1qc4c",
        "outputId": "90252be8-3513-4a5d-b8af-7254acd6f3ea"
      },
      "outputs": [
        {
          "data": {
            "text/plain": [
              "0.5802469135802469"
            ]
          },
          "execution_count": 22,
          "metadata": {},
          "output_type": "execute_result"
        }
      ],
      "source": [
        "f1_score(target_valid, predicted_valid_forest)"
      ]
    },
    {
      "cell_type": "markdown",
      "metadata": {
        "id": "3SHeRz9oqc4c"
      },
      "source": [
        "### Вывод:\n",
        "\n",
        "* Обучили 2 модели `RandomForestClassifier` и `LogisticRegression` первая показала лучший результат.\n",
        "* Посмотрели на баланс классов, классы разлицаються набором в 4 раза.\n",
        "* Выяснили что клиенты уходят в 20% случаев.\n",
        "\n",
        "Для выполнения поставленной задачи необходимо достичь меры-F1 не менее 0.59"
      ]
    },
    {
      "cell_type": "markdown",
      "metadata": {
        "id": "tkkA2ZtDqc4d"
      },
      "source": [
        "## Борьба с дисбалансом"
      ]
    },
    {
      "cell_type": "markdown",
      "metadata": {
        "id": "8t2kK_jqqc4d"
      },
      "source": [
        "Попробуем несколько способов для решения проблемы с дисбалансом классов"
      ]
    },
    {
      "cell_type": "markdown",
      "metadata": {
        "id": "UJw-Xcm3qc4d"
      },
      "source": [
        "### class_weigh"
      ]
    },
    {
      "cell_type": "code",
      "execution_count": null,
      "metadata": {
        "id": "tDeagpl8qc4e",
        "outputId": "101535a6-b7b7-41b7-d8a1-75ae838923b0"
      },
      "outputs": [
        {
          "name": "stdout",
          "output_type": "stream",
          "text": [
            "F1: 0.49367088607594933\n"
          ]
        }
      ],
      "source": [
        "model = LogisticRegression(random_state=1, solver='liblinear', class_weight='balanced')\n",
        "model.fit(features_train, target_train)\n",
        "predicted_valid_regress = model.predict(features_valid)\n",
        "\n",
        "print(\"F1:\", f1_score(target_valid, predicted_valid_regress))"
      ]
    },
    {
      "cell_type": "code",
      "execution_count": null,
      "metadata": {
        "id": "2mx9Gl-uqc4e",
        "outputId": "c829fbfa-81e7-44c6-f7e2-aa69eff33ccf"
      },
      "outputs": [
        {
          "name": "stdout",
          "output_type": "stream",
          "text": [
            "F1: 0.6103542234332425\n"
          ]
        }
      ],
      "source": [
        "model = RandomForestClassifier(random_state=1, n_estimators=50, max_depth=12, class_weight='balanced')\n",
        "model.fit(features_train, target_train)\n",
        "predicted_valid_forest = pd.Series(model.predict(features_valid))\n",
        "\n",
        "print(\"F1:\", f1_score(target_valid, predicted_valid_forest))"
      ]
    },
    {
      "cell_type": "markdown",
      "metadata": {
        "id": "dXUex_NZqc4e"
      },
      "source": [
        "Метод `class_weigh` помогли модели `RandomForestClassifier` достичь меры-F1 достичь значения 0.61. Так же немного увелечила значение F1 в модели `LogisticRegression`. \n",
        "\n",
        "Продолжим пробовать разные методы борьбы с дисбалансом классов"
      ]
    },
    {
      "cell_type": "markdown",
      "metadata": {
        "id": "uKdsAjJPqc4f"
      },
      "source": [
        "### Увелечение выборки"
      ]
    },
    {
      "cell_type": "code",
      "execution_count": null,
      "metadata": {
        "id": "UuZV86hEqc4f"
      },
      "outputs": [],
      "source": [
        "def upsample(features, target, repeat):\n",
        "    features_zeros = features[target == 0]\n",
        "    features_ones = features[target == 1]\n",
        "    target_zeros = target[target == 0]\n",
        "    target_ones = target[target == 1]\n",
        "\n",
        "    features_upsampled = pd.concat([features_zeros] + [features_ones]* repeat)\n",
        "    target_upsampled = pd.concat([target_zeros] + [target_ones]* repeat )\n",
        "    \n",
        "    features_upsampled, target_upsampled = shuffle(\n",
        "        features_upsampled, target_upsampled, random_state=12345)\n",
        "    \n",
        "    return features_upsampled, target_upsampled\n",
        "\n",
        "features_upsampled, target_upsampled = upsample(features_train, target_train, 5)"
      ]
    },
    {
      "cell_type": "code",
      "execution_count": null,
      "metadata": {
        "id": "1sFxJ8fDqc4g",
        "outputId": "8b10d55e-fbb6-489b-d482-a226ae8b106f"
      },
      "outputs": [
        {
          "name": "stdout",
          "output_type": "stream",
          "text": [
            "F1: 0.48687350835322196\n"
          ]
        }
      ],
      "source": [
        "model = LogisticRegression(random_state=1,solver='liblinear')\n",
        "model.fit(features_upsampled, target_upsampled)\n",
        "predicted_valid_regress = model.predict(features_valid)\n",
        "\n",
        "print(\"F1:\", f1_score(target_valid, predicted_valid_regress))"
      ]
    },
    {
      "cell_type": "code",
      "execution_count": null,
      "metadata": {
        "id": "yy6j2Lr9qc4g",
        "outputId": "a5ecac5c-c0ed-4a99-9591-98f1ab735664"
      },
      "outputs": [
        {
          "name": "stdout",
          "output_type": "stream",
          "text": [
            "F1: 0.6257378984651711\n"
          ]
        }
      ],
      "source": [
        "model = RandomForestClassifier(random_state=1, n_estimators=50, max_depth=12)\n",
        "model.fit(features_upsampled, target_upsampled)\n",
        "predicted_valid_forest = model.predict(features_valid)\n",
        "\n",
        "print(\"F1:\", f1_score(target_valid, predicted_valid_forest))"
      ]
    },
    {
      "cell_type": "markdown",
      "metadata": {
        "id": "swNWTN1xqc4g"
      },
      "source": [
        "Увелечение выборки дало результаты немного хуже метода `class_weigh` \n",
        "* `RandomForestClassifier` - 0.42\n",
        "* `LogisticRegression` - 0.60"
      ]
    },
    {
      "cell_type": "markdown",
      "metadata": {
        "id": "IgEHmmLGqc4h"
      },
      "source": [
        "### Уменьшение выборки"
      ]
    },
    {
      "cell_type": "code",
      "execution_count": null,
      "metadata": {
        "id": "chlCbP1yqc4h"
      },
      "outputs": [],
      "source": [
        "def downsample(features, target, fraction):\n",
        "    features_zeros = features[target == 0]\n",
        "    features_ones = features[target == 1]\n",
        "    target_zeros = target[target == 0]\n",
        "    target_ones = target[target == 1]\n",
        "\n",
        "    features_downsampled = pd.concat(\n",
        "        [features_zeros.sample(frac=fraction, random_state=1)] + [features_ones])\n",
        "    target_downsampled = pd.concat(\n",
        "        [target_zeros.sample(frac=fraction, random_state=1)] + [target_ones])\n",
        "    \n",
        "    features_downsampled, target_downsampled = shuffle(\n",
        "        features_downsampled, target_downsampled, random_state=1)\n",
        "    \n",
        "    return features_downsampled, target_downsampled\n",
        "\n",
        "features_downsampled, target_downsampled = downsample(features_train, target_train, 0.24)"
      ]
    },
    {
      "cell_type": "code",
      "execution_count": null,
      "metadata": {
        "id": "u2M8wBZqqc4i",
        "outputId": "80c6153f-0c6d-4442-de97-b8016bcc046c"
      },
      "outputs": [
        {
          "data": {
            "text/plain": [
              "0    4804\n",
              "1    1196\n",
              "Name: Exited, dtype: int64"
            ]
          },
          "execution_count": 29,
          "metadata": {},
          "output_type": "execute_result"
        }
      ],
      "source": [
        "target_train.value_counts() # оригинал "
      ]
    },
    {
      "cell_type": "code",
      "execution_count": null,
      "metadata": {
        "id": "A3o1rGtSqc4i",
        "outputId": "d70fad1a-93bf-4328-8887-dcb889b07c8c"
      },
      "outputs": [
        {
          "data": {
            "text/plain": [
              "1    1196\n",
              "0    1153\n",
              "Name: Exited, dtype: int64"
            ]
          },
          "execution_count": 30,
          "metadata": {},
          "output_type": "execute_result"
        }
      ],
      "source": [
        "target_downsampled.value_counts() # Уменьшение "
      ]
    },
    {
      "cell_type": "code",
      "execution_count": null,
      "metadata": {
        "id": "Ui4cew7oqc4j",
        "outputId": "93bfb2d1-b088-4515-e4be-99f180dadad9"
      },
      "outputs": [
        {
          "data": {
            "text/plain": [
              "1    5980\n",
              "0    4804\n",
              "Name: Exited, dtype: int64"
            ]
          },
          "execution_count": 31,
          "metadata": {},
          "output_type": "execute_result"
        }
      ],
      "source": [
        "target_upsampled.value_counts()"
      ]
    },
    {
      "cell_type": "code",
      "execution_count": null,
      "metadata": {
        "id": "5gGNQeImqc4k",
        "outputId": "4369d517-f8e6-4adc-813a-c1f658d2cf9c"
      },
      "outputs": [
        {
          "name": "stdout",
          "output_type": "stream",
          "text": [
            "F1: 0.6048309178743962\n"
          ]
        }
      ],
      "source": [
        "model = RandomForestClassifier(random_state=1, n_estimators=50, max_depth=12)\n",
        "model.fit(features_downsampled, target_downsampled)\n",
        "predicted_valid_forest = model.predict(features_valid)\n",
        "\n",
        "print(\"F1:\", f1_score(target_valid, predicted_valid_forest))"
      ]
    },
    {
      "cell_type": "code",
      "execution_count": null,
      "metadata": {
        "id": "VsJEzzfeqc4k",
        "outputId": "5a77aa15-837f-465f-aab0-1f47490eaece"
      },
      "outputs": [
        {
          "name": "stdout",
          "output_type": "stream",
          "text": [
            "F1: 0.49420160570918825\n"
          ]
        }
      ],
      "source": [
        "model = LogisticRegression(random_state=1,solver='liblinear')\n",
        "model.fit(features_downsampled, target_downsampled)\n",
        "predicted_valid_regress = model.predict(features_valid)\n",
        "\n",
        "print(\"F1:\", f1_score(target_valid, predicted_valid_regress))"
      ]
    },
    {
      "cell_type": "markdown",
      "metadata": {
        "id": "lgSuRRkfqc4l"
      },
      "source": [
        "У меньшение выборки показло результаты далекие от желаемых."
      ]
    },
    {
      "cell_type": "markdown",
      "metadata": {
        "id": "Dexy8RGeqc4l"
      },
      "source": [
        "### Порог классификации"
      ]
    },
    {
      "cell_type": "code",
      "execution_count": null,
      "metadata": {
        "id": "04RbzXrqqc4l"
      },
      "outputs": [],
      "source": [
        "def count_thr(probabilities_valid):\n",
        "    for thr in np.arange(0, 0.5, 0.05):\n",
        "        predicted_valid = probabilities_valid > thr\n",
        "        f1 = f1_score(target_valid, predicted_valid)\n",
        "        print(\"Порог = {:.2f} | F1 = {:.3f}\".format(\n",
        "        thr, f1))"
      ]
    },
    {
      "cell_type": "code",
      "execution_count": null,
      "metadata": {
        "id": "O9eQWiFsqc4m"
      },
      "outputs": [],
      "source": [
        "model = LogisticRegression(random_state=1,solver='liblinear')\n",
        "model.fit(features_train, target_train)\n",
        "probabilities_valid_regress = model.predict_proba(features_valid)[:,1]"
      ]
    },
    {
      "cell_type": "code",
      "execution_count": null,
      "metadata": {
        "id": "Kze2oR7hqc4m",
        "outputId": "0ff7b3d2-6921-40bc-affe-5f15748ed132"
      },
      "outputs": [
        {
          "name": "stdout",
          "output_type": "stream",
          "text": [
            "Порог = 0.00 | F1 = 0.347\n",
            "Порог = 0.05 | F1 = 0.376\n",
            "Порог = 0.10 | F1 = 0.435\n",
            "Порог = 0.15 | F1 = 0.474\n",
            "Порог = 0.20 | F1 = 0.488\n",
            "Порог = 0.25 | F1 = 0.479\n",
            "Порог = 0.30 | F1 = 0.474\n",
            "Порог = 0.35 | F1 = 0.444\n",
            "Порог = 0.40 | F1 = 0.412\n",
            "Порог = 0.45 | F1 = 0.356\n"
          ]
        }
      ],
      "source": [
        "count_thr(probabilities_valid_regress)"
      ]
    },
    {
      "cell_type": "code",
      "execution_count": null,
      "metadata": {
        "id": "K1rHUHHoqc4m"
      },
      "outputs": [],
      "source": [
        "model = RandomForestClassifier(random_state=1, n_estimators=50, max_depth=12)\n",
        "model.fit(features_train, target_train)\n",
        "probabilities_valid_forest = model.predict_proba(features_valid)[:,1]"
      ]
    },
    {
      "cell_type": "code",
      "execution_count": null,
      "metadata": {
        "id": "70vm0iMoqc4n",
        "outputId": "05f01610-3602-4088-e04b-804bfef690c7"
      },
      "outputs": [
        {
          "name": "stdout",
          "output_type": "stream",
          "text": [
            "Порог = 0.00 | F1 = 0.347\n",
            "Порог = 0.05 | F1 = 0.423\n",
            "Порог = 0.10 | F1 = 0.502\n",
            "Порог = 0.15 | F1 = 0.565\n",
            "Порог = 0.20 | F1 = 0.600\n",
            "Порог = 0.25 | F1 = 0.614\n",
            "Порог = 0.30 | F1 = 0.617\n",
            "Порог = 0.35 | F1 = 0.609\n",
            "Порог = 0.40 | F1 = 0.595\n",
            "Порог = 0.45 | F1 = 0.578\n"
          ]
        }
      ],
      "source": [
        "count_thr(probabilities_valid_forest)"
      ]
    },
    {
      "cell_type": "markdown",
      "metadata": {
        "id": "Sgz5QD8Yqc4n"
      },
      "source": [
        "Изменение порога показывает результаты лучше чем уменьшенее выборки, но неиже чем class_weigh и увелечение выборки.\n",
        "\n",
        "Попробуем подобрать лучшие значения для параметров `n_estimators` и `max_depth` в `RandomForestClassifier`"
      ]
    },
    {
      "cell_type": "markdown",
      "metadata": {
        "id": "l51NSd1Fqc4p"
      },
      "source": [
        "### Подбор гиперпараметров"
      ]
    },
    {
      "cell_type": "code",
      "execution_count": null,
      "metadata": {
        "id": "ALJ1ow_eqc4r",
        "outputId": "44938b47-74a8-4e68-e863-a93357fd1d07"
      },
      "outputs": [
        {
          "name": "stdout",
          "output_type": "stream",
          "text": [
            "Accuracy при max_depth = 10.00 и при n_estimators = 100.000\n",
            "Обучающая выборка: 0.909\n",
            "Валидационная выборка: 0.8645\n",
            "\n",
            "Accuracy при max_depth = 10.00 и при n_estimators = 200.000\n",
            "Обучающая выборка: 0.9076666666666666\n",
            "Валидационная выборка: 0.8645\n",
            "\n",
            "Accuracy при max_depth = 10.00 и при n_estimators = 300.000\n",
            "Обучающая выборка: 0.9076666666666666\n",
            "Валидационная выборка: 0.864\n",
            "\n",
            "Accuracy при max_depth = 10.00 и при n_estimators = 400.000\n",
            "Обучающая выборка: 0.9075\n",
            "Валидационная выборка: 0.865\n",
            "\n",
            "Accuracy при max_depth = 10.00 и при n_estimators = 500.000\n",
            "Обучающая выборка: 0.908\n",
            "Валидационная выборка: 0.8655\n",
            "\n",
            "Accuracy при max_depth = 10.00 и при n_estimators = 600.000\n",
            "Обучающая выборка: 0.9076666666666666\n",
            "Валидационная выборка: 0.866\n",
            "\n",
            "Accuracy при max_depth = 10.00 и при n_estimators = 700.000\n",
            "Обучающая выборка: 0.9075\n",
            "Валидационная выборка: 0.8655\n",
            "\n",
            "Accuracy при max_depth = 10.00 и при n_estimators = 800.000\n",
            "Обучающая выборка: 0.9073333333333333\n",
            "Валидационная выборка: 0.8655\n",
            "\n",
            "Accuracy при max_depth = 10.00 и при n_estimators = 900.000\n",
            "Обучающая выборка: 0.9081666666666667\n",
            "Валидационная выборка: 0.8655\n",
            "\n",
            "Accuracy при max_depth = 10.00 и при n_estimators = 1000.000\n",
            "Обучающая выборка: 0.908\n",
            "Валидационная выборка: 0.865\n",
            "\n",
            "Accuracy при max_depth = 12.00 и при n_estimators = 100.000\n",
            "Обучающая выборка: 0.9411666666666667\n",
            "Валидационная выборка: 0.864\n",
            "\n",
            "Accuracy при max_depth = 12.00 и при n_estimators = 200.000\n",
            "Обучающая выборка: 0.9418333333333333\n",
            "Валидационная выборка: 0.861\n",
            "\n",
            "Accuracy при max_depth = 12.00 и при n_estimators = 300.000\n",
            "Обучающая выборка: 0.941\n",
            "Валидационная выборка: 0.8605\n",
            "\n",
            "Accuracy при max_depth = 12.00 и при n_estimators = 400.000\n",
            "Обучающая выборка: 0.9398333333333333\n",
            "Валидационная выборка: 0.8605\n",
            "\n",
            "Accuracy при max_depth = 12.00 и при n_estimators = 500.000\n",
            "Обучающая выборка: 0.9391666666666667\n",
            "Валидационная выборка: 0.8605\n",
            "\n",
            "Accuracy при max_depth = 12.00 и при n_estimators = 600.000\n",
            "Обучающая выборка: 0.939\n",
            "Валидационная выборка: 0.8625\n",
            "\n",
            "Accuracy при max_depth = 12.00 и при n_estimators = 700.000\n",
            "Обучающая выборка: 0.9401666666666667\n",
            "Валидационная выборка: 0.861\n",
            "\n",
            "Accuracy при max_depth = 12.00 и при n_estimators = 800.000\n",
            "Обучающая выборка: 0.9398333333333333\n",
            "Валидационная выборка: 0.8615\n",
            "\n",
            "Accuracy при max_depth = 12.00 и при n_estimators = 900.000\n",
            "Обучающая выборка: 0.9398333333333333\n",
            "Валидационная выборка: 0.8615\n",
            "\n",
            "Accuracy при max_depth = 12.00 и при n_estimators = 1000.000\n",
            "Обучающая выборка: 0.94\n",
            "Валидационная выборка: 0.862\n",
            "\n",
            "Accuracy при max_depth = 14.00 и при n_estimators = 100.000\n",
            "Обучающая выборка: 0.9755\n",
            "Валидационная выборка: 0.8595\n",
            "\n",
            "Accuracy при max_depth = 14.00 и при n_estimators = 200.000\n",
            "Обучающая выборка: 0.9763333333333334\n",
            "Валидационная выборка: 0.86\n",
            "\n",
            "Accuracy при max_depth = 14.00 и при n_estimators = 300.000\n",
            "Обучающая выборка: 0.9766666666666667\n",
            "Валидационная выборка: 0.861\n",
            "\n",
            "Accuracy при max_depth = 14.00 и при n_estimators = 400.000\n",
            "Обучающая выборка: 0.9766666666666667\n",
            "Валидационная выборка: 0.8595\n",
            "\n",
            "Accuracy при max_depth = 14.00 и при n_estimators = 500.000\n",
            "Обучающая выборка: 0.977\n",
            "Валидационная выборка: 0.8585\n",
            "\n",
            "Accuracy при max_depth = 14.00 и при n_estimators = 600.000\n",
            "Обучающая выборка: 0.9768333333333333\n",
            "Валидационная выборка: 0.8605\n",
            "\n",
            "Accuracy при max_depth = 14.00 и при n_estimators = 700.000\n",
            "Обучающая выборка: 0.9765\n",
            "Валидационная выборка: 0.859\n",
            "\n",
            "Accuracy при max_depth = 14.00 и при n_estimators = 800.000\n",
            "Обучающая выборка: 0.9766666666666667\n",
            "Валидационная выборка: 0.8585\n",
            "\n",
            "Accuracy при max_depth = 14.00 и при n_estimators = 900.000\n",
            "Обучающая выборка: 0.9765\n",
            "Валидационная выборка: 0.8595\n",
            "\n",
            "Accuracy при max_depth = 14.00 и при n_estimators = 1000.000\n",
            "Обучающая выборка: 0.9761666666666666\n",
            "Валидационная выборка: 0.8595\n",
            "\n",
            "Accuracy при max_depth = 16.00 и при n_estimators = 100.000\n",
            "Обучающая выборка: 0.9943333333333333\n",
            "Валидационная выборка: 0.8605\n",
            "\n",
            "Accuracy при max_depth = 16.00 и при n_estimators = 200.000\n",
            "Обучающая выборка: 0.9945\n",
            "Валидационная выборка: 0.858\n",
            "\n",
            "Accuracy при max_depth = 16.00 и при n_estimators = 300.000\n",
            "Обучающая выборка: 0.9953333333333333\n",
            "Валидационная выборка: 0.8615\n",
            "\n",
            "Accuracy при max_depth = 16.00 и при n_estimators = 400.000\n",
            "Обучающая выборка: 0.9963333333333333\n",
            "Валидационная выборка: 0.8595\n",
            "\n",
            "Accuracy при max_depth = 16.00 и при n_estimators = 500.000\n",
            "Обучающая выборка: 0.9965\n",
            "Валидационная выборка: 0.859\n",
            "\n",
            "Accuracy при max_depth = 16.00 и при n_estimators = 600.000\n",
            "Обучающая выборка: 0.9961666666666666\n",
            "Валидационная выборка: 0.86\n",
            "\n",
            "Accuracy при max_depth = 16.00 и при n_estimators = 700.000\n",
            "Обучающая выборка: 0.9965\n",
            "Валидационная выборка: 0.8595\n",
            "\n",
            "Accuracy при max_depth = 16.00 и при n_estimators = 800.000\n",
            "Обучающая выборка: 0.9966666666666667\n",
            "Валидационная выборка: 0.859\n",
            "\n",
            "Accuracy при max_depth = 16.00 и при n_estimators = 900.000\n",
            "Обучающая выборка: 0.9968333333333333\n",
            "Валидационная выборка: 0.858\n",
            "\n",
            "Accuracy при max_depth = 16.00 и при n_estimators = 1000.000\n",
            "Обучающая выборка: 0.9966666666666667\n",
            "Валидационная выборка: 0.858\n",
            "\n",
            "Accuracy при max_depth = 18.00 и при n_estimators = 100.000\n",
            "Обучающая выборка: 0.9996666666666667\n",
            "Валидационная выборка: 0.859\n",
            "\n",
            "Accuracy при max_depth = 18.00 и при n_estimators = 200.000\n",
            "Обучающая выборка: 0.9996666666666667\n",
            "Валидационная выборка: 0.861\n",
            "\n",
            "Accuracy при max_depth = 18.00 и при n_estimators = 300.000\n",
            "Обучающая выборка: 0.9998333333333334\n",
            "Валидационная выборка: 0.86\n",
            "\n",
            "Accuracy при max_depth = 18.00 и при n_estimators = 400.000\n",
            "Обучающая выборка: 1.0\n",
            "Валидационная выборка: 0.8585\n",
            "\n",
            "Accuracy при max_depth = 18.00 и при n_estimators = 500.000\n",
            "Обучающая выборка: 1.0\n",
            "Валидационная выборка: 0.86\n",
            "\n",
            "Accuracy при max_depth = 18.00 и при n_estimators = 600.000\n",
            "Обучающая выборка: 0.9998333333333334\n",
            "Валидационная выборка: 0.86\n",
            "\n",
            "Accuracy при max_depth = 18.00 и при n_estimators = 700.000\n",
            "Обучающая выборка: 1.0\n",
            "Валидационная выборка: 0.858\n",
            "\n",
            "Accuracy при max_depth = 18.00 и при n_estimators = 800.000\n",
            "Обучающая выборка: 1.0\n",
            "Валидационная выборка: 0.858\n",
            "\n",
            "Accuracy при max_depth = 18.00 и при n_estimators = 900.000\n",
            "Обучающая выборка: 1.0\n",
            "Валидационная выборка: 0.858\n",
            "\n",
            "Accuracy при max_depth = 18.00 и при n_estimators = 1000.000\n",
            "Обучающая выборка: 1.0\n",
            "Валидационная выборка: 0.857\n",
            "\n",
            "Accuracy при max_depth = 20.00 и при n_estimators = 100.000\n",
            "Обучающая выборка: 1.0\n",
            "Валидационная выборка: 0.8575\n",
            "\n",
            "Accuracy при max_depth = 20.00 и при n_estimators = 200.000\n",
            "Обучающая выборка: 1.0\n",
            "Валидационная выборка: 0.858\n",
            "\n",
            "Accuracy при max_depth = 20.00 и при n_estimators = 300.000\n",
            "Обучающая выборка: 1.0\n",
            "Валидационная выборка: 0.859\n",
            "\n",
            "Accuracy при max_depth = 20.00 и при n_estimators = 400.000\n",
            "Обучающая выборка: 1.0\n",
            "Валидационная выборка: 0.858\n",
            "\n",
            "Accuracy при max_depth = 20.00 и при n_estimators = 500.000\n",
            "Обучающая выборка: 1.0\n",
            "Валидационная выборка: 0.858\n",
            "\n",
            "Accuracy при max_depth = 20.00 и при n_estimators = 600.000\n",
            "Обучающая выборка: 1.0\n",
            "Валидационная выборка: 0.8585\n",
            "\n",
            "Accuracy при max_depth = 20.00 и при n_estimators = 700.000\n",
            "Обучающая выборка: 1.0\n",
            "Валидационная выборка: 0.858\n",
            "\n",
            "Accuracy при max_depth = 20.00 и при n_estimators = 800.000\n",
            "Обучающая выборка: 1.0\n",
            "Валидационная выборка: 0.8575\n",
            "\n",
            "Accuracy при max_depth = 20.00 и при n_estimators = 900.000\n",
            "Обучающая выборка: 1.0\n",
            "Валидационная выборка: 0.8585\n",
            "\n",
            "Accuracy при max_depth = 20.00 и при n_estimators = 1000.000\n",
            "Обучающая выборка: 1.0\n",
            "Валидационная выборка: 0.8585\n",
            "\n",
            "Accuracy при max_depth = 22.00 и при n_estimators = 100.000\n",
            "Обучающая выборка: 1.0\n",
            "Валидационная выборка: 0.8595\n",
            "\n",
            "Accuracy при max_depth = 22.00 и при n_estimators = 200.000\n",
            "Обучающая выборка: 1.0\n",
            "Валидационная выборка: 0.859\n",
            "\n",
            "Accuracy при max_depth = 22.00 и при n_estimators = 300.000\n",
            "Обучающая выборка: 1.0\n",
            "Валидационная выборка: 0.858\n",
            "\n",
            "Accuracy при max_depth = 22.00 и при n_estimators = 400.000\n",
            "Обучающая выборка: 1.0\n",
            "Валидационная выборка: 0.857\n",
            "\n",
            "Accuracy при max_depth = 22.00 и при n_estimators = 500.000\n",
            "Обучающая выборка: 1.0\n",
            "Валидационная выборка: 0.8565\n",
            "\n",
            "Accuracy при max_depth = 22.00 и при n_estimators = 600.000\n",
            "Обучающая выборка: 1.0\n",
            "Валидационная выборка: 0.8585\n",
            "\n",
            "Accuracy при max_depth = 22.00 и при n_estimators = 700.000\n",
            "Обучающая выборка: 1.0\n",
            "Валидационная выборка: 0.8585\n",
            "\n",
            "Accuracy при max_depth = 22.00 и при n_estimators = 800.000\n",
            "Обучающая выборка: 1.0\n",
            "Валидационная выборка: 0.858\n",
            "\n",
            "Accuracy при max_depth = 22.00 и при n_estimators = 900.000\n",
            "Обучающая выборка: 1.0\n",
            "Валидационная выборка: 0.8595\n",
            "\n",
            "Accuracy при max_depth = 22.00 и при n_estimators = 1000.000\n",
            "Обучающая выборка: 1.0\n",
            "Валидационная выборка: 0.8585\n",
            "\n"
          ]
        }
      ],
      "source": [
        "for depth in range(10,24,2):\n",
        "    for estim in range(100,1001,100):\n",
        "        model = RandomForestClassifier(random_state=1, n_estimators=estim, max_depth=depth)\n",
        "        model.fit(features_train, target_train)\n",
        "        predictions_train_def = model.predict(features_train)\n",
        "        predictions_valid_def = model.predict(features_valid)\n",
        "        print(\"Accuracy при max_depth = {:.2f} и при n_estimators = {:.3f}\".format(\n",
        "        depth, estim))\n",
        "        print(\"Обучающая выборка:\", accuracy_score(target_train, predictions_train_def))\n",
        "        print(\"Валидационная выборка:\", accuracy_score(target_valid, predictions_valid_def))\n",
        "        print()\n",
        "        "
      ]
    },
    {
      "cell_type": "markdown",
      "metadata": {
        "id": "lrlJmmuCqc4r"
      },
      "source": [
        "В уровновешевании классов помог метод `class_weight` в модели `RandomForestClassifier`\n",
        "\n",
        "Лучшие результаты модель показала при гиперпараметрах `n_estimators`= 100, `max_depth` = 12"
      ]
    },
    {
      "cell_type": "markdown",
      "metadata": {
        "id": "vSdm98VCqc4s"
      },
      "source": [
        "## Тестирование модели"
      ]
    },
    {
      "cell_type": "markdown",
      "metadata": {
        "id": "25b-orwYqc4s"
      },
      "source": [
        "Обучим финальную модель и проверим ее на тестовой выборке "
      ]
    },
    {
      "cell_type": "code",
      "execution_count": null,
      "metadata": {
        "id": "DFG9LZKBqc4t",
        "outputId": "115b6ebd-44f5-4d22-a0a8-d0c3eea1c6df"
      },
      "outputs": [
        {
          "data": {
            "text/plain": [
              "0.6176084099868593"
            ]
          },
          "execution_count": 47,
          "metadata": {},
          "output_type": "execute_result"
        }
      ],
      "source": [
        "model_final = RandomForestClassifier(random_state=1, n_estimators=100, max_depth = 12, class_weight='balanced')\n",
        "model_final.fit(features_train, target_train)\n",
        "predicted_test = model_final.predict(features_test)\n",
        "f1_score(target_test, predicted_test)"
      ]
    },
    {
      "cell_type": "markdown",
      "metadata": {
        "id": "WdMJvJBSqc4t"
      },
      "source": [
        "Нужная F1 мера достигнута.\n",
        "\n",
        "Посчитаем площадь под ROC-кривой для модели (AUC-ROC), чтобы узнать, насколько сильно ее точность отличается от случайной."
      ]
    },
    {
      "cell_type": "code",
      "execution_count": null,
      "metadata": {
        "id": "dj_1U5gaqc4t",
        "outputId": "830729d7-c142-49c5-ce52-9dbf3bb45bcb"
      },
      "outputs": [
        {
          "data": {
            "text/plain": [
              "0.8594498156474752"
            ]
          },
          "execution_count": 48,
          "metadata": {},
          "output_type": "execute_result"
        }
      ],
      "source": [
        "probabilities_valid_final = model_final.predict_proba(features_test)[:, 1]\n",
        "roc_auc_score(target_test, probabilities_valid_final)"
      ]
    },
    {
      "cell_type": "markdown",
      "metadata": {
        "id": "_6YRcRg4qc4u"
      },
      "source": [
        "Метрика AUC-ROC отличается от значения для случайной модели (0.86). "
      ]
    },
    {
      "cell_type": "code",
      "execution_count": null,
      "metadata": {
        "id": "LyFDePVfqc4w",
        "outputId": "2a8d85b9-f8b3-4f1b-e505-9f6e7d8d84b9"
      },
      "outputs": [
        {
          "data": {
            "image/png": "[encoded data removed]",
            "text/plain": [
              "<Figure size 432x288 with 1 Axes>"
            ]
          },
          "metadata": {
            "needs_background": "light"
          },
          "output_type": "display_data"
        }
      ],
      "source": [
        "fpr, tpr, treshold = roc_curve(target_test, probabilities_valid_final)\n",
        "roc_auc = auc(fpr, tpr)\n",
        "# строим график\n",
        "plt.plot(fpr, tpr, color='darkorange',\n",
        "         label='ROC кривая (area = %0.2f)' % roc_auc)\n",
        "plt.plot([0, 1], [0, 1], color='navy', linestyle='--')\n",
        "plt.xlim([0.0, 1.0])\n",
        "plt.ylim([0.0, 1.05])\n",
        "plt.xlabel('False Positive Rate')\n",
        "plt.ylabel('True Positive Rate')\n",
        "plt.title('ROC-кривая')\n",
        "plt.legend(loc=\"lower right\")\n",
        "plt.show()"
      ]
    },
    {
      "cell_type": "markdown",
      "metadata": {
        "id": "5whjJbdgqc4x"
      },
      "source": [
        "## Общий вывод:"
      ]
    },
    {
      "cell_type": "markdown",
      "metadata": {
        "id": "YqJpK7Lxqc4x"
      },
      "source": [
        "1. Ознакомились с данными и подготовили их к исследованию (преобразовали категориальные признаки в численные с помощью техники прямого кодирования One-Hot Encoding,разбили получившийся датасет на 3 выборки - обучающую, валидационную и тестовую, масштабировали признаки методом стандартизации).\n",
        "\n",
        "\n",
        "2. Исследовали баланс классов - они оказались несбалансированы, изучили модели без учёта дисбаланса, выяснили, что результат работы модели случайного леса лучше.\n",
        "\n",
        "\n",
        "3. Применили 4 способа борбы с дисбалансом - аргумент class_weight, увелечение выборки, уменьшение выборки и изменение порога. Лучшие результаты показал способы борьбы с дисбалансом class_weight. Выявили лучшие значения n_estimators и max_depth для модели случайного леса.\n",
        "\n",
        "\n",
        "4. Обучили финальную модель и проверили ее на тестовой выборке. Достигли значения F1 = 0.61. Исследовали метрику AUC-ROC - ее значение в данном случае почти не отличается от значения для случайной модели (0.86)"
      ]
    }
  ],
  "metadata": {
    "ExecuteTimeLog": [
      {
        "duration": 49,
        "start_time": "2022-04-22T12:08:08.892Z"
      },
      {
        "duration": 1119,
        "start_time": "2022-04-22T12:08:13.746Z"
      },
      {
        "duration": 49,
        "start_time": "2022-04-22T12:08:14.867Z"
      },
      {
        "duration": 7,
        "start_time": "2022-04-22T12:11:27.959Z"
      },
      {
        "duration": 6,
        "start_time": "2022-04-22T12:12:23.782Z"
      },
      {
        "duration": 5,
        "start_time": "2022-04-22T12:18:34.236Z"
      },
      {
        "duration": 18,
        "start_time": "2022-04-22T12:18:42.477Z"
      },
      {
        "duration": 64,
        "start_time": "2022-04-22T12:29:16.734Z"
      },
      {
        "duration": 4,
        "start_time": "2022-04-22T12:29:46.449Z"
      },
      {
        "duration": 10,
        "start_time": "2022-04-22T12:29:50.955Z"
      },
      {
        "duration": 9,
        "start_time": "2022-04-22T12:31:58.093Z"
      },
      {
        "duration": 22,
        "start_time": "2022-04-22T12:32:27.200Z"
      },
      {
        "duration": 13,
        "start_time": "2022-04-22T12:32:58.366Z"
      },
      {
        "duration": 3,
        "start_time": "2022-04-22T12:35:59.329Z"
      },
      {
        "duration": 34,
        "start_time": "2022-04-22T12:38:52.517Z"
      },
      {
        "duration": 40,
        "start_time": "2022-04-22T12:39:09.461Z"
      },
      {
        "duration": 35,
        "start_time": "2022-04-22T12:39:23.336Z"
      },
      {
        "duration": 11,
        "start_time": "2022-04-22T12:40:08.526Z"
      },
      {
        "duration": 6,
        "start_time": "2022-04-22T12:40:25.900Z"
      },
      {
        "duration": 10,
        "start_time": "2022-04-22T12:40:30.546Z"
      },
      {
        "duration": 6,
        "start_time": "2022-04-22T12:41:18.238Z"
      },
      {
        "duration": 16,
        "start_time": "2022-04-22T12:41:19.118Z"
      },
      {
        "duration": 4,
        "start_time": "2022-04-22T12:41:32.750Z"
      },
      {
        "duration": 10,
        "start_time": "2022-04-22T12:41:32.925Z"
      },
      {
        "duration": 3,
        "start_time": "2022-04-22T12:42:08.816Z"
      },
      {
        "duration": 10,
        "start_time": "2022-04-22T12:42:09.246Z"
      },
      {
        "duration": 3,
        "start_time": "2022-04-22T12:42:17.439Z"
      },
      {
        "duration": 34,
        "start_time": "2022-04-22T12:42:18.280Z"
      },
      {
        "duration": 4,
        "start_time": "2022-04-22T12:42:18.823Z"
      },
      {
        "duration": 10,
        "start_time": "2022-04-22T12:42:19.308Z"
      },
      {
        "duration": 10,
        "start_time": "2022-04-22T12:42:29.082Z"
      },
      {
        "duration": 19,
        "start_time": "2022-04-22T12:42:57.064Z"
      },
      {
        "duration": 6,
        "start_time": "2022-04-22T12:43:29.354Z"
      },
      {
        "duration": 32,
        "start_time": "2022-04-22T12:44:35.652Z"
      },
      {
        "duration": 5,
        "start_time": "2022-04-22T12:44:53.946Z"
      },
      {
        "duration": 1962,
        "start_time": "2022-04-23T12:57:46.381Z"
      },
      {
        "duration": 62,
        "start_time": "2022-04-23T12:57:48.346Z"
      },
      {
        "duration": 14,
        "start_time": "2022-04-23T12:57:48.411Z"
      },
      {
        "duration": 42,
        "start_time": "2022-04-23T12:57:48.428Z"
      },
      {
        "duration": 6,
        "start_time": "2022-04-23T12:57:48.473Z"
      },
      {
        "duration": 34,
        "start_time": "2022-04-23T12:57:48.482Z"
      },
      {
        "duration": 247,
        "start_time": "2022-04-23T12:57:48.519Z"
      },
      {
        "duration": 46,
        "start_time": "2022-04-23T12:58:15.818Z"
      },
      {
        "duration": 8,
        "start_time": "2022-04-23T13:08:11.997Z"
      },
      {
        "duration": 14,
        "start_time": "2022-04-23T13:08:24.894Z"
      },
      {
        "duration": 10,
        "start_time": "2022-04-23T13:08:43.740Z"
      },
      {
        "duration": 7,
        "start_time": "2022-04-23T13:09:23.140Z"
      },
      {
        "duration": 102,
        "start_time": "2022-04-23T13:09:51.791Z"
      },
      {
        "duration": 8,
        "start_time": "2022-04-23T13:09:55.485Z"
      },
      {
        "duration": 8,
        "start_time": "2022-04-23T13:10:07.094Z"
      },
      {
        "duration": 13,
        "start_time": "2022-04-23T13:10:12.581Z"
      },
      {
        "duration": 15,
        "start_time": "2022-04-23T13:10:18.755Z"
      },
      {
        "duration": 12,
        "start_time": "2022-04-23T13:10:35.030Z"
      },
      {
        "duration": 160,
        "start_time": "2022-04-23T13:10:49.838Z"
      },
      {
        "duration": 6,
        "start_time": "2022-04-23T13:10:54.776Z"
      },
      {
        "duration": 6,
        "start_time": "2022-04-23T13:14:35.651Z"
      },
      {
        "duration": 15,
        "start_time": "2022-04-23T13:14:51.777Z"
      },
      {
        "duration": 96,
        "start_time": "2022-04-23T13:14:56.274Z"
      },
      {
        "duration": 11,
        "start_time": "2022-04-23T13:14:59.010Z"
      },
      {
        "duration": 10,
        "start_time": "2022-04-23T13:15:23.043Z"
      },
      {
        "duration": 12,
        "start_time": "2022-04-23T13:15:31.458Z"
      },
      {
        "duration": 11,
        "start_time": "2022-04-23T13:15:42.123Z"
      },
      {
        "duration": 11,
        "start_time": "2022-04-23T13:15:49.372Z"
      },
      {
        "duration": 1817,
        "start_time": "2022-04-23T13:16:01.118Z"
      },
      {
        "duration": 67,
        "start_time": "2022-04-23T13:16:02.938Z"
      },
      {
        "duration": 11,
        "start_time": "2022-04-23T13:16:03.008Z"
      },
      {
        "duration": 43,
        "start_time": "2022-04-23T13:16:03.022Z"
      },
      {
        "duration": 24,
        "start_time": "2022-04-23T13:16:03.067Z"
      },
      {
        "duration": 358,
        "start_time": "2022-04-23T13:16:03.094Z"
      },
      {
        "duration": 0,
        "start_time": "2022-04-23T13:16:03.455Z"
      },
      {
        "duration": 0,
        "start_time": "2022-04-23T13:16:03.457Z"
      },
      {
        "duration": 0,
        "start_time": "2022-04-23T13:16:03.459Z"
      },
      {
        "duration": 0,
        "start_time": "2022-04-23T13:16:03.461Z"
      },
      {
        "duration": 14,
        "start_time": "2022-04-23T13:16:25.426Z"
      },
      {
        "duration": 9,
        "start_time": "2022-04-23T13:16:29.363Z"
      },
      {
        "duration": 48,
        "start_time": "2022-04-23T13:16:30.163Z"
      },
      {
        "duration": 12,
        "start_time": "2022-04-23T13:16:30.545Z"
      },
      {
        "duration": 26,
        "start_time": "2022-04-23T13:16:31.012Z"
      },
      {
        "duration": 5,
        "start_time": "2022-04-23T13:16:34.906Z"
      },
      {
        "duration": 18,
        "start_time": "2022-04-23T13:16:36.201Z"
      },
      {
        "duration": 15,
        "start_time": "2022-04-23T13:16:53.323Z"
      },
      {
        "duration": 11,
        "start_time": "2022-04-23T13:17:12.435Z"
      },
      {
        "duration": 1980,
        "start_time": "2022-04-23T13:17:43.219Z"
      },
      {
        "duration": 107,
        "start_time": "2022-04-23T13:17:45.253Z"
      },
      {
        "duration": 10,
        "start_time": "2022-04-23T13:17:45.363Z"
      },
      {
        "duration": 75,
        "start_time": "2022-04-23T13:17:45.377Z"
      },
      {
        "duration": 6,
        "start_time": "2022-04-23T13:17:45.454Z"
      },
      {
        "duration": 307,
        "start_time": "2022-04-23T13:17:45.463Z"
      },
      {
        "duration": 0,
        "start_time": "2022-04-23T13:17:45.772Z"
      },
      {
        "duration": 0,
        "start_time": "2022-04-23T13:17:45.773Z"
      },
      {
        "duration": 0,
        "start_time": "2022-04-23T13:17:45.774Z"
      },
      {
        "duration": 0,
        "start_time": "2022-04-23T13:17:45.776Z"
      },
      {
        "duration": 5,
        "start_time": "2022-04-23T13:18:10.599Z"
      },
      {
        "duration": 45,
        "start_time": "2022-04-23T13:18:11.399Z"
      },
      {
        "duration": 14,
        "start_time": "2022-04-23T13:18:11.908Z"
      },
      {
        "duration": 19,
        "start_time": "2022-04-23T13:18:12.761Z"
      },
      {
        "duration": 5,
        "start_time": "2022-04-23T13:18:15.349Z"
      },
      {
        "duration": 13,
        "start_time": "2022-04-23T13:18:16.757Z"
      },
      {
        "duration": 4,
        "start_time": "2022-04-23T13:18:45.550Z"
      },
      {
        "duration": 13,
        "start_time": "2022-04-23T13:18:47.022Z"
      },
      {
        "duration": 1907,
        "start_time": "2022-04-23T13:18:52.227Z"
      },
      {
        "duration": 64,
        "start_time": "2022-04-23T13:18:54.138Z"
      },
      {
        "duration": 12,
        "start_time": "2022-04-23T13:18:54.204Z"
      },
      {
        "duration": 42,
        "start_time": "2022-04-23T13:18:54.219Z"
      },
      {
        "duration": 4,
        "start_time": "2022-04-23T13:18:54.264Z"
      },
      {
        "duration": 9,
        "start_time": "2022-04-23T13:18:54.270Z"
      },
      {
        "duration": 272,
        "start_time": "2022-04-23T13:18:54.282Z"
      },
      {
        "duration": 0,
        "start_time": "2022-04-23T13:18:54.557Z"
      },
      {
        "duration": 0,
        "start_time": "2022-04-23T13:18:54.559Z"
      },
      {
        "duration": 0,
        "start_time": "2022-04-23T13:18:54.562Z"
      },
      {
        "duration": 11,
        "start_time": "2022-04-23T13:31:44.905Z"
      },
      {
        "duration": 1635,
        "start_time": "2022-04-23T13:32:12.143Z"
      },
      {
        "duration": 63,
        "start_time": "2022-04-23T13:32:13.781Z"
      },
      {
        "duration": 16,
        "start_time": "2022-04-23T13:32:13.847Z"
      },
      {
        "duration": 25,
        "start_time": "2022-04-23T13:32:13.867Z"
      },
      {
        "duration": 7,
        "start_time": "2022-04-23T13:32:13.895Z"
      },
      {
        "duration": 11,
        "start_time": "2022-04-23T13:32:13.905Z"
      },
      {
        "duration": 38,
        "start_time": "2022-04-23T13:32:13.918Z"
      },
      {
        "duration": 7,
        "start_time": "2022-04-23T13:32:13.961Z"
      },
      {
        "duration": 7,
        "start_time": "2022-04-23T13:32:13.971Z"
      },
      {
        "duration": 15,
        "start_time": "2022-04-23T13:32:13.982Z"
      },
      {
        "duration": 251,
        "start_time": "2022-04-23T14:12:07.083Z"
      },
      {
        "duration": 19,
        "start_time": "2022-04-23T14:12:13.978Z"
      },
      {
        "duration": 2320,
        "start_time": "2022-04-23T14:13:16.342Z"
      },
      {
        "duration": 189,
        "start_time": "2022-04-23T14:13:18.666Z"
      },
      {
        "duration": 16,
        "start_time": "2022-04-23T14:13:18.858Z"
      },
      {
        "duration": 75,
        "start_time": "2022-04-23T14:13:18.879Z"
      },
      {
        "duration": 7,
        "start_time": "2022-04-23T14:13:18.957Z"
      },
      {
        "duration": 586,
        "start_time": "2022-04-23T14:13:18.967Z"
      },
      {
        "duration": 0,
        "start_time": "2022-04-23T14:13:19.559Z"
      },
      {
        "duration": 0,
        "start_time": "2022-04-23T14:13:19.561Z"
      },
      {
        "duration": 0,
        "start_time": "2022-04-23T14:13:19.563Z"
      },
      {
        "duration": 0,
        "start_time": "2022-04-23T14:13:19.565Z"
      },
      {
        "duration": 0,
        "start_time": "2022-04-23T14:13:19.567Z"
      },
      {
        "duration": 12,
        "start_time": "2022-04-23T14:13:26.536Z"
      },
      {
        "duration": 17,
        "start_time": "2022-04-23T14:13:58.304Z"
      },
      {
        "duration": 18,
        "start_time": "2022-04-23T14:14:04.791Z"
      },
      {
        "duration": 18,
        "start_time": "2022-04-23T14:20:39.865Z"
      },
      {
        "duration": 14,
        "start_time": "2022-04-23T14:20:44.736Z"
      },
      {
        "duration": 16,
        "start_time": "2022-04-23T14:20:56.070Z"
      },
      {
        "duration": 10,
        "start_time": "2022-04-23T14:22:15.007Z"
      },
      {
        "duration": 14,
        "start_time": "2022-04-23T14:26:58.961Z"
      },
      {
        "duration": 6,
        "start_time": "2022-04-23T14:27:17.301Z"
      },
      {
        "duration": 15,
        "start_time": "2022-04-23T14:27:28.181Z"
      },
      {
        "duration": 6,
        "start_time": "2022-04-23T14:27:28.757Z"
      },
      {
        "duration": 4,
        "start_time": "2022-04-23T14:29:51.089Z"
      },
      {
        "duration": 56,
        "start_time": "2022-04-23T14:32:21.259Z"
      },
      {
        "duration": 29,
        "start_time": "2022-04-23T16:21:24.489Z"
      },
      {
        "duration": 29,
        "start_time": "2022-04-23T16:22:15.101Z"
      },
      {
        "duration": 1559,
        "start_time": "2022-04-23T16:22:41.430Z"
      },
      {
        "duration": 65,
        "start_time": "2022-04-23T16:22:42.991Z"
      },
      {
        "duration": 11,
        "start_time": "2022-04-23T16:22:43.059Z"
      },
      {
        "duration": 24,
        "start_time": "2022-04-23T16:22:43.073Z"
      },
      {
        "duration": 6,
        "start_time": "2022-04-23T16:22:43.099Z"
      },
      {
        "duration": 49,
        "start_time": "2022-04-23T16:22:43.107Z"
      },
      {
        "duration": 5,
        "start_time": "2022-04-23T16:22:43.158Z"
      },
      {
        "duration": 20,
        "start_time": "2022-04-23T16:22:43.165Z"
      },
      {
        "duration": 25,
        "start_time": "2022-04-23T16:22:43.187Z"
      },
      {
        "duration": 24,
        "start_time": "2022-04-23T16:22:43.256Z"
      },
      {
        "duration": 18,
        "start_time": "2022-04-23T16:22:43.283Z"
      },
      {
        "duration": 7,
        "start_time": "2022-04-23T16:22:43.304Z"
      },
      {
        "duration": 13,
        "start_time": "2022-04-23T16:22:43.314Z"
      },
      {
        "duration": 62,
        "start_time": "2022-04-23T16:22:43.330Z"
      },
      {
        "duration": 973,
        "start_time": "2022-04-23T16:22:43.396Z"
      },
      {
        "duration": 1027,
        "start_time": "2022-04-23T16:22:53.945Z"
      },
      {
        "duration": 995,
        "start_time": "2022-04-23T16:22:59.763Z"
      },
      {
        "duration": 4784,
        "start_time": "2022-04-23T16:23:35.721Z"
      },
      {
        "duration": 5060,
        "start_time": "2022-04-23T16:24:00.371Z"
      },
      {
        "duration": 4728,
        "start_time": "2022-04-23T16:24:16.385Z"
      },
      {
        "duration": 21668,
        "start_time": "2022-04-23T16:24:45.771Z"
      },
      {
        "duration": 931,
        "start_time": "2022-04-23T16:25:37.309Z"
      },
      {
        "duration": 202,
        "start_time": "2022-04-23T16:27:16.464Z"
      },
      {
        "duration": 2069,
        "start_time": "2022-04-23T16:27:24.968Z"
      },
      {
        "duration": 86,
        "start_time": "2022-04-23T16:27:27.043Z"
      },
      {
        "duration": 22,
        "start_time": "2022-04-23T16:27:27.132Z"
      },
      {
        "duration": 31,
        "start_time": "2022-04-23T16:27:27.158Z"
      },
      {
        "duration": 5,
        "start_time": "2022-04-23T16:27:27.193Z"
      },
      {
        "duration": 30,
        "start_time": "2022-04-23T16:27:27.201Z"
      },
      {
        "duration": 11,
        "start_time": "2022-04-23T16:27:27.253Z"
      },
      {
        "duration": 39,
        "start_time": "2022-04-23T16:27:27.267Z"
      },
      {
        "duration": 23,
        "start_time": "2022-04-23T16:27:27.309Z"
      },
      {
        "duration": 16,
        "start_time": "2022-04-23T16:27:27.337Z"
      },
      {
        "duration": 14,
        "start_time": "2022-04-23T16:27:27.356Z"
      },
      {
        "duration": 7,
        "start_time": "2022-04-23T16:27:27.373Z"
      },
      {
        "duration": 11,
        "start_time": "2022-04-23T16:27:27.382Z"
      },
      {
        "duration": 75,
        "start_time": "2022-04-23T16:27:27.396Z"
      },
      {
        "duration": 1405,
        "start_time": "2022-04-23T16:27:27.473Z"
      },
      {
        "duration": 275,
        "start_time": "2022-04-23T16:27:28.880Z"
      },
      {
        "duration": 135,
        "start_time": "2022-04-23T16:28:09.788Z"
      },
      {
        "duration": 11058,
        "start_time": "2022-04-23T16:28:24.076Z"
      },
      {
        "duration": 847,
        "start_time": "2022-04-23T16:28:54.985Z"
      },
      {
        "duration": 1318,
        "start_time": "2022-04-23T16:29:54.998Z"
      },
      {
        "duration": 949,
        "start_time": "2022-04-23T16:30:07.091Z"
      },
      {
        "duration": 1240,
        "start_time": "2022-04-23T16:55:17.194Z"
      },
      {
        "duration": 254,
        "start_time": "2022-04-23T16:55:35.149Z"
      },
      {
        "duration": 243,
        "start_time": "2022-04-23T16:55:45.821Z"
      },
      {
        "duration": 248,
        "start_time": "2022-04-23T16:55:54.906Z"
      },
      {
        "duration": 82,
        "start_time": "2022-04-23T16:59:43.874Z"
      },
      {
        "duration": 209,
        "start_time": "2022-04-23T17:00:00.858Z"
      },
      {
        "duration": 317,
        "start_time": "2022-04-23T17:00:01.744Z"
      },
      {
        "duration": 5,
        "start_time": "2022-04-23T17:02:47.162Z"
      },
      {
        "duration": 7,
        "start_time": "2022-04-23T17:02:52.546Z"
      },
      {
        "duration": 164,
        "start_time": "2022-04-23T17:03:04.179Z"
      },
      {
        "duration": 11,
        "start_time": "2022-04-23T17:03:21.179Z"
      },
      {
        "duration": 31,
        "start_time": "2022-04-23T17:05:24.143Z"
      },
      {
        "duration": 9,
        "start_time": "2022-04-23T17:06:36.936Z"
      },
      {
        "duration": 9,
        "start_time": "2022-04-23T17:06:42.806Z"
      },
      {
        "duration": 29,
        "start_time": "2022-04-23T17:25:22.603Z"
      },
      {
        "duration": 93,
        "start_time": "2022-04-23T17:25:24.769Z"
      },
      {
        "duration": 1956,
        "start_time": "2022-04-23T17:26:37.957Z"
      },
      {
        "duration": 21,
        "start_time": "2022-04-23T17:27:15.812Z"
      },
      {
        "duration": 172,
        "start_time": "2022-04-23T17:27:16.789Z"
      },
      {
        "duration": 2139,
        "start_time": "2022-04-23T17:27:17.859Z"
      },
      {
        "duration": 159,
        "start_time": "2022-04-23T18:52:54.725Z"
      },
      {
        "duration": 934,
        "start_time": "2022-04-23T18:53:44.084Z"
      },
      {
        "duration": 1245,
        "start_time": "2022-04-23T18:55:43.299Z"
      },
      {
        "duration": 6,
        "start_time": "2022-04-23T18:56:03.847Z"
      },
      {
        "duration": 77,
        "start_time": "2022-04-23T18:56:07.924Z"
      },
      {
        "duration": 1254,
        "start_time": "2022-04-23T18:56:13.421Z"
      },
      {
        "duration": 146,
        "start_time": "2022-04-23T18:57:31.920Z"
      },
      {
        "duration": 1291,
        "start_time": "2022-04-23T18:57:32.932Z"
      },
      {
        "duration": 21,
        "start_time": "2022-04-23T19:04:40.987Z"
      },
      {
        "duration": 166,
        "start_time": "2022-04-23T19:05:16.509Z"
      },
      {
        "duration": 1279,
        "start_time": "2022-04-23T19:05:16.775Z"
      },
      {
        "duration": 77,
        "start_time": "2022-04-23T19:05:53.012Z"
      },
      {
        "duration": 200,
        "start_time": "2022-04-23T19:06:05.170Z"
      },
      {
        "duration": 2625,
        "start_time": "2022-04-23T19:06:05.399Z"
      },
      {
        "duration": 2420,
        "start_time": "2022-04-23T19:06:26.573Z"
      },
      {
        "duration": 552,
        "start_time": "2022-04-23T19:07:15.104Z"
      },
      {
        "duration": 168,
        "start_time": "2022-04-23T19:07:35.016Z"
      },
      {
        "duration": 8,
        "start_time": "2022-04-23T19:11:22.826Z"
      },
      {
        "duration": 9,
        "start_time": "2022-04-23T19:11:26.780Z"
      },
      {
        "duration": 7,
        "start_time": "2022-04-23T19:11:40.539Z"
      },
      {
        "duration": 6,
        "start_time": "2022-04-23T19:11:48.180Z"
      },
      {
        "duration": 159,
        "start_time": "2022-04-23T19:11:55.880Z"
      },
      {
        "duration": 9,
        "start_time": "2022-04-23T19:11:59.276Z"
      },
      {
        "duration": 20,
        "start_time": "2022-04-23T19:13:00.762Z"
      },
      {
        "duration": 17,
        "start_time": "2022-04-23T19:13:10.413Z"
      },
      {
        "duration": 19,
        "start_time": "2022-04-23T19:14:09.493Z"
      },
      {
        "duration": 14,
        "start_time": "2022-04-23T19:14:14.229Z"
      },
      {
        "duration": 10,
        "start_time": "2022-04-23T19:14:18.879Z"
      },
      {
        "duration": 36,
        "start_time": "2022-04-23T19:14:59.535Z"
      },
      {
        "duration": 1903,
        "start_time": "2022-04-23T19:17:18.618Z"
      },
      {
        "duration": 1288,
        "start_time": "2022-04-23T19:17:35.090Z"
      },
      {
        "duration": 973,
        "start_time": "2022-04-23T19:18:38.393Z"
      },
      {
        "duration": 1914,
        "start_time": "2022-04-23T19:18:48.901Z"
      },
      {
        "duration": 81,
        "start_time": "2022-04-23T19:18:50.818Z"
      },
      {
        "duration": 15,
        "start_time": "2022-04-23T19:18:50.901Z"
      },
      {
        "duration": 47,
        "start_time": "2022-04-23T19:18:50.920Z"
      },
      {
        "duration": 8,
        "start_time": "2022-04-23T19:18:50.976Z"
      },
      {
        "duration": 24,
        "start_time": "2022-04-23T19:18:50.986Z"
      },
      {
        "duration": 4,
        "start_time": "2022-04-23T19:18:51.013Z"
      },
      {
        "duration": 42,
        "start_time": "2022-04-23T19:18:51.020Z"
      },
      {
        "duration": 43,
        "start_time": "2022-04-23T19:18:51.065Z"
      },
      {
        "duration": 11,
        "start_time": "2022-04-23T19:18:51.113Z"
      },
      {
        "duration": 23,
        "start_time": "2022-04-23T19:18:51.127Z"
      },
      {
        "duration": 14,
        "start_time": "2022-04-23T19:18:51.156Z"
      },
      {
        "duration": 24,
        "start_time": "2022-04-23T19:18:51.173Z"
      },
      {
        "duration": 61,
        "start_time": "2022-04-23T19:18:51.199Z"
      },
      {
        "duration": 1330,
        "start_time": "2022-04-23T19:18:51.263Z"
      },
      {
        "duration": 85,
        "start_time": "2022-04-23T19:18:52.595Z"
      },
      {
        "duration": 892,
        "start_time": "2022-04-23T19:18:52.684Z"
      },
      {
        "duration": 219,
        "start_time": "2022-04-23T19:18:53.579Z"
      },
      {
        "duration": 206,
        "start_time": "2022-04-23T19:18:53.800Z"
      },
      {
        "duration": 10,
        "start_time": "2022-04-23T19:18:54.008Z"
      },
      {
        "duration": 72,
        "start_time": "2022-04-23T19:18:54.021Z"
      },
      {
        "duration": 9,
        "start_time": "2022-04-23T19:18:54.096Z"
      },
      {
        "duration": 77,
        "start_time": "2022-04-23T19:18:54.108Z"
      },
      {
        "duration": 1185,
        "start_time": "2022-04-23T19:18:54.252Z"
      },
      {
        "duration": 32,
        "start_time": "2022-04-23T19:18:55.440Z"
      },
      {
        "duration": 118,
        "start_time": "2022-04-23T19:18:55.474Z"
      },
      {
        "duration": 4489,
        "start_time": "2022-04-23T19:18:55.596Z"
      },
      {
        "duration": 22,
        "start_time": "2022-04-23T19:19:00.092Z"
      },
      {
        "duration": 471,
        "start_time": "2022-04-23T19:19:00.116Z"
      },
      {
        "duration": 89,
        "start_time": "2022-04-23T19:19:00.590Z"
      },
      {
        "duration": 1164,
        "start_time": "2022-04-23T19:19:00.688Z"
      },
      {
        "duration": 10,
        "start_time": "2022-04-23T19:19:07.291Z"
      },
      {
        "duration": 1396,
        "start_time": "2022-04-23T19:19:26.672Z"
      },
      {
        "duration": 117,
        "start_time": "2022-04-23T19:19:28.075Z"
      },
      {
        "duration": 1610,
        "start_time": "2022-04-23T19:19:41.549Z"
      },
      {
        "duration": 109,
        "start_time": "2022-04-23T19:19:43.172Z"
      },
      {
        "duration": 177,
        "start_time": "2022-04-23T19:20:40.792Z"
      },
      {
        "duration": 26,
        "start_time": "2022-04-23T19:20:46.271Z"
      },
      {
        "duration": 30,
        "start_time": "2022-04-23T19:20:50.583Z"
      },
      {
        "duration": 39,
        "start_time": "2022-04-23T19:21:01.017Z"
      },
      {
        "duration": 6,
        "start_time": "2022-04-23T19:21:48.815Z"
      },
      {
        "duration": 49,
        "start_time": "2022-04-23T19:22:05.878Z"
      },
      {
        "duration": 30,
        "start_time": "2022-04-23T19:22:18.546Z"
      },
      {
        "duration": 8,
        "start_time": "2022-04-23T19:22:48.972Z"
      },
      {
        "duration": 15,
        "start_time": "2022-04-23T19:25:19.546Z"
      },
      {
        "duration": 43,
        "start_time": "2022-04-23T19:25:26.123Z"
      },
      {
        "duration": 3685,
        "start_time": "2022-04-23T19:26:53.877Z"
      },
      {
        "duration": 2461,
        "start_time": "2022-04-23T19:27:16.770Z"
      },
      {
        "duration": 3111,
        "start_time": "2022-04-23T19:27:22.663Z"
      },
      {
        "duration": 2069,
        "start_time": "2022-04-23T19:27:54.902Z"
      },
      {
        "duration": 21,
        "start_time": "2022-04-23T19:28:20.183Z"
      },
      {
        "duration": 6,
        "start_time": "2022-04-23T19:28:24.517Z"
      },
      {
        "duration": 9,
        "start_time": "2022-04-23T19:28:26.360Z"
      },
      {
        "duration": 19,
        "start_time": "2022-04-23T19:28:28.541Z"
      },
      {
        "duration": 1845,
        "start_time": "2022-04-23T19:28:29.881Z"
      },
      {
        "duration": 26303,
        "start_time": "2022-04-23T19:28:41.990Z"
      },
      {
        "duration": 12,
        "start_time": "2022-04-23T19:29:08.297Z"
      },
      {
        "duration": 353,
        "start_time": "2022-04-23T19:29:20.787Z"
      },
      {
        "duration": 26,
        "start_time": "2022-04-23T19:57:01.201Z"
      },
      {
        "duration": 196,
        "start_time": "2022-04-24T12:43:41.521Z"
      },
      {
        "duration": 4,
        "start_time": "2022-04-24T12:43:47.876Z"
      },
      {
        "duration": 53,
        "start_time": "2022-04-24T12:44:03.034Z"
      },
      {
        "duration": 1269,
        "start_time": "2022-04-24T12:44:09.411Z"
      },
      {
        "duration": 70,
        "start_time": "2022-04-24T12:44:10.682Z"
      },
      {
        "duration": 8,
        "start_time": "2022-04-24T12:44:10.754Z"
      },
      {
        "duration": 14,
        "start_time": "2022-04-24T12:44:10.764Z"
      },
      {
        "duration": 5,
        "start_time": "2022-04-24T12:44:10.780Z"
      },
      {
        "duration": 12,
        "start_time": "2022-04-24T12:44:10.786Z"
      },
      {
        "duration": 5,
        "start_time": "2022-04-24T12:44:10.800Z"
      },
      {
        "duration": 54,
        "start_time": "2022-04-24T12:44:10.806Z"
      },
      {
        "duration": 13,
        "start_time": "2022-04-24T12:44:10.862Z"
      },
      {
        "duration": 7,
        "start_time": "2022-04-24T12:44:10.878Z"
      },
      {
        "duration": 10,
        "start_time": "2022-04-24T12:44:10.887Z"
      },
      {
        "duration": 8,
        "start_time": "2022-04-24T12:44:10.898Z"
      },
      {
        "duration": 9,
        "start_time": "2022-04-24T12:44:10.908Z"
      },
      {
        "duration": 40,
        "start_time": "2022-04-24T12:44:10.919Z"
      },
      {
        "duration": 723,
        "start_time": "2022-04-24T12:44:10.961Z"
      },
      {
        "duration": 150,
        "start_time": "2022-04-24T12:44:11.686Z"
      },
      {
        "duration": 715,
        "start_time": "2022-04-24T12:44:11.850Z"
      },
      {
        "duration": 117,
        "start_time": "2022-04-24T12:44:12.567Z"
      },
      {
        "duration": 104,
        "start_time": "2022-04-24T12:44:12.685Z"
      },
      {
        "duration": 7,
        "start_time": "2022-04-24T12:44:12.790Z"
      },
      {
        "duration": 7,
        "start_time": "2022-04-24T12:44:12.799Z"
      },
      {
        "duration": 37,
        "start_time": "2022-04-24T12:44:12.808Z"
      },
      {
        "duration": 100,
        "start_time": "2022-04-24T12:44:12.848Z"
      },
      {
        "duration": 804,
        "start_time": "2022-04-24T12:44:12.953Z"
      },
      {
        "duration": 15,
        "start_time": "2022-04-24T12:44:13.759Z"
      },
      {
        "duration": 66,
        "start_time": "2022-04-24T12:44:13.776Z"
      },
      {
        "duration": 1416,
        "start_time": "2022-04-24T12:44:13.844Z"
      },
      {
        "duration": 12,
        "start_time": "2022-04-24T12:44:15.263Z"
      },
      {
        "duration": 311,
        "start_time": "2022-04-24T12:44:15.277Z"
      },
      {
        "duration": 53,
        "start_time": "2022-04-24T12:44:15.589Z"
      },
      {
        "duration": 90,
        "start_time": "2022-04-24T12:44:15.646Z"
      },
      {
        "duration": 23,
        "start_time": "2022-04-24T12:44:15.738Z"
      },
      {
        "duration": 129,
        "start_time": "2022-04-24T12:44:24.354Z"
      },
      {
        "duration": 12,
        "start_time": "2022-04-24T12:44:44.497Z"
      },
      {
        "duration": 13,
        "start_time": "2022-04-24T12:44:45.512Z"
      },
      {
        "duration": 5,
        "start_time": "2022-04-24T12:44:52.498Z"
      },
      {
        "duration": 12,
        "start_time": "2022-04-24T12:44:58.786Z"
      },
      {
        "duration": 4,
        "start_time": "2022-04-24T12:44:59.296Z"
      },
      {
        "duration": 13,
        "start_time": "2022-04-24T12:45:03.153Z"
      },
      {
        "duration": 5,
        "start_time": "2022-04-24T12:45:03.768Z"
      },
      {
        "duration": 4,
        "start_time": "2022-04-24T12:45:38.921Z"
      },
      {
        "duration": 18,
        "start_time": "2022-04-24T12:45:39.480Z"
      },
      {
        "duration": 6,
        "start_time": "2022-04-24T12:45:40.046Z"
      },
      {
        "duration": 12,
        "start_time": "2022-04-24T12:45:40.921Z"
      },
      {
        "duration": 3,
        "start_time": "2022-04-24T12:47:31.301Z"
      },
      {
        "duration": 11,
        "start_time": "2022-04-24T12:47:31.915Z"
      },
      {
        "duration": 4,
        "start_time": "2022-04-24T12:47:32.475Z"
      },
      {
        "duration": 13,
        "start_time": "2022-04-24T12:47:33.602Z"
      },
      {
        "duration": 4,
        "start_time": "2022-04-24T12:48:32.468Z"
      },
      {
        "duration": 15,
        "start_time": "2022-04-24T12:48:33.044Z"
      },
      {
        "duration": 12,
        "start_time": "2022-04-24T12:48:38.261Z"
      },
      {
        "duration": 4,
        "start_time": "2022-04-24T12:48:56.421Z"
      },
      {
        "duration": 12,
        "start_time": "2022-04-24T12:48:57.476Z"
      },
      {
        "duration": 13,
        "start_time": "2022-04-24T12:48:58.108Z"
      },
      {
        "duration": 25,
        "start_time": "2022-04-24T12:52:47.474Z"
      },
      {
        "duration": 4,
        "start_time": "2022-04-24T12:54:13.082Z"
      },
      {
        "duration": 12,
        "start_time": "2022-04-24T12:54:13.714Z"
      },
      {
        "duration": 23,
        "start_time": "2022-04-24T12:54:14.098Z"
      },
      {
        "duration": 303,
        "start_time": "2022-04-24T12:54:50.502Z"
      },
      {
        "duration": 25,
        "start_time": "2022-04-24T12:54:57.084Z"
      },
      {
        "duration": 3,
        "start_time": "2022-04-24T12:55:21.004Z"
      },
      {
        "duration": 298,
        "start_time": "2022-04-24T12:55:23.420Z"
      },
      {
        "duration": 30,
        "start_time": "2022-04-24T12:55:23.720Z"
      },
      {
        "duration": 294,
        "start_time": "2022-04-24T12:56:07.949Z"
      },
      {
        "duration": 24,
        "start_time": "2022-04-24T12:56:08.381Z"
      },
      {
        "duration": 3,
        "start_time": "2022-04-24T12:56:31.088Z"
      },
      {
        "duration": 12,
        "start_time": "2022-04-24T12:56:31.709Z"
      },
      {
        "duration": 25,
        "start_time": "2022-04-24T12:56:32.316Z"
      },
      {
        "duration": 289,
        "start_time": "2022-04-24T12:56:32.989Z"
      },
      {
        "duration": 24,
        "start_time": "2022-04-24T12:56:33.726Z"
      },
      {
        "duration": 4,
        "start_time": "2022-04-24T13:02:45.014Z"
      },
      {
        "duration": 23,
        "start_time": "2022-04-24T13:02:45.467Z"
      },
      {
        "duration": 25,
        "start_time": "2022-04-24T13:02:45.884Z"
      },
      {
        "duration": 688,
        "start_time": "2022-04-24T13:02:47.027Z"
      },
      {
        "duration": 32,
        "start_time": "2022-04-24T13:02:47.717Z"
      },
      {
        "duration": 557,
        "start_time": "2022-04-24T13:04:55.920Z"
      },
      {
        "duration": 23,
        "start_time": "2022-04-24T13:04:56.479Z"
      },
      {
        "duration": 223,
        "start_time": "2022-04-24T13:05:00.479Z"
      },
      {
        "duration": 24,
        "start_time": "2022-04-24T13:05:00.750Z"
      },
      {
        "duration": 576,
        "start_time": "2022-04-24T13:05:14.166Z"
      },
      {
        "duration": 25,
        "start_time": "2022-04-24T13:05:14.745Z"
      },
      {
        "duration": 10,
        "start_time": "2022-04-24T13:23:38.646Z"
      },
      {
        "duration": 690,
        "start_time": "2022-04-24T13:24:20.984Z"
      },
      {
        "duration": 605,
        "start_time": "2022-04-24T13:24:44.941Z"
      },
      {
        "duration": 600,
        "start_time": "2022-04-24T13:25:29.910Z"
      },
      {
        "duration": 635,
        "start_time": "2022-04-24T13:25:49.880Z"
      },
      {
        "duration": 608,
        "start_time": "2022-04-24T13:26:54.489Z"
      },
      {
        "duration": 11734,
        "start_time": "2022-04-24T14:29:28.348Z"
      },
      {
        "duration": 5040,
        "start_time": "2022-04-24T14:30:49.863Z"
      },
      {
        "duration": 4673,
        "start_time": "2022-04-24T14:31:05.027Z"
      },
      {
        "duration": 3519,
        "start_time": "2022-04-24T14:31:21.554Z"
      },
      {
        "duration": 2847,
        "start_time": "2022-04-24T14:31:38.363Z"
      },
      {
        "duration": 3769,
        "start_time": "2022-04-24T14:32:52.549Z"
      },
      {
        "duration": 5414,
        "start_time": "2022-04-24T14:33:01.997Z"
      },
      {
        "duration": 3693,
        "start_time": "2022-04-24T14:33:46.663Z"
      },
      {
        "duration": 3312,
        "start_time": "2022-04-24T14:33:58.153Z"
      },
      {
        "duration": 610,
        "start_time": "2022-04-24T14:35:55.032Z"
      },
      {
        "duration": 685,
        "start_time": "2022-04-24T14:36:02.092Z"
      },
      {
        "duration": 708,
        "start_time": "2022-04-24T14:36:13.507Z"
      },
      {
        "duration": 699,
        "start_time": "2022-04-24T14:36:17.706Z"
      },
      {
        "duration": 294,
        "start_time": "2022-04-24T14:36:39.545Z"
      },
      {
        "duration": 27,
        "start_time": "2022-04-24T14:36:41.073Z"
      },
      {
        "duration": 146,
        "start_time": "2022-04-24T14:36:59.500Z"
      },
      {
        "duration": 287,
        "start_time": "2022-04-24T14:37:07.930Z"
      },
      {
        "duration": 281,
        "start_time": "2022-04-24T14:37:12.049Z"
      },
      {
        "duration": 287,
        "start_time": "2022-04-24T14:37:22.586Z"
      },
      {
        "duration": 359,
        "start_time": "2022-04-24T14:37:30.790Z"
      },
      {
        "duration": 305,
        "start_time": "2022-04-24T14:37:35.163Z"
      },
      {
        "duration": 332,
        "start_time": "2022-04-24T14:37:41.930Z"
      },
      {
        "duration": 341,
        "start_time": "2022-04-24T14:37:55.234Z"
      },
      {
        "duration": 25,
        "start_time": "2022-04-24T14:37:57.057Z"
      },
      {
        "duration": 600,
        "start_time": "2022-04-24T14:38:18.195Z"
      },
      {
        "duration": 155,
        "start_time": "2022-04-24T14:38:45.723Z"
      },
      {
        "duration": 25,
        "start_time": "2022-04-24T14:39:04.709Z"
      },
      {
        "duration": 358,
        "start_time": "2022-04-24T14:39:05.256Z"
      },
      {
        "duration": 13,
        "start_time": "2022-04-24T14:39:19.548Z"
      },
      {
        "duration": 42,
        "start_time": "2022-04-24T14:39:20.459Z"
      },
      {
        "duration": 600,
        "start_time": "2022-04-24T14:39:21.260Z"
      },
      {
        "duration": 11,
        "start_time": "2022-04-24T14:39:27.300Z"
      },
      {
        "duration": 150,
        "start_time": "2022-04-24T14:39:27.919Z"
      },
      {
        "duration": 16,
        "start_time": "2022-04-24T14:39:29.456Z"
      },
      {
        "duration": 4,
        "start_time": "2022-04-24T14:39:31.949Z"
      },
      {
        "duration": 19,
        "start_time": "2022-04-24T14:39:32.987Z"
      },
      {
        "duration": 24,
        "start_time": "2022-04-24T14:39:34.228Z"
      },
      {
        "duration": 329,
        "start_time": "2022-04-24T14:39:35.365Z"
      },
      {
        "duration": 25,
        "start_time": "2022-04-24T14:39:35.955Z"
      },
      {
        "duration": 670,
        "start_time": "2022-04-24T14:43:12.158Z"
      },
      {
        "duration": 58,
        "start_time": "2022-04-24T14:44:19.530Z"
      },
      {
        "duration": 58,
        "start_time": "2022-04-24T14:45:07.805Z"
      },
      {
        "duration": 142,
        "start_time": "2022-04-25T08:42:52.481Z"
      },
      {
        "duration": 149,
        "start_time": "2022-04-25T08:43:00.678Z"
      },
      {
        "duration": 1410,
        "start_time": "2022-04-25T09:02:26.710Z"
      },
      {
        "duration": 64,
        "start_time": "2022-04-25T09:02:28.122Z"
      },
      {
        "duration": 13,
        "start_time": "2022-04-25T09:02:28.188Z"
      },
      {
        "duration": 25,
        "start_time": "2022-04-25T09:02:28.203Z"
      },
      {
        "duration": 4,
        "start_time": "2022-04-25T09:02:28.230Z"
      },
      {
        "duration": 17,
        "start_time": "2022-04-25T09:02:28.236Z"
      },
      {
        "duration": 4,
        "start_time": "2022-04-25T09:02:28.255Z"
      },
      {
        "duration": 18,
        "start_time": "2022-04-25T09:02:28.261Z"
      },
      {
        "duration": 27,
        "start_time": "2022-04-25T09:02:28.281Z"
      },
      {
        "duration": 6,
        "start_time": "2022-04-25T09:02:28.312Z"
      },
      {
        "duration": 8,
        "start_time": "2022-04-25T09:02:28.320Z"
      },
      {
        "duration": 3,
        "start_time": "2022-04-25T09:02:28.330Z"
      },
      {
        "duration": 6,
        "start_time": "2022-04-25T09:02:28.335Z"
      },
      {
        "duration": 61,
        "start_time": "2022-04-25T09:02:28.342Z"
      },
      {
        "duration": 742,
        "start_time": "2022-04-25T09:02:28.406Z"
      },
      {
        "duration": 47,
        "start_time": "2022-04-25T09:02:29.150Z"
      },
      {
        "duration": 862,
        "start_time": "2022-04-25T09:02:29.199Z"
      },
      {
        "duration": 107,
        "start_time": "2022-04-25T09:02:30.063Z"
      },
      {
        "duration": 100,
        "start_time": "2022-04-25T09:02:30.172Z"
      },
      {
        "duration": 6,
        "start_time": "2022-04-25T09:02:30.274Z"
      },
      {
        "duration": 18,
        "start_time": "2022-04-25T09:02:30.281Z"
      },
      {
        "duration": 20,
        "start_time": "2022-04-25T09:02:30.301Z"
      },
      {
        "duration": 91,
        "start_time": "2022-04-25T09:02:30.324Z"
      },
      {
        "duration": 740,
        "start_time": "2022-04-25T09:02:30.495Z"
      },
      {
        "duration": 69,
        "start_time": "2022-04-25T09:02:31.237Z"
      },
      {
        "duration": 207,
        "start_time": "2022-04-25T09:02:31.308Z"
      },
      {
        "duration": 1609,
        "start_time": "2022-04-25T09:02:31.521Z"
      },
      {
        "duration": 11,
        "start_time": "2022-04-25T09:02:33.134Z"
      },
      {
        "duration": 5,
        "start_time": "2022-04-25T09:02:33.147Z"
      },
      {
        "duration": 182,
        "start_time": "2022-04-25T09:02:33.154Z"
      },
      {
        "duration": 69,
        "start_time": "2022-04-25T09:02:33.338Z"
      },
      {
        "duration": 4,
        "start_time": "2022-04-25T09:02:33.408Z"
      },
      {
        "duration": 100,
        "start_time": "2022-04-25T09:02:33.414Z"
      },
      {
        "duration": 296,
        "start_time": "2022-04-25T09:02:33.516Z"
      },
      {
        "duration": 0,
        "start_time": "2022-04-25T09:02:33.816Z"
      },
      {
        "duration": 0,
        "start_time": "2022-04-25T09:02:33.817Z"
      },
      {
        "duration": 0,
        "start_time": "2022-04-25T09:02:33.819Z"
      },
      {
        "duration": 0,
        "start_time": "2022-04-25T09:02:33.820Z"
      },
      {
        "duration": 0,
        "start_time": "2022-04-25T09:02:33.822Z"
      },
      {
        "duration": 0,
        "start_time": "2022-04-25T09:02:33.823Z"
      },
      {
        "duration": 6,
        "start_time": "2022-04-25T09:03:09.348Z"
      },
      {
        "duration": 2512,
        "start_time": "2022-04-25T09:05:13.182Z"
      },
      {
        "duration": 6,
        "start_time": "2022-04-25T09:05:21.925Z"
      },
      {
        "duration": 6,
        "start_time": "2022-04-25T09:05:42.256Z"
      },
      {
        "duration": 6,
        "start_time": "2022-04-25T09:06:09.062Z"
      },
      {
        "duration": 11,
        "start_time": "2022-04-25T09:12:09.388Z"
      },
      {
        "duration": 6,
        "start_time": "2022-04-25T09:12:11.298Z"
      },
      {
        "duration": 6,
        "start_time": "2022-04-25T09:12:12.228Z"
      },
      {
        "duration": 12,
        "start_time": "2022-04-25T09:12:20.132Z"
      },
      {
        "duration": 7,
        "start_time": "2022-04-25T09:12:21.274Z"
      },
      {
        "duration": 7,
        "start_time": "2022-04-25T09:12:22.339Z"
      },
      {
        "duration": 9,
        "start_time": "2022-04-25T09:12:37.210Z"
      },
      {
        "duration": 6,
        "start_time": "2022-04-25T09:12:41.404Z"
      },
      {
        "duration": 14,
        "start_time": "2022-04-25T09:12:55.308Z"
      },
      {
        "duration": 5,
        "start_time": "2022-04-25T09:12:56.124Z"
      },
      {
        "duration": 7,
        "start_time": "2022-04-25T09:12:56.475Z"
      },
      {
        "duration": 6,
        "start_time": "2022-04-25T09:13:40.478Z"
      },
      {
        "duration": 1547,
        "start_time": "2022-04-25T09:13:54.322Z"
      },
      {
        "duration": 62,
        "start_time": "2022-04-25T09:13:55.872Z"
      },
      {
        "duration": 12,
        "start_time": "2022-04-25T09:13:55.936Z"
      },
      {
        "duration": 29,
        "start_time": "2022-04-25T09:13:55.951Z"
      },
      {
        "duration": 14,
        "start_time": "2022-04-25T09:13:55.983Z"
      },
      {
        "duration": 13,
        "start_time": "2022-04-25T09:13:55.999Z"
      },
      {
        "duration": 18,
        "start_time": "2022-04-25T09:13:56.014Z"
      },
      {
        "duration": 24,
        "start_time": "2022-04-25T09:13:56.034Z"
      },
      {
        "duration": 16,
        "start_time": "2022-04-25T09:13:56.061Z"
      },
      {
        "duration": 14,
        "start_time": "2022-04-25T09:13:56.081Z"
      },
      {
        "duration": 12,
        "start_time": "2022-04-25T09:13:56.097Z"
      },
      {
        "duration": 5,
        "start_time": "2022-04-25T09:13:56.111Z"
      },
      {
        "duration": 20,
        "start_time": "2022-04-25T09:13:56.118Z"
      },
      {
        "duration": 59,
        "start_time": "2022-04-25T09:13:56.140Z"
      },
      {
        "duration": 1035,
        "start_time": "2022-04-25T09:13:56.201Z"
      },
      {
        "duration": 170,
        "start_time": "2022-04-25T09:13:57.238Z"
      },
      {
        "duration": 908,
        "start_time": "2022-04-25T09:13:57.410Z"
      },
      {
        "duration": 202,
        "start_time": "2022-04-25T09:13:58.320Z"
      },
      {
        "duration": 203,
        "start_time": "2022-04-25T09:13:58.523Z"
      },
      {
        "duration": 6,
        "start_time": "2022-04-25T09:13:58.728Z"
      },
      {
        "duration": 61,
        "start_time": "2022-04-25T09:13:58.735Z"
      },
      {
        "duration": 7,
        "start_time": "2022-04-25T09:13:58.798Z"
      },
      {
        "duration": 103,
        "start_time": "2022-04-25T09:13:58.806Z"
      },
      {
        "duration": 747,
        "start_time": "2022-04-25T09:13:58.994Z"
      },
      {
        "duration": 16,
        "start_time": "2022-04-25T09:13:59.793Z"
      },
      {
        "duration": 183,
        "start_time": "2022-04-25T09:13:59.811Z"
      },
      {
        "duration": 1013,
        "start_time": "2022-04-25T09:13:59.997Z"
      },
      {
        "duration": 4,
        "start_time": "2022-04-25T09:14:01.014Z"
      },
      {
        "duration": 19,
        "start_time": "2022-04-25T09:14:01.020Z"
      },
      {
        "duration": 209,
        "start_time": "2022-04-25T09:14:01.041Z"
      },
      {
        "duration": 0,
        "start_time": "2022-04-25T09:14:01.252Z"
      },
      {
        "duration": 0,
        "start_time": "2022-04-25T09:14:01.254Z"
      },
      {
        "duration": 0,
        "start_time": "2022-04-25T09:14:01.256Z"
      },
      {
        "duration": 0,
        "start_time": "2022-04-25T09:14:01.257Z"
      },
      {
        "duration": 0,
        "start_time": "2022-04-25T09:14:01.259Z"
      },
      {
        "duration": 0,
        "start_time": "2022-04-25T09:14:01.261Z"
      },
      {
        "duration": 0,
        "start_time": "2022-04-25T09:14:01.262Z"
      },
      {
        "duration": 0,
        "start_time": "2022-04-25T09:14:01.264Z"
      },
      {
        "duration": 0,
        "start_time": "2022-04-25T09:14:01.266Z"
      },
      {
        "duration": 0,
        "start_time": "2022-04-25T09:14:01.295Z"
      },
      {
        "duration": 0,
        "start_time": "2022-04-25T09:14:01.296Z"
      },
      {
        "duration": 0,
        "start_time": "2022-04-25T09:14:01.298Z"
      },
      {
        "duration": 7,
        "start_time": "2022-04-25T09:14:08.329Z"
      },
      {
        "duration": 12,
        "start_time": "2022-04-25T09:14:22.870Z"
      },
      {
        "duration": 6,
        "start_time": "2022-04-25T09:14:24.282Z"
      },
      {
        "duration": 25,
        "start_time": "2022-04-25T09:36:56.086Z"
      },
      {
        "duration": 1307,
        "start_time": "2022-04-25T09:37:08.862Z"
      },
      {
        "duration": 50,
        "start_time": "2022-04-25T09:37:10.171Z"
      },
      {
        "duration": 9,
        "start_time": "2022-04-25T09:37:10.222Z"
      },
      {
        "duration": 15,
        "start_time": "2022-04-25T09:37:10.233Z"
      },
      {
        "duration": 5,
        "start_time": "2022-04-25T09:37:10.249Z"
      },
      {
        "duration": 12,
        "start_time": "2022-04-25T09:37:10.255Z"
      },
      {
        "duration": 24,
        "start_time": "2022-04-25T09:37:10.269Z"
      },
      {
        "duration": 20,
        "start_time": "2022-04-25T09:37:10.295Z"
      },
      {
        "duration": 13,
        "start_time": "2022-04-25T09:37:10.317Z"
      },
      {
        "duration": 6,
        "start_time": "2022-04-25T09:37:10.334Z"
      },
      {
        "duration": 15,
        "start_time": "2022-04-25T09:37:10.342Z"
      },
      {
        "duration": 4,
        "start_time": "2022-04-25T09:37:10.359Z"
      },
      {
        "duration": 7,
        "start_time": "2022-04-25T09:37:10.365Z"
      },
      {
        "duration": 32,
        "start_time": "2022-04-25T09:37:10.394Z"
      },
      {
        "duration": 731,
        "start_time": "2022-04-25T09:37:10.428Z"
      },
      {
        "duration": 42,
        "start_time": "2022-04-25T09:37:11.160Z"
      },
      {
        "duration": 524,
        "start_time": "2022-04-25T09:37:11.293Z"
      },
      {
        "duration": 97,
        "start_time": "2022-04-25T09:37:11.819Z"
      },
      {
        "duration": 104,
        "start_time": "2022-04-25T09:37:11.918Z"
      },
      {
        "duration": 7,
        "start_time": "2022-04-25T09:37:12.024Z"
      },
      {
        "duration": 5,
        "start_time": "2022-04-25T09:37:12.033Z"
      },
      {
        "duration": 5,
        "start_time": "2022-04-25T09:37:12.040Z"
      },
      {
        "duration": 51,
        "start_time": "2022-04-25T09:37:12.047Z"
      },
      {
        "duration": 517,
        "start_time": "2022-04-25T09:37:12.101Z"
      },
      {
        "duration": 131,
        "start_time": "2022-04-25T09:37:12.620Z"
      },
      {
        "duration": 0,
        "start_time": "2022-04-25T09:37:12.753Z"
      },
      {
        "duration": 0,
        "start_time": "2022-04-25T09:37:12.754Z"
      },
      {
        "duration": 0,
        "start_time": "2022-04-25T09:37:12.756Z"
      },
      {
        "duration": 0,
        "start_time": "2022-04-25T09:37:12.757Z"
      },
      {
        "duration": 0,
        "start_time": "2022-04-25T09:37:12.758Z"
      },
      {
        "duration": 0,
        "start_time": "2022-04-25T09:37:12.759Z"
      },
      {
        "duration": 0,
        "start_time": "2022-04-25T09:37:12.760Z"
      },
      {
        "duration": 0,
        "start_time": "2022-04-25T09:37:12.761Z"
      },
      {
        "duration": 0,
        "start_time": "2022-04-25T09:37:12.762Z"
      },
      {
        "duration": 0,
        "start_time": "2022-04-25T09:37:12.763Z"
      },
      {
        "duration": 0,
        "start_time": "2022-04-25T09:37:12.764Z"
      },
      {
        "duration": 0,
        "start_time": "2022-04-25T09:37:12.765Z"
      },
      {
        "duration": 0,
        "start_time": "2022-04-25T09:37:12.792Z"
      },
      {
        "duration": 0,
        "start_time": "2022-04-25T09:37:12.793Z"
      },
      {
        "duration": 0,
        "start_time": "2022-04-25T09:37:12.794Z"
      },
      {
        "duration": 0,
        "start_time": "2022-04-25T09:37:12.795Z"
      },
      {
        "duration": 0,
        "start_time": "2022-04-25T09:37:12.797Z"
      },
      {
        "duration": 22,
        "start_time": "2022-04-25T09:38:16.858Z"
      },
      {
        "duration": 26,
        "start_time": "2022-04-25T09:38:37.425Z"
      },
      {
        "duration": 14,
        "start_time": "2022-04-25T09:39:22.133Z"
      },
      {
        "duration": 5,
        "start_time": "2022-04-25T09:39:28.795Z"
      },
      {
        "duration": 8,
        "start_time": "2022-04-25T09:39:29.033Z"
      },
      {
        "duration": 5,
        "start_time": "2022-04-25T09:39:29.674Z"
      },
      {
        "duration": 12,
        "start_time": "2022-04-25T09:39:36.209Z"
      },
      {
        "duration": 5,
        "start_time": "2022-04-25T09:39:38.639Z"
      },
      {
        "duration": 26,
        "start_time": "2022-04-25T09:40:24.183Z"
      },
      {
        "duration": 1309,
        "start_time": "2022-04-25T09:40:31.303Z"
      },
      {
        "duration": 48,
        "start_time": "2022-04-25T09:40:32.614Z"
      },
      {
        "duration": 8,
        "start_time": "2022-04-25T09:40:32.663Z"
      },
      {
        "duration": 13,
        "start_time": "2022-04-25T09:40:32.673Z"
      },
      {
        "duration": 3,
        "start_time": "2022-04-25T09:40:32.692Z"
      },
      {
        "duration": 12,
        "start_time": "2022-04-25T09:40:32.697Z"
      },
      {
        "duration": 3,
        "start_time": "2022-04-25T09:40:32.711Z"
      },
      {
        "duration": 13,
        "start_time": "2022-04-25T09:40:32.716Z"
      },
      {
        "duration": 12,
        "start_time": "2022-04-25T09:40:32.730Z"
      },
      {
        "duration": 9,
        "start_time": "2022-04-25T09:40:32.745Z"
      },
      {
        "duration": 10,
        "start_time": "2022-04-25T09:40:32.756Z"
      },
      {
        "duration": 26,
        "start_time": "2022-04-25T09:40:32.768Z"
      },
      {
        "duration": 6,
        "start_time": "2022-04-25T09:40:32.796Z"
      },
      {
        "duration": 35,
        "start_time": "2022-04-25T09:40:32.804Z"
      },
      {
        "duration": 801,
        "start_time": "2022-04-25T09:40:32.840Z"
      },
      {
        "duration": 54,
        "start_time": "2022-04-25T09:40:33.643Z"
      },
      {
        "duration": 712,
        "start_time": "2022-04-25T09:40:33.700Z"
      },
      {
        "duration": 209,
        "start_time": "2022-04-25T09:40:34.414Z"
      },
      {
        "duration": 201,
        "start_time": "2022-04-25T09:40:34.624Z"
      },
      {
        "duration": 7,
        "start_time": "2022-04-25T09:40:34.828Z"
      },
      {
        "duration": 7,
        "start_time": "2022-04-25T09:40:34.893Z"
      },
      {
        "duration": 10,
        "start_time": "2022-04-25T09:40:34.902Z"
      },
      {
        "duration": 80,
        "start_time": "2022-04-25T09:40:34.914Z"
      },
      {
        "duration": 799,
        "start_time": "2022-04-25T09:40:34.996Z"
      },
      {
        "duration": 227,
        "start_time": "2022-04-25T09:40:35.797Z"
      },
      {
        "duration": 0,
        "start_time": "2022-04-25T09:40:36.026Z"
      },
      {
        "duration": 0,
        "start_time": "2022-04-25T09:40:36.027Z"
      },
      {
        "duration": 0,
        "start_time": "2022-04-25T09:40:36.029Z"
      },
      {
        "duration": 0,
        "start_time": "2022-04-25T09:40:36.030Z"
      },
      {
        "duration": 0,
        "start_time": "2022-04-25T09:40:36.031Z"
      },
      {
        "duration": 0,
        "start_time": "2022-04-25T09:40:36.033Z"
      },
      {
        "duration": 0,
        "start_time": "2022-04-25T09:40:36.035Z"
      },
      {
        "duration": 0,
        "start_time": "2022-04-25T09:40:36.036Z"
      },
      {
        "duration": 0,
        "start_time": "2022-04-25T09:40:36.092Z"
      },
      {
        "duration": 0,
        "start_time": "2022-04-25T09:40:36.094Z"
      },
      {
        "duration": 0,
        "start_time": "2022-04-25T09:40:36.096Z"
      },
      {
        "duration": 0,
        "start_time": "2022-04-25T09:40:36.097Z"
      },
      {
        "duration": 0,
        "start_time": "2022-04-25T09:40:36.098Z"
      },
      {
        "duration": 0,
        "start_time": "2022-04-25T09:40:36.100Z"
      },
      {
        "duration": 0,
        "start_time": "2022-04-25T09:40:36.101Z"
      },
      {
        "duration": 0,
        "start_time": "2022-04-25T09:40:36.103Z"
      },
      {
        "duration": 0,
        "start_time": "2022-04-25T09:40:36.104Z"
      },
      {
        "duration": 24,
        "start_time": "2022-04-25T09:41:44.625Z"
      },
      {
        "duration": 12,
        "start_time": "2022-04-25T09:41:50.232Z"
      },
      {
        "duration": 5,
        "start_time": "2022-04-25T09:41:52.520Z"
      },
      {
        "duration": 5,
        "start_time": "2022-04-25T09:41:52.977Z"
      },
      {
        "duration": 5,
        "start_time": "2022-04-25T09:41:53.714Z"
      },
      {
        "duration": 139,
        "start_time": "2022-04-25T09:42:51.580Z"
      },
      {
        "duration": 25,
        "start_time": "2022-04-25T09:42:55.249Z"
      },
      {
        "duration": 1642,
        "start_time": "2022-04-25T09:43:02.704Z"
      },
      {
        "duration": 64,
        "start_time": "2022-04-25T09:43:04.349Z"
      },
      {
        "duration": 12,
        "start_time": "2022-04-25T09:43:04.415Z"
      },
      {
        "duration": 18,
        "start_time": "2022-04-25T09:43:04.430Z"
      },
      {
        "duration": 5,
        "start_time": "2022-04-25T09:43:04.451Z"
      },
      {
        "duration": 44,
        "start_time": "2022-04-25T09:43:04.458Z"
      },
      {
        "duration": 4,
        "start_time": "2022-04-25T09:43:04.504Z"
      },
      {
        "duration": 19,
        "start_time": "2022-04-25T09:43:04.510Z"
      },
      {
        "duration": 16,
        "start_time": "2022-04-25T09:43:04.531Z"
      },
      {
        "duration": 7,
        "start_time": "2022-04-25T09:43:04.551Z"
      },
      {
        "duration": 40,
        "start_time": "2022-04-25T09:43:04.560Z"
      },
      {
        "duration": 4,
        "start_time": "2022-04-25T09:43:04.602Z"
      },
      {
        "duration": 7,
        "start_time": "2022-04-25T09:43:04.608Z"
      },
      {
        "duration": 35,
        "start_time": "2022-04-25T09:43:04.617Z"
      },
      {
        "duration": 804,
        "start_time": "2022-04-25T09:43:04.653Z"
      },
      {
        "duration": 141,
        "start_time": "2022-04-25T09:43:05.459Z"
      },
      {
        "duration": 801,
        "start_time": "2022-04-25T09:43:05.603Z"
      },
      {
        "duration": 194,
        "start_time": "2022-04-25T09:43:06.406Z"
      },
      {
        "duration": 203,
        "start_time": "2022-04-25T09:43:06.602Z"
      },
      {
        "duration": 6,
        "start_time": "2022-04-25T09:43:06.806Z"
      },
      {
        "duration": 6,
        "start_time": "2022-04-25T09:43:06.814Z"
      },
      {
        "duration": 6,
        "start_time": "2022-04-25T09:43:06.822Z"
      },
      {
        "duration": 81,
        "start_time": "2022-04-25T09:43:06.830Z"
      },
      {
        "duration": 807,
        "start_time": "2022-04-25T09:43:06.912Z"
      },
      {
        "duration": 277,
        "start_time": "2022-04-25T09:43:07.721Z"
      },
      {
        "duration": 0,
        "start_time": "2022-04-25T09:43:08.001Z"
      },
      {
        "duration": 0,
        "start_time": "2022-04-25T09:43:08.002Z"
      },
      {
        "duration": 0,
        "start_time": "2022-04-25T09:43:08.003Z"
      },
      {
        "duration": 0,
        "start_time": "2022-04-25T09:43:08.004Z"
      },
      {
        "duration": 0,
        "start_time": "2022-04-25T09:43:08.005Z"
      },
      {
        "duration": 0,
        "start_time": "2022-04-25T09:43:08.006Z"
      },
      {
        "duration": 0,
        "start_time": "2022-04-25T09:43:08.007Z"
      },
      {
        "duration": 0,
        "start_time": "2022-04-25T09:43:08.008Z"
      },
      {
        "duration": 0,
        "start_time": "2022-04-25T09:43:08.010Z"
      },
      {
        "duration": 0,
        "start_time": "2022-04-25T09:43:08.011Z"
      },
      {
        "duration": 0,
        "start_time": "2022-04-25T09:43:08.012Z"
      },
      {
        "duration": 0,
        "start_time": "2022-04-25T09:43:08.013Z"
      },
      {
        "duration": 0,
        "start_time": "2022-04-25T09:43:08.014Z"
      },
      {
        "duration": 0,
        "start_time": "2022-04-25T09:43:08.015Z"
      },
      {
        "duration": 0,
        "start_time": "2022-04-25T09:43:08.016Z"
      },
      {
        "duration": 0,
        "start_time": "2022-04-25T09:43:08.017Z"
      },
      {
        "duration": 0,
        "start_time": "2022-04-25T09:43:08.018Z"
      },
      {
        "duration": 16,
        "start_time": "2022-04-25T09:43:38.835Z"
      },
      {
        "duration": 13,
        "start_time": "2022-04-25T09:43:44.107Z"
      },
      {
        "duration": 6,
        "start_time": "2022-04-25T09:43:45.881Z"
      },
      {
        "duration": 6,
        "start_time": "2022-04-25T09:43:46.090Z"
      },
      {
        "duration": 6,
        "start_time": "2022-04-25T09:43:46.312Z"
      },
      {
        "duration": 14,
        "start_time": "2022-04-25T09:44:17.537Z"
      },
      {
        "duration": 6,
        "start_time": "2022-04-25T09:44:20.682Z"
      },
      {
        "duration": 13,
        "start_time": "2022-04-25T09:44:31.587Z"
      },
      {
        "duration": 6,
        "start_time": "2022-04-25T09:44:34.633Z"
      },
      {
        "duration": 13,
        "start_time": "2022-04-25T09:48:32.823Z"
      },
      {
        "duration": 6,
        "start_time": "2022-04-25T09:48:33.654Z"
      },
      {
        "duration": 5,
        "start_time": "2022-04-25T09:48:34.246Z"
      },
      {
        "duration": 6,
        "start_time": "2022-04-25T09:48:45.678Z"
      },
      {
        "duration": 187,
        "start_time": "2022-04-25T09:49:16.039Z"
      },
      {
        "duration": 25,
        "start_time": "2022-04-25T09:49:16.678Z"
      },
      {
        "duration": 4,
        "start_time": "2022-04-25T09:50:19.170Z"
      },
      {
        "duration": 19,
        "start_time": "2022-04-25T09:50:19.313Z"
      },
      {
        "duration": 9,
        "start_time": "2022-04-25T09:50:19.494Z"
      },
      {
        "duration": 336,
        "start_time": "2022-04-25T09:50:19.615Z"
      },
      {
        "duration": 9,
        "start_time": "2022-04-25T09:50:21.187Z"
      },
      {
        "duration": 12,
        "start_time": "2022-04-25T09:50:37.602Z"
      },
      {
        "duration": 190,
        "start_time": "2022-04-25T09:51:02.145Z"
      },
      {
        "duration": 15,
        "start_time": "2022-04-25T09:51:02.627Z"
      },
      {
        "duration": 3,
        "start_time": "2022-04-25T09:51:05.105Z"
      },
      {
        "duration": 19,
        "start_time": "2022-04-25T09:51:05.505Z"
      },
      {
        "duration": 12,
        "start_time": "2022-04-25T09:51:05.905Z"
      },
      {
        "duration": 329,
        "start_time": "2022-04-25T09:51:07.200Z"
      },
      {
        "duration": 9,
        "start_time": "2022-04-25T09:51:07.616Z"
      },
      {
        "duration": 12,
        "start_time": "2022-04-25T09:51:19.697Z"
      },
      {
        "duration": 12,
        "start_time": "2022-04-25T09:51:47.282Z"
      },
      {
        "duration": 4,
        "start_time": "2022-04-25T09:51:58.233Z"
      },
      {
        "duration": 25,
        "start_time": "2022-04-25T09:51:58.986Z"
      },
      {
        "duration": 14,
        "start_time": "2022-04-25T09:51:59.258Z"
      },
      {
        "duration": 3,
        "start_time": "2022-04-25T09:52:12.315Z"
      },
      {
        "duration": 17,
        "start_time": "2022-04-25T09:52:12.793Z"
      },
      {
        "duration": 20,
        "start_time": "2022-04-25T09:52:13.225Z"
      },
      {
        "duration": 328,
        "start_time": "2022-04-25T09:52:14.202Z"
      },
      {
        "duration": 20,
        "start_time": "2022-04-25T09:52:14.553Z"
      },
      {
        "duration": 1230,
        "start_time": "2022-04-25T09:52:32.228Z"
      },
      {
        "duration": 44,
        "start_time": "2022-04-25T09:52:33.460Z"
      },
      {
        "duration": 7,
        "start_time": "2022-04-25T09:52:33.506Z"
      },
      {
        "duration": 14,
        "start_time": "2022-04-25T09:52:33.515Z"
      },
      {
        "duration": 4,
        "start_time": "2022-04-25T09:52:33.531Z"
      },
      {
        "duration": 13,
        "start_time": "2022-04-25T09:52:33.536Z"
      },
      {
        "duration": 3,
        "start_time": "2022-04-25T09:52:33.551Z"
      },
      {
        "duration": 42,
        "start_time": "2022-04-25T09:52:33.555Z"
      },
      {
        "duration": 11,
        "start_time": "2022-04-25T09:52:33.599Z"
      },
      {
        "duration": 6,
        "start_time": "2022-04-25T09:52:33.613Z"
      },
      {
        "duration": 8,
        "start_time": "2022-04-25T09:52:33.621Z"
      },
      {
        "duration": 8,
        "start_time": "2022-04-25T09:52:33.631Z"
      },
      {
        "duration": 7,
        "start_time": "2022-04-25T09:52:33.641Z"
      },
      {
        "duration": 53,
        "start_time": "2022-04-25T09:52:33.649Z"
      },
      {
        "duration": 696,
        "start_time": "2022-04-25T09:52:33.704Z"
      },
      {
        "duration": 91,
        "start_time": "2022-04-25T09:52:34.402Z"
      },
      {
        "duration": 502,
        "start_time": "2022-04-25T09:52:34.496Z"
      },
      {
        "duration": 106,
        "start_time": "2022-04-25T09:52:35.000Z"
      },
      {
        "duration": 103,
        "start_time": "2022-04-25T09:52:35.108Z"
      },
      {
        "duration": 6,
        "start_time": "2022-04-25T09:52:35.213Z"
      },
      {
        "duration": 7,
        "start_time": "2022-04-25T09:52:35.221Z"
      },
      {
        "duration": 6,
        "start_time": "2022-04-25T09:52:35.230Z"
      },
      {
        "duration": 59,
        "start_time": "2022-04-25T09:52:35.238Z"
      },
      {
        "duration": 430,
        "start_time": "2022-04-25T09:52:35.299Z"
      },
      {
        "duration": 13,
        "start_time": "2022-04-25T09:52:35.731Z"
      },
      {
        "duration": 53,
        "start_time": "2022-04-25T09:52:35.745Z"
      },
      {
        "duration": 667,
        "start_time": "2022-04-25T09:52:35.801Z"
      },
      {
        "duration": 12,
        "start_time": "2022-04-25T09:52:36.471Z"
      },
      {
        "duration": 6,
        "start_time": "2022-04-25T09:52:36.493Z"
      },
      {
        "duration": 7,
        "start_time": "2022-04-25T09:52:36.500Z"
      },
      {
        "duration": 8,
        "start_time": "2022-04-25T09:52:36.509Z"
      },
      {
        "duration": 201,
        "start_time": "2022-04-25T09:52:36.519Z"
      },
      {
        "duration": 72,
        "start_time": "2022-04-25T09:52:36.722Z"
      },
      {
        "duration": 96,
        "start_time": "2022-04-25T09:52:36.796Z"
      },
      {
        "duration": 18,
        "start_time": "2022-04-25T09:52:36.895Z"
      },
      {
        "duration": 184,
        "start_time": "2022-04-25T09:52:36.915Z"
      },
      {
        "duration": 364,
        "start_time": "2022-04-25T09:52:37.101Z"
      },
      {
        "duration": 33,
        "start_time": "2022-04-25T09:52:37.467Z"
      },
      {
        "duration": 2957,
        "start_time": "2022-04-25T09:52:37.502Z"
      },
      {
        "duration": 4938,
        "start_time": "2022-04-25T09:52:40.461Z"
      },
      {
        "duration": 1726,
        "start_time": "2022-04-25T09:52:45.401Z"
      },
      {
        "duration": 100,
        "start_time": "2022-04-25T09:52:47.128Z"
      },
      {
        "duration": 14018,
        "start_time": "2022-04-25T09:54:52.945Z"
      },
      {
        "duration": 1243,
        "start_time": "2022-04-25T10:01:22.628Z"
      },
      {
        "duration": 62,
        "start_time": "2022-04-25T10:01:23.873Z"
      },
      {
        "duration": 11,
        "start_time": "2022-04-25T10:01:23.938Z"
      },
      {
        "duration": 17,
        "start_time": "2022-04-25T10:01:23.952Z"
      },
      {
        "duration": 5,
        "start_time": "2022-04-25T10:01:23.992Z"
      },
      {
        "duration": 15,
        "start_time": "2022-04-25T10:01:23.999Z"
      },
      {
        "duration": 4,
        "start_time": "2022-04-25T10:01:24.016Z"
      },
      {
        "duration": 19,
        "start_time": "2022-04-25T10:01:24.022Z"
      },
      {
        "duration": 15,
        "start_time": "2022-04-25T10:01:24.043Z"
      },
      {
        "duration": 31,
        "start_time": "2022-04-25T10:01:24.062Z"
      },
      {
        "duration": 11,
        "start_time": "2022-04-25T10:01:24.095Z"
      },
      {
        "duration": 4,
        "start_time": "2022-04-25T10:01:24.108Z"
      },
      {
        "duration": 4,
        "start_time": "2022-04-25T10:01:24.115Z"
      },
      {
        "duration": 30,
        "start_time": "2022-04-25T10:01:24.121Z"
      },
      {
        "duration": 745,
        "start_time": "2022-04-25T10:01:24.153Z"
      },
      {
        "duration": 96,
        "start_time": "2022-04-25T10:01:24.900Z"
      },
      {
        "duration": 814,
        "start_time": "2022-04-25T10:01:24.999Z"
      },
      {
        "duration": 202,
        "start_time": "2022-04-25T10:01:25.815Z"
      },
      {
        "duration": 198,
        "start_time": "2022-04-25T10:01:26.019Z"
      },
      {
        "duration": 6,
        "start_time": "2022-04-25T10:01:26.219Z"
      },
      {
        "duration": 9,
        "start_time": "2022-04-25T10:01:26.227Z"
      },
      {
        "duration": 8,
        "start_time": "2022-04-25T10:01:26.293Z"
      },
      {
        "duration": 93,
        "start_time": "2022-04-25T10:01:26.304Z"
      },
      {
        "duration": 754,
        "start_time": "2022-04-25T10:01:26.399Z"
      },
      {
        "duration": 14,
        "start_time": "2022-04-25T10:01:27.155Z"
      },
      {
        "duration": 52,
        "start_time": "2022-04-25T10:01:27.171Z"
      },
      {
        "duration": 890,
        "start_time": "2022-04-25T10:01:27.225Z"
      },
      {
        "duration": 12,
        "start_time": "2022-04-25T10:01:28.119Z"
      },
      {
        "duration": 61,
        "start_time": "2022-04-25T10:01:28.133Z"
      },
      {
        "duration": 7,
        "start_time": "2022-04-25T10:01:28.195Z"
      },
      {
        "duration": 8,
        "start_time": "2022-04-25T10:01:28.203Z"
      },
      {
        "duration": 581,
        "start_time": "2022-04-25T10:01:28.212Z"
      },
      {
        "duration": 99,
        "start_time": "2022-04-25T10:01:28.795Z"
      },
      {
        "duration": 5,
        "start_time": "2022-04-25T10:01:28.896Z"
      },
      {
        "duration": 117,
        "start_time": "2022-04-25T10:01:28.902Z"
      },
      {
        "duration": 182,
        "start_time": "2022-04-25T10:01:29.021Z"
      },
      {
        "duration": 712,
        "start_time": "2022-04-25T10:01:29.205Z"
      },
      {
        "duration": 22,
        "start_time": "2022-04-25T10:01:29.919Z"
      },
      {
        "duration": 867,
        "start_time": "2022-04-25T10:01:29.942Z"
      },
      {
        "duration": 0,
        "start_time": "2022-04-25T10:01:30.811Z"
      },
      {
        "duration": 0,
        "start_time": "2022-04-25T10:01:30.813Z"
      },
      {
        "duration": 0,
        "start_time": "2022-04-25T10:01:30.814Z"
      },
      {
        "duration": 0,
        "start_time": "2022-04-25T10:01:30.815Z"
      },
      {
        "duration": 337050,
        "start_time": "2022-04-25T10:01:55.104Z"
      },
      {
        "duration": 140,
        "start_time": "2022-04-25T10:07:32.156Z"
      },
      {
        "duration": 7480,
        "start_time": "2022-04-25T10:09:19.722Z"
      },
      {
        "duration": 7362,
        "start_time": "2022-04-25T10:09:29.553Z"
      },
      {
        "duration": 7554,
        "start_time": "2022-04-25T10:10:18.955Z"
      },
      {
        "duration": 7538,
        "start_time": "2022-04-25T10:10:28.447Z"
      },
      {
        "duration": 7688,
        "start_time": "2022-04-25T10:10:37.084Z"
      },
      {
        "duration": 7138,
        "start_time": "2022-04-25T10:11:09.036Z"
      },
      {
        "duration": 7078,
        "start_time": "2022-04-25T10:11:32.812Z"
      },
      {
        "duration": 7036,
        "start_time": "2022-04-25T10:12:10.692Z"
      },
      {
        "duration": 7786,
        "start_time": "2022-04-25T10:12:23.742Z"
      },
      {
        "duration": 9577,
        "start_time": "2022-04-25T10:13:52.783Z"
      },
      {
        "duration": 7202,
        "start_time": "2022-04-25T10:14:20.878Z"
      },
      {
        "duration": 6,
        "start_time": "2022-04-25T10:14:44.493Z"
      },
      {
        "duration": 7415,
        "start_time": "2022-04-25T10:14:53.040Z"
      },
      {
        "duration": 7145,
        "start_time": "2022-04-25T10:15:16.657Z"
      },
      {
        "duration": 4,
        "start_time": "2022-04-25T10:15:27.367Z"
      },
      {
        "duration": 3,
        "start_time": "2022-04-25T10:15:36.999Z"
      },
      {
        "duration": 10,
        "start_time": "2022-04-25T10:17:22.225Z"
      },
      {
        "duration": 328,
        "start_time": "2022-04-25T10:17:29.722Z"
      },
      {
        "duration": 344,
        "start_time": "2022-04-25T10:17:33.593Z"
      },
      {
        "duration": 339,
        "start_time": "2022-04-25T10:17:40.228Z"
      },
      {
        "duration": 340,
        "start_time": "2022-04-25T10:18:47.611Z"
      },
      {
        "duration": 13,
        "start_time": "2022-04-25T10:24:28.165Z"
      },
      {
        "duration": 334,
        "start_time": "2022-04-25T10:24:34.588Z"
      },
      {
        "duration": 5,
        "start_time": "2022-04-25T10:24:35.137Z"
      },
      {
        "duration": 12,
        "start_time": "2022-04-25T10:24:36.133Z"
      },
      {
        "duration": 6,
        "start_time": "2022-04-25T10:24:58.779Z"
      },
      {
        "duration": 4,
        "start_time": "2022-04-25T10:26:14.135Z"
      },
      {
        "duration": 5,
        "start_time": "2022-04-25T10:26:36.171Z"
      },
      {
        "duration": 336,
        "start_time": "2022-04-25T10:26:43.578Z"
      },
      {
        "duration": 5,
        "start_time": "2022-04-25T10:26:50.915Z"
      },
      {
        "duration": 5,
        "start_time": "2022-04-25T10:27:20.837Z"
      },
      {
        "duration": 341,
        "start_time": "2022-04-25T10:28:01.055Z"
      },
      {
        "duration": 5,
        "start_time": "2022-04-25T10:28:01.534Z"
      },
      {
        "duration": 4,
        "start_time": "2022-04-25T10:28:02.095Z"
      },
      {
        "duration": 136,
        "start_time": "2022-04-25T10:28:26.768Z"
      },
      {
        "duration": 4,
        "start_time": "2022-04-25T10:28:29.864Z"
      },
      {
        "duration": 3,
        "start_time": "2022-04-25T10:28:35.250Z"
      },
      {
        "duration": 5,
        "start_time": "2022-04-25T10:28:58.508Z"
      },
      {
        "duration": 367,
        "start_time": "2022-04-25T10:30:30.967Z"
      },
      {
        "duration": 5,
        "start_time": "2022-04-25T10:30:31.400Z"
      },
      {
        "duration": 4,
        "start_time": "2022-04-25T10:30:33.349Z"
      },
      {
        "duration": 6,
        "start_time": "2022-04-25T10:30:35.773Z"
      },
      {
        "duration": 3,
        "start_time": "2022-04-25T10:41:46.551Z"
      },
      {
        "duration": 368,
        "start_time": "2022-04-25T10:58:01.361Z"
      },
      {
        "duration": 5,
        "start_time": "2022-04-25T10:58:02.245Z"
      },
      {
        "duration": 355,
        "start_time": "2022-04-25T10:58:06.742Z"
      },
      {
        "duration": 5,
        "start_time": "2022-04-25T10:58:07.317Z"
      },
      {
        "duration": 370,
        "start_time": "2022-04-25T10:58:17.829Z"
      },
      {
        "duration": 5,
        "start_time": "2022-04-25T10:58:18.573Z"
      },
      {
        "duration": 365,
        "start_time": "2022-04-25T10:59:08.376Z"
      },
      {
        "duration": 5,
        "start_time": "2022-04-25T10:59:09.207Z"
      },
      {
        "duration": 366,
        "start_time": "2022-04-25T10:59:15.895Z"
      },
      {
        "duration": 5,
        "start_time": "2022-04-25T10:59:16.470Z"
      },
      {
        "duration": 352,
        "start_time": "2022-04-25T10:59:23.312Z"
      },
      {
        "duration": 5,
        "start_time": "2022-04-25T10:59:23.993Z"
      },
      {
        "duration": 147,
        "start_time": "2022-04-25T10:59:32.169Z"
      },
      {
        "duration": 5,
        "start_time": "2022-04-25T10:59:35.918Z"
      },
      {
        "duration": 6,
        "start_time": "2022-04-25T10:59:54.432Z"
      },
      {
        "duration": 373,
        "start_time": "2022-04-25T11:00:05.384Z"
      },
      {
        "duration": 5,
        "start_time": "2022-04-25T11:00:05.783Z"
      },
      {
        "duration": 5,
        "start_time": "2022-04-25T11:00:06.360Z"
      },
      {
        "duration": 5,
        "start_time": "2022-04-25T11:00:07.288Z"
      },
      {
        "duration": 12,
        "start_time": "2022-04-25T11:14:11.652Z"
      },
      {
        "duration": 12,
        "start_time": "2022-04-25T11:14:23.339Z"
      },
      {
        "duration": 13,
        "start_time": "2022-04-25T11:14:41.129Z"
      },
      {
        "duration": 13,
        "start_time": "2022-04-25T11:15:11.225Z"
      },
      {
        "duration": 10,
        "start_time": "2022-04-25T11:16:34.553Z"
      },
      {
        "duration": 13,
        "start_time": "2022-04-25T11:17:02.650Z"
      },
      {
        "duration": 4841,
        "start_time": "2022-04-25T11:17:24.978Z"
      },
      {
        "duration": 21,
        "start_time": "2022-04-25T11:17:32.451Z"
      },
      {
        "duration": 12,
        "start_time": "2022-04-25T11:17:43.395Z"
      },
      {
        "duration": 3593,
        "start_time": "2022-04-25T11:17:58.633Z"
      },
      {
        "duration": 2068,
        "start_time": "2022-04-25T11:18:02.228Z"
      },
      {
        "duration": 0,
        "start_time": "2022-04-25T11:18:04.299Z"
      },
      {
        "duration": 0,
        "start_time": "2022-04-25T11:18:04.302Z"
      },
      {
        "duration": 0,
        "start_time": "2022-04-25T11:18:04.303Z"
      },
      {
        "duration": 0,
        "start_time": "2022-04-25T11:18:04.304Z"
      },
      {
        "duration": 0,
        "start_time": "2022-04-25T11:18:04.305Z"
      },
      {
        "duration": 0,
        "start_time": "2022-04-25T11:18:04.306Z"
      },
      {
        "duration": 0,
        "start_time": "2022-04-25T11:18:04.307Z"
      },
      {
        "duration": 0,
        "start_time": "2022-04-25T11:18:04.308Z"
      },
      {
        "duration": 0,
        "start_time": "2022-04-25T11:18:04.309Z"
      },
      {
        "duration": 0,
        "start_time": "2022-04-25T11:18:04.311Z"
      },
      {
        "duration": 0,
        "start_time": "2022-04-25T11:18:04.312Z"
      },
      {
        "duration": 0,
        "start_time": "2022-04-25T11:18:04.313Z"
      },
      {
        "duration": 0,
        "start_time": "2022-04-25T11:18:04.314Z"
      },
      {
        "duration": 0,
        "start_time": "2022-04-25T11:18:04.314Z"
      },
      {
        "duration": 0,
        "start_time": "2022-04-25T11:18:04.316Z"
      },
      {
        "duration": 0,
        "start_time": "2022-04-25T11:18:04.320Z"
      },
      {
        "duration": 0,
        "start_time": "2022-04-25T11:18:04.321Z"
      },
      {
        "duration": 0,
        "start_time": "2022-04-25T11:18:04.322Z"
      },
      {
        "duration": 0,
        "start_time": "2022-04-25T11:18:04.323Z"
      },
      {
        "duration": 0,
        "start_time": "2022-04-25T11:18:04.325Z"
      },
      {
        "duration": 0,
        "start_time": "2022-04-25T11:18:04.325Z"
      },
      {
        "duration": 1,
        "start_time": "2022-04-25T11:18:04.326Z"
      },
      {
        "duration": 0,
        "start_time": "2022-04-25T11:18:04.328Z"
      },
      {
        "duration": 0,
        "start_time": "2022-04-25T11:18:04.329Z"
      },
      {
        "duration": 0,
        "start_time": "2022-04-25T11:18:04.330Z"
      },
      {
        "duration": 0,
        "start_time": "2022-04-25T11:18:04.331Z"
      },
      {
        "duration": 0,
        "start_time": "2022-04-25T11:18:04.332Z"
      },
      {
        "duration": 0,
        "start_time": "2022-04-25T11:18:04.334Z"
      },
      {
        "duration": 0,
        "start_time": "2022-04-25T11:18:04.335Z"
      },
      {
        "duration": 0,
        "start_time": "2022-04-25T11:18:04.336Z"
      },
      {
        "duration": 0,
        "start_time": "2022-04-25T11:18:04.338Z"
      },
      {
        "duration": 0,
        "start_time": "2022-04-25T11:18:04.339Z"
      },
      {
        "duration": 0,
        "start_time": "2022-04-25T11:18:04.393Z"
      },
      {
        "duration": 0,
        "start_time": "2022-04-25T11:18:04.394Z"
      },
      {
        "duration": 0,
        "start_time": "2022-04-25T11:18:04.396Z"
      },
      {
        "duration": 0,
        "start_time": "2022-04-25T11:18:04.397Z"
      },
      {
        "duration": 0,
        "start_time": "2022-04-25T11:18:04.398Z"
      },
      {
        "duration": 0,
        "start_time": "2022-04-25T11:18:04.399Z"
      },
      {
        "duration": 0,
        "start_time": "2022-04-25T11:18:04.400Z"
      },
      {
        "duration": 0,
        "start_time": "2022-04-25T11:18:04.401Z"
      },
      {
        "duration": 0,
        "start_time": "2022-04-25T11:18:04.402Z"
      },
      {
        "duration": 1,
        "start_time": "2022-04-25T11:18:04.403Z"
      },
      {
        "duration": 0,
        "start_time": "2022-04-25T11:18:04.405Z"
      },
      {
        "duration": 0,
        "start_time": "2022-04-25T11:18:04.406Z"
      },
      {
        "duration": 0,
        "start_time": "2022-04-25T11:18:04.407Z"
      },
      {
        "duration": 0,
        "start_time": "2022-04-25T11:18:04.408Z"
      },
      {
        "duration": 13,
        "start_time": "2022-04-25T11:18:27.224Z"
      },
      {
        "duration": 3,
        "start_time": "2022-04-25T11:19:07.752Z"
      },
      {
        "duration": 12,
        "start_time": "2022-04-25T11:19:08.232Z"
      },
      {
        "duration": 3566,
        "start_time": "2022-04-25T11:19:56.714Z"
      },
      {
        "duration": 5,
        "start_time": "2022-04-25T11:20:38.516Z"
      },
      {
        "duration": 153,
        "start_time": "2022-04-25T11:23:14.302Z"
      },
      {
        "duration": 13,
        "start_time": "2022-04-25T11:29:04.016Z"
      },
      {
        "duration": 5,
        "start_time": "2022-04-25T11:30:06.440Z"
      },
      {
        "duration": 9,
        "start_time": "2022-04-25T11:30:11.837Z"
      },
      {
        "duration": 1389,
        "start_time": "2022-04-25T11:30:27.306Z"
      },
      {
        "duration": 46,
        "start_time": "2022-04-25T11:30:28.698Z"
      },
      {
        "duration": 8,
        "start_time": "2022-04-25T11:30:28.746Z"
      },
      {
        "duration": 13,
        "start_time": "2022-04-25T11:30:28.757Z"
      },
      {
        "duration": 21,
        "start_time": "2022-04-25T11:30:28.772Z"
      },
      {
        "duration": 14,
        "start_time": "2022-04-25T11:30:28.795Z"
      },
      {
        "duration": 4,
        "start_time": "2022-04-25T11:30:28.810Z"
      },
      {
        "duration": 21,
        "start_time": "2022-04-25T11:30:28.816Z"
      },
      {
        "duration": 14,
        "start_time": "2022-04-25T11:30:28.839Z"
      },
      {
        "duration": 6,
        "start_time": "2022-04-25T11:30:28.856Z"
      },
      {
        "duration": 30,
        "start_time": "2022-04-25T11:30:28.863Z"
      },
      {
        "duration": 3,
        "start_time": "2022-04-25T11:30:28.895Z"
      },
      {
        "duration": 3,
        "start_time": "2022-04-25T11:30:28.901Z"
      },
      {
        "duration": 34,
        "start_time": "2022-04-25T11:30:28.906Z"
      },
      {
        "duration": 893,
        "start_time": "2022-04-25T11:30:28.942Z"
      },
      {
        "duration": 60,
        "start_time": "2022-04-25T11:30:29.837Z"
      },
      {
        "duration": 796,
        "start_time": "2022-04-25T11:30:29.900Z"
      },
      {
        "duration": 144,
        "start_time": "2022-04-25T11:30:30.697Z"
      },
      {
        "duration": 151,
        "start_time": "2022-04-25T11:30:30.843Z"
      },
      {
        "duration": 6,
        "start_time": "2022-04-25T11:30:30.996Z"
      },
      {
        "duration": 10,
        "start_time": "2022-04-25T11:30:31.004Z"
      },
      {
        "duration": 12,
        "start_time": "2022-04-25T11:30:31.016Z"
      },
      {
        "duration": 70,
        "start_time": "2022-04-25T11:30:31.030Z"
      },
      {
        "duration": 470,
        "start_time": "2022-04-25T11:30:31.102Z"
      },
      {
        "duration": 22,
        "start_time": "2022-04-25T11:30:31.574Z"
      },
      {
        "duration": 99,
        "start_time": "2022-04-25T11:30:31.598Z"
      },
      {
        "duration": 585,
        "start_time": "2022-04-25T11:30:31.700Z"
      },
      {
        "duration": 11,
        "start_time": "2022-04-25T11:30:32.288Z"
      },
      {
        "duration": 25,
        "start_time": "2022-04-25T11:30:32.301Z"
      },
      {
        "duration": 12,
        "start_time": "2022-04-25T11:30:32.327Z"
      },
      {
        "duration": 6,
        "start_time": "2022-04-25T11:30:32.340Z"
      },
      {
        "duration": 288,
        "start_time": "2022-04-25T11:30:32.348Z"
      },
      {
        "duration": 57,
        "start_time": "2022-04-25T11:30:32.637Z"
      },
      {
        "duration": 98,
        "start_time": "2022-04-25T11:30:32.696Z"
      },
      {
        "duration": 20,
        "start_time": "2022-04-25T11:30:32.796Z"
      },
      {
        "duration": 179,
        "start_time": "2022-04-25T11:30:32.819Z"
      },
      {
        "duration": 497,
        "start_time": "2022-04-25T11:30:33.000Z"
      },
      {
        "duration": 20,
        "start_time": "2022-04-25T11:30:33.498Z"
      },
      {
        "duration": 373,
        "start_time": "2022-04-25T11:30:33.520Z"
      },
      {
        "duration": 5,
        "start_time": "2022-04-25T11:30:33.895Z"
      },
      {
        "duration": 24,
        "start_time": "2022-04-25T11:30:33.901Z"
      },
      {
        "duration": 11,
        "start_time": "2022-04-25T11:30:33.927Z"
      },
      {
        "duration": 312435,
        "start_time": "2022-04-25T11:30:33.940Z"
      },
      {
        "duration": 677,
        "start_time": "2022-04-25T11:35:46.377Z"
      },
      {
        "duration": 58,
        "start_time": "2022-04-25T11:35:47.055Z"
      },
      {
        "duration": 0,
        "start_time": "2022-04-25T11:35:47.242Z"
      },
      {
        "duration": 187,
        "start_time": "2022-04-25T11:37:01.487Z"
      },
      {
        "duration": 216,
        "start_time": "2022-04-25T11:37:43.895Z"
      },
      {
        "duration": 142,
        "start_time": "2022-04-25T11:37:57.536Z"
      },
      {
        "duration": 188,
        "start_time": "2022-04-25T11:38:05.943Z"
      },
      {
        "duration": 156,
        "start_time": "2022-04-25T11:38:15.536Z"
      },
      {
        "duration": 177,
        "start_time": "2022-04-25T11:38:58.802Z"
      },
      {
        "duration": 178,
        "start_time": "2022-04-25T11:41:39.748Z"
      },
      {
        "duration": 10,
        "start_time": "2022-04-25T11:42:49.837Z"
      },
      {
        "duration": 3,
        "start_time": "2022-04-25T11:43:38.839Z"
      },
      {
        "duration": 10,
        "start_time": "2022-04-25T11:43:47.199Z"
      },
      {
        "duration": 10,
        "start_time": "2022-04-25T11:43:59.095Z"
      },
      {
        "duration": 258,
        "start_time": "2022-04-25T11:44:05.911Z"
      },
      {
        "duration": 181,
        "start_time": "2022-04-25T11:44:13.982Z"
      },
      {
        "duration": 163,
        "start_time": "2022-04-25T11:44:22.259Z"
      },
      {
        "duration": 179,
        "start_time": "2022-04-25T11:46:45.759Z"
      },
      {
        "duration": 231,
        "start_time": "2022-04-25T11:47:36.314Z"
      },
      {
        "duration": 273,
        "start_time": "2022-04-25T11:48:42.572Z"
      },
      {
        "duration": 10,
        "start_time": "2022-04-25T11:48:54.679Z"
      },
      {
        "duration": 172,
        "start_time": "2022-04-25T11:49:01.141Z"
      },
      {
        "duration": 58,
        "start_time": "2022-04-25T11:49:18.614Z"
      },
      {
        "duration": 18,
        "start_time": "2022-04-25T11:49:39.182Z"
      },
      {
        "duration": 188,
        "start_time": "2022-04-25T11:49:55.294Z"
      },
      {
        "duration": 5,
        "start_time": "2022-04-25T11:50:46.577Z"
      },
      {
        "duration": 11,
        "start_time": "2022-04-25T11:50:51.927Z"
      },
      {
        "duration": 50,
        "start_time": "2022-04-25T11:51:08.680Z"
      },
      {
        "duration": 10,
        "start_time": "2022-04-25T11:51:09.933Z"
      },
      {
        "duration": 1625,
        "start_time": "2022-04-25T11:51:38.249Z"
      },
      {
        "duration": 1027,
        "start_time": "2022-04-25T11:51:45.544Z"
      },
      {
        "duration": 184,
        "start_time": "2022-04-25T11:52:10.160Z"
      },
      {
        "duration": 382,
        "start_time": "2022-04-25T11:52:11.088Z"
      },
      {
        "duration": 333,
        "start_time": "2022-04-25T11:53:31.825Z"
      },
      {
        "duration": 12,
        "start_time": "2022-04-25T11:58:54.255Z"
      },
      {
        "duration": 5,
        "start_time": "2022-04-25T11:59:24.023Z"
      },
      {
        "duration": 131,
        "start_time": "2022-04-25T11:59:36.000Z"
      },
      {
        "duration": 125,
        "start_time": "2022-04-25T12:00:48.097Z"
      },
      {
        "duration": 744,
        "start_time": "2022-04-25T12:03:52.937Z"
      },
      {
        "duration": 698,
        "start_time": "2022-04-25T12:04:02.926Z"
      },
      {
        "duration": 681,
        "start_time": "2022-04-25T12:04:06.436Z"
      },
      {
        "duration": 668,
        "start_time": "2022-04-25T12:04:09.517Z"
      },
      {
        "duration": 652,
        "start_time": "2022-04-25T12:04:58.022Z"
      },
      {
        "duration": 163,
        "start_time": "2022-04-25T12:05:37.229Z"
      },
      {
        "duration": 148,
        "start_time": "2022-04-25T12:06:02.622Z"
      },
      {
        "duration": 130,
        "start_time": "2022-04-25T12:06:06.464Z"
      },
      {
        "duration": 47,
        "start_time": "2022-04-25T14:09:53.929Z"
      },
      {
        "duration": 1660,
        "start_time": "2022-04-25T14:10:04.801Z"
      },
      {
        "duration": 43,
        "start_time": "2022-04-25T14:10:06.464Z"
      },
      {
        "duration": 9,
        "start_time": "2022-04-25T14:10:06.509Z"
      },
      {
        "duration": 19,
        "start_time": "2022-04-25T14:10:06.521Z"
      },
      {
        "duration": 5,
        "start_time": "2022-04-25T14:10:06.542Z"
      },
      {
        "duration": 33,
        "start_time": "2022-04-25T14:10:06.549Z"
      },
      {
        "duration": 3,
        "start_time": "2022-04-25T14:10:06.585Z"
      },
      {
        "duration": 29,
        "start_time": "2022-04-25T14:10:06.590Z"
      },
      {
        "duration": 14,
        "start_time": "2022-04-25T14:10:06.621Z"
      },
      {
        "duration": 9,
        "start_time": "2022-04-25T14:10:06.639Z"
      },
      {
        "duration": 28,
        "start_time": "2022-04-25T14:10:06.650Z"
      },
      {
        "duration": 3,
        "start_time": "2022-04-25T14:10:06.680Z"
      },
      {
        "duration": 6,
        "start_time": "2022-04-25T14:10:06.685Z"
      },
      {
        "duration": 41,
        "start_time": "2022-04-25T14:10:06.692Z"
      },
      {
        "duration": 739,
        "start_time": "2022-04-25T14:10:06.735Z"
      },
      {
        "duration": 99,
        "start_time": "2022-04-25T14:10:07.476Z"
      },
      {
        "duration": 224,
        "start_time": "2022-04-25T14:10:07.577Z"
      },
      {
        "duration": 110,
        "start_time": "2022-04-25T14:10:07.802Z"
      },
      {
        "duration": 111,
        "start_time": "2022-04-25T14:10:07.914Z"
      },
      {
        "duration": 5,
        "start_time": "2022-04-25T14:10:08.027Z"
      },
      {
        "duration": 11,
        "start_time": "2022-04-25T14:10:08.034Z"
      },
      {
        "duration": 27,
        "start_time": "2022-04-25T14:10:08.047Z"
      },
      {
        "duration": 103,
        "start_time": "2022-04-25T14:10:08.076Z"
      },
      {
        "duration": 431,
        "start_time": "2022-04-25T14:10:08.181Z"
      },
      {
        "duration": 14,
        "start_time": "2022-04-25T14:10:08.614Z"
      },
      {
        "duration": 49,
        "start_time": "2022-04-25T14:10:08.630Z"
      },
      {
        "duration": 660,
        "start_time": "2022-04-25T14:10:08.682Z"
      },
      {
        "duration": 13,
        "start_time": "2022-04-25T14:10:09.346Z"
      },
      {
        "duration": 18,
        "start_time": "2022-04-25T14:10:09.361Z"
      },
      {
        "duration": 10,
        "start_time": "2022-04-25T14:10:09.380Z"
      },
      {
        "duration": 7,
        "start_time": "2022-04-25T14:10:09.392Z"
      },
      {
        "duration": 200,
        "start_time": "2022-04-25T14:10:09.401Z"
      },
      {
        "duration": 76,
        "start_time": "2022-04-25T14:10:09.603Z"
      },
      {
        "duration": 94,
        "start_time": "2022-04-25T14:10:09.681Z"
      },
      {
        "duration": 99,
        "start_time": "2022-04-25T14:10:09.777Z"
      },
      {
        "duration": 109,
        "start_time": "2022-04-25T14:10:09.878Z"
      },
      {
        "duration": 348,
        "start_time": "2022-04-25T14:10:09.989Z"
      },
      {
        "duration": 22,
        "start_time": "2022-04-25T14:10:10.339Z"
      },
      {
        "duration": 356,
        "start_time": "2022-04-25T14:10:10.373Z"
      },
      {
        "duration": 5,
        "start_time": "2022-04-25T14:10:10.731Z"
      },
      {
        "duration": 7,
        "start_time": "2022-04-25T14:10:10.738Z"
      },
      {
        "duration": 7,
        "start_time": "2022-04-25T14:10:10.747Z"
      },
      {
        "duration": 274717,
        "start_time": "2022-04-25T14:10:10.756Z"
      },
      {
        "duration": 586,
        "start_time": "2022-04-25T14:14:46.260Z"
      },
      {
        "duration": 52,
        "start_time": "2022-04-25T14:14:46.848Z"
      },
      {
        "duration": 130,
        "start_time": "2022-04-25T14:14:46.902Z"
      }
    ],
    "kernelspec": {
      "display_name": "Python 3 (ipykernel)",
      "language": "python",
      "name": "python3"
    },
    "language_info": {
      "codemirror_mode": {
        "name": "ipython",
        "version": 3
      },
      "file_extension": ".py",
      "mimetype": "text/x-python",
      "name": "python",
      "nbconvert_exporter": "python",
      "pygments_lexer": "ipython3",
      "version": "3.9.5"
    },
    "toc": {
      "base_numbering": 1,
      "nav_menu": {},
      "number_sections": true,
      "sideBar": true,
      "skip_h1_title": true,
      "title_cell": "Содержание",
      "title_sidebar": "Contents",
      "toc_cell": true,
      "toc_position": {
        "height": "calc(100% - 180px)",
        "left": "10px",
        "top": "150px",
        "width": "284.653px"
      },
      "toc_section_display": true,
      "toc_window_display": true
    },
    "colab": {
      "name": "bank_churn_model.ipynb",
      "provenance": [],
      "collapsed_sections": [
        "O_SB2i43qc4W"
      ]
    }
  },
  "nbformat": 4,
  "nbformat_minor": 0
}